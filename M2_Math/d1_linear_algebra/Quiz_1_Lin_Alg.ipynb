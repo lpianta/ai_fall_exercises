{
 "cells": [
  {
   "cell_type": "markdown",
   "metadata": {},
   "source": [
    "## Linear Algebra Quiz #1\n",
    "\n",
    "![title](./img/1_0.jpeg)\n",
    "\n",
    "We strongly suggest working with numpy :)"
   ]
  },
  {
   "cell_type": "code",
   "execution_count": 1,
   "metadata": {},
   "outputs": [],
   "source": [
    "#Do your imports here\n",
    "import numpy as np\n",
    "import math"
   ]
  },
  {
   "cell_type": "markdown",
   "metadata": {},
   "source": [
    "![title](./img/1_1.png)"
   ]
  },
  {
   "cell_type": "code",
   "execution_count": 2,
   "metadata": {},
   "outputs": [],
   "source": [
    "# type a function that given a 3_dimensional vector it is able to calculate its magnitude\n",
    "\n",
    "def magnitude_3(a,b,c):\n",
    "    print(math.sqrt(a**2 + b**2 + c**2))\n",
    "\n",
    "\n",
    "\n",
    "# type a function that given a n_dimensional vector it is able to calculate its magnitude\n",
    "# if you want to try this from python (not jupyter notebook) https://docs.python.org/3/library/argparse.html would be a good addition\n",
    "# if you are doing this from a jupyter notebook only, you can try to promt the user for an input  \n",
    "\n",
    "def magnitude_complete(*inputs):\n",
    "    print(math.sqrt(sum(pow(int(element),2) for element in inputs)))"
   ]
  },
  {
   "cell_type": "markdown",
   "metadata": {},
   "source": [
    "uncomment the following line when you are ready to test"
   ]
  },
  {
   "cell_type": "code",
   "execution_count": 3,
   "metadata": {},
   "outputs": [],
   "source": [
    "#magnitude_complete(1) == 1.0\n",
    "#magnitude_complete(1, 2) >= 2.236\n",
    "#magnitude_complete(1,2,3) >= 3.741\n",
    "#magnitude_complete(1,2,3,4,5) >= 5.477\n",
    "#magnitude_complete(1,2,3,4,5) >= 7.416"
   ]
  },
  {
   "cell_type": "markdown",
   "metadata": {},
   "source": [
    "![title](./img/1_2.png)"
   ]
  },
  {
   "cell_type": "code",
   "execution_count": 4,
   "metadata": {},
   "outputs": [
    {
     "output_type": "stream",
     "name": "stdout",
     "text": [
      "[1 0]\n"
     ]
    },
    {
     "output_type": "execute_result",
     "data": {
      "text/plain": [
       "1.0"
      ]
     },
     "metadata": {},
     "execution_count": 4
    }
   ],
   "source": [
    "def magnitude_vectors(a, b):\n",
    "    #checks that size is equal\n",
    "    if len(a) == len(b):\n",
    "    #returns the magnitude\n",
    "        ab = np.add(a, b)\n",
    "        print(ab)\n",
    "        magnitude = (math.sqrt(sum(pow(int(element),2) for element in ab)))\n",
    "        return magnitude\n",
    "\n",
    "v1 = [5, 1]\n",
    "v2 = [-4, -1]\n",
    "\n",
    "magnitude_vectors(v1, v2)"
   ]
  },
  {
   "cell_type": "markdown",
   "metadata": {},
   "source": [
    "![title](./img/1_3.png)"
   ]
  },
  {
   "cell_type": "code",
   "execution_count": 7,
   "metadata": {},
   "outputs": [
    {
     "output_type": "stream",
     "name": "stdout",
     "text": [
      "The magnitude of a + b is 1.0 and the direction is [1 0]\n"
     ]
    }
   ],
   "source": [
    "def direction_vectors(a, b):\n",
    "\n",
    "    if len(a) == len(b):\n",
    "        ab = np.add(a, b)\n",
    "        \n",
    "        return ab\n",
    "direction_vectors(v1, v2)\n",
    "\n",
    "\n",
    "# or if you want to do it all in one batch:\n",
    "def magdir_vectors(a, b):\n",
    "    #checks that size is equal\n",
    "    if len(a) == len(b):\n",
    "        ab = np.add(a, b)\n",
    "        magnitude = (math.sqrt(sum(pow(int(element),2) for element in ab)))\n",
    "        direction = ab\n",
    "    #returns the magnitude and direction in a nicely printed format \n",
    "        print(f'The magnitude of a + b is {magnitude} and the direction is {direction}')\n",
    "    #\"The magnitude of a + b is X and the direction is Y\"\n",
    "magdir_vectors(v1, v2)"
   ]
  },
  {
   "cell_type": "markdown",
   "metadata": {},
   "source": [
    "![title](./img/1_4.png)\n",
    "- What is the magnitude of αx⃗? \n",
    "- If α>0, will the direction of the resulting vector change?\n",
    "- If α<0, will the direction of the resulting vector change?\n",
    "- If −1<α<1, will ∥αx⃗∥  increase, decrease or stay the same?"
   ]
  },
  {
   "cell_type": "code",
   "execution_count": 6,
   "metadata": {},
   "outputs": [],
   "source": [
    "def alpha_magnitude(alpha, b):\n",
    "    \n",
    "    np_b = np.array(b)\n",
    "    new_vector = alpha * b\n",
    "    if np.sign(np_b[0]) == np.sign(new_vector[0]):\n",
    "        print('No directional change')\n",
    "    else:\n",
    "        print('The direction has changed 180 degrees')\n",
    "    return (new_vector, np.linalg.norm(new_vector))"
   ]
  }
 ],
 "metadata": {
  "kernelspec": {
   "display_name": "Python 3",
   "language": "python",
   "name": "python3"
  },
  "language_info": {
   "codemirror_mode": {
    "name": "ipython",
    "version": 3
   },
   "file_extension": ".py",
   "mimetype": "text/x-python",
   "name": "python",
   "nbconvert_exporter": "python",
   "pygments_lexer": "ipython3",
   "version": "3.8.6-final"
  }
 },
 "nbformat": 4,
 "nbformat_minor": 2
}
{
 "cells": [
  {
   "cell_type": "code",
   "execution_count": 4,
   "id": "toxic-return",
   "metadata": {},
   "outputs": [],
   "source": [
    "# import libraries\n",
    "\n",
    "import cv2\n",
    "import mediapipe as mp\n",
    "import numpy as np\n",
    "import matplotlib.pyplot as plt\n",
    "\n",
    "mp_holistic = mp.solutions.holistic\n",
    "mp_drawing = mp.solutions.drawing_utils"
   ]
  },
  {
   "cell_type": "code",
   "execution_count": 31,
   "id": "mediterranean-departure",
   "metadata": {},
   "outputs": [],
   "source": [
    "cap.release()\n",
    "cv2.destroyAllWindows()"
   ]
  },
  {
   "cell_type": "code",
   "execution_count": 6,
   "id": "empty-taxation",
   "metadata": {},
   "outputs": [],
   "source": [
    "# index of landmarks in right and left eye\n",
    "\n",
    "left_eye_lm = [130, 247, 30, 29, 27, 28, 56, 190, 243, 112, 26, 22, 23, 24, 110, 25]\n",
    "right_eye_lm = [359, 467, 260, 259, 257, 258, 286, 414, 463, 341, 256, 252, 253, 254, 339, 255]"
   ]
  },
  {
   "cell_type": "code",
   "execution_count": 38,
   "id": "individual-consortium",
   "metadata": {},
   "outputs": [],
   "source": [
    "cap = cv2.VideoCapture(0)\n",
    "with mp_holistic.Holistic(\n",
    "    min_detection_confidence=0.5,\n",
    "    min_tracking_confidence=0.5) as holistic:\n",
    "    while cap.isOpened():\n",
    "        ret, frame = cap.read()\n",
    "        height, width, _ = frame.shape\n",
    "        # Flip the image horizontally for a later selfie-view display, and convert\n",
    "        # the BGR image to RGB.\n",
    "        frame = cv2.cvtColor(frame, cv2.COLOR_BGR2RGB)\n",
    "        # To improve performance, optionally mark the image as not writeable to\n",
    "        # pass by reference.\n",
    "        frame.flags.writeable = False\n",
    "        results = holistic.process(frame)\n",
    "\n",
    "        # get eyes coords\n",
    "        #left_eye = eye_coords(frame, left_eye_lm)\n",
    "        #right_eye = eye_coords(frame, right_eye_lm)\n",
    "        left_eye_x = []\n",
    "        left_eye_y = []\n",
    "        for lm in left_eye_lm:\n",
    "            # mp return normalized coords, so we multiply\n",
    "            left_eye_x.append(int((results.face_landmarks.landmark[lm].x) * width))\n",
    "            left_eye_y.append(int((results.face_landmarks.landmark[lm].y) * height))\n",
    "        left_eye = list(zip(left_eye_x, left_eye_y))\n",
    "\n",
    "        right_eye_x = []\n",
    "        right_eye_y = []\n",
    "        for lm in right_eye_lm:\n",
    "            right_eye_x.append(int((results.face_landmarks.landmark[lm].x) * width))\n",
    "            right_eye_y.append(int((results.face_landmarks.landmark[lm].y) * height))\n",
    "        right_eye = list(zip(right_eye_x, right_eye_y))\n",
    "        left_eye = np.array(left_eye, dtype=\"int\")\n",
    "        right_eye = np.array(right_eye, dtype=\"int\")\n",
    "\n",
    "        # find convex hull for the eyes   \n",
    "        leye_hull = cv2.convexHull(left_eye)\n",
    "        reye_hull = cv2.convexHull(right_eye)\n",
    "\n",
    "        # Draw convex hull\n",
    "        frame.flags.writeable = True\n",
    "        cv2.drawContours(frame, [leye_hull], -1, (0, 255, 0), 2)\n",
    "        cv2.drawContours(frame, [reye_hull], -1, (0, 255, 0), 2)\n",
    "\n",
    "        frame = cv2.cvtColor(frame, cv2.COLOR_RGB2BGR)\n",
    "\n",
    "        cv2.imshow('Webcam Feed', frame)\n",
    "\n",
    "        if cv2.waitKey(10) & 0xFF == ord('q'):\n",
    "            break\n",
    "\n",
    "cap.release()\n",
    "cv2.destroyAllWindows()"
   ]
  }
 ],
 "metadata": {
  "kernelspec": {
   "display_name": "Python 3",
   "language": "python",
   "name": "python3"
  },
  "language_info": {
   "codemirror_mode": {
    "name": "ipython",
    "version": 3
   },
   "file_extension": ".py",
   "mimetype": "text/x-python",
   "name": "python",
   "nbconvert_exporter": "python",
   "pygments_lexer": "ipython3",
   "version": "3.8.8"
  }
 },
 "nbformat": 4,
 "nbformat_minor": 5
}

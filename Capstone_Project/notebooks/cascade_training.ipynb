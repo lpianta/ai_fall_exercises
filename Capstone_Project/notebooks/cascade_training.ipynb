{
 "cells": [
  {
   "cell_type": "code",
   "execution_count": 1,
   "id": "285bd8e5",
   "metadata": {},
   "outputs": [],
   "source": [
    "import os\n",
    "import cv2"
   ]
  },
  {
   "cell_type": "code",
   "execution_count": 6,
   "id": "54076257",
   "metadata": {},
   "outputs": [],
   "source": [
    "def negative_file():\n",
    "    with open(\"../haarcascade/neg.txt\", \"w\") as f:\n",
    "        for filename in os.listdir(\"../haarcascade/negative/\"):\n",
    "            f.write(\"negative/\" + filename + \"\\n\")\n",
    "\n",
    "#negative_file()"
   ]
  },
  {
   "cell_type": "code",
   "execution_count": 27,
   "id": "008bca61",
   "metadata": {},
   "outputs": [
    {
     "data": {
      "text/plain": [
       "-1"
      ]
     },
     "execution_count": 27,
     "metadata": {},
     "output_type": "execute_result"
    }
   ],
   "source": [
    "phone_classifier = cv2.CascadeClassifier(\"../haarcascade/cascade/cascade.xml\")\n",
    "\n",
    "cap = cv2.VideoCapture(\"../media/video/face_elen.mp4\")\n",
    "\n",
    "\n",
    "while(cap.isOpened()):\n",
    "    ret, frame = cap.read()\n",
    "    if frame is not None:\n",
    "        frame = cv2.resize(frame, (640, 480))\n",
    "        #frame = cv2.flip(frame, 0)\n",
    "        #frame = cv2.flip(frame, 1)\n",
    "        img = frame.copy()\n",
    "        gray_img = cv2.cvtColor(img, cv2.COLOR_BGR2GRAY)\n",
    "        \n",
    "        phone = phone_classifier.detectMultiScale(gray_img, minNeighbors=40)\n",
    "        \n",
    "        \n",
    "        for (x, y, w, h) in phone:\n",
    "            cv2.rectangle(img, (x, y), (x+w, y+h), (0, 255, 0), 2)\n",
    "        \n",
    "        \n",
    "        cv2.imshow('frame',img)        \n",
    "        if cv2.waitKey(1) & 0xFF == ord('q'):\n",
    "            break\n",
    "    else:\n",
    "        break\n",
    "\n",
    "\n",
    "cap.release()\n",
    "cv2.waitKey(0)\n",
    "cv2.destroyAllWindows()\n",
    "cv2.waitKey(1)\n"
   ]
  }
 ],
 "metadata": {
  "kernelspec": {
   "display_name": "Python 3",
   "language": "python",
   "name": "python3"
  },
  "language_info": {
   "codemirror_mode": {
    "name": "ipython",
    "version": 3
   },
   "file_extension": ".py",
   "mimetype": "text/x-python",
   "name": "python",
   "nbconvert_exporter": "python",
   "pygments_lexer": "ipython3",
   "version": "3.7.10"
  }
 },
 "nbformat": 4,
 "nbformat_minor": 5
}

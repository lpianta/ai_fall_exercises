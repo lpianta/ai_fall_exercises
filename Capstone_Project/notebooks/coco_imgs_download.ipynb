{
 "cells": [
  {
   "cell_type": "code",
   "execution_count": null,
   "id": "4683f5b7",
   "metadata": {},
   "outputs": [],
   "source": [
    "from pycocotools.coco import COCO\n",
    "import requests"
   ]
  },
  {
   "cell_type": "code",
   "execution_count": null,
   "id": "9be3d915",
   "metadata": {},
   "outputs": [],
   "source": [
    "# instantiate COCO specifying the annotations json path\n",
    "coco = COCO('../data/imgs/coco_cellphone/annotations/instances_train2017.json')\n",
    "# Specify a list of category names of interest\n",
    "catIds = coco.getCatIds(catNms=['cell phone'])\n",
    "# Get the corresponding image ids and images using loadImgs\n",
    "imgIds = coco.getImgIds(catIds=catIds)\n",
    "images = coco.loadImgs(imgIds)"
   ]
  },
  {
   "cell_type": "code",
   "execution_count": null,
   "id": "c77714cf",
   "metadata": {},
   "outputs": [],
   "source": [
    "# Save the images into a local folder\n",
    "for im in images:\n",
    "    img_data = requests.get(im['coco_url']).content\n",
    "    with open('../data/imgs/coco_cellphone/images/' + im['file_name'], 'wb') as handler:\n",
    "        handler.write(img_data)\n"
   ]
  }
 ],
 "metadata": {
  "kernelspec": {
   "display_name": "Python 3",
   "language": "python",
   "name": "python3"
  },
  "language_info": {
   "codemirror_mode": {
    "name": "ipython",
    "version": 3
   },
   "file_extension": ".py",
   "mimetype": "text/x-python",
   "name": "python",
   "nbconvert_exporter": "python",
   "pygments_lexer": "ipython3",
   "version": "3.7.10"
  }
 },
 "nbformat": 4,
 "nbformat_minor": 5
}

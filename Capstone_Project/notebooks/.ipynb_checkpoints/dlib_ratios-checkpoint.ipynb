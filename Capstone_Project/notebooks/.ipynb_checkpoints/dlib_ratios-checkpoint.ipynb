{
 "cells": [
  {
   "cell_type": "code",
   "execution_count": 1,
   "id": "paperback-baker",
   "metadata": {},
   "outputs": [],
   "source": [
    "# import libraries\n",
    "\n",
    "import dlib\n",
    "import cv2\n",
    "import numpy as np\n",
    "from scipy.spatial import distance as dist"
   ]
  },
  {
   "cell_type": "code",
   "execution_count": 8,
   "id": "dimensional-checkout",
   "metadata": {},
   "outputs": [],
   "source": [
    "cap.release()\n",
    "cv2.destroyAllWindows()"
   ]
  },
  {
   "cell_type": "code",
   "execution_count": 6,
   "id": "hawaiian-reporter",
   "metadata": {},
   "outputs": [],
   "source": [
    "# function for EAR\n",
    "\n",
    "def eye_aspect_ratio(eye):\n",
    "    # euclidean distances between the two sets of vertical eye landmarks (x, y)-coordinates\n",
    "    A = dist.euclidean(eye[1], eye[5])\n",
    "    B = dist.euclidean(eye[2], eye[4])\n",
    "    # euclidean distance between the horizontal eye landmark (x, y)-coordinates\n",
    "    C = dist.euclidean(eye[0], eye[3])\n",
    "    # eye aspect ratio\n",
    "    ear = (A + B) / (2.0 * C)\n",
    "    return ear"
   ]
  },
  {
   "cell_type": "code",
   "execution_count": 16,
   "id": "honey-principle",
   "metadata": {},
   "outputs": [],
   "source": [
    "# function for MAR\n",
    "\n",
    "def mouth_aspect_ratio(mouth):\n",
    "    # euclidean distances between the two sets of vertical mouth landmarks (x, y)-coordinates\n",
    "    A = dist.euclidean(mouth[2], mouth[10])\n",
    "    B = dist.euclidean(mouth[4], mouth[8])\n",
    "    # euclidean distance between the horizontal mouth landmark (x, y)-coordinates\n",
    "    C = dist.euclidean(mouth[0], mouth[6])\n",
    "    # mouth aspect ratio\n",
    "    mar = (A + B) / (2.0 * C)\n",
    "    return mar"
   ]
  },
  {
   "cell_type": "code",
   "execution_count": 18,
   "id": "latter-registration",
   "metadata": {},
   "outputs": [
    {
     "name": "stderr",
     "output_type": "stream",
     "text": [
      "<ipython-input-6-9145a8e54719>:10: RuntimeWarning: invalid value encountered in double_scalars\n",
      "  ear = (A + B) / (2.0 * C)\n"
     ]
    }
   ],
   "source": [
    "# initialize detector and predictor\n",
    "faces_bboxes = dlib.get_frontal_face_detector()\n",
    "landmark_predictor = dlib.shape_predictor(\"../models/dlib_shape_predictor_68_face_landmarks.dat\")\n",
    "\n",
    "\n",
    "# open videocapture from the webcam\n",
    "cap = cv2.VideoCapture(0)\n",
    "while cap.isOpened():\n",
    "    ret, frame = cap.read()\n",
    "    # convert frame to grayscale\n",
    "    gray = cv2.cvtColor(frame, cv2.COLOR_BGR2GRAY)\n",
    "\n",
    "    # find faces\n",
    "    faces = faces_bboxes(gray, 0)\n",
    "\n",
    "    # initialize empty array with shape (68, 2) (the predictor return 68 facemarks x y coordinates)\n",
    "    coords = np.zeros((68, 2), dtype=\"int\") # need to specify the datatype for convexHull to work\n",
    "\n",
    "    # loop over the bounding box\n",
    "    for face in faces:\n",
    "        # find landmark for every bounding box\n",
    "        landmarks = landmark_predictor(gray, face)\n",
    "        # loop over landmarks to update the coordinates array\n",
    "        for i in range(0, landmarks.num_parts):\n",
    "            coords[i] = (landmarks.part(i).x, landmarks.part(i).y)\n",
    "\n",
    "    # slice coords to find landmarks of eyes and mouth\n",
    "    left_eye = coords[42:48]\n",
    "    right_eye = coords[36:42]\n",
    "    mouth = coords[48:68]\n",
    "    \n",
    "    # find left and right EAR\n",
    "    left_ear = eye_aspect_ratio(left_eye)\n",
    "    right_ear = eye_aspect_ratio(right_eye)\n",
    "    \n",
    "    # average of both EARs\n",
    "    ear = (left_ear + right_ear) / 2\n",
    "\n",
    "    # find MAR\n",
    "    mar = mouth_aspect_ratio(mouth)\n",
    "\n",
    "    # find convex hull\n",
    "    leye_hull = cv2.convexHull(left_eye)\n",
    "    reye_hull = cv2.convexHull(right_eye)\n",
    "    mouth_hull = cv2.convexHull(mouth)\n",
    "    \n",
    "    # draw eye and mouth contours\n",
    "    cv2.drawContours(frame, [leye_hull], -1, (0, 255, 0), 2)\n",
    "    cv2.drawContours(frame, [reye_hull], -1, (0, 255, 0), 2)\n",
    "    cv2.drawContours(frame, [mouth_hull], -1, (0, 255, 0), 2)\n",
    "    \n",
    "    # print EAR and MAR on screen\n",
    "    cv2.putText(frame, f\"EAR: {round(ear, 2)}\", (20, 20), cv2.FONT_HERSHEY_PLAIN, 2, (0, 0, 255))\n",
    "    cv2.putText(frame, f\"MAR: {round(mar, 2)}\", (20, 50), cv2.FONT_HERSHEY_PLAIN, 2, (0, 0, 255))\n",
    "\n",
    "\n",
    "    cv2.imshow('Webcam Feed', frame)\n",
    "    \n",
    "    if cv2.waitKey(10) & 0xFF == ord('q'):\n",
    "        break\n",
    "\n",
    "cap.release()\n",
    "cv2.destroyAllWindows()"
   ]
  }
 ],
 "metadata": {
  "kernelspec": {
   "display_name": "Python 3",
   "language": "python",
   "name": "python3"
  },
  "language_info": {
   "codemirror_mode": {
    "name": "ipython",
    "version": 3
   },
   "file_extension": ".py",
   "mimetype": "text/x-python",
   "name": "python",
   "nbconvert_exporter": "python",
   "pygments_lexer": "ipython3",
   "version": "3.8.8"
  }
 },
 "nbformat": 4,
 "nbformat_minor": 5
}

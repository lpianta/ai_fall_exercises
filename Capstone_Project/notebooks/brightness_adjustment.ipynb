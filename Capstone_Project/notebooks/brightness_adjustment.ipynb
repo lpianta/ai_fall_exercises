{
 "cells": [
  {
   "cell_type": "code",
   "execution_count": 4,
   "id": "equipped-brain",
   "metadata": {},
   "outputs": [],
   "source": [
    "import cv2\n",
    "import numpy as np"
   ]
  },
  {
   "cell_type": "code",
   "execution_count": 6,
   "id": "competent-kidney",
   "metadata": {},
   "outputs": [],
   "source": [
    "cap = cv2.VideoCapture(0)\n",
    "\n",
    "while cap.isOpened:\n",
    "    ret, frame = cap.read()\n",
    "    \n",
    "    bright_frame = cv2.addWeighted(frame, 2.5, np.zeros(frame.shape, frame.dtype), 0, 0)\n",
    "    \n",
    "    cv2.imshow('Feed', bright_frame)\n",
    "    \n",
    "    if cv2.waitKey(10) & 0xFF == ord('q'):\n",
    "        break\n",
    "        \n",
    "cap.release()\n",
    "cv2.destroyAllWindows()"
   ]
  }
 ],
 "metadata": {
  "kernelspec": {
   "display_name": "Python 3",
   "language": "python",
   "name": "python3"
  },
  "language_info": {
   "codemirror_mode": {
    "name": "ipython",
    "version": 3
   },
   "file_extension": ".py",
   "mimetype": "text/x-python",
   "name": "python",
   "nbconvert_exporter": "python",
   "pygments_lexer": "ipython3",
   "version": "3.8.8"
  }
 },
 "nbformat": 4,
 "nbformat_minor": 5
}

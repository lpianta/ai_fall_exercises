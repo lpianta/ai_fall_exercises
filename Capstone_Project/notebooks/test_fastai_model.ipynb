{
 "cells": [
  {
   "cell_type": "code",
   "execution_count": 1,
   "id": "dried-decline",
   "metadata": {},
   "outputs": [],
   "source": [
    "# import libraries\n",
    "\n",
    "from fastai.vision import *\n",
    "from fastai import *\n",
    "import cv2\n",
    "\n",
    "#defaults.device = torch.device(\"cpu\")"
   ]
  },
  {
   "cell_type": "code",
   "execution_count": 2,
   "id": "blond-muscle",
   "metadata": {},
   "outputs": [],
   "source": [
    "# load pretrained model\n",
    "\n",
    "model = load_learner(\"../models/\", \"fastai2.pkl\")"
   ]
  },
  {
   "cell_type": "code",
   "execution_count": 8,
   "id": "accessible-merchandise",
   "metadata": {},
   "outputs": [],
   "source": [
    "cap.release()\n",
    "cv2.destroyAllWindows()"
   ]
  },
  {
   "cell_type": "code",
   "execution_count": 8,
   "id": "existing-bikini",
   "metadata": {},
   "outputs": [],
   "source": [
    "#cap = cv2.VideoCapture(2)\n",
    "cap = cv2.VideoCapture(\"../media/video/me_first_test.mp4\")\n",
    "#cap = cv2.VideoCapture(\"http://192.168.2.117:8080/video\")\n",
    "\n",
    "while (cap.isOpened()):\n",
    "    _,frame = cap.read()\n",
    "    \n",
    "    frame = cv2.resize(frame, (640, 480))\n",
    "    frame = cv2.flip(frame, 0)\n",
    "    frame = cv2.flip(frame, 1)\n",
    "    \n",
    "    \n",
    "    t = torch.tensor(np.ascontiguousarray(np.flip(frame, 2)).transpose(2,0,1)).float()/255\n",
    "    img = Image(t)\n",
    "    \n",
    "    \n",
    "    prediction, idx, probability = model.predict(img)\n",
    "#     pred_to_text = {\"c0\": \"safe\",\n",
    "#                    \"c1\": \"texting_right\",\n",
    "#                    \"c2\": \"phonecall_right\",\n",
    "#                    \"c3\": \"texting_left\",\n",
    "#                    \"c4\": \"phonecall_left\",\n",
    "#                    \"c5\": \"radio\",\n",
    "#                    \"c6\": \"drinking\",\n",
    "#                    \"c7\": \"behind\",\n",
    "#                    \"c8\": \"hair_makeup\",\n",
    "#                    \"c9\": \"talking\"}\n",
    "    \n",
    "#     cv2.putText(frame, f'{pred_to_text[str(prediction)]}, {round(float(probability[idx]), 2)}', (20,20), cv2.FONT_ITALIC, 1, (0,255,0), 2, cv2.LINE_AA)\n",
    "    cv2.putText(frame, f'{prediction}, {round(float(probability[idx]), 2)}', (20,20), cv2.FONT_ITALIC, 1, (0,255,0), 2, cv2.LINE_AA)\n",
    "    cv2.imshow('test',frame)\n",
    "    \n",
    "    key = cv2.waitKey(10)\n",
    "    if key == ord('q') or key == 27:\n",
    "        break\n",
    "cap.release()\n",
    "cv2.destroyAllWindows()"
   ]
  }
 ],
 "metadata": {
  "kernelspec": {
   "display_name": "Python 3",
   "language": "python",
   "name": "python3"
  },
  "language_info": {
   "codemirror_mode": {
    "name": "ipython",
    "version": 3
   },
   "file_extension": ".py",
   "mimetype": "text/x-python",
   "name": "python",
   "nbconvert_exporter": "python",
   "pygments_lexer": "ipython3",
   "version": "3.7.10"
  }
 },
 "nbformat": 4,
 "nbformat_minor": 5
}

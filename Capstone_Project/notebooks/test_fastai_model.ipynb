{
 "cells": [
  {
   "cell_type": "code",
   "execution_count": 1,
   "id": "worthy-roller",
   "metadata": {},
   "outputs": [],
   "source": [
    "# import libraries\n",
    "\n",
    "from fastai.vision import *\n",
    "from fastai import *\n",
    "import cv2"
   ]
  },
  {
   "cell_type": "code",
   "execution_count": 3,
   "id": "after-comparison",
   "metadata": {},
   "outputs": [],
   "source": [
    "# load pretrained model\n",
    "\n",
    "model = load_learner(\"../models/\", \"fastai_model.pkl\")"
   ]
  },
  {
   "cell_type": "code",
   "execution_count": 5,
   "id": "working-colonial",
   "metadata": {},
   "outputs": [],
   "source": [
    "cap.release()\n",
    "cv2.destroyAllWindows()"
   ]
  },
  {
   "cell_type": "code",
   "execution_count": null,
   "id": "accessible-complaint",
   "metadata": {},
   "outputs": [],
   "source": [
    "# cap = cv2.VideoCapture(0)\n",
    "cap = cv2.VideoCapture(\"../media/video/distracted_4min.mp4\")\n",
    "while (cap.isOpened()):\n",
    "    _,frame = cap.read()\n",
    "    \n",
    "    frame = cv2.resize(frame, (640, 480))\n",
    "    \n",
    "    \n",
    "    t = torch.tensor(np.ascontiguousarray(np.flip(frame, 2)).transpose(2,0,1)).float()/255\n",
    "    img = Image(t)\n",
    "    \n",
    "    \n",
    "    prediction, idx, probability = model.predict(img)\n",
    "    pred_to_text = {\"c0\": \"safe\",\n",
    "                   \"c1\": \"texting_right\",\n",
    "                   \"c2\": \"phonecall_right\",\n",
    "                   \"c3\": \"texting_left\",\n",
    "                   \"c4\": \"phonecall_left\",\n",
    "                   \"c5\": \"radio\",\n",
    "                   \"c6\": \"drinking\",\n",
    "                   \"c7\": \"behind\",\n",
    "                   \"c8\": \"hair_makeup\",\n",
    "                   \"c9\": \"talking\"}\n",
    "    cv2.putText(frame, f'{pred_to_text[str(prediction)]}, {round(float(probability[idx]), 2)}', (20,20), cv2.FONT_ITALIC, 1, (0,255,0), 2, cv2.LINE_AA)\n",
    "    \n",
    "    cv2.imshow('test',frame)\n",
    "    \n",
    "    key = cv2.waitKey(20)\n",
    "    if key == ord('q') or key == 27:\n",
    "        break\n",
    "cap.release()\n",
    "cv2.destroyAllWindows()"
   ]
  }
 ],
 "metadata": {
  "kernelspec": {
   "display_name": "Python 3",
   "language": "python",
   "name": "python3"
  },
  "language_info": {
   "codemirror_mode": {
    "name": "ipython",
    "version": 3
   },
   "file_extension": ".py",
   "mimetype": "text/x-python",
   "name": "python",
   "nbconvert_exporter": "python",
   "pygments_lexer": "ipython3",
   "version": "3.8.8"
  }
 },
 "nbformat": 4,
 "nbformat_minor": 5
}

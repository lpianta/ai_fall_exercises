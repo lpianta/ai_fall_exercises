{
 "cells": [
  {
   "cell_type": "code",
   "execution_count": 3,
   "id": "6932ea66",
   "metadata": {},
   "outputs": [],
   "source": [
    "from pydub import AudioSegment\n",
    "from pydub.playback import play\n",
    "import simpleaudio"
   ]
  },
  {
   "cell_type": "code",
   "execution_count": 6,
   "id": "8e303878",
   "metadata": {},
   "outputs": [],
   "source": [
    "seg = AudioSegment.from_file(\"../media/alarm_sound.wav\")\n",
    "playback = simpleaudio.play_buffer(\n",
    "        seg.raw_data,\n",
    "        num_channels=seg.channels,\n",
    "        bytes_per_sample=seg.sample_width,\n",
    "        sample_rate=seg.frame_rate\n",
    ")"
   ]
  },
  {
   "cell_type": "code",
   "execution_count": 7,
   "id": "b612e3a7",
   "metadata": {},
   "outputs": [],
   "source": [
    "playback.stop()"
   ]
  }
 ],
 "metadata": {
  "kernelspec": {
   "display_name": "Python 3",
   "language": "python",
   "name": "python3"
  },
  "language_info": {
   "codemirror_mode": {
    "name": "ipython",
    "version": 3
   },
   "file_extension": ".py",
   "mimetype": "text/x-python",
   "name": "python",
   "nbconvert_exporter": "python",
   "pygments_lexer": "ipython3",
   "version": "3.9.4"
  }
 },
 "nbformat": 4,
 "nbformat_minor": 5
}

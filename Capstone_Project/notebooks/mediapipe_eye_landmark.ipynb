{
 "cells": [
  {
   "cell_type": "code",
   "execution_count": 4,
   "id": "chemical-military",
   "metadata": {},
   "outputs": [],
   "source": [
    "# import libraries\n",
    "\n",
    "import cv2\n",
    "import mediapipe as mp\n",
    "\n",
    "mp_drawing = mp.solutions.drawing_utils\n",
    "mp_holistic = mp.solutions.holistic"
   ]
  },
  {
   "cell_type": "code",
   "execution_count": 2,
   "id": "protected-timothy",
   "metadata": {},
   "outputs": [
    {
     "name": "stdout",
     "output_type": "stream",
     "text": [
      "16\n",
      "16\n"
     ]
    }
   ],
   "source": [
    "# index of landmarks in right and left eye\n",
    "\n",
    "left_eye_lm = [130, 247, 30, 29, 27, 28, 56, 190, 243, 112, 26, 22, 23, 24, 110, 25]\n",
    "right_eye_lm = [359, 167, 260, 259, 257, 258, 288, 414, 463, 341, 256, 252, 253, 254, 339, 255]\n",
    "\n",
    "print(len(left_eye_lm))\n",
    "print(len(right_eye_lm))"
   ]
  },
  {
   "cell_type": "code",
   "execution_count": 9,
   "id": "through-community",
   "metadata": {},
   "outputs": [
    {
     "name": "stdout",
     "output_type": "stream",
     "text": [
      "Nose coordinates: (160.1835060119629, 226.37474536895752)\n"
     ]
    },
    {
     "data": {
      "text/plain": [
       "-1"
      ]
     },
     "execution_count": 9,
     "metadata": {},
     "output_type": "execute_result"
    }
   ],
   "source": [
    "# test on img\n",
    "\n",
    "\n",
    "# For static images:\n",
    "with mp_holistic.Holistic(\n",
    "    static_image_mode=True) as holistic:\n",
    "        image = cv2.imread(\"../data/imgs/eye_img.jpg\")\n",
    "        image_height, image_width, _ = image.shape\n",
    "        # Convert the BGR image to RGB before processing.\n",
    "        results = holistic.process(cv2.cvtColor(image, cv2.COLOR_BGR2RGB))\n",
    "\n",
    "        if results.pose_landmarks:\n",
    "          print(\n",
    "              f'Nose coordinates: ('\n",
    "              f'{results.pose_landmarks.landmark[mp_holistic.PoseLandmark.NOSE].x * image_width}, '\n",
    "              f'{results.pose_landmarks.landmark[mp_holistic.PoseLandmark.NOSE].y * image_height})'\n",
    "          )\n",
    "        # Draw pose, left and right hands, and face landmarks on the image.\n",
    "        annotated_image = image.copy()\n",
    "        mp_drawing.draw_landmarks(\n",
    "            annotated_image, results.face_landmarks, mp_holistic.FACE_CONNECTIONS,\n",
    "            mp_drawing.DrawingSpec(color=(80,110,10), thickness=1, circle_radius=1),\n",
    "            mp_drawing.DrawingSpec(color=(80,256,121), thickness=1, circle_radius=1))\n",
    "#         mp_drawing.draw_landmarks(\n",
    "#             annotated_image, results.left_hand_landmarks, mp_holistic.HAND_CONNECTIONS)\n",
    "#         mp_drawing.draw_landmarks(\n",
    "#             annotated_image, results.right_hand_landmarks, mp_holistic.HAND_CONNECTIONS)\n",
    "#         mp_drawing.draw_landmarks(\n",
    "#             annotated_image, results.pose_landmarks, mp_holistic.POSE_CONNECTIONS)\n",
    "        cv2.imshow('img', annotated_image)\n",
    "cv2.waitKey(0)\n",
    "cv2.destroyAllWindows()\n",
    "cv2.waitKey(1)"
   ]
  },
  {
   "cell_type": "code",
   "execution_count": 23,
   "id": "distant-partner",
   "metadata": {},
   "outputs": [
    {
     "name": "stdout",
     "output_type": "stream",
     "text": [
      "[0.31204599142074585, 0.3131374716758728, 0.326626718044281, 0.3434974253177643, 0.3682345151901245, 0.39516693353652954, 0.4192074239253998, 0.4422023594379425, 0.4476650059223175, 0.4392784535884857, 0.42532968521118164, 0.4036906659603119, 0.37793463468551636, 0.35355430841445923, 0.3323947489261627, 0.32008224725723267]\n",
      "[0.46350204944610596, 0.45148539543151855, 0.4444541335105896, 0.4376947283744812, 0.43435078859329224, 0.4352266788482666, 0.44130387902259827, 0.4553184509277344, 0.4690079987049103, 0.476248562335968, 0.4825237989425659, 0.48867499828338623, 0.49062860012054443, 0.48931437730789185, 0.484655499458313, 0.47592389583587646]\n",
      "[(0.31204599142074585, 0.46350204944610596), (0.3131374716758728, 0.45148539543151855), (0.326626718044281, 0.4444541335105896), (0.3434974253177643, 0.4376947283744812), (0.3682345151901245, 0.43435078859329224), (0.39516693353652954, 0.4352266788482666), (0.4192074239253998, 0.44130387902259827), (0.4422023594379425, 0.4553184509277344), (0.4476650059223175, 0.4690079987049103), (0.4392784535884857, 0.476248562335968), (0.42532968521118164, 0.4825237989425659), (0.4036906659603119, 0.48867499828338623), (0.37793463468551636, 0.49062860012054443), (0.35355430841445923, 0.48931437730789185), (0.3323947489261627, 0.484655499458313), (0.32008224725723267, 0.47592389583587646)]\n"
     ]
    }
   ],
   "source": [
    "# get x and y coords for the eyes\n",
    "\n",
    "left_eye_x = []\n",
    "left_eye_y = []\n",
    "for lm in left_eye_lm:\n",
    "    left_eye_x.append(results.face_landmarks.landmark[lm].x)\n",
    "    left_eye_y.append(results.face_landmarks.landmark[lm].y)\n",
    "left_eye = list(zip(left_eye_x, left_eye_y))\n",
    "\n",
    "right_eye_x = []\n",
    "left_eye_y = []\n",
    "for lm in left_eye_lm:\n",
    "    left_eye_x.append(results.face_landmarks.landmark[lm].x)\n",
    "    left_eye_y.append(results.face_landmarks.landmark[lm].y)\n",
    "left_eye = list(zip(left_eye_x, left_eye_y))"
   ]
  }
 ],
 "metadata": {
  "kernelspec": {
   "display_name": "Python 3",
   "language": "python",
   "name": "python3"
  },
  "language_info": {
   "codemirror_mode": {
    "name": "ipython",
    "version": 3
   },
   "file_extension": ".py",
   "mimetype": "text/x-python",
   "name": "python",
   "nbconvert_exporter": "python",
   "pygments_lexer": "ipython3",
   "version": "3.8.8"
  }
 },
 "nbformat": 4,
 "nbformat_minor": 5
}

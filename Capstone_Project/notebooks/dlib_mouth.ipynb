{
 "cells": [
  {
   "cell_type": "code",
   "execution_count": 1,
   "id": "driven-butter",
   "metadata": {},
   "outputs": [],
   "source": [
    "# import libraries\n",
    "\n",
    "import dlib\n",
    "import cv2\n",
    "import matplotlib.pyplot as plt\n",
    "import numpy as np\n",
    "import matplotlib.pyplot as plt"
   ]
  },
  {
   "cell_type": "code",
   "execution_count": null,
   "id": "dimensional-quarter",
   "metadata": {},
   "outputs": [],
   "source": [
    "#FACIAL_LANDMARKS_IDXS =\n",
    "#\t(\"mouth\", (48, 68)),\n",
    "#\t(\"right_eyebrow\", (17, 22)),\n",
    "#\t(\"left_eyebrow\", (22, 27)),\n",
    "#\t(\"right_eye\", (36, 42)),\n",
    "#\t(\"left_eye\", (42, 48)),\n",
    "#\t(\"nose\", (27, 35)),\n",
    "#\t(\"jaw\", (0, 17))"
   ]
  },
  {
   "cell_type": "code",
   "execution_count": null,
   "id": "inappropriate-occupation",
   "metadata": {},
   "outputs": [],
   "source": [
    "# image\n",
    "\n",
    "# read the img\n",
    "image = cv2.imread(\"../imgs/happyboy.jpg\")\n",
    "\n",
    "# initialize detector and predictor\n",
    "faces_bboxes = dlib.get_frontal_face_detector()\n",
    "landmark_predictor = dlib.shape_predictor(\"../models/dlib_shape_predictor_68_face_landmarks.dat\")\n",
    "\n",
    "# convert img to grayscale\n",
    "gray = cv2.cvtColor(image, cv2.COLOR_BGR2GRAY)\n",
    "\n",
    "# find faces\n",
    "faces = faces_bboxes(gray, 0)\n",
    "\n",
    "# initialize empty array with shape (68, 2) (the predictor return 68 facemarks x y coordinates)\n",
    "coords = np.zeros((68, 2), dtype=\"int\") # need to specify the datatype for convexHull to work\n",
    "\n",
    "# loop over the bounding box\n",
    "for face in faces:\n",
    "    # find landmark for every bounding box\n",
    "    landmarks = landmark_predictor(gray, face)\n",
    "    # loop over landmarks to update the coordinates array\n",
    "    for i in range(0, landmarks.num_parts):\n",
    "        coords[i] = (landmarks.part(i).x, landmarks.part(i).y)\n",
    "\n",
    "# slice coords to find landmarks of eyes (index in the previous cell)\n",
    "mouth = 48:6\n",
    "\n",
    "# find convex hull\n",
    "leye_hull = cv2.convexHull(left_eye)\n",
    "reye_hull = cv2.convexHull(right_eye)\n",
    "\n",
    "# draw eye contour\n",
    "cv2.drawContours(image, [leye_hull], -1, (0, 255, 0), 2)\n",
    "cv2.drawContours(image, [reye_hull], -1, (0, 255, 0), 2)\n",
    "\n",
    "plt.imshow(cv2.cvtColor(image, cv2.COLOR_BGR2RGB))"
   ]
  }
 ],
 "metadata": {
  "kernelspec": {
   "display_name": "Python 3",
   "language": "python",
   "name": "python3"
  },
  "language_info": {
   "codemirror_mode": {
    "name": "ipython",
    "version": 3
   },
   "file_extension": ".py",
   "mimetype": "text/x-python",
   "name": "python",
   "nbconvert_exporter": "python",
   "pygments_lexer": "ipython3",
   "version": "3.8.8"
  }
 },
 "nbformat": 4,
 "nbformat_minor": 5
}

{
 "cells": [
  {
   "cell_type": "code",
   "execution_count": 1,
   "id": "9981f2ac",
   "metadata": {},
   "outputs": [],
   "source": [
    "import cv2\n",
    "import numpy as np"
   ]
  },
  {
   "cell_type": "code",
   "execution_count": 2,
   "id": "d3aa0bfe",
   "metadata": {},
   "outputs": [
    {
     "name": "stdout",
     "output_type": "stream",
     "text": [
      "cell phone\n"
     ]
    }
   ],
   "source": [
    "# read class name from file\n",
    "\n",
    "class_name = []\n",
    "class_file = \"../models/ssd_mobilenet_v3/coco.names\"\n",
    "with open(class_file, 'rt') as f:\n",
    "    class_name = f.read().rstrip(\"\\n\").split(\"\\n\")\n",
    "print(class_name[76])"
   ]
  },
  {
   "cell_type": "code",
   "execution_count": 3,
   "id": "d50fb16b",
   "metadata": {},
   "outputs": [
    {
     "data": {
      "text/plain": [
       "<dnn_Model 0x7fd5e21e25d0>"
      ]
     },
     "execution_count": 3,
     "metadata": {},
     "output_type": "execute_result"
    }
   ],
   "source": [
    "# load config and weight and instantiate the model\n",
    "\n",
    "config = \"../models/ssd_mobilenet_v3/ssd_mobilenet_v3_large_coco_2020_01_14.pbtxt\"\n",
    "weights = \"../models/ssd_mobilenet_v3/frozen_inference_graph.pb\"\n",
    "\n",
    "net = cv2.dnn_DetectionModel(weights, config)\n",
    "\n",
    "# configure input for pretrained mdoel\n",
    "net.setInputSize(320, 320)\n",
    "net.setInputScale(1.0/127.5)\n",
    "net.setInputMean((127.5, 127.5, 127.5))\n",
    "net.setInputSwapRB(True)"
   ]
  },
  {
   "cell_type": "code",
   "execution_count": 7,
   "id": "a801e136",
   "metadata": {},
   "outputs": [],
   "source": [
    "#cap = cv2.VideoCapture(\"../media/video/face_elena.mp4\")\n",
    "cap = cv2.VideoCapture(1)\n",
    "cap.set(3, 640)\n",
    "cap.set(4, 480)\n",
    "\n",
    "while cap.isOpened():\n",
    "    ret, frame = cap.read()\n",
    "    frame = cv2.resize(frame, (640, 480))\n",
    "    #frame = cv2.flip(frame, 0)\n",
    "    #frame = cv2.flip(frame, 1)\n",
    "    \n",
    "    # get detection\n",
    "    class_ids, conf, bbox = net.detect(frame, confThreshold=0.35)\n",
    "    \n",
    "#     for class_id in class_ids:\n",
    "#         if class_id == 77:\n",
    "#             bbox = list(bbox)\n",
    "#             conf = list(np.array(conf).reshape(1, -1)[0])\n",
    "#             conf = list(map(float, conf))\n",
    "\n",
    "#             indices = cv2.dnn.NMSBoxes(bbox, conf, 0.5, 0,5)\n",
    "\n",
    "#             for i in indices:\n",
    "#                 i = i[0]\n",
    "#                 box = bbox[i]\n",
    "#                 x, y, w, h = box[0], box[1], box[2], box[3]\n",
    "#                 cv2.rectangle(frame, (x,y), (x+w, y+h), (0, 255, 0), 2)\n",
    "#                 cv2.putText(frame, class_name[class_ids[i][0] - 1].upper(), (box[0] + 10, box[1] + 30),\n",
    "#                                     cv2.FONT_HERSHEY_PLAIN, 1, (0, 255, 0), 2)\n",
    "    put boxes and prediction if there is detection\n",
    "    if len(class_ids) != 0:\n",
    "        for class_id, confidence, box in zip(class_ids.flatten(), conf.flatten(), bbox):\n",
    "            if class_id == 77:\n",
    "                cv2.rectangle(frame, box, (0, 255, 0), 2)\n",
    "                cv2.putText(frame, class_name[class_id - 1].upper(), (box[0] + 10, box[1] + 30),\n",
    "                           cv2.FONT_HERSHEY_PLAIN, 1, (0, 255, 0), 2)\n",
    "\n",
    "    cv2.imshow('test',frame)\n",
    "    \n",
    "    if cv2.waitKey(1) & 0xFF == ord('q'):\n",
    "            break\n",
    "cap.release()\n",
    "cv2.destroyAllWindows()"
   ]
  }
 ],
 "metadata": {
  "kernelspec": {
   "display_name": "Python 3",
   "language": "python",
   "name": "python3"
  },
  "language_info": {
   "codemirror_mode": {
    "name": "ipython",
    "version": 3
   },
   "file_extension": ".py",
   "mimetype": "text/x-python",
   "name": "python",
   "nbconvert_exporter": "python",
   "pygments_lexer": "ipython3",
   "version": "3.7.10"
  }
 },
 "nbformat": 4,
 "nbformat_minor": 5
}

{
 "cells": [
  {
   "cell_type": "code",
   "execution_count": 3,
   "id": "chemical-hybrid",
   "metadata": {},
   "outputs": [],
   "source": [
    "import cv2\n",
    "import time"
   ]
  },
  {
   "cell_type": "code",
   "execution_count": 9,
   "id": "breathing-egyptian",
   "metadata": {},
   "outputs": [],
   "source": [
    "# key to press for saving category\n",
    "\n",
    "c0 = ord(\"0\") # safe\n",
    "c1 = ord(\"1\") # texting\n",
    "c2 = ord(\"2\") # phonecall\n",
    "c3 = ord(\"3\") # behind\n",
    "\n",
    "q = ord(\"q\") # close video"
   ]
  },
  {
   "cell_type": "code",
   "execution_count": 18,
   "id": "e9438565",
   "metadata": {},
   "outputs": [],
   "source": [
    "cap.release()\n",
    "cv2.destroyAllWindows()"
   ]
  },
  {
   "cell_type": "code",
   "execution_count": 25,
   "id": "loved-protection",
   "metadata": {},
   "outputs": [],
   "source": [
    "cap = cv2.VideoCapture(\"../media/video/face_7min4.mp4\")\n",
    "\n",
    "\n",
    "while cap.isOpened():\n",
    "    ret, frame = cap.read()\n",
    "    frame = cv2.resize(frame, (640, 480))\n",
    "    #frame = cv2.flip(frame, 0)\n",
    "    #frame = cv2.flip(frame, 1)\n",
    "    \n",
    "    key = cv2.waitKey(30)\n",
    "\n",
    "    if   key == c0:\n",
    "        cv2.imwrite(f\"../data/imgs/frontal/c0_safe/c0_{int(time.time())}.jpg\", frame)\n",
    "\n",
    "    elif key == c1:\n",
    "        cv2.imwrite(f\"../data/imgs/frontal/c1_texting/c1_{int(time.time())}.jpg\", frame)\n",
    "\n",
    "    elif key == c2:\n",
    "        cv2.imwrite(f\"../data/imgs/frontal/c2_phonecall/c2_{int(time.time())}.jpg\", frame)\n",
    "        \n",
    "    elif key == c3:\n",
    "        cv2.imwrite(f\"../data/imgs/frontal/c3_behind/c3_{int(time.time())}.jpg\", frame)\n",
    "        \n",
    "    \n",
    "    elif key == q:\n",
    "        break\n",
    "    \n",
    "    cv2.imshow(\"frame\", frame)\n",
    "    \n",
    "\n",
    "cap.release()\n",
    "cv2.destroyAllWindows()"
   ]
  }
 ],
 "metadata": {
  "kernelspec": {
   "display_name": "Python 3",
   "language": "python",
   "name": "python3"
  },
  "language_info": {
   "codemirror_mode": {
    "name": "ipython",
    "version": 3
   },
   "file_extension": ".py",
   "mimetype": "text/x-python",
   "name": "python",
   "nbconvert_exporter": "python",
   "pygments_lexer": "ipython3",
   "version": "3.7.10"
  }
 },
 "nbformat": 4,
 "nbformat_minor": 5
}

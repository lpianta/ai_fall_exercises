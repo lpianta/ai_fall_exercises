{
 "cells": [
  {
   "cell_type": "code",
   "execution_count": 1,
   "id": "chemical-hybrid",
   "metadata": {},
   "outputs": [],
   "source": [
    "import cv2\n",
    "import time"
   ]
  },
  {
   "cell_type": "code",
   "execution_count": 2,
   "id": "breathing-egyptian",
   "metadata": {},
   "outputs": [],
   "source": [
    "# key to press for saving category\n",
    "\n",
    "c0 = ord(\"0\") # safe\n",
    "c1 = ord(\"1\") # texting_right\n",
    "c2 = ord(\"2\") # phonecall_right\n",
    "c3 = ord(\"3\") # texting_left\n",
    "c4 = ord(\"4\") # phonecall_left\n",
    "c5 = ord(\"5\") # radio\n",
    "c6 = ord(\"6\") # drinking\n",
    "c7 = ord(\"7\") # behind\n",
    "c8 = ord(\"8\") # hair_makeup\n",
    "c9 = ord(\"9\") # talking\n",
    "\n",
    "\n",
    "q = ord(\"q\") # close video"
   ]
  },
  {
   "cell_type": "code",
   "execution_count": 8,
   "id": "loved-protection",
   "metadata": {},
   "outputs": [],
   "source": [
    "cap = cv2.VideoCapture(\"../media/video/distracted_8min.mp4\")\n",
    "\n",
    "\n",
    "while cap.isOpened():\n",
    "    ret, frame = cap.read()\n",
    "    frame = cv2.resize(frame, (640, 480))\n",
    "    \n",
    "    key = cv2.waitKey(30)\n",
    "\n",
    "    if   key == c0:\n",
    "        cv2.imwrite(f\"../data/imgs/c0/c0_{int(time.time())}.jpg\", frame)\n",
    "\n",
    "    elif key == c1:\n",
    "        cv2.imwrite(f\"../data/imgs/c1/c1_{int(time.time())}.jpg\", frame)\n",
    "\n",
    "    elif key == c2:\n",
    "        cv2.imwrite(f\"../data/imgs/c2/c2_{int(time.time())}.jpg\", frame)\n",
    "        \n",
    "    elif key == c3:\n",
    "        cv2.imwrite(f\"../data/imgs/c3/c3_{int(time.time())}.jpg\", frame)\n",
    "\n",
    "    elif key == c4:\n",
    "        cv2.imwrite(f\"../data/imgs/c4/c4_{int(time.time())}.jpg\", frame)\n",
    "\n",
    "    elif key == c5:\n",
    "        cv2.imwrite(f\"../data/imgs/c5/c5_{int(time.time())}.jpg\", frame)\n",
    "        \n",
    "    elif key == c6:\n",
    "        cv2.imwrite(f\"../data/imgs/c6/c6_{int(time.time())}.jpg\", frame)\n",
    "\n",
    "    elif key ==c7:\n",
    "        cv2.imwrite(f\"../data/imgs/c7/c7_{int(time.time())}.jpg\", frame)\n",
    "\n",
    "    elif key == c8:\n",
    "        cv2.imwrite(f\"../data/imgs/c8/c8_{int(time.time())}.jpg\", frame)\n",
    "        \n",
    "    elif key == c9:\n",
    "        cv2.imwrite(f\"../data/imgs/c9/c9_{int(time.time())}.jpg\", frame)\n",
    "    \n",
    "    elif key == q:\n",
    "        break\n",
    "    \n",
    "    cv2.imshow(\"frame\", frame)\n",
    "    \n",
    "#     if cv2.waitKey(30) & 0xFF == ord('q'):\n",
    "#         break\n",
    "\n",
    "cap.release()\n",
    "cv2.destroyAllWindows()"
   ]
  }
 ],
 "metadata": {
  "kernelspec": {
   "display_name": "Python 3",
   "language": "python",
   "name": "python3"
  },
  "language_info": {
   "codemirror_mode": {
    "name": "ipython",
    "version": 3
   },
   "file_extension": ".py",
   "mimetype": "text/x-python",
   "name": "python",
   "nbconvert_exporter": "python",
   "pygments_lexer": "ipython3",
   "version": "3.8.8"
  }
 },
 "nbformat": 4,
 "nbformat_minor": 5
}

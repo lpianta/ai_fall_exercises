{
 "cells": [
  {
   "cell_type": "markdown",
   "metadata": {},
   "source": [
    "**Exercise 2.2 (optional):** Write code that classifies a given amount of money (which you store in a variable `amount`), specified in cents, as greater monetary units. Your code lists the monetary equivalent in dollars (100 ct), quarters (25 ct), dimes (10 ct), nickels (5 ct), and pennies (1 ct). Your program should report the maximum number of dollars that fit in the amount, then the maximum number of quarters that fit in the remainder after you subtract the dollars, then the maximum number of dimes that fit in the remainder after you subtract the dollars and quarters, and so on for nickels and pennies. The result is that you express the amount as the minimum number of coins needed.  \n",
    "\n",
    "**Can you do it again? Would you change anything from the last time you had to do this?**"
   ]
  },
  {
   "cell_type": "code",
   "execution_count": 1,
   "metadata": {},
   "outputs": [
    {
     "output_type": "stream",
     "name": "stdout",
     "text": [
      "{'dollars': 1, 'quarters': 2, 'dimes': 0, 'nickels': 1, 'pennies': 1}\n{'dollars': 11, 'quarters': 2, 'dimes': 0, 'nickels': 1, 'pennies': 1}\n"
     ]
    }
   ],
   "source": [
    "# Your Code Here\n",
    "def cashier(cents):\n",
    "    cents = cents\n",
    "    dollars_count = cents // 100\n",
    "    dollars_change = cents % 100\n",
    "    quarters_count = dollars_change // 25\n",
    "    quarters_change = dollars_change % 25\n",
    "    dimes_count = quarters_change // 10\n",
    "    dimes_changes = quarters_change % 10\n",
    "    nickels_count = dimes_changes // 5\n",
    "    pennies_count = dimes_changes % 5\n",
    "    cashier_dict = {\n",
    "        'dollars': dollars_count,\n",
    "        'quarters': quarters_count,\n",
    "        'dimes': dimes_count,\n",
    "        'nickels': nickels_count,\n",
    "        'pennies': pennies_count\n",
    "    }\n",
    "    print(cashier_dict)\n",
    "\n",
    "cashier(156)\n",
    "\n",
    "cashier(1156)\n",
    "\n",
    "# I used math.floor for the admission test, now I know I can do this without importing external module\n",
    "    "
   ]
  },
  {
   "cell_type": "markdown",
   "metadata": {},
   "source": [
    "**Exercise (optional)**: The factorial of a positive integer is that integer, multiplied by all positive integers that are lower (excluding zero). You write the factorial as the number with an exclamation mark after it. E.g., the factorial of 5 is `5! = 5 * 4 * 3 * 2 * 1 = 120`. Write a function that calculates the factorial of its (integer) parameter. Test your function for different parameter values, but do not use very large numbers as factorials grow exponentially. Hint: to do this with a `while` loop, you need at least one more variable."
   ]
  },
  {
   "cell_type": "code",
   "execution_count": 12,
   "metadata": {},
   "outputs": [
    {
     "output_type": "stream",
     "name": "stdout",
     "text": [
      "120\n"
     ]
    }
   ],
   "source": [
    "# Factorial\n",
    "def factorial(number):                               \n",
    "    #Your Code Here\n",
    "    for i in range(1, number):\n",
    "        number = number * i\n",
    "    print(number)\n",
    "\n",
    "factorial(5)\n",
    "        "
   ]
  },
  {
   "cell_type": "markdown",
   "metadata": {},
   "source": [
    "**Exercise 5.1 (optional):** Write a function that prints a multiplication table for digits 1 to 10. A multiplication table for the numbers 1 to `num = 3` looks as follows:\n",
    "\n",
    "`. |  1  2  3`<br>\n",
    "`------------`<br>\n",
    "`1 |  1  2  3`<br>\n",
    "`2 |  2  4  6`<br>\n",
    "`3 |  3  6  9`\n",
    "\n",
    "So the labels on the rows are multiplied by the labels on the columns, and the result is shown in the cell that is on that row/column combination. "
   ]
  },
  {
   "cell_type": "code",
   "execution_count": 1,
   "metadata": {},
   "outputs": [
    {
     "output_type": "stream",
     "name": "stdout",
     "text": [
      ". | 1\t2\t3\t4\t5\t6\t7\t8\t9\t10\t\n--------------------------------------------------------------------------------\n1 | 1\t2\t3\t4\t5\t6\t7\t8\t9\t10\t\n2 | 2\t4\t6\t8\t10\t12\t14\t16\t18\t20\t\n3 | 3\t6\t9\t12\t15\t18\t21\t24\t27\t30\t\n4 | 4\t8\t12\t16\t20\t24\t28\t32\t36\t40\t\n5 | 5\t10\t15\t20\t25\t30\t35\t40\t45\t50\t\n6 | 6\t12\t18\t24\t30\t36\t42\t48\t54\t60\t\n7 | 7\t14\t21\t28\t35\t42\t49\t56\t63\t70\t\n8 | 8\t16\t24\t32\t40\t48\t56\t64\t72\t80\t\n9 | 9\t18\t27\t36\t45\t54\t63\t72\t81\t90\t\n10| 10\t20\t30\t40\t50\t60\t70\t80\t90\t100\t\n"
     ]
    }
   ],
   "source": [
    "def multiplication_table(num):\n",
    "    header = \". | \"\n",
    "    for x in range(1, num + 1):\n",
    "        header += str(x) + \"\\t\"\n",
    "    print(header)\n",
    "    print(\"--------\" * num)\n",
    "    for i in range(1, num + 1):\n",
    "        row = str(i) + \" | \"\n",
    "        if i == 10:\n",
    "            row = str(i) + \"| \"\n",
    "        for j in range(1, num + 1):\n",
    "            row += str(i*j) + \"\\t\"\n",
    "        print(row)\n",
    "\n",
    "\n",
    "multiplication_table(10)"
   ]
  },
  {
   "cell_type": "markdown",
   "metadata": {},
   "source": [
    "**Exercise 5.2 (optional):** If you did the previous exercise with a `while` loop, then do it again with a `for` loop. If you did it with a `for` loop, then do it again with a `while` loop. If you did not use a loop at all, you should be ashamed of yourself."
   ]
  },
  {
   "cell_type": "code",
   "execution_count": null,
   "metadata": {},
   "outputs": [],
   "source": [
    "# Print multiplication table\n",
    "def print_multiplication_table(n):\n",
    "    \n",
    "    #Your Code Here\n",
    "\n",
    "print_multiplication_table(5)"
   ]
  },
  {
   "cell_type": "markdown",
   "metadata": {},
   "source": [
    "**Exercise 6.5 (optional):** Typical autocorrect functions are the following: \n",
    "1. if a word starts with two capitals, followed by a lower-case letter, the second capital is made lower case; \n",
    "2. if a sentence contains a word that is immediately followed by the same word, the second occurrence is removed; \n",
    "3. if a sentence starts with a lower-case letter, that letter is turned into a capital; \n",
    "4. if a word consists entirely of capitals, except for the first letter which is lower case, then the case of the letters in the word is reversed; and \n",
    "5. if the sentence contains the name of a day (in English) which does not start with a capital, the first letter is turned into a capital. \n",
    "\n",
    "Write a program that takes a sentence and makes these auto-corrections."
   ]
  },
  {
   "cell_type": "code",
   "execution_count": 2,
   "metadata": {},
   "outputs": [],
   "source": [
    "# Autocorrect.\n",
    "sentence = \"as it turned out our chance meeting with REverend aRTHUR BElling was \\\n",
    "was to change our whole way of life, and every sunday we'd hurry along to St lOONY up the Cream BUn and Jam.\"\n"
   ]
  },
  {
   "cell_type": "markdown",
   "metadata": {},
   "source": [
    "### Exercise 11.3 (Optional)\n",
    "In this directory you find a file `blakepoems.txt`. Write a program that processes the contents of this file, line by line. It creates an output file in the current working directory called `blkpms.txt`, which has the same contents as `blakepoems.txt`, except that all the vowels are removed (case-insensitively). At the end, display how many characters you read, and how many characters you wrote. If you want to check the contents of `blkpms.txt`, you can either open it in a text editor, or display the first 10 lines or so at the end of your program."
   ]
  },
  {
   "cell_type": "code",
   "execution_count": null,
   "metadata": {},
   "outputs": [],
   "source": [
    "## Your Code Here"
   ]
  }
 ],
 "metadata": {
  "kernelspec": {
   "display_name": "Python 3",
   "language": "python",
   "name": "python3"
  },
  "language_info": {
   "codemirror_mode": {
    "name": "ipython",
    "version": 3
   },
   "file_extension": ".py",
   "mimetype": "text/x-python",
   "name": "python",
   "nbconvert_exporter": "python",
   "pygments_lexer": "ipython3",
   "version": "3.8.6-final"
  }
 },
 "nbformat": 4,
 "nbformat_minor": 2
}
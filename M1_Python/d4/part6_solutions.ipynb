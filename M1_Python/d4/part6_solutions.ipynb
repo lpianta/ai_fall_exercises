{
 "metadata": {
  "language_info": {
   "codemirror_mode": {
    "name": "ipython",
    "version": 3
   },
   "file_extension": ".py",
   "mimetype": "text/x-python",
   "name": "python",
   "nbconvert_exporter": "python",
   "pygments_lexer": "ipython3",
   "version": "3.8.6-final"
  },
  "orig_nbformat": 2,
  "kernelspec": {
   "name": "python38664bita2c3b62c36c84dcba56bbed418361bd6",
   "display_name": "Python 3.8.6 64-bit"
  }
 },
 "nbformat": 4,
 "nbformat_minor": 2,
 "cells": [
  {
   "cell_type": "code",
   "execution_count": 51,
   "metadata": {},
   "outputs": [
    {
     "output_type": "stream",
     "name": "stdout",
     "text": [
      "[(5, 'o'), (11, 'a')]\no in position 5\na in position 11\n"
     ]
    }
   ],
   "source": [
    "# Your function\n",
    "s1 = \"The Holy Grail\"\n",
    "s2 = \"Life of Brian\"\n",
    "\n",
    "def similar_char(text1, text2):\n",
    "    sim_chars = []\n",
    "    sim_char_indexes = []\n",
    "    for char1, char2 in zip(text1, text2):\n",
    "        if char1 == char2:\n",
    "            sim_chars.append(char1)\n",
    "    for chars in sim_chars:\n",
    "        sim_char_indexes.append(text1.find(chars))\n",
    "    for chars, indexes in zip(sim_chars, sim_char_indexes):\n",
    "        print(f\"{chars} in position {indexes}\")\n",
    "    \n",
    "\n",
    "        \n",
    "similar_char(s1,s2)"
   ]
  },
  {
   "cell_type": "code",
   "execution_count": 91,
   "metadata": {},
   "outputs": [
    {
     "output_type": "stream",
     "name": "stdout",
     "text": [
      "Aph t    t\n"
     ]
    }
   ],
   "source": [
    "# String cleaning function\n",
    "def clean_string(string):\n",
    "    print(\"\".join(char if char.isalpha() else \" \" for char in string))\n",
    "\n",
    "clean_string(\"Aph@t 100t\")"
   ]
  },
  {
   "cell_type": "code",
   "execution_count": 134,
   "metadata": {},
   "outputs": [
    {
     "output_type": "stream",
     "name": "stdout",
     "text": [
      "Never gonna \ngive you up\n\nNever \ngonna let \nyou down\n\nNever \ngonna \nrun around \nand desert you\n"
     ]
    }
   ],
   "source": [
    "def distiller(text):\n",
    "    for i in text.split(\"[\")[1:]:\n",
    "        print(i.split(\"]\")[0])\n",
    "    \n",
    "\n",
    "text = \"\"\"The quick, brown fox jumps over a lazy dog. DJs flock by when MTV ax quiz prog. \n",
    "Junk MTV quiz graced by fox whelps. [Never gonna ] Bawds jog, flick quartz, vex nymphs. \n",
    "[give you up\\n] Waltz, bad nymph, for quick jigs vex! Fox nymphs grab quick-jived waltz. \n",
    "Brick quiz whangs jumpy veldt fox. [Never ] Bright vixens jump; [gonna let ] dozy fowl \n",
    "quack. Quick wafting zephyrs vex bold Jim. Quick zephyrs blow, vexing daft Jim. Charged \n",
    "[you down\\n] fop blew my junk TV quiz. How quickly daft jumping zebras vex. Two driven \n",
    "jocks help fax my big quiz. Quick, Baz, get my woven flax jodhpurs! \"Now fax quiz Jack!\" \n",
    "my brave ghost pled. [Never ] Five quacking zephyrs jolt my wax bed. [gonna ] Flummoxed \n",
    "by job, kvetching W. zaps Iraq. Cozy sphinx waves quart jug of bad milk. [run around ] \n",
    "A very bad quack might jinx zippy fowls. Few quips galvanized the mock jury box. Quick \n",
    "brown dogs jump over the lazy fox. The jay, pig, fox, zebra, and my wolves quack! \n",
    "[and desert you] Blowzy red vixens fight for a quick jump. Joaquin Phoenix was gazed \n",
    "by MTV for luck. A wizard’s job is to vex chumps quickly in fog. Watch \"Jeopardy!\", \n",
    "Alex Trebek's fun TV quiz game.\"\"\"\n",
    "\n",
    "distiller(text)\n"
   ]
  },
  {
   "cell_type": "code",
   "execution_count": 142,
   "metadata": {},
   "outputs": [
    {
     "output_type": "stream",
     "name": "stdout",
     "text": [
      "ABCDEFGHIJKLMNOPQRSTUVWXYZ\nNOPQRSTUVWXYZABCDEFGHIJKL\n"
     ]
    }
   ],
   "source": [
    "def alphabet_and_skipper(alpha):\n",
    "    alpha = \"ABCDEFGHIJKLMNOPQRSTUVWXYZ\"\n",
    "    print(alpha)\n",
    "    alpha_skipped = []\n",
    "    for char in alphabet:\n",
    "        index = alphabet.index(char)\n",
    "        new_index = index + 13\n",
    "        if new_index >= len(alpha):\n",
    "            new_index = new_index % (len(alpha))\n",
    "        alpha_skipped.append(alpha[new_index])\n",
    "    print(\"\".join(alpha_skipped))\n",
    "\n",
    "\n",
    "\n",
    "alphabet_and_skipper(alpha)"
   ]
  },
  {
   "cell_type": "code",
   "execution_count": 172,
   "metadata": {},
   "outputs": [
    {
     "output_type": "stream",
     "name": "stdout",
     "text": [
      "3\n"
     ]
    }
   ],
   "source": [
    "text = \"\"\"How much wood would a woodchuck chuck\n",
    "            If a woodchuck could chuck wood?\n",
    "            He would chuck, he would, as much as he could,\n",
    "            And chuck as much as a woodchuck would\n",
    "            If a woodchuck could chuck wood\"\"\"\n",
    "\n",
    "def wood_counter(text):\n",
    "    punctuation = \"!.,?:;-_\"\n",
    "    no_punct = \"\"\n",
    "    for char in text: \n",
    "        if char not in punctuation:\n",
    "            no_punct = no_punct + char\n",
    "    splitted_wood = no_punct.split()\n",
    "    counter = splitted_wood.count(\"wood\")\n",
    "    print(counter)\n",
    "    \n",
    "\n",
    "\n",
    "wood_counter(text)"
   ]
  },
  {
   "cell_type": "code",
   "execution_count": null,
   "metadata": {},
   "outputs": [],
   "source": []
  }
 ]
}
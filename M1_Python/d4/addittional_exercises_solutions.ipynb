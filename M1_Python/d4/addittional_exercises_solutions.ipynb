{
 "metadata": {
  "language_info": {
   "codemirror_mode": {
    "name": "ipython",
    "version": 3
   },
   "file_extension": ".py",
   "mimetype": "text/x-python",
   "name": "python",
   "nbconvert_exporter": "python",
   "pygments_lexer": "ipython3",
   "version": "3.8.6-final"
  },
  "orig_nbformat": 2,
  "kernelspec": {
   "name": "python38664bita2c3b62c36c84dcba56bbed418361bd6",
   "display_name": "Python 3.8.6 64-bit"
  }
 },
 "nbformat": 4,
 "nbformat_minor": 2,
 "cells": [
  {
   "cell_type": "code",
   "execution_count": 11,
   "metadata": {},
   "outputs": [
    {
     "output_type": "stream",
     "name": "stdout",
     "text": [
      "{'dollars': 1, 'quarters': 2, 'dimes': 0, 'nickels': 1, 'pennies': 1}\n"
     ]
    }
   ],
   "source": [
    "def cashier(cents):\n",
    "    cents = cents\n",
    "    dollars_count = cents // 100\n",
    "    dollars_change = cents % 100\n",
    "    quarters_count = dollars_change // 25\n",
    "    quarters_change = dollars_change % 25\n",
    "    dimes_count = quarters_change // 10\n",
    "    dimes_changes = quarters_change % 10\n",
    "    nickels_count = dimes_changes // 5\n",
    "    pennies_count = dimes_changes % 5\n",
    "    cashier_dict = {\n",
    "        'dollars': dollars_count,\n",
    "        'quarters': quarters_count,\n",
    "        'dimes': dimes_count,\n",
    "        'nickels': nickels_count,\n",
    "        'pennies': pennies_count\n",
    "    }\n",
    "    print(cashier_dict)\n",
    "\n",
    "cashier(156)\n",
    "\n"
   ]
  },
  {
   "cell_type": "code",
   "execution_count": 12,
   "metadata": {},
   "outputs": [
    {
     "output_type": "stream",
     "name": "stdout",
     "text": [
      "120\n"
     ]
    }
   ],
   "source": [
    "# Factorial\n",
    "def factorial(number):                               \n",
    "    #Your Code Here\n",
    "    for i in range(1, number):\n",
    "        number = number * i\n",
    "    print(number)\n",
    "\n",
    "factorial(5)"
   ]
  },
  {
   "cell_type": "code",
   "execution_count": 17,
   "metadata": {},
   "outputs": [
    {
     "output_type": "stream",
     "name": "stdout",
     "text": [
      ". | 1\t2\t3\t4\t5\t6\t7\t8\t9\t10\t\n--------------------------------------------------------------------------------\n1 | 1\t2\t3\t4\t5\t6\t7\t8\t9\t10\t\n2 | 2\t4\t6\t8\t10\t12\t14\t16\t18\t20\t\n3 | 3\t6\t9\t12\t15\t18\t21\t24\t27\t30\t\n4 | 4\t8\t12\t16\t20\t24\t28\t32\t36\t40\t\n5 | 5\t10\t15\t20\t25\t30\t35\t40\t45\t50\t\n6 | 6\t12\t18\t24\t30\t36\t42\t48\t54\t60\t\n7 | 7\t14\t21\t28\t35\t42\t49\t56\t63\t70\t\n8 | 8\t16\t24\t32\t40\t48\t56\t64\t72\t80\t\n9 | 9\t18\t27\t36\t45\t54\t63\t72\t81\t90\t\n10| 10\t20\t30\t40\t50\t60\t70\t80\t90\t100\t\n"
     ]
    }
   ],
   "source": [
    "def multiplication_table(num):\n",
    "    header = \". | \"\n",
    "    for x in range(1, num + 1):\n",
    "        header += str(x) + \"\\t\"\n",
    "    print(header)\n",
    "    print(\"--------\" * num)\n",
    "    for i in range(1, num + 1):\n",
    "        row = str(i) + \" | \"\n",
    "        if i == 10:\n",
    "            row = str(i) + \"| \"\n",
    "        for j in range(1, num + 1):\n",
    "            row += str(i*j) + \"\\t\"\n",
    "        print(row)\n",
    "\n",
    "\n",
    "multiplication_table(10)"
   ]
  }
 ]
}
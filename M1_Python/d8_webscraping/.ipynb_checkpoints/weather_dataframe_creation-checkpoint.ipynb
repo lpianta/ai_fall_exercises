{
 "cells": [
  {
   "cell_type": "code",
   "execution_count": 7,
   "metadata": {},
   "outputs": [],
   "source": [
    "import pandas as pd\n",
    "import requests\n",
    "from bs4 import BeautifulSoup\n",
    "import datetime\n",
    "import matplotlib.pyplot as plt"
   ]
  },
  {
   "cell_type": "code",
   "execution_count": 2,
   "metadata": {},
   "outputs": [],
   "source": [
    "page = requests.get(\"https://weather.com/weather/tenday/l/San+Francisco+CA?canonicalCityId=dfdaba8cbe3a4d12a8796e1f7b1ccc7174b4b0a2d5ddb1c8566ae9f154fa638c\")\n",
    "#page\n",
    "#page.status_code\n",
    "#page.content"
   ]
  },
  {
   "cell_type": "code",
   "execution_count": 3,
   "metadata": {},
   "outputs": [],
   "source": [
    "def converter(fahrenheit):\n",
    "    celsius = (float(fahrenheit) - 32) * (5/9)\n",
    "    return round(celsius, 1)"
   ]
  },
  {
   "cell_type": "code",
   "execution_count": 4,
   "metadata": {
    "tags": []
   },
   "outputs": [],
   "source": [
    "soup =BeautifulSoup(page.content, 'html.parser')\n",
    "days = soup.find_all('h2', class_='DetailsSummary--daypartName--1Mebr')\n",
    "days_list = []\n",
    "for i in days:\n",
    "    day = i.get_text().split()[0]\n",
    "    days_list.append(day)\n",
    "#print(days_list)\n",
    "\n",
    "\n",
    "date_list = []\n",
    "for i in range(10):\n",
    "    date=datetime.datetime.now() + datetime.timedelta(days=i)\n",
    "    date_list.append(date.strftime('%m-%d'))\n",
    "#print(date_list)\n",
    "\n",
    "condition_description = soup.find_all('p', class_='DailyContent--narrative--3AcXd')\n",
    "condition_list = []\n",
    "for i in condition_description:\n",
    "    condition = i.get_text()\n",
    "    condition_list.append(condition)\n",
    "#print(condition_list)\n",
    "\n",
    "mmax_temp = soup.find_all('span', class_='DetailsSummary--highTempValue--3x6cL')\n",
    "mmax_temp_list = []\n",
    "for i in mmax_temp:\n",
    "    mmax = i.get_text().replace('°', '')\n",
    "    mmax_temp_list.append(mmax)\n",
    "mmax_temp_celsius = []\n",
    "for i in mmax_temp_list:\n",
    "    mmax_temp_celsius.append(converter(i))\n",
    "#print(mmax_temp_celsius)\n",
    "\n",
    "mmin_temp = soup.find_all('span', class_='DetailsSummary--lowTempValue--1DlJK')\n",
    "mmin_temp_list = []\n",
    "for i in mmin_temp:\n",
    "    mmin = i.get_text().replace('°', '')    \n",
    "    converter(mmin)\n",
    "    mmin_temp_list.append(mmin)\n",
    "mmin_temp_celsius = []\n",
    "for i in mmin_temp_list:\n",
    "    mmin_temp_celsius.append(converter(i))\n",
    "#print(mmin_temp_celsius)\n",
    "\n",
    "element_targetted = ['DetailsSummary--daypartName--1Mebr', 'NaN', 'DetailsSummary--extendedData--aaFeV', 'DetailsSummary--highTempValue--3x6cL', 'DetailsSummary--lowTempValue--1DlJK' ]"
   ]
  },
  {
   "cell_type": "code",
   "execution_count": 5,
   "metadata": {},
   "outputs": [
    {
     "name": "stdout",
     "output_type": "stream",
     "text": [
      "        date                                          condition  max temp  \\\n",
      "day                                                                         \n",
      "Today  12-09  Sunshine and clouds mixed. High 62F. Winds N a...      16.7   \n",
      "Thu    12-10  Partly to mostly cloudy. Low around 45F. Winds...      13.9   \n",
      "Fri    12-11  Some clouds in the morning will give way to ma...      12.8   \n",
      "Sat    12-12  Mostly clear skies in the evening then becomin...      13.9   \n",
      "Sun    12-13  Intervals of clouds and sunshine in the mornin...      13.9   \n",
      "Mon    12-14  Cloudy with showers. Low 47F. Winds SSW at 5 t...      13.9   \n",
      "Tue    12-15  Steady light rain in the morning. Showers cont...      13.9   \n",
      "Wed    12-16  Overcast with showers at times. Low around 50F...      13.9   \n",
      "Thu    12-17  Rain early...then remaining cloudy with shower...      14.4   \n",
      "Fri    12-18  Showers in the evening, then cloudy overnight....      14.4   \n",
      "\n",
      "       min temp  \n",
      "day              \n",
      "Today       7.2  \n",
      "Thu         5.6  \n",
      "Fri         8.3  \n",
      "Sat        10.0  \n",
      "Sun         8.3  \n",
      "Mon         6.7  \n",
      "Tue         7.2  \n",
      "Wed         7.8  \n",
      "Thu         6.7  \n",
      "Fri         7.2  \n"
     ]
    }
   ],
   "source": [
    "df_weather_dict = {'day' : days_list[0:10],\n",
    "            'date': date_list[0:10],\n",
    "            'condition': condition_list[0:10],\n",
    "            'max temp': mmax_temp_celsius[0:10],\n",
    "            'min temp': mmin_temp_celsius[0:10]}\n",
    "df_weather = pd.DataFrame(df_weather_dict).set_index('day')\n",
    "\n",
    "\n",
    "print(df_weather)"
   ]
  },
  {
   "cell_type": "code",
   "execution_count": 8,
   "metadata": {},
   "outputs": [
    {
     "data": {
      "image/png": "[encoded data removed]",
      "text/plain": [
       "<Figure size 432x288 with 1 Axes>"
      ]
     },
     "metadata": {
      "needs_background": "light"
     },
     "output_type": "display_data"
    }
   ],
   "source": [
    "ax = plt.gca()\n",
    "df_weather.plot(kind='line', x='date', y='max temp', color='red',ax=ax)\n",
    "df_weather.plot(kind='line', x='date', y='min temp', color\n",
    "plt.show()"
   ]
  }
 ],
 "metadata": {
  "kernelspec": {
   "display_name": "Python 3.7.9 64-bit ('web_scrapping': conda)",
   "language": "python",
   "name": "python37964bitwebscrappingconda04da6842d5b04dbdb64a3a6f702deb38"
  },
  "language_info": {
   "codemirror_mode": {
    "name": "ipython",
    "version": 3
   },
   "file_extension": ".py",
   "mimetype": "text/x-python",
   "name": "python",
   "nbconvert_exporter": "python",
   "pygments_lexer": "ipython3",
   "version": "3.7.9"
  }
 },
 "nbformat": 4,
 "nbformat_minor": 2
}

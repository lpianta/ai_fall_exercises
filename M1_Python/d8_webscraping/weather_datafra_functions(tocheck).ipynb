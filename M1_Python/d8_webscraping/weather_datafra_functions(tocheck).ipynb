{
 "metadata": {
  "language_info": {
   "codemirror_mode": {
    "name": "ipython",
    "version": 3
   },
   "file_extension": ".py",
   "mimetype": "text/x-python",
   "name": "python",
   "nbconvert_exporter": "python",
   "pygments_lexer": "ipython3",
   "version": "3.7.9-final"
  },
  "orig_nbformat": 2,
  "kernelspec": {
   "name": "python37964bitwebscrapingconda5dd7cefa095141818a3d3177a3640648",
   "display_name": "Python 3.7.9 64-bit ('web_scraping': conda)",
   "language": "python"
  }
 },
 "nbformat": 4,
 "nbformat_minor": 2,
 "cells": [
  {
   "cell_type": "code",
   "execution_count": 5,
   "metadata": {},
   "outputs": [],
   "source": [
    "import numpy as np\n",
    "import pandas as pd\n",
    "import requests\n",
    "from bs4 import BeautifulSoup\n",
    "import datetime\n",
    "import matplotlib.pyplot as plt"
   ]
  },
  {
   "cell_type": "code",
   "execution_count": 6,
   "metadata": {},
   "outputs": [],
   "source": [
    "page = requests.get(\"https://weather.com/weather/tenday/l/San+Francisco+CA?canonicalCityId=dfdaba8cbe3a4d12a8796e1f7b1ccc7174b4b0a2d5ddb1c8566ae9f154fa638c\")"
   ]
  },
  {
   "cell_type": "code",
   "execution_count": 53,
   "metadata": {},
   "outputs": [],
   "source": [
    "def converter(fahrenheit):\n",
    "    for i in fahrenheit:\n",
    "        celsius = (float(fahrenheit) - 32) * (5/9)\n",
    "    return round(celsius, 1)"
   ]
  },
  {
   "cell_type": "code",
   "execution_count": 96,
   "metadata": {},
   "outputs": [],
   "source": [
    "def list_getter(llist, tag, classname):\n",
    "    items = soup.find_all(tag, class_=classname)\n",
    "    for i in items:\n",
    "        item = i.get_text()\n",
    "        llist.append(item)\n",
    "    return llist[0:10]"
   ]
  },
  {
   "cell_type": "code",
   "execution_count": 32,
   "metadata": {},
   "outputs": [],
   "source": [
    "soup =BeautifulSoup(page.content, 'html.parser')\n",
    "date_list = []\n",
    "for i in range(10):\n",
    "    date=datetime.datetime.now() + datetime.timedelta(days=i)\n",
    "    date_list.append(date.strftime('%m-%d'))\n",
    "days_list = []\n",
    "condition_list = []\n",
    "mmax_temp_list = []\n",
    "mmin_temp_list = []\n"
   ]
  },
  {
   "cell_type": "code",
   "execution_count": 97,
   "metadata": {},
   "outputs": [
    {
     "output_type": "stream",
     "name": "stdout",
     "text": [
      "         date         condition max temp min temp\nday                                              \nToday   12-10  AM Clouds/PM Sun      57°      43°\nFri 11  12-11     Mostly Cloudy      55°      47°\nSat 12  12-12           Showers      56°      49°\nSun 13  12-13           Showers      58°      48°\nMon 14  12-14     Partly Cloudy      57°      44°\nTue 15  12-15     Partly Cloudy      57°      46°\nWed 16  12-16        PM Showers      58°      45°\nThu 17  12-17     Partly Cloudy      58°      45°\nFri 18  12-18           Showers      57°      45°\nSat 19  12-19           Showers      58°      44°\n"
     ]
    }
   ],
   "source": [
    "df_weather_dict = {'day' : list_getter(days_list, 'h2', 'DetailsSummary--daypartName--1Mebr'),\n",
    "            'date': date_list[0:10],\n",
    "            'condition': list_getter(condition_list, 'span', 'DetailsSummary--extendedData--aaFeV'),\n",
    "            'max temp': list_getter(mmax_temp_list, 'span', 'DetailsSummary--highTempValue--3x6cL'),\n",
    "            'min temp': list_getter(mmin_temp_list, 'span', 'DetailsSummary--lowTempValue--1DlJK')}\n",
    "df_weather = pd.DataFrame(df_weather_dict).set_index('day')\n",
    "\n",
    "print(df_weather)"
   ]
  }
 ]
}
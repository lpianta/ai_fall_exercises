{
 "cells": [
  {
   "cell_type": "markdown",
   "metadata": {},
   "source": [
    "# Exercise 9: Which stocks move together?\n",
    "\n",
    "In the previous exercise, you clustered companies by their daily stock price movements.  So which company have stock prices that tend to change in the same way?  Now inspect the cluster labels from your clustering to find out."
   ]
  },
  {
   "cell_type": "markdown",
   "metadata": {},
   "source": [
    "**Step 1:** Load the data _(written for you)_."
   ]
  },
  {
   "cell_type": "code",
   "execution_count": 1,
   "metadata": {
    "collapsed": true,
    "exercise": false
   },
   "outputs": [],
   "source": [
    "import pandas as pd\n",
    "\n",
    "fn = '../datasets/company-stock-movements-2010-2015-incl.csv'\n",
    "stocks_df = pd.read_csv(fn, index_col=0)"
   ]
  },
  {
   "cell_type": "markdown",
   "metadata": {},
   "source": [
    "**Step 2:** Run your code from the previous exercise _(filled in for you)_."
   ]
  },
  {
   "cell_type": "code",
   "execution_count": 2,
   "metadata": {
    "exercise": false
   },
   "outputs": [
    {
     "output_type": "execute_result",
     "data": {
      "text/plain": [
       "Pipeline(memory=None,\n",
       "         steps=[('normalizer', Normalizer(copy=True, norm='l2')),\n",
       "                ('kmeans',\n",
       "                 KMeans(algorithm='auto', copy_x=True, init='k-means++',\n",
       "                        max_iter=300, n_clusters=14, n_init=10, n_jobs=None,\n",
       "                        precompute_distances='auto', random_state=None,\n",
       "                        tol=0.0001, verbose=0))],\n",
       "         verbose=False)"
      ]
     },
     "metadata": {},
     "execution_count": 2
    }
   ],
   "source": [
    "companies = list(stocks_df.index)\n",
    "movements = stocks_df.values\n",
    "\n",
    "from sklearn.preprocessing import Normalizer\n",
    "from sklearn.cluster import KMeans\n",
    "from sklearn.pipeline import make_pipeline\n",
    "\n",
    "normalizer = Normalizer()\n",
    "kmeans = KMeans(n_clusters=14)\n",
    "pipeline = make_pipeline(normalizer, kmeans)\n",
    "pipeline.fit(movements)"
   ]
  },
  {
   "cell_type": "markdown",
   "metadata": {},
   "source": [
    "**Step 3:** Use the `.predict()` method of the pipeline to predict the labels for `movements`."
   ]
  },
  {
   "cell_type": "code",
   "execution_count": 3,
   "metadata": {
    "collapsed": true
   },
   "outputs": [],
   "source": [
    "labels = pipeline.predict(movements)"
   ]
  },
  {
   "cell_type": "markdown",
   "metadata": {},
   "source": [
    "**Step 4:** Align the cluster labels with the list of company names `companies` by creating a DataFrame `df` with `labels` and `companies` as columns."
   ]
  },
  {
   "cell_type": "code",
   "execution_count": 12,
   "metadata": {
    "collapsed": true
   },
   "outputs": [],
   "source": [
    "df = pd.DataFrame({'labels': labels, 'companies': companies})"
   ]
  },
  {
   "cell_type": "markdown",
   "metadata": {},
   "source": [
    "**Step 5:** Now display the DataFrame, sorted by cluster label.  To do this, use the `.sort_values()` method of `df` to sort the DataFrame by the `'labels'` column."
   ]
  },
  {
   "cell_type": "code",
   "execution_count": 11,
   "metadata": {},
   "outputs": [
    {
     "output_type": "execute_result",
     "data": {
      "text/plain": [
       "    labels                           companies\n",
       "46       0                      Sanofi-Aventis\n",
       "37       0                            Novartis\n",
       "20       0                          Home Depot\n",
       "6        0            British American Tobacco\n",
       "19       0                     GlaxoSmithKline\n",
       "52       0                            Unilever\n",
       "49       0                               Total\n",
       "47       0                            Symantec\n",
       "43       0                                 SAP\n",
       "42       0                   Royal Dutch Shell\n",
       "31       1                           McDonalds\n",
       "56       1                            Wal-Mart\n",
       "38       1                               Pepsi\n",
       "28       1                           Coca Cola\n",
       "41       1                       Philip Morris\n",
       "36       2                    Northrop Grumman\n",
       "29       2                     Lookheed Martin\n",
       "54       2                            Walgreen\n",
       "4        2                              Boeing\n",
       "18       3                       Goldman Sachs\n",
       "55       3                         Wells Fargo\n",
       "5        3                     Bank of America\n",
       "3        3                    American express\n",
       "1        3                                 AIG\n",
       "16       3                   General Electrics\n",
       "26       3                      JPMorgan Chase\n",
       "0        4                               Apple\n",
       "17       4                     Google/Alphabet\n",
       "13       5                   DuPont de Nemours\n",
       "57       5                               Exxon\n",
       "8        5                         Caterpillar\n",
       "53       5                       Valero Energy\n",
       "23       5                                 IBM\n",
       "32       5                                  3M\n",
       "10       5                      ConocoPhillips\n",
       "12       5                             Chevron\n",
       "44       5                        Schlumberger\n",
       "25       5                   Johnson & Johnson\n",
       "39       5                              Pfizer\n",
       "9        6                   Colgate-Palmolive\n",
       "27       6                      Kimberly-Clark\n",
       "40       6                      Procter Gamble\n",
       "30       7                          MasterCard\n",
       "15       8                                Ford\n",
       "21       8                               Honda\n",
       "7        8                               Canon\n",
       "45       8                                Sony\n",
       "58       8                               Xerox\n",
       "48       8                              Toyota\n",
       "34       8                          Mitsubishi\n",
       "35       9                            Navistar\n",
       "2       10                              Amazon\n",
       "59      10                               Yahoo\n",
       "14      11                                Dell\n",
       "22      12                                  HP\n",
       "51      13                   Texas instruments\n",
       "11      13                               Cisco\n",
       "24      13                               Intel\n",
       "33      13                           Microsoft\n",
       "50      13  Taiwan Semiconductor Manufacturing"
      ],
      "text/html": "<div>\n<style scoped>\n    .dataframe tbody tr th:only-of-type {\n        vertical-align: middle;\n    }\n\n    .dataframe tbody tr th {\n        vertical-align: top;\n    }\n\n    .dataframe thead th {\n        text-align: right;\n    }\n</style>\n<table border=\"1\" class=\"dataframe\">\n  <thead>\n    <tr style=\"text-align: right;\">\n      <th></th>\n      <th>labels</th>\n      <th>companies</th>\n    </tr>\n  </thead>\n  <tbody>\n    <tr>\n      <th>46</th>\n      <td>0</td>\n      <td>Sanofi-Aventis</td>\n    </tr>\n    <tr>\n      <th>37</th>\n      <td>0</td>\n      <td>Novartis</td>\n    </tr>\n    <tr>\n      <th>20</th>\n      <td>0</td>\n      <td>Home Depot</td>\n    </tr>\n    <tr>\n      <th>6</th>\n      <td>0</td>\n      <td>British American Tobacco</td>\n    </tr>\n    <tr>\n      <th>19</th>\n      <td>0</td>\n      <td>GlaxoSmithKline</td>\n    </tr>\n    <tr>\n      <th>52</th>\n      <td>0</td>\n      <td>Unilever</td>\n    </tr>\n    <tr>\n      <th>49</th>\n      <td>0</td>\n      <td>Total</td>\n    </tr>\n    <tr>\n      <th>47</th>\n      <td>0</td>\n      <td>Symantec</td>\n    </tr>\n    <tr>\n      <th>43</th>\n      <td>0</td>\n      <td>SAP</td>\n    </tr>\n    <tr>\n      <th>42</th>\n      <td>0</td>\n      <td>Royal Dutch Shell</td>\n    </tr>\n    <tr>\n      <th>31</th>\n      <td>1</td>\n      <td>McDonalds</td>\n    </tr>\n    <tr>\n      <th>56</th>\n      <td>1</td>\n      <td>Wal-Mart</td>\n    </tr>\n    <tr>\n      <th>38</th>\n      <td>1</td>\n      <td>Pepsi</td>\n    </tr>\n    <tr>\n      <th>28</th>\n      <td>1</td>\n      <td>Coca Cola</td>\n    </tr>\n    <tr>\n      <th>41</th>\n      <td>1</td>\n      <td>Philip Morris</td>\n    </tr>\n    <tr>\n      <th>36</th>\n      <td>2</td>\n      <td>Northrop Grumman</td>\n    </tr>\n    <tr>\n      <th>29</th>\n      <td>2</td>\n      <td>Lookheed Martin</td>\n    </tr>\n    <tr>\n      <th>54</th>\n      <td>2</td>\n      <td>Walgreen</td>\n    </tr>\n    <tr>\n      <th>4</th>\n      <td>2</td>\n      <td>Boeing</td>\n    </tr>\n    <tr>\n      <th>18</th>\n      <td>3</td>\n      <td>Goldman Sachs</td>\n    </tr>\n    <tr>\n      <th>55</th>\n      <td>3</td>\n      <td>Wells Fargo</td>\n    </tr>\n    <tr>\n      <th>5</th>\n      <td>3</td>\n      <td>Bank of America</td>\n    </tr>\n    <tr>\n      <th>3</th>\n      <td>3</td>\n      <td>American express</td>\n    </tr>\n    <tr>\n      <th>1</th>\n      <td>3</td>\n      <td>AIG</td>\n    </tr>\n    <tr>\n      <th>16</th>\n      <td>3</td>\n      <td>General Electrics</td>\n    </tr>\n    <tr>\n      <th>26</th>\n      <td>3</td>\n      <td>JPMorgan Chase</td>\n    </tr>\n    <tr>\n      <th>0</th>\n      <td>4</td>\n      <td>Apple</td>\n    </tr>\n    <tr>\n      <th>17</th>\n      <td>4</td>\n      <td>Google/Alphabet</td>\n    </tr>\n    <tr>\n      <th>13</th>\n      <td>5</td>\n      <td>DuPont de Nemours</td>\n    </tr>\n    <tr>\n      <th>57</th>\n      <td>5</td>\n      <td>Exxon</td>\n    </tr>\n    <tr>\n      <th>8</th>\n      <td>5</td>\n      <td>Caterpillar</td>\n    </tr>\n    <tr>\n      <th>53</th>\n      <td>5</td>\n      <td>Valero Energy</td>\n    </tr>\n    <tr>\n      <th>23</th>\n      <td>5</td>\n      <td>IBM</td>\n    </tr>\n    <tr>\n      <th>32</th>\n      <td>5</td>\n      <td>3M</td>\n    </tr>\n    <tr>\n      <th>10</th>\n      <td>5</td>\n      <td>ConocoPhillips</td>\n    </tr>\n    <tr>\n      <th>12</th>\n      <td>5</td>\n      <td>Chevron</td>\n    </tr>\n    <tr>\n      <th>44</th>\n      <td>5</td>\n      <td>Schlumberger</td>\n    </tr>\n    <tr>\n      <th>25</th>\n      <td>5</td>\n      <td>Johnson &amp; Johnson</td>\n    </tr>\n    <tr>\n      <th>39</th>\n      <td>5</td>\n      <td>Pfizer</td>\n    </tr>\n    <tr>\n      <th>9</th>\n      <td>6</td>\n      <td>Colgate-Palmolive</td>\n    </tr>\n    <tr>\n      <th>27</th>\n      <td>6</td>\n      <td>Kimberly-Clark</td>\n    </tr>\n    <tr>\n      <th>40</th>\n      <td>6</td>\n      <td>Procter Gamble</td>\n    </tr>\n    <tr>\n      <th>30</th>\n      <td>7</td>\n      <td>MasterCard</td>\n    </tr>\n    <tr>\n      <th>15</th>\n      <td>8</td>\n      <td>Ford</td>\n    </tr>\n    <tr>\n      <th>21</th>\n      <td>8</td>\n      <td>Honda</td>\n    </tr>\n    <tr>\n      <th>7</th>\n      <td>8</td>\n      <td>Canon</td>\n    </tr>\n    <tr>\n      <th>45</th>\n      <td>8</td>\n      <td>Sony</td>\n    </tr>\n    <tr>\n      <th>58</th>\n      <td>8</td>\n      <td>Xerox</td>\n    </tr>\n    <tr>\n      <th>48</th>\n      <td>8</td>\n      <td>Toyota</td>\n    </tr>\n    <tr>\n      <th>34</th>\n      <td>8</td>\n      <td>Mitsubishi</td>\n    </tr>\n    <tr>\n      <th>35</th>\n      <td>9</td>\n      <td>Navistar</td>\n    </tr>\n    <tr>\n      <th>2</th>\n      <td>10</td>\n      <td>Amazon</td>\n    </tr>\n    <tr>\n      <th>59</th>\n      <td>10</td>\n      <td>Yahoo</td>\n    </tr>\n    <tr>\n      <th>14</th>\n      <td>11</td>\n      <td>Dell</td>\n    </tr>\n    <tr>\n      <th>22</th>\n      <td>12</td>\n      <td>HP</td>\n    </tr>\n    <tr>\n      <th>51</th>\n      <td>13</td>\n      <td>Texas instruments</td>\n    </tr>\n    <tr>\n      <th>11</th>\n      <td>13</td>\n      <td>Cisco</td>\n    </tr>\n    <tr>\n      <th>24</th>\n      <td>13</td>\n      <td>Intel</td>\n    </tr>\n    <tr>\n      <th>33</th>\n      <td>13</td>\n      <td>Microsoft</td>\n    </tr>\n    <tr>\n      <th>50</th>\n      <td>13</td>\n      <td>Taiwan Semiconductor Manufacturing</td>\n    </tr>\n  </tbody>\n</table>\n</div>"
     },
     "metadata": {},
     "execution_count": 11
    }
   ],
   "source": [
    "df.sort_values(by=['labels'])"
   ]
  },
  {
   "cell_type": "markdown",
   "metadata": {},
   "source": [
    "**Great job!** Using k-means, you've discovered which companies stock prices move together on the stock exchange."
   ]
  },
  {
   "cell_type": "code",
   "execution_count": null,
   "metadata": {
    "collapsed": true
   },
   "outputs": [],
   "source": []
  }
 ],
 "metadata": {
  "kernelspec": {
   "display_name": "Python 3",
   "language": "python",
   "name": "python3"
  },
  "language_info": {
   "codemirror_mode": {
    "name": "ipython",
    "version": 3
   },
   "file_extension": ".py",
   "mimetype": "text/x-python",
   "name": "python",
   "nbconvert_exporter": "python",
   "pygments_lexer": "ipython3",
   "version": "3.8.6-final"
  }
 },
 "nbformat": 4,
 "nbformat_minor": 2
}
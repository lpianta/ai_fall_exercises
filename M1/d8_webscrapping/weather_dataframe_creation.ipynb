{
 "metadata": {
  "language_info": {
   "codemirror_mode": {
    "name": "ipython",
    "version": 3
   },
   "file_extension": ".py",
   "mimetype": "text/x-python",
   "name": "python",
   "nbconvert_exporter": "python",
   "pygments_lexer": "ipython3",
   "version": "3.7.9-final"
  },
  "orig_nbformat": 2,
  "kernelspec": {
   "name": "python37964bitwebscrappingconda04da6842d5b04dbdb64a3a6f702deb38",
   "display_name": "Python 3.7.9 64-bit ('web_scrapping': conda)"
  }
 },
 "nbformat": 4,
 "nbformat_minor": 2,
 "cells": [
  {
   "cell_type": "code",
   "execution_count": 94,
   "metadata": {},
   "outputs": [],
   "source": [
    "import pandas as pd\n",
    "import requests\n",
    "from bs4 import BeautifulSoup\n",
    "import datetime"
   ]
  },
  {
   "cell_type": "code",
   "execution_count": 9,
   "metadata": {},
   "outputs": [],
   "source": [
    "page = requests.get(\"https://weather.com/weather/tenday/l/San+Francisco+CA?canonicalCityId=dfdaba8cbe3a4d12a8796e1f7b1ccc7174b4b0a2d5ddb1c8566ae9f154fa638c\")\n",
    "#page\n",
    "#page.status_code\n",
    "#page.content"
   ]
  },
  {
   "cell_type": "code",
   "execution_count": 80,
   "metadata": {},
   "outputs": [],
   "source": [
    "def converter(fahrenheit):\n",
    "    celsius = (float(fahrenheit) - 32) * (5/9)\n",
    "    return round(celsius, 1)"
   ]
  },
  {
   "cell_type": "code",
   "execution_count": 124,
   "metadata": {
    "tags": []
   },
   "outputs": [],
   "source": [
    "soup_page =BeautifulSoup(page.content, 'html.parser')\n",
    "days = soup.find_all('h2', class_='DetailsSummary--daypartName--1Mebr')\n",
    "days_list = []\n",
    "for i in days:\n",
    "    day = i.get_text().split()[0]\n",
    "    days_list.append(day)\n",
    "#print(days_list)\n",
    "\n",
    "\n",
    "date_list = []\n",
    "for i in range(10):\n",
    "    date=datetime.datetime.now() + datetime.timedelta(days=i)\n",
    "    date_list.append(date.strftime('%m-%d'))\n",
    "#print(date_list)\n",
    "\n",
    "condition_description = soup.find_all('span', class_='DetailsSummary--extendedData--aaFeV')\n",
    "condition_list = []\n",
    "for i in condition_description:\n",
    "    condition = i.get_text()\n",
    "    condition_list.append(condition)\n",
    "#print(condition_list)\n",
    "\n",
    "mmax_temp = soup.find_all('span', class_='DetailsSummary--highTempValue--3x6cL')\n",
    "mmax_temp_list = []\n",
    "for i in mmax_temp:\n",
    "    mmax = i.get_text().replace('°', '')\n",
    "    mmax_temp_list.append(mmax)\n",
    "mmax_temp_celsius = []\n",
    "for i in mmax_temp_list:\n",
    "    mmax_temp_celsius.append(converter(i))\n",
    "#print(mmax_temp_celsius)\n",
    "\n",
    "mmin_temp = soup.find_all('span', class_='DetailsSummary--lowTempValue--1DlJK')\n",
    "mmin_temp_list = []\n",
    "for i in mmin_temp:\n",
    "    mmin = i.get_text().replace('°', '')    \n",
    "    converter(mmin)\n",
    "    mmin_temp_list.append(mmin)\n",
    "mmin_temp_celsius = []\n",
    "for i in mmin_temp_list:\n",
    "    mmin_temp_celsius.append(converter(i))\n",
    "#print(mmin_temp_celsius)\n",
    "\n",
    "element_targetted = ['DetailsSummary--daypartName--1Mebr', 'NaN', 'DetailsSummary--extendedData--aaFeV', 'DetailsSummary--highTempValue--3x6cL', 'DetailsSummary--lowTempValue--1DlJK' ]"
   ]
  },
  {
   "cell_type": "code",
   "execution_count": 126,
   "metadata": {},
   "outputs": [
    {
     "output_type": "stream",
     "name": "stdout",
     "text": [
      "        date           condition  max temp  min temp\nday                                                 \nToday  12-09       Partly Cloudy      17.2       6.1\nThu    12-10  Partly Cloudy/Wind      13.3       6.7\nFri    12-11       Partly Cloudy      12.8       7.2\nSat    12-12             Showers      13.3       7.8\nSun    12-13             Showers      13.9       8.3\nMon    12-14       Partly Cloudy      13.9       6.7\nTue    12-15       Partly Cloudy      13.3       6.7\nWed    12-16             Showers      13.9       7.2\nThu    12-17             Showers      13.3       6.7\nFri    12-18       Partly Cloudy      13.9       6.7\n"
     ]
    }
   ],
   "source": [
    "df_weather_dict = {'day' : days_list[0:10],\n",
    "            'date': date_list[0:10],\n",
    "            'condition': condition_list[0:10],\n",
    "            'max temp': mmax_temp_celsius[0:10],\n",
    "            'min temp': mmin_temp_celsius[0:10]}\n",
    "df_weather = pd.DataFrame(df_weather_dict).set_index('day')\n",
    "\n",
    "\n",
    "print(df_weather)"
   ]
  }
 ]
}
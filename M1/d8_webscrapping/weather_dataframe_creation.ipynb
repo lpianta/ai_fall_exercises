{
 "metadata": {
  "language_info": {
   "codemirror_mode": {
    "name": "ipython",
    "version": 3
   },
   "file_extension": ".py",
   "mimetype": "text/x-python",
   "name": "python",
   "nbconvert_exporter": "python",
   "pygments_lexer": "ipython3",
   "version": "3.7.9-final"
  },
  "orig_nbformat": 2,
  "kernelspec": {
   "name": "python37964bitwebscrappingconda04da6842d5b04dbdb64a3a6f702deb38",
   "display_name": "Python 3.7.9 64-bit ('web_scrapping': conda)"
  }
 },
 "nbformat": 4,
 "nbformat_minor": 2,
 "cells": [
  {
   "cell_type": "code",
   "execution_count": 94,
   "metadata": {},
   "outputs": [],
   "source": [
    "import pandas as pd\n",
    "import requests\n",
    "from bs4 import BeautifulSoup\n",
    "import datetime"
   ]
  },
  {
   "cell_type": "code",
   "execution_count": 9,
   "metadata": {},
   "outputs": [],
   "source": [
    "page = requests.get(\"https://weather.com/weather/tenday/l/San+Francisco+CA?canonicalCityId=dfdaba8cbe3a4d12a8796e1f7b1ccc7174b4b0a2d5ddb1c8566ae9f154fa638c\")\n",
    "#page\n",
    "#page.status_code\n",
    "#page.content"
   ]
  },
  {
   "cell_type": "code",
   "execution_count": 80,
   "metadata": {},
   "outputs": [],
   "source": [
    "def converter(fahrenheit):\n",
    "    celsius = (float(fahrenheit) - 32) * (5/9)\n",
    "    return round(celsius, 1)"
   ]
  },
  {
   "cell_type": "code",
   "execution_count": 134,
   "metadata": {
    "tags": []
   },
   "outputs": [],
   "source": [
    "soup_page =BeautifulSoup(page.content, 'html.parser')\n",
    "days = soup.find_all('h2', class_='DetailsSummary--daypartName--1Mebr')\n",
    "days_list = []\n",
    "for i in days:\n",
    "    day = i.get_text().split()[0]\n",
    "    days_list.append(day)\n",
    "#print(days_list)\n",
    "\n",
    "\n",
    "date_list = []\n",
    "for i in range(10):\n",
    "    date=datetime.datetime.now() + datetime.timedelta(days=i)\n",
    "    date_list.append(date.strftime('%m-%d'))\n",
    "#print(date_list)\n",
    "\n",
    "condition_description = soup.find_all('p', class_='DailyContent--narrative--3AcXd')\n",
    "condition_list = []\n",
    "for i in condition_description:\n",
    "    condition = i.get_text()\n",
    "    condition_list.append(condition)\n",
    "#print(condition_list)\n",
    "\n",
    "mmax_temp = soup.find_all('span', class_='DetailsSummary--highTempValue--3x6cL')\n",
    "mmax_temp_list = []\n",
    "for i in mmax_temp:\n",
    "    mmax = i.get_text().replace('°', '')\n",
    "    mmax_temp_list.append(mmax)\n",
    "mmax_temp_celsius = []\n",
    "for i in mmax_temp_list:\n",
    "    mmax_temp_celsius.append(converter(i))\n",
    "#print(mmax_temp_celsius)\n",
    "\n",
    "mmin_temp = soup.find_all('span', class_='DetailsSummary--lowTempValue--1DlJK')\n",
    "mmin_temp_list = []\n",
    "for i in mmin_temp:\n",
    "    mmin = i.get_text().replace('°', '')    \n",
    "    converter(mmin)\n",
    "    mmin_temp_list.append(mmin)\n",
    "mmin_temp_celsius = []\n",
    "for i in mmin_temp_list:\n",
    "    mmin_temp_celsius.append(converter(i))\n",
    "#print(mmin_temp_celsius)\n",
    "\n",
    "element_targetted = ['DetailsSummary--daypartName--1Mebr', 'NaN', 'DetailsSummary--extendedData--aaFeV', 'DetailsSummary--highTempValue--3x6cL', 'DetailsSummary--lowTempValue--1DlJK' ]"
   ]
  },
  {
   "cell_type": "code",
   "execution_count": 135,
   "metadata": {},
   "outputs": [
    {
     "output_type": "stream",
     "name": "stdout",
     "text": [
      "        date                                          condition  max temp  \\\nday                                                                         \nToday  12-09  Sunshine and clouds mixed. High 63F. Winds N a...      17.2   \nThu    12-10  Partly cloudy early with increasing clouds ove...      13.3   \nFri    12-11  Some clouds early. Mostly sunny along with win...      12.8   \nSat    12-12  Clear during the evening followed by mostly cl...      13.3   \nSun    12-13  Partly cloudy. High around 55F. Winds NW at 10...      13.9   \nMon    12-14  Cloudy with occasional showers. Low near 45F. ...      13.9   \nTue    12-15  Cloudy with occasional rain showers. High 56F....      13.3   \nWed    12-16  Cloudy with occasional showers. Low 46F. Winds...      13.9   \nThu    12-17  Cloudy with showers. High 57F. Winds SSW at 10...      13.3   \nFri    12-18  Showers early becoming less numerous late. Low...      13.9   \n\n       min temp  \nday              \nToday       6.1  \nThu         6.7  \nFri         7.2  \nSat         7.8  \nSun         8.3  \nMon         6.7  \nTue         6.7  \nWed         7.2  \nThu         6.7  \nFri         6.7  \n"
     ]
    }
   ],
   "source": [
    "df_weather_dict = {'day' : days_list[0:10],\n",
    "            'date': date_list[0:10],\n",
    "            'condition': condition_list[0:10],\n",
    "            'max temp': mmax_temp_celsius[0:10],\n",
    "            'min temp': mmin_temp_celsius[0:10]}\n",
    "df_weather = pd.DataFrame(df_weather_dict).set_index('day')\n",
    "\n",
    "\n",
    "print(df_weather)"
   ]
  }
 ]
}
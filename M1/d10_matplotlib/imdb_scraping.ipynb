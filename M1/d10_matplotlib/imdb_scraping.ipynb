{
 "metadata": {
  "language_info": {
   "codemirror_mode": {
    "name": "ipython",
    "version": 3
   },
   "file_extension": ".py",
   "mimetype": "text/x-python",
   "name": "python",
   "nbconvert_exporter": "python",
   "pygments_lexer": "ipython3",
   "version": 3
  },
  "orig_nbformat": 2
 },
 "nbformat": 4,
 "nbformat_minor": 2,
 "cells": [
  {
   "cell_type": "code",
   "execution_count": null,
   "metadata": {},
   "outputs": [],
   "source": [
    "import pandas as pd\n",
    "import requests\n",
    "from bs4 import BeautifulSoup\n",
    "import matplotlib.pyplot as plt\n",
    "import numpy as np"
   ]
  },
  {
   "cell_type": "code",
   "execution_count": null,
   "metadata": {},
   "outputs": [],
   "source": [
    "page = requests.get('https://www.imdb.com/list/ls091520106/')\n",
    "soup =BeautifulSoup(page.content, 'html.parser')"
   ]
  },
  {
   "cell_type": "code",
   "execution_count": null,
   "metadata": {},
   "outputs": [],
   "source": [
    "duration = []\n",
    "for run in soup.find_all('span', class_='runtime'):\n",
    "    duration.append(run.get_text())\n",
    "print(duration)"
   ]
  },
  {
   "cell_type": "code",
   "execution_count": null,
   "metadata": {},
   "outputs": [],
   "source": [
    "rating = []\n",
    "for rate in soup.find_all('div', class_='ipl-rating-star small'):\n",
    "    rate.get_text()\n",
    "    rating.append(rate.get_text().replace('\\n', ''))\n",
    "print(rating)"
   ]
  },
  {
   "cell_type": "code",
   "execution_count": null,
   "metadata": {},
   "outputs": [],
   "source": [
    "# Get name info:\n",
    "movie_name = []\n",
    "for name in soup.find_all('h3', class_=\"lister-item-header\"):  # iterate over every <a> tag\n",
    "    movie_name.append(name.get_text())\n",
    "\n",
    "# Replace extra characters to get just names of movies:\n",
    "movie_name[:] = [s.replace('\\n', '') for s in movie_name]\n",
    "top_movies = []\n",
    "for movie in movie_name:\n",
    "    top_movies.append(''.join(c if c.isalpha() or c == ' ' else '' for c in movie))\n",
    "print(top_movies)\n",
    "#print(len(top_movies))\n",
    "\n",
    "\n",
    "# Get descriptions:\n",
    "description = []\n",
    "for desc in soup.find_all('p', class_=\"\"):\n",
    "    description.append(desc.get_text())\n",
    "\n",
    "description[:] = [t.replace('\\n', '').replace('    ', '') for t in description]\n",
    "description = description[1:]\n",
    "print(description)\n",
    "#print(len(description))"
   ]
  },
  {
   "cell_type": "code",
   "execution_count": null,
   "metadata": {},
   "outputs": [],
   "source": [
    "release_dates = soup.find_all('span', class_='lister-item-year text-muted unbold')\n",
    "release_list = []\n",
    "for i in release_dates:\n",
    "    date = i.get_text().replace('(', '').replace(')', '')\n",
    "    release_list.append(date)\n",
    "print(release_list)"
   ]
  },
  {
   "cell_type": "code",
   "execution_count": null,
   "metadata": {},
   "outputs": [],
   "source": [
    "all_names = soup.find_all('p', class_='text-muted text-small')[1:]\n",
    "directors_list_dirty = []\n",
    "for i in all_names:\n",
    "    all_directors_names = i.find('a')\n",
    "    directors_list_dirty.append(all_directors_names)\n",
    "\n",
    "directors_list = []\n",
    "for i in directors_list_dirty[::3]:\n",
    "    director_name = i.get_text()\n",
    "    directors_list.append(director_name)\n",
    "print(directors_list)"
   ]
  },
  {
   "cell_type": "code",
   "execution_count": null,
   "metadata": {},
   "outputs": [],
   "source": [
    "# Get Genre Names\n",
    "all_genre =[]\n",
    "genre = soup.find_all(\"span\",{\"class\":\"genre\"})\n",
    "for typ in genre:\n",
    "    all_genre.append(typ.get_text().strip())\n",
    "print(all_genre)\n",
    "\n",
    "# Get Star names\n",
    "all_p = soup.find_all('p',class_='text-muted text-small')\n",
    "all_stars_m = []\n",
    "for a in all_p:\n",
    "     stars = a.get_text().strip().replace(\"\\n\",'')\n",
    "     all_stars_m.append(stars)\n",
    "     #print(stars)\n",
    "#print(all_stars)\n",
    "\n",
    "all_stars =[]\n",
    "for i in all_stars_m:\n",
    "     if \"Stars\" in i:\n",
    "          start = i.find('Stars:') +6\n",
    "          end = len(i)\n",
    "          star = i[start:end]\n",
    "          all_stars.append(star)\n",
    "print(all_stars)"
   ]
  },
  {
   "cell_type": "code",
   "execution_count": null,
   "metadata": {},
   "outputs": [],
   "source": [
    "pd.set_option('display.max_colwidth', 1)\n",
    "\n",
    "data = {'Description': description,\n",
    "        'Release Date': release_list,\n",
    "        'Director Name': directors_list,\n",
    "        'Rating': rating,\n",
    "        'Duration': duration,\n",
    "        'Genre': all_genre,\n",
    "        'Stars': all_stars\n",
    "}\n",
    "labels = top_movies\n",
    "\n",
    "df = pd.DataFrame(data, index= labels)\n",
    "df"
   ]
  }
 ]
}
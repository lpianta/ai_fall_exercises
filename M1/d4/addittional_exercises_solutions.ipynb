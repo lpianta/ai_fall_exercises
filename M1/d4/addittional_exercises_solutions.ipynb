{
 "metadata": {
  "language_info": {
   "codemirror_mode": {
    "name": "ipython",
    "version": 3
   },
   "file_extension": ".py",
   "mimetype": "text/x-python",
   "name": "python",
   "nbconvert_exporter": "python",
   "pygments_lexer": "ipython3",
   "version": "3.8.6-final"
  },
  "orig_nbformat": 2,
  "kernelspec": {
   "name": "python38664bita2c3b62c36c84dcba56bbed418361bd6",
   "display_name": "Python 3.8.6 64-bit"
  }
 },
 "nbformat": 4,
 "nbformat_minor": 2,
 "cells": [
  {
   "cell_type": "code",
   "execution_count": 11,
   "metadata": {},
   "outputs": [
    {
     "output_type": "stream",
     "name": "stdout",
     "text": [
      "{'dollars': 1, 'quarters': 2, 'dimes': 0, 'nickels': 1, 'pennies': 1}\n"
     ]
    }
   ],
   "source": [
    "def cashier(cents):\n",
    "    cents = cents\n",
    "    dollars_count = cents // 100\n",
    "    dollars_change = cents % 100\n",
    "    quarters_count = dollars_change // 25\n",
    "    quarters_change = dollars_change % 25\n",
    "    dimes_count = quarters_change // 10\n",
    "    dimes_changes = quarters_change % 10\n",
    "    nickels_count = dimes_changes // 5\n",
    "    pennies_count = dimes_changes % 5\n",
    "    cashier_dict = {\n",
    "        'dollars': dollars_count,\n",
    "        'quarters': quarters_count,\n",
    "        'dimes': dimes_count,\n",
    "        'nickels': nickels_count,\n",
    "        'pennies': pennies_count\n",
    "    }\n",
    "    print(cashier_dict)\n",
    "\n",
    "cashier(156)\n",
    "\n"
   ]
  },
  {
   "cell_type": "code",
   "execution_count": 12,
   "metadata": {},
   "outputs": [
    {
     "output_type": "stream",
     "name": "stdout",
     "text": [
      "120\n"
     ]
    }
   ],
   "source": [
    "# Factorial\n",
    "def factorial(number):                               \n",
    "    #Your Code Here\n",
    "    for i in range(1, number):\n",
    "        number = number * i\n",
    "    print(number)\n",
    "\n",
    "factorial(5)"
   ]
  },
  {
   "cell_type": "code",
   "execution_count": 32,
   "metadata": {},
   "outputs": [
    {
     "output_type": "stream",
     "name": "stdout",
     "text": [
      ". | 1 2 3 4 5 6 7 8 9 10 \n----------------------------------------\n1 | 1 2 3 4 5 6 7 8 9 10 \n2 | 2 4 6 8 10 12 14 16 18 20 \n3 | 3 6 9 12 15 18 21 24 27 30 \n4 | 4 8 12 16 20 24 28 32 36 40 \n5 | 5 10 15 20 25 30 35 40 45 50 \n6 | 6 12 18 24 30 36 42 48 54 60 \n7 | 7 14 21 28 35 42 49 56 63 70 \n8 | 8 16 24 32 40 48 56 64 72 80 \n9 | 9 18 27 36 45 54 63 72 81 90 \n10 | 10 20 30 40 50 60 70 80 90 100 \n"
     ]
    }
   ],
   "source": [
    "def multiplication_table(num):\n",
    "    header = \". | \"\n",
    "    for x in range(1, num + 1):\n",
    "        header += str(x) + \" \"\n",
    "    print(header)\n",
    "    print(\"----\" * num)\n",
    "    for i in range(1, num + 1):\n",
    "        row = str(i) + \" | \"\n",
    "        for j in range(1, num + 1):\n",
    "            row += str(i*j) + \" \"\n",
    "        print(row)\n",
    "\n",
    "\n",
    "multiplication_table(10)"
   ]
  }
 ]
}
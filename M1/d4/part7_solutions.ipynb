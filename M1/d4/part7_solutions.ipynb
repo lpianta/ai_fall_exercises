{
 "metadata": {
  "language_info": {
   "codemirror_mode": {
    "name": "ipython",
    "version": 3
   },
   "file_extension": ".py",
   "mimetype": "text/x-python",
   "name": "python",
   "nbconvert_exporter": "python",
   "pygments_lexer": "ipython3",
   "version": "3.8.6-final"
  },
  "orig_nbformat": 2,
  "kernelspec": {
   "name": "python38664bita2c3b62c36c84dcba56bbed418361bd6",
   "display_name": "Python 3.8.6 64-bit"
  }
 },
 "nbformat": 4,
 "nbformat_minor": 2,
 "cells": [
  {
   "cell_type": "code",
   "execution_count": 9,
   "metadata": {
    "tags": [
     "outputPrepend"
    ]
   },
   "outputs": [
    {
     "output_type": "stream",
     "name": "stdout",
     "text": [
      "ng': 1, 'wands': 1, 'want': 2, 'warbled': 1, 'warbling': 2, 'warm.': 1, 'warm:': 1, 'warm;': 1, 'was': 30, 'wash': 1, 'washed': 1, 'waste;': 1, 'wasted': 1, 'watching': 1, 'watchman': 1, 'water': 2, 'water?': 1, 'watered': 2, 'waters': 2, 'watery': 2, 'watry': 2, 'waves': 1, 'way': 2, 'ways': 2, 'ways.': 1, 'ways;': 1, 'we': 13, \"we'd\": 3, 'we.': 1, 'weak': 2, 'weak,': 2, 'weakness,': 1, 'weakness.': 1, 'weary': 3, 'weary,': 2, 'weave': 2, 'weed,': 1, 'weep': 3, 'weep!': 2, 'weep!\"': 2, 'weep,': 3, 'weep.': 6, 'weep:': 2, 'weep;': 1, 'weep?': 2, 'weeping': 11, 'weeping,': 2, 'weeping.': 1, 'weigh': 1, 'welcome': 4, 'well,': 1, 'well;': 1, 'went': 4, 'wept': 8, 'wept:': 1, 'were': 10, 'west,': 1, 'wet': 1, 'what': 25, \"whate'er\": 1, 'when': 28, 'where': 24, \"where'er\": 2, 'which': 1, 'while': 13, 'while;': 1, 'whirlpool': 1, 'whisperings': 1, 'white': 9, 'white!': 1, 'white,': 1, 'white.': 1, 'who': 18, 'whose': 1, 'why': 15, 'wide': 1, 'wight': 1, 'wild': 4, 'wild,': 3, 'wild.': 2, 'wildered,': 1, 'wiles.': 1, 'wilful': 1, 'will': 3, 'william': 2, 'willm.': 1, 'wilt': 3, 'wind': 1, 'wind;': 1, 'wind?': 1, 'winds': 1, 'wine': 1, 'wing,': 1, 'wing.': 1, 'wings': 2, 'wings,': 1, 'winter': 3, \"winter's\": 2, \"wip'd\": 1, 'wiped': 1, 'wiping': 2, 'wisdom': 1, 'wise': 1, 'wish': 2, 'wishes': 1, 'wit,': 1, 'with': 66, 'within': 1, 'without': 2, 'witless': 1, 'woe': 2, 'woe!': 1, 'woe,': 2, 'woe-begone,': 1, 'woe.': 2, 'woe;': 1, 'woes': 1, 'wolly,': 1, 'wolves': 1, 'wolvish': 1, 'woman': 1, 'women': 1, 'wondering': 1, 'woods': 1, 'wool;': 1, 'word': 1, 'work': 2, 'work.': 1, 'world': 1, 'worlds': 1, 'worm': 5, 'worm,': 1, 'worm?': 3, 'worms': 1, 'worms,': 1, 'worms.': 1, 'worn': 1, 'worn,': 1, 'would': 5, 'wrapped': 1, 'wrath': 2, 'wrath,': 1, 'wren': 1, 'writ': 1, 'write': 1, 'written': 1, 'wrote': 1, 'year,': 1, 'year.': 4, 'yet': 5, 'you': 8, 'you,': 1, 'you;': 1, 'young,': 1, 'youngest:': 1, 'your': 11, 'youth': 6, 'youth-time': 1, 'youth.': 1, 'youthful': 4, 'zeal': 1}\n"
     ]
    }
   ],
   "source": [
    "f = open(\"./text-files/blakepoems.txt\", \"r\")\n",
    "if f.mode == \"r\":\n",
    "    content = f.read()\n",
    "    content = content.lower()\n",
    "    content = content.split()\n",
    "    word_dict = {}\n",
    "    for word in content:\n",
    "        if word in word_dict:\n",
    "            word_dict[word] += 1\n",
    "        else:\n",
    "            word_dict[word] = 1\n",
    "    sorted_dict = dict(sorted(word_dict.items(), key=lambda item: item[0]))\n",
    "    print(sorted_dict)\n",
    "    f.close()"
   ]
  },
  {
   "cell_type": "code",
   "execution_count": 10,
   "metadata": {
    "tags": [
     "outputPrepend"
    ]
   },
   "outputs": [
    {
     "output_type": "stream",
     "name": "stdout",
     "text": [
      "ng': 1, 'wands': 1, 'want': 2, 'warbled': 1, 'warbling': 2, 'warm.': 1, 'warm:': 1, 'warm;': 1, 'was': 30, 'wash': 1, 'washed': 1, 'waste;': 1, 'wasted': 1, 'watching': 1, 'watchman': 1, 'water': 2, 'water?': 1, 'watered': 2, 'waters': 2, 'watery': 2, 'watry': 2, 'waves': 1, 'way': 2, 'ways': 2, 'ways.': 1, 'ways;': 1, 'we': 13, \"we'd\": 3, 'we.': 1, 'weak': 2, 'weak,': 2, 'weakness,': 1, 'weakness.': 1, 'weary': 3, 'weary,': 2, 'weave': 2, 'weed,': 1, 'weep': 3, 'weep!': 2, 'weep!\"': 2, 'weep,': 3, 'weep.': 6, 'weep:': 2, 'weep;': 1, 'weep?': 2, 'weeping': 11, 'weeping,': 2, 'weeping.': 1, 'weigh': 1, 'welcome': 4, 'well,': 1, 'well;': 1, 'went': 4, 'wept': 8, 'wept:': 1, 'were': 10, 'west,': 1, 'wet': 1, 'what': 25, \"whate'er\": 1, 'when': 28, 'where': 24, \"where'er\": 2, 'which': 1, 'while': 13, 'while;': 1, 'whirlpool': 1, 'whisperings': 1, 'white': 9, 'white!': 1, 'white,': 1, 'white.': 1, 'who': 18, 'whose': 1, 'why': 15, 'wide': 1, 'wight': 1, 'wild': 4, 'wild,': 3, 'wild.': 2, 'wildered,': 1, 'wiles.': 1, 'wilful': 1, 'will': 3, 'william': 2, 'willm.': 1, 'wilt': 3, 'wind': 1, 'wind;': 1, 'wind?': 1, 'winds': 1, 'wine': 1, 'wing,': 1, 'wing.': 1, 'wings': 2, 'wings,': 1, 'winter': 3, \"winter's\": 2, \"wip'd\": 1, 'wiped': 1, 'wiping': 2, 'wisdom': 1, 'wise': 1, 'wish': 2, 'wishes': 1, 'wit,': 1, 'with': 66, 'within': 1, 'without': 2, 'witless': 1, 'woe': 2, 'woe!': 1, 'woe,': 2, 'woe-begone,': 1, 'woe.': 2, 'woe;': 1, 'woes': 1, 'wolly,': 1, 'wolves': 1, 'wolvish': 1, 'woman': 1, 'women': 1, 'wondering': 1, 'woods': 1, 'wool;': 1, 'word': 1, 'work': 2, 'work.': 1, 'world': 1, 'worlds': 1, 'worm': 5, 'worm,': 1, 'worm?': 3, 'worms': 1, 'worms,': 1, 'worms.': 1, 'worn': 1, 'worn,': 1, 'would': 5, 'wrapped': 1, 'wrath': 2, 'wrath,': 1, 'wren': 1, 'writ': 1, 'write': 1, 'written': 1, 'wrote': 1, 'year,': 1, 'year.': 4, 'yet': 5, 'you': 8, 'you,': 1, 'you;': 1, 'young,': 1, 'youngest:': 1, 'your': 11, 'youth': 6, 'youth-time': 1, 'youth.': 1, 'youthful': 4, 'zeal': 1}\n"
     ]
    }
   ],
   "source": [
    "f = open(\"./text-files/blakepoems.txt\", \"r\")\n",
    "if f.mode == \"r\":\n",
    "    content = f.readlines()\n",
    "    word_dict = {}\n",
    "    for line in content:\n",
    "        line = line.lower()\n",
    "        line = line.split()\n",
    "        for word in line:\n",
    "            if word in word_dict:\n",
    "                word_dict[word] += 1\n",
    "            else:\n",
    "                word_dict[word] = 1\n",
    "    print(word_dict)\n",
    "    sorted_dict = dict(sorted(word_dict.items(), key=lambda item: item[0]))\n",
    "    print(sorted_dict)\n",
    "    f.close()"
   ]
  },
  {
   "cell_type": "code",
   "execution_count": null,
   "metadata": {},
   "outputs": [],
   "source": []
  }
 ]
}
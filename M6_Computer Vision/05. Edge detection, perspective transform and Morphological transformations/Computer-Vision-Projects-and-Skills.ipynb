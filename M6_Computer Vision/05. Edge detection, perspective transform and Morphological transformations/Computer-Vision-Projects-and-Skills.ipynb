{
 "cells": [
  {
   "cell_type": "markdown",
   "metadata": {},
   "source": [
    "# Computer Vision"
   ]
  },
  {
   "cell_type": "markdown",
   "metadata": {},
   "source": [
    "### List your new Computer Vision skills, usages and importance"
   ]
  },
  {
   "cell_type": "markdown",
   "metadata": {},
   "source": [
    "**I've listed everything as we are working on an image, but all the skills belows applies to video too**\n",
    "\n",
    "1. Skill 1: How to import, show, crop, save and close an image with OpenCV. Really important to view what you're working on.\n",
    "\n",
    "1. Skill 2: Change color spaces. OpenCV automatically imports images as BGR so it's useful to know how to convert them to other color.\n",
    "\n",
    "1. Skill 3: How to draw shapes and write text on images. Really useful for a lot of tasks.\n",
    "\n",
    "1. Skill 4: How to create overlay between two images.\n",
    "\n",
    "1. Skill 5: Work with color spaces, splitting the channel and work individually on each one of them to then merge them together.\n",
    "\n",
    "1. Skill 6: Create a mask for an image.\n",
    "\n",
    "1. Skill 7: Calculate histogram for color space in an image.\n",
    "\n",
    "1. Skill 8: Affine transformation. Useful to move and rotate images.\n",
    "\n",
    "1. Skill 9: Resize images.\n",
    "\n",
    "1. Skill 10: Bitwise operator. Useful when working with more images or different shapes in the same image\n",
    "\n",
    "1. Skill 11: Blurring and sharpening filters. Useful not only for working directly on the image, but as a step for preprocessing.\n",
    "\n",
    "1. Skill 12: Edge detection. As for blurrin filters, they are useful on the image itself and for preprocessing.\n",
    "\n",
    "1. Skill 13: Brightness increases and decreases.\n",
    "\n",
    "1. Skill 14: Thresholding images. Really useful for preprocessing and because some functions require thresholded images to work.\n",
    "\n",
    "1. Skill 15: Keyboard, mouse and trackbar callbacks. Useful to test various thing on an image.\n",
    "\n",
    "1. Skill 16: Perspective transform.\n",
    "\n",
    "1. Skill 17: Image pyramids.\n",
    "\n",
    "1. Skill 18: Morphological transformation: erosion, dilation, opening and closing can be very useful when preprocessing an image.\n",
    "\n",
    "1. Skill 19: Finding, drawing, sorting and approximating contours.\n",
    "\n",
    "1. Skill 20: Template matching. Useful when we have a template to find in another images.\n",
    "\n",
    "1. Skill 21: Use of Haar Cascade. Useful when detecting object.\n",
    "\n",
    "1. Skill 22: Finding corners.\n",
    "\n",
    "1. Skill 23: Integrate DL models with OpenCV"
   ]
  },
  {
   "cell_type": "markdown",
   "metadata": {},
   "source": [
    "### List your projects with repository url"
   ]
  },
  {
   "cell_type": "markdown",
   "metadata": {},
   "source": [
    "### Black and white video\n",
    "Capture a video from your webcam and transform it live into black and white<br>\n",
    "Computer vision skills applied: video capturing, color conversion.<br>  \n",
    "Repository url: [Black and white video](https://github.com/lpianta/OpenCV_MiniProjects/tree/main/Black%20and%20white%20video)  \n",
    "\n",
    "### Clear noise from Image\n",
    "Clear some little noise from an image<br>   \n",
    "Computer vision skills applied: blurring filter<br>\n",
    "Repository url: [Clear noise from image](https://github.com/lpianta/OpenCV_MiniProjects/tree/main/Clear%20noise%20from%20image)\n",
    "\n",
    "### Color images to black and white and back\n",
    "Take a colored picture, convert it to black and white then back to color.<br>\n",
    "Computer vision skills applied: color spaces manipulation<br>\n",
    "Repository url: [Color images to black and white and back](https://github.com/lpianta/OpenCV_MiniProjects/tree/main/Color%20images%20to%20black%20and%20white%20and%20back)<br>\n",
    "\n",
    "### Day or night recognition\n",
    "Pass a photo through a function and recognize if it was a day or night photo<br>\n",
    "Computer vision skills applied: Convert color spaces, splitting channel<br>\n",
    "Repository url: [Day or night recognition](https://github.com/lpianta/OpenCV_MiniProjects/tree/main/Day%20or%20night%20recognition)<br>\n",
    "\n",
    "### Green Screen Image\n",
    "Merging an image on black screen with a background<br>\n",
    "Computer vision skills applied: Color conversion, channel splitting, masking, merging<br>\n",
    "Repository url: [Green Screen Image](https://github.com/lpianta/OpenCV_MiniProjects/tree/main/Green%20Screen%20Image)<br>\n",
    "\n",
    "### Greenish and bluish detector\n",
    "Recognizing in real time greenish and bluish object passing in front of the camera<br>   \n",
    "Computer vision skills applied: Color conversion, channel splitting, masking, merging mask<br>\n",
    "Repository url: [Greenish and bluish detector](https://github.com/lpianta/OpenCV_MiniProjects/tree/main/Greenish%20and%20bluish%20detector)\n",
    "\n",
    "### QR code reader\n",
    "Reading a QR code<br>   \n",
    "Computer vision skills applied: QR Code Detector function<br>\n",
    "Repository url: [QR code reader](https://github.com/lpianta/OpenCV_MiniProjects/tree/main/QR%20code%20reader)\n",
    "\n",
    "### Sepia Filter\n",
    "Apply a sepia filter to an image in two different way<br>\n",
    "Computer vision skills applied: Interacting with color spaces, changing pixel values, kernel<br>\n",
    "Repository url: [Sepia Filter](https://github.com/lpianta/OpenCV_MiniProjects/tree/main/Sepia%20Filter)\n",
    "\n",
    "### Simple Meme\n",
    "Create a simple meme by drawning on an img<br>   \n",
    "Computer vision skills applied: draw rectangle, put text<br>\n",
    "Repository url: [Simple Meme](https://github.com/lpianta/OpenCV_MiniProjects/tree/main/Simple%20Meme)\n",
    "\n",
    "### Sketching foto and video\n",
    "Draw a sketch from an image or transform a live capture video in sketch<br>\n",
    "Computer vision skills applied: blurring filter, edge detection, bitwise operation<br>\n",
    "Repository url: [Clear noise from image](https://github.com/lpianta/OpenCV_MiniProjects/tree/main/Clear%20noise%20from%20image)"
   ]
  },
  {
   "cell_type": "markdown",
   "metadata": {},
   "source": [
    "### Anything else you would like to add or share?"
   ]
  }
 ],
 "metadata": {
  "kernelspec": {
   "display_name": "Python 3",
   "language": "python",
   "name": "python3"
  },
  "language_info": {
   "codemirror_mode": {
    "name": "ipython",
    "version": 3
   },
   "file_extension": ".py",
   "mimetype": "text/x-python",
   "name": "python",
   "nbconvert_exporter": "python",
   "pygments_lexer": "ipython3",
   "version": "3.8.8"
  }
 },
 "nbformat": 4,
 "nbformat_minor": 2
}

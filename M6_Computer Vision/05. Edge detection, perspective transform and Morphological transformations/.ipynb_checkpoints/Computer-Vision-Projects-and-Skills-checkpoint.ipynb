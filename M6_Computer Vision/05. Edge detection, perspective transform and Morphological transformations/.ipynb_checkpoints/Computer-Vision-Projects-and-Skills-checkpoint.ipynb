{
 "cells": [
  {
   "cell_type": "markdown",
   "metadata": {},
   "source": [
    "# Computer Vision"
   ]
  },
  {
   "cell_type": "markdown",
   "metadata": {},
   "source": [
    "### List your new Computer Vision skills, usages and importance"
   ]
  },
  {
   "cell_type": "markdown",
   "metadata": {},
   "source": [
    "**I've listed everything as we are working on an image, but all the skills belows applies to video too**\n",
    "\n",
    "1. Skill 1: How to import, show, crop, save and close an image with OpenCV. Really important to view what you're working on.\n",
    "\n",
    "1. Skill 2: Change color spaces. OpenCV automatically imports images as BGR so it's useful to know how to convert them to other color.\n",
    "\n",
    "1. Skill 3: How to draw shapes and write text on images. Really useful for a lot of tasks.\n",
    "\n",
    "1. Skill 4: How to create overlay between two images.\n",
    "\n",
    "1. Skill 5: Work with color spaces, splitting the channel and work individually on each one of them to then merge them together.\n",
    "\n",
    "1. Skill 6: Create a mask for an image.\n",
    "\n",
    "1. Skill 7: Calculate histogram for color space in an image.\n",
    "\n",
    "1. Skill 8: Affine transformation. Useful to move and rotate images.\n",
    "\n",
    "1. Skill 9: Resize images.\n",
    "\n",
    "1. Skill 10: Bitwise operator. Useful when working with more images or different shapes in the same image\n",
    "\n",
    "1. Skill 11: Blurring and sharpening filters. Useful not only for working directly on the image, but as a step for preprocessing.\n",
    "\n",
    "1. Skill 12: Edge detection. As for blurrin filters, they are useful on the image itself and for preprocessing.\n",
    "\n",
    "1. Skill 13: Brightness increases and decreases.\n",
    "\n",
    "1. Skill 14: Thresholding images. Really useful for preprocessing and because some functions require thresholded images to work.\n",
    "\n",
    "1. Skill 15: Keyboard, mouse and trackbar callbacks. Useful to test various thing on an image.\n",
    "\n",
    "1. Skill 16: Perspective transform.\n",
    "\n",
    "1. Skill 17: Image pyramids.\n",
    "\n",
    "1. Skill 18: Morphological transformation: erosion, dilation, opening and closing can be very useful when preprocessing an image.\n",
    "\n",
    "1. Skill 19: Finding, drawing, sorting and approximating contours.\n",
    "\n",
    "1. Skill 20: Template matching. Useful when we have a template to find in another images.\n",
    "\n",
    "1. Skill 21: Use of Haar Cascade. Useful when detecting object.\n",
    "\n",
    "1. Skill 22: Finding corners."
   ]
  },
  {
   "cell_type": "markdown",
   "metadata": {},
   "source": [
    "### List your projects with repository url"
   ]
  },
  {
   "cell_type": "markdown",
   "metadata": {},
   "source": [
    "### Project title\n",
    "Project description:   \n",
    "Computer vision skills applied  \n",
    "Repository url: [Example Project 1](http://www.github.com/xyz)  \n",
    "\n",
    "### Project title\n",
    "Project description:   \n",
    "Computer vision skills applied  \n",
    "Repository url: [Example Project 2](http://www.github.com/abc)"
   ]
  },
  {
   "cell_type": "markdown",
   "metadata": {},
   "source": [
    "### Anything else you would like to add or share?"
   ]
  }
 ],
 "metadata": {
  "kernelspec": {
   "display_name": "Python 3",
   "language": "python",
   "name": "python3"
  },
  "language_info": {
   "codemirror_mode": {
    "name": "ipython",
    "version": 3
   },
   "file_extension": ".py",
   "mimetype": "text/x-python",
   "name": "python",
   "nbconvert_exporter": "python",
   "pygments_lexer": "ipython3",
   "version": "3.8.8"
  }
 },
 "nbformat": 4,
 "nbformat_minor": 2
}

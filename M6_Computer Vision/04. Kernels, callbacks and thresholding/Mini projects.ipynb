{
 "cells": [
  {
   "cell_type": "markdown",
   "metadata": {},
   "source": [
    "# Mini projects"
   ]
  },
  {
   "cell_type": "code",
   "execution_count": 2,
   "metadata": {},
   "outputs": [],
   "source": [
    "import cv2\n",
    "import numpy as np\n",
    "import matplotlib.pyplot as plt"
   ]
  },
  {
   "cell_type": "markdown",
   "metadata": {},
   "source": [
    "## Level 1"
   ]
  },
  {
   "cell_type": "markdown",
   "metadata": {
    "heading_collapsed": true
   },
   "source": [
    "### Photo art app"
   ]
  },
  {
   "cell_type": "markdown",
   "metadata": {
    "hidden": true
   },
   "source": [
    "1. Create a function that receives an image and converts it to a sketch so it looks similar to this:\n",
    "![Example 1](img/sketch.png)"
   ]
  },
  {
   "cell_type": "code",
   "execution_count": null,
   "metadata": {},
   "outputs": [],
   "source": [
    "def sketching(imgpath):\n",
    "    img = cv2.imread(imgpath)\n",
    "    img_blur = cv2.GaussianBlur(img, (5,5), 0)\n",
    "    sketch = cv2.Canny(img_blur, 100, 200)\n",
    "    sketch_not = cv2.bitwise_not(sketch)\n",
    "\n",
    "    plt.figure(figsize=(10,10))\n",
    "    plt.imshow(sketch_not, cmap='gray')\n",
    "    \n",
    "sketching('./img/landscape.jpg')"
   ]
  },
  {
   "cell_type": "markdown",
   "metadata": {
    "heading_collapsed": true
   },
   "source": [
    "### Instagram filters app"
   ]
  },
  {
   "cell_type": "markdown",
   "metadata": {
    "hidden": true
   },
   "source": [
    "1. Create a function that given a photo it applies a black and white filter\n",
    "1. Create a filter that will change color of the image "
   ]
  },
  {
   "cell_type": "code",
   "execution_count": null,
   "metadata": {},
   "outputs": [],
   "source": [
    "def bw_filter(imgpath):\n",
    "    img = cv2.imread(imgpath)\n",
    "    img_hsv = cv2.cvtColor(img, cv2.COLOR_BGR2HSV)\n",
    "    \n",
    "    h, s, v = cv2.split(img_hsv)\n",
    "    \n",
    "    s1 = s - s\n",
    "    \n",
    "    bluish = cv2.merge([h, s1, v])\n",
    "    img_gray = cv2.cvtColor(bluish, cv2.COLOR_HSV2BGR)\n",
    "    \n",
    "    plt.figure(figsize=(10,10))\n",
    "    plt.imshow(img_gray)\n",
    "    \n",
    "\n",
    "bw_filter('./img/day1.jpg')"
   ]
  },
  {
   "cell_type": "markdown",
   "metadata": {},
   "source": [
    "## Level 2"
   ]
  },
  {
   "cell_type": "markdown",
   "metadata": {
    "heading_collapsed": true
   },
   "source": [
    "### Photo art app"
   ]
  },
  {
   "cell_type": "markdown",
   "metadata": {
    "ExecuteTime": {
     "end_time": "2019-08-11T12:16:21.170497Z",
     "start_time": "2019-08-11T12:16:21.096496Z"
    },
    "hidden": true
   },
   "source": [
    "1. Change the app so it can now do the same but using your webcam to make it in real time  \n",
    "**Hint:** you can use ```cv2.VideoCapture(0)```"
   ]
  },
  {
   "cell_type": "code",
   "execution_count": null,
   "metadata": {},
   "outputs": [],
   "source": [
    "def video_sketching():\n",
    "    cap = cv2.VideoCapture(0)\n",
    "\n",
    "    while(True): \n",
    "        ret, frame = cap.read()\n",
    "        img = frame.copy()\n",
    "        img_blur = cv2.GaussianBlur(img, (3,3), 0)\n",
    "        sketch = cv2.Canny(img_blur, 50, 150)\n",
    "        sketch_not = cv2.bitwise_not(sketch) \n",
    "  \n",
    "        # displaying the video \n",
    "        cv2.imshow(\"Sketch\", sketch_not) \n",
    "\n",
    "        # exiting the loop \n",
    "        key = cv2.waitKey(1) \n",
    "        if key == ord(\"q\"): \n",
    "            break\n",
    "\n",
    "    # closing the window \n",
    "    cv2.destroyAllWindows() \n",
    "    cap.release()\n",
    "    \n",
    "video_sketching()"
   ]
  },
  {
   "cell_type": "code",
   "execution_count": null,
   "metadata": {},
   "outputs": [],
   "source": [
    "def bw_video_1():\n",
    "    cap = cv2.VideoCapture(0)\n",
    "\n",
    "    while(True): \n",
    "        ret, frame = cap.read()\n",
    "        img = frame.copy()\n",
    "        img_hsv = cv2.cvtColor(img, cv2.COLOR_BGR2HSV)\n",
    "    \n",
    "        h, s, v = cv2.split(img_hsv)\n",
    "    \n",
    "        s1 = s - s\n",
    "    \n",
    "        bluish = cv2.merge([h, s1, v])\n",
    "        gray = cv2.cvtColor(bluish, cv2.COLOR_HSV2BGR) \n",
    "  \n",
    "        # displaying the video \n",
    "        cv2.imshow(\"Live\", gray) \n",
    "\n",
    "        # exiting the loop \n",
    "        key = cv2.waitKey(1) \n",
    "        if key == ord(\"q\"): \n",
    "            break\n",
    "\n",
    "    # closing the window \n",
    "    cv2.destroyAllWindows() \n",
    "    cap.release()\n",
    "    \n",
    "bw_video_1()"
   ]
  },
  {
   "cell_type": "code",
   "execution_count": null,
   "metadata": {},
   "outputs": [],
   "source": [
    "def bw_video_2():\n",
    "    # reading the vedio \n",
    "    cap = cv2.VideoCapture(0) \n",
    "\n",
    "    # running the loop \n",
    "    while True: \n",
    "\n",
    "        # extracting the frames \n",
    "        ret, frame = source.read() \n",
    "\n",
    "        # converting to gray-scale \n",
    "        gray = cv2.cvtColor(frame, cv2.COLOR_BGR2GRAY) \n",
    "\n",
    "        # displaying the video \n",
    "        cv2.imshow(\"Live\", gray) \n",
    "\n",
    "        # exiting the loop \n",
    "        key = cv2.waitKey(1) \n",
    "        if key == ord(\"q\"): \n",
    "            break\n",
    "\n",
    "    # closing the window \n",
    "    cv2.destroyAllWindows() \n",
    "    cap.release()\n",
    "    \n",
    "bw_video_2()"
   ]
  },
  {
   "cell_type": "markdown",
   "metadata": {
    "heading_collapsed": true
   },
   "source": [
    "### Photo correction app"
   ]
  },
  {
   "cell_type": "markdown",
   "metadata": {
    "hidden": true
   },
   "source": [
    "1. Create a funtion to clean *noise* from images\n",
    "![Noisy image](img/n.png)"
   ]
  },
  {
   "cell_type": "code",
   "execution_count": null,
   "metadata": {},
   "outputs": [],
   "source": [
    "def noise_cleaning(imgpath):\n",
    "    img = cv2.imread(imgpath)\n",
    "\n",
    "    gaussian_img = cv2.GaussianBlur(img, (5,5), 0)\n",
    "    \n",
    "    \n",
    "    plt.figure(figsize=(10,10))\n",
    "    plt.imshow((gaussian_img[:,:,::-1]))\n",
    "    \n",
    "noise_cleaning('./img/noisy.png')"
   ]
  },
  {
   "cell_type": "markdown",
   "metadata": {},
   "source": [
    "### Instagram filters app"
   ]
  },
  {
   "cell_type": "markdown",
   "metadata": {},
   "source": [
    "1. Create a function that applies a sepia filter to the image, for a BGR image apply this kernel:\n",
    "        [0.272, 0.534, 0.131],\n",
    "        [0.349, 0.686, 0.168],\n",
    "        [0.393, 0.769, 0.189]\n",
    "        \n",
    "Get the BGR value of the pixel.\n",
    "Calculate tr, tg and tb using the formula\n",
    "\n",
    "tb = 0.272R + 0.534G + 0.131B\n",
    "tg = 0.349R + 0.686G + 0.168B\n",
    "tr = 0.393R + 0.769G + 0.189B\n",
    "\n",
    "Take the integer value.\n",
    "\n",
    "Set the new RGB value of the pixel as per the following condition:\n",
    "\n",
    "If tb > 255 then b = 255 else b = tb\n",
    "If tg > 255 then g = 255 else g = tg\n",
    "If tr > 255 then r = 255 else r = tr\n",
    "\n",
    "\n",
    "Example:\n",
    "\n",
    "Consider a color pixel with the following values\n",
    "\n",
    "A = 255\n",
    "\n",
    "R = 100\n",
    "\n",
    "G = 150\n",
    "\n",
    "B = 200\n",
    "\n",
    "Where A, R, G and B represents the Alpha, Red, Green and Blue value of the pixel.\n",
    "\n",
    "Remember! ARGB will have an integer value in the range 0 to 255.\n",
    "\n",
    "So, to convert the color pixel into sepia pixel we have to first calculate tr, tg and tb.\n",
    "\n",
    "tr = 0.393(100) + 0.769(150) + 0.189(200)\n",
    "\n",
    "tr = 192.45\n",
    "\n",
    "tr = 192 (taking integer value)\n",
    "\n",
    "Similarly,\n",
    "\n",
    "tg = 0.349(100) + 0.686(150) + 0.168(200) = 171 (taking integer value)\n",
    "\n",
    "and tb = 0.272(100) + 0.534(150) + 0.131(200) = 133 (taking integer value)"
   ]
  },
  {
   "cell_type": "code",
   "execution_count": null,
   "metadata": {
    "scrolled": false
   },
   "outputs": [],
   "source": [
    "def sepia_filter(imgpath):\n",
    "    \n",
    "    img = cv2.imread(imgpath)\n",
    "    \n",
    "    b, g, r = cv2.split(img)\n",
    "    \n",
    "    tb =  (0.272*r) + (0.534*g) + (0.131*b)\n",
    "    tg = (0.349*r) + (0.686*g) + (0.168*b)\n",
    "    tr = (0.393*r) + (0.769*g) + (0.189*b)\n",
    "    \n",
    "    tb, tg, tr = tb.astype('int'), tg.astype('int'), tr.astype('int')\n",
    "    \n",
    "    for i in range(len(tb)):\n",
    "        for j in range(len(tb)):\n",
    "            if tb[i][j] > 255:\n",
    "                tb[i][j] = 255\n",
    "    for i in range(len(tb)):\n",
    "            for j in range(len(tb)):\n",
    "                if tb[i][j] > 255:\n",
    "                    tb[i][j] = 255\n",
    "    for i in range(len(tb)):\n",
    "            for j in range(len(tb)):\n",
    "                if tb[i][j] > 255:\n",
    "                    tb[i][j] = 255\n",
    "    \n",
    "    \n",
    "    sepia_img = cv2.merge([tb, tg, tr])\n",
    "    \n",
    "    plt.figure(figsize=(10,10))\n",
    "    plt.imshow((sepia_img[:,:,::-1]))\n",
    "\n",
    "sepia_filter('./img/cat.jpg')"
   ]
  },
  {
   "cell_type": "markdown",
   "metadata": {},
   "source": [
    "## Level 3"
   ]
  },
  {
   "cell_type": "markdown",
   "metadata": {
    "heading_collapsed": true
   },
   "source": [
    "### Instagram filters app"
   ]
  },
  {
   "cell_type": "markdown",
   "metadata": {
    "hidden": true
   },
   "source": [
    "1. Apply the sepia filter by using the cv2.transfor function\n",
    "1. Create different filters from the sepia filter so it renders different images"
   ]
  },
  {
   "cell_type": "code",
   "execution_count": null,
   "metadata": {},
   "outputs": [],
   "source": [
    "def sepia_kernel(imgpath):\n",
    "    img = cv2.imread(imgpath)\n",
    "    \n",
    "    kernel = np.array([ [0.272, 0.534, 0.131],\n",
    "                     [0.349, 0.686, 0.168],\n",
    "                     [0.393, 0.769, 0.189] ])\n",
    "    \n",
    "    sepia = cv2.transform(img, kernel)\n",
    "    \n",
    "    plt.figure(figsize=(10,10))\n",
    "    plt.imshow((sepia[:,:,::-1]))\n",
    "\n",
    "sepia_kernel('./img/cat.jpg')"
   ]
  },
  {
   "cell_type": "markdown",
   "metadata": {},
   "source": [
    "# More projects"
   ]
  },
  {
   "cell_type": "markdown",
   "metadata": {},
   "source": [
    "## Handwriting recognition"
   ]
  },
  {
   "cell_type": "markdown",
   "metadata": {},
   "source": [
    "1. Write a one digit number (from 0 to 9) on a paper and using your mobile phone take a picture of it\n",
    "1. Crop the image manually and pass it to a a function that will process it so it looks like a char in the MNIST dataset, make sure it is the correct size as well\n",
    "![4](img/4.png)"
   ]
  },
  {
   "cell_type": "markdown",
   "metadata": {},
   "source": [
    "1. Pass it through a MNIST classifier and print the prediction on screen"
   ]
  },
  {
   "cell_type": "markdown",
   "metadata": {},
   "source": [
    "1. Modify the image so now it also contains the predicted result on the image\n",
    "1. Try it with all digits"
   ]
  }
 ],
 "metadata": {
  "kernelspec": {
   "display_name": "Python 3",
   "language": "python",
   "name": "python3"
  },
  "language_info": {
   "codemirror_mode": {
    "name": "ipython",
    "version": 3
   },
   "file_extension": ".py",
   "mimetype": "text/x-python",
   "name": "python",
   "nbconvert_exporter": "python",
   "pygments_lexer": "ipython3",
   "version": "3.8.8"
  }
 },
 "nbformat": 4,
 "nbformat_minor": 2
}

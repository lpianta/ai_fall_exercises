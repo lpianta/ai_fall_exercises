{
 "cells": [
  {
   "cell_type": "markdown",
   "metadata": {},
   "source": [
    "# OpenCV Callbacks"
   ]
  },
  {
   "cell_type": "code",
   "execution_count": 3,
   "metadata": {
    "ExecuteTime": {
     "end_time": "2019-11-19T09:54:11.762369Z",
     "start_time": "2019-11-19T09:54:09.945225Z"
    }
   },
   "outputs": [],
   "source": [
    "import cv2\n",
    "import numpy as np\n",
    "import matplotlib.pyplot as plt\n",
    "%matplotlib inline"
   ]
  },
  {
   "cell_type": "markdown",
   "metadata": {},
   "source": [
    "## Keyboard callbacks"
   ]
  },
  {
   "cell_type": "code",
   "execution_count": null,
   "metadata": {
    "ExecuteTime": {
     "end_time": "2019-11-19T11:10:33.575331Z",
     "start_time": "2019-11-19T11:10:32.647518Z"
    }
   },
   "outputs": [],
   "source": [
    "# Load an image and show it on screen with cv2.imshow\n",
    "# When the key g or G is detected then change the image to show in grayscale\n",
    "# When the key c or C is detected then change the image to show in color\n",
    "# When the key t or T is detected then change the image to show the thresholded version of the image\n",
    "# When the key esc is detected close the image\n",
    "\n",
    "cat = cv2.imread('./img/cat.jpg')\n",
    "key = 0\n",
    "window_name = 'cat'\n",
    "\n",
    "img = cat.copy()\n",
    "\n",
    "cv2.namedWindow(window_name, cv2.WINDOW_AUTOSIZE)\n",
    "cv2.imshow(window_name, img)\n",
    "while True:\n",
    "    if (key == ord('g') or key == ord('G')):\n",
    "        img = cv2.cvtColor(img , cv2.COLOR_BGR2GRAY)\n",
    "        cv2.imshow(window_name, img)\n",
    "\n",
    "    if (key == ord('c') or key == ord('C')):\n",
    "        img = cv2.cvtColor(img , cv2.COLOR_GRAY2BGR)\n",
    "        cv2.imshow(window_name, img)\n",
    "\n",
    "    if (key == ord('t') or key == ord('T')):\n",
    "        _, img = cv2.threshold(img, 127, 255, cv2.THRESH_BINARY)\n",
    "        cv2.imshow(window_name, img)\n",
    "\n",
    "    if(key == 27):\n",
    "            break\n",
    "        \n",
    "    key = cv2.waitKey(0)\n",
    "\n",
    "cv2.destroyAllWindows()\n",
    "cv2.waitKey(1)"
   ]
  },
  {
   "cell_type": "markdown",
   "metadata": {},
   "source": [
    "[Hint](# \"You will need to use cv2.waitKey and python ord functions\") "
   ]
  },
  {
   "cell_type": "code",
   "execution_count": null,
   "metadata": {},
   "outputs": [],
   "source": [
    "# Do the same as above but using your webcam image \n",
    "\n",
    "cap = cv2.VideoCapture(0)\n",
    "key = 0\n",
    "\n",
    "while(True): \n",
    "    ret, frame = cap.read()\n",
    "    img = 0\n",
    "    \n",
    "    if(key == 27):\n",
    "        break\n",
    "        \n",
    "    if (key == ord('g') or key == ord('G')):\n",
    "        img = frame.copy()\n",
    "        img = cv2.cvtColor(img , cv2.COLOR_BGR2GRAY)\n",
    "        frame = img\n",
    "        \n",
    "    if (key == ord('t') or key == ord('T')):\n",
    "        img = frame.copy()\n",
    "        _, img = cv2.threshold(img, 127, 255, cv2.THRESH_BINARY)\n",
    "        frame = img.copy()\n",
    "\n",
    "        \n",
    "    cv2.imshow(\"Image\", frame)\n",
    "\n",
    "    key = cv2.waitKey(30)\n",
    "\n",
    "cap.release()\n",
    "cv2.destroyAllWindows()\n",
    "cv2.waitKey(1)\n"
   ]
  },
  {
   "cell_type": "markdown",
   "metadata": {},
   "source": [
    "[Hint](# \"You will need to use cv2.VideoCapture function\") "
   ]
  },
  {
   "cell_type": "markdown",
   "metadata": {},
   "source": [
    "## Mouse callbacks"
   ]
  },
  {
   "cell_type": "code",
   "execution_count": 4,
   "metadata": {},
   "outputs": [
    {
     "data": {
      "text/plain": [
       "-1"
      ]
     },
     "execution_count": 4,
     "metadata": {},
     "output_type": "execute_result"
    }
   ],
   "source": [
    "# Load an image and show it on screen with cv2.imshow\n",
    "# When the user clicks on top of the image save the coordinates\n",
    "# The user will then move the cursor without releasing the mouse button to another position\n",
    "# When the user releases the button draw a rectagle around the ROI\n",
    "# When the key esc is detected close the image\n",
    "\n",
    "cat = cv2.imread('./img/cat.jpg')\n",
    "img = cat.copy()\n",
    "\n",
    "\n",
    "windows_name = 'window'\n",
    "cv2.namedWindow(windows_name, cv2.WINDOW_AUTOSIZE)\n",
    "\n",
    "\n",
    "xx = []\n",
    "yy = []\n",
    "\n",
    "def get_coordinates(action, x, y, flags, userdata):\n",
    "    if(action == cv2.EVENT_LBUTTONDOWN):\n",
    "        xy = \"%d,%d\" % (x, y)\n",
    "        xx.append(x)\n",
    "        yy.append(y)\n",
    "        #cv2.imshow(window_name, userdata)\n",
    "    if(action == cv2.EVENT_LBUTTONUP):\n",
    "        xy = \"%d,%d\" % (x, y)\n",
    "        xx.append(x)\n",
    "        yy.append(y)\n",
    "        cv2.rectangle(userdata, (xx[0],yy[0]), (xx[1], yy[1]), (255, 0, 0), 1)\n",
    "        cv2.imshow(windows_name, userdata)\n",
    "\n",
    "        \n",
    "\n",
    "cv2.setMouseCallback(windows_name, get_coordinates, img)\n",
    "\n",
    "cv2.imshow(windows_name, img)\n",
    "cv2.waitKey(0)\n",
    "cv2.destroyAllWindows()\n",
    "cv2.waitKey(1)"
   ]
  },
  {
   "cell_type": "code",
   "execution_count": 8,
   "metadata": {},
   "outputs": [
    {
     "data": {
      "text/plain": [
       "True"
      ]
     },
     "execution_count": 8,
     "metadata": {},
     "output_type": "execute_result"
    }
   ],
   "source": [
    "# Crop and save the ROI image to disk \n",
    "\n",
    "roi = img[yy[0]:yy[1], xx[0]:xx[1]]\n",
    "cv2.imwrite('roi.jpg', roi)"
   ]
  },
  {
   "cell_type": "markdown",
   "metadata": {},
   "source": [
    "[Hint](# \"cv2.setMouseCallback\") "
   ]
  },
  {
   "cell_type": "markdown",
   "metadata": {},
   "source": [
    "## Trackbars"
   ]
  },
  {
   "cell_type": "code",
   "execution_count": null,
   "metadata": {
    "ExecuteTime": {
     "end_time": "2019-11-19T11:17:26.647991Z",
     "start_time": "2019-11-19T11:17:26.635749Z"
    }
   },
   "outputs": [],
   "source": [
    "# Create a named window, load and show an image in that window\n",
    "\n"
   ]
  },
  {
   "cell_type": "markdown",
   "metadata": {},
   "source": [
    "[Hint](# \"cv2.namedWindow\") "
   ]
  },
  {
   "cell_type": "code",
   "execution_count": null,
   "metadata": {},
   "outputs": [],
   "source": [
    "# Add at least 3 different trackbars to the window (choose of any parameters that you want to modify with them)\n",
    "# Each trackbar will modify some parameter of the image, write a function for each trackbar\n",
    "# When the user move the trackbar around the image should be updated accordingly\n",
    "# When the key esc is detected close the image\n"
   ]
  },
  {
   "cell_type": "markdown",
   "metadata": {},
   "source": [
    "[Hint](# \"cv2.createTrackbar\") "
   ]
  },
  {
   "cell_type": "code",
   "execution_count": null,
   "metadata": {
    "ExecuteTime": {
     "end_time": "2019-11-19T11:17:40.562115Z",
     "start_time": "2019-11-19T11:17:39.321415Z"
    },
    "scrolled": false
   },
   "outputs": [],
   "source": [
    "# Do the same as above but using your webcam image so the trackbars will apply the changes on live image\n"
   ]
  }
 ],
 "metadata": {
  "kernelspec": {
   "display_name": "Python 3",
   "language": "python",
   "name": "python3"
  },
  "language_info": {
   "codemirror_mode": {
    "name": "ipython",
    "version": 3
   },
   "file_extension": ".py",
   "mimetype": "text/x-python",
   "name": "python",
   "nbconvert_exporter": "python",
   "pygments_lexer": "ipython3",
   "version": "3.8.8"
  }
 },
 "nbformat": 4,
 "nbformat_minor": 2
}

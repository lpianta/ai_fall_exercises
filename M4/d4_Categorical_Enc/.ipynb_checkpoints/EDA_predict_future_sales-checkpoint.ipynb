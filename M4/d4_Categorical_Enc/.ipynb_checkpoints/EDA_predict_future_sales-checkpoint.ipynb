{
 "cells": [
  {
   "cell_type": "code",
   "execution_count": 2,
   "metadata": {},
   "outputs": [],
   "source": [
    "# importing libraries\n",
    "\n",
    "import numpy as np\n",
    "import pandas as pd\n",
    "import matplotlib.pyplot as plt\n",
    "import seaborn as sns"
   ]
  },
  {
   "cell_type": "markdown",
   "metadata": {},
   "source": [
    "# Loading data"
   ]
  },
  {
   "cell_type": "code",
   "execution_count": 3,
   "metadata": {},
   "outputs": [],
   "source": [
    "# loading ALL the data!!\n",
    "\n",
    "data_path = '../datasets/predict_future_sales/'\n",
    "df_train = pd.read_csv(data_path + 'sales_train.csv')\n",
    "df_test = pd.read_csv(data_path + 'test.csv')\n",
    "df_item_categories = pd.read_csv(data_path + 'item_categories-translated.xls')\n",
    "df_items = pd.read_csv(data_path + 'items-translated.xls')\n",
    "df_items_russian = pd.read_csv(data_path + 'items.csv')\n",
    "df_shops = pd.read_csv(data_path + 'shops-translated.xls')"
   ]
  },
  {
   "cell_type": "code",
   "execution_count": 4,
   "metadata": {
    "scrolled": true
   },
   "outputs": [
    {
     "data": {
      "text/html": [
       "<div>\n",
       "<style scoped>\n",
       "    .dataframe tbody tr th:only-of-type {\n",
       "        vertical-align: middle;\n",
       "    }\n",
       "\n",
       "    .dataframe tbody tr th {\n",
       "        vertical-align: top;\n",
       "    }\n",
       "\n",
       "    .dataframe thead th {\n",
       "        text-align: right;\n",
       "    }\n",
       "</style>\n",
       "<table border=\"1\" class=\"dataframe\">\n",
       "  <thead>\n",
       "    <tr style=\"text-align: right;\">\n",
       "      <th></th>\n",
       "      <th>date</th>\n",
       "      <th>date_block_num</th>\n",
       "      <th>shop_id</th>\n",
       "      <th>item_id</th>\n",
       "      <th>item_price</th>\n",
       "      <th>item_cnt_day</th>\n",
       "      <th>item_name_translated</th>\n",
       "      <th>shop_name_translated</th>\n",
       "      <th>item_category_id</th>\n",
       "      <th>item_category_name_translated</th>\n",
       "    </tr>\n",
       "  </thead>\n",
       "  <tbody>\n",
       "    <tr>\n",
       "      <th>0</th>\n",
       "      <td>02.01.2013</td>\n",
       "      <td>0</td>\n",
       "      <td>59</td>\n",
       "      <td>22154</td>\n",
       "      <td>999.0</td>\n",
       "      <td>1.0</td>\n",
       "      <td>SCENE 2012 (BD)</td>\n",
       "      <td>Yaroslavl Shopping center \"Altair\"</td>\n",
       "      <td>37</td>\n",
       "      <td>Cinema - Blu-Ray</td>\n",
       "    </tr>\n",
       "    <tr>\n",
       "      <th>1</th>\n",
       "      <td>23.01.2013</td>\n",
       "      <td>0</td>\n",
       "      <td>24</td>\n",
       "      <td>22154</td>\n",
       "      <td>999.0</td>\n",
       "      <td>1.0</td>\n",
       "      <td>SCENE 2012 (BD)</td>\n",
       "      <td>Moscow TC \"Budenovskiy\" (pav.K7)</td>\n",
       "      <td>37</td>\n",
       "      <td>Cinema - Blu-Ray</td>\n",
       "    </tr>\n",
       "    <tr>\n",
       "      <th>2</th>\n",
       "      <td>10.10.2015</td>\n",
       "      <td>33</td>\n",
       "      <td>24</td>\n",
       "      <td>22154</td>\n",
       "      <td>299.0</td>\n",
       "      <td>1.0</td>\n",
       "      <td>SCENE 2012 (BD)</td>\n",
       "      <td>Moscow TC \"Budenovskiy\" (pav.K7)</td>\n",
       "      <td>37</td>\n",
       "      <td>Cinema - Blu-Ray</td>\n",
       "    </tr>\n",
       "    <tr>\n",
       "      <th>3</th>\n",
       "      <td>20.01.2013</td>\n",
       "      <td>0</td>\n",
       "      <td>27</td>\n",
       "      <td>22154</td>\n",
       "      <td>999.0</td>\n",
       "      <td>1.0</td>\n",
       "      <td>SCENE 2012 (BD)</td>\n",
       "      <td>Moscow ТЦ \"MEGA Belaya Dacha II\"</td>\n",
       "      <td>37</td>\n",
       "      <td>Cinema - Blu-Ray</td>\n",
       "    </tr>\n",
       "    <tr>\n",
       "      <th>4</th>\n",
       "      <td>12.07.2015</td>\n",
       "      <td>30</td>\n",
       "      <td>27</td>\n",
       "      <td>22154</td>\n",
       "      <td>299.0</td>\n",
       "      <td>1.0</td>\n",
       "      <td>SCENE 2012 (BD)</td>\n",
       "      <td>Moscow ТЦ \"MEGA Belaya Dacha II\"</td>\n",
       "      <td>37</td>\n",
       "      <td>Cinema - Blu-Ray</td>\n",
       "    </tr>\n",
       "    <tr>\n",
       "      <th>...</th>\n",
       "      <td>...</td>\n",
       "      <td>...</td>\n",
       "      <td>...</td>\n",
       "      <td>...</td>\n",
       "      <td>...</td>\n",
       "      <td>...</td>\n",
       "      <td>...</td>\n",
       "      <td>...</td>\n",
       "      <td>...</td>\n",
       "      <td>...</td>\n",
       "    </tr>\n",
       "    <tr>\n",
       "      <th>2935844</th>\n",
       "      <td>22.10.2015</td>\n",
       "      <td>33</td>\n",
       "      <td>55</td>\n",
       "      <td>13093</td>\n",
       "      <td>250.0</td>\n",
       "      <td>1.0</td>\n",
       "      <td>Windows payment card: 250 rubles [Digital vers...</td>\n",
       "      <td>Digital warehouse 1C-Online</td>\n",
       "      <td>36</td>\n",
       "      <td>Payment Cards - Windows (Digital)</td>\n",
       "    </tr>\n",
       "    <tr>\n",
       "      <th>2935845</th>\n",
       "      <td>21.09.2015</td>\n",
       "      <td>32</td>\n",
       "      <td>55</td>\n",
       "      <td>13091</td>\n",
       "      <td>1000.0</td>\n",
       "      <td>1.0</td>\n",
       "      <td>Windows payment card: 1000 rubles [Digital ver...</td>\n",
       "      <td>Digital warehouse 1C-Online</td>\n",
       "      <td>36</td>\n",
       "      <td>Payment Cards - Windows (Digital)</td>\n",
       "    </tr>\n",
       "    <tr>\n",
       "      <th>2935846</th>\n",
       "      <td>16.09.2015</td>\n",
       "      <td>32</td>\n",
       "      <td>55</td>\n",
       "      <td>13094</td>\n",
       "      <td>2500.0</td>\n",
       "      <td>1.0</td>\n",
       "      <td>Windows payment card: 2500 rubles [Digital ver...</td>\n",
       "      <td>Digital warehouse 1C-Online</td>\n",
       "      <td>36</td>\n",
       "      <td>Payment Cards - Windows (Digital)</td>\n",
       "    </tr>\n",
       "    <tr>\n",
       "      <th>2935847</th>\n",
       "      <td>22.09.2015</td>\n",
       "      <td>32</td>\n",
       "      <td>55</td>\n",
       "      <td>13094</td>\n",
       "      <td>2500.0</td>\n",
       "      <td>2.0</td>\n",
       "      <td>Windows payment card: 2500 rubles [Digital ver...</td>\n",
       "      <td>Digital warehouse 1C-Online</td>\n",
       "      <td>36</td>\n",
       "      <td>Payment Cards - Windows (Digital)</td>\n",
       "    </tr>\n",
       "    <tr>\n",
       "      <th>2935848</th>\n",
       "      <td>26.10.2015</td>\n",
       "      <td>33</td>\n",
       "      <td>55</td>\n",
       "      <td>13092</td>\n",
       "      <td>2000.0</td>\n",
       "      <td>1.0</td>\n",
       "      <td>Windows payment card: 2000 rubles [Digital ver...</td>\n",
       "      <td>Digital warehouse 1C-Online</td>\n",
       "      <td>36</td>\n",
       "      <td>Payment Cards - Windows (Digital)</td>\n",
       "    </tr>\n",
       "  </tbody>\n",
       "</table>\n",
       "<p>2935849 rows × 10 columns</p>\n",
       "</div>"
      ],
      "text/plain": [
       "               date  date_block_num  shop_id  item_id  item_price  \\\n",
       "0        02.01.2013               0       59    22154       999.0   \n",
       "1        23.01.2013               0       24    22154       999.0   \n",
       "2        10.10.2015              33       24    22154       299.0   \n",
       "3        20.01.2013               0       27    22154       999.0   \n",
       "4        12.07.2015              30       27    22154       299.0   \n",
       "...             ...             ...      ...      ...         ...   \n",
       "2935844  22.10.2015              33       55    13093       250.0   \n",
       "2935845  21.09.2015              32       55    13091      1000.0   \n",
       "2935846  16.09.2015              32       55    13094      2500.0   \n",
       "2935847  22.09.2015              32       55    13094      2500.0   \n",
       "2935848  26.10.2015              33       55    13092      2000.0   \n",
       "\n",
       "         item_cnt_day                               item_name_translated  \\\n",
       "0                 1.0                                    SCENE 2012 (BD)   \n",
       "1                 1.0                                    SCENE 2012 (BD)   \n",
       "2                 1.0                                    SCENE 2012 (BD)   \n",
       "3                 1.0                                    SCENE 2012 (BD)   \n",
       "4                 1.0                                    SCENE 2012 (BD)   \n",
       "...               ...                                                ...   \n",
       "2935844           1.0  Windows payment card: 250 rubles [Digital vers...   \n",
       "2935845           1.0  Windows payment card: 1000 rubles [Digital ver...   \n",
       "2935846           1.0  Windows payment card: 2500 rubles [Digital ver...   \n",
       "2935847           2.0  Windows payment card: 2500 rubles [Digital ver...   \n",
       "2935848           1.0  Windows payment card: 2000 rubles [Digital ver...   \n",
       "\n",
       "                       shop_name_translated  item_category_id  \\\n",
       "0        Yaroslavl Shopping center \"Altair\"                37   \n",
       "1          Moscow TC \"Budenovskiy\" (pav.K7)                37   \n",
       "2          Moscow TC \"Budenovskiy\" (pav.K7)                37   \n",
       "3          Moscow ТЦ \"MEGA Belaya Dacha II\"                37   \n",
       "4          Moscow ТЦ \"MEGA Belaya Dacha II\"                37   \n",
       "...                                     ...               ...   \n",
       "2935844         Digital warehouse 1C-Online                36   \n",
       "2935845         Digital warehouse 1C-Online                36   \n",
       "2935846         Digital warehouse 1C-Online                36   \n",
       "2935847         Digital warehouse 1C-Online                36   \n",
       "2935848         Digital warehouse 1C-Online                36   \n",
       "\n",
       "             item_category_name_translated  \n",
       "0                         Cinema - Blu-Ray  \n",
       "1                         Cinema - Blu-Ray  \n",
       "2                         Cinema - Blu-Ray  \n",
       "3                         Cinema - Blu-Ray  \n",
       "4                         Cinema - Blu-Ray  \n",
       "...                                    ...  \n",
       "2935844  Payment Cards - Windows (Digital)  \n",
       "2935845  Payment Cards - Windows (Digital)  \n",
       "2935846  Payment Cards - Windows (Digital)  \n",
       "2935847  Payment Cards - Windows (Digital)  \n",
       "2935848  Payment Cards - Windows (Digital)  \n",
       "\n",
       "[2935849 rows x 10 columns]"
      ]
     },
     "execution_count": 4,
     "metadata": {},
     "output_type": "execute_result"
    }
   ],
   "source": [
    "# merge ALL the datasets!!\n",
    "\n",
    "df_merged = df_train.merge(df_items)\n",
    "df_merged = df_merged.merge(df_shops)\n",
    "df_merged = df_merged.merge(df_items_russian).drop('item_name', axis=1)\n",
    "df_merged = df_merged.merge(df_item_categories)\n",
    "df_merged"
   ]
  },
  {
   "cell_type": "markdown",
   "metadata": {},
   "source": [
    "# EDA"
   ]
  },
  {
   "cell_type": "markdown",
   "metadata": {},
   "source": [
    "**Checking for the most sold items**"
   ]
  },
  {
   "cell_type": "code",
   "execution_count": 15,
   "metadata": {},
   "outputs": [
    {
     "data": {
      "text/html": [
       "<div>\n",
       "<style scoped>\n",
       "    .dataframe tbody tr th:only-of-type {\n",
       "        vertical-align: middle;\n",
       "    }\n",
       "\n",
       "    .dataframe tbody tr th {\n",
       "        vertical-align: top;\n",
       "    }\n",
       "\n",
       "    .dataframe thead th {\n",
       "        text-align: right;\n",
       "    }\n",
       "</style>\n",
       "<table border=\"1\" class=\"dataframe\">\n",
       "  <thead>\n",
       "    <tr style=\"text-align: right;\">\n",
       "      <th></th>\n",
       "      <th>item_category_name_translated</th>\n",
       "      <th>item_cnt_day</th>\n",
       "    </tr>\n",
       "  </thead>\n",
       "  <tbody>\n",
       "    <tr>\n",
       "      <th>24</th>\n",
       "      <td>Cinema - DVD</td>\n",
       "      <td>634171.0</td>\n",
       "    </tr>\n",
       "    <tr>\n",
       "      <th>70</th>\n",
       "      <td>PC Games - Standard Edition</td>\n",
       "      <td>456540.0</td>\n",
       "    </tr>\n",
       "    <tr>\n",
       "      <th>59</th>\n",
       "      <td>Music - CD of local production</td>\n",
       "      <td>348591.0</td>\n",
       "    </tr>\n",
       "    <tr>\n",
       "      <th>39</th>\n",
       "      <td>Games - PS3</td>\n",
       "      <td>254887.0</td>\n",
       "    </tr>\n",
       "    <tr>\n",
       "      <th>20</th>\n",
       "      <td>Cinema - Blu-Ray</td>\n",
       "      <td>203284.0</td>\n",
       "    </tr>\n",
       "  </tbody>\n",
       "</table>\n",
       "</div>"
      ],
      "text/plain": [
       "     item_category_name_translated  item_cnt_day\n",
       "24                    Cinema - DVD      634171.0\n",
       "70     PC Games - Standard Edition      456540.0\n",
       "59  Music - CD of local production      348591.0\n",
       "39                     Games - PS3      254887.0\n",
       "20                Cinema - Blu-Ray      203284.0"
      ]
     },
     "execution_count": 15,
     "metadata": {},
     "output_type": "execute_result"
    }
   ],
   "source": [
    "most_sold_cat = df_merged.groupby(['item_category_name_translated'])['item_cnt_day'].sum().reset_index()\n",
    "most_sold_cat = most_sold_cat.sort_values(by= 'item_cnt_day', ascending=False)\n",
    "most_sold_cat.head()"
   ]
  },
  {
   "cell_type": "code",
   "execution_count": 20,
   "metadata": {
    "scrolled": false
   },
   "outputs": [
    {
     "data": {
      "text/plain": [
       "<AxesSubplot:xlabel='item_category_name_translated'>"
      ]
     },
     "execution_count": 20,
     "metadata": {},
     "output_type": "execute_result"
    },
    {
     "data": {
      "image/png": "[encoded data removed]",
      "text/plain": [
       "<Figure size 576x576 with 1 Axes>"
      ]
     },
     "metadata": {
      "needs_background": "light"
     },
     "output_type": "display_data"
    }
   ],
   "source": [
    "most_sold_cat.head(10).plot.bar(x='item_category_name_translated', figsize=(8,8))"
   ]
  },
  {
   "cell_type": "code",
   "execution_count": 25,
   "metadata": {
    "scrolled": true
   },
   "outputs": [
    {
     "data": {
      "text/html": [
       "<div>\n",
       "<style scoped>\n",
       "    .dataframe tbody tr th:only-of-type {\n",
       "        vertical-align: middle;\n",
       "    }\n",
       "\n",
       "    .dataframe tbody tr th {\n",
       "        vertical-align: top;\n",
       "    }\n",
       "\n",
       "    .dataframe thead th {\n",
       "        text-align: right;\n",
       "    }\n",
       "</style>\n",
       "<table border=\"1\" class=\"dataframe\">\n",
       "  <thead>\n",
       "    <tr style=\"text-align: right;\">\n",
       "      <th></th>\n",
       "      <th>item_name_translated</th>\n",
       "      <th>item_cnt_day</th>\n",
       "    </tr>\n",
       "  </thead>\n",
       "  <tbody>\n",
       "    <tr>\n",
       "      <th>5327</th>\n",
       "      <td>Corporate package T-shirt 1C Interest white (3...</td>\n",
       "      <td>187642.0</td>\n",
       "    </tr>\n",
       "    <tr>\n",
       "      <th>6125</th>\n",
       "      <td>Diablo III [PC, Jewel, Russian version]</td>\n",
       "      <td>17245.0</td>\n",
       "    </tr>\n",
       "    <tr>\n",
       "      <th>8206</th>\n",
       "      <td>Grand Theft Auto V [PS3, Russian subtitles]</td>\n",
       "      <td>16642.0</td>\n",
       "    </tr>\n",
       "    <tr>\n",
       "      <th>1896</th>\n",
       "      <td>Acceptance of funds for 1C-Online</td>\n",
       "      <td>15830.0</td>\n",
       "    </tr>\n",
       "    <tr>\n",
       "      <th>14049</th>\n",
       "      <td>Playstation Store replenishment of wallet: Pay...</td>\n",
       "      <td>14515.0</td>\n",
       "    </tr>\n",
       "  </tbody>\n",
       "</table>\n",
       "</div>"
      ],
      "text/plain": [
       "                                    item_name_translated  item_cnt_day\n",
       "5327   Corporate package T-shirt 1C Interest white (3...      187642.0\n",
       "6125             Diablo III [PC, Jewel, Russian version]       17245.0\n",
       "8206         Grand Theft Auto V [PS3, Russian subtitles]       16642.0\n",
       "1896                   Acceptance of funds for 1C-Online       15830.0\n",
       "14049  Playstation Store replenishment of wallet: Pay...       14515.0"
      ]
     },
     "execution_count": 25,
     "metadata": {},
     "output_type": "execute_result"
    }
   ],
   "source": [
    "most_sold_item = df_merged.groupby(['item_name_translated'])['item_cnt_day'].sum().reset_index()\n",
    "most_sold_item = most_sold_item.sort_values(by= 'item_cnt_day', ascending=False)\n",
    "most_sold_item.head()"
   ]
  },
  {
   "cell_type": "code",
   "execution_count": 27,
   "metadata": {},
   "outputs": [
    {
     "data": {
      "text/plain": [
       "<AxesSubplot:xlabel='item_name_translated'>"
      ]
     },
     "execution_count": 27,
     "metadata": {},
     "output_type": "execute_result"
    },
    {
     "data": {
      "image/png": "[encoded data removed]",
      "text/plain": [
       "<Figure size 576x576 with 1 Axes>"
      ]
     },
     "metadata": {
      "needs_background": "light"
     },
     "output_type": "display_data"
    }
   ],
   "source": [
    "most_sold_item.head(10).plot.bar(x='item_name_translated', figsize=(8,8))"
   ]
  }
 ],
 "metadata": {
  "kernelspec": {
   "display_name": "Python 3",
   "language": "python",
   "name": "python3"
  },
  "language_info": {
   "codemirror_mode": {
    "name": "ipython",
    "version": 3
   },
   "file_extension": ".py",
   "mimetype": "text/x-python",
   "name": "python",
   "nbconvert_exporter": "python",
   "pygments_lexer": "ipython3",
   "version": "3.7.7"
  }
 },
 "nbformat": 4,
 "nbformat_minor": 4
}

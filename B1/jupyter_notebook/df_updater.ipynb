{
 "metadata": {
  "language_info": {
   "codemirror_mode": {
    "name": "ipython",
    "version": 3
   },
   "file_extension": ".py",
   "mimetype": "text/x-python",
   "name": "python",
   "nbconvert_exporter": "python",
   "pygments_lexer": "ipython3",
   "version": "3.7.9-final"
  },
  "orig_nbformat": 2,
  "kernelspec": {
   "name": "python37964bitwebscrapingconda5dd7cefa095141818a3d3177a3640648",
   "display_name": "Python 3.7.9 64-bit ('web_scraping': conda)",
   "language": "python"
  }
 },
 "nbformat": 4,
 "nbformat_minor": 2,
 "cells": [
  {
   "cell_type": "code",
   "execution_count": 2,
   "metadata": {},
   "outputs": [],
   "source": [
    "import pandas as pd\n",
    "import numpy as np"
   ]
  },
  {
   "cell_type": "code",
   "execution_count": 3,
   "metadata": {
    "tags": []
   },
   "outputs": [
    {
     "output_type": "execute_result",
     "data": {
      "text/plain": [
       "                                   Title               Author  Rating Count  \\\n",
       "0                  To Kill a Mockingbird           Harper Lee       4629082   \n",
       "1                                   1984        George Orwell       3250211   \n",
       "2                       The Great Gatsby  F. Scott Fitzgerald       3877685   \n",
       "3  Harry Potter and the Sorcerer's Stone         J.K. Rowling       7281482   \n",
       "4    The Hobbit, or There and Back Again       J.R.R. Tolkien       2973224   \n",
       "\n",
       "   Review Count  Rating Value  N pag  1st Pub  series  \\\n",
       "0         92962          4.28  324.0   1960.0       1   \n",
       "1         72375          4.19  237.0   1949.0       0   \n",
       "2         68965          3.93  200.0   1925.0       0   \n",
       "3        115354          4.48  309.0   1997.0       1   \n",
       "4         49547          4.28  366.0   1937.0       1   \n",
       "\n",
       "                                       Genres  Awards  minmax_norm_ratings  \\\n",
       "0       ['Classics', 'Fiction', 'Historical']     4.0                7.705   \n",
       "1  ['Classics', 'Fiction', 'Science Fiction']     2.0                7.161   \n",
       "2         ['Classics', 'Fiction', 'Academic']     1.0                5.591   \n",
       "3       ['Fantasy', 'Fiction', 'Young Adult']    28.0                8.913   \n",
       "4          ['Fantasy', 'Classics', 'Fiction']     3.0                7.705   \n",
       "\n",
       "   mean_norm_ratings                                               Link  \n",
       "0              2.330  https://www.goodreads.com/book/show/2657.To_Ki...  \n",
       "1              1.787  https://www.goodreads.com/book/show/40961427-1984  \n",
       "2              0.216  https://www.goodreads.com/book/show/3.Harry_Po...  \n",
       "3              3.538  https://www.goodreads.com/book/show/4671.The_G...  \n",
       "4              2.330  https://www.goodreads.com/book/show/170448.Ani...  "
      ],
      "text/html": "<div>\n<style scoped>\n    .dataframe tbody tr th:only-of-type {\n        vertical-align: middle;\n    }\n\n    .dataframe tbody tr th {\n        vertical-align: top;\n    }\n\n    .dataframe thead th {\n        text-align: right;\n    }\n</style>\n<table border=\"1\" class=\"dataframe\">\n  <thead>\n    <tr style=\"text-align: right;\">\n      <th></th>\n      <th>Title</th>\n      <th>Author</th>\n      <th>Rating Count</th>\n      <th>Review Count</th>\n      <th>Rating Value</th>\n      <th>N pag</th>\n      <th>1st Pub</th>\n      <th>series</th>\n      <th>Genres</th>\n      <th>Awards</th>\n      <th>minmax_norm_ratings</th>\n      <th>mean_norm_ratings</th>\n      <th>Link</th>\n    </tr>\n  </thead>\n  <tbody>\n    <tr>\n      <th>0</th>\n      <td>To Kill a Mockingbird</td>\n      <td>Harper Lee</td>\n      <td>4629082</td>\n      <td>92962</td>\n      <td>4.28</td>\n      <td>324.0</td>\n      <td>1960.0</td>\n      <td>1</td>\n      <td>['Classics', 'Fiction', 'Historical']</td>\n      <td>4.0</td>\n      <td>7.705</td>\n      <td>2.330</td>\n      <td>https://www.goodreads.com/book/show/2657.To_Ki...</td>\n    </tr>\n    <tr>\n      <th>1</th>\n      <td>1984</td>\n      <td>George Orwell</td>\n      <td>3250211</td>\n      <td>72375</td>\n      <td>4.19</td>\n      <td>237.0</td>\n      <td>1949.0</td>\n      <td>0</td>\n      <td>['Classics', 'Fiction', 'Science Fiction']</td>\n      <td>2.0</td>\n      <td>7.161</td>\n      <td>1.787</td>\n      <td>https://www.goodreads.com/book/show/40961427-1984</td>\n    </tr>\n    <tr>\n      <th>2</th>\n      <td>The Great Gatsby</td>\n      <td>F. Scott Fitzgerald</td>\n      <td>3877685</td>\n      <td>68965</td>\n      <td>3.93</td>\n      <td>200.0</td>\n      <td>1925.0</td>\n      <td>0</td>\n      <td>['Classics', 'Fiction', 'Academic']</td>\n      <td>1.0</td>\n      <td>5.591</td>\n      <td>0.216</td>\n      <td>https://www.goodreads.com/book/show/3.Harry_Po...</td>\n    </tr>\n    <tr>\n      <th>3</th>\n      <td>Harry Potter and the Sorcerer's Stone</td>\n      <td>J.K. Rowling</td>\n      <td>7281482</td>\n      <td>115354</td>\n      <td>4.48</td>\n      <td>309.0</td>\n      <td>1997.0</td>\n      <td>1</td>\n      <td>['Fantasy', 'Fiction', 'Young Adult']</td>\n      <td>28.0</td>\n      <td>8.913</td>\n      <td>3.538</td>\n      <td>https://www.goodreads.com/book/show/4671.The_G...</td>\n    </tr>\n    <tr>\n      <th>4</th>\n      <td>The Hobbit, or There and Back Again</td>\n      <td>J.R.R. Tolkien</td>\n      <td>2973224</td>\n      <td>49547</td>\n      <td>4.28</td>\n      <td>366.0</td>\n      <td>1937.0</td>\n      <td>1</td>\n      <td>['Fantasy', 'Classics', 'Fiction']</td>\n      <td>3.0</td>\n      <td>7.705</td>\n      <td>2.330</td>\n      <td>https://www.goodreads.com/book/show/170448.Ani...</td>\n    </tr>\n  </tbody>\n</table>\n</div>"
     },
     "metadata": {},
     "execution_count": 3
    }
   ],
   "source": [
    "df = pd.read_csv('./resources/Books.csv')\n",
    "df = df.drop(['Unnamed: 0'], axis = 1)\n",
    "df.head()"
   ]
  },
  {
   "cell_type": "code",
   "execution_count": 31,
   "metadata": {},
   "outputs": [],
   "source": [
    "# getting needed variable for the calculations\n",
    "max_rating = df['Rating Value'].max()\n",
    "min_rating = df['Rating Value'].min()\n",
    "range_of_ratings = max_rating - min_rating\n",
    "mean_rating = df['Rating Value'].mean()\n",
    "\n",
    "# calculating minmax norm ratings and adding column to df\n",
    "df['minmax_norm_ratings'] = round(1 + 9*((df['Rating Value'] - min_rating)/range_of_ratings) , 3)\n",
    "\n",
    "# calculating mean norm ratings and adding column to df\n",
    "df['mean_norm_ratings'] = round(1 + 9*((df['Rating Value'] - mean_rating)/range_of_ratings) , 3)\n",
    "\n",
    "# scaling mean norm ratings from 0 to 10\n",
    "mmax = np.max(df['mean_norm_ratings'])\n",
    "mmin = np.min(df['mean_norm_ratings'])\n",
    "df['mean_norm_ratings'] = (df['mean_norm_ratings'] - mmin) / (mmax - mmin) *10\n",
    "\n",
    "# exporting the updated csv\n",
    "df.to_csv('./resources/Books.csv')\n"
   ]
  }
 ]
}
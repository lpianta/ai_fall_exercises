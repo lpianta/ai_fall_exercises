{
 "cells": [
  {
   "cell_type": "code",
   "execution_count": null,
   "metadata": {
    "cell_id": "00000-3c0ba3e9-b6ae-45e4-94e9-609b54dcc4ec",
    "deepnote_cell_type": "code",
    "deepnote_to_be_reexecuted": false,
    "execution_millis": 153,
    "execution_start": 1610637853183,
    "source_hash": "c70c0c10",
    "tags": []
   },
   "outputs": [
    {
     "data": {
      "application/vnd.deepnote.dataframe.v2+json": {
       "column_count": 14,
       "columns": [
        {
         "dtype": "int64",
         "name": "Unnamed: 0",
         "stats": {
          "histogram": [
           {
            "bin_end": 99.5,
            "bin_start": 0,
            "count": 100
           },
           {
            "bin_end": 199,
            "bin_start": 99.5,
            "count": 99
           },
           {
            "bin_end": 298.5,
            "bin_start": 199,
            "count": 100
           },
           {
            "bin_end": 398,
            "bin_start": 298.5,
            "count": 99
           },
           {
            "bin_end": 497.5,
            "bin_start": 398,
            "count": 100
           },
           {
            "bin_end": 597,
            "bin_start": 497.5,
            "count": 99
           },
           {
            "bin_end": 696.5,
            "bin_start": 597,
            "count": 100
           },
           {
            "bin_end": 796,
            "bin_start": 696.5,
            "count": 99
           },
           {
            "bin_end": 895.5,
            "bin_start": 796,
            "count": 100
           },
           {
            "bin_end": 995,
            "bin_start": 895.5,
            "count": 100
           }
          ],
          "max": 995,
          "min": 0,
          "nan_count": 0,
          "unique_count": 996
         }
        },
        {
         "dtype": "object",
         "name": "Title",
         "stats": {
          "categories": [
           {
            "count": 2,
            "name": "The Complete Stories"
           },
           {
            "count": 2,
            "name": "Collected Poems"
           },
           {
            "count": 992,
            "name": "992 others"
           }
          ],
          "nan_count": 0,
          "unique_count": 994
         }
        },
        {
         "dtype": "object",
         "name": "Author",
         "stats": {
          "categories": [
           {
            "count": 19,
            "name": "Stephen King"
           },
           {
            "count": 13,
            "name": "C.S. Lewis"
           },
           {
            "count": 964,
            "name": "587 others"
           }
          ],
          "nan_count": 0,
          "unique_count": 589
         }
        },
        {
         "dtype": "int64",
         "name": "Rating Count",
         "stats": {
          "histogram": [
           {
            "bin_end": 728503.7,
            "bin_start": 395,
            "count": 938
           },
           {
            "bin_end": 1456612.4,
            "bin_start": 728503.7,
            "count": 34
           },
           {
            "bin_end": 2184721.0999999996,
            "bin_start": 1456612.4,
            "count": 9
           },
           {
            "bin_end": 2912829.8,
            "bin_start": 2184721.0999999996,
            "count": 10
           },
           {
            "bin_end": 3640938.5,
            "bin_start": 2912829.8,
            "count": 2
           },
           {
            "bin_end": 4369047.199999999,
            "bin_start": 3640938.5,
            "count": 1
           },
           {
            "bin_end": 5097155.899999999,
            "bin_start": 4369047.199999999,
            "count": 1
           },
           {
            "bin_end": 5825264.6,
            "bin_start": 5097155.899999999,
            "count": 0
           },
           {
            "bin_end": 6553373.3,
            "bin_start": 5825264.6,
            "count": 0
           },
           {
            "bin_end": 7281482,
            "bin_start": 6553373.3,
            "count": 1
           }
          ],
          "max": 7281482,
          "min": 395,
          "nan_count": 0,
          "unique_count": 995
         }
        },
        {
         "dtype": "int64",
         "name": "Review Count",
         "stats": {
          "histogram": [
           {
            "bin_end": 11542.6,
            "bin_start": 8,
            "count": 860
           },
           {
            "bin_end": 23077.2,
            "bin_start": 11542.6,
            "count": 86
           },
           {
            "bin_end": 34611.8,
            "bin_start": 23077.2,
            "count": 28
           },
           {
            "bin_end": 46146.4,
            "bin_start": 34611.8,
            "count": 6
           },
           {
            "bin_end": 57681,
            "bin_start": 46146.4,
            "count": 6
           },
           {
            "bin_end": 69215.6,
            "bin_start": 57681,
            "count": 5
           },
           {
            "bin_end": 80750.2,
            "bin_start": 69215.6,
            "count": 2
           },
           {
            "bin_end": 92284.8,
            "bin_start": 80750.2,
            "count": 1
           },
           {
            "bin_end": 103819.40000000001,
            "bin_start": 92284.8,
            "count": 1
           },
           {
            "bin_end": 115354,
            "bin_start": 103819.40000000001,
            "count": 1
           }
          ],
          "max": 115354,
          "min": 8,
          "nan_count": 0,
          "unique_count": 952
         }
        },
        {
         "dtype": "float64",
         "name": "Rating Value",
         "stats": {
          "histogram": [
           {
            "bin_end": 3.319,
            "bin_start": 3.17,
            "count": 1
           },
           {
            "bin_end": 3.468,
            "bin_start": 3.319,
            "count": 2
           },
           {
            "bin_end": 3.617,
            "bin_start": 3.468,
            "count": 12
           },
           {
            "bin_end": 3.766,
            "bin_start": 3.617,
            "count": 65
           },
           {
            "bin_end": 3.915,
            "bin_start": 3.766,
            "count": 154
           },
           {
            "bin_end": 4.064,
            "bin_start": 3.915,
            "count": 257
           },
           {
            "bin_end": 4.213,
            "bin_start": 4.064,
            "count": 272
           },
           {
            "bin_end": 4.362,
            "bin_start": 4.213,
            "count": 178
           },
           {
            "bin_end": 4.511,
            "bin_start": 4.362,
            "count": 47
           },
           {
            "bin_end": 4.66,
            "bin_start": 4.511,
            "count": 8
           }
          ],
          "max": 4.66,
          "min": 3.17,
          "nan_count": 0,
          "unique_count": 106
         }
        },
        {
         "dtype": "float64",
         "name": "N pag",
         "stats": {
          "histogram": [
           {
            "bin_end": 1498.4,
            "bin_start": 23,
            "count": 988
           },
           {
            "bin_end": 2973.8,
            "bin_start": 1498.4,
            "count": 4
           },
           {
            "bin_end": 4449.200000000001,
            "bin_start": 2973.8,
            "count": 1
           },
           {
            "bin_end": 5924.6,
            "bin_start": 4449.200000000001,
            "count": 0
           },
           {
            "bin_end": 7400,
            "bin_start": 5924.6,
            "count": 0
           },
           {
            "bin_end": 8875.400000000001,
            "bin_start": 7400,
            "count": 0
           },
           {
            "bin_end": 10350.800000000001,
            "bin_start": 8875.400000000001,
            "count": 0
           },
           {
            "bin_end": 11826.2,
            "bin_start": 10350.800000000001,
            "count": 0
           },
           {
            "bin_end": 13301.6,
            "bin_start": 11826.2,
            "count": 0
           },
           {
            "bin_end": 14777,
            "bin_start": 13301.6,
            "count": 1
           }
          ],
          "max": 14777,
          "min": 23,
          "nan_count": 2,
          "unique_count": 493
         }
        },
        {
         "dtype": "float64",
         "name": "1st Pub",
         "stats": {
          "histogram": [
           {
            "bin_end": 1910.3,
            "bin_start": 1900,
            "count": 32
           },
           {
            "bin_end": 1920.6,
            "bin_start": 1910.3,
            "count": 32
           },
           {
            "bin_end": 1930.9,
            "bin_start": 1920.6,
            "count": 59
           },
           {
            "bin_end": 1941.2,
            "bin_start": 1930.9,
            "count": 75
           },
           {
            "bin_end": 1951.5,
            "bin_start": 1941.2,
            "count": 88
           },
           {
            "bin_end": 1961.8,
            "bin_start": 1951.5,
            "count": 126
           },
           {
            "bin_end": 1972.1,
            "bin_start": 1961.8,
            "count": 128
           },
           {
            "bin_end": 1982.4,
            "bin_start": 1972.1,
            "count": 143
           },
           {
            "bin_end": 1992.7,
            "bin_start": 1982.4,
            "count": 150
           },
           {
            "bin_end": 2003,
            "bin_start": 1992.7,
            "count": 142
           }
          ],
          "max": 2003,
          "min": 1900,
          "nan_count": 21,
          "unique_count": 102
         }
        },
        {
         "dtype": "int64",
         "name": "series",
         "stats": {
          "histogram": [
           {
            "bin_end": 0.1,
            "bin_start": 0,
            "count": 645
           },
           {
            "bin_end": 0.2,
            "bin_start": 0.1,
            "count": 0
           },
           {
            "bin_end": 0.30000000000000004,
            "bin_start": 0.2,
            "count": 0
           },
           {
            "bin_end": 0.4,
            "bin_start": 0.30000000000000004,
            "count": 0
           },
           {
            "bin_end": 0.5,
            "bin_start": 0.4,
            "count": 0
           },
           {
            "bin_end": 0.6000000000000001,
            "bin_start": 0.5,
            "count": 0
           },
           {
            "bin_end": 0.7000000000000001,
            "bin_start": 0.6000000000000001,
            "count": 0
           },
           {
            "bin_end": 0.8,
            "bin_start": 0.7000000000000001,
            "count": 0
           },
           {
            "bin_end": 0.9,
            "bin_start": 0.8,
            "count": 0
           },
           {
            "bin_end": 1,
            "bin_start": 0.9,
            "count": 351
           }
          ],
          "max": 1,
          "min": 0,
          "nan_count": 0,
          "unique_count": 2
         }
        },
        {
         "dtype": "object",
         "name": "Genres",
         "stats": {
          "categories": [
           {
            "count": 54,
            "name": "['Historical', 'Historical Fiction', 'Fiction']"
           },
           {
            "count": 46,
            "name": "['Fiction', 'Historical', 'Historical Fiction']"
           },
           {
            "count": 896,
            "name": "344 others"
           }
          ],
          "nan_count": 0,
          "unique_count": 346
         }
        },
        {
         "dtype": "float64",
         "name": "Awards",
         "stats": {
          "histogram": [
           {
            "bin_end": 3.7,
            "bin_start": 1,
            "count": 415
           },
           {
            "bin_end": 6.4,
            "bin_start": 3.7,
            "count": 92
           },
           {
            "bin_end": 9.100000000000001,
            "bin_start": 6.4,
            "count": 27
           },
           {
            "bin_end": 11.8,
            "bin_start": 9.100000000000001,
            "count": 5
           },
           {
            "bin_end": 14.5,
            "bin_start": 11.8,
            "count": 4
           },
           {
            "bin_end": 17.200000000000003,
            "bin_start": 14.5,
            "count": 3
           },
           {
            "bin_end": 19.900000000000002,
            "bin_start": 17.200000000000003,
            "count": 0
           },
           {
            "bin_end": 22.6,
            "bin_start": 19.900000000000002,
            "count": 3
           },
           {
            "bin_end": 25.3,
            "bin_start": 22.6,
            "count": 0
           },
           {
            "bin_end": 28,
            "bin_start": 25.3,
            "count": 1
           }
          ],
          "max": 28,
          "min": 1,
          "nan_count": 446,
          "unique_count": 17
         }
        },
        {
         "dtype": "float64",
         "name": "minmax_norm_ratings",
         "stats": {
          "histogram": [
           {
            "bin_end": 1.9,
            "bin_start": 1,
            "count": 1
           },
           {
            "bin_end": 2.8,
            "bin_start": 1.9,
            "count": 2
           },
           {
            "bin_end": 3.7,
            "bin_start": 2.8,
            "count": 12
           },
           {
            "bin_end": 4.6,
            "bin_start": 3.7,
            "count": 65
           },
           {
            "bin_end": 5.5,
            "bin_start": 4.6,
            "count": 154
           },
           {
            "bin_end": 6.4,
            "bin_start": 5.5,
            "count": 257
           },
           {
            "bin_end": 7.3,
            "bin_start": 6.4,
            "count": 272
           },
           {
            "bin_end": 8.2,
            "bin_start": 7.3,
            "count": 178
           },
           {
            "bin_end": 9.1,
            "bin_start": 8.2,
            "count": 47
           },
           {
            "bin_end": 10,
            "bin_start": 9.1,
            "count": 8
           }
          ],
          "max": 10,
          "min": 1,
          "nan_count": 0,
          "unique_count": 106
         }
        },
        {
         "dtype": "float64",
         "name": "mean_norm_ratings",
         "stats": {
          "histogram": [
           {
            "bin_end": -3.4739999999999998,
            "bin_start": -4.374,
            "count": 1
           },
           {
            "bin_end": -2.574,
            "bin_start": -3.4739999999999998,
            "count": 2
           },
           {
            "bin_end": -1.6739999999999995,
            "bin_start": -2.574,
            "count": 12
           },
           {
            "bin_end": -0.7739999999999996,
            "bin_start": -1.6739999999999995,
            "count": 65
           },
           {
            "bin_end": 0.12600000000000033,
            "bin_start": -0.7739999999999996,
            "count": 154
           },
           {
            "bin_end": 1.0260000000000007,
            "bin_start": 0.12600000000000033,
            "count": 257
           },
           {
            "bin_end": 1.9260000000000002,
            "bin_start": 1.0260000000000007,
            "count": 272
           },
           {
            "bin_end": 2.8260000000000005,
            "bin_start": 1.9260000000000002,
            "count": 178
           },
           {
            "bin_end": 3.726,
            "bin_start": 2.8260000000000005,
            "count": 47
           },
           {
            "bin_end": 4.626,
            "bin_start": 3.726,
            "count": 8
           }
          ],
          "max": 4.626,
          "min": -4.374,
          "nan_count": 0,
          "unique_count": 106
         }
        },
        {
         "dtype": "object",
         "name": "Link",
         "stats": {
          "categories": [
           {
            "count": 1,
            "name": "https://www.goodreads.com/book/show/2657.To_Kill_a_Mockingbird"
           },
           {
            "count": 1,
            "name": "https://www.goodreads.com/book/show/40961427-1984"
           },
           {
            "count": 994,
            "name": "994 others"
           }
          ],
          "nan_count": 0,
          "unique_count": 996
         }
        },
        {
         "dtype": "int64",
         "name": "_deepnote_index_column"
        }
       ],
       "row_count": 996,
       "rows_bottom": [
        {
         "1st Pub": "1973.0",
         "Author": "Mary  Stewart",
         "Awards": "1.0",
         "Genres": "['Fantasy', 'Fiction', 'Historical']",
         "Link": "https://www.goodreads.com/book/show/116343.The_Hollow_Hills",
         "N pag": 475,
         "Rating Count": 20540,
         "Rating Value": 4.24,
         "Review Count": 537,
         "Title": "The Hollow Hills",
         "Unnamed: 0": 960,
         "_deepnote_index_column": 960,
         "mean_norm_ratings": 2.089,
         "minmax_norm_ratings": 7.462999999999999,
         "series": 1
        },
        {
         "1st Pub": "1973.0",
         "Author": "Rita Mae Brown",
         "Awards": "1.0",
         "Genres": "['Fiction', 'LGBT', 'GLBT']",
         "Link": "https://www.goodreads.com/book/show/31338.Memnoch_the_Devil",
         "N pag": 246,
         "Rating Count": 32896,
         "Rating Value": 3.92,
         "Review Count": 1352,
         "Title": "Rubyfruit Jungle",
         "Unnamed: 0": 961,
         "_deepnote_index_column": 961,
         "mean_norm_ratings": 0.156,
         "minmax_norm_ratings": 5.53,
         "series": 0
        },
        {
         "1st Pub": "1995.0",
         "Author": "Anne Rice",
         "Awards": "nan",
         "Genres": "['Horror', 'Fantasy', 'Paranormal']",
         "Link": "https://www.goodreads.com/book/show/165395.Rubyfruit_Jungle",
         "N pag": 354,
         "Rating Count": 75399,
         "Rating Value": 3.75,
         "Review Count": 1683,
         "Title": "Memnoch the Devil",
         "Unnamed: 0": 962,
         "_deepnote_index_column": 962,
         "mean_norm_ratings": -0.871,
         "minmax_norm_ratings": 4.503,
         "series": 1
        },
        {
         "1st Pub": "1956.0",
         "Author": "Arthur C. Clarke",
         "Awards": "1.0",
         "Genres": "['Science Fiction', 'Fiction', 'Classics']",
         "Link": "https://www.goodreads.com/book/show/72659.Never_Cry_Wolf",
         "N pag": 255,
         "Rating Count": 28817,
         "Rating Value": 4.08,
         "Review Count": 1082,
         "Title": "The City and the Stars",
         "Unnamed: 0": 963,
         "_deepnote_index_column": 963,
         "mean_norm_ratings": 1.122,
         "minmax_norm_ratings": 6.497000000000001,
         "series": 0
        },
        {
         "1st Pub": "1963.0",
         "Author": "Farley Mowat",
         "Awards": "nan",
         "Genres": "['Nonfiction', 'Animals', 'Environment']",
         "Link": "https://www.goodreads.com/book/show/250024.The_City_and_the_Stars",
         "N pag": 246,
         "Rating Count": 22095,
         "Rating Value": 4.2,
         "Review Count": 1101,
         "Title": "Never Cry Wolf: The Amazing True Story of Life Among Arctic Wolves",
         "Unnamed: 0": 964,
         "_deepnote_index_column": 964,
         "mean_norm_ratings": 1.847,
         "minmax_norm_ratings": 7.221,
         "series": 0
        },
        {
         "1st Pub": "1990.0",
         "Author": "Jean M. Auel",
         "Awards": "nan",
         "Genres": "['Historical', 'Historical Fiction', 'Fiction']",
         "Link": "https://www.goodreads.com/book/show/15836.Fugitive_Pieces",
         "N pag": 865,
         "Rating Count": 51101,
         "Rating Value": 3.8,
         "Review Count": 1311,
         "Title": "The Plains of Passage",
         "Unnamed: 0": 965,
         "_deepnote_index_column": 965,
         "mean_norm_ratings": -0.569,
         "minmax_norm_ratings": 4.805,
         "series": 1
        },
        {
         "1st Pub": "1996.0",
         "Author": "Anne Michaels",
         "Awards": "7.0",
         "Genres": "['Fiction', 'Historical', 'Historical Fiction']",
         "Link": "https://www.goodreads.com/book/show/226748.The_Plains_of_Passage",
         "N pag": 304,
         "Rating Count": 14073,
         "Rating Value": 3.94,
         "Review Count": 1198,
         "Title": "Fugitive Pieces",
         "Unnamed: 0": 966,
         "_deepnote_index_column": 966,
         "mean_norm_ratings": 0.277,
         "minmax_norm_ratings": 5.651,
         "series": 0
        },
        {
         "1st Pub": "1961.0",
         "Author": "Frantz Fanon",
         "Awards": "nan",
         "Genres": "['Nonfiction', 'History', 'Politics']",
         "Link": "https://www.goodreads.com/book/show/66933.The_Wretched_of_the_Earth",
         "N pag": 320,
         "Rating Count": 18174,
         "Rating Value": 4.24,
         "Review Count": 812,
         "Title": "The Wretched of the Earth",
         "Unnamed: 0": 967,
         "_deepnote_index_column": 967,
         "mean_norm_ratings": 2.089,
         "minmax_norm_ratings": 7.462999999999999,
         "series": 0
        },
        {
         "1st Pub": "1966.0",
         "Author": "Shūsaku Endō",
         "Awards": "1.0",
         "Genres": "['Fiction', 'Historical', 'Historical Fiction']",
         "Link": "https://www.goodreads.com/book/show/25200.Silence",
         "N pag": 219,
         "Rating Count": 24995,
         "Rating Value": 4.09,
         "Review Count": 3257,
         "Title": "Silence",
         "Unnamed: 0": 968,
         "_deepnote_index_column": 968,
         "mean_norm_ratings": 1.183,
         "minmax_norm_ratings": 6.557,
         "series": 0
        },
        {
         "1st Pub": "1977.0",
         "Author": "Frederik Pohl",
         "Awards": "6.0",
         "Genres": "['Science Fiction', 'Fiction', 'Space']",
         "Link": "https://www.goodreads.com/book/show/11422.Redeeming_Love",
         "N pag": 278,
         "Rating Count": 40279,
         "Rating Value": 4.07,
         "Review Count": 1609,
         "Title": "Gateway",
         "Unnamed: 0": 969,
         "_deepnote_index_column": 969,
         "mean_norm_ratings": 1.062,
         "minmax_norm_ratings": 6.436,
         "series": 1
        },
        {
         "1st Pub": "1991.0",
         "Author": "Francine Rivers",
         "Awards": "nan",
         "Genres": "['Christian Fiction', 'Christian', 'Fiction']",
         "Link": "https://www.goodreads.com/book/show/218427.Gateway",
         "N pag": 479,
         "Rating Count": 218405,
         "Rating Value": 4.5,
         "Review Count": 12013,
         "Title": "Redeeming Love",
         "Unnamed: 0": 970,
         "_deepnote_index_column": 970,
         "mean_norm_ratings": 3.659,
         "minmax_norm_ratings": 9.034,
         "series": 0
        },
        {
         "1st Pub": "1970.0",
         "Author": "Alvin Toffler",
         "Awards": "nan",
         "Genres": "['Nonfiction', 'Sociology', 'Science']",
         "Link": "https://www.goodreads.com/book/show/1499952.Daddy_Long_Legs",
         "N pag": 430,
         "Rating Count": 4297,
         "Rating Value": 3.8,
         "Review Count": 311,
         "Title": "Future Shock",
         "Unnamed: 0": 971,
         "_deepnote_index_column": 971,
         "mean_norm_ratings": -0.569,
         "minmax_norm_ratings": 4.805,
         "series": 0
        },
        {
         "1st Pub": "nan",
         "Author": "Jean Webster",
         "Awards": "nan",
         "Genres": "['Classics', 'Fiction', 'Young Adult']",
         "Link": "https://www.goodreads.com/book/show/466537.Future_Shock",
         "N pag": 249,
         "Rating Count": 45924,
         "Rating Value": 4.15,
         "Review Count": 5636,
         "Title": "Daddy-Long-Legs",
         "Unnamed: 0": 972,
         "_deepnote_index_column": 972,
         "mean_norm_ratings": 1.545,
         "minmax_norm_ratings": 6.919,
         "series": 1
        },
        {
         "1st Pub": "1947.0",
         "Author": "John Steinbeck",
         "Awards": "nan",
         "Genres": "['Fiction', 'Classics', 'Literature']",
         "Link": "https://www.goodreads.com/book/show/116114.From_Here_to_Eternity",
         "N pag": 181,
         "Rating Count": 1611,
         "Rating Value": 3.67,
         "Review Count": 46,
         "Title": "The Pearl/The Red Pony",
         "Unnamed: 0": 973,
         "_deepnote_index_column": 973,
         "mean_norm_ratings": -1.354,
         "minmax_norm_ratings": 4.02,
         "series": 0
        },
        {
         "1st Pub": "1951.0",
         "Author": "James  Jones",
         "Awards": "1.0",
         "Genres": "['Fiction', 'Classics', 'Historical']",
         "Link": "https://www.goodreads.com/book/show/14349.The_Pearl_The_Red_Pony",
         "N pag": 816,
         "Rating Count": 16056,
         "Rating Value": 4.09,
         "Review Count": 492,
         "Title": "From Here to Eternity",
         "Unnamed: 0": 974,
         "_deepnote_index_column": 974,
         "mean_norm_ratings": 1.183,
         "minmax_norm_ratings": 6.557,
         "series": 1
        },
        {
         "1st Pub": "1943.0",
         "Author": "Jean Genet",
         "Awards": "1.0",
         "Genres": "['Fiction', 'Cultural', 'France']",
         "Link": "https://www.goodreads.com/book/show/50144.Kitchen",
         "N pag": 216,
         "Rating Count": 5298,
         "Rating Value": 4.02,
         "Review Count": 273,
         "Title": "Our Lady of the Flowers",
         "Unnamed: 0": 975,
         "_deepnote_index_column": 975,
         "mean_norm_ratings": 0.76,
         "minmax_norm_ratings": 6.134,
         "series": 0
        },
        {
         "1st Pub": "1988.0",
         "Author": "Banana Yoshimoto",
         "Awards": "3.0",
         "Genres": "['Fiction', 'Cultural', 'Japan']",
         "Link": "https://www.goodreads.com/book/show/53003.Our_Lady_of_the_Flowers",
         "N pag": 160,
         "Rating Count": 50342,
         "Rating Value": 3.86,
         "Review Count": 4270,
         "Title": "Kitchen",
         "Unnamed: 0": 976,
         "_deepnote_index_column": 976,
         "mean_norm_ratings": -0.206,
         "minmax_norm_ratings": 5.167999999999998,
         "series": 0
        },
        {
         "1st Pub": "1953.0",
         "Author": "Jean Giono",
         "Awards": "nan",
         "Genres": "['Fiction', 'Short Stories', 'Classics']",
         "Link": "https://www.goodreads.com/book/show/757438.The_Man_Who_Planted_Trees",
         "N pag": 74,
         "Rating Count": 8727,
         "Rating Value": 4.24,
         "Review Count": 992,
         "Title": "The Man Who Planted Trees",
         "Unnamed: 0": 977,
         "_deepnote_index_column": 977,
         "mean_norm_ratings": 2.089,
         "minmax_norm_ratings": 7.462999999999999,
         "series": 0
        },
        {
         "1st Pub": "1991.0",
         "Author": "Victor Villaseñor",
         "Awards": "nan",
         "Genres": "['Fiction', 'Historical', 'Historical Fiction']",
         "Link": "https://www.goodreads.com/book/show/14345.Rain_of_Gold",
         "N pag": 576,
         "Rating Count": 6744,
         "Rating Value": 4.49,
         "Review Count": 711,
         "Title": "Rain of Gold",
         "Unnamed: 0": 978,
         "_deepnote_index_column": 978,
         "mean_norm_ratings": 3.599,
         "minmax_norm_ratings": 8.972999999999997,
         "series": 0
        },
        {
         "1st Pub": "1951.0",
         "Author": "Josephine Tey",
         "Awards": "1.0",
         "Genres": "['Mystery', 'Historical', 'Historical Fiction']",
         "Link": "https://www.goodreads.com/book/show/16948.Children_of_God",
         "N pag": 206,
         "Rating Count": 24391,
         "Rating Value": 3.92,
         "Review Count": 3160,
         "Title": "The Daughter of Time",
         "Unnamed: 0": 979,
         "_deepnote_index_column": 979,
         "mean_norm_ratings": 0.156,
         "minmax_norm_ratings": 5.53,
         "series": 1
        },
        {
         "1st Pub": "1998.0",
         "Author": "Mary Doria Russell",
         "Awards": "2.0",
         "Genres": "['Science Fiction', 'Fiction', 'Religion']",
         "Link": "https://www.goodreads.com/book/show/77661.The_Daughter_of_Time",
         "N pag": 451,
         "Rating Count": 17910,
         "Rating Value": 4.07,
         "Review Count": 1683,
         "Title": "Children of God",
         "Unnamed: 0": 980,
         "_deepnote_index_column": 980,
         "mean_norm_ratings": 1.062,
         "minmax_norm_ratings": 6.436,
         "series": 1
        },
        {
         "1st Pub": "1968.0",
         "Author": "Yukio Mishima",
         "Awards": "1.0",
         "Genres": "['Fiction', 'Cultural', 'Japan']",
         "Link": "https://www.goodreads.com/book/show/119829.The_Sunne_in_Splendour",
         "N pag": 389,
         "Rating Count": 12642,
         "Rating Value": 4.15,
         "Review Count": 952,
         "Title": "Spring Snow",
         "Unnamed: 0": 981,
         "_deepnote_index_column": 981,
         "mean_norm_ratings": 1.545,
         "minmax_norm_ratings": 6.919,
         "series": 1
        },
        {
         "1st Pub": "1982.0",
         "Author": "Sharon Kay Penman",
         "Awards": "nan",
         "Genres": "['Historical', 'Historical Fiction', 'Fiction']",
         "Link": "https://www.goodreads.com/book/show/62793.Spring_Snow",
         "N pag": 936,
         "Rating Count": 20072,
         "Rating Value": 4.38,
         "Review Count": 1251,
         "Title": "The Sunne in Splendour",
         "Unnamed: 0": 982,
         "_deepnote_index_column": 982,
         "mean_norm_ratings": 2.934,
         "minmax_norm_ratings": 8.309,
         "series": 0
        },
        {
         "1st Pub": "1986.0",
         "Author": "Scott Turow",
         "Awards": "2.0",
         "Genres": "['Mystery', 'Fiction', 'Thriller']",
         "Link": "https://www.goodreads.com/book/show/71292.Asterix_the_Gaul",
         "N pag": 421,
         "Rating Count": 108045,
         "Rating Value": 4.1,
         "Review Count": 1582,
         "Title": "Presumed Innocent",
         "Unnamed: 0": 983,
         "_deepnote_index_column": 983,
         "mean_norm_ratings": 1.243,
         "minmax_norm_ratings": 6.617000000000001,
         "series": 1
        },
        {
         "1st Pub": "1961.0",
         "Author": "René Goscinny",
         "Awards": "nan",
         "Genres": "['Sequential Art', 'Comics', 'Sequential Art']",
         "Link": "https://www.goodreads.com/book/show/425029.Presumed_Innocent",
         "N pag": 48,
         "Rating Count": 24125,
         "Rating Value": 4.18,
         "Review Count": 574,
         "Title": "Asterix the Gaul",
         "Unnamed: 0": 984,
         "_deepnote_index_column": 984,
         "mean_norm_ratings": 1.726,
         "minmax_norm_ratings": 7.101,
         "series": 1
        },
        {
         "1st Pub": "1982.0",
         "Author": "Anne Tyler",
         "Awards": "5.0",
         "Genres": "['Fiction', 'Contemporary', 'Literary Fiction']",
         "Link": "https://www.goodreads.com/book/show/77699.Dinner_at_the_Homesick_Restaurant",
         "N pag": 303,
         "Rating Count": 25627,
         "Rating Value": 3.81,
         "Review Count": 2021,
         "Title": "Dinner at the Homesick Restaurant",
         "Unnamed: 0": 985,
         "_deepnote_index_column": 985,
         "mean_norm_ratings": -0.508,
         "minmax_norm_ratings": 4.8660000000000005,
         "series": 0
        },
        {
         "1st Pub": "1980.0",
         "Author": "Madeleine L'Engle",
         "Awards": "4.0",
         "Genres": "['Young Adult', 'Fiction', 'Fantasy']",
         "Link": "https://www.goodreads.com/book/show/14358.A_Ring_of_Endless_Light",
         "N pag": 332,
         "Rating Count": 18435,
         "Rating Value": 4.16,
         "Review Count": 788,
         "Title": "A Ring of Endless Light",
         "Unnamed: 0": 986,
         "_deepnote_index_column": 986,
         "mean_norm_ratings": 1.606,
         "minmax_norm_ratings": 6.98,
         "series": 1
        },
        {
         "1st Pub": "1930.0",
         "Author": "John Dos Passos",
         "Awards": "nan",
         "Genres": "['Fiction', 'Classics', 'Historical']",
         "Link": "https://www.goodreads.com/book/show/7101.The_42nd_Parallel",
         "N pag": 326,
         "Rating Count": 6185,
         "Rating Value": 3.82,
         "Review Count": 432,
         "Title": "The 42nd Parallel",
         "Unnamed: 0": 987,
         "_deepnote_index_column": 987,
         "mean_norm_ratings": -0.448,
         "minmax_norm_ratings": 4.926,
         "series": 1
        },
        {
         "1st Pub": "1974.0",
         "Author": "John     Nichols",
         "Awards": "1.0",
         "Genres": "['Fiction', 'Magical Realism', 'Historical']",
         "Link": "https://www.goodreads.com/book/show/39242.The_Milagro_Beanfield_War",
         "N pag": 456,
         "Rating Count": 9842,
         "Rating Value": 4.09,
         "Review Count": 457,
         "Title": "The Milagro Beanfield War",
         "Unnamed: 0": 988,
         "_deepnote_index_column": 988,
         "mean_norm_ratings": 1.183,
         "minmax_norm_ratings": 6.557,
         "series": 1
        },
        {
         "1st Pub": "1979.0",
         "Author": "Mary  Stewart",
         "Awards": "1.0",
         "Genres": "['Fantasy', 'Fiction', 'Historical']",
         "Link": "https://www.goodreads.com/book/show/89723.The_Lottery_and_Other_Stories",
         "N pag": 513,
         "Rating Count": 14426,
         "Rating Value": 4.17,
         "Review Count": 421,
         "Title": "The Last Enchantment",
         "Unnamed: 0": 989,
         "_deepnote_index_column": 989,
         "mean_norm_ratings": 1.666,
         "minmax_norm_ratings": 7.04,
         "series": 1
        },
        {
         "1st Pub": "1949.0",
         "Author": "Shirley Jackson",
         "Awards": "nan",
         "Genres": "['Short Stories', 'Fiction', 'Horror']",
         "Link": "https://www.goodreads.com/book/show/64105.The_Last_Enchantment",
         "N pag": 302,
         "Rating Count": 64729,
         "Rating Value": 4.06,
         "Review Count": 2468,
         "Title": "The Lottery and Other Stories",
         "Unnamed: 0": 990,
         "_deepnote_index_column": 990,
         "mean_norm_ratings": 1.002,
         "minmax_norm_ratings": 6.376,
         "series": 0
        },
        {
         "1st Pub": "1961.0",
         "Author": "Ernest Hemingway",
         "Awards": "nan",
         "Genres": "['Fiction', 'Short Stories', 'Classics']",
         "Link": "https://www.goodreads.com/book/show/244261.The_Street_of_Crocodiles",
         "N pag": 144,
         "Rating Count": 33823,
         "Rating Value": 3.87,
         "Review Count": 1453,
         "Title": "The Snows of Kilimanjaro and Other Stories",
         "Unnamed: 0": 991,
         "_deepnote_index_column": 991,
         "mean_norm_ratings": -0.146,
         "minmax_norm_ratings": 5.228,
         "series": 0
        },
        {
         "1st Pub": "1933.0",
         "Author": "Bruno Schulz",
         "Awards": "2.0",
         "Genres": "['Fiction', 'Short Stories', 'European Literature']",
         "Link": "https://www.goodreads.com/book/show/4645.The_Snows_of_Kilimanjaro_and_Other_Stories",
         "N pag": 160,
         "Rating Count": 7034,
         "Rating Value": 4.13,
         "Review Count": 599,
         "Title": "The Street of Crocodiles",
         "Unnamed: 0": 992,
         "_deepnote_index_column": 992,
         "mean_norm_ratings": 1.4240000000000002,
         "minmax_norm_ratings": 6.799,
         "series": 0
        },
        {
         "1st Pub": "1980.0",
         "Author": "Russell Hoban",
         "Awards": "3.0",
         "Genres": "['Fiction', 'Science Fiction', 'Apocalyptic']",
         "Link": "https://www.goodreads.com/book/show/428.Play_It_As_It_Lays",
         "N pag": 256,
         "Rating Count": 7075,
         "Rating Value": 4.02,
         "Review Count": 819,
         "Title": "Riddley Walker",
         "Unnamed: 0": 993,
         "_deepnote_index_column": 993,
         "mean_norm_ratings": 0.76,
         "minmax_norm_ratings": 6.134,
         "series": 0
        },
        {
         "1st Pub": "1970.0",
         "Author": "Joan Didion",
         "Awards": "nan",
         "Genres": "['Fiction', 'Classics', 'Novels']",
         "Link": "https://www.goodreads.com/book/show/776573.Riddley_Walker",
         "N pag": 231,
         "Rating Count": 29879,
         "Rating Value": 3.88,
         "Review Count": 2278,
         "Title": "Play It As It Lays",
         "Unnamed: 0": 994,
         "_deepnote_index_column": 994,
         "mean_norm_ratings": -0.086,
         "minmax_norm_ratings": 5.289,
         "series": 0
        },
        {
         "1st Pub": "1954.0",
         "Author": "Max Frisch",
         "Awards": "nan",
         "Genres": "['Fiction', 'European Literature', 'German Literature']",
         "Link": "https://www.goodreads.com/book/show/265102.I_m_Not_Stiller",
         "N pag": 377,
         "Rating Count": 3985,
         "Rating Value": 4.06,
         "Review Count": 187,
         "Title": "I'm Not Stiller",
         "Unnamed: 0": 995,
         "_deepnote_index_column": 995,
         "mean_norm_ratings": 1.002,
         "minmax_norm_ratings": 6.376,
         "series": 0
        }
       ],
       "rows_top": [
        {
         "1st Pub": 1960,
         "Author": "Harper Lee",
         "Awards": "4.0",
         "Genres": "['Classics', 'Fiction', 'Historical']",
         "Link": "https://www.goodreads.com/book/show/2657.To_Kill_a_Mockingbird",
         "N pag": 324,
         "Rating Count": 4629082,
         "Rating Value": 4.28,
         "Review Count": 92962,
         "Title": "To Kill a Mockingbird",
         "Unnamed: 0": 0,
         "_deepnote_index_column": 0,
         "mean_norm_ratings": 2.33,
         "minmax_norm_ratings": 7.705,
         "series": 1
        },
        {
         "1st Pub": 1949,
         "Author": "George Orwell",
         "Awards": "2.0",
         "Genres": "['Classics', 'Fiction', 'Science Fiction']",
         "Link": "https://www.goodreads.com/book/show/40961427-1984",
         "N pag": 237,
         "Rating Count": 3250211,
         "Rating Value": 4.19,
         "Review Count": 72375,
         "Title": "1984",
         "Unnamed: 0": 1,
         "_deepnote_index_column": 1,
         "mean_norm_ratings": 1.787,
         "minmax_norm_ratings": 7.1610000000000005,
         "series": 0
        },
        {
         "1st Pub": 1925,
         "Author": "F. Scott Fitzgerald",
         "Awards": "1.0",
         "Genres": "['Classics', 'Fiction', 'Academic']",
         "Link": "https://www.goodreads.com/book/show/3.Harry_Potter_and_the_Sorcerer_s_Stone",
         "N pag": 200,
         "Rating Count": 3877685,
         "Rating Value": 3.93,
         "Review Count": 68965,
         "Title": "The Great Gatsby",
         "Unnamed: 0": 2,
         "_deepnote_index_column": 2,
         "mean_norm_ratings": 0.21600000000000005,
         "minmax_norm_ratings": 5.591,
         "series": 0
        },
        {
         "1st Pub": 1997,
         "Author": "J.K. Rowling",
         "Awards": "28.0",
         "Genres": "['Fantasy', 'Fiction', 'Young Adult']",
         "Link": "https://www.goodreads.com/book/show/4671.The_Great_Gatsby",
         "N pag": 309,
         "Rating Count": 7281482,
         "Rating Value": 4.48,
         "Review Count": 115354,
         "Title": "Harry Potter and the Sorcerer's Stone",
         "Unnamed: 0": 3,
         "_deepnote_index_column": 3,
         "mean_norm_ratings": 3.5380000000000003,
         "minmax_norm_ratings": 8.913,
         "series": 1
        },
        {
         "1st Pub": 1937,
         "Author": "J.R.R. Tolkien",
         "Awards": "3.0",
         "Genres": "['Fantasy', 'Classics', 'Fiction']",
         "Link": "https://www.goodreads.com/book/show/170448.Animal_Farm",
         "N pag": 366,
         "Rating Count": 2973224,
         "Rating Value": 4.28,
         "Review Count": 49547,
         "Title": "The Hobbit, or There and Back Again",
         "Unnamed: 0": 4,
         "_deepnote_index_column": 4,
         "mean_norm_ratings": 2.33,
         "minmax_norm_ratings": 7.705,
         "series": 1
        },
        {
         "1st Pub": 1945,
         "Author": "George Orwell",
         "Awards": "2.0",
         "Genres": "['Classics', 'Fiction', 'Science Fiction']",
         "Link": "https://www.goodreads.com/book/show/5907.The_Hobbit_or_There_and_Back_Again",
         "N pag": 141,
         "Rating Count": 2823982,
         "Rating Value": 3.95,
         "Review Count": 57987,
         "Title": "Animal Farm",
         "Unnamed: 0": 5,
         "_deepnote_index_column": 5,
         "mean_norm_ratings": 0.337,
         "minmax_norm_ratings": 5.711,
         "series": 0
        },
        {
         "1st Pub": 1947,
         "Author": "Anne Frank",
         "Awards": "1.0",
         "Genres": "['Nonfiction', 'Classics', 'History']",
         "Link": "https://www.goodreads.com/book/show/48855.The_Diary_of_a_Young_Girl",
         "N pag": 283,
         "Rating Count": 2831501,
         "Rating Value": 4.16,
         "Review Count": 29790,
         "Title": "The Diary of a Young Girl",
         "Unnamed: 0": 6,
         "_deepnote_index_column": 6,
         "mean_norm_ratings": 1.606,
         "minmax_norm_ratings": 6.98,
         "series": 0
        },
        {
         "1st Pub": 1943,
         "Author": "Antoine de Saint-Exupéry",
         "Awards": "1.0",
         "Genres": "['Classics', 'Fiction', 'Fantasy']",
         "Link": "https://www.goodreads.com/book/show/157993.The_Little_Prince",
         "N pag": 93,
         "Rating Count": 1422617,
         "Rating Value": 4.31,
         "Review Count": 41265,
         "Title": "The Little Prince",
         "Unnamed: 0": 7,
         "_deepnote_index_column": 7,
         "mean_norm_ratings": 2.512,
         "minmax_norm_ratings": 7.886,
         "series": 0
        },
        {
         "1st Pub": 1953,
         "Author": "Ray Bradbury",
         "Awards": "4.0",
         "Genres": "['Classics', 'Fiction', 'Science Fiction']",
         "Link": "https://www.goodreads.com/book/show/13079982-fahrenheit-451",
         "N pag": 194,
         "Rating Count": 1732649,
         "Rating Value": 3.99,
         "Review Count": 49376,
         "Title": "Fahrenheit 451",
         "Unnamed: 0": 8,
         "_deepnote_index_column": 8,
         "mean_norm_ratings": 0.579,
         "minmax_norm_ratings": 5.9529999999999985,
         "series": 0
        },
        {
         "1st Pub": 1951,
         "Author": "J.D. Salinger",
         "Awards": "2.0",
         "Genres": "['Classics', 'Fiction', 'Young Adult']",
         "Link": "https://www.goodreads.com/book/show/5107.The_Catcher_in_the_Rye",
         "N pag": 277,
         "Rating Count": 2799212,
         "Rating Value": 3.81,
         "Review Count": 58697,
         "Title": "The Catcher in the Rye",
         "Unnamed: 0": 9,
         "_deepnote_index_column": 9,
         "mean_norm_ratings": -0.508,
         "minmax_norm_ratings": 4.8660000000000005,
         "series": 0
        },
        {
         "1st Pub": 1950,
         "Author": "C.S. Lewis",
         "Awards": "3.0",
         "Genres": "['Fantasy', 'Classics', 'Fiction']",
         "Link": "https://www.goodreads.com/book/show/100915.The_Lion_the_Witch_and_the_Wardrobe",
         "N pag": 206,
         "Rating Count": 2185822,
         "Rating Value": 4.22,
         "Review Count": 22571,
         "Title": "The Lion, the Witch and the Wardrobe",
         "Unnamed: 0": 10,
         "_deepnote_index_column": 10,
         "mean_norm_ratings": 1.968,
         "minmax_norm_ratings": 7.342,
         "series": 1
        },
        {
         "1st Pub": 1939,
         "Author": "John Steinbeck",
         "Awards": "4.0",
         "Genres": "['Classics', 'Fiction', 'Historical']",
         "Link": "https://www.goodreads.com/book/show/18114322-the-grapes-of-wrath",
         "N pag": 479,
         "Rating Count": 764265,
         "Rating Value": 3.97,
         "Review Count": 17597,
         "Title": "The Grapes of Wrath",
         "Unnamed: 0": 11,
         "_deepnote_index_column": 11,
         "mean_norm_ratings": 0.458,
         "minmax_norm_ratings": 5.832000000000002,
         "series": 0
        },
        {
         "1st Pub": 1967,
         "Author": "Gabriel García Márquez",
         "Awards": "2.0",
         "Genres": "['Fiction', 'Classics', 'Magical Realism']",
         "Link": "https://www.goodreads.com/book/show/320.One_Hundred_Years_of_Solitude",
         "N pag": 417,
         "Rating Count": 770353,
         "Rating Value": 4.08,
         "Review Count": 31449,
         "Title": "One Hundred Years of Solitude",
         "Unnamed: 0": 12,
         "_deepnote_index_column": 12,
         "mean_norm_ratings": 1.122,
         "minmax_norm_ratings": 6.497000000000001,
         "series": 0
        },
        {
         "1st Pub": 1932,
         "Author": "Aldous Huxley",
         "Awards": "nan",
         "Genres": "['Classics', 'Fiction', 'Science Fiction']",
         "Link": "https://www.goodreads.com/book/show/5129.Brave_New_World",
         "N pag": 288,
         "Rating Count": 1475247,
         "Rating Value": 3.99,
         "Review Count": 31466,
         "Title": "Brave New World",
         "Unnamed: 0": 13,
         "_deepnote_index_column": 13,
         "mean_norm_ratings": 0.579,
         "minmax_norm_ratings": 5.9529999999999985,
         "series": 0
        },
        {
         "1st Pub": 1937,
         "Author": "John Steinbeck",
         "Awards": "1.0",
         "Genres": "['Classics', 'Fiction', 'Academic']",
         "Link": "https://www.goodreads.com/book/show/18405.Gone_with_the_Wind",
         "N pag": 103,
         "Rating Count": 1985058,
         "Rating Value": 3.88,
         "Review Count": 35159,
         "Title": "Of Mice and Men",
         "Unnamed: 0": 14,
         "_deepnote_index_column": 14,
         "mean_norm_ratings": -0.086,
         "minmax_norm_ratings": 5.289,
         "series": 0
        },
        {
         "1st Pub": 1936,
         "Author": "Margaret Mitchell",
         "Awards": "2.0",
         "Genres": "['Classics', 'Historical', 'Historical Fiction']",
         "Link": "https://www.goodreads.com/book/show/890.Of_Mice_and_Men",
         "N pag": 1037,
         "Rating Count": 1089571,
         "Rating Value": 4.3,
         "Review Count": 20079,
         "Title": "Gone with the Wind",
         "Unnamed: 0": 15,
         "_deepnote_index_column": 15,
         "mean_norm_ratings": 2.451,
         "minmax_norm_ratings": 7.826,
         "series": 0
        },
        {
         "1st Pub": 1993,
         "Author": "Lois Lowry",
         "Awards": "22.0",
         "Genres": "['Young Adult', 'Fiction', 'Classics']",
         "Link": "https://www.goodreads.com/book/show/5.Harry_Potter_and_the_Prisoner_of_Azkaban",
         "N pag": 208,
         "Rating Count": 1836871,
         "Rating Value": 4.13,
         "Review Count": 66015,
         "Title": "The Giver",
         "Unnamed: 0": 16,
         "_deepnote_index_column": 16,
         "mean_norm_ratings": 1.4240000000000002,
         "minmax_norm_ratings": 6.799,
         "series": 1
        },
        {
         "1st Pub": 1999,
         "Author": "J.K. Rowling",
         "Awards": "13.0",
         "Genres": "['Fantasy', 'Young Adult', 'Fiction']",
         "Link": "https://www.goodreads.com/book/show/3636.The_Giver",
         "N pag": 435,
         "Rating Count": 2903473,
         "Rating Value": 4.57,
         "Review Count": 57160,
         "Title": "Harry Potter and the Prisoner of Azkaban",
         "Unnamed: 0": 17,
         "_deepnote_index_column": 17,
         "mean_norm_ratings": 4.082,
         "minmax_norm_ratings": 9.456,
         "series": 1
        },
        {
         "1st Pub": 1954,
         "Author": "William Golding",
         "Awards": "nan",
         "Genres": "['Classics', 'Fiction', 'Young Adult']",
         "Link": "https://www.goodreads.com/book/show/7624.Lord_of_the_Flies",
         "N pag": 182,
         "Rating Count": 2313858,
         "Rating Value": 3.69,
         "Review Count": 38480,
         "Title": "Lord of the Flies",
         "Unnamed: 0": 18,
         "_deepnote_index_column": 18,
         "mean_norm_ratings": -1.233,
         "minmax_norm_ratings": 4.141,
         "series": 0
        },
        {
         "1st Pub": 1969,
         "Author": "Kurt Vonnegut Jr.",
         "Awards": "4.0",
         "Genres": "['Classics', 'Fiction', 'Science Fiction']",
         "Link": "https://www.goodreads.com/book/show/4981.Slaughterhouse_Five",
         "N pag": 275,
         "Rating Count": 1150861,
         "Rating Value": 4.08,
         "Review Count": 27540,
         "Title": "Slaughterhouse-Five",
         "Unnamed: 0": 19,
         "_deepnote_index_column": 19,
         "mean_norm_ratings": 1.122,
         "minmax_norm_ratings": 6.497000000000001,
         "series": 0
        },
        {
         "1st Pub": 1952,
         "Author": "John Steinbeck",
         "Awards": "2.0",
         "Genres": "['Classics', 'Fiction', 'Historical']",
         "Link": "https://www.goodreads.com/book/show/7604.Lolita",
         "N pag": 601,
         "Rating Count": 436615,
         "Rating Value": 4.38,
         "Review Count": 19952,
         "Title": "East of Eden",
         "Unnamed: 0": 20,
         "_deepnote_index_column": 20,
         "mean_norm_ratings": 2.934,
         "minmax_norm_ratings": 8.309,
         "series": 0
        },
        {
         "1st Pub": 1955,
         "Author": "Vladimir Nabokov",
         "Awards": "1.0",
         "Genres": "['Classics', 'Fiction', 'Literature']",
         "Link": "https://www.goodreads.com/book/show/4406.East_of_Eden",
         "N pag": 331,
         "Rating Count": 675740,
         "Rating Value": 3.89,
         "Review Count": 25288,
         "Title": "Lolita",
         "Unnamed: 0": 21,
         "_deepnote_index_column": 21,
         "mean_norm_ratings": -0.025,
         "minmax_norm_ratings": 5.349,
         "series": 0
        },
        {
         "1st Pub": 1985,
         "Author": "Margaret Atwood",
         "Awards": "13.0",
         "Genres": "['Fiction', 'Classics', 'Science Fiction']",
         "Link": "https://www.goodreads.com/book/show/38447.The_Handmaid_s_Tale",
         "N pag": 314,
         "Rating Count": 1509097,
         "Rating Value": 4.11,
         "Review Count": 72336,
         "Title": "The Handmaid's Tale",
         "Unnamed: 0": 22,
         "_deepnote_index_column": 22,
         "mean_norm_ratings": 1.304,
         "minmax_norm_ratings": 6.678,
         "series": 1
        },
        {
         "1st Pub": 1962,
         "Author": "Ken Kesey",
         "Awards": "nan",
         "Genres": "['Classics', 'Fiction', 'Literature']",
         "Link": "https://www.goodreads.com/book/show/332613.One_Flew_Over_the_Cuckoo_s_Nest",
         "N pag": 325,
         "Rating Count": 641349,
         "Rating Value": 4.19,
         "Review Count": 11366,
         "Title": "One Flew Over the Cuckoo's Nest",
         "Unnamed: 0": 23,
         "_deepnote_index_column": 23,
         "mean_norm_ratings": 1.787,
         "minmax_norm_ratings": 7.1610000000000005,
         "series": 0
        },
        {
         "1st Pub": 1996,
         "Author": "Douglas Adams",
         "Awards": "nan",
         "Genres": "['Science Fiction', 'Fiction', 'Humor']",
         "Link": "https://www.goodreads.com/book/show/34.The_Fellowship_of_the_Ring",
         "N pag": 815,
         "Rating Count": 292145,
         "Rating Value": 4.36,
         "Review Count": 5394,
         "Title": "The Ultimate Hitchhiker's Guide to the Galaxy",
         "Unnamed: 0": 24,
         "_deepnote_index_column": 24,
         "mean_norm_ratings": 2.814,
         "minmax_norm_ratings": 8.187999999999999,
         "series": 1
        },
        {
         "1st Pub": 1954,
         "Author": "J.R.R. Tolkien",
         "Awards": "1.0",
         "Genres": "['Fantasy', 'Classics', 'Fiction']",
         "Link": "https://www.goodreads.com/book/show/13.The_Ultimate_Hitchhiker_s_Guide_to_the_Galaxy",
         "N pag": 398,
         "Rating Count": 2400261,
         "Rating Value": 4.36,
         "Review Count": 23530,
         "Title": "The Fellowship of the Ring",
         "Unnamed: 0": 25,
         "_deepnote_index_column": 25,
         "mean_norm_ratings": 2.814,
         "minmax_norm_ratings": 8.187999999999999,
         "series": 1
        },
        {
         "1st Pub": 1997,
         "Author": "Arthur Golden",
         "Awards": "nan",
         "Genres": "['Fiction', 'Historical', 'Historical Fiction']",
         "Link": "https://www.goodreads.com/book/show/929.Memoirs_of_a_Geisha",
         "N pag": 503,
         "Rating Count": 1744415,
         "Rating Value": 4.12,
         "Review Count": 30447,
         "Title": "Memoirs of a Geisha",
         "Unnamed: 0": 26,
         "_deepnote_index_column": 26,
         "mean_norm_ratings": 1.364,
         "minmax_norm_ratings": 6.738,
         "series": 0
        },
        {
         "1st Pub": 1942,
         "Author": "Albert Camus",
         "Awards": "1.0",
         "Genres": "['Classics', 'Fiction', 'Philosophy']",
         "Link": "https://www.goodreads.com/book/show/49552.The_Stranger",
         "N pag": 123,
         "Rating Count": 729878,
         "Rating Value": 3.99,
         "Review Count": 24104,
         "Title": "The Stranger",
         "Unnamed: 0": 27,
         "_deepnote_index_column": 27,
         "mean_norm_ratings": 0.579,
         "minmax_norm_ratings": 5.9529999999999985,
         "series": 0
        },
        {
         "1st Pub": 1998,
         "Author": "J.K. Rowling",
         "Awards": "7.0",
         "Genres": "['Fantasy', 'Young Adult', 'Fiction']",
         "Link": "https://www.goodreads.com/book/show/15881.Harry_Potter_and_the_Chamber_of_Secrets",
         "N pag": 341,
         "Rating Count": 2816514,
         "Rating Value": 4.43,
         "Review Count": 54443,
         "Title": "Harry Potter and the Chamber of Secrets",
         "Unnamed: 0": 28,
         "_deepnote_index_column": 28,
         "mean_norm_ratings": 3.236,
         "minmax_norm_ratings": 8.611,
         "series": 1
        },
        {
         "1st Pub": 1952,
         "Author": "E.B. White",
         "Awards": "5.0",
         "Genres": "['Classics', 'Childrens', 'Fiction']",
         "Link": "https://www.goodreads.com/book/show/24178.Charlotte_s_Web",
         "N pag": 184,
         "Rating Count": 1454356,
         "Rating Value": 4.18,
         "Review Count": 18507,
         "Title": "Charlotte's Web",
         "Unnamed: 0": 29,
         "_deepnote_index_column": 29,
         "mean_norm_ratings": 1.726,
         "minmax_norm_ratings": 7.101,
         "series": 0
        },
        {
         "1st Pub": 1956,
         "Author": "C.S. Lewis",
         "Awards": "nan",
         "Genres": "['Fantasy', 'Classics', 'Fiction']",
         "Link": "https://www.goodreads.com/book/show/11127.The_Chronicles_of_Narnia",
         "N pag": 767,
         "Rating Count": 532900,
         "Rating Value": 4.26,
         "Review Count": 10525,
         "Title": "The Chronicles of Narnia",
         "Unnamed: 0": 30,
         "_deepnote_index_column": 30,
         "mean_norm_ratings": 2.21,
         "minmax_norm_ratings": 7.584,
         "series": 1
        },
        {
         "1st Pub": 1962,
         "Author": "Madeleine L'Engle",
         "Awards": "4.0",
         "Genres": "['Fantasy', 'Fiction', 'Classics']",
         "Link": "https://www.goodreads.com/book/show/33574273-a-wrinkle-in-time",
         "N pag": 218,
         "Rating Count": 1068151,
         "Rating Value": 3.99,
         "Review Count": 34278,
         "Title": "A Wrinkle in Time",
         "Unnamed: 0": 31,
         "_deepnote_index_column": 31,
         "mean_norm_ratings": 0.579,
         "minmax_norm_ratings": 5.9529999999999985,
         "series": 1
        },
        {
         "1st Pub": 1985,
         "Author": "Orson Scott Card",
         "Awards": "5.0",
         "Genres": "['Science Fiction', 'Fiction', 'Young Adult']",
         "Link": "https://www.goodreads.com/book/show/2165.The_Old_Man_and_the_Sea",
         "N pag": 352,
         "Rating Count": 1157000,
         "Rating Value": 4.3,
         "Review Count": 43666,
         "Title": "Ender's Game",
         "Unnamed: 0": 32,
         "_deepnote_index_column": 32,
         "mean_norm_ratings": 2.451,
         "minmax_norm_ratings": 7.826,
         "series": 1
        },
        {
         "1st Pub": 1952,
         "Author": "Ernest Hemingway",
         "Awards": "3.0",
         "Genres": "['Classics', 'Fiction', 'Literature']",
         "Link": "https://www.goodreads.com/book/show/375802.Ender_s_Game",
         "N pag": 96,
         "Rating Count": 855093,
         "Rating Value": 3.79,
         "Review Count": 25967,
         "Title": "The Old Man and the Sea",
         "Unnamed: 0": 33,
         "_deepnote_index_column": 33,
         "mean_norm_ratings": -0.629,
         "minmax_norm_ratings": 4.745,
         "series": 0
        },
        {
         "1st Pub": 1964,
         "Author": "Shel Silverstein",
         "Awards": "nan",
         "Genres": "['Childrens', 'Childrens', 'Picture Books']",
         "Link": "https://www.goodreads.com/book/show/370493.The_Giving_Tree",
         "N pag": 64,
         "Rating Count": 927076,
         "Rating Value": 4.37,
         "Review Count": 18179,
         "Title": "The Giving Tree",
         "Unnamed: 0": 34,
         "_deepnote_index_column": 34,
         "mean_norm_ratings": 2.874,
         "minmax_norm_ratings": 8.248,
         "series": 0
        }
       ]
      },
      "text/html": [
       "<div>\n",
       "<style scoped>\n",
       "    .dataframe tbody tr th:only-of-type {\n",
       "        vertical-align: middle;\n",
       "    }\n",
       "\n",
       "    .dataframe tbody tr th {\n",
       "        vertical-align: top;\n",
       "    }\n",
       "\n",
       "    .dataframe thead th {\n",
       "        text-align: right;\n",
       "    }\n",
       "</style>\n",
       "<table border=\"1\" class=\"dataframe\">\n",
       "  <thead>\n",
       "    <tr style=\"text-align: right;\">\n",
       "      <th></th>\n",
       "      <th>Unnamed: 0</th>\n",
       "      <th>Title</th>\n",
       "      <th>Author</th>\n",
       "      <th>Rating Count</th>\n",
       "      <th>Review Count</th>\n",
       "      <th>Rating Value</th>\n",
       "      <th>N pag</th>\n",
       "      <th>1st Pub</th>\n",
       "      <th>series</th>\n",
       "      <th>Genres</th>\n",
       "      <th>Awards</th>\n",
       "      <th>minmax_norm_ratings</th>\n",
       "      <th>mean_norm_ratings</th>\n",
       "      <th>Link</th>\n",
       "    </tr>\n",
       "  </thead>\n",
       "  <tbody>\n",
       "    <tr>\n",
       "      <th>0</th>\n",
       "      <td>0</td>\n",
       "      <td>To Kill a Mockingbird</td>\n",
       "      <td>Harper Lee</td>\n",
       "      <td>4629082</td>\n",
       "      <td>92962</td>\n",
       "      <td>4.28</td>\n",
       "      <td>324.0</td>\n",
       "      <td>1960.0</td>\n",
       "      <td>1</td>\n",
       "      <td>['Classics', 'Fiction', 'Historical']</td>\n",
       "      <td>4.0</td>\n",
       "      <td>7.705</td>\n",
       "      <td>2.330</td>\n",
       "      <td>https://www.goodreads.com/book/show/2657.To_Ki...</td>\n",
       "    </tr>\n",
       "    <tr>\n",
       "      <th>1</th>\n",
       "      <td>1</td>\n",
       "      <td>1984</td>\n",
       "      <td>George Orwell</td>\n",
       "      <td>3250211</td>\n",
       "      <td>72375</td>\n",
       "      <td>4.19</td>\n",
       "      <td>237.0</td>\n",
       "      <td>1949.0</td>\n",
       "      <td>0</td>\n",
       "      <td>['Classics', 'Fiction', 'Science Fiction']</td>\n",
       "      <td>2.0</td>\n",
       "      <td>7.161</td>\n",
       "      <td>1.787</td>\n",
       "      <td>https://www.goodreads.com/book/show/40961427-1984</td>\n",
       "    </tr>\n",
       "    <tr>\n",
       "      <th>2</th>\n",
       "      <td>2</td>\n",
       "      <td>The Great Gatsby</td>\n",
       "      <td>F. Scott Fitzgerald</td>\n",
       "      <td>3877685</td>\n",
       "      <td>68965</td>\n",
       "      <td>3.93</td>\n",
       "      <td>200.0</td>\n",
       "      <td>1925.0</td>\n",
       "      <td>0</td>\n",
       "      <td>['Classics', 'Fiction', 'Academic']</td>\n",
       "      <td>1.0</td>\n",
       "      <td>5.591</td>\n",
       "      <td>0.216</td>\n",
       "      <td>https://www.goodreads.com/book/show/3.Harry_Po...</td>\n",
       "    </tr>\n",
       "    <tr>\n",
       "      <th>3</th>\n",
       "      <td>3</td>\n",
       "      <td>Harry Potter and the Sorcerer's Stone</td>\n",
       "      <td>J.K. Rowling</td>\n",
       "      <td>7281482</td>\n",
       "      <td>115354</td>\n",
       "      <td>4.48</td>\n",
       "      <td>309.0</td>\n",
       "      <td>1997.0</td>\n",
       "      <td>1</td>\n",
       "      <td>['Fantasy', 'Fiction', 'Young Adult']</td>\n",
       "      <td>28.0</td>\n",
       "      <td>8.913</td>\n",
       "      <td>3.538</td>\n",
       "      <td>https://www.goodreads.com/book/show/4671.The_G...</td>\n",
       "    </tr>\n",
       "    <tr>\n",
       "      <th>4</th>\n",
       "      <td>4</td>\n",
       "      <td>The Hobbit, or There and Back Again</td>\n",
       "      <td>J.R.R. Tolkien</td>\n",
       "      <td>2973224</td>\n",
       "      <td>49547</td>\n",
       "      <td>4.28</td>\n",
       "      <td>366.0</td>\n",
       "      <td>1937.0</td>\n",
       "      <td>1</td>\n",
       "      <td>['Fantasy', 'Classics', 'Fiction']</td>\n",
       "      <td>3.0</td>\n",
       "      <td>7.705</td>\n",
       "      <td>2.330</td>\n",
       "      <td>https://www.goodreads.com/book/show/170448.Ani...</td>\n",
       "    </tr>\n",
       "    <tr>\n",
       "      <th>...</th>\n",
       "      <td>...</td>\n",
       "      <td>...</td>\n",
       "      <td>...</td>\n",
       "      <td>...</td>\n",
       "      <td>...</td>\n",
       "      <td>...</td>\n",
       "      <td>...</td>\n",
       "      <td>...</td>\n",
       "      <td>...</td>\n",
       "      <td>...</td>\n",
       "      <td>...</td>\n",
       "      <td>...</td>\n",
       "      <td>...</td>\n",
       "      <td>...</td>\n",
       "    </tr>\n",
       "    <tr>\n",
       "      <th>991</th>\n",
       "      <td>991</td>\n",
       "      <td>The Snows of Kilimanjaro and Other Stories</td>\n",
       "      <td>Ernest Hemingway</td>\n",
       "      <td>33823</td>\n",
       "      <td>1453</td>\n",
       "      <td>3.87</td>\n",
       "      <td>144.0</td>\n",
       "      <td>1961.0</td>\n",
       "      <td>0</td>\n",
       "      <td>['Fiction', 'Short Stories', 'Classics']</td>\n",
       "      <td>NaN</td>\n",
       "      <td>5.228</td>\n",
       "      <td>-0.146</td>\n",
       "      <td>https://www.goodreads.com/book/show/244261.The...</td>\n",
       "    </tr>\n",
       "    <tr>\n",
       "      <th>992</th>\n",
       "      <td>992</td>\n",
       "      <td>The Street of Crocodiles</td>\n",
       "      <td>Bruno Schulz</td>\n",
       "      <td>7034</td>\n",
       "      <td>599</td>\n",
       "      <td>4.13</td>\n",
       "      <td>160.0</td>\n",
       "      <td>1933.0</td>\n",
       "      <td>0</td>\n",
       "      <td>['Fiction', 'Short Stories', 'European Literat...</td>\n",
       "      <td>2.0</td>\n",
       "      <td>6.799</td>\n",
       "      <td>1.424</td>\n",
       "      <td>https://www.goodreads.com/book/show/4645.The_S...</td>\n",
       "    </tr>\n",
       "    <tr>\n",
       "      <th>993</th>\n",
       "      <td>993</td>\n",
       "      <td>Riddley Walker</td>\n",
       "      <td>Russell Hoban</td>\n",
       "      <td>7075</td>\n",
       "      <td>819</td>\n",
       "      <td>4.02</td>\n",
       "      <td>256.0</td>\n",
       "      <td>1980.0</td>\n",
       "      <td>0</td>\n",
       "      <td>['Fiction', 'Science Fiction', 'Apocalyptic']</td>\n",
       "      <td>3.0</td>\n",
       "      <td>6.134</td>\n",
       "      <td>0.760</td>\n",
       "      <td>https://www.goodreads.com/book/show/428.Play_I...</td>\n",
       "    </tr>\n",
       "    <tr>\n",
       "      <th>994</th>\n",
       "      <td>994</td>\n",
       "      <td>Play It As It Lays</td>\n",
       "      <td>Joan Didion</td>\n",
       "      <td>29879</td>\n",
       "      <td>2278</td>\n",
       "      <td>3.88</td>\n",
       "      <td>231.0</td>\n",
       "      <td>1970.0</td>\n",
       "      <td>0</td>\n",
       "      <td>['Fiction', 'Classics', 'Novels']</td>\n",
       "      <td>NaN</td>\n",
       "      <td>5.289</td>\n",
       "      <td>-0.086</td>\n",
       "      <td>https://www.goodreads.com/book/show/776573.Rid...</td>\n",
       "    </tr>\n",
       "    <tr>\n",
       "      <th>995</th>\n",
       "      <td>995</td>\n",
       "      <td>I'm Not Stiller</td>\n",
       "      <td>Max Frisch</td>\n",
       "      <td>3985</td>\n",
       "      <td>187</td>\n",
       "      <td>4.06</td>\n",
       "      <td>377.0</td>\n",
       "      <td>1954.0</td>\n",
       "      <td>0</td>\n",
       "      <td>['Fiction', 'European Literature', 'German Lit...</td>\n",
       "      <td>NaN</td>\n",
       "      <td>6.376</td>\n",
       "      <td>1.002</td>\n",
       "      <td>https://www.goodreads.com/book/show/265102.I_m...</td>\n",
       "    </tr>\n",
       "  </tbody>\n",
       "</table>\n",
       "<p>996 rows × 14 columns</p>\n",
       "</div>"
      ],
      "text/plain": [
       "     Unnamed: 0                                       Title  \\\n",
       "0             0                       To Kill a Mockingbird   \n",
       "1             1                                        1984   \n",
       "2             2                            The Great Gatsby   \n",
       "3             3       Harry Potter and the Sorcerer's Stone   \n",
       "4             4         The Hobbit, or There and Back Again   \n",
       "..          ...                                         ...   \n",
       "991         991  The Snows of Kilimanjaro and Other Stories   \n",
       "992         992                    The Street of Crocodiles   \n",
       "993         993                              Riddley Walker   \n",
       "994         994                          Play It As It Lays   \n",
       "995         995                             I'm Not Stiller   \n",
       "\n",
       "                  Author  Rating Count  Review Count  Rating Value  N pag  \\\n",
       "0             Harper Lee       4629082         92962          4.28  324.0   \n",
       "1          George Orwell       3250211         72375          4.19  237.0   \n",
       "2    F. Scott Fitzgerald       3877685         68965          3.93  200.0   \n",
       "3           J.K. Rowling       7281482        115354          4.48  309.0   \n",
       "4         J.R.R. Tolkien       2973224         49547          4.28  366.0   \n",
       "..                   ...           ...           ...           ...    ...   \n",
       "991     Ernest Hemingway         33823          1453          3.87  144.0   \n",
       "992         Bruno Schulz          7034           599          4.13  160.0   \n",
       "993        Russell Hoban          7075           819          4.02  256.0   \n",
       "994          Joan Didion         29879          2278          3.88  231.0   \n",
       "995           Max Frisch          3985           187          4.06  377.0   \n",
       "\n",
       "     1st Pub  series                                             Genres  \\\n",
       "0     1960.0       1              ['Classics', 'Fiction', 'Historical']   \n",
       "1     1949.0       0         ['Classics', 'Fiction', 'Science Fiction']   \n",
       "2     1925.0       0                ['Classics', 'Fiction', 'Academic']   \n",
       "3     1997.0       1              ['Fantasy', 'Fiction', 'Young Adult']   \n",
       "4     1937.0       1                 ['Fantasy', 'Classics', 'Fiction']   \n",
       "..       ...     ...                                                ...   \n",
       "991   1961.0       0           ['Fiction', 'Short Stories', 'Classics']   \n",
       "992   1933.0       0  ['Fiction', 'Short Stories', 'European Literat...   \n",
       "993   1980.0       0      ['Fiction', 'Science Fiction', 'Apocalyptic']   \n",
       "994   1970.0       0                  ['Fiction', 'Classics', 'Novels']   \n",
       "995   1954.0       0  ['Fiction', 'European Literature', 'German Lit...   \n",
       "\n",
       "     Awards  minmax_norm_ratings  mean_norm_ratings  \\\n",
       "0       4.0                7.705              2.330   \n",
       "1       2.0                7.161              1.787   \n",
       "2       1.0                5.591              0.216   \n",
       "3      28.0                8.913              3.538   \n",
       "4       3.0                7.705              2.330   \n",
       "..      ...                  ...                ...   \n",
       "991     NaN                5.228             -0.146   \n",
       "992     2.0                6.799              1.424   \n",
       "993     3.0                6.134              0.760   \n",
       "994     NaN                5.289             -0.086   \n",
       "995     NaN                6.376              1.002   \n",
       "\n",
       "                                                  Link  \n",
       "0    https://www.goodreads.com/book/show/2657.To_Ki...  \n",
       "1    https://www.goodreads.com/book/show/40961427-1984  \n",
       "2    https://www.goodreads.com/book/show/3.Harry_Po...  \n",
       "3    https://www.goodreads.com/book/show/4671.The_G...  \n",
       "4    https://www.goodreads.com/book/show/170448.Ani...  \n",
       "..                                                 ...  \n",
       "991  https://www.goodreads.com/book/show/244261.The...  \n",
       "992  https://www.goodreads.com/book/show/4645.The_S...  \n",
       "993  https://www.goodreads.com/book/show/428.Play_I...  \n",
       "994  https://www.goodreads.com/book/show/776573.Rid...  \n",
       "995  https://www.goodreads.com/book/show/265102.I_m...  \n",
       "\n",
       "[996 rows x 14 columns]"
      ]
     },
     "execution_count": 164,
     "metadata": {},
     "output_type": "execute_result"
    }
   ],
   "source": [
    "import matplotlib.pyplot as plt\n",
    "import pandas as pd\n",
    "import numpy as np\n",
    "import re\n",
    "\n",
    "\n",
    "books = pd.read_csv(\"./resources/Books.csv\")\n",
    "\n",
    "books"
   ]
  },
  {
   "cell_type": "code",
   "execution_count": null,
   "metadata": {
    "cell_id": "00001-afe84adf-2a4e-4276-9f69-ac1d6cba96eb",
    "deepnote_cell_type": "code",
    "deepnote_to_be_reexecuted": false,
    "execution_millis": 0,
    "execution_start": 1610635625403,
    "source_hash": "8c621e35",
    "tags": []
   },
   "outputs": [],
   "source": [
    "\n",
    "#dgenres = books.groupby(\"Genres\").agg({\"Genres\": np.size})\n",
    "#dgenres"
   ]
  },
  {
   "cell_type": "code",
   "execution_count": null,
   "metadata": {
    "cell_id": "00002-3008c50e-2a0f-4856-83a2-8ac01c398971",
    "deepnote_cell_type": "code",
    "deepnote_to_be_reexecuted": false,
    "execution_millis": 5,
    "execution_start": 1610635631829,
    "source_hash": "1c2ca0b1",
    "tags": []
   },
   "outputs": [],
   "source": [
    "#for key,books in books.groupby(\"Genres\"):\n",
    "    #print(\" '{}' has {} books\".format(key,len(books)))\n",
    "    "
   ]
  },
  {
   "cell_type": "code",
   "execution_count": null,
   "metadata": {
    "cell_id": "00003-9a4573db-7af9-4250-b0b2-bd5016363b24",
    "deepnote_cell_type": "code",
    "deepnote_to_be_reexecuted": false,
    "execution_millis": 2,
    "execution_start": 1610635827469,
    "source_hash": "59e370e4",
    "tags": []
   },
   "outputs": [
    {
     "data": {
      "text/plain": [
       "['Classics', 'Fiction', 'Historical']"
      ]
     },
     "execution_count": 88,
     "metadata": {},
     "output_type": "execute_result"
    }
   ],
   "source": [
    "eval(genretypes[0])"
   ]
  },
  {
   "cell_type": "code",
   "execution_count": null,
   "metadata": {
    "cell_id": "00004-650b6dc1-6325-4aee-80ab-f808467ad8c1",
    "deepnote_cell_type": "code",
    "deepnote_to_be_reexecuted": false,
    "execution_millis": 10,
    "execution_start": 1610637857919,
    "source_hash": "b45da4ab",
    "tags": []
   },
   "outputs": [],
   "source": [
    "genre = books[\"Genres\"]\n",
    "\n",
    "genre\n",
    "\n",
    "genretypes = genre.values.tolist()\n",
    "\n",
    "genretypes = [eval(x) for x in genretypes]"
   ]
  },
  {
   "cell_type": "code",
   "execution_count": null,
   "metadata": {
    "cell_id": "00004-d3d71878-72fc-43be-bfac-fc84b7e3fd22",
    "deepnote_cell_type": "code",
    "deepnote_to_be_reexecuted": false,
    "execution_millis": 4,
    "execution_start": 1610637861943,
    "source_hash": "bb0175f3",
    "tags": []
   },
   "outputs": [
    {
     "name": "stdout",
     "output_type": "stream",
     "text": [
      "['Fiction', 'Science Fiction']\n"
     ]
    }
   ],
   "source": [
    "for x in genretypes:\n",
    "    if len(x)!=3:\n",
    "        print(x)"
   ]
  },
  {
   "cell_type": "code",
   "execution_count": null,
   "metadata": {
    "cell_id": "00006-c9d211fa-e1d8-4249-9377-2c2724766bb8",
    "deepnote_cell_type": "code",
    "deepnote_to_be_reexecuted": false,
    "execution_millis": 4,
    "execution_start": 1610637865325,
    "source_hash": "396cf4b9",
    "tags": []
   },
   "outputs": [
    {
     "name": "stdout",
     "output_type": "stream",
     "text": [
      "['Fiction', 'Science Fiction', 'Fantasy']\n"
     ]
    }
   ],
   "source": [
    "for x in genretypes:\n",
    "    if len(x)!=3:\n",
    "        \n",
    "        x.append('Fantasy')\n",
    "        print(x)"
   ]
  },
  {
   "cell_type": "code",
   "execution_count": null,
   "metadata": {
    "cell_id": "00005-0ed15c2f-48b3-4fb1-9012-7b4f6b1d72da",
    "deepnote_cell_type": "code",
    "deepnote_to_be_reexecuted": false,
    "execution_millis": 43,
    "execution_start": 1610637920657,
    "source_hash": "116fe869",
    "tags": []
   },
   "outputs": [
    {
     "data": {
      "text/plain": [
       "['Classics',\n",
       " 'Fiction',\n",
       " 'Historical',\n",
       " 'Classics',\n",
       " 'Fiction',\n",
       " 'ScienceFiction',\n",
       " 'Classics',\n",
       " 'Fiction',\n",
       " 'Academic',\n",
       " 'Fantasy',\n",
       " 'Fiction',\n",
       " 'YoungAdult',\n",
       " 'Fantasy',\n",
       " 'Classics',\n",
       " 'Fiction',\n",
       " 'Classics',\n",
       " 'Fiction',\n",
       " 'ScienceFiction',\n",
       " 'Nonfiction',\n",
       " 'Classics',\n",
       " 'History',\n",
       " 'Classics',\n",
       " 'Fiction',\n",
       " 'Fantasy',\n",
       " 'Classics',\n",
       " 'Fiction',\n",
       " 'ScienceFiction',\n",
       " 'Classics',\n",
       " 'Fiction',\n",
       " 'YoungAdult',\n",
       " 'Fantasy',\n",
       " 'Classics',\n",
       " 'Fiction',\n",
       " 'Classics',\n",
       " 'Fiction',\n",
       " 'Historical',\n",
       " 'Fiction',\n",
       " 'Classics',\n",
       " 'MagicalRealism',\n",
       " 'Classics',\n",
       " 'Fiction',\n",
       " 'ScienceFiction',\n",
       " 'Classics',\n",
       " 'Fiction',\n",
       " 'Academic',\n",
       " 'Classics',\n",
       " 'Historical',\n",
       " 'HistoricalFiction',\n",
       " 'YoungAdult',\n",
       " 'Fiction',\n",
       " 'Classics',\n",
       " 'Fantasy',\n",
       " 'YoungAdult',\n",
       " 'Fiction',\n",
       " 'Classics',\n",
       " 'Fiction',\n",
       " 'YoungAdult',\n",
       " 'Classics',\n",
       " 'Fiction',\n",
       " 'ScienceFiction',\n",
       " 'Classics',\n",
       " 'Fiction',\n",
       " 'Historical',\n",
       " 'Classics',\n",
       " 'Fiction',\n",
       " 'Literature',\n",
       " 'Fiction',\n",
       " 'Classics',\n",
       " 'ScienceFiction',\n",
       " 'Classics',\n",
       " 'Fiction',\n",
       " 'Literature',\n",
       " 'ScienceFiction',\n",
       " 'Fiction',\n",
       " 'Humor',\n",
       " 'Fantasy',\n",
       " 'Classics',\n",
       " 'Fiction',\n",
       " 'Fiction',\n",
       " 'Historical',\n",
       " 'HistoricalFiction',\n",
       " 'Classics',\n",
       " 'Fiction',\n",
       " 'Philosophy',\n",
       " 'Fantasy',\n",
       " 'YoungAdult',\n",
       " 'Fiction',\n",
       " 'Classics',\n",
       " 'Childrens',\n",
       " 'Fiction',\n",
       " 'Fantasy',\n",
       " 'Classics',\n",
       " 'Fiction',\n",
       " 'Fantasy',\n",
       " 'Fiction',\n",
       " 'Classics',\n",
       " 'ScienceFiction',\n",
       " 'Fiction',\n",
       " 'YoungAdult',\n",
       " 'Classics',\n",
       " 'Fiction',\n",
       " 'Literature',\n",
       " 'Childrens',\n",
       " 'Childrens',\n",
       " 'PictureBooks',\n",
       " 'Fantasy',\n",
       " 'Fiction',\n",
       " 'Classics',\n",
       " 'Fantasy',\n",
       " 'Fiction',\n",
       " 'Classics',\n",
       " 'Classics',\n",
       " 'Fiction',\n",
       " 'Feminism',\n",
       " 'Classics',\n",
       " 'Fiction',\n",
       " 'Historical',\n",
       " 'Nonfiction',\n",
       " 'Classics',\n",
       " 'History',\n",
       " 'Fiction',\n",
       " 'Classics',\n",
       " 'Fantasy',\n",
       " 'Classics',\n",
       " 'Fiction',\n",
       " 'Fantasy',\n",
       " 'Nonfiction',\n",
       " 'Classics',\n",
       " 'Crime',\n",
       " 'Classics',\n",
       " 'Fiction',\n",
       " 'YoungAdult',\n",
       " 'Childrens',\n",
       " 'Childrens',\n",
       " 'PictureBooks',\n",
       " 'Classics',\n",
       " 'Fiction',\n",
       " 'Philosophy',\n",
       " 'Classics',\n",
       " 'Fiction',\n",
       " 'Historical',\n",
       " 'Classics',\n",
       " 'Philosophy',\n",
       " 'Literature',\n",
       " 'Fiction',\n",
       " 'Classics',\n",
       " 'Historical',\n",
       " 'Fiction',\n",
       " 'Historical',\n",
       " 'HistoricalFiction',\n",
       " 'Classics',\n",
       " 'Mystery',\n",
       " 'Fiction',\n",
       " 'Classics',\n",
       " 'Fiction',\n",
       " 'Fantasy',\n",
       " 'Classics',\n",
       " 'Fiction',\n",
       " 'Childrens',\n",
       " 'Fiction',\n",
       " 'Classics',\n",
       " 'Philosophy',\n",
       " 'Horror',\n",
       " 'Fiction',\n",
       " 'Fantasy',\n",
       " 'Fiction',\n",
       " 'Classics',\n",
       " 'Contemporary',\n",
       " 'Fiction',\n",
       " 'Classics',\n",
       " 'Literature',\n",
       " 'Classics',\n",
       " 'Fiction',\n",
       " 'Mystery',\n",
       " 'Childrens',\n",
       " 'Childrens',\n",
       " 'PictureBooks',\n",
       " 'Childrens',\n",
       " 'Childrens',\n",
       " 'PictureBooks',\n",
       " 'ScienceFiction',\n",
       " 'Fiction',\n",
       " 'Fantasy',\n",
       " 'Childrens',\n",
       " 'Fantasy',\n",
       " 'Fiction',\n",
       " 'Historical',\n",
       " 'HistoricalFiction',\n",
       " 'Fiction',\n",
       " 'Classics',\n",
       " 'Fiction',\n",
       " 'Cultural',\n",
       " 'Classics',\n",
       " 'YoungAdult',\n",
       " 'Fiction',\n",
       " 'Classics',\n",
       " 'Fiction',\n",
       " 'Travel',\n",
       " 'ScienceFiction',\n",
       " 'Fiction',\n",
       " 'Humor',\n",
       " 'Classics',\n",
       " 'Fiction',\n",
       " 'Literature',\n",
       " 'Classics',\n",
       " 'Fiction',\n",
       " 'Literature',\n",
       " 'Classics',\n",
       " 'Fiction',\n",
       " 'Historical',\n",
       " 'Classics',\n",
       " 'Fiction',\n",
       " 'Historical',\n",
       " 'Fiction',\n",
       " 'Classics',\n",
       " 'Historical',\n",
       " 'Fiction',\n",
       " 'Classics',\n",
       " 'Humor',\n",
       " 'Nonfiction',\n",
       " 'Autobiography',\n",
       " 'Memoir',\n",
       " 'Classics',\n",
       " 'Fiction',\n",
       " 'Literature',\n",
       " 'Fiction',\n",
       " 'Historical',\n",
       " 'HistoricalFiction',\n",
       " 'Classics',\n",
       " 'Fiction',\n",
       " 'Literature',\n",
       " 'Fiction',\n",
       " 'Classics',\n",
       " 'Philosophy',\n",
       " 'Classics',\n",
       " 'Historical',\n",
       " 'HistoricalFiction',\n",
       " 'Fiction',\n",
       " 'Classics',\n",
       " 'Contemporary',\n",
       " 'Classics',\n",
       " 'Fiction',\n",
       " 'ScienceFiction',\n",
       " 'Classics',\n",
       " 'Fiction',\n",
       " 'Historical',\n",
       " 'Classics',\n",
       " 'Fiction',\n",
       " 'Literature',\n",
       " 'Classics',\n",
       " 'Fiction',\n",
       " 'Historical',\n",
       " 'Classics',\n",
       " 'Fiction',\n",
       " 'YoungAdult',\n",
       " 'Fiction',\n",
       " 'Classics',\n",
       " 'ScienceFiction',\n",
       " 'Plays',\n",
       " 'Classics',\n",
       " 'Drama',\n",
       " 'Christian',\n",
       " 'Nonfiction',\n",
       " 'Religion',\n",
       " 'Fiction',\n",
       " 'Historical',\n",
       " 'HistoricalFiction',\n",
       " 'Fiction',\n",
       " 'Historical',\n",
       " 'HistoricalFiction',\n",
       " 'Fiction',\n",
       " 'Classics',\n",
       " 'Historical',\n",
       " 'Historical',\n",
       " 'HistoricalFiction',\n",
       " 'Fiction',\n",
       " 'Fantasy',\n",
       " 'Fiction',\n",
       " 'Fantasy',\n",
       " 'Fiction',\n",
       " 'Classics',\n",
       " 'Humor',\n",
       " 'Classics',\n",
       " 'Fiction',\n",
       " 'Literature',\n",
       " 'Fiction',\n",
       " 'Classics',\n",
       " 'ShortStories',\n",
       " 'Classics',\n",
       " 'Fiction',\n",
       " 'Literature',\n",
       " 'Fiction',\n",
       " 'ScienceFiction',\n",
       " 'Dystopia',\n",
       " 'Fiction',\n",
       " 'Classics',\n",
       " 'ScienceFiction',\n",
       " 'Classics',\n",
       " 'Childrens',\n",
       " 'Fiction',\n",
       " 'Mystery',\n",
       " 'Classics',\n",
       " 'Fiction',\n",
       " 'Fantasy',\n",
       " 'Fiction',\n",
       " 'Classics',\n",
       " 'Fiction',\n",
       " 'Contemporary',\n",
       " 'WomensFiction',\n",
       " 'Classics',\n",
       " 'Fiction',\n",
       " 'Literature',\n",
       " 'Fiction',\n",
       " 'Classics',\n",
       " 'Historical',\n",
       " 'Classics',\n",
       " 'Fiction',\n",
       " 'Adventure',\n",
       " 'Poetry',\n",
       " 'Childrens',\n",
       " 'Classics',\n",
       " 'Fiction',\n",
       " 'Contemporary',\n",
       " 'Classics',\n",
       " 'Fiction',\n",
       " 'Classics',\n",
       " 'Philosophy',\n",
       " 'Nonfiction',\n",
       " 'Biography',\n",
       " 'History',\n",
       " 'SequentialArt',\n",
       " 'GraphicNovels',\n",
       " 'SequentialArt',\n",
       " 'Classics',\n",
       " 'Fiction',\n",
       " 'Literature',\n",
       " 'SequentialArt',\n",
       " 'Comics',\n",
       " 'Humor',\n",
       " 'Classics',\n",
       " 'Plays',\n",
       " 'Fiction',\n",
       " 'Classics',\n",
       " 'Fiction',\n",
       " 'Historical',\n",
       " 'Fiction',\n",
       " 'Historical',\n",
       " 'HistoricalFiction',\n",
       " 'Classics',\n",
       " 'Childrens',\n",
       " 'Fiction',\n",
       " 'YoungAdult',\n",
       " 'Fiction',\n",
       " 'Contemporary',\n",
       " 'Fiction',\n",
       " 'Classics',\n",
       " 'Historical',\n",
       " 'Horror',\n",
       " 'Fantasy',\n",
       " 'Fiction',\n",
       " 'Childrens',\n",
       " 'Childrens',\n",
       " 'PictureBooks',\n",
       " 'Poetry',\n",
       " 'Philosophy',\n",
       " 'Classics',\n",
       " 'Classics',\n",
       " 'Fiction',\n",
       " 'Literature',\n",
       " 'Horror',\n",
       " 'Fiction',\n",
       " 'Thriller',\n",
       " 'Childrens',\n",
       " 'Childrens',\n",
       " 'PictureBooks',\n",
       " 'Poetry',\n",
       " 'Classics',\n",
       " 'Fiction',\n",
       " 'Fiction',\n",
       " 'Classics',\n",
       " 'Philosophy',\n",
       " 'Fiction',\n",
       " 'Historical',\n",
       " 'HistoricalFiction',\n",
       " 'Historical',\n",
       " 'HistoricalFiction',\n",
       " 'Fiction',\n",
       " 'Classics',\n",
       " 'Fantasy',\n",
       " 'Fiction',\n",
       " 'Fiction',\n",
       " 'Classics',\n",
       " 'Cultural',\n",
       " 'Historical',\n",
       " 'HistoricalFiction',\n",
       " 'Romance',\n",
       " 'Childrens',\n",
       " 'Fiction',\n",
       " 'Classics',\n",
       " 'Historical',\n",
       " 'HistoricalFiction',\n",
       " 'Fiction',\n",
       " 'Nonfiction',\n",
       " 'Classics',\n",
       " 'Autobiography',\n",
       " 'Fiction',\n",
       " 'Cultural',\n",
       " 'India',\n",
       " 'ScienceFiction',\n",
       " 'Fiction',\n",
       " 'Classics',\n",
       " 'Fiction',\n",
       " 'Cultural',\n",
       " 'India',\n",
       " 'Fiction',\n",
       " 'Classics',\n",
       " 'Literature',\n",
       " 'Fiction',\n",
       " 'MagicalRealism',\n",
       " 'Cultural',\n",
       " 'Fantasy',\n",
       " 'YoungAdult',\n",
       " 'Fiction',\n",
       " 'Fiction',\n",
       " 'Classics',\n",
       " 'Christian',\n",
       " 'Fantasy',\n",
       " 'Fiction',\n",
       " 'Humor',\n",
       " 'Plays',\n",
       " 'Classics',\n",
       " 'Drama',\n",
       " 'Classics',\n",
       " 'Fiction',\n",
       " 'ShortStories',\n",
       " 'Classics',\n",
       " 'Fiction',\n",
       " 'Literature',\n",
       " 'Fiction',\n",
       " 'Classics',\n",
       " 'Historical',\n",
       " 'Nonfiction',\n",
       " 'Psychology',\n",
       " 'Philosophy',\n",
       " 'Fiction',\n",
       " 'MagicalRealism',\n",
       " 'Historical',\n",
       " 'ScienceFiction',\n",
       " 'Fiction',\n",
       " 'Classics',\n",
       " 'Fiction',\n",
       " 'Cultural',\n",
       " 'India',\n",
       " 'Fantasy',\n",
       " 'Fiction',\n",
       " 'Historical',\n",
       " 'Classics',\n",
       " 'Fiction',\n",
       " 'Historical',\n",
       " 'Fiction',\n",
       " 'Classics',\n",
       " 'ScienceFiction',\n",
       " 'ScienceFiction',\n",
       " 'Fiction',\n",
       " 'Classics',\n",
       " 'Classics',\n",
       " 'Fiction',\n",
       " 'Historical',\n",
       " 'Fiction',\n",
       " 'Mystery',\n",
       " 'Thriller',\n",
       " 'Fiction',\n",
       " 'Classics',\n",
       " 'Philosophy',\n",
       " 'Nonfiction',\n",
       " 'Autobiography',\n",
       " 'Memoir',\n",
       " 'Fantasy',\n",
       " 'Fiction',\n",
       " 'Classics',\n",
       " 'Mystery',\n",
       " 'Classics',\n",
       " 'Fiction',\n",
       " 'Fantasy',\n",
       " 'Classics',\n",
       " 'Fiction',\n",
       " 'Plays',\n",
       " 'Classics',\n",
       " 'Fiction',\n",
       " 'History',\n",
       " 'Nonfiction',\n",
       " 'Science',\n",
       " 'Nonfiction',\n",
       " 'Biography',\n",
       " 'History',\n",
       " 'Horror',\n",
       " 'Fiction',\n",
       " 'Thriller',\n",
       " 'Historical',\n",
       " 'HistoricalFiction',\n",
       " 'Fiction',\n",
       " 'Classics',\n",
       " 'Fiction',\n",
       " 'Childrens',\n",
       " 'Classics',\n",
       " 'Fiction',\n",
       " 'Historical',\n",
       " 'Classics',\n",
       " 'Fiction',\n",
       " 'Historical',\n",
       " 'Fiction',\n",
       " 'Classics',\n",
       " 'Literature',\n",
       " 'Nonfiction',\n",
       " 'Crime',\n",
       " 'TrueCrime',\n",
       " 'Fiction',\n",
       " 'Historical',\n",
       " 'HistoricalFiction',\n",
       " 'ShortStories',\n",
       " 'Fiction',\n",
       " 'Cultural',\n",
       " 'Classics',\n",
       " 'Fiction',\n",
       " 'Historical',\n",
       " 'Fiction',\n",
       " 'Romance',\n",
       " 'MagicalRealism',\n",
       " 'Classics',\n",
       " 'Fiction',\n",
       " 'YoungAdult',\n",
       " 'Classics',\n",
       " 'Fiction',\n",
       " 'Cultural',\n",
       " 'Fiction',\n",
       " 'Classics',\n",
       " 'EuropeanLiterature',\n",
       " 'Fiction',\n",
       " 'Historical',\n",
       " 'HistoricalFiction',\n",
       " 'Philosophy',\n",
       " 'Fiction',\n",
       " 'Classics',\n",
       " 'Fantasy',\n",
       " 'YoungAdult',\n",
       " 'Fiction',\n",
       " 'Fiction',\n",
       " 'Cultural',\n",
       " 'Africa',\n",
       " 'Fiction',\n",
       " 'ShortStories',\n",
       " 'Classics',\n",
       " 'Classics',\n",
       " 'Fiction',\n",
       " 'Historical',\n",
       " 'Classics',\n",
       " 'Fiction',\n",
       " 'Literature',\n",
       " 'Fiction',\n",
       " 'Classics',\n",
       " 'ScienceFiction',\n",
       " 'SequentialArt',\n",
       " 'GraphicNovels',\n",
       " 'SequentialArt',\n",
       " 'Classics',\n",
       " 'Nonfiction',\n",
       " 'Feminism',\n",
       " 'Classics',\n",
       " 'Fiction',\n",
       " 'Romance',\n",
       " 'Childrens',\n",
       " 'Fantasy',\n",
       " 'Fiction',\n",
       " 'Fiction',\n",
       " 'Contemporary',\n",
       " 'Novels',\n",
       " 'Fantasy',\n",
       " 'Fiction',\n",
       " 'Childrens',\n",
       " 'Fiction',\n",
       " 'Historical',\n",
       " 'HistoricalFiction',\n",
       " 'Childrens',\n",
       " 'Childrens',\n",
       " 'PictureBooks',\n",
       " 'History',\n",
       " 'Nonfiction',\n",
       " 'Politics',\n",
       " 'Classics',\n",
       " 'Fiction',\n",
       " 'YoungAdult',\n",
       " 'Romance',\n",
       " 'Fiction',\n",
       " 'WomensFiction',\n",
       " 'ScienceFiction',\n",
       " 'Fiction',\n",
       " 'ScienceFiction',\n",
       " 'Historical',\n",
       " 'HistoricalFiction',\n",
       " 'Mystery',\n",
       " 'Classics',\n",
       " 'Mystery',\n",
       " 'Fiction',\n",
       " 'Philosophy',\n",
       " 'Fiction',\n",
       " 'Classics',\n",
       " 'Fiction',\n",
       " 'Classics',\n",
       " 'Philosophy',\n",
       " 'Horror',\n",
       " 'Fiction',\n",
       " 'Fantasy',\n",
       " 'Philosophy',\n",
       " 'Nonfiction',\n",
       " 'Classics',\n",
       " 'Fiction',\n",
       " 'Classics',\n",
       " 'Historical',\n",
       " 'Fiction',\n",
       " 'Classics',\n",
       " 'Philosophy',\n",
       " 'Fantasy',\n",
       " 'Classics',\n",
       " 'Fiction',\n",
       " 'Historical',\n",
       " 'HistoricalFiction',\n",
       " 'Fiction',\n",
       " 'Historical',\n",
       " 'HistoricalFiction',\n",
       " 'Fiction',\n",
       " 'YoungAdult',\n",
       " 'Fiction',\n",
       " 'Classics',\n",
       " 'Fiction',\n",
       " 'Cultural',\n",
       " 'Japan',\n",
       " 'Fiction',\n",
       " 'Classics',\n",
       " 'EuropeanLiterature',\n",
       " 'Fiction',\n",
       " 'ShortStories',\n",
       " 'Classics',\n",
       " 'Nonfiction',\n",
       " 'Humor',\n",
       " 'Autobiography',\n",
       " 'Nonfiction',\n",
       " 'Biography',\n",
       " 'Adventure',\n",
       " 'Childrens',\n",
       " 'Childrens',\n",
       " 'PictureBooks',\n",
       " 'Fiction',\n",
       " 'Classics',\n",
       " 'Philosophy',\n",
       " 'Philosophy',\n",
       " 'Fiction',\n",
       " 'Classics',\n",
       " 'Fiction',\n",
       " 'Classics',\n",
       " 'Cultural',\n",
       " 'Childrens',\n",
       " 'PictureBooks',\n",
       " 'Childrens',\n",
       " 'Fiction',\n",
       " 'Contemporary',\n",
       " 'Classics',\n",
       " 'Fiction',\n",
       " 'Historical',\n",
       " 'HistoricalFiction',\n",
       " 'Fiction',\n",
       " 'Horror',\n",
       " 'Thriller',\n",
       " 'Classics',\n",
       " 'Fiction',\n",
       " 'Literature',\n",
       " 'Fiction',\n",
       " 'Mystery',\n",
       " 'Historical',\n",
       " 'Classics',\n",
       " 'Historical',\n",
       " 'HistoricalFiction',\n",
       " 'Fiction',\n",
       " 'Mystery',\n",
       " 'Thriller',\n",
       " 'Nonfiction',\n",
       " 'Fantasy',\n",
       " 'Mythology',\n",
       " 'Fiction',\n",
       " 'Classics',\n",
       " 'Fantasy',\n",
       " 'ShortStories',\n",
       " 'Fiction',\n",
       " 'Classics',\n",
       " 'History',\n",
       " 'Nonfiction',\n",
       " 'NorthAmericanHi...',\n",
       " 'Fiction',\n",
       " 'Classics',\n",
       " 'Historical',\n",
       " 'Fiction',\n",
       " 'Classics',\n",
       " 'Historical',\n",
       " 'Poetry',\n",
       " 'Nonfiction',\n",
       " 'Classics',\n",
       " 'Historical',\n",
       " 'HistoricalFiction',\n",
       " 'Fiction',\n",
       " 'YoungAdult',\n",
       " 'Fiction',\n",
       " 'Childrens',\n",
       " 'Historical',\n",
       " 'HistoricalFiction',\n",
       " 'Fiction',\n",
       " 'ScienceFiction',\n",
       " 'Fiction',\n",
       " 'Classics',\n",
       " 'Fantasy',\n",
       " 'Fiction',\n",
       " 'Fantasy',\n",
       " 'Fiction',\n",
       " 'Historical',\n",
       " 'HistoricalFiction',\n",
       " 'Fantasy',\n",
       " 'Childrens',\n",
       " 'Fiction',\n",
       " 'Plays',\n",
       " 'Classics',\n",
       " 'Drama',\n",
       " 'YoungAdult',\n",
       " 'Fiction',\n",
       " 'Historical',\n",
       " 'Fiction',\n",
       " 'Thriller',\n",
       " 'Mystery',\n",
       " 'Plays',\n",
       " 'Drama',\n",
       " 'Classics',\n",
       " 'Fiction',\n",
       " 'Classics',\n",
       " 'Historical',\n",
       " 'Fiction',\n",
       " 'Historical',\n",
       " 'HistoricalFiction',\n",
       " 'Classics',\n",
       " 'Fiction',\n",
       " 'ShortStories',\n",
       " 'History',\n",
       " 'Nonfiction',\n",
       " 'Classics',\n",
       " 'Fiction',\n",
       " 'Classics',\n",
       " 'Historical',\n",
       " 'Nonfiction',\n",
       " 'Science',\n",
       " 'Environment',\n",
       " 'ScienceFiction',\n",
       " 'Fiction',\n",
       " 'Classics',\n",
       " 'Classics',\n",
       " 'Fiction',\n",
       " 'Cultural',\n",
       " 'Fiction',\n",
       " 'Classics',\n",
       " 'Literature',\n",
       " 'ScienceFiction',\n",
       " 'Fiction',\n",
       " 'Fantasy',\n",
       " 'ShortStories',\n",
       " 'Fiction',\n",
       " 'Classics',\n",
       " 'Fantasy',\n",
       " 'Fiction',\n",
       " 'Classics',\n",
       " 'Feminism',\n",
       " 'Nonfiction',\n",
       " 'Philosophy',\n",
       " 'Horror',\n",
       " 'Fantasy',\n",
       " 'Fiction',\n",
       " 'Fiction',\n",
       " 'Historical',\n",
       " 'HistoricalFiction',\n",
       " 'Historical',\n",
       " 'HistoricalFiction',\n",
       " 'Fiction',\n",
       " 'Fiction',\n",
       " 'Classics',\n",
       " 'Cultural',\n",
       " 'Fiction',\n",
       " 'Contemporary',\n",
       " 'Novels',\n",
       " 'Fiction',\n",
       " 'Classics',\n",
       " 'Literature',\n",
       " 'Fiction',\n",
       " 'Classics',\n",
       " 'Literature',\n",
       " 'Fiction',\n",
       " 'Thriller',\n",
       " 'Mystery',\n",
       " 'Classics',\n",
       " 'Fiction',\n",
       " 'Literature',\n",
       " 'Fiction',\n",
       " 'Historical',\n",
       " 'HistoricalFiction',\n",
       " 'Classics',\n",
       " 'Fiction',\n",
       " 'Adventure',\n",
       " 'Mystery',\n",
       " 'Fiction',\n",
       " 'Classics',\n",
       " 'Fiction',\n",
       " 'Classics',\n",
       " 'Literature',\n",
       " 'Fiction',\n",
       " 'Contemporary',\n",
       " 'Literature',\n",
       " 'History',\n",
       " 'Nonfiction',\n",
       " 'Classics',\n",
       " 'ScienceFiction',\n",
       " 'Fiction',\n",
       " 'Classics',\n",
       " 'Fiction',\n",
       " 'Classics',\n",
       " 'Literature',\n",
       " 'Classics',\n",
       " 'Childrens',\n",
       " 'Fiction',\n",
       " 'Classics',\n",
       " 'Fiction',\n",
       " 'Literature',\n",
       " 'Fiction',\n",
       " 'Contemporary',\n",
       " 'Literature',\n",
       " 'YoungAdult',\n",
       " 'Fiction',\n",
       " 'Classics',\n",
       " 'Fantasy',\n",
       " 'Fiction',\n",
       " 'Horror',\n",
       " 'Horror',\n",
       " 'Fantasy',\n",
       " 'Fiction',\n",
       " 'YoungAdult',\n",
       " 'Fiction',\n",
       " 'Childrens',\n",
       " 'Classics',\n",
       " 'Plays',\n",
       " 'Fiction',\n",
       " 'Fiction',\n",
       " 'Classics',\n",
       " 'Philosophy',\n",
       " 'YoungAdult',\n",
       " 'Fiction',\n",
       " 'Contemporary',\n",
       " 'Fantasy',\n",
       " 'Childrens',\n",
       " 'Fiction',\n",
       " 'Fiction',\n",
       " 'Classics',\n",
       " 'Historical',\n",
       " 'Classics',\n",
       " 'Fiction',\n",
       " 'Horror',\n",
       " 'Horror',\n",
       " 'Fiction',\n",
       " 'ShortStories',\n",
       " 'Fiction',\n",
       " 'MagicalRealism',\n",
       " 'Classics',\n",
       " 'Nonfiction',\n",
       " 'Fantasy',\n",
       " 'Mythology',\n",
       " 'Fiction',\n",
       " 'ShortStories',\n",
       " 'Classics',\n",
       " 'Fiction',\n",
       " 'Classics',\n",
       " 'Novels',\n",
       " 'Fiction',\n",
       " 'WomensFiction',\n",
       " 'ChickLit',\n",
       " 'Nonfiction',\n",
       " 'Cultural',\n",
       " 'Africa',\n",
       " 'Nonfiction',\n",
       " 'History',\n",
       " 'Cultural',\n",
       " 'Fiction',\n",
       " 'Philosophy',\n",
       " 'Classics',\n",
       " 'Classics',\n",
       " 'Fiction',\n",
       " 'Literature',\n",
       " 'Fantasy',\n",
       " 'Fiction',\n",
       " 'Fantasy',\n",
       " 'Fiction',\n",
       " 'Classics',\n",
       " 'EuropeanLiterature',\n",
       " 'ScienceFiction',\n",
       " 'Fiction',\n",
       " 'Thriller',\n",
       " 'Childrens',\n",
       " 'PictureBooks',\n",
       " 'Childrens',\n",
       " 'Classics',\n",
       " 'Historical',\n",
       " 'HistoricalFiction',\n",
       " 'Fiction',\n",
       " 'Classics',\n",
       " 'Philosophy',\n",
       " 'Horror',\n",
       " 'Fiction',\n",
       " 'Paranormal',\n",
       " 'Horror',\n",
       " 'Fantasy',\n",
       " 'Paranormal',\n",
       " 'Fiction',\n",
       " 'Classics',\n",
       " 'Philosophy',\n",
       " 'Fiction',\n",
       " 'Historical',\n",
       " 'HistoricalFiction',\n",
       " 'Fiction',\n",
       " 'Classics',\n",
       " 'Literature',\n",
       " 'Childrens',\n",
       " 'Classics',\n",
       " 'Childrens',\n",
       " 'Fiction',\n",
       " 'Westerns',\n",
       " 'Historical',\n",
       " 'Classics',\n",
       " 'Fiction',\n",
       " 'Romance',\n",
       " 'Classics',\n",
       " 'Childrens',\n",
       " 'Fiction',\n",
       " 'Fiction',\n",
       " 'Classics',\n",
       " 'Literature',\n",
       " 'Fantasy',\n",
       " 'Classics',\n",
       " 'Fiction',\n",
       " 'Poetry',\n",
       " 'Classics',\n",
       " 'Fiction',\n",
       " 'Horror',\n",
       " 'Fiction',\n",
       " 'Thriller',\n",
       " 'Science',\n",
       " 'Nonfiction',\n",
       " 'Science',\n",
       " 'Fantasy',\n",
       " 'Fiction',\n",
       " 'Classics',\n",
       " 'Horror',\n",
       " 'Fiction',\n",
       " 'Fantasy',\n",
       " 'Fiction',\n",
       " 'Historical',\n",
       " 'HistoricalFiction',\n",
       " 'Fiction',\n",
       " 'Classics',\n",
       " 'Historical',\n",
       " 'Fiction',\n",
       " 'Classics',\n",
       " 'Novels',\n",
       " 'Poetry',\n",
       " 'Classics',\n",
       " 'EuropeanLiterature',\n",
       " 'Classics',\n",
       " 'Fiction',\n",
       " 'Literature',\n",
       " 'Fiction',\n",
       " 'Classics',\n",
       " 'Historical',\n",
       " 'Fiction',\n",
       " 'Classics',\n",
       " 'Romance',\n",
       " 'Fiction',\n",
       " 'Classics',\n",
       " 'Poetry',\n",
       " 'ScienceFiction',\n",
       " 'Fiction',\n",
       " 'Apocalyptic',\n",
       " 'Classics',\n",
       " 'Fiction',\n",
       " 'YoungAdult',\n",
       " 'Fantasy',\n",
       " 'Fiction',\n",
       " 'Fantasy',\n",
       " 'Fiction',\n",
       " 'Classics',\n",
       " 'Historical',\n",
       " 'History',\n",
       " ...]"
      ]
     },
     "execution_count": 173,
     "metadata": {},
     "output_type": "execute_result"
    }
   ],
   "source": [
    "#flat_list = [re.sub(\"[\\[\\]',\\\"\\n\\s]\", \"\", item) for sublist in genretypes for item in sublist]\n",
    "flat_list = [re.sub(\"[\\[\\]',\\\"\\n\\s]\", \"\", item) for sublist in genretypes for item in sublist]\n",
    "#for i in flat_list:\n",
    "    #re.sub(\"[\\[\\]',\\\"]\", \"\", i)\n",
    "    #print(i)\n",
    "\n",
    "\n",
    "flat_list"
   ]
  },
  {
   "cell_type": "code",
   "execution_count": null,
   "metadata": {
    "cell_id": "00006-5ac3f4e1-b15b-4d3c-b03b-4424eefb6e0c",
    "deepnote_cell_type": "code",
    "deepnote_to_be_reexecuted": false,
    "execution_millis": 1,
    "execution_start": 1610637923292,
    "source_hash": "29d56e7",
    "tags": []
   },
   "outputs": [
    {
     "name": "stdout",
     "output_type": "stream",
     "text": [
      "{'Classics': 445, 'Fiction': 765, 'Historical': 188, 'ScienceFiction': 92, 'Academic': 2, 'Fantasy': 144, 'YoungAdult': 58, 'Nonfiction': 126, 'History': 42, 'MagicalRealism': 12, 'HistoricalFiction': 122, 'Literature': 88, 'Humor': 28, 'Philosophy': 54, 'Childrens': 74, 'PictureBooks': 18, 'Feminism': 7, 'Crime': 4, 'Mystery': 58, 'Horror': 47, 'Contemporary': 35, 'Cultural': 48, 'Travel': 7, 'Autobiography': 25, 'Memoir': 14, 'Plays': 19, 'Drama': 16, 'Christian': 5, 'Religion': 9, 'ShortStories': 38, 'Dystopia': 1, 'WomensFiction': 10, 'Adventure': 8, 'Poetry': 30, 'Biography': 15, 'SequentialArt': 19, 'GraphicNovels': 8, 'Comics': 3, 'Thriller': 44, 'Romance': 21, 'India': 5, 'Psychology': 8, 'Science': 18, 'TrueCrime': 3, 'EuropeanLiterature': 31, 'Africa': 4, 'Novels': 19, 'Politics': 8, 'Japan': 5, 'Mythology': 3, 'NorthAmericanHi...': 1, 'Environment': 6, 'ChickLit': 4, 'Paranormal': 4, 'Westerns': 3, 'Apocalyptic': 5, 'Animals': 3, 'LiteraryFiction': 9, 'American': 3, 'Writing': 7, 'SelfHelp': 3, 'Business': 2, 'War': 10, 'ScienceFictionFantasy': 5, 'WorldWarII': 1, 'BooksAboutBooks': 1, 'France': 4, 'Music': 1, 'Sports': 1, 'Baseball': 1, 'Spirituality': 4, 'IrishLiterature': 1, 'GermanLiterature': 4, 'LGBT': 3, 'Canada': 3, 'Nature': 3, 'TimeTravel': 2, 'Southern': 2, 'Education': 2, 'Gothic': 2, 'SpyThriller': 2, 'Espionage': 1, 'FoodandDrink': 2, 'Cookbooks': 1, 'Sociology': 3, 'Essays': 2, 'Womens': 1, 'Russia': 4, 'PolishLiterature': 1, 'Jewish': 1, 'Economics': 2, 'CzechLiterature': 2, 'Language': 2, 'Theology': 1, 'BookClub': 1, 'RealisticFiction': 1, 'UrbanFantasy': 1, 'Holiday': 1, 'Christmas': 1, 'Art': 1, 'Biology': 1, 'GLBT': 1, 'Space': 1, 'ChristianFiction': 1}\n"
     ]
    }
   ],
   "source": [
    "genreocc = dict()\n",
    "\n",
    "for key in flat_list:\n",
    "    if key in genreocc:\n",
    "        genreocc[key] +=1\n",
    "    else:\n",
    "        genreocc[key] =1\n",
    "\n",
    "print(genreocc)"
   ]
  },
  {
   "cell_type": "code",
   "execution_count": null,
   "metadata": {
    "cell_id": "00010-cdf82005-aa48-4231-9be3-9cdff5472111",
    "deepnote_cell_type": "code",
    "deepnote_to_be_reexecuted": false,
    "execution_millis": 2,
    "execution_start": 1610637925968,
    "source_hash": "8aabba4a",
    "tags": []
   },
   "outputs": [
    {
     "name": "stdout",
     "output_type": "stream",
     "text": [
      "('Classics', 'Fiction', 'Historical') ('Fiction', 'EuropeanLiterature', 'GermanLiterature')\n"
     ]
    }
   ],
   "source": [
    "print(list(zip(* [iter(flat_list)]*3))[0],list(zip(* [iter(flat_list)]*3))[-1])"
   ]
  },
  {
   "cell_type": "code",
   "execution_count": null,
   "metadata": {
    "cell_id": "00007-7e02bef4-83ca-410a-a66c-c30aed951006",
    "deepnote_cell_type": "code",
    "deepnote_to_be_reexecuted": false,
    "execution_millis": 11,
    "execution_start": 1610637928593,
    "source_hash": "e7b6f209",
    "tags": []
   },
   "outputs": [
    {
     "name": "stdout",
     "output_type": "stream",
     "text": [
      "[('Classics', 'Fiction', 'Historical'), ('Classics', 'Fiction', 'ScienceFiction'), ('Classics', 'Fiction', 'Academic'), ('Fantasy', 'Fiction', 'YoungAdult'), ('Fantasy', 'Classics', 'Fiction'), ('Classics', 'Fiction', 'ScienceFiction'), ('Nonfiction', 'Classics', 'History'), ('Classics', 'Fiction', 'Fantasy'), ('Classics', 'Fiction', 'ScienceFiction'), ('Classics', 'Fiction', 'YoungAdult'), ('Fantasy', 'Classics', 'Fiction'), ('Classics', 'Fiction', 'Historical'), ('Fiction', 'Classics', 'MagicalRealism'), ('Classics', 'Fiction', 'ScienceFiction'), ('Classics', 'Fiction', 'Academic'), ('Classics', 'Historical', 'HistoricalFiction'), ('YoungAdult', 'Fiction', 'Classics'), ('Fantasy', 'YoungAdult', 'Fiction'), ('Classics', 'Fiction', 'YoungAdult'), ('Classics', 'Fiction', 'ScienceFiction'), ('Classics', 'Fiction', 'Historical'), ('Classics', 'Fiction', 'Literature'), ('Fiction', 'Classics', 'ScienceFiction'), ('Classics', 'Fiction', 'Literature'), ('ScienceFiction', 'Fiction', 'Humor'), ('Fantasy', 'Classics', 'Fiction'), ('Fiction', 'Historical', 'HistoricalFiction'), ('Classics', 'Fiction', 'Philosophy'), ('Fantasy', 'YoungAdult', 'Fiction'), ('Classics', 'Childrens', 'Fiction'), ('Fantasy', 'Classics', 'Fiction'), ('Fantasy', 'Fiction', 'Classics'), ('ScienceFiction', 'Fiction', 'YoungAdult'), ('Classics', 'Fiction', 'Literature'), ('Childrens', 'Childrens', 'PictureBooks'), ('Fantasy', 'Fiction', 'Classics'), ('Fantasy', 'Fiction', 'Classics'), ('Classics', 'Fiction', 'Feminism'), ('Classics', 'Fiction', 'Historical'), ('Nonfiction', 'Classics', 'History'), ('Fiction', 'Classics', 'Fantasy'), ('Classics', 'Fiction', 'Fantasy'), ('Nonfiction', 'Classics', 'Crime'), ('Classics', 'Fiction', 'YoungAdult'), ('Childrens', 'Childrens', 'PictureBooks'), ('Classics', 'Fiction', 'Philosophy'), ('Classics', 'Fiction', 'Historical'), ('Classics', 'Philosophy', 'Literature'), ('Fiction', 'Classics', 'Historical'), ('Fiction', 'Historical', 'HistoricalFiction'), ('Classics', 'Mystery', 'Fiction'), ('Classics', 'Fiction', 'Fantasy'), ('Classics', 'Fiction', 'Childrens'), ('Fiction', 'Classics', 'Philosophy'), ('Horror', 'Fiction', 'Fantasy'), ('Fiction', 'Classics', 'Contemporary'), ('Fiction', 'Classics', 'Literature'), ('Classics', 'Fiction', 'Mystery'), ('Childrens', 'Childrens', 'PictureBooks'), ('Childrens', 'Childrens', 'PictureBooks'), ('ScienceFiction', 'Fiction', 'Fantasy'), ('Childrens', 'Fantasy', 'Fiction'), ('Historical', 'HistoricalFiction', 'Fiction'), ('Classics', 'Fiction', 'Cultural'), ('Classics', 'YoungAdult', 'Fiction'), ('Classics', 'Fiction', 'Travel'), ('ScienceFiction', 'Fiction', 'Humor'), ('Classics', 'Fiction', 'Literature'), ('Classics', 'Fiction', 'Literature'), ('Classics', 'Fiction', 'Historical'), ('Classics', 'Fiction', 'Historical'), ('Fiction', 'Classics', 'Historical'), ('Fiction', 'Classics', 'Humor'), ('Nonfiction', 'Autobiography', 'Memoir'), ('Classics', 'Fiction', 'Literature'), ('Fiction', 'Historical', 'HistoricalFiction'), ('Classics', 'Fiction', 'Literature'), ('Fiction', 'Classics', 'Philosophy'), ('Classics', 'Historical', 'HistoricalFiction'), ('Fiction', 'Classics', 'Contemporary'), ('Classics', 'Fiction', 'ScienceFiction'), ('Classics', 'Fiction', 'Historical'), ('Classics', 'Fiction', 'Literature'), ('Classics', 'Fiction', 'Historical'), ('Classics', 'Fiction', 'YoungAdult'), ('Fiction', 'Classics', 'ScienceFiction'), ('Plays', 'Classics', 'Drama'), ('Christian', 'Nonfiction', 'Religion'), ('Fiction', 'Historical', 'HistoricalFiction'), ('Fiction', 'Historical', 'HistoricalFiction'), ('Fiction', 'Classics', 'Historical'), ('Historical', 'HistoricalFiction', 'Fiction'), ('Fantasy', 'Fiction', 'Fantasy'), ('Fiction', 'Classics', 'Humor'), ('Classics', 'Fiction', 'Literature'), ('Fiction', 'Classics', 'ShortStories'), ('Classics', 'Fiction', 'Literature'), ('Fiction', 'ScienceFiction', 'Dystopia'), ('Fiction', 'Classics', 'ScienceFiction'), ('Classics', 'Childrens', 'Fiction'), ('Mystery', 'Classics', 'Fiction'), ('Fantasy', 'Fiction', 'Classics'), ('Fiction', 'Contemporary', 'WomensFiction'), ('Classics', 'Fiction', 'Literature'), ('Fiction', 'Classics', 'Historical'), ('Classics', 'Fiction', 'Adventure'), ('Poetry', 'Childrens', 'Classics'), ('Fiction', 'Contemporary', 'Classics'), ('Fiction', 'Classics', 'Philosophy'), ('Nonfiction', 'Biography', 'History'), ('SequentialArt', 'GraphicNovels', 'SequentialArt'), ('Classics', 'Fiction', 'Literature'), ('SequentialArt', 'Comics', 'Humor'), ('Classics', 'Plays', 'Fiction'), ('Classics', 'Fiction', 'Historical'), ('Fiction', 'Historical', 'HistoricalFiction'), ('Classics', 'Childrens', 'Fiction'), ('YoungAdult', 'Fiction', 'Contemporary'), ('Fiction', 'Classics', 'Historical'), ('Horror', 'Fantasy', 'Fiction'), ('Childrens', 'Childrens', 'PictureBooks'), ('Poetry', 'Philosophy', 'Classics'), ('Classics', 'Fiction', 'Literature'), ('Horror', 'Fiction', 'Thriller'), ('Childrens', 'Childrens', 'PictureBooks'), ('Poetry', 'Classics', 'Fiction'), ('Fiction', 'Classics', 'Philosophy'), ('Fiction', 'Historical', 'HistoricalFiction'), ('Historical', 'HistoricalFiction', 'Fiction'), ('Classics', 'Fantasy', 'Fiction'), ('Fiction', 'Classics', 'Cultural'), ('Historical', 'HistoricalFiction', 'Romance'), ('Childrens', 'Fiction', 'Classics'), ('Historical', 'HistoricalFiction', 'Fiction'), ('Nonfiction', 'Classics', 'Autobiography'), ('Fiction', 'Cultural', 'India'), ('ScienceFiction', 'Fiction', 'Classics'), ('Fiction', 'Cultural', 'India'), ('Fiction', 'Classics', 'Literature'), ('Fiction', 'MagicalRealism', 'Cultural'), ('Fantasy', 'YoungAdult', 'Fiction'), ('Fiction', 'Classics', 'Christian'), ('Fantasy', 'Fiction', 'Humor'), ('Plays', 'Classics', 'Drama'), ('Classics', 'Fiction', 'ShortStories'), ('Classics', 'Fiction', 'Literature'), ('Fiction', 'Classics', 'Historical'), ('Nonfiction', 'Psychology', 'Philosophy'), ('Fiction', 'MagicalRealism', 'Historical'), ('ScienceFiction', 'Fiction', 'Classics'), ('Fiction', 'Cultural', 'India'), ('Fantasy', 'Fiction', 'Historical'), ('Classics', 'Fiction', 'Historical'), ('Fiction', 'Classics', 'ScienceFiction'), ('ScienceFiction', 'Fiction', 'Classics'), ('Classics', 'Fiction', 'Historical'), ('Fiction', 'Mystery', 'Thriller'), ('Fiction', 'Classics', 'Philosophy'), ('Nonfiction', 'Autobiography', 'Memoir'), ('Fantasy', 'Fiction', 'Classics'), ('Mystery', 'Classics', 'Fiction'), ('Fantasy', 'Classics', 'Fiction'), ('Plays', 'Classics', 'Fiction'), ('History', 'Nonfiction', 'Science'), ('Nonfiction', 'Biography', 'History'), ('Horror', 'Fiction', 'Thriller'), ('Historical', 'HistoricalFiction', 'Fiction'), ('Classics', 'Fiction', 'Childrens'), ('Classics', 'Fiction', 'Historical'), ('Classics', 'Fiction', 'Historical'), ('Fiction', 'Classics', 'Literature'), ('Nonfiction', 'Crime', 'TrueCrime'), ('Fiction', 'Historical', 'HistoricalFiction'), ('ShortStories', 'Fiction', 'Cultural'), ('Classics', 'Fiction', 'Historical'), ('Fiction', 'Romance', 'MagicalRealism'), ('Classics', 'Fiction', 'YoungAdult'), ('Classics', 'Fiction', 'Cultural'), ('Fiction', 'Classics', 'EuropeanLiterature'), ('Fiction', 'Historical', 'HistoricalFiction'), ('Philosophy', 'Fiction', 'Classics'), ('Fantasy', 'YoungAdult', 'Fiction'), ('Fiction', 'Cultural', 'Africa'), ('Fiction', 'ShortStories', 'Classics'), ('Classics', 'Fiction', 'Historical'), ('Classics', 'Fiction', 'Literature'), ('Fiction', 'Classics', 'ScienceFiction'), ('SequentialArt', 'GraphicNovels', 'SequentialArt'), ('Classics', 'Nonfiction', 'Feminism'), ('Classics', 'Fiction', 'Romance'), ('Childrens', 'Fantasy', 'Fiction'), ('Fiction', 'Contemporary', 'Novels'), ('Fantasy', 'Fiction', 'Childrens'), ('Fiction', 'Historical', 'HistoricalFiction'), ('Childrens', 'Childrens', 'PictureBooks'), ('History', 'Nonfiction', 'Politics'), ('Classics', 'Fiction', 'YoungAdult'), ('Romance', 'Fiction', 'WomensFiction'), ('ScienceFiction', 'Fiction', 'ScienceFiction'), ('Historical', 'HistoricalFiction', 'Mystery'), ('Classics', 'Mystery', 'Fiction'), ('Philosophy', 'Fiction', 'Classics'), ('Fiction', 'Classics', 'Philosophy'), ('Horror', 'Fiction', 'Fantasy'), ('Philosophy', 'Nonfiction', 'Classics'), ('Fiction', 'Classics', 'Historical'), ('Fiction', 'Classics', 'Philosophy'), ('Fantasy', 'Classics', 'Fiction'), ('Historical', 'HistoricalFiction', 'Fiction'), ('Historical', 'HistoricalFiction', 'Fiction'), ('YoungAdult', 'Fiction', 'Classics'), ('Fiction', 'Cultural', 'Japan'), ('Fiction', 'Classics', 'EuropeanLiterature'), ('Fiction', 'ShortStories', 'Classics'), ('Nonfiction', 'Humor', 'Autobiography'), ('Nonfiction', 'Biography', 'Adventure'), ('Childrens', 'Childrens', 'PictureBooks'), ('Fiction', 'Classics', 'Philosophy'), ('Philosophy', 'Fiction', 'Classics'), ('Fiction', 'Classics', 'Cultural'), ('Childrens', 'PictureBooks', 'Childrens'), ('Fiction', 'Contemporary', 'Classics'), ('Fiction', 'Historical', 'HistoricalFiction'), ('Fiction', 'Horror', 'Thriller'), ('Classics', 'Fiction', 'Literature'), ('Fiction', 'Mystery', 'Historical'), ('Classics', 'Historical', 'HistoricalFiction'), ('Fiction', 'Mystery', 'Thriller'), ('Nonfiction', 'Fantasy', 'Mythology'), ('Fiction', 'Classics', 'Fantasy'), ('ShortStories', 'Fiction', 'Classics'), ('History', 'Nonfiction', 'NorthAmericanHi...'), ('Fiction', 'Classics', 'Historical'), ('Fiction', 'Classics', 'Historical'), ('Poetry', 'Nonfiction', 'Classics'), ('Historical', 'HistoricalFiction', 'Fiction'), ('YoungAdult', 'Fiction', 'Childrens'), ('Historical', 'HistoricalFiction', 'Fiction'), ('ScienceFiction', 'Fiction', 'Classics'), ('Fantasy', 'Fiction', 'Fantasy'), ('Fiction', 'Historical', 'HistoricalFiction'), ('Fantasy', 'Childrens', 'Fiction'), ('Plays', 'Classics', 'Drama'), ('YoungAdult', 'Fiction', 'Historical'), ('Fiction', 'Thriller', 'Mystery'), ('Plays', 'Drama', 'Classics'), ('Fiction', 'Classics', 'Historical'), ('Fiction', 'Historical', 'HistoricalFiction'), ('Classics', 'Fiction', 'ShortStories'), ('History', 'Nonfiction', 'Classics'), ('Fiction', 'Classics', 'Historical'), ('Nonfiction', 'Science', 'Environment'), ('ScienceFiction', 'Fiction', 'Classics'), ('Classics', 'Fiction', 'Cultural'), ('Fiction', 'Classics', 'Literature'), ('ScienceFiction', 'Fiction', 'Fantasy'), ('ShortStories', 'Fiction', 'Classics'), ('Fantasy', 'Fiction', 'Classics'), ('Feminism', 'Nonfiction', 'Philosophy'), ('Horror', 'Fantasy', 'Fiction'), ('Fiction', 'Historical', 'HistoricalFiction'), ('Historical', 'HistoricalFiction', 'Fiction'), ('Fiction', 'Classics', 'Cultural'), ('Fiction', 'Contemporary', 'Novels'), ('Fiction', 'Classics', 'Literature'), ('Fiction', 'Classics', 'Literature'), ('Fiction', 'Thriller', 'Mystery'), ('Classics', 'Fiction', 'Literature'), ('Fiction', 'Historical', 'HistoricalFiction'), ('Classics', 'Fiction', 'Adventure'), ('Mystery', 'Fiction', 'Classics'), ('Fiction', 'Classics', 'Literature'), ('Fiction', 'Contemporary', 'Literature'), ('History', 'Nonfiction', 'Classics'), ('ScienceFiction', 'Fiction', 'Classics'), ('Fiction', 'Classics', 'Literature'), ('Classics', 'Childrens', 'Fiction'), ('Classics', 'Fiction', 'Literature'), ('Fiction', 'Contemporary', 'Literature'), ('YoungAdult', 'Fiction', 'Classics'), ('Fantasy', 'Fiction', 'Horror'), ('Horror', 'Fantasy', 'Fiction'), ('YoungAdult', 'Fiction', 'Childrens'), ('Classics', 'Plays', 'Fiction'), ('Fiction', 'Classics', 'Philosophy'), ('YoungAdult', 'Fiction', 'Contemporary'), ('Fantasy', 'Childrens', 'Fiction'), ('Fiction', 'Classics', 'Historical'), ('Classics', 'Fiction', 'Horror'), ('Horror', 'Fiction', 'ShortStories'), ('Fiction', 'MagicalRealism', 'Classics'), ('Nonfiction', 'Fantasy', 'Mythology'), ('Fiction', 'ShortStories', 'Classics'), ('Fiction', 'Classics', 'Novels'), ('Fiction', 'WomensFiction', 'ChickLit'), ('Nonfiction', 'Cultural', 'Africa'), ('Nonfiction', 'History', 'Cultural'), ('Fiction', 'Philosophy', 'Classics'), ('Classics', 'Fiction', 'Literature'), ('Fantasy', 'Fiction', 'Fantasy'), ('Fiction', 'Classics', 'EuropeanLiterature'), ('ScienceFiction', 'Fiction', 'Thriller'), ('Childrens', 'PictureBooks', 'Childrens'), ('Classics', 'Historical', 'HistoricalFiction'), ('Fiction', 'Classics', 'Philosophy'), ('Horror', 'Fiction', 'Paranormal'), ('Horror', 'Fantasy', 'Paranormal'), ('Fiction', 'Classics', 'Philosophy'), ('Fiction', 'Historical', 'HistoricalFiction'), ('Fiction', 'Classics', 'Literature'), ('Childrens', 'Classics', 'Childrens'), ('Fiction', 'Westerns', 'Historical'), ('Classics', 'Fiction', 'Romance'), ('Classics', 'Childrens', 'Fiction'), ('Fiction', 'Classics', 'Literature'), ('Fantasy', 'Classics', 'Fiction'), ('Poetry', 'Classics', 'Fiction'), ('Horror', 'Fiction', 'Thriller'), ('Science', 'Nonfiction', 'Science'), ('Fantasy', 'Fiction', 'Classics'), ('Horror', 'Fiction', 'Fantasy'), ('Fiction', 'Historical', 'HistoricalFiction'), ('Fiction', 'Classics', 'Historical'), ('Fiction', 'Classics', 'Novels'), ('Poetry', 'Classics', 'EuropeanLiterature'), ('Classics', 'Fiction', 'Literature'), ('Fiction', 'Classics', 'Historical'), ('Fiction', 'Classics', 'Romance'), ('Fiction', 'Classics', 'Poetry'), ('ScienceFiction', 'Fiction', 'Apocalyptic'), ('Classics', 'Fiction', 'YoungAdult'), ('Fantasy', 'Fiction', 'Fantasy'), ('Fiction', 'Classics', 'Historical'), ('History', 'Philosophy', 'Nonfiction'), ('Fiction', 'ScienceFiction', 'Apocalyptic'), ('Mystery', 'YoungAdult', 'Fiction'), ('Fiction', 'Classics', 'Literature'), ('Fiction', 'Classics', 'WomensFiction'), ('Classics', 'Fiction', 'Literature'), ('Nonfiction', 'Animals', 'Autobiography'), ('Fiction', 'Classics', 'Novels'), ('Fantasy', 'Fiction', 'YoungAdult'), ('Fiction', 'MagicalRealism', 'LiteraryFiction'), ('Fiction', 'Mystery', 'Thriller'), ('Fiction', 'ShortStories', 'Classics'), ('Fantasy', 'Fiction', 'Classics'), ('Mystery', 'Fiction', 'Classics'), ('Fiction', 'Cultural', 'India'), ('ScienceFiction', 'Fiction', 'ScienceFiction'), ('Horror', 'Fiction', 'Thriller'), ('Fiction', 'Contemporary', 'Environment'), ('Fiction', 'Classics', 'Literature'), ('Fiction', 'Classics', 'American'), ('Fantasy', 'Classics', 'Fiction'), ('ScienceFiction', 'Fiction', 'Classics'), ('Mystery', 'Fiction', 'Classics'), ('Fantasy', 'Fiction', 'Fantasy'), ('Fiction', 'Classics', 'Fantasy'), ('Philosophy', 'Nonfiction', 'Writing'), ('Classics', 'Fiction', 'ScienceFiction'), ('Nonfiction', 'Adventure', 'Autobiography'), ('Childrens', 'Classics', 'Fiction'), ('Nonfiction', 'SelfHelp', 'Business'), ('Fiction', 'Cultural', 'Japan'), ('SequentialArt', 'GraphicNovels', 'SequentialArt'), ('Fantasy', 'Mythology', 'Classics'), ('ScienceFiction', 'Fiction', 'Classics'), ('Fiction', 'Classics', 'War'), ('Historical', 'HistoricalFiction', 'YoungAdult'), ('Classics', 'Fiction', 'ShortStories'), ('Fiction', 'Classics', 'Historical'), ('Poetry', 'Classics', 'Childrens'), ('Classics', 'Fiction', 'Historical'), ('Classics', 'Fiction', 'Literature'), ('Classics', 'Nonfiction', 'Autobiography'), ('Fiction', 'Religion', 'Classics'), ('ScienceFiction', 'Fiction', 'Classics'), ('Historical', 'HistoricalFiction', 'Fiction'), ('Fiction', 'Classics', 'EuropeanLiterature'), ('Classics', 'Fiction', 'YoungAdult'), ('Fiction', 'Classics', 'Historical'), ('Classics', 'Fiction', 'Literature'), ('Fantasy', 'YoungAdult', 'Fiction'), ('Fantasy', 'YoungAdult', 'Fiction'), ('Fiction', 'Horror', 'Fantasy'), ('Historical', 'HistoricalFiction', 'YoungAdult'), ('Poetry', 'Classics', 'Literature'), ('Fiction', 'Historical', 'HistoricalFiction'), ('Historical', 'HistoricalFiction', 'Fiction'), ('Plays', 'Classics', 'Fiction'), ('Fiction', 'ScienceFiction', 'Apocalyptic'), ('ScienceFiction', 'Fiction', 'Fantasy'), ('History', 'Nonfiction', 'War'), ('Fantasy', 'YoungAdult', 'Fiction'), ('Fiction', 'Historical', 'HistoricalFiction'), ('Childrens', 'PictureBooks', 'Childrens'), ('Fiction', 'Fantasy', 'Humor'), ('Science', 'Nonfiction', 'Philosophy'), ('Historical', 'HistoricalFiction', 'Fiction'), ('ScienceFiction', 'Fiction', 'Fantasy'), ('Fiction', 'Fantasy', 'Historical'), ('ScienceFiction', 'Fiction', 'ScienceFictionFantasy'), ('Fiction', 'Contemporary', 'LiteraryFiction'), ('ScienceFiction', 'Fiction', 'Classics'), ('Fiction', 'Horror', 'Classics'), ('Fiction', 'Classics', 'Literature'), ('Nonfiction', 'History', 'WorldWarII'), ('Fiction', 'Classics', 'ShortStories'), ('Nonfiction', 'Classics', 'Autobiography'), ('Fiction', 'Classics', 'Literature'), ('Fiction', 'Mystery', 'Literature'), ('Horror', 'Fiction', 'Thriller'), ('ScienceFiction', 'ShortStories', 'Fiction'), ('ScienceFiction', 'Fiction', 'Classics'), ('Nonfiction', 'Travel', 'Biography'), ('Fiction', 'Mystery', 'Thriller'), ('Christian', 'Fiction', 'Religion'), ('History', 'Nonfiction', 'Politics'), ('ScienceFiction', 'Fiction', 'Fantasy'), ('Historical', 'HistoricalFiction', 'Fiction'), ('Fantasy', 'Fiction', 'Romance'), ('Fiction', 'Contemporary', 'Classics'), ('Fiction', 'Historical', 'HistoricalFiction'), ('Nonfiction', 'Writing', 'BooksAboutBooks'), ('Fiction', 'Poetry', 'Classics'), ('Fantasy', 'Childrens', 'Classics'), ('Fiction', 'Cultural', 'France'), ('Fantasy', 'Fiction', 'Classics'), ('ShortStories', 'Fiction', 'Classics'), ('Nonfiction', 'Autobiography', 'Memoir'), ('ScienceFiction', 'Fiction', 'ScienceFiction'), ('Fiction', 'Fantasy', 'Classics'), ('Classics', 'Fiction', 'EuropeanLiterature'), ('Fiction', 'Novels', 'Classics'), ('Nonfiction', 'History', 'Autobiography'), ('Fiction', 'Classics', 'Historical'), ('Fiction', 'Classics', 'Cultural'), ('Fantasy', 'Historical', 'HistoricalFiction'), ('Historical', 'HistoricalFiction', 'Romance'), ('Fiction', 'Music', 'Contemporary'), ('Psychology', 'Nonfiction', 'Philosophy'), ('Mystery', 'Fiction', 'Humor'), ('Poetry', 'Classics', 'Romance'), ('ScienceFiction', 'Fiction', 'Classics'), ('Fiction', 'ShortStories', 'Classics'), ('Fiction', 'Sports', 'Baseball'), ('Historical', 'HistoricalFiction', 'Fiction'), ('Fiction', 'Classics', 'Literature'), ('Nonfiction', 'History', 'Classics'), ('Fiction', 'Classics', 'ShortStories'), ('Fiction', 'Contemporary', 'Humor'), ('Classics', 'Fiction', 'Historical'), ('SelfHelp', 'Nonfiction', 'Business'), ('Fiction', 'Classics', 'MagicalRealism'), ('Nonfiction', 'Biography', 'Classics'), ('Feminism', 'Nonfiction', 'Classics'), ('Poetry', 'Classics', 'Fiction'), ('Classics', 'ShortStories', 'Fiction'), ('Fiction', 'Thriller', 'Mystery'), ('Plays', 'Drama', 'Classics'), ('SequentialArt', 'GraphicNovels', 'SequentialArt'), ('Fantasy', 'Fiction', 'YoungAdult'), ('Nonfiction', 'Travel', 'Humor'), ('Fiction', 'Philosophy', 'Spirituality'), ('Mystery', 'Fiction', 'Mystery'), ('Historical', 'HistoricalFiction', 'Fiction'), ('Fiction', 'Classics', 'Literature'), ('Classics', 'Nonfiction', 'Autobiography'), ('Fantasy', 'Fiction', 'Classics'), ('Fiction', 'EuropeanLiterature', 'IrishLiterature'), ('Fiction', 'YoungAdult', 'Classics'), ('Historical', 'HistoricalFiction', 'Fiction'), ('Fiction', 'Classics', 'EuropeanLiterature'), ('Fiction', 'Historical', 'HistoricalFiction'), ('Fiction', 'Classics', 'Historical'), ('Fiction', 'Historical', 'HistoricalFiction'), ('Plays', 'Philosophy', 'Drama'), ('Childrens', 'PictureBooks', 'Childrens'), ('Nonfiction', 'Autobiography', 'Memoir'), ('Philosophy', 'Nonfiction', 'Writing'), ('Fiction', 'Contemporary', 'Literature'), ('Historical', 'HistoricalFiction', 'Romance'), ('Fiction', 'Novels', 'Literature'), ('Historical', 'HistoricalFiction', 'Classics'), ('Fiction', 'Classics', 'Humor'), ('Fiction', 'Mystery', 'Thriller'), ('Fiction', 'Classics', 'Historical'), ('Fiction', 'Fantasy', 'Cultural'), ('History', 'Nonfiction', 'Politics'), ('Fantasy', 'YoungAdult', 'Classics'), ('Psychology', 'Nonfiction', 'Philosophy'), ('Fiction', 'Historical', 'HistoricalFiction'), ('Fantasy', 'Fiction', 'Classics'), ('Fiction', 'Humor', 'Novels'), ('Fiction', 'Historical', 'HistoricalFiction'), ('Fiction', 'Classics', 'EuropeanLiterature'), ('Poetry', 'EuropeanLiterature', 'GermanLiterature'), ('Philosophy', 'Nonfiction', 'Politics'), ('Horror', 'Fiction', 'Classics'), ('Poetry', 'Classics', 'Literature'), ('Fiction', 'Historical', 'HistoricalFiction'), ('Plays', 'Drama', 'LGBT'), ('ScienceFiction', 'Fiction', 'ScienceFiction'), ('Fiction', 'ScienceFiction', 'ScienceFiction'), ('Fiction', 'Classics', 'Mystery'), ('Fiction', 'Humor', 'Classics'), ('Fiction', 'Cultural', 'Canada'), ('Historical', 'HistoricalFiction', 'Fiction'), ('Poetry', 'Classics', 'Literature'), ('Classics', 'Fiction', 'Adventure'), ('Science', 'Nonfiction', 'Philosophy'), ('Horror', 'Fiction', 'Classics'), ('Fiction', 'ScienceFiction', 'Classics'), ('Fiction', 'Classics', 'EuropeanLiterature'), ('Nonfiction', 'History', 'Religion'), ('Science', 'Nonfiction', 'Science'), ('Fantasy', 'Fiction', 'Humor'), ('Horror', 'Fantasy', 'Fiction'), ('Plays', 'Classics', 'Drama'), ('Fiction', 'Poetry', 'ShortStories'), ('Fiction', 'Classics', 'Literature'), ('Fiction', 'Literature', 'Novels'), ('Fiction', 'Classics', 'Literature'), ('Nonfiction', 'Environment', 'Nature'), ('Fiction', 'Cultural', 'France'), ('Horror', 'Fiction', 'ScienceFiction'), ('Classics', 'Fiction', 'Literature'), ('Romance', 'Fiction', 'WomensFiction'), ('Fiction', 'Classics', 'Historical'), ('Poetry', 'Classics', 'Feminism'), ('ScienceFiction', 'Fiction', 'Classics'), ('ScienceFiction', 'ScienceFiction', 'TimeTravel'), ('Fiction', 'LiteraryFiction', 'Contemporary'), ('Fiction', 'Contemporary', 'LiteraryFiction'), ('Science', 'Nonfiction', 'Science'), ('Fiction', 'Humor', 'Literature'), ('Fiction', 'Thriller', 'Mystery'), ('Classics', 'Historical', 'HistoricalFiction'), ('Horror', 'Fiction', 'ScienceFiction'), ('Classics', 'Fiction', 'Cultural'), ('Fantasy', 'ScienceFiction', 'Fantasy'), ('Fiction', 'Spirituality', 'Philosophy'), ('Fiction', 'Mystery', 'Contemporary'), ('Fiction', 'Classics', 'ScienceFiction'), ('Fiction', 'Classics', 'Literature'), ('Romance', 'Fiction', 'Classics'), ('Classics', 'Fiction', 'Cultural'), ('Psychology', 'Philosophy', 'Nonfiction'), ('ScienceFiction', 'Fiction', 'Classics'), ('Nonfiction', 'History', 'Science'), ('Classics', 'Fiction', 'Childrens'), ('Philosophy', 'Nonfiction', 'Religion'), ('Nonfiction', 'Crime', 'TrueCrime'), ('Classics', 'Fiction', 'Historical'), ('Horror', 'Fiction', 'Thriller'), ('Classics', 'Fiction', 'Literature'), ('Philosophy', 'Fiction', 'Classics'), ('Historical', 'HistoricalFiction', 'Fiction'), ('Fiction', 'Cultural', 'Africa'), ('Horror', 'Fiction', 'Thriller'), ('Fiction', 'Classics', 'Cultural'), ('Fiction', 'Classics', 'EuropeanLiterature'), ('Poetry', 'ShortStories', 'Fiction'), ('Fiction', 'Fantasy', 'Classics'), ('Fiction', 'Contemporary', 'Drama'), ('Fiction', 'Historical', 'HistoricalFiction'), ('Historical', 'HistoricalFiction', 'YoungAdult'), ('Nonfiction', 'Autobiography', 'Memoir'), ('Fiction', 'Classics', 'Literature'), ('Fiction', 'ScienceFiction', 'Historical'), ('Mystery', 'Fiction', 'Classics'), ('History', 'Nonfiction', 'War'), ('ScienceFiction', 'Fiction', 'Fantasy'), ('Poetry', 'Classics', 'Fiction'), ('Classics', 'Fiction', 'Historical'), ('ShortStories', 'Fiction', 'Classics'), ('Fiction', 'Classics', 'Humor'), ('Travel', 'Nonfiction', 'History'), ('Classics', 'Fantasy', 'Childrens'), ('Fiction', 'Thriller', 'Mystery'), ('YoungAdult', 'Fiction', 'Contemporary'), ('Horror', 'Classics', 'Fiction'), ('ScienceFiction', 'Fiction', 'Fantasy'), ('Fiction', 'Classics', 'MagicalRealism'), ('History', 'Nonfiction', 'War'), ('Fiction', 'Classics', 'Novels'), ('Nonfiction', 'Autobiography', 'Memoir'), ('Fiction', 'Horror', 'YoungAdult'), ('Historical', 'HistoricalFiction', 'Fiction'), ('Nonfiction', 'Psychology', 'Science'), ('Fiction', 'Religion', 'Historical'), ('Fiction', 'WomensFiction', 'ChickLit'), ('Fiction', 'American', 'Southern'), ('Fiction', 'Historical', 'HistoricalFiction'), ('Education', 'Nonfiction', 'Philosophy'), ('Fiction', 'Classics', 'Literature'), ('Historical', 'HistoricalFiction', 'Fiction'), ('Classics', 'Nonfiction', 'Philosophy'), ('Classics', 'Fiction', 'Literature'), ('Nonfiction', 'History', 'Classics'), ('Fiction', 'YoungAdult', 'Childrens'), ('Horror', 'Fiction', 'Fantasy'), ('Historical', 'HistoricalFiction', 'Fiction'), ('History', 'Nonfiction', 'War'), ('Historical', 'HistoricalFiction', 'Fiction'), ('Classics', 'Historical', 'HistoricalFiction'), ('Fiction', 'Romance', 'Historical'), ('Fiction', 'Classics', 'Literature'), ('Fantasy', 'Fiction', 'Fantasy'), ('Fantasy', 'Fiction', 'Childrens'), ('Fiction', 'ShortStories', 'Poetry'), ('Fiction', 'Classics', 'Historical'), ('Fiction', 'Classics', 'Literature'), ('Fiction', 'Historical', 'HistoricalFiction'), ('Fiction', 'Childrens', 'YoungAdult'), ('Plays', 'Drama', 'Classics'), ('Fiction', 'Classics', 'Literature'), ('Poetry', 'Childrens', 'Classics'), ('Philosophy', 'History', 'Nonfiction'), ('SequentialArt', 'GraphicNovels', 'Nonfiction'), ('Fiction', 'Romance', 'MagicalRealism'), ('Historical', 'HistoricalFiction', 'Childrens'), ('Childrens', 'Fiction', 'YoungAdult'), ('Fiction', 'Historical', 'HistoricalFiction'), ('Fiction', 'Classics', 'War'), ('Mystery', 'Fiction', 'Classics'), ('Fiction', 'Classics', 'LiteraryFiction'), ('Fiction', 'Classics', 'Gothic'), ('Fiction', 'Classics', 'Historical'), ('Fiction', 'Philosophy', 'Spirituality'), ('Fiction', 'Classics', 'ShortStories'), ('Fiction', 'Novels', 'EuropeanLiterature'), ('Fiction', 'Classics', 'Literature'), ('Fiction', 'Thriller', 'Mystery'), ('Travel', 'Nonfiction', 'Autobiography'), ('Fiction', 'Literature', 'Gothic'), ('Fiction', 'Historical', 'HistoricalFiction'), ('Classics', 'Fiction', 'Literature'), ('Classics', 'Fiction', 'Literature'), ('Fiction', 'Historical', 'HistoricalFiction'), ('Fiction', 'LiteraryFiction', 'Contemporary'), ('Horror', 'Fantasy', 'Paranormal'), ('ScienceFiction', 'Fiction', 'War'), ('Fiction', 'Classics', 'EuropeanLiterature'), ('Fiction', 'Classics', 'Literature'), ('Fiction', 'Classics', 'Historical'), ('Fiction', 'Thriller', 'Mystery'), ('Fiction', 'Humor', 'Literature'), ('Childrens', 'Childrens', 'PictureBooks'), ('Classics', 'Fiction', 'Adventure'), ('Nonfiction', 'Environment', 'Nature'), ('Fantasy', 'Childrens', 'Fiction'), ('Fiction', 'SpyThriller', 'Espionage'), ('SequentialArt', 'Comics', 'SequentialArt'), ('Science', 'Nonfiction', 'Biography'), ('Historical', 'HistoricalFiction', 'Fiction'), ('Historical', 'HistoricalFiction', 'Romance'), ('Fiction', 'Fantasy', 'Cultural'), ('Historical', 'HistoricalFiction', 'Fiction'), ('Childrens', 'Fiction', 'Childrens'), ('Fiction', 'Horror', 'Thriller'), ('Horror', 'Fiction', 'Thriller'), ('Horror', 'Fiction', 'Thriller'), ('Horror', 'Fiction', 'Thriller'), ('Fiction', 'LiteraryFiction', 'Contemporary'), ('Plays', 'Classics', 'Drama'), ('ScienceFiction', 'Fiction', 'Classics'), ('FoodandDrink', 'Cookbooks', 'FoodandDrink'), ('Nonfiction', 'Autobiography', 'Memoir'), ('Sociology', 'Philosophy', 'Nonfiction'), ('Fiction', 'Classics', 'EuropeanLiterature'), ('Mystery', 'Fiction', 'Classics'), ('Mystery', 'Fiction', 'Historical'), ('Fiction', 'ShortStories', 'ScienceFiction'), ('Horror', 'Fiction', 'Classics'), ('Fiction', 'Historical', 'HistoricalFiction'), ('Romance', 'Fiction', 'WomensFiction'), ('Classics', 'Fiction', 'EuropeanLiterature'), ('Fiction', 'Thriller', 'Mystery'), ('Fantasy', 'Fiction', 'Fantasy'), ('Fiction', 'Classics', 'Mystery'), ('Fiction', 'Romance', 'WomensFiction'), ('Historical', 'HistoricalFiction', 'Fiction'), ('Fiction', 'Classics', 'Historical'), ('Classics', 'Fiction', 'Historical'), ('Nonfiction', 'Environment', 'Nature'), ('Fiction', 'Classics', 'Humor'), ('Childrens', 'PictureBooks', 'Childrens'), ('Fiction', 'EuropeanLiterature', 'GermanLiterature'), ('Poetry', 'Classics', 'Literature'), ('Fiction', 'Contemporary', 'Cultural'), ('Historical', 'HistoricalFiction', 'Fiction'), ('Fiction', 'Thriller', 'Mystery'), ('Poetry', 'Classics', 'EuropeanLiterature'), ('Fantasy', 'Classics', 'Fiction'), ('Fiction', 'Feminism', 'Classics'), ('Philosophy', 'Religion', 'Nonfiction'), ('Philosophy', 'Nonfiction', 'History'), ('ShortStories', 'Fiction', 'Classics'), ('Historical', 'HistoricalFiction', 'Fiction'), ('Fiction', 'Classics', 'Thriller'), ('Childrens', 'Childrens', 'PictureBooks'), ('Plays', 'Classics', 'Drama'), ('History', 'Nonfiction', 'Education'), ('Crime', 'TrueCrime', 'Nonfiction'), ('Fiction', 'Thriller', 'SpyThriller'), ('Fiction', 'Classics', 'EuropeanLiterature'), ('Poetry', 'Classics', 'EuropeanLiterature'), ('Nonfiction', 'Writing', 'Essays'), ('ShortStories', 'Fiction', 'Classics'), ('Fiction', 'Cultural', 'India'), ('Poetry', 'Classics', 'Womens'), ('Classics', 'Fiction', 'YoungAdult'), ('Fiction', 'Cultural', 'Russia'), ('Fiction', 'Classics', 'Thriller'), ('Fiction', 'Humor', 'Classics'), ('Fiction', 'Humor', 'ShortStories'), ('Nonfiction', 'History', 'Philosophy'), ('Nonfiction', 'Autobiography', 'Memoir'), ('Mystery', 'Fiction', 'Cultural'), ('Fiction', 'Classics', 'Literature'), ('Fiction', 'Classics', 'Mystery'), ('Nonfiction', 'History', 'Biography'), ('Fantasy', 'Fiction', 'ScienceFiction'), ('Fantasy', 'YoungAdult', 'Fiction'), ('Fiction', 'Classics', 'Literature'), ('Fiction', 'Contemporary', 'Novels'), ('Fiction', 'EuropeanLiterature', 'PolishLiterature'), ('Fantasy', 'YoungAdult', 'Fiction'), ('Horror', 'Fiction', 'Apocalyptic'), ('Fiction', 'Classics', 'Literature'), ('ScienceFiction', 'Fiction', 'ScienceFiction'), ('Fiction', 'ShortStories', 'Philosophy'), ('Fiction', 'Classics', 'Literature'), ('ShortStories', 'Fiction', 'Classics'), ('Historical', 'HistoricalFiction', 'Fiction'), ('Nonfiction', 'Science', 'History'), ('Fiction', 'Classics', 'War'), ('Nonfiction', 'Writing', 'Essays'), ('Historical', 'HistoricalFiction', 'Fiction'), ('Fiction', 'Cultural', 'Canada'), ('History', 'Nonfiction', 'Biography'), ('Feminism', 'Nonfiction', 'Sociology'), ('Fantasy', 'Fiction', 'Humor'), ('ScienceFiction', 'Fiction', 'Classics'), ('Poetry', 'Plays', 'Classics'), ('Nonfiction', 'History', 'Adventure'), ('Nonfiction', 'Autobiography', 'Memoir'), ('Fiction', 'Cultural', 'Russia'), ('Historical', 'HistoricalFiction', 'Fiction'), ('History', 'Nonfiction', 'Biography'), ('Plays', 'Drama', 'Fiction'), ('Fantasy', 'Fiction', 'Fantasy'), ('Fiction', 'Literature', 'Jewish'), ('Fiction', 'Classics', 'Cultural'), ('Fiction', 'Classics', 'Fantasy'), ('Historical', 'HistoricalFiction', 'YoungAdult'), ('Fiction', 'Classics', 'EuropeanLiterature'), ('Historical', 'HistoricalFiction', 'Fiction'), ('Fiction', 'Mystery', 'Thriller'), ('Classics', 'Fiction', 'Historical'), ('Mystery', 'Fiction', 'Classics'), ('Economics', 'Politics', 'Philosophy'), ('Poetry', 'Classics', 'Fiction'), ('Fiction', 'Travel', 'Thriller'), ('Fiction', 'Classics', 'Literature'), ('Historical', 'HistoricalFiction', 'Fiction'), ('Fantasy', 'Fiction', 'Fantasy'), ('Classics', 'Historical', 'HistoricalFiction'), ('Classics', 'Historical', 'HistoricalFiction'), ('Fantasy', 'Romance', 'Fiction'), ('Nonfiction', 'Autobiography', 'Memoir'), ('Fantasy', 'YoungAdult', 'Fiction'), ('Fiction', 'Classics', 'Novels'), ('Historical', 'HistoricalFiction', 'Fiction'), ('Fiction', 'Classics', 'Thriller'), ('Fiction', 'Classics', 'Novels'), ('SequentialArt', 'GraphicNovels', 'SequentialArt'), ('Mystery', 'Fiction', 'Mystery'), ('Fiction', 'Classics', 'Literature'), ('Fiction', 'Cultural', 'Japan'), ('Fiction', 'Contemporary', 'Thriller'), ('Fiction', 'Mystery', 'Mystery'), ('Classics', 'Fiction', 'YoungAdult'), ('Fiction', 'EuropeanLiterature', 'CzechLiterature'), ('SelfHelp', 'Nonfiction', 'Psychology'), ('ScienceFiction', 'Fiction', 'Classics'), ('Nonfiction', 'History', 'Biography'), ('Science', 'Philosophy', 'Nonfiction'), ('Fiction', 'Historical', 'HistoricalFiction'), ('Fiction', 'Classics', 'Cultural'), ('Fantasy', 'ScienceFiction', 'Fantasy'), ('Philosophy', 'Nonfiction', 'Spirituality'), ('Horror', 'ScienceFiction', 'Fiction'), ('Philosophy', 'Nonfiction', 'Classics'), ('Humor', 'Nonfiction', 'Classics'), ('Fantasy', 'Fiction', 'Fantasy'), ('Fantasy', 'ScienceFiction', 'Fiction'), ('Psychology', 'Philosophy', 'Nonfiction'), ('Fantasy', 'Horror', 'Fiction'), ('Fantasy', 'Fiction', 'Humor'), ('Nonfiction', 'Autobiography', 'Memoir'), ('ScienceFiction', 'Fiction', 'ScienceFictionFantasy'), ('Nonfiction', 'Language', 'Writing'), ('Fiction', 'ShortStories', 'Fantasy'), ('Fiction', 'Contemporary', 'Thriller'), ('Christian', 'Religion', 'Theology'), ('Historical', 'HistoricalFiction', 'Fiction'), ('Mystery', 'Fiction', 'Thriller'), ('Travel', 'Nonfiction', 'Autobiography'), ('Fantasy', 'YoungAdult', 'Fiction'), ('Mystery', 'Fiction', 'Mystery'), ('ScienceFiction', 'Fiction', 'Thriller'), ('Mystery', 'YoungAdult', 'Fiction'), ('Classics', 'Fiction', 'YoungAdult'), ('Fiction', 'ScienceFiction', 'Fantasy'), ('Nonfiction', 'Science', 'History'), ('Fiction', 'Humor', 'Novels'), ('Fiction', 'EuropeanLiterature', 'CzechLiterature'), ('Historical', 'HistoricalFiction', 'Fiction'), ('Fiction', 'Classics', 'Cultural'), ('Fiction', 'Classics', 'Literature'), ('Fantasy', 'Fiction', 'Humor'), ('Mystery', 'Fiction', 'Mystery'), ('Childrens', 'PictureBooks', 'Childrens'), ('Fiction', 'Philosophy', 'EuropeanLiterature'), ('Biography', 'History', 'Politics'), ('Fiction', 'Contemporary', 'BookClub'), ('Fiction', 'War', 'Historical'), ('Fiction', 'Romance', 'Animals'), ('Fiction', 'Cultural', 'Canada'), ('Autobiography', 'Memoir', 'Nonfiction'), ('Horror', 'Fiction', 'Fantasy'), ('Fiction', 'Historical', 'HistoricalFiction'), ('Fantasy', 'ScienceFiction', 'Fantasy'), ('Historical', 'HistoricalFiction', 'Fiction'), ('Fiction', 'Historical', 'HistoricalFiction'), ('Classics', 'Fiction', 'Childrens'), ('Fiction', 'Westerns', 'Literature'), ('Fiction', 'Historical', 'HistoricalFiction'), ('Nonfiction', 'Classics', 'Autobiography'), ('Fiction', 'Historical', 'HistoricalFiction'), ('Fantasy', 'Fiction', 'ScienceFictionFantasy'), ('Classics', 'Fiction', 'Literature'), ('Fiction', 'Classics', 'YoungAdult'), ('Classics', 'Historical', 'HistoricalFiction'), ('Fiction', 'Cultural', 'Russia'), ('Historical', 'HistoricalFiction', 'Fiction'), ('WomensFiction', 'ChickLit', 'Fiction'), ('Fiction', 'ScienceFiction', 'ScienceFiction'), ('Poetry', 'Classics', 'Literature'), ('Fiction', 'YoungAdult', 'Childrens'), ('Horror', 'Fiction', 'Thriller'), ('Fiction', 'Classics', 'Contemporary'), ('Fiction', 'MagicalRealism', 'Classics'), ('Fiction', 'ScienceFiction', 'Classics'), ('ScienceFiction', 'Fiction', 'ScienceFictionFantasy'), ('Mystery', 'Fiction', 'Classics'), ('Fiction', 'Childrens', 'RealisticFiction'), ('Fiction', 'Historical', 'HistoricalFiction'), ('ShortStories', 'Classics', 'Horror'), ('Childrens', 'PictureBooks', 'Childrens'), ('Fiction', 'Historical', 'HistoricalFiction'), ('Fiction', 'Classics', 'Literature'), ('Historical', 'HistoricalFiction', 'Fiction'), ('ShortStories', 'Fiction', 'Westerns'), ('Horror', 'Fiction', 'Fantasy'), ('Historical', 'HistoricalFiction', 'Fiction'), ('Psychology', 'Philosophy', 'Nonfiction'), ('Fiction', 'Contemporary', 'LiteraryFiction'), ('Fiction', 'Thriller', 'Mystery'), ('Fiction', 'Poetry', 'ShortStories'), ('SequentialArt', 'GraphicNovels', 'SequentialArt'), ('Historical', 'HistoricalFiction', 'Fiction'), ('Historical', 'HistoricalFiction', 'Fiction'), ('Classics', 'Fiction', 'Literature'), ('Nonfiction', 'Politics', 'Economics'), ('Horror', 'Fiction', 'Thriller'), ('Language', 'Writing', 'Nonfiction'), ('Fiction', 'Classics', 'Novels'), ('Mystery', 'Fiction', 'Classics'), ('History', 'Nonfiction', 'Biography'), ('Fiction', 'Historical', 'HistoricalFiction'), ('Classics', 'Fiction', 'Romance'), ('Nonfiction', 'Autobiography', 'Memoir'), ('Fiction', 'Classics', 'Historical'), ('History', 'Biography', 'Nonfiction'), ('Fiction', 'Classics', 'EuropeanLiterature'), ('Classics', 'Fiction', 'Childrens'), ('Fantasy', 'Romance', 'Fantasy'), ('Historical', 'HistoricalFiction', 'Fiction'), ('Historical', 'HistoricalFiction', 'Fiction'), ('Fiction', 'Classics', 'EuropeanLiterature'), ('Historical', 'HistoricalFiction', 'Fiction'), ('Fiction', 'Thriller', 'Historical'), ('Fiction', 'WomensFiction', 'ChickLit'), ('Fiction', 'Classics', 'Literature'), ('Nonfiction', 'History', 'Biography'), ('ScienceFiction', 'ScienceFiction', 'TimeTravel'), ('Classics', 'Fiction', 'YoungAdult'), ('Fiction', 'Classics', 'Historical'), ('Fiction', 'Cultural', 'France'), ('History', 'Nonfiction', 'Philosophy'), ('YoungAdult', 'Fiction', 'Adventure'), ('Fiction', 'Contemporary', 'Novels'), ('Fantasy', 'Fantasy', 'UrbanFantasy'), ('Fiction', 'Contemporary', 'Novels'), ('Autobiography', 'Memoir', 'Nonfiction'), ('Fiction', 'American', 'Southern'), ('Nonfiction', 'History', 'War'), ('Historical', 'HistoricalFiction', 'Fiction'), ('Historical', 'HistoricalFiction', 'Fiction'), ('Horror', 'Fiction', 'Thriller'), ('Nonfiction', 'Classics', 'Biography'), ('Fiction', 'ScienceFiction', 'Fantasy'), ('Fantasy', 'Fiction', 'Fantasy'), ('Classics', 'Fiction', 'YoungAdult'), ('Plays', 'Drama', 'Classics'), ('Fiction', 'Classics', 'Literature'), ('Fiction', 'Classics', 'Cultural'), ('Fantasy', 'Fiction', 'Fantasy'), ('Historical', 'HistoricalFiction', 'Fiction'), ('Fiction', 'Historical', 'HistoricalFiction'), ('Fiction', 'Classics', 'Literature'), ('Fiction', 'Classics', 'Literature'), ('Fiction', 'Classics', 'YoungAdult'), ('Fiction', 'Classics', 'Mystery'), ('ScienceFiction', 'Fiction', 'Fantasy'), ('Historical', 'HistoricalFiction', 'Fiction'), ('Fantasy', 'ScienceFiction', 'Fantasy'), ('Historical', 'HistoricalFiction', 'Fiction'), ('Classics', 'Fiction', 'EuropeanLiterature'), ('Fiction', 'EuropeanLiterature', 'GermanLiterature'), ('Fantasy', 'Fiction', 'MagicalRealism'), ('Fantasy', 'SequentialArt', 'GraphicNovels'), ('Holiday', 'Christmas', 'Childrens'), ('Fiction', 'Classics', 'Literature'), ('Fantasy', 'Fiction', 'Humor'), ('Fiction', 'ShortStories', 'LGBT'), ('Fiction', 'YoungAdult', 'Drama'), ('Plays', 'Drama', 'Cultural'), ('Fiction', 'Classics', 'Literature'), ('Fiction', 'Contemporary', 'Philosophy'), ('Fiction', 'Mystery', 'Mystery'), ('Fiction', 'Classics', 'Art'), ('Historical', 'HistoricalFiction', 'Fiction'), ('Fantasy', 'Fiction', 'Humor'), ('Fiction', 'Historical', 'HistoricalFiction'), ('Fiction', 'Cultural', 'Africa'), ('Fantasy', 'Childrens', 'Classics'), ('ScienceFiction', 'Fiction', 'ScienceFictionFantasy'), ('Historical', 'HistoricalFiction', 'Fiction'), ('Fiction', 'Historical', 'HistoricalFiction'), ('Classics', 'Fiction', 'YoungAdult'), ('Science', 'Nonfiction', 'Biology'), ('Childrens', 'PictureBooks', 'Childrens'), ('ScienceFiction', 'Fiction', 'ScienceFiction'), ('Classics', 'Fiction', 'Cultural'), ('Horror', 'Fiction', 'Thriller'), ('Poetry', 'Cultural', 'Russia'), ('Fantasy', 'Fiction', 'Historical'), ('Fiction', 'LGBT', 'GLBT'), ('Horror', 'Fantasy', 'Paranormal'), ('ScienceFiction', 'Fiction', 'Classics'), ('Nonfiction', 'Animals', 'Environment'), ('Historical', 'HistoricalFiction', 'Fiction'), ('Fiction', 'Historical', 'HistoricalFiction'), ('Nonfiction', 'History', 'Politics'), ('Fiction', 'Historical', 'HistoricalFiction'), ('ScienceFiction', 'Fiction', 'Space'), ('ChristianFiction', 'Christian', 'Fiction'), ('Nonfiction', 'Sociology', 'Science'), ('Classics', 'Fiction', 'YoungAdult'), ('Fiction', 'Classics', 'Literature'), ('Fiction', 'Classics', 'Historical'), ('Fiction', 'Cultural', 'France'), ('Fiction', 'Cultural', 'Japan'), ('Fiction', 'ShortStories', 'Classics'), ('Fiction', 'Historical', 'HistoricalFiction'), ('Mystery', 'Historical', 'HistoricalFiction'), ('ScienceFiction', 'Fiction', 'Religion'), ('Fiction', 'Cultural', 'Japan'), ('Historical', 'HistoricalFiction', 'Fiction'), ('Mystery', 'Fiction', 'Thriller'), ('SequentialArt', 'Comics', 'SequentialArt'), ('Fiction', 'Contemporary', 'LiteraryFiction'), ('YoungAdult', 'Fiction', 'Fantasy'), ('Fiction', 'Classics', 'Historical'), ('Fiction', 'MagicalRealism', 'Historical'), ('Fantasy', 'Fiction', 'Historical'), ('ShortStories', 'Fiction', 'Horror'), ('Fiction', 'ShortStories', 'Classics'), ('Fiction', 'ShortStories', 'EuropeanLiterature'), ('Fiction', 'ScienceFiction', 'Apocalyptic'), ('Fiction', 'Classics', 'Novels'), ('Fiction', 'EuropeanLiterature', 'GermanLiterature')]\n"
     ]
    },
    {
     "data": {
      "text/plain": [
       "996"
      ]
     },
     "execution_count": 176,
     "metadata": {},
     "output_type": "execute_result"
    }
   ],
   "source": [
    "T_genre = list(zip(* [iter(flat_list)]*3))\n",
    "\n",
    "T_genre = [tuple(x) for x in T_genre]\n",
    "\n",
    "print(T_genre)\n",
    "\n",
    "\n",
    "len(T_genre)"
   ]
  },
  {
   "cell_type": "code",
   "execution_count": null,
   "metadata": {
    "cell_id": "00008-a5b9d62d-669f-4742-a4e2-bf67ca3153b5",
    "deepnote_cell_type": "code",
    "deepnote_to_be_reexecuted": false,
    "execution_millis": 0,
    "execution_start": 1610637882375,
    "source_hash": "134b0cd5",
    "tags": []
   },
   "outputs": [
    {
     "data": {
      "text/plain": [
       "996"
      ]
     },
     "execution_count": 172,
     "metadata": {},
     "output_type": "execute_result"
    }
   ],
   "source": [
    "len(books[\"Genres\"])"
   ]
  },
  {
   "cell_type": "code",
   "execution_count": null,
   "metadata": {
    "cell_id": "00009-2289abb8-3e3f-4fb7-a10f-d64477f0cd7d",
    "deepnote_cell_type": "code",
    "deepnote_to_be_reexecuted": false,
    "execution_millis": 2,
    "execution_start": 1610637932280,
    "source_hash": "92e34d2a",
    "tags": []
   },
   "outputs": [
    {
     "data": {
      "text/plain": [
       "0                  ['Classics', 'Fiction', 'Historical']\n",
       "1             ['Classics', 'Fiction', 'Science Fiction']\n",
       "2                    ['Classics', 'Fiction', 'Academic']\n",
       "3                  ['Fantasy', 'Fiction', 'Young Adult']\n",
       "4                     ['Fantasy', 'Classics', 'Fiction']\n",
       "                             ...                        \n",
       "991             ['Fiction', 'Short Stories', 'Classics']\n",
       "992    ['Fiction', 'Short Stories', 'European Literat...\n",
       "993        ['Fiction', 'Science Fiction', 'Apocalyptic']\n",
       "994                    ['Fiction', 'Classics', 'Novels']\n",
       "995    ['Fiction', 'European Literature', 'German Lit...\n",
       "Name: Genres, Length: 996, dtype: object"
      ]
     },
     "execution_count": 177,
     "metadata": {},
     "output_type": "execute_result"
    }
   ],
   "source": [
    "books[\"Genres\"]"
   ]
  },
  {
   "cell_type": "code",
   "execution_count": null,
   "metadata": {
    "cell_id": "00008-13c76f58-8cee-481d-ae15-e625500707a4",
    "deepnote_cell_type": "code",
    "deepnote_to_be_reexecuted": false,
    "execution_millis": 0,
    "execution_start": 1610637935179,
    "source_hash": "f9193429",
    "tags": []
   },
   "outputs": [],
   "source": [
    "books['Genres'] = T_genre"
   ]
  },
  {
   "cell_type": "code",
   "execution_count": null,
   "metadata": {
    "cell_id": "00010-af64db92-a53a-4c70-a3d1-32ddcb460c39",
    "deepnote_cell_type": "code",
    "deepnote_to_be_reexecuted": false,
    "execution_millis": 0,
    "execution_start": 1610637667019,
    "source_hash": "1ef5203",
    "tags": []
   },
   "outputs": [
    {
     "name": "stdout",
     "output_type": "stream",
     "text": [
      "<class 'list'>\n"
     ]
    }
   ],
   "source": [
    "print(type(T_genre))"
   ]
  },
  {
   "cell_type": "code",
   "execution_count": null,
   "metadata": {
    "cell_id": "00009-abb72a57-03cd-4041-9cf5-e2dbb611c090",
    "deepnote_cell_type": "code",
    "deepnote_to_be_reexecuted": false,
    "execution_millis": 193,
    "execution_start": 1610637938680,
    "source_hash": "bf8568ef",
    "tags": []
   },
   "outputs": [
    {
     "data": {
      "application/vnd.deepnote.dataframe.v2+json": {
       "column_count": 14,
       "columns": [
        {
         "dtype": "int64",
         "name": "Unnamed: 0",
         "stats": {
          "histogram": [
           {
            "bin_end": 99.5,
            "bin_start": 0,
            "count": 100
           },
           {
            "bin_end": 199,
            "bin_start": 99.5,
            "count": 99
           },
           {
            "bin_end": 298.5,
            "bin_start": 199,
            "count": 100
           },
           {
            "bin_end": 398,
            "bin_start": 298.5,
            "count": 99
           },
           {
            "bin_end": 497.5,
            "bin_start": 398,
            "count": 100
           },
           {
            "bin_end": 597,
            "bin_start": 497.5,
            "count": 99
           },
           {
            "bin_end": 696.5,
            "bin_start": 597,
            "count": 100
           },
           {
            "bin_end": 796,
            "bin_start": 696.5,
            "count": 99
           },
           {
            "bin_end": 895.5,
            "bin_start": 796,
            "count": 100
           },
           {
            "bin_end": 995,
            "bin_start": 895.5,
            "count": 100
           }
          ],
          "max": 995,
          "min": 0,
          "nan_count": 0,
          "unique_count": 996
         }
        },
        {
         "dtype": "object",
         "name": "Title",
         "stats": {
          "categories": [
           {
            "count": 2,
            "name": "The Complete Stories"
           },
           {
            "count": 2,
            "name": "Collected Poems"
           },
           {
            "count": 992,
            "name": "992 others"
           }
          ],
          "nan_count": 0,
          "unique_count": 994
         }
        },
        {
         "dtype": "object",
         "name": "Author",
         "stats": {
          "categories": [
           {
            "count": 19,
            "name": "Stephen King"
           },
           {
            "count": 13,
            "name": "C.S. Lewis"
           },
           {
            "count": 964,
            "name": "587 others"
           }
          ],
          "nan_count": 0,
          "unique_count": 589
         }
        },
        {
         "dtype": "int64",
         "name": "Rating Count",
         "stats": {
          "histogram": [
           {
            "bin_end": 728503.7,
            "bin_start": 395,
            "count": 938
           },
           {
            "bin_end": 1456612.4,
            "bin_start": 728503.7,
            "count": 34
           },
           {
            "bin_end": 2184721.0999999996,
            "bin_start": 1456612.4,
            "count": 9
           },
           {
            "bin_end": 2912829.8,
            "bin_start": 2184721.0999999996,
            "count": 10
           },
           {
            "bin_end": 3640938.5,
            "bin_start": 2912829.8,
            "count": 2
           },
           {
            "bin_end": 4369047.199999999,
            "bin_start": 3640938.5,
            "count": 1
           },
           {
            "bin_end": 5097155.899999999,
            "bin_start": 4369047.199999999,
            "count": 1
           },
           {
            "bin_end": 5825264.6,
            "bin_start": 5097155.899999999,
            "count": 0
           },
           {
            "bin_end": 6553373.3,
            "bin_start": 5825264.6,
            "count": 0
           },
           {
            "bin_end": 7281482,
            "bin_start": 6553373.3,
            "count": 1
           }
          ],
          "max": 7281482,
          "min": 395,
          "nan_count": 0,
          "unique_count": 995
         }
        },
        {
         "dtype": "int64",
         "name": "Review Count",
         "stats": {
          "histogram": [
           {
            "bin_end": 11542.6,
            "bin_start": 8,
            "count": 860
           },
           {
            "bin_end": 23077.2,
            "bin_start": 11542.6,
            "count": 86
           },
           {
            "bin_end": 34611.8,
            "bin_start": 23077.2,
            "count": 28
           },
           {
            "bin_end": 46146.4,
            "bin_start": 34611.8,
            "count": 6
           },
           {
            "bin_end": 57681,
            "bin_start": 46146.4,
            "count": 6
           },
           {
            "bin_end": 69215.6,
            "bin_start": 57681,
            "count": 5
           },
           {
            "bin_end": 80750.2,
            "bin_start": 69215.6,
            "count": 2
           },
           {
            "bin_end": 92284.8,
            "bin_start": 80750.2,
            "count": 1
           },
           {
            "bin_end": 103819.40000000001,
            "bin_start": 92284.8,
            "count": 1
           },
           {
            "bin_end": 115354,
            "bin_start": 103819.40000000001,
            "count": 1
           }
          ],
          "max": 115354,
          "min": 8,
          "nan_count": 0,
          "unique_count": 952
         }
        },
        {
         "dtype": "float64",
         "name": "Rating Value",
         "stats": {
          "histogram": [
           {
            "bin_end": 3.319,
            "bin_start": 3.17,
            "count": 1
           },
           {
            "bin_end": 3.468,
            "bin_start": 3.319,
            "count": 2
           },
           {
            "bin_end": 3.617,
            "bin_start": 3.468,
            "count": 12
           },
           {
            "bin_end": 3.766,
            "bin_start": 3.617,
            "count": 65
           },
           {
            "bin_end": 3.915,
            "bin_start": 3.766,
            "count": 154
           },
           {
            "bin_end": 4.064,
            "bin_start": 3.915,
            "count": 257
           },
           {
            "bin_end": 4.213,
            "bin_start": 4.064,
            "count": 272
           },
           {
            "bin_end": 4.362,
            "bin_start": 4.213,
            "count": 178
           },
           {
            "bin_end": 4.511,
            "bin_start": 4.362,
            "count": 47
           },
           {
            "bin_end": 4.66,
            "bin_start": 4.511,
            "count": 8
           }
          ],
          "max": 4.66,
          "min": 3.17,
          "nan_count": 0,
          "unique_count": 106
         }
        },
        {
         "dtype": "float64",
         "name": "N pag",
         "stats": {
          "histogram": [
           {
            "bin_end": 1498.4,
            "bin_start": 23,
            "count": 988
           },
           {
            "bin_end": 2973.8,
            "bin_start": 1498.4,
            "count": 4
           },
           {
            "bin_end": 4449.200000000001,
            "bin_start": 2973.8,
            "count": 1
           },
           {
            "bin_end": 5924.6,
            "bin_start": 4449.200000000001,
            "count": 0
           },
           {
            "bin_end": 7400,
            "bin_start": 5924.6,
            "count": 0
           },
           {
            "bin_end": 8875.400000000001,
            "bin_start": 7400,
            "count": 0
           },
           {
            "bin_end": 10350.800000000001,
            "bin_start": 8875.400000000001,
            "count": 0
           },
           {
            "bin_end": 11826.2,
            "bin_start": 10350.800000000001,
            "count": 0
           },
           {
            "bin_end": 13301.6,
            "bin_start": 11826.2,
            "count": 0
           },
           {
            "bin_end": 14777,
            "bin_start": 13301.6,
            "count": 1
           }
          ],
          "max": 14777,
          "min": 23,
          "nan_count": 2,
          "unique_count": 493
         }
        },
        {
         "dtype": "float64",
         "name": "1st Pub",
         "stats": {
          "histogram": [
           {
            "bin_end": 1910.3,
            "bin_start": 1900,
            "count": 32
           },
           {
            "bin_end": 1920.6,
            "bin_start": 1910.3,
            "count": 32
           },
           {
            "bin_end": 1930.9,
            "bin_start": 1920.6,
            "count": 59
           },
           {
            "bin_end": 1941.2,
            "bin_start": 1930.9,
            "count": 75
           },
           {
            "bin_end": 1951.5,
            "bin_start": 1941.2,
            "count": 88
           },
           {
            "bin_end": 1961.8,
            "bin_start": 1951.5,
            "count": 126
           },
           {
            "bin_end": 1972.1,
            "bin_start": 1961.8,
            "count": 128
           },
           {
            "bin_end": 1982.4,
            "bin_start": 1972.1,
            "count": 143
           },
           {
            "bin_end": 1992.7,
            "bin_start": 1982.4,
            "count": 150
           },
           {
            "bin_end": 2003,
            "bin_start": 1992.7,
            "count": 142
           }
          ],
          "max": 2003,
          "min": 1900,
          "nan_count": 21,
          "unique_count": 102
         }
        },
        {
         "dtype": "int64",
         "name": "series",
         "stats": {
          "histogram": [
           {
            "bin_end": 0.1,
            "bin_start": 0,
            "count": 645
           },
           {
            "bin_end": 0.2,
            "bin_start": 0.1,
            "count": 0
           },
           {
            "bin_end": 0.30000000000000004,
            "bin_start": 0.2,
            "count": 0
           },
           {
            "bin_end": 0.4,
            "bin_start": 0.30000000000000004,
            "count": 0
           },
           {
            "bin_end": 0.5,
            "bin_start": 0.4,
            "count": 0
           },
           {
            "bin_end": 0.6000000000000001,
            "bin_start": 0.5,
            "count": 0
           },
           {
            "bin_end": 0.7000000000000001,
            "bin_start": 0.6000000000000001,
            "count": 0
           },
           {
            "bin_end": 0.8,
            "bin_start": 0.7000000000000001,
            "count": 0
           },
           {
            "bin_end": 0.9,
            "bin_start": 0.8,
            "count": 0
           },
           {
            "bin_end": 1,
            "bin_start": 0.9,
            "count": 351
           }
          ],
          "max": 1,
          "min": 0,
          "nan_count": 0,
          "unique_count": 2
         }
        },
        {
         "dtype": "object",
         "name": "Genres",
         "stats": {
          "categories": [
           {
            "count": 54,
            "name": "('Historical', 'HistoricalFiction', 'Fiction')"
           },
           {
            "count": 46,
            "name": "('Fiction', 'Historical', 'HistoricalFiction')"
           },
           {
            "count": 896,
            "name": "343 others"
           }
          ],
          "nan_count": 0,
          "unique_count": 345
         }
        },
        {
         "dtype": "float64",
         "name": "Awards",
         "stats": {
          "histogram": [
           {
            "bin_end": 3.7,
            "bin_start": 1,
            "count": 415
           },
           {
            "bin_end": 6.4,
            "bin_start": 3.7,
            "count": 92
           },
           {
            "bin_end": 9.100000000000001,
            "bin_start": 6.4,
            "count": 27
           },
           {
            "bin_end": 11.8,
            "bin_start": 9.100000000000001,
            "count": 5
           },
           {
            "bin_end": 14.5,
            "bin_start": 11.8,
            "count": 4
           },
           {
            "bin_end": 17.200000000000003,
            "bin_start": 14.5,
            "count": 3
           },
           {
            "bin_end": 19.900000000000002,
            "bin_start": 17.200000000000003,
            "count": 0
           },
           {
            "bin_end": 22.6,
            "bin_start": 19.900000000000002,
            "count": 3
           },
           {
            "bin_end": 25.3,
            "bin_start": 22.6,
            "count": 0
           },
           {
            "bin_end": 28,
            "bin_start": 25.3,
            "count": 1
           }
          ],
          "max": 28,
          "min": 1,
          "nan_count": 446,
          "unique_count": 17
         }
        },
        {
         "dtype": "float64",
         "name": "minmax_norm_ratings",
         "stats": {
          "histogram": [
           {
            "bin_end": 1.9,
            "bin_start": 1,
            "count": 1
           },
           {
            "bin_end": 2.8,
            "bin_start": 1.9,
            "count": 2
           },
           {
            "bin_end": 3.7,
            "bin_start": 2.8,
            "count": 12
           },
           {
            "bin_end": 4.6,
            "bin_start": 3.7,
            "count": 65
           },
           {
            "bin_end": 5.5,
            "bin_start": 4.6,
            "count": 154
           },
           {
            "bin_end": 6.4,
            "bin_start": 5.5,
            "count": 257
           },
           {
            "bin_end": 7.3,
            "bin_start": 6.4,
            "count": 272
           },
           {
            "bin_end": 8.2,
            "bin_start": 7.3,
            "count": 178
           },
           {
            "bin_end": 9.1,
            "bin_start": 8.2,
            "count": 47
           },
           {
            "bin_end": 10,
            "bin_start": 9.1,
            "count": 8
           }
          ],
          "max": 10,
          "min": 1,
          "nan_count": 0,
          "unique_count": 106
         }
        },
        {
         "dtype": "float64",
         "name": "mean_norm_ratings",
         "stats": {
          "histogram": [
           {
            "bin_end": -3.4739999999999998,
            "bin_start": -4.374,
            "count": 1
           },
           {
            "bin_end": -2.574,
            "bin_start": -3.4739999999999998,
            "count": 2
           },
           {
            "bin_end": -1.6739999999999995,
            "bin_start": -2.574,
            "count": 12
           },
           {
            "bin_end": -0.7739999999999996,
            "bin_start": -1.6739999999999995,
            "count": 65
           },
           {
            "bin_end": 0.12600000000000033,
            "bin_start": -0.7739999999999996,
            "count": 154
           },
           {
            "bin_end": 1.0260000000000007,
            "bin_start": 0.12600000000000033,
            "count": 257
           },
           {
            "bin_end": 1.9260000000000002,
            "bin_start": 1.0260000000000007,
            "count": 272
           },
           {
            "bin_end": 2.8260000000000005,
            "bin_start": 1.9260000000000002,
            "count": 178
           },
           {
            "bin_end": 3.726,
            "bin_start": 2.8260000000000005,
            "count": 47
           },
           {
            "bin_end": 4.626,
            "bin_start": 3.726,
            "count": 8
           }
          ],
          "max": 4.626,
          "min": -4.374,
          "nan_count": 0,
          "unique_count": 106
         }
        },
        {
         "dtype": "object",
         "name": "Link",
         "stats": {
          "categories": [
           {
            "count": 1,
            "name": "https://www.goodreads.com/book/show/2657.To_Kill_a_Mockingbird"
           },
           {
            "count": 1,
            "name": "https://www.goodreads.com/book/show/40961427-1984"
           },
           {
            "count": 994,
            "name": "994 others"
           }
          ],
          "nan_count": 0,
          "unique_count": 996
         }
        },
        {
         "dtype": "int64",
         "name": "_deepnote_index_column"
        }
       ],
       "row_count": 996,
       "rows_bottom": [
        {
         "1st Pub": "1973.0",
         "Author": "Mary  Stewart",
         "Awards": "1.0",
         "Genres": "('Fantasy', 'Fiction', 'Historical')",
         "Link": "https://www.goodreads.com/book/show/116343.The_Hollow_Hills",
         "N pag": 475,
         "Rating Count": 20540,
         "Rating Value": 4.24,
         "Review Count": 537,
         "Title": "The Hollow Hills",
         "Unnamed: 0": 960,
         "_deepnote_index_column": 960,
         "mean_norm_ratings": 2.089,
         "minmax_norm_ratings": 7.462999999999999,
         "series": 1
        },
        {
         "1st Pub": "1973.0",
         "Author": "Rita Mae Brown",
         "Awards": "1.0",
         "Genres": "('Fiction', 'LGBT', 'GLBT')",
         "Link": "https://www.goodreads.com/book/show/31338.Memnoch_the_Devil",
         "N pag": 246,
         "Rating Count": 32896,
         "Rating Value": 3.92,
         "Review Count": 1352,
         "Title": "Rubyfruit Jungle",
         "Unnamed: 0": 961,
         "_deepnote_index_column": 961,
         "mean_norm_ratings": 0.156,
         "minmax_norm_ratings": 5.53,
         "series": 0
        },
        {
         "1st Pub": "1995.0",
         "Author": "Anne Rice",
         "Awards": "nan",
         "Genres": "('Horror', 'Fantasy', 'Paranormal')",
         "Link": "https://www.goodreads.com/book/show/165395.Rubyfruit_Jungle",
         "N pag": 354,
         "Rating Count": 75399,
         "Rating Value": 3.75,
         "Review Count": 1683,
         "Title": "Memnoch the Devil",
         "Unnamed: 0": 962,
         "_deepnote_index_column": 962,
         "mean_norm_ratings": -0.871,
         "minmax_norm_ratings": 4.503,
         "series": 1
        },
        {
         "1st Pub": "1956.0",
         "Author": "Arthur C. Clarke",
         "Awards": "1.0",
         "Genres": "('ScienceFiction', 'Fiction', 'Classics')",
         "Link": "https://www.goodreads.com/book/show/72659.Never_Cry_Wolf",
         "N pag": 255,
         "Rating Count": 28817,
         "Rating Value": 4.08,
         "Review Count": 1082,
         "Title": "The City and the Stars",
         "Unnamed: 0": 963,
         "_deepnote_index_column": 963,
         "mean_norm_ratings": 1.122,
         "minmax_norm_ratings": 6.497000000000001,
         "series": 0
        },
        {
         "1st Pub": "1963.0",
         "Author": "Farley Mowat",
         "Awards": "nan",
         "Genres": "('Nonfiction', 'Animals', 'Environment')",
         "Link": "https://www.goodreads.com/book/show/250024.The_City_and_the_Stars",
         "N pag": 246,
         "Rating Count": 22095,
         "Rating Value": 4.2,
         "Review Count": 1101,
         "Title": "Never Cry Wolf: The Amazing True Story of Life Among Arctic Wolves",
         "Unnamed: 0": 964,
         "_deepnote_index_column": 964,
         "mean_norm_ratings": 1.847,
         "minmax_norm_ratings": 7.221,
         "series": 0
        },
        {
         "1st Pub": "1990.0",
         "Author": "Jean M. Auel",
         "Awards": "nan",
         "Genres": "('Historical', 'HistoricalFiction', 'Fiction')",
         "Link": "https://www.goodreads.com/book/show/15836.Fugitive_Pieces",
         "N pag": 865,
         "Rating Count": 51101,
         "Rating Value": 3.8,
         "Review Count": 1311,
         "Title": "The Plains of Passage",
         "Unnamed: 0": 965,
         "_deepnote_index_column": 965,
         "mean_norm_ratings": -0.569,
         "minmax_norm_ratings": 4.805,
         "series": 1
        },
        {
         "1st Pub": "1996.0",
         "Author": "Anne Michaels",
         "Awards": "7.0",
         "Genres": "('Fiction', 'Historical', 'HistoricalFiction')",
         "Link": "https://www.goodreads.com/book/show/226748.The_Plains_of_Passage",
         "N pag": 304,
         "Rating Count": 14073,
         "Rating Value": 3.94,
         "Review Count": 1198,
         "Title": "Fugitive Pieces",
         "Unnamed: 0": 966,
         "_deepnote_index_column": 966,
         "mean_norm_ratings": 0.277,
         "minmax_norm_ratings": 5.651,
         "series": 0
        },
        {
         "1st Pub": "1961.0",
         "Author": "Frantz Fanon",
         "Awards": "nan",
         "Genres": "('Nonfiction', 'History', 'Politics')",
         "Link": "https://www.goodreads.com/book/show/66933.The_Wretched_of_the_Earth",
         "N pag": 320,
         "Rating Count": 18174,
         "Rating Value": 4.24,
         "Review Count": 812,
         "Title": "The Wretched of the Earth",
         "Unnamed: 0": 967,
         "_deepnote_index_column": 967,
         "mean_norm_ratings": 2.089,
         "minmax_norm_ratings": 7.462999999999999,
         "series": 0
        },
        {
         "1st Pub": "1966.0",
         "Author": "Shūsaku Endō",
         "Awards": "1.0",
         "Genres": "('Fiction', 'Historical', 'HistoricalFiction')",
         "Link": "https://www.goodreads.com/book/show/25200.Silence",
         "N pag": 219,
         "Rating Count": 24995,
         "Rating Value": 4.09,
         "Review Count": 3257,
         "Title": "Silence",
         "Unnamed: 0": 968,
         "_deepnote_index_column": 968,
         "mean_norm_ratings": 1.183,
         "minmax_norm_ratings": 6.557,
         "series": 0
        },
        {
         "1st Pub": "1977.0",
         "Author": "Frederik Pohl",
         "Awards": "6.0",
         "Genres": "('ScienceFiction', 'Fiction', 'Space')",
         "Link": "https://www.goodreads.com/book/show/11422.Redeeming_Love",
         "N pag": 278,
         "Rating Count": 40279,
         "Rating Value": 4.07,
         "Review Count": 1609,
         "Title": "Gateway",
         "Unnamed: 0": 969,
         "_deepnote_index_column": 969,
         "mean_norm_ratings": 1.062,
         "minmax_norm_ratings": 6.436,
         "series": 1
        },
        {
         "1st Pub": "1991.0",
         "Author": "Francine Rivers",
         "Awards": "nan",
         "Genres": "('ChristianFiction', 'Christian', 'Fiction')",
         "Link": "https://www.goodreads.com/book/show/218427.Gateway",
         "N pag": 479,
         "Rating Count": 218405,
         "Rating Value": 4.5,
         "Review Count": 12013,
         "Title": "Redeeming Love",
         "Unnamed: 0": 970,
         "_deepnote_index_column": 970,
         "mean_norm_ratings": 3.659,
         "minmax_norm_ratings": 9.034,
         "series": 0
        },
        {
         "1st Pub": "1970.0",
         "Author": "Alvin Toffler",
         "Awards": "nan",
         "Genres": "('Nonfiction', 'Sociology', 'Science')",
         "Link": "https://www.goodreads.com/book/show/1499952.Daddy_Long_Legs",
         "N pag": 430,
         "Rating Count": 4297,
         "Rating Value": 3.8,
         "Review Count": 311,
         "Title": "Future Shock",
         "Unnamed: 0": 971,
         "_deepnote_index_column": 971,
         "mean_norm_ratings": -0.569,
         "minmax_norm_ratings": 4.805,
         "series": 0
        },
        {
         "1st Pub": "nan",
         "Author": "Jean Webster",
         "Awards": "nan",
         "Genres": "('Classics', 'Fiction', 'YoungAdult')",
         "Link": "https://www.goodreads.com/book/show/466537.Future_Shock",
         "N pag": 249,
         "Rating Count": 45924,
         "Rating Value": 4.15,
         "Review Count": 5636,
         "Title": "Daddy-Long-Legs",
         "Unnamed: 0": 972,
         "_deepnote_index_column": 972,
         "mean_norm_ratings": 1.545,
         "minmax_norm_ratings": 6.919,
         "series": 1
        },
        {
         "1st Pub": "1947.0",
         "Author": "John Steinbeck",
         "Awards": "nan",
         "Genres": "('Fiction', 'Classics', 'Literature')",
         "Link": "https://www.goodreads.com/book/show/116114.From_Here_to_Eternity",
         "N pag": 181,
         "Rating Count": 1611,
         "Rating Value": 3.67,
         "Review Count": 46,
         "Title": "The Pearl/The Red Pony",
         "Unnamed: 0": 973,
         "_deepnote_index_column": 973,
         "mean_norm_ratings": -1.354,
         "minmax_norm_ratings": 4.02,
         "series": 0
        },
        {
         "1st Pub": "1951.0",
         "Author": "James  Jones",
         "Awards": "1.0",
         "Genres": "('Fiction', 'Classics', 'Historical')",
         "Link": "https://www.goodreads.com/book/show/14349.The_Pearl_The_Red_Pony",
         "N pag": 816,
         "Rating Count": 16056,
         "Rating Value": 4.09,
         "Review Count": 492,
         "Title": "From Here to Eternity",
         "Unnamed: 0": 974,
         "_deepnote_index_column": 974,
         "mean_norm_ratings": 1.183,
         "minmax_norm_ratings": 6.557,
         "series": 1
        },
        {
         "1st Pub": "1943.0",
         "Author": "Jean Genet",
         "Awards": "1.0",
         "Genres": "('Fiction', 'Cultural', 'France')",
         "Link": "https://www.goodreads.com/book/show/50144.Kitchen",
         "N pag": 216,
         "Rating Count": 5298,
         "Rating Value": 4.02,
         "Review Count": 273,
         "Title": "Our Lady of the Flowers",
         "Unnamed: 0": 975,
         "_deepnote_index_column": 975,
         "mean_norm_ratings": 0.76,
         "minmax_norm_ratings": 6.134,
         "series": 0
        },
        {
         "1st Pub": "1988.0",
         "Author": "Banana Yoshimoto",
         "Awards": "3.0",
         "Genres": "('Fiction', 'Cultural', 'Japan')",
         "Link": "https://www.goodreads.com/book/show/53003.Our_Lady_of_the_Flowers",
         "N pag": 160,
         "Rating Count": 50342,
         "Rating Value": 3.86,
         "Review Count": 4270,
         "Title": "Kitchen",
         "Unnamed: 0": 976,
         "_deepnote_index_column": 976,
         "mean_norm_ratings": -0.206,
         "minmax_norm_ratings": 5.167999999999998,
         "series": 0
        },
        {
         "1st Pub": "1953.0",
         "Author": "Jean Giono",
         "Awards": "nan",
         "Genres": "('Fiction', 'ShortStories', 'Classics')",
         "Link": "https://www.goodreads.com/book/show/757438.The_Man_Who_Planted_Trees",
         "N pag": 74,
         "Rating Count": 8727,
         "Rating Value": 4.24,
         "Review Count": 992,
         "Title": "The Man Who Planted Trees",
         "Unnamed: 0": 977,
         "_deepnote_index_column": 977,
         "mean_norm_ratings": 2.089,
         "minmax_norm_ratings": 7.462999999999999,
         "series": 0
        },
        {
         "1st Pub": "1991.0",
         "Author": "Victor Villaseñor",
         "Awards": "nan",
         "Genres": "('Fiction', 'Historical', 'HistoricalFiction')",
         "Link": "https://www.goodreads.com/book/show/14345.Rain_of_Gold",
         "N pag": 576,
         "Rating Count": 6744,
         "Rating Value": 4.49,
         "Review Count": 711,
         "Title": "Rain of Gold",
         "Unnamed: 0": 978,
         "_deepnote_index_column": 978,
         "mean_norm_ratings": 3.599,
         "minmax_norm_ratings": 8.972999999999997,
         "series": 0
        },
        {
         "1st Pub": "1951.0",
         "Author": "Josephine Tey",
         "Awards": "1.0",
         "Genres": "('Mystery', 'Historical', 'HistoricalFiction')",
         "Link": "https://www.goodreads.com/book/show/16948.Children_of_God",
         "N pag": 206,
         "Rating Count": 24391,
         "Rating Value": 3.92,
         "Review Count": 3160,
         "Title": "The Daughter of Time",
         "Unnamed: 0": 979,
         "_deepnote_index_column": 979,
         "mean_norm_ratings": 0.156,
         "minmax_norm_ratings": 5.53,
         "series": 1
        },
        {
         "1st Pub": "1998.0",
         "Author": "Mary Doria Russell",
         "Awards": "2.0",
         "Genres": "('ScienceFiction', 'Fiction', 'Religion')",
         "Link": "https://www.goodreads.com/book/show/77661.The_Daughter_of_Time",
         "N pag": 451,
         "Rating Count": 17910,
         "Rating Value": 4.07,
         "Review Count": 1683,
         "Title": "Children of God",
         "Unnamed: 0": 980,
         "_deepnote_index_column": 980,
         "mean_norm_ratings": 1.062,
         "minmax_norm_ratings": 6.436,
         "series": 1
        },
        {
         "1st Pub": "1968.0",
         "Author": "Yukio Mishima",
         "Awards": "1.0",
         "Genres": "('Fiction', 'Cultural', 'Japan')",
         "Link": "https://www.goodreads.com/book/show/119829.The_Sunne_in_Splendour",
         "N pag": 389,
         "Rating Count": 12642,
         "Rating Value": 4.15,
         "Review Count": 952,
         "Title": "Spring Snow",
         "Unnamed: 0": 981,
         "_deepnote_index_column": 981,
         "mean_norm_ratings": 1.545,
         "minmax_norm_ratings": 6.919,
         "series": 1
        },
        {
         "1st Pub": "1982.0",
         "Author": "Sharon Kay Penman",
         "Awards": "nan",
         "Genres": "('Historical', 'HistoricalFiction', 'Fiction')",
         "Link": "https://www.goodreads.com/book/show/62793.Spring_Snow",
         "N pag": 936,
         "Rating Count": 20072,
         "Rating Value": 4.38,
         "Review Count": 1251,
         "Title": "The Sunne in Splendour",
         "Unnamed: 0": 982,
         "_deepnote_index_column": 982,
         "mean_norm_ratings": 2.934,
         "minmax_norm_ratings": 8.309,
         "series": 0
        },
        {
         "1st Pub": "1986.0",
         "Author": "Scott Turow",
         "Awards": "2.0",
         "Genres": "('Mystery', 'Fiction', 'Thriller')",
         "Link": "https://www.goodreads.com/book/show/71292.Asterix_the_Gaul",
         "N pag": 421,
         "Rating Count": 108045,
         "Rating Value": 4.1,
         "Review Count": 1582,
         "Title": "Presumed Innocent",
         "Unnamed: 0": 983,
         "_deepnote_index_column": 983,
         "mean_norm_ratings": 1.243,
         "minmax_norm_ratings": 6.617000000000001,
         "series": 1
        },
        {
         "1st Pub": "1961.0",
         "Author": "René Goscinny",
         "Awards": "nan",
         "Genres": "('SequentialArt', 'Comics', 'SequentialArt')",
         "Link": "https://www.goodreads.com/book/show/425029.Presumed_Innocent",
         "N pag": 48,
         "Rating Count": 24125,
         "Rating Value": 4.18,
         "Review Count": 574,
         "Title": "Asterix the Gaul",
         "Unnamed: 0": 984,
         "_deepnote_index_column": 984,
         "mean_norm_ratings": 1.726,
         "minmax_norm_ratings": 7.101,
         "series": 1
        },
        {
         "1st Pub": "1982.0",
         "Author": "Anne Tyler",
         "Awards": "5.0",
         "Genres": "('Fiction', 'Contemporary', 'LiteraryFiction')",
         "Link": "https://www.goodreads.com/book/show/77699.Dinner_at_the_Homesick_Restaurant",
         "N pag": 303,
         "Rating Count": 25627,
         "Rating Value": 3.81,
         "Review Count": 2021,
         "Title": "Dinner at the Homesick Restaurant",
         "Unnamed: 0": 985,
         "_deepnote_index_column": 985,
         "mean_norm_ratings": -0.508,
         "minmax_norm_ratings": 4.8660000000000005,
         "series": 0
        },
        {
         "1st Pub": "1980.0",
         "Author": "Madeleine L'Engle",
         "Awards": "4.0",
         "Genres": "('YoungAdult', 'Fiction', 'Fantasy')",
         "Link": "https://www.goodreads.com/book/show/14358.A_Ring_of_Endless_Light",
         "N pag": 332,
         "Rating Count": 18435,
         "Rating Value": 4.16,
         "Review Count": 788,
         "Title": "A Ring of Endless Light",
         "Unnamed: 0": 986,
         "_deepnote_index_column": 986,
         "mean_norm_ratings": 1.606,
         "minmax_norm_ratings": 6.98,
         "series": 1
        },
        {
         "1st Pub": "1930.0",
         "Author": "John Dos Passos",
         "Awards": "nan",
         "Genres": "('Fiction', 'Classics', 'Historical')",
         "Link": "https://www.goodreads.com/book/show/7101.The_42nd_Parallel",
         "N pag": 326,
         "Rating Count": 6185,
         "Rating Value": 3.82,
         "Review Count": 432,
         "Title": "The 42nd Parallel",
         "Unnamed: 0": 987,
         "_deepnote_index_column": 987,
         "mean_norm_ratings": -0.448,
         "minmax_norm_ratings": 4.926,
         "series": 1
        },
        {
         "1st Pub": "1974.0",
         "Author": "John     Nichols",
         "Awards": "1.0",
         "Genres": "('Fiction', 'MagicalRealism', 'Historical')",
         "Link": "https://www.goodreads.com/book/show/39242.The_Milagro_Beanfield_War",
         "N pag": 456,
         "Rating Count": 9842,
         "Rating Value": 4.09,
         "Review Count": 457,
         "Title": "The Milagro Beanfield War",
         "Unnamed: 0": 988,
         "_deepnote_index_column": 988,
         "mean_norm_ratings": 1.183,
         "minmax_norm_ratings": 6.557,
         "series": 1
        },
        {
         "1st Pub": "1979.0",
         "Author": "Mary  Stewart",
         "Awards": "1.0",
         "Genres": "('Fantasy', 'Fiction', 'Historical')",
         "Link": "https://www.goodreads.com/book/show/89723.The_Lottery_and_Other_Stories",
         "N pag": 513,
         "Rating Count": 14426,
         "Rating Value": 4.17,
         "Review Count": 421,
         "Title": "The Last Enchantment",
         "Unnamed: 0": 989,
         "_deepnote_index_column": 989,
         "mean_norm_ratings": 1.666,
         "minmax_norm_ratings": 7.04,
         "series": 1
        },
        {
         "1st Pub": "1949.0",
         "Author": "Shirley Jackson",
         "Awards": "nan",
         "Genres": "('ShortStories', 'Fiction', 'Horror')",
         "Link": "https://www.goodreads.com/book/show/64105.The_Last_Enchantment",
         "N pag": 302,
         "Rating Count": 64729,
         "Rating Value": 4.06,
         "Review Count": 2468,
         "Title": "The Lottery and Other Stories",
         "Unnamed: 0": 990,
         "_deepnote_index_column": 990,
         "mean_norm_ratings": 1.002,
         "minmax_norm_ratings": 6.376,
         "series": 0
        },
        {
         "1st Pub": "1961.0",
         "Author": "Ernest Hemingway",
         "Awards": "nan",
         "Genres": "('Fiction', 'ShortStories', 'Classics')",
         "Link": "https://www.goodreads.com/book/show/244261.The_Street_of_Crocodiles",
         "N pag": 144,
         "Rating Count": 33823,
         "Rating Value": 3.87,
         "Review Count": 1453,
         "Title": "The Snows of Kilimanjaro and Other Stories",
         "Unnamed: 0": 991,
         "_deepnote_index_column": 991,
         "mean_norm_ratings": -0.146,
         "minmax_norm_ratings": 5.228,
         "series": 0
        },
        {
         "1st Pub": "1933.0",
         "Author": "Bruno Schulz",
         "Awards": "2.0",
         "Genres": "('Fiction', 'ShortStories', 'EuropeanLiterature')",
         "Link": "https://www.goodreads.com/book/show/4645.The_Snows_of_Kilimanjaro_and_Other_Stories",
         "N pag": 160,
         "Rating Count": 7034,
         "Rating Value": 4.13,
         "Review Count": 599,
         "Title": "The Street of Crocodiles",
         "Unnamed: 0": 992,
         "_deepnote_index_column": 992,
         "mean_norm_ratings": 1.4240000000000002,
         "minmax_norm_ratings": 6.799,
         "series": 0
        },
        {
         "1st Pub": "1980.0",
         "Author": "Russell Hoban",
         "Awards": "3.0",
         "Genres": "('Fiction', 'ScienceFiction', 'Apocalyptic')",
         "Link": "https://www.goodreads.com/book/show/428.Play_It_As_It_Lays",
         "N pag": 256,
         "Rating Count": 7075,
         "Rating Value": 4.02,
         "Review Count": 819,
         "Title": "Riddley Walker",
         "Unnamed: 0": 993,
         "_deepnote_index_column": 993,
         "mean_norm_ratings": 0.76,
         "minmax_norm_ratings": 6.134,
         "series": 0
        },
        {
         "1st Pub": "1970.0",
         "Author": "Joan Didion",
         "Awards": "nan",
         "Genres": "('Fiction', 'Classics', 'Novels')",
         "Link": "https://www.goodreads.com/book/show/776573.Riddley_Walker",
         "N pag": 231,
         "Rating Count": 29879,
         "Rating Value": 3.88,
         "Review Count": 2278,
         "Title": "Play It As It Lays",
         "Unnamed: 0": 994,
         "_deepnote_index_column": 994,
         "mean_norm_ratings": -0.086,
         "minmax_norm_ratings": 5.289,
         "series": 0
        },
        {
         "1st Pub": "1954.0",
         "Author": "Max Frisch",
         "Awards": "nan",
         "Genres": "('Fiction', 'EuropeanLiterature', 'GermanLiterature')",
         "Link": "https://www.goodreads.com/book/show/265102.I_m_Not_Stiller",
         "N pag": 377,
         "Rating Count": 3985,
         "Rating Value": 4.06,
         "Review Count": 187,
         "Title": "I'm Not Stiller",
         "Unnamed: 0": 995,
         "_deepnote_index_column": 995,
         "mean_norm_ratings": 1.002,
         "minmax_norm_ratings": 6.376,
         "series": 0
        }
       ],
       "rows_top": [
        {
         "1st Pub": 1960,
         "Author": "Harper Lee",
         "Awards": "4.0",
         "Genres": "('Classics', 'Fiction', 'Historical')",
         "Link": "https://www.goodreads.com/book/show/2657.To_Kill_a_Mockingbird",
         "N pag": 324,
         "Rating Count": 4629082,
         "Rating Value": 4.28,
         "Review Count": 92962,
         "Title": "To Kill a Mockingbird",
         "Unnamed: 0": 0,
         "_deepnote_index_column": 0,
         "mean_norm_ratings": 2.33,
         "minmax_norm_ratings": 7.705,
         "series": 1
        },
        {
         "1st Pub": 1949,
         "Author": "George Orwell",
         "Awards": "2.0",
         "Genres": "('Classics', 'Fiction', 'ScienceFiction')",
         "Link": "https://www.goodreads.com/book/show/40961427-1984",
         "N pag": 237,
         "Rating Count": 3250211,
         "Rating Value": 4.19,
         "Review Count": 72375,
         "Title": "1984",
         "Unnamed: 0": 1,
         "_deepnote_index_column": 1,
         "mean_norm_ratings": 1.787,
         "minmax_norm_ratings": 7.1610000000000005,
         "series": 0
        },
        {
         "1st Pub": 1925,
         "Author": "F. Scott Fitzgerald",
         "Awards": "1.0",
         "Genres": "('Classics', 'Fiction', 'Academic')",
         "Link": "https://www.goodreads.com/book/show/3.Harry_Potter_and_the_Sorcerer_s_Stone",
         "N pag": 200,
         "Rating Count": 3877685,
         "Rating Value": 3.93,
         "Review Count": 68965,
         "Title": "The Great Gatsby",
         "Unnamed: 0": 2,
         "_deepnote_index_column": 2,
         "mean_norm_ratings": 0.21600000000000005,
         "minmax_norm_ratings": 5.591,
         "series": 0
        },
        {
         "1st Pub": 1997,
         "Author": "J.K. Rowling",
         "Awards": "28.0",
         "Genres": "('Fantasy', 'Fiction', 'YoungAdult')",
         "Link": "https://www.goodreads.com/book/show/4671.The_Great_Gatsby",
         "N pag": 309,
         "Rating Count": 7281482,
         "Rating Value": 4.48,
         "Review Count": 115354,
         "Title": "Harry Potter and the Sorcerer's Stone",
         "Unnamed: 0": 3,
         "_deepnote_index_column": 3,
         "mean_norm_ratings": 3.5380000000000003,
         "minmax_norm_ratings": 8.913,
         "series": 1
        },
        {
         "1st Pub": 1937,
         "Author": "J.R.R. Tolkien",
         "Awards": "3.0",
         "Genres": "('Fantasy', 'Classics', 'Fiction')",
         "Link": "https://www.goodreads.com/book/show/170448.Animal_Farm",
         "N pag": 366,
         "Rating Count": 2973224,
         "Rating Value": 4.28,
         "Review Count": 49547,
         "Title": "The Hobbit, or There and Back Again",
         "Unnamed: 0": 4,
         "_deepnote_index_column": 4,
         "mean_norm_ratings": 2.33,
         "minmax_norm_ratings": 7.705,
         "series": 1
        },
        {
         "1st Pub": 1945,
         "Author": "George Orwell",
         "Awards": "2.0",
         "Genres": "('Classics', 'Fiction', 'ScienceFiction')",
         "Link": "https://www.goodreads.com/book/show/5907.The_Hobbit_or_There_and_Back_Again",
         "N pag": 141,
         "Rating Count": 2823982,
         "Rating Value": 3.95,
         "Review Count": 57987,
         "Title": "Animal Farm",
         "Unnamed: 0": 5,
         "_deepnote_index_column": 5,
         "mean_norm_ratings": 0.337,
         "minmax_norm_ratings": 5.711,
         "series": 0
        },
        {
         "1st Pub": 1947,
         "Author": "Anne Frank",
         "Awards": "1.0",
         "Genres": "('Nonfiction', 'Classics', 'History')",
         "Link": "https://www.goodreads.com/book/show/48855.The_Diary_of_a_Young_Girl",
         "N pag": 283,
         "Rating Count": 2831501,
         "Rating Value": 4.16,
         "Review Count": 29790,
         "Title": "The Diary of a Young Girl",
         "Unnamed: 0": 6,
         "_deepnote_index_column": 6,
         "mean_norm_ratings": 1.606,
         "minmax_norm_ratings": 6.98,
         "series": 0
        },
        {
         "1st Pub": 1943,
         "Author": "Antoine de Saint-Exupéry",
         "Awards": "1.0",
         "Genres": "('Classics', 'Fiction', 'Fantasy')",
         "Link": "https://www.goodreads.com/book/show/157993.The_Little_Prince",
         "N pag": 93,
         "Rating Count": 1422617,
         "Rating Value": 4.31,
         "Review Count": 41265,
         "Title": "The Little Prince",
         "Unnamed: 0": 7,
         "_deepnote_index_column": 7,
         "mean_norm_ratings": 2.512,
         "minmax_norm_ratings": 7.886,
         "series": 0
        },
        {
         "1st Pub": 1953,
         "Author": "Ray Bradbury",
         "Awards": "4.0",
         "Genres": "('Classics', 'Fiction', 'ScienceFiction')",
         "Link": "https://www.goodreads.com/book/show/13079982-fahrenheit-451",
         "N pag": 194,
         "Rating Count": 1732649,
         "Rating Value": 3.99,
         "Review Count": 49376,
         "Title": "Fahrenheit 451",
         "Unnamed: 0": 8,
         "_deepnote_index_column": 8,
         "mean_norm_ratings": 0.579,
         "minmax_norm_ratings": 5.9529999999999985,
         "series": 0
        },
        {
         "1st Pub": 1951,
         "Author": "J.D. Salinger",
         "Awards": "2.0",
         "Genres": "('Classics', 'Fiction', 'YoungAdult')",
         "Link": "https://www.goodreads.com/book/show/5107.The_Catcher_in_the_Rye",
         "N pag": 277,
         "Rating Count": 2799212,
         "Rating Value": 3.81,
         "Review Count": 58697,
         "Title": "The Catcher in the Rye",
         "Unnamed: 0": 9,
         "_deepnote_index_column": 9,
         "mean_norm_ratings": -0.508,
         "minmax_norm_ratings": 4.8660000000000005,
         "series": 0
        },
        {
         "1st Pub": 1950,
         "Author": "C.S. Lewis",
         "Awards": "3.0",
         "Genres": "('Fantasy', 'Classics', 'Fiction')",
         "Link": "https://www.goodreads.com/book/show/100915.The_Lion_the_Witch_and_the_Wardrobe",
         "N pag": 206,
         "Rating Count": 2185822,
         "Rating Value": 4.22,
         "Review Count": 22571,
         "Title": "The Lion, the Witch and the Wardrobe",
         "Unnamed: 0": 10,
         "_deepnote_index_column": 10,
         "mean_norm_ratings": 1.968,
         "minmax_norm_ratings": 7.342,
         "series": 1
        },
        {
         "1st Pub": 1939,
         "Author": "John Steinbeck",
         "Awards": "4.0",
         "Genres": "('Classics', 'Fiction', 'Historical')",
         "Link": "https://www.goodreads.com/book/show/18114322-the-grapes-of-wrath",
         "N pag": 479,
         "Rating Count": 764265,
         "Rating Value": 3.97,
         "Review Count": 17597,
         "Title": "The Grapes of Wrath",
         "Unnamed: 0": 11,
         "_deepnote_index_column": 11,
         "mean_norm_ratings": 0.458,
         "minmax_norm_ratings": 5.832000000000002,
         "series": 0
        },
        {
         "1st Pub": 1967,
         "Author": "Gabriel García Márquez",
         "Awards": "2.0",
         "Genres": "('Fiction', 'Classics', 'MagicalRealism')",
         "Link": "https://www.goodreads.com/book/show/320.One_Hundred_Years_of_Solitude",
         "N pag": 417,
         "Rating Count": 770353,
         "Rating Value": 4.08,
         "Review Count": 31449,
         "Title": "One Hundred Years of Solitude",
         "Unnamed: 0": 12,
         "_deepnote_index_column": 12,
         "mean_norm_ratings": 1.122,
         "minmax_norm_ratings": 6.497000000000001,
         "series": 0
        },
        {
         "1st Pub": 1932,
         "Author": "Aldous Huxley",
         "Awards": "nan",
         "Genres": "('Classics', 'Fiction', 'ScienceFiction')",
         "Link": "https://www.goodreads.com/book/show/5129.Brave_New_World",
         "N pag": 288,
         "Rating Count": 1475247,
         "Rating Value": 3.99,
         "Review Count": 31466,
         "Title": "Brave New World",
         "Unnamed: 0": 13,
         "_deepnote_index_column": 13,
         "mean_norm_ratings": 0.579,
         "minmax_norm_ratings": 5.9529999999999985,
         "series": 0
        },
        {
         "1st Pub": 1937,
         "Author": "John Steinbeck",
         "Awards": "1.0",
         "Genres": "('Classics', 'Fiction', 'Academic')",
         "Link": "https://www.goodreads.com/book/show/18405.Gone_with_the_Wind",
         "N pag": 103,
         "Rating Count": 1985058,
         "Rating Value": 3.88,
         "Review Count": 35159,
         "Title": "Of Mice and Men",
         "Unnamed: 0": 14,
         "_deepnote_index_column": 14,
         "mean_norm_ratings": -0.086,
         "minmax_norm_ratings": 5.289,
         "series": 0
        },
        {
         "1st Pub": 1936,
         "Author": "Margaret Mitchell",
         "Awards": "2.0",
         "Genres": "('Classics', 'Historical', 'HistoricalFiction')",
         "Link": "https://www.goodreads.com/book/show/890.Of_Mice_and_Men",
         "N pag": 1037,
         "Rating Count": 1089571,
         "Rating Value": 4.3,
         "Review Count": 20079,
         "Title": "Gone with the Wind",
         "Unnamed: 0": 15,
         "_deepnote_index_column": 15,
         "mean_norm_ratings": 2.451,
         "minmax_norm_ratings": 7.826,
         "series": 0
        },
        {
         "1st Pub": 1993,
         "Author": "Lois Lowry",
         "Awards": "22.0",
         "Genres": "('YoungAdult', 'Fiction', 'Classics')",
         "Link": "https://www.goodreads.com/book/show/5.Harry_Potter_and_the_Prisoner_of_Azkaban",
         "N pag": 208,
         "Rating Count": 1836871,
         "Rating Value": 4.13,
         "Review Count": 66015,
         "Title": "The Giver",
         "Unnamed: 0": 16,
         "_deepnote_index_column": 16,
         "mean_norm_ratings": 1.4240000000000002,
         "minmax_norm_ratings": 6.799,
         "series": 1
        },
        {
         "1st Pub": 1999,
         "Author": "J.K. Rowling",
         "Awards": "13.0",
         "Genres": "('Fantasy', 'YoungAdult', 'Fiction')",
         "Link": "https://www.goodreads.com/book/show/3636.The_Giver",
         "N pag": 435,
         "Rating Count": 2903473,
         "Rating Value": 4.57,
         "Review Count": 57160,
         "Title": "Harry Potter and the Prisoner of Azkaban",
         "Unnamed: 0": 17,
         "_deepnote_index_column": 17,
         "mean_norm_ratings": 4.082,
         "minmax_norm_ratings": 9.456,
         "series": 1
        },
        {
         "1st Pub": 1954,
         "Author": "William Golding",
         "Awards": "nan",
         "Genres": "('Classics', 'Fiction', 'YoungAdult')",
         "Link": "https://www.goodreads.com/book/show/7624.Lord_of_the_Flies",
         "N pag": 182,
         "Rating Count": 2313858,
         "Rating Value": 3.69,
         "Review Count": 38480,
         "Title": "Lord of the Flies",
         "Unnamed: 0": 18,
         "_deepnote_index_column": 18,
         "mean_norm_ratings": -1.233,
         "minmax_norm_ratings": 4.141,
         "series": 0
        },
        {
         "1st Pub": 1969,
         "Author": "Kurt Vonnegut Jr.",
         "Awards": "4.0",
         "Genres": "('Classics', 'Fiction', 'ScienceFiction')",
         "Link": "https://www.goodreads.com/book/show/4981.Slaughterhouse_Five",
         "N pag": 275,
         "Rating Count": 1150861,
         "Rating Value": 4.08,
         "Review Count": 27540,
         "Title": "Slaughterhouse-Five",
         "Unnamed: 0": 19,
         "_deepnote_index_column": 19,
         "mean_norm_ratings": 1.122,
         "minmax_norm_ratings": 6.497000000000001,
         "series": 0
        },
        {
         "1st Pub": 1952,
         "Author": "John Steinbeck",
         "Awards": "2.0",
         "Genres": "('Classics', 'Fiction', 'Historical')",
         "Link": "https://www.goodreads.com/book/show/7604.Lolita",
         "N pag": 601,
         "Rating Count": 436615,
         "Rating Value": 4.38,
         "Review Count": 19952,
         "Title": "East of Eden",
         "Unnamed: 0": 20,
         "_deepnote_index_column": 20,
         "mean_norm_ratings": 2.934,
         "minmax_norm_ratings": 8.309,
         "series": 0
        },
        {
         "1st Pub": 1955,
         "Author": "Vladimir Nabokov",
         "Awards": "1.0",
         "Genres": "('Classics', 'Fiction', 'Literature')",
         "Link": "https://www.goodreads.com/book/show/4406.East_of_Eden",
         "N pag": 331,
         "Rating Count": 675740,
         "Rating Value": 3.89,
         "Review Count": 25288,
         "Title": "Lolita",
         "Unnamed: 0": 21,
         "_deepnote_index_column": 21,
         "mean_norm_ratings": -0.025,
         "minmax_norm_ratings": 5.349,
         "series": 0
        },
        {
         "1st Pub": 1985,
         "Author": "Margaret Atwood",
         "Awards": "13.0",
         "Genres": "('Fiction', 'Classics', 'ScienceFiction')",
         "Link": "https://www.goodreads.com/book/show/38447.The_Handmaid_s_Tale",
         "N pag": 314,
         "Rating Count": 1509097,
         "Rating Value": 4.11,
         "Review Count": 72336,
         "Title": "The Handmaid's Tale",
         "Unnamed: 0": 22,
         "_deepnote_index_column": 22,
         "mean_norm_ratings": 1.304,
         "minmax_norm_ratings": 6.678,
         "series": 1
        },
        {
         "1st Pub": 1962,
         "Author": "Ken Kesey",
         "Awards": "nan",
         "Genres": "('Classics', 'Fiction', 'Literature')",
         "Link": "https://www.goodreads.com/book/show/332613.One_Flew_Over_the_Cuckoo_s_Nest",
         "N pag": 325,
         "Rating Count": 641349,
         "Rating Value": 4.19,
         "Review Count": 11366,
         "Title": "One Flew Over the Cuckoo's Nest",
         "Unnamed: 0": 23,
         "_deepnote_index_column": 23,
         "mean_norm_ratings": 1.787,
         "minmax_norm_ratings": 7.1610000000000005,
         "series": 0
        },
        {
         "1st Pub": 1996,
         "Author": "Douglas Adams",
         "Awards": "nan",
         "Genres": "('ScienceFiction', 'Fiction', 'Humor')",
         "Link": "https://www.goodreads.com/book/show/34.The_Fellowship_of_the_Ring",
         "N pag": 815,
         "Rating Count": 292145,
         "Rating Value": 4.36,
         "Review Count": 5394,
         "Title": "The Ultimate Hitchhiker's Guide to the Galaxy",
         "Unnamed: 0": 24,
         "_deepnote_index_column": 24,
         "mean_norm_ratings": 2.814,
         "minmax_norm_ratings": 8.187999999999999,
         "series": 1
        },
        {
         "1st Pub": 1954,
         "Author": "J.R.R. Tolkien",
         "Awards": "1.0",
         "Genres": "('Fantasy', 'Classics', 'Fiction')",
         "Link": "https://www.goodreads.com/book/show/13.The_Ultimate_Hitchhiker_s_Guide_to_the_Galaxy",
         "N pag": 398,
         "Rating Count": 2400261,
         "Rating Value": 4.36,
         "Review Count": 23530,
         "Title": "The Fellowship of the Ring",
         "Unnamed: 0": 25,
         "_deepnote_index_column": 25,
         "mean_norm_ratings": 2.814,
         "minmax_norm_ratings": 8.187999999999999,
         "series": 1
        },
        {
         "1st Pub": 1997,
         "Author": "Arthur Golden",
         "Awards": "nan",
         "Genres": "('Fiction', 'Historical', 'HistoricalFiction')",
         "Link": "https://www.goodreads.com/book/show/929.Memoirs_of_a_Geisha",
         "N pag": 503,
         "Rating Count": 1744415,
         "Rating Value": 4.12,
         "Review Count": 30447,
         "Title": "Memoirs of a Geisha",
         "Unnamed: 0": 26,
         "_deepnote_index_column": 26,
         "mean_norm_ratings": 1.364,
         "minmax_norm_ratings": 6.738,
         "series": 0
        },
        {
         "1st Pub": 1942,
         "Author": "Albert Camus",
         "Awards": "1.0",
         "Genres": "('Classics', 'Fiction', 'Philosophy')",
         "Link": "https://www.goodreads.com/book/show/49552.The_Stranger",
         "N pag": 123,
         "Rating Count": 729878,
         "Rating Value": 3.99,
         "Review Count": 24104,
         "Title": "The Stranger",
         "Unnamed: 0": 27,
         "_deepnote_index_column": 27,
         "mean_norm_ratings": 0.579,
         "minmax_norm_ratings": 5.9529999999999985,
         "series": 0
        },
        {
         "1st Pub": 1998,
         "Author": "J.K. Rowling",
         "Awards": "7.0",
         "Genres": "('Fantasy', 'YoungAdult', 'Fiction')",
         "Link": "https://www.goodreads.com/book/show/15881.Harry_Potter_and_the_Chamber_of_Secrets",
         "N pag": 341,
         "Rating Count": 2816514,
         "Rating Value": 4.43,
         "Review Count": 54443,
         "Title": "Harry Potter and the Chamber of Secrets",
         "Unnamed: 0": 28,
         "_deepnote_index_column": 28,
         "mean_norm_ratings": 3.236,
         "minmax_norm_ratings": 8.611,
         "series": 1
        },
        {
         "1st Pub": 1952,
         "Author": "E.B. White",
         "Awards": "5.0",
         "Genres": "('Classics', 'Childrens', 'Fiction')",
         "Link": "https://www.goodreads.com/book/show/24178.Charlotte_s_Web",
         "N pag": 184,
         "Rating Count": 1454356,
         "Rating Value": 4.18,
         "Review Count": 18507,
         "Title": "Charlotte's Web",
         "Unnamed: 0": 29,
         "_deepnote_index_column": 29,
         "mean_norm_ratings": 1.726,
         "minmax_norm_ratings": 7.101,
         "series": 0
        },
        {
         "1st Pub": 1956,
         "Author": "C.S. Lewis",
         "Awards": "nan",
         "Genres": "('Fantasy', 'Classics', 'Fiction')",
         "Link": "https://www.goodreads.com/book/show/11127.The_Chronicles_of_Narnia",
         "N pag": 767,
         "Rating Count": 532900,
         "Rating Value": 4.26,
         "Review Count": 10525,
         "Title": "The Chronicles of Narnia",
         "Unnamed: 0": 30,
         "_deepnote_index_column": 30,
         "mean_norm_ratings": 2.21,
         "minmax_norm_ratings": 7.584,
         "series": 1
        },
        {
         "1st Pub": 1962,
         "Author": "Madeleine L'Engle",
         "Awards": "4.0",
         "Genres": "('Fantasy', 'Fiction', 'Classics')",
         "Link": "https://www.goodreads.com/book/show/33574273-a-wrinkle-in-time",
         "N pag": 218,
         "Rating Count": 1068151,
         "Rating Value": 3.99,
         "Review Count": 34278,
         "Title": "A Wrinkle in Time",
         "Unnamed: 0": 31,
         "_deepnote_index_column": 31,
         "mean_norm_ratings": 0.579,
         "minmax_norm_ratings": 5.9529999999999985,
         "series": 1
        },
        {
         "1st Pub": 1985,
         "Author": "Orson Scott Card",
         "Awards": "5.0",
         "Genres": "('ScienceFiction', 'Fiction', 'YoungAdult')",
         "Link": "https://www.goodreads.com/book/show/2165.The_Old_Man_and_the_Sea",
         "N pag": 352,
         "Rating Count": 1157000,
         "Rating Value": 4.3,
         "Review Count": 43666,
         "Title": "Ender's Game",
         "Unnamed: 0": 32,
         "_deepnote_index_column": 32,
         "mean_norm_ratings": 2.451,
         "minmax_norm_ratings": 7.826,
         "series": 1
        },
        {
         "1st Pub": 1952,
         "Author": "Ernest Hemingway",
         "Awards": "3.0",
         "Genres": "('Classics', 'Fiction', 'Literature')",
         "Link": "https://www.goodreads.com/book/show/375802.Ender_s_Game",
         "N pag": 96,
         "Rating Count": 855093,
         "Rating Value": 3.79,
         "Review Count": 25967,
         "Title": "The Old Man and the Sea",
         "Unnamed: 0": 33,
         "_deepnote_index_column": 33,
         "mean_norm_ratings": -0.629,
         "minmax_norm_ratings": 4.745,
         "series": 0
        },
        {
         "1st Pub": 1964,
         "Author": "Shel Silverstein",
         "Awards": "nan",
         "Genres": "('Childrens', 'Childrens', 'PictureBooks')",
         "Link": "https://www.goodreads.com/book/show/370493.The_Giving_Tree",
         "N pag": 64,
         "Rating Count": 927076,
         "Rating Value": 4.37,
         "Review Count": 18179,
         "Title": "The Giving Tree",
         "Unnamed: 0": 34,
         "_deepnote_index_column": 34,
         "mean_norm_ratings": 2.874,
         "minmax_norm_ratings": 8.248,
         "series": 0
        }
       ]
      },
      "text/html": [
       "<div>\n",
       "<style scoped>\n",
       "    .dataframe tbody tr th:only-of-type {\n",
       "        vertical-align: middle;\n",
       "    }\n",
       "\n",
       "    .dataframe tbody tr th {\n",
       "        vertical-align: top;\n",
       "    }\n",
       "\n",
       "    .dataframe thead th {\n",
       "        text-align: right;\n",
       "    }\n",
       "</style>\n",
       "<table border=\"1\" class=\"dataframe\">\n",
       "  <thead>\n",
       "    <tr style=\"text-align: right;\">\n",
       "      <th></th>\n",
       "      <th>Unnamed: 0</th>\n",
       "      <th>Title</th>\n",
       "      <th>Author</th>\n",
       "      <th>Rating Count</th>\n",
       "      <th>Review Count</th>\n",
       "      <th>Rating Value</th>\n",
       "      <th>N pag</th>\n",
       "      <th>1st Pub</th>\n",
       "      <th>series</th>\n",
       "      <th>Genres</th>\n",
       "      <th>Awards</th>\n",
       "      <th>minmax_norm_ratings</th>\n",
       "      <th>mean_norm_ratings</th>\n",
       "      <th>Link</th>\n",
       "    </tr>\n",
       "  </thead>\n",
       "  <tbody>\n",
       "    <tr>\n",
       "      <th>0</th>\n",
       "      <td>0</td>\n",
       "      <td>To Kill a Mockingbird</td>\n",
       "      <td>Harper Lee</td>\n",
       "      <td>4629082</td>\n",
       "      <td>92962</td>\n",
       "      <td>4.28</td>\n",
       "      <td>324.0</td>\n",
       "      <td>1960.0</td>\n",
       "      <td>1</td>\n",
       "      <td>(Classics, Fiction, Historical)</td>\n",
       "      <td>4.0</td>\n",
       "      <td>7.705</td>\n",
       "      <td>2.330</td>\n",
       "      <td>https://www.goodreads.com/book/show/2657.To_Ki...</td>\n",
       "    </tr>\n",
       "    <tr>\n",
       "      <th>1</th>\n",
       "      <td>1</td>\n",
       "      <td>1984</td>\n",
       "      <td>George Orwell</td>\n",
       "      <td>3250211</td>\n",
       "      <td>72375</td>\n",
       "      <td>4.19</td>\n",
       "      <td>237.0</td>\n",
       "      <td>1949.0</td>\n",
       "      <td>0</td>\n",
       "      <td>(Classics, Fiction, ScienceFiction)</td>\n",
       "      <td>2.0</td>\n",
       "      <td>7.161</td>\n",
       "      <td>1.787</td>\n",
       "      <td>https://www.goodreads.com/book/show/40961427-1984</td>\n",
       "    </tr>\n",
       "    <tr>\n",
       "      <th>2</th>\n",
       "      <td>2</td>\n",
       "      <td>The Great Gatsby</td>\n",
       "      <td>F. Scott Fitzgerald</td>\n",
       "      <td>3877685</td>\n",
       "      <td>68965</td>\n",
       "      <td>3.93</td>\n",
       "      <td>200.0</td>\n",
       "      <td>1925.0</td>\n",
       "      <td>0</td>\n",
       "      <td>(Classics, Fiction, Academic)</td>\n",
       "      <td>1.0</td>\n",
       "      <td>5.591</td>\n",
       "      <td>0.216</td>\n",
       "      <td>https://www.goodreads.com/book/show/3.Harry_Po...</td>\n",
       "    </tr>\n",
       "    <tr>\n",
       "      <th>3</th>\n",
       "      <td>3</td>\n",
       "      <td>Harry Potter and the Sorcerer's Stone</td>\n",
       "      <td>J.K. Rowling</td>\n",
       "      <td>7281482</td>\n",
       "      <td>115354</td>\n",
       "      <td>4.48</td>\n",
       "      <td>309.0</td>\n",
       "      <td>1997.0</td>\n",
       "      <td>1</td>\n",
       "      <td>(Fantasy, Fiction, YoungAdult)</td>\n",
       "      <td>28.0</td>\n",
       "      <td>8.913</td>\n",
       "      <td>3.538</td>\n",
       "      <td>https://www.goodreads.com/book/show/4671.The_G...</td>\n",
       "    </tr>\n",
       "    <tr>\n",
       "      <th>4</th>\n",
       "      <td>4</td>\n",
       "      <td>The Hobbit, or There and Back Again</td>\n",
       "      <td>J.R.R. Tolkien</td>\n",
       "      <td>2973224</td>\n",
       "      <td>49547</td>\n",
       "      <td>4.28</td>\n",
       "      <td>366.0</td>\n",
       "      <td>1937.0</td>\n",
       "      <td>1</td>\n",
       "      <td>(Fantasy, Classics, Fiction)</td>\n",
       "      <td>3.0</td>\n",
       "      <td>7.705</td>\n",
       "      <td>2.330</td>\n",
       "      <td>https://www.goodreads.com/book/show/170448.Ani...</td>\n",
       "    </tr>\n",
       "    <tr>\n",
       "      <th>...</th>\n",
       "      <td>...</td>\n",
       "      <td>...</td>\n",
       "      <td>...</td>\n",
       "      <td>...</td>\n",
       "      <td>...</td>\n",
       "      <td>...</td>\n",
       "      <td>...</td>\n",
       "      <td>...</td>\n",
       "      <td>...</td>\n",
       "      <td>...</td>\n",
       "      <td>...</td>\n",
       "      <td>...</td>\n",
       "      <td>...</td>\n",
       "      <td>...</td>\n",
       "    </tr>\n",
       "    <tr>\n",
       "      <th>991</th>\n",
       "      <td>991</td>\n",
       "      <td>The Snows of Kilimanjaro and Other Stories</td>\n",
       "      <td>Ernest Hemingway</td>\n",
       "      <td>33823</td>\n",
       "      <td>1453</td>\n",
       "      <td>3.87</td>\n",
       "      <td>144.0</td>\n",
       "      <td>1961.0</td>\n",
       "      <td>0</td>\n",
       "      <td>(Fiction, ShortStories, Classics)</td>\n",
       "      <td>NaN</td>\n",
       "      <td>5.228</td>\n",
       "      <td>-0.146</td>\n",
       "      <td>https://www.goodreads.com/book/show/244261.The...</td>\n",
       "    </tr>\n",
       "    <tr>\n",
       "      <th>992</th>\n",
       "      <td>992</td>\n",
       "      <td>The Street of Crocodiles</td>\n",
       "      <td>Bruno Schulz</td>\n",
       "      <td>7034</td>\n",
       "      <td>599</td>\n",
       "      <td>4.13</td>\n",
       "      <td>160.0</td>\n",
       "      <td>1933.0</td>\n",
       "      <td>0</td>\n",
       "      <td>(Fiction, ShortStories, EuropeanLiterature)</td>\n",
       "      <td>2.0</td>\n",
       "      <td>6.799</td>\n",
       "      <td>1.424</td>\n",
       "      <td>https://www.goodreads.com/book/show/4645.The_S...</td>\n",
       "    </tr>\n",
       "    <tr>\n",
       "      <th>993</th>\n",
       "      <td>993</td>\n",
       "      <td>Riddley Walker</td>\n",
       "      <td>Russell Hoban</td>\n",
       "      <td>7075</td>\n",
       "      <td>819</td>\n",
       "      <td>4.02</td>\n",
       "      <td>256.0</td>\n",
       "      <td>1980.0</td>\n",
       "      <td>0</td>\n",
       "      <td>(Fiction, ScienceFiction, Apocalyptic)</td>\n",
       "      <td>3.0</td>\n",
       "      <td>6.134</td>\n",
       "      <td>0.760</td>\n",
       "      <td>https://www.goodreads.com/book/show/428.Play_I...</td>\n",
       "    </tr>\n",
       "    <tr>\n",
       "      <th>994</th>\n",
       "      <td>994</td>\n",
       "      <td>Play It As It Lays</td>\n",
       "      <td>Joan Didion</td>\n",
       "      <td>29879</td>\n",
       "      <td>2278</td>\n",
       "      <td>3.88</td>\n",
       "      <td>231.0</td>\n",
       "      <td>1970.0</td>\n",
       "      <td>0</td>\n",
       "      <td>(Fiction, Classics, Novels)</td>\n",
       "      <td>NaN</td>\n",
       "      <td>5.289</td>\n",
       "      <td>-0.086</td>\n",
       "      <td>https://www.goodreads.com/book/show/776573.Rid...</td>\n",
       "    </tr>\n",
       "    <tr>\n",
       "      <th>995</th>\n",
       "      <td>995</td>\n",
       "      <td>I'm Not Stiller</td>\n",
       "      <td>Max Frisch</td>\n",
       "      <td>3985</td>\n",
       "      <td>187</td>\n",
       "      <td>4.06</td>\n",
       "      <td>377.0</td>\n",
       "      <td>1954.0</td>\n",
       "      <td>0</td>\n",
       "      <td>(Fiction, EuropeanLiterature, GermanLiterature)</td>\n",
       "      <td>NaN</td>\n",
       "      <td>6.376</td>\n",
       "      <td>1.002</td>\n",
       "      <td>https://www.goodreads.com/book/show/265102.I_m...</td>\n",
       "    </tr>\n",
       "  </tbody>\n",
       "</table>\n",
       "<p>996 rows × 14 columns</p>\n",
       "</div>"
      ],
      "text/plain": [
       "     Unnamed: 0                                       Title  \\\n",
       "0             0                       To Kill a Mockingbird   \n",
       "1             1                                        1984   \n",
       "2             2                            The Great Gatsby   \n",
       "3             3       Harry Potter and the Sorcerer's Stone   \n",
       "4             4         The Hobbit, or There and Back Again   \n",
       "..          ...                                         ...   \n",
       "991         991  The Snows of Kilimanjaro and Other Stories   \n",
       "992         992                    The Street of Crocodiles   \n",
       "993         993                              Riddley Walker   \n",
       "994         994                          Play It As It Lays   \n",
       "995         995                             I'm Not Stiller   \n",
       "\n",
       "                  Author  Rating Count  Review Count  Rating Value  N pag  \\\n",
       "0             Harper Lee       4629082         92962          4.28  324.0   \n",
       "1          George Orwell       3250211         72375          4.19  237.0   \n",
       "2    F. Scott Fitzgerald       3877685         68965          3.93  200.0   \n",
       "3           J.K. Rowling       7281482        115354          4.48  309.0   \n",
       "4         J.R.R. Tolkien       2973224         49547          4.28  366.0   \n",
       "..                   ...           ...           ...           ...    ...   \n",
       "991     Ernest Hemingway         33823          1453          3.87  144.0   \n",
       "992         Bruno Schulz          7034           599          4.13  160.0   \n",
       "993        Russell Hoban          7075           819          4.02  256.0   \n",
       "994          Joan Didion         29879          2278          3.88  231.0   \n",
       "995           Max Frisch          3985           187          4.06  377.0   \n",
       "\n",
       "     1st Pub  series                                           Genres  Awards  \\\n",
       "0     1960.0       1                  (Classics, Fiction, Historical)     4.0   \n",
       "1     1949.0       0              (Classics, Fiction, ScienceFiction)     2.0   \n",
       "2     1925.0       0                    (Classics, Fiction, Academic)     1.0   \n",
       "3     1997.0       1                   (Fantasy, Fiction, YoungAdult)    28.0   \n",
       "4     1937.0       1                     (Fantasy, Classics, Fiction)     3.0   \n",
       "..       ...     ...                                              ...     ...   \n",
       "991   1961.0       0                (Fiction, ShortStories, Classics)     NaN   \n",
       "992   1933.0       0      (Fiction, ShortStories, EuropeanLiterature)     2.0   \n",
       "993   1980.0       0           (Fiction, ScienceFiction, Apocalyptic)     3.0   \n",
       "994   1970.0       0                      (Fiction, Classics, Novels)     NaN   \n",
       "995   1954.0       0  (Fiction, EuropeanLiterature, GermanLiterature)     NaN   \n",
       "\n",
       "     minmax_norm_ratings  mean_norm_ratings  \\\n",
       "0                  7.705              2.330   \n",
       "1                  7.161              1.787   \n",
       "2                  5.591              0.216   \n",
       "3                  8.913              3.538   \n",
       "4                  7.705              2.330   \n",
       "..                   ...                ...   \n",
       "991                5.228             -0.146   \n",
       "992                6.799              1.424   \n",
       "993                6.134              0.760   \n",
       "994                5.289             -0.086   \n",
       "995                6.376              1.002   \n",
       "\n",
       "                                                  Link  \n",
       "0    https://www.goodreads.com/book/show/2657.To_Ki...  \n",
       "1    https://www.goodreads.com/book/show/40961427-1984  \n",
       "2    https://www.goodreads.com/book/show/3.Harry_Po...  \n",
       "3    https://www.goodreads.com/book/show/4671.The_G...  \n",
       "4    https://www.goodreads.com/book/show/170448.Ani...  \n",
       "..                                                 ...  \n",
       "991  https://www.goodreads.com/book/show/244261.The...  \n",
       "992  https://www.goodreads.com/book/show/4645.The_S...  \n",
       "993  https://www.goodreads.com/book/show/428.Play_I...  \n",
       "994  https://www.goodreads.com/book/show/776573.Rid...  \n",
       "995  https://www.goodreads.com/book/show/265102.I_m...  \n",
       "\n",
       "[996 rows x 14 columns]"
      ]
     },
     "execution_count": 179,
     "metadata": {},
     "output_type": "execute_result"
    }
   ],
   "source": [
    "books"
   ]
  },
  {
   "cell_type": "code",
   "execution_count": null,
   "metadata": {
    "cell_id": "00011-55c3e129-a033-40bd-bb6e-d62d64b8c090",
    "deepnote_cell_type": "code",
    "deepnote_to_be_reexecuted": false,
    "execution_millis": 6,
    "execution_start": 1610637960808,
    "source_hash": "46b691f5",
    "tags": []
   },
   "outputs": [
    {
     "data": {
      "application/vnd.deepnote.dataframe.v2+json": {
       "column_count": 1,
       "columns": [
        {
         "dtype": "int64",
         "name": "Genres",
         "stats": {
          "histogram": [
           {
            "bin_end": 6.3,
            "bin_start": 1,
            "count": 317
           },
           {
            "bin_end": 11.6,
            "bin_start": 6.3,
            "count": 16
           },
           {
            "bin_end": 16.9,
            "bin_start": 11.6,
            "count": 5
           },
           {
            "bin_end": 22.2,
            "bin_start": 16.9,
            "count": 2
           },
           {
            "bin_end": 27.5,
            "bin_start": 22.2,
            "count": 0
           },
           {
            "bin_end": 32.8,
            "bin_start": 27.5,
            "count": 2
           },
           {
            "bin_end": 38.1,
            "bin_start": 32.8,
            "count": 0
           },
           {
            "bin_end": 43.4,
            "bin_start": 38.1,
            "count": 1
           },
           {
            "bin_end": 48.699999999999996,
            "bin_start": 43.4,
            "count": 1
           },
           {
            "bin_end": 54,
            "bin_start": 48.699999999999996,
            "count": 1
           }
          ],
          "max": 54,
          "min": 1,
          "nan_count": 0,
          "unique_count": 21
         }
        },
        {
         "dtype": "object",
         "name": "_deepnote_index_column"
        }
       ],
       "row_count": 345,
       "rows_bottom": null,
       "rows_top": [
        {
         "Genres": 2,
         "_deepnote_index_column": "('Autobiography', 'Memoir', 'Nonfiction')"
        },
        {
         "Genres": 1,
         "_deepnote_index_column": "('Biography', 'History', 'Politics')"
        },
        {
         "Genres": 10,
         "_deepnote_index_column": "('Childrens', 'Childrens', 'PictureBooks')"
        },
        {
         "Genres": 1,
         "_deepnote_index_column": "('Childrens', 'Classics', 'Childrens')"
        },
        {
         "Genres": 1,
         "_deepnote_index_column": "('Childrens', 'Classics', 'Fiction')"
        },
        {
         "Genres": 2,
         "_deepnote_index_column": "('Childrens', 'Fantasy', 'Fiction')"
        },
        {
         "Genres": 1,
         "_deepnote_index_column": "('Childrens', 'Fiction', 'Childrens')"
        },
        {
         "Genres": 1,
         "_deepnote_index_column": "('Childrens', 'Fiction', 'Classics')"
        },
        {
         "Genres": 1,
         "_deepnote_index_column": "('Childrens', 'Fiction', 'YoungAdult')"
        },
        {
         "Genres": 8,
         "_deepnote_index_column": "('Childrens', 'PictureBooks', 'Childrens')"
        },
        {
         "Genres": 1,
         "_deepnote_index_column": "('Christian', 'Fiction', 'Religion')"
        },
        {
         "Genres": 1,
         "_deepnote_index_column": "('Christian', 'Nonfiction', 'Religion')"
        },
        {
         "Genres": 1,
         "_deepnote_index_column": "('Christian', 'Religion', 'Theology')"
        },
        {
         "Genres": 1,
         "_deepnote_index_column": "('ChristianFiction', 'Christian', 'Fiction')"
        },
        {
         "Genres": 5,
         "_deepnote_index_column": "('Classics', 'Childrens', 'Fiction')"
        },
        {
         "Genres": 1,
         "_deepnote_index_column": "('Classics', 'Fantasy', 'Childrens')"
        },
        {
         "Genres": 1,
         "_deepnote_index_column": "('Classics', 'Fantasy', 'Fiction')"
        },
        {
         "Genres": 2,
         "_deepnote_index_column": "('Classics', 'Fiction', 'Academic')"
        },
        {
         "Genres": 4,
         "_deepnote_index_column": "('Classics', 'Fiction', 'Adventure')"
        },
        {
         "Genres": 5,
         "_deepnote_index_column": "('Classics', 'Fiction', 'Childrens')"
        },
        {
         "Genres": 6,
         "_deepnote_index_column": "('Classics', 'Fiction', 'Cultural')"
        },
        {
         "Genres": 3,
         "_deepnote_index_column": "('Classics', 'Fiction', 'EuropeanLiterature')"
        },
        {
         "Genres": 3,
         "_deepnote_index_column": "('Classics', 'Fiction', 'Fantasy')"
        },
        {
         "Genres": 1,
         "_deepnote_index_column": "('Classics', 'Fiction', 'Feminism')"
        },
        {
         "Genres": 22,
         "_deepnote_index_column": "('Classics', 'Fiction', 'Historical')"
        },
        {
         "Genres": 1,
         "_deepnote_index_column": "('Classics', 'Fiction', 'Horror')"
        },
        {
         "Genres": 30,
         "_deepnote_index_column": "('Classics', 'Fiction', 'Literature')"
        },
        {
         "Genres": 1,
         "_deepnote_index_column": "('Classics', 'Fiction', 'Mystery')"
        },
        {
         "Genres": 2,
         "_deepnote_index_column": "('Classics', 'Fiction', 'Philosophy')"
        },
        {
         "Genres": 3,
         "_deepnote_index_column": "('Classics', 'Fiction', 'Romance')"
        },
        {
         "Genres": 7,
         "_deepnote_index_column": "('Classics', 'Fiction', 'ScienceFiction')"
        },
        {
         "Genres": 3,
         "_deepnote_index_column": "('Classics', 'Fiction', 'ShortStories')"
        },
        {
         "Genres": 1,
         "_deepnote_index_column": "('Classics', 'Fiction', 'Travel')"
        },
        {
         "Genres": 15,
         "_deepnote_index_column": "('Classics', 'Fiction', 'YoungAdult')"
        },
        {
         "Genres": 9,
         "_deepnote_index_column": "('Classics', 'Historical', 'HistoricalFiction')"
        },
        {
         "Genres": 2,
         "_deepnote_index_column": "('Classics', 'Mystery', 'Fiction')"
        },
        {
         "Genres": 2,
         "_deepnote_index_column": "('Classics', 'Nonfiction', 'Autobiography')"
        },
        {
         "Genres": 1,
         "_deepnote_index_column": "('Classics', 'Nonfiction', 'Feminism')"
        },
        {
         "Genres": 1,
         "_deepnote_index_column": "('Classics', 'Nonfiction', 'Philosophy')"
        },
        {
         "Genres": 1,
         "_deepnote_index_column": "('Classics', 'Philosophy', 'Literature')"
        },
        {
         "Genres": 2,
         "_deepnote_index_column": "('Classics', 'Plays', 'Fiction')"
        },
        {
         "Genres": 1,
         "_deepnote_index_column": "('Classics', 'ShortStories', 'Fiction')"
        },
        {
         "Genres": 1,
         "_deepnote_index_column": "('Classics', 'YoungAdult', 'Fiction')"
        },
        {
         "Genres": 1,
         "_deepnote_index_column": "('Crime', 'TrueCrime', 'Nonfiction')"
        },
        {
         "Genres": 1,
         "_deepnote_index_column": "('Economics', 'Politics', 'Philosophy')"
        },
        {
         "Genres": 1,
         "_deepnote_index_column": "('Education', 'Nonfiction', 'Philosophy')"
        },
        {
         "Genres": 2,
         "_deepnote_index_column": "('Fantasy', 'Childrens', 'Classics')"
        },
        {
         "Genres": 3,
         "_deepnote_index_column": "('Fantasy', 'Childrens', 'Fiction')"
        },
        {
         "Genres": 9,
         "_deepnote_index_column": "('Fantasy', 'Classics', 'Fiction')"
        },
        {
         "Genres": 1,
         "_deepnote_index_column": "('Fantasy', 'Fantasy', 'UrbanFantasy')"
        },
        {
         "Genres": 2,
         "_deepnote_index_column": "('Fantasy', 'Fiction', 'Childrens')"
        },
        {
         "Genres": 11,
         "_deepnote_index_column": "('Fantasy', 'Fiction', 'Classics')"
        },
        {
         "Genres": 12,
         "_deepnote_index_column": "('Fantasy', 'Fiction', 'Fantasy')"
        },
        {
         "Genres": 3,
         "_deepnote_index_column": "('Fantasy', 'Fiction', 'Historical')"
        },
        {
         "Genres": 1,
         "_deepnote_index_column": "('Fantasy', 'Fiction', 'Horror')"
        },
        {
         "Genres": 7,
         "_deepnote_index_column": "('Fantasy', 'Fiction', 'Humor')"
        },
        {
         "Genres": 1,
         "_deepnote_index_column": "('Fantasy', 'Fiction', 'MagicalRealism')"
        },
        {
         "Genres": 1,
         "_deepnote_index_column": "('Fantasy', 'Fiction', 'Romance')"
        },
        {
         "Genres": 1,
         "_deepnote_index_column": "('Fantasy', 'Fiction', 'ScienceFiction')"
        },
        {
         "Genres": 1,
         "_deepnote_index_column": "('Fantasy', 'Fiction', 'ScienceFictionFantasy')"
        },
        {
         "Genres": 3,
         "_deepnote_index_column": "('Fantasy', 'Fiction', 'YoungAdult')"
        },
        {
         "Genres": 1,
         "_deepnote_index_column": "('Fantasy', 'Historical', 'HistoricalFiction')"
        },
        {
         "Genres": 1,
         "_deepnote_index_column": "('Fantasy', 'Horror', 'Fiction')"
        },
        {
         "Genres": 1,
         "_deepnote_index_column": "('Fantasy', 'Mythology', 'Classics')"
        },
        {
         "Genres": 1,
         "_deepnote_index_column": "('Fantasy', 'Romance', 'Fantasy')"
        },
        {
         "Genres": 1,
         "_deepnote_index_column": "('Fantasy', 'Romance', 'Fiction')"
        },
        {
         "Genres": 4,
         "_deepnote_index_column": "('Fantasy', 'ScienceFiction', 'Fantasy')"
        },
        {
         "Genres": 1,
         "_deepnote_index_column": "('Fantasy', 'ScienceFiction', 'Fiction')"
        },
        {
         "Genres": 1,
         "_deepnote_index_column": "('Fantasy', 'SequentialArt', 'GraphicNovels')"
        },
        {
         "Genres": 1,
         "_deepnote_index_column": "('Fantasy', 'YoungAdult', 'Classics')"
        },
        {
         "Genres": 11,
         "_deepnote_index_column": "('Fantasy', 'YoungAdult', 'Fiction')"
        },
        {
         "Genres": 1,
         "_deepnote_index_column": "('Feminism', 'Nonfiction', 'Classics')"
        },
        {
         "Genres": 1,
         "_deepnote_index_column": "('Feminism', 'Nonfiction', 'Philosophy')"
        },
        {
         "Genres": 1,
         "_deepnote_index_column": "('Feminism', 'Nonfiction', 'Sociology')"
        },
        {
         "Genres": 2,
         "_deepnote_index_column": "('Fiction', 'American', 'Southern')"
        },
        {
         "Genres": 1,
         "_deepnote_index_column": "('Fiction', 'Childrens', 'RealisticFiction')"
        },
        {
         "Genres": 1,
         "_deepnote_index_column": "('Fiction', 'Childrens', 'YoungAdult')"
        },
        {
         "Genres": 1,
         "_deepnote_index_column": "('Fiction', 'Classics', 'American')"
        },
        {
         "Genres": 1,
         "_deepnote_index_column": "('Fiction', 'Classics', 'Art')"
        },
        {
         "Genres": 1,
         "_deepnote_index_column": "('Fiction', 'Classics', 'Christian')"
        },
        {
         "Genres": 3,
         "_deepnote_index_column": "('Fiction', 'Classics', 'Contemporary')"
        },
        {
         "Genres": 9,
         "_deepnote_index_column": "('Fiction', 'Classics', 'Cultural')"
        },
        {
         "Genres": 14,
         "_deepnote_index_column": "('Fiction', 'Classics', 'EuropeanLiterature')"
        },
        {
         "Genres": 4,
         "_deepnote_index_column": "('Fiction', 'Classics', 'Fantasy')"
        },
        {
         "Genres": 1,
         "_deepnote_index_column": "('Fiction', 'Classics', 'Gothic')"
        },
        {
         "Genres": 29,
         "_deepnote_index_column": "('Fiction', 'Classics', 'Historical')"
        },
        {
         "Genres": 5,
         "_deepnote_index_column": "('Fiction', 'Classics', 'Humor')"
        },
        {
         "Genres": 1,
         "_deepnote_index_column": "('Fiction', 'Classics', 'LiteraryFiction')"
        },
        {
         "Genres": 41,
         "_deepnote_index_column": "('Fiction', 'Classics', 'Literature')"
        },
        {
         "Genres": 3,
         "_deepnote_index_column": "('Fiction', 'Classics', 'MagicalRealism')"
        },
        {
         "Genres": 4,
         "_deepnote_index_column": "('Fiction', 'Classics', 'Mystery')"
        },
        {
         "Genres": 8,
         "_deepnote_index_column": "('Fiction', 'Classics', 'Novels')"
        },
        {
         "Genres": 11,
         "_deepnote_index_column": "('Fiction', 'Classics', 'Philosophy')"
        },
        {
         "Genres": 1,
         "_deepnote_index_column": "('Fiction', 'Classics', 'Poetry')"
        },
        {
         "Genres": 1,
         "_deepnote_index_column": "('Fiction', 'Classics', 'Romance')"
        },
        {
         "Genres": 6,
         "_deepnote_index_column": "('Fiction', 'Classics', 'ScienceFiction')"
        },
        {
         "Genres": 4,
         "_deepnote_index_column": "('Fiction', 'Classics', 'ShortStories')"
        },
        {
         "Genres": 3,
         "_deepnote_index_column": "('Fiction', 'Classics', 'Thriller')"
        },
        {
         "Genres": 3,
         "_deepnote_index_column": "('Fiction', 'Classics', 'War')"
        },
        {
         "Genres": 1,
         "_deepnote_index_column": "('Fiction', 'Classics', 'WomensFiction')"
        },
        {
         "Genres": 2,
         "_deepnote_index_column": "('Fiction', 'Classics', 'YoungAdult')"
        },
        {
         "Genres": 1,
         "_deepnote_index_column": "('Fiction', 'Contemporary', 'BookClub')"
        },
        {
         "Genres": 3,
         "_deepnote_index_column": "('Fiction', 'Contemporary', 'Classics')"
        },
        {
         "Genres": 1,
         "_deepnote_index_column": "('Fiction', 'Contemporary', 'Cultural')"
        },
        {
         "Genres": 1,
         "_deepnote_index_column": "('Fiction', 'Contemporary', 'Drama')"
        },
        {
         "Genres": 1,
         "_deepnote_index_column": "('Fiction', 'Contemporary', 'Environment')"
        },
        {
         "Genres": 1,
         "_deepnote_index_column": "('Fiction', 'Contemporary', 'Humor')"
        },
        {
         "Genres": 4,
         "_deepnote_index_column": "('Fiction', 'Contemporary', 'LiteraryFiction')"
        },
        {
         "Genres": 3,
         "_deepnote_index_column": "('Fiction', 'Contemporary', 'Literature')"
        },
        {
         "Genres": 5,
         "_deepnote_index_column": "('Fiction', 'Contemporary', 'Novels')"
        },
        {
         "Genres": 1,
         "_deepnote_index_column": "('Fiction', 'Contemporary', 'Philosophy')"
        },
        {
         "Genres": 2,
         "_deepnote_index_column": "('Fiction', 'Contemporary', 'Thriller')"
        },
        {
         "Genres": 1,
         "_deepnote_index_column": "('Fiction', 'Contemporary', 'WomensFiction')"
        },
        {
         "Genres": 3,
         "_deepnote_index_column": "('Fiction', 'Cultural', 'Africa')"
        },
        {
         "Genres": 3,
         "_deepnote_index_column": "('Fiction', 'Cultural', 'Canada')"
        },
        {
         "Genres": 4,
         "_deepnote_index_column": "('Fiction', 'Cultural', 'France')"
        },
        {
         "Genres": 5,
         "_deepnote_index_column": "('Fiction', 'Cultural', 'India')"
        },
        {
         "Genres": 5,
         "_deepnote_index_column": "('Fiction', 'Cultural', 'Japan')"
        },
        {
         "Genres": 3,
         "_deepnote_index_column": "('Fiction', 'Cultural', 'Russia')"
        },
        {
         "Genres": 2,
         "_deepnote_index_column": "('Fiction', 'EuropeanLiterature', 'CzechLiterature')"
        },
        {
         "Genres": 3,
         "_deepnote_index_column": "('Fiction', 'EuropeanLiterature', 'GermanLiterature')"
        },
        {
         "Genres": 1,
         "_deepnote_index_column": "('Fiction', 'EuropeanLiterature', 'IrishLiterature')"
        },
        {
         "Genres": 1,
         "_deepnote_index_column": "('Fiction', 'EuropeanLiterature', 'PolishLiterature')"
        },
        {
         "Genres": 2,
         "_deepnote_index_column": "('Fiction', 'Fantasy', 'Classics')"
        },
        {
         "Genres": 2,
         "_deepnote_index_column": "('Fiction', 'Fantasy', 'Cultural')"
        },
        {
         "Genres": 1,
         "_deepnote_index_column": "('Fiction', 'Fantasy', 'Historical')"
        },
        {
         "Genres": 1,
         "_deepnote_index_column": "('Fiction', 'Fantasy', 'Humor')"
        },
        {
         "Genres": 1,
         "_deepnote_index_column": "('Fiction', 'Feminism', 'Classics')"
        },
        {
         "Genres": 46,
         "_deepnote_index_column": "('Fiction', 'Historical', 'HistoricalFiction')"
        },
        {
         "Genres": 1,
         "_deepnote_index_column": "('Fiction', 'Horror', 'Classics')"
        },
        {
         "Genres": 1,
         "_deepnote_index_column": "('Fiction', 'Horror', 'Fantasy')"
        },
        {
         "Genres": 2,
         "_deepnote_index_column": "('Fiction', 'Horror', 'Thriller')"
        },
        {
         "Genres": 1,
         "_deepnote_index_column": "('Fiction', 'Horror', 'YoungAdult')"
        },
        {
         "Genres": 2,
         "_deepnote_index_column": "('Fiction', 'Humor', 'Classics')"
        },
        {
         "Genres": 2,
         "_deepnote_index_column": "('Fiction', 'Humor', 'Literature')"
        },
        {
         "Genres": 2,
         "_deepnote_index_column": "('Fiction', 'Humor', 'Novels')"
        },
        {
         "Genres": 1,
         "_deepnote_index_column": "('Fiction', 'Humor', 'ShortStories')"
        },
        {
         "Genres": 1,
         "_deepnote_index_column": "('Fiction', 'LGBT', 'GLBT')"
        },
        {
         "Genres": 3,
         "_deepnote_index_column": "('Fiction', 'LiteraryFiction', 'Contemporary')"
        },
        {
         "Genres": 1,
         "_deepnote_index_column": "('Fiction', 'Literature', 'Gothic')"
        },
        {
         "Genres": 1,
         "_deepnote_index_column": "('Fiction', 'Literature', 'Jewish')"
        },
        {
         "Genres": 1,
         "_deepnote_index_column": "('Fiction', 'Literature', 'Novels')"
        },
        {
         "Genres": 2,
         "_deepnote_index_column": "('Fiction', 'MagicalRealism', 'Classics')"
        },
        {
         "Genres": 1,
         "_deepnote_index_column": "('Fiction', 'MagicalRealism', 'Cultural')"
        },
        {
         "Genres": 2,
         "_deepnote_index_column": "('Fiction', 'MagicalRealism', 'Historical')"
        },
        {
         "Genres": 1,
         "_deepnote_index_column": "('Fiction', 'MagicalRealism', 'LiteraryFiction')"
        },
        {
         "Genres": 1,
         "_deepnote_index_column": "('Fiction', 'Music', 'Contemporary')"
        },
        {
         "Genres": 1,
         "_deepnote_index_column": "('Fiction', 'Mystery', 'Contemporary')"
        },
        {
         "Genres": 1,
         "_deepnote_index_column": "('Fiction', 'Mystery', 'Historical')"
        },
        {
         "Genres": 1,
         "_deepnote_index_column": "('Fiction', 'Mystery', 'Literature')"
        },
        {
         "Genres": 2,
         "_deepnote_index_column": "('Fiction', 'Mystery', 'Mystery')"
        },
        {
         "Genres": 6,
         "_deepnote_index_column": "('Fiction', 'Mystery', 'Thriller')"
        },
        {
         "Genres": 1,
         "_deepnote_index_column": "('Fiction', 'Novels', 'Classics')"
        },
        {
         "Genres": 1,
         "_deepnote_index_column": "('Fiction', 'Novels', 'EuropeanLiterature')"
        },
        {
         "Genres": 1,
         "_deepnote_index_column": "('Fiction', 'Novels', 'Literature')"
        },
        {
         "Genres": 1,
         "_deepnote_index_column": "('Fiction', 'Philosophy', 'Classics')"
        },
        {
         "Genres": 1,
         "_deepnote_index_column": "('Fiction', 'Philosophy', 'EuropeanLiterature')"
        },
        {
         "Genres": 2,
         "_deepnote_index_column": "('Fiction', 'Philosophy', 'Spirituality')"
        },
        {
         "Genres": 1,
         "_deepnote_index_column": "('Fiction', 'Poetry', 'Classics')"
        },
        {
         "Genres": 2,
         "_deepnote_index_column": "('Fiction', 'Poetry', 'ShortStories')"
        },
        {
         "Genres": 1,
         "_deepnote_index_column": "('Fiction', 'Religion', 'Classics')"
        },
        {
         "Genres": 1,
         "_deepnote_index_column": "('Fiction', 'Religion', 'Historical')"
        },
        {
         "Genres": 1,
         "_deepnote_index_column": "('Fiction', 'Romance', 'Animals')"
        },
        {
         "Genres": 1,
         "_deepnote_index_column": "('Fiction', 'Romance', 'Historical')"
        },
        {
         "Genres": 2,
         "_deepnote_index_column": "('Fiction', 'Romance', 'MagicalRealism')"
        },
        {
         "Genres": 1,
         "_deepnote_index_column": "('Fiction', 'Romance', 'WomensFiction')"
        },
        {
         "Genres": 3,
         "_deepnote_index_column": "('Fiction', 'ScienceFiction', 'Apocalyptic')"
        },
        {
         "Genres": 2,
         "_deepnote_index_column": "('Fiction', 'ScienceFiction', 'Classics')"
        },
        {
         "Genres": 1,
         "_deepnote_index_column": "('Fiction', 'ScienceFiction', 'Dystopia')"
        },
        {
         "Genres": 2,
         "_deepnote_index_column": "('Fiction', 'ScienceFiction', 'Fantasy')"
        },
        {
         "Genres": 1,
         "_deepnote_index_column": "('Fiction', 'ScienceFiction', 'Historical')"
        },
        {
         "Genres": 2,
         "_deepnote_index_column": "('Fiction', 'ScienceFiction', 'ScienceFiction')"
        },
        {
         "Genres": 7,
         "_deepnote_index_column": "('Fiction', 'ShortStories', 'Classics')"
        },
        {
         "Genres": 1,
         "_deepnote_index_column": "('Fiction', 'ShortStories', 'EuropeanLiterature')"
        },
        {
         "Genres": 1,
         "_deepnote_index_column": "('Fiction', 'ShortStories', 'Fantasy')"
        },
        {
         "Genres": 1,
         "_deepnote_index_column": "('Fiction', 'ShortStories', 'LGBT')"
        },
        {
         "Genres": 1,
         "_deepnote_index_column": "('Fiction', 'ShortStories', 'Philosophy')"
        },
        {
         "Genres": 1,
         "_deepnote_index_column": "('Fiction', 'ShortStories', 'Poetry')"
        },
        {
         "Genres": 1,
         "_deepnote_index_column": "('Fiction', 'ShortStories', 'ScienceFiction')"
        },
        {
         "Genres": 1,
         "_deepnote_index_column": "('Fiction', 'Spirituality', 'Philosophy')"
        },
        {
         "Genres": 1,
         "_deepnote_index_column": "('Fiction', 'Sports', 'Baseball')"
        },
        {
         "Genres": 1,
         "_deepnote_index_column": "('Fiction', 'SpyThriller', 'Espionage')"
        },
        {
         "Genres": 1,
         "_deepnote_index_column": "('Fiction', 'Thriller', 'Historical')"
        },
        {
         "Genres": 10,
         "_deepnote_index_column": "('Fiction', 'Thriller', 'Mystery')"
        },
        {
         "Genres": 1,
         "_deepnote_index_column": "('Fiction', 'Thriller', 'SpyThriller')"
        },
        {
         "Genres": 1,
         "_deepnote_index_column": "('Fiction', 'Travel', 'Thriller')"
        },
        {
         "Genres": 1,
         "_deepnote_index_column": "('Fiction', 'War', 'Historical')"
        },
        {
         "Genres": 1,
         "_deepnote_index_column": "('Fiction', 'Westerns', 'Historical')"
        },
        {
         "Genres": 1,
         "_deepnote_index_column": "('Fiction', 'Westerns', 'Literature')"
        },
        {
         "Genres": 3,
         "_deepnote_index_column": "('Fiction', 'WomensFiction', 'ChickLit')"
        },
        {
         "Genres": 2,
         "_deepnote_index_column": "('Fiction', 'YoungAdult', 'Childrens')"
        },
        {
         "Genres": 1,
         "_deepnote_index_column": "('Fiction', 'YoungAdult', 'Classics')"
        },
        {
         "Genres": 1,
         "_deepnote_index_column": "('Fiction', 'YoungAdult', 'Drama')"
        },
        {
         "Genres": 1,
         "_deepnote_index_column": "('FoodandDrink', 'Cookbooks', 'FoodandDrink')"
        },
        {
         "Genres": 1,
         "_deepnote_index_column": "('Historical', 'HistoricalFiction', 'Childrens')"
        },
        {
         "Genres": 1,
         "_deepnote_index_column": "('Historical', 'HistoricalFiction', 'Classics')"
        },
        {
         "Genres": 54,
         "_deepnote_index_column": "('Historical', 'HistoricalFiction', 'Fiction')"
        },
        {
         "Genres": 1,
         "_deepnote_index_column": "('Historical', 'HistoricalFiction', 'Mystery')"
        },
        {
         "Genres": 4,
         "_deepnote_index_column": "('Historical', 'HistoricalFiction', 'Romance')"
        },
        {
         "Genres": 4,
         "_deepnote_index_column": "('Historical', 'HistoricalFiction', 'YoungAdult')"
        },
        {
         "Genres": 1,
         "_deepnote_index_column": "('History', 'Biography', 'Nonfiction')"
        },
        {
         "Genres": 3,
         "_deepnote_index_column": "('History', 'Nonfiction', 'Biography')"
        },
        {
         "Genres": 2,
         "_deepnote_index_column": "('History', 'Nonfiction', 'Classics')"
        },
        {
         "Genres": 1,
         "_deepnote_index_column": "('History', 'Nonfiction', 'Education')"
        },
        {
         "Genres": 1,
         "_deepnote_index_column": "('History', 'Nonfiction', 'NorthAmericanHi...')"
        },
        {
         "Genres": 1,
         "_deepnote_index_column": "('History', 'Nonfiction', 'Philosophy')"
        },
        {
         "Genres": 3,
         "_deepnote_index_column": "('History', 'Nonfiction', 'Politics')"
        },
        {
         "Genres": 1,
         "_deepnote_index_column": "('History', 'Nonfiction', 'Science')"
        },
        {
         "Genres": 4,
         "_deepnote_index_column": "('History', 'Nonfiction', 'War')"
        },
        {
         "Genres": 1,
         "_deepnote_index_column": "('History', 'Philosophy', 'Nonfiction')"
        },
        {
         "Genres": 1,
         "_deepnote_index_column": "('Holiday', 'Christmas', 'Childrens')"
        },
        {
         "Genres": 1,
         "_deepnote_index_column": "('Horror', 'Classics', 'Fiction')"
        },
        {
         "Genres": 4,
         "_deepnote_index_column": "('Horror', 'Fantasy', 'Fiction')"
        },
        {
         "Genres": 3,
         "_deepnote_index_column": "('Horror', 'Fantasy', 'Paranormal')"
        },
        {
         "Genres": 1,
         "_deepnote_index_column": "('Horror', 'Fiction', 'Apocalyptic')"
        },
        {
         "Genres": 3,
         "_deepnote_index_column": "('Horror', 'Fiction', 'Classics')"
        },
        {
         "Genres": 6,
         "_deepnote_index_column": "('Horror', 'Fiction', 'Fantasy')"
        },
        {
         "Genres": 1,
         "_deepnote_index_column": "('Horror', 'Fiction', 'Paranormal')"
        },
        {
         "Genres": 2,
         "_deepnote_index_column": "('Horror', 'Fiction', 'ScienceFiction')"
        },
        {
         "Genres": 1,
         "_deepnote_index_column": "('Horror', 'Fiction', 'ShortStories')"
        },
        {
         "Genres": 14,
         "_deepnote_index_column": "('Horror', 'Fiction', 'Thriller')"
        },
        {
         "Genres": 1,
         "_deepnote_index_column": "('Horror', 'ScienceFiction', 'Fiction')"
        },
        {
         "Genres": 1,
         "_deepnote_index_column": "('Humor', 'Nonfiction', 'Classics')"
        },
        {
         "Genres": 1,
         "_deepnote_index_column": "('Language', 'Writing', 'Nonfiction')"
        },
        {
         "Genres": 2,
         "_deepnote_index_column": "('Mystery', 'Classics', 'Fiction')"
        },
        {
         "Genres": 9,
         "_deepnote_index_column": "('Mystery', 'Fiction', 'Classics')"
        },
        {
         "Genres": 1,
         "_deepnote_index_column": "('Mystery', 'Fiction', 'Cultural')"
        },
        {
         "Genres": 1,
         "_deepnote_index_column": "('Mystery', 'Fiction', 'Historical')"
        },
        {
         "Genres": 1,
         "_deepnote_index_column": "('Mystery', 'Fiction', 'Humor')"
        },
        {
         "Genres": 4,
         "_deepnote_index_column": "('Mystery', 'Fiction', 'Mystery')"
        },
        {
         "Genres": 2,
         "_deepnote_index_column": "('Mystery', 'Fiction', 'Thriller')"
        },
        {
         "Genres": 1,
         "_deepnote_index_column": "('Mystery', 'Historical', 'HistoricalFiction')"
        },
        {
         "Genres": 2,
         "_deepnote_index_column": "('Mystery', 'YoungAdult', 'Fiction')"
        },
        {
         "Genres": 1,
         "_deepnote_index_column": "('Nonfiction', 'Adventure', 'Autobiography')"
        },
        {
         "Genres": 1,
         "_deepnote_index_column": "('Nonfiction', 'Animals', 'Autobiography')"
        },
        {
         "Genres": 1,
         "_deepnote_index_column": "('Nonfiction', 'Animals', 'Environment')"
        },
        {
         "Genres": 12,
         "_deepnote_index_column": "('Nonfiction', 'Autobiography', 'Memoir')"
        },
        {
         "Genres": 1,
         "_deepnote_index_column": "('Nonfiction', 'Biography', 'Adventure')"
        },
        {
         "Genres": 1,
         "_deepnote_index_column": "('Nonfiction', 'Biography', 'Classics')"
        },
        {
         "Genres": 2,
         "_deepnote_index_column": "('Nonfiction', 'Biography', 'History')"
        },
        {
         "Genres": 3,
         "_deepnote_index_column": "('Nonfiction', 'Classics', 'Autobiography')"
        },
        {
         "Genres": 1,
         "_deepnote_index_column": "('Nonfiction', 'Classics', 'Biography')"
        },
        {
         "Genres": 1,
         "_deepnote_index_column": "('Nonfiction', 'Classics', 'Crime')"
        },
        {
         "Genres": 2,
         "_deepnote_index_column": "('Nonfiction', 'Classics', 'History')"
        },
        {
         "Genres": 2,
         "_deepnote_index_column": "('Nonfiction', 'Crime', 'TrueCrime')"
        },
        {
         "Genres": 1,
         "_deepnote_index_column": "('Nonfiction', 'Cultural', 'Africa')"
        },
        {
         "Genres": 3,
         "_deepnote_index_column": "('Nonfiction', 'Environment', 'Nature')"
        },
        {
         "Genres": 2,
         "_deepnote_index_column": "('Nonfiction', 'Fantasy', 'Mythology')"
        },
        {
         "Genres": 1,
         "_deepnote_index_column": "('Nonfiction', 'History', 'Adventure')"
        },
        {
         "Genres": 1,
         "_deepnote_index_column": "('Nonfiction', 'History', 'Autobiography')"
        },
        {
         "Genres": 3,
         "_deepnote_index_column": "('Nonfiction', 'History', 'Biography')"
        },
        {
         "Genres": 2,
         "_deepnote_index_column": "('Nonfiction', 'History', 'Classics')"
        },
        {
         "Genres": 1,
         "_deepnote_index_column": "('Nonfiction', 'History', 'Cultural')"
        },
        {
         "Genres": 1,
         "_deepnote_index_column": "('Nonfiction', 'History', 'Philosophy')"
        },
        {
         "Genres": 1,
         "_deepnote_index_column": "('Nonfiction', 'History', 'Politics')"
        },
        {
         "Genres": 1,
         "_deepnote_index_column": "('Nonfiction', 'History', 'Religion')"
        },
        {
         "Genres": 1,
         "_deepnote_index_column": "('Nonfiction', 'History', 'Science')"
        },
        {
         "Genres": 1,
         "_deepnote_index_column": "('Nonfiction', 'History', 'War')"
        },
        {
         "Genres": 1,
         "_deepnote_index_column": "('Nonfiction', 'History', 'WorldWarII')"
        },
        {
         "Genres": 1,
         "_deepnote_index_column": "('Nonfiction', 'Humor', 'Autobiography')"
        },
        {
         "Genres": 1,
         "_deepnote_index_column": "('Nonfiction', 'Language', 'Writing')"
        },
        {
         "Genres": 1,
         "_deepnote_index_column": "('Nonfiction', 'Politics', 'Economics')"
        },
        {
         "Genres": 1,
         "_deepnote_index_column": "('Nonfiction', 'Psychology', 'Philosophy')"
        },
        {
         "Genres": 1,
         "_deepnote_index_column": "('Nonfiction', 'Psychology', 'Science')"
        },
        {
         "Genres": 1,
         "_deepnote_index_column": "('Nonfiction', 'Science', 'Environment')"
        },
        {
         "Genres": 2,
         "_deepnote_index_column": "('Nonfiction', 'Science', 'History')"
        },
        {
         "Genres": 1,
         "_deepnote_index_column": "('Nonfiction', 'SelfHelp', 'Business')"
        },
        {
         "Genres": 1,
         "_deepnote_index_column": "('Nonfiction', 'Sociology', 'Science')"
        },
        {
         "Genres": 1,
         "_deepnote_index_column": "('Nonfiction', 'Travel', 'Biography')"
        },
        {
         "Genres": 1,
         "_deepnote_index_column": "('Nonfiction', 'Travel', 'Humor')"
        },
        {
         "Genres": 1,
         "_deepnote_index_column": "('Nonfiction', 'Writing', 'BooksAboutBooks')"
        },
        {
         "Genres": 2,
         "_deepnote_index_column": "('Nonfiction', 'Writing', 'Essays')"
        },
        {
         "Genres": 4,
         "_deepnote_index_column": "('Philosophy', 'Fiction', 'Classics')"
        },
        {
         "Genres": 1,
         "_deepnote_index_column": "('Philosophy', 'History', 'Nonfiction')"
        },
        {
         "Genres": 2,
         "_deepnote_index_column": "('Philosophy', 'Nonfiction', 'Classics')"
        },
        {
         "Genres": 1,
         "_deepnote_index_column": "('Philosophy', 'Nonfiction', 'History')"
        },
        {
         "Genres": 1,
         "_deepnote_index_column": "('Philosophy', 'Nonfiction', 'Politics')"
        },
        {
         "Genres": 1,
         "_deepnote_index_column": "('Philosophy', 'Nonfiction', 'Religion')"
        },
        {
         "Genres": 1,
         "_deepnote_index_column": "('Philosophy', 'Nonfiction', 'Spirituality')"
        },
        {
         "Genres": 2,
         "_deepnote_index_column": "('Philosophy', 'Nonfiction', 'Writing')"
        },
        {
         "Genres": 1,
         "_deepnote_index_column": "('Philosophy', 'Religion', 'Nonfiction')"
        },
        {
         "Genres": 6,
         "_deepnote_index_column": "('Plays', 'Classics', 'Drama')"
        },
        {
         "Genres": 2,
         "_deepnote_index_column": "('Plays', 'Classics', 'Fiction')"
        },
        {
         "Genres": 4,
         "_deepnote_index_column": "('Plays', 'Drama', 'Classics')"
        },
        {
         "Genres": 1,
         "_deepnote_index_column": "('Plays', 'Drama', 'Cultural')"
        },
        {
         "Genres": 1,
         "_deepnote_index_column": "('Plays', 'Drama', 'Fiction')"
        },
        {
         "Genres": 1,
         "_deepnote_index_column": "('Plays', 'Drama', 'LGBT')"
        },
        {
         "Genres": 1,
         "_deepnote_index_column": "('Plays', 'Philosophy', 'Drama')"
        },
        {
         "Genres": 2,
         "_deepnote_index_column": "('Poetry', 'Childrens', 'Classics')"
        },
        {
         "Genres": 1,
         "_deepnote_index_column": "('Poetry', 'Classics', 'Childrens')"
        },
        {
         "Genres": 3,
         "_deepnote_index_column": "('Poetry', 'Classics', 'EuropeanLiterature')"
        },
        {
         "Genres": 1,
         "_deepnote_index_column": "('Poetry', 'Classics', 'Feminism')"
        },
        {
         "Genres": 5,
         "_deepnote_index_column": "('Poetry', 'Classics', 'Fiction')"
        },
        {
         "Genres": 5,
         "_deepnote_index_column": "('Poetry', 'Classics', 'Literature')"
        },
        {
         "Genres": 1,
         "_deepnote_index_column": "('Poetry', 'Classics', 'Romance')"
        },
        {
         "Genres": 1,
         "_deepnote_index_column": "('Poetry', 'Classics', 'Womens')"
        },
        {
         "Genres": 1,
         "_deepnote_index_column": "('Poetry', 'Cultural', 'Russia')"
        },
        {
         "Genres": 1,
         "_deepnote_index_column": "('Poetry', 'EuropeanLiterature', 'GermanLiterature')"
        },
        {
         "Genres": 1,
         "_deepnote_index_column": "('Poetry', 'Nonfiction', 'Classics')"
        },
        {
         "Genres": 1,
         "_deepnote_index_column": "('Poetry', 'Philosophy', 'Classics')"
        },
        {
         "Genres": 1,
         "_deepnote_index_column": "('Poetry', 'Plays', 'Classics')"
        },
        {
         "Genres": 1,
         "_deepnote_index_column": "('Poetry', 'ShortStories', 'Fiction')"
        },
        {
         "Genres": 2,
         "_deepnote_index_column": "('Psychology', 'Nonfiction', 'Philosophy')"
        },
        {
         "Genres": 3,
         "_deepnote_index_column": "('Psychology', 'Philosophy', 'Nonfiction')"
        },
        {
         "Genres": 1,
         "_deepnote_index_column": "('Romance', 'Fiction', 'Classics')"
        },
        {
         "Genres": 3,
         "_deepnote_index_column": "('Romance', 'Fiction', 'WomensFiction')"
        },
        {
         "Genres": 1,
         "_deepnote_index_column": "('Science', 'Nonfiction', 'Biography')"
        },
        {
         "Genres": 1,
         "_deepnote_index_column": "('Science', 'Nonfiction', 'Biology')"
        },
        {
         "Genres": 2,
         "_deepnote_index_column": "('Science', 'Nonfiction', 'Philosophy')"
        },
        {
         "Genres": 3,
         "_deepnote_index_column": "('Science', 'Nonfiction', 'Science')"
        },
        {
         "Genres": 1,
         "_deepnote_index_column": "('Science', 'Philosophy', 'Nonfiction')"
        },
        {
         "Genres": 1,
         "_deepnote_index_column": "('ScienceFiction', 'Fiction', 'Apocalyptic')"
        },
        {
         "Genres": 18,
         "_deepnote_index_column": "('ScienceFiction', 'Fiction', 'Classics')"
        },
        {
         "Genres": 8,
         "_deepnote_index_column": "('ScienceFiction', 'Fiction', 'Fantasy')"
        },
        {
         "Genres": 2,
         "_deepnote_index_column": "('ScienceFiction', 'Fiction', 'Humor')"
        },
        {
         "Genres": 1,
         "_deepnote_index_column": "('ScienceFiction', 'Fiction', 'Religion')"
        },
        {
         "Genres": 6,
         "_deepnote_index_column": "('ScienceFiction', 'Fiction', 'ScienceFiction')"
        },
        {
         "Genres": 4,
         "_deepnote_index_column": "('ScienceFiction', 'Fiction', 'ScienceFictionFantasy')"
        },
        {
         "Genres": 1,
         "_deepnote_index_column": "('ScienceFiction', 'Fiction', 'Space')"
        },
        {
         "Genres": 2,
         "_deepnote_index_column": "('ScienceFiction', 'Fiction', 'Thriller')"
        },
        {
         "Genres": 1,
         "_deepnote_index_column": "('ScienceFiction', 'Fiction', 'War')"
        },
        {
         "Genres": 1,
         "_deepnote_index_column": "('ScienceFiction', 'Fiction', 'YoungAdult')"
        },
        {
         "Genres": 2,
         "_deepnote_index_column": "('ScienceFiction', 'ScienceFiction', 'TimeTravel')"
        },
        {
         "Genres": 1,
         "_deepnote_index_column": "('ScienceFiction', 'ShortStories', 'Fiction')"
        },
        {
         "Genres": 1,
         "_deepnote_index_column": "('SelfHelp', 'Nonfiction', 'Business')"
        },
        {
         "Genres": 1,
         "_deepnote_index_column": "('SelfHelp', 'Nonfiction', 'Psychology')"
        },
        {
         "Genres": 1,
         "_deepnote_index_column": "('SequentialArt', 'Comics', 'Humor')"
        },
        {
         "Genres": 2,
         "_deepnote_index_column": "('SequentialArt', 'Comics', 'SequentialArt')"
        },
        {
         "Genres": 1,
         "_deepnote_index_column": "('SequentialArt', 'GraphicNovels', 'Nonfiction')"
        },
        {
         "Genres": 6,
         "_deepnote_index_column": "('SequentialArt', 'GraphicNovels', 'SequentialArt')"
        },
        {
         "Genres": 1,
         "_deepnote_index_column": "('ShortStories', 'Classics', 'Horror')"
        },
        {
         "Genres": 7,
         "_deepnote_index_column": "('ShortStories', 'Fiction', 'Classics')"
        },
        {
         "Genres": 1,
         "_deepnote_index_column": "('ShortStories', 'Fiction', 'Cultural')"
        },
        {
         "Genres": 1,
         "_deepnote_index_column": "('ShortStories', 'Fiction', 'Horror')"
        },
        {
         "Genres": 1,
         "_deepnote_index_column": "('ShortStories', 'Fiction', 'Westerns')"
        },
        {
         "Genres": 1,
         "_deepnote_index_column": "('Sociology', 'Philosophy', 'Nonfiction')"
        },
        {
         "Genres": 2,
         "_deepnote_index_column": "('Travel', 'Nonfiction', 'Autobiography')"
        },
        {
         "Genres": 1,
         "_deepnote_index_column": "('Travel', 'Nonfiction', 'History')"
        },
        {
         "Genres": 1,
         "_deepnote_index_column": "('WomensFiction', 'ChickLit', 'Fiction')"
        },
        {
         "Genres": 1,
         "_deepnote_index_column": "('YoungAdult', 'Fiction', 'Adventure')"
        },
        {
         "Genres": 2,
         "_deepnote_index_column": "('YoungAdult', 'Fiction', 'Childrens')"
        },
        {
         "Genres": 3,
         "_deepnote_index_column": "('YoungAdult', 'Fiction', 'Classics')"
        },
        {
         "Genres": 3,
         "_deepnote_index_column": "('YoungAdult', 'Fiction', 'Contemporary')"
        },
        {
         "Genres": 1,
         "_deepnote_index_column": "('YoungAdult', 'Fiction', 'Fantasy')"
        },
        {
         "Genres": 1,
         "_deepnote_index_column": "('YoungAdult', 'Fiction', 'Historical')"
        }
       ]
      },
      "text/html": [
       "<div>\n",
       "<style scoped>\n",
       "    .dataframe tbody tr th:only-of-type {\n",
       "        vertical-align: middle;\n",
       "    }\n",
       "\n",
       "    .dataframe tbody tr th {\n",
       "        vertical-align: top;\n",
       "    }\n",
       "\n",
       "    .dataframe thead th {\n",
       "        text-align: right;\n",
       "    }\n",
       "</style>\n",
       "<table border=\"1\" class=\"dataframe\">\n",
       "  <thead>\n",
       "    <tr style=\"text-align: right;\">\n",
       "      <th></th>\n",
       "      <th>Genres</th>\n",
       "    </tr>\n",
       "    <tr>\n",
       "      <th>Genres</th>\n",
       "      <th></th>\n",
       "    </tr>\n",
       "  </thead>\n",
       "  <tbody>\n",
       "    <tr>\n",
       "      <th>(Autobiography, Memoir, Nonfiction)</th>\n",
       "      <td>2</td>\n",
       "    </tr>\n",
       "    <tr>\n",
       "      <th>(Biography, History, Politics)</th>\n",
       "      <td>1</td>\n",
       "    </tr>\n",
       "    <tr>\n",
       "      <th>(Childrens, Childrens, PictureBooks)</th>\n",
       "      <td>10</td>\n",
       "    </tr>\n",
       "    <tr>\n",
       "      <th>(Childrens, Classics, Childrens)</th>\n",
       "      <td>1</td>\n",
       "    </tr>\n",
       "    <tr>\n",
       "      <th>(Childrens, Classics, Fiction)</th>\n",
       "      <td>1</td>\n",
       "    </tr>\n",
       "    <tr>\n",
       "      <th>...</th>\n",
       "      <td>...</td>\n",
       "    </tr>\n",
       "    <tr>\n",
       "      <th>(YoungAdult, Fiction, Childrens)</th>\n",
       "      <td>2</td>\n",
       "    </tr>\n",
       "    <tr>\n",
       "      <th>(YoungAdult, Fiction, Classics)</th>\n",
       "      <td>3</td>\n",
       "    </tr>\n",
       "    <tr>\n",
       "      <th>(YoungAdult, Fiction, Contemporary)</th>\n",
       "      <td>3</td>\n",
       "    </tr>\n",
       "    <tr>\n",
       "      <th>(YoungAdult, Fiction, Fantasy)</th>\n",
       "      <td>1</td>\n",
       "    </tr>\n",
       "    <tr>\n",
       "      <th>(YoungAdult, Fiction, Historical)</th>\n",
       "      <td>1</td>\n",
       "    </tr>\n",
       "  </tbody>\n",
       "</table>\n",
       "<p>345 rows × 1 columns</p>\n",
       "</div>"
      ],
      "text/plain": [
       "                                      Genres\n",
       "Genres                                      \n",
       "(Autobiography, Memoir, Nonfiction)        2\n",
       "(Biography, History, Politics)             1\n",
       "(Childrens, Childrens, PictureBooks)      10\n",
       "(Childrens, Classics, Childrens)           1\n",
       "(Childrens, Classics, Fiction)             1\n",
       "...                                      ...\n",
       "(YoungAdult, Fiction, Childrens)           2\n",
       "(YoungAdult, Fiction, Classics)            3\n",
       "(YoungAdult, Fiction, Contemporary)        3\n",
       "(YoungAdult, Fiction, Fantasy)             1\n",
       "(YoungAdult, Fiction, Historical)          1\n",
       "\n",
       "[345 rows x 1 columns]"
      ]
     },
     "execution_count": 180,
     "metadata": {},
     "output_type": "execute_result"
    }
   ],
   "source": [
    "dgenres = books.groupby(\"Genres\").agg({\"Genres\": np.size})\n",
    "dgenres"
   ]
  },
  {
   "cell_type": "code",
   "execution_count": null,
   "metadata": {
    "cell_id": "00017-66dd00b2-895c-4f14-809a-cdc76f0870e5",
    "deepnote_cell_type": "code",
    "deepnote_to_be_reexecuted": false,
    "execution_millis": 14,
    "execution_start": 1610638682937,
    "source_hash": "db12f71b",
    "tags": []
   },
   "outputs": [
    {
     "ename": "AttributeError",
     "evalue": "'DataFrame' object has no attribute 'repeat'",
     "output_type": "error",
     "traceback": [
      "\u001b[0;31m---------------------------------------------------------------------------\u001b[0m",
      "\u001b[0;31mAttributeError\u001b[0m                            Traceback (most recent call last)",
      "\u001b[0;32m<ipython-input-182-970b38d48044>\u001b[0m in \u001b[0;36m<module>\u001b[0;34m\u001b[0m\n\u001b[0;32m----> 1\u001b[0;31m \u001b[0mbooks\u001b[0m\u001b[0;34m.\u001b[0m\u001b[0mrepeat\u001b[0m\u001b[0;34m(\u001b[0m\u001b[0;36m3\u001b[0m\u001b[0;34m)\u001b[0m\u001b[0;34m\u001b[0m\u001b[0;34m\u001b[0m\u001b[0m\n\u001b[0m",
      "\u001b[0;32m/opt/venv/lib/python3.7/site-packages/pandas/core/generic.py\u001b[0m in \u001b[0;36m__getattr__\u001b[0;34m(self, name)\u001b[0m\n\u001b[1;32m   5272\u001b[0m             \u001b[0;32mif\u001b[0m \u001b[0mself\u001b[0m\u001b[0;34m.\u001b[0m\u001b[0m_info_axis\u001b[0m\u001b[0;34m.\u001b[0m\u001b[0m_can_hold_identifiers_and_holds_name\u001b[0m\u001b[0;34m(\u001b[0m\u001b[0mname\u001b[0m\u001b[0;34m)\u001b[0m\u001b[0;34m:\u001b[0m\u001b[0;34m\u001b[0m\u001b[0;34m\u001b[0m\u001b[0m\n\u001b[1;32m   5273\u001b[0m                 \u001b[0;32mreturn\u001b[0m \u001b[0mself\u001b[0m\u001b[0;34m[\u001b[0m\u001b[0mname\u001b[0m\u001b[0;34m]\u001b[0m\u001b[0;34m\u001b[0m\u001b[0;34m\u001b[0m\u001b[0m\n\u001b[0;32m-> 5274\u001b[0;31m             \u001b[0;32mreturn\u001b[0m \u001b[0mobject\u001b[0m\u001b[0;34m.\u001b[0m\u001b[0m__getattribute__\u001b[0m\u001b[0;34m(\u001b[0m\u001b[0mself\u001b[0m\u001b[0;34m,\u001b[0m \u001b[0mname\u001b[0m\u001b[0;34m)\u001b[0m\u001b[0;34m\u001b[0m\u001b[0;34m\u001b[0m\u001b[0m\n\u001b[0m\u001b[1;32m   5275\u001b[0m \u001b[0;34m\u001b[0m\u001b[0m\n\u001b[1;32m   5276\u001b[0m     \u001b[0;32mdef\u001b[0m \u001b[0m__setattr__\u001b[0m\u001b[0;34m(\u001b[0m\u001b[0mself\u001b[0m\u001b[0;34m,\u001b[0m \u001b[0mname\u001b[0m\u001b[0;34m:\u001b[0m \u001b[0mstr\u001b[0m\u001b[0;34m,\u001b[0m \u001b[0mvalue\u001b[0m\u001b[0;34m)\u001b[0m \u001b[0;34m->\u001b[0m \u001b[0;32mNone\u001b[0m\u001b[0;34m:\u001b[0m\u001b[0;34m\u001b[0m\u001b[0;34m\u001b[0m\u001b[0m\n",
      "\u001b[0;31mAttributeError\u001b[0m: 'DataFrame' object has no attribute 'repeat'"
     ]
    }
   ],
   "source": [
    "books.repeat(3)"
   ]
  },
  {
   "cell_type": "code",
   "execution_count": null,
   "metadata": {
    "cell_id": "00018-d1472ac4-e1c5-4a36-b6ce-757ec1049108",
    "deepnote_cell_type": "code",
    "deepnote_to_be_reexecuted": false,
    "execution_millis": 54,
    "execution_start": 1610638885392,
    "source_hash": "99ab8d91",
    "tags": []
   },
   "outputs": [
    {
     "data": {
      "application/vnd.deepnote.dataframe.v2+json": {
       "column_count": 3,
       "columns": [
        {
         "dtype": "object",
         "name": 0,
         "stats": {
          "categories": [
           {
            "count": 372,
            "name": "Fiction"
           },
           {
            "count": 136,
            "name": "Classics"
           },
           {
            "count": 488,
            "name": "33 others"
           }
          ],
          "nan_count": 0,
          "unique_count": 35
         }
        },
        {
         "dtype": "object",
         "name": 1,
         "stats": {
          "categories": [
           {
            "count": 276,
            "name": "Fiction"
           },
           {
            "count": 204,
            "name": "Classics"
           },
           {
            "count": 516,
            "name": "61 others"
           }
          ],
          "nan_count": 0,
          "unique_count": 63
         }
        },
        {
         "dtype": "object",
         "name": 2,
         "stats": {
          "categories": [
           {
            "count": 117,
            "name": "Fiction"
           },
           {
            "count": 105,
            "name": "Classics"
           },
           {
            "count": 774,
            "name": "92 others"
           }
          ],
          "nan_count": 0,
          "unique_count": 94
         }
        },
        {
         "dtype": "int64",
         "name": "_deepnote_index_column"
        }
       ],
       "row_count": 996,
       "rows_bottom": [
        {
         "0": "Fiction",
         "1": "Romance",
         "2": "Animals",
         "_deepnote_index_column": 829
        },
        {
         "0": "Fiction",
         "1": "Cultural",
         "2": "Canada",
         "_deepnote_index_column": 830
        },
        {
         "0": "Autobiography",
         "1": "Memoir",
         "2": "Nonfiction",
         "_deepnote_index_column": 831
        },
        {
         "0": "Horror",
         "1": "Fiction",
         "2": "Fantasy",
         "_deepnote_index_column": 832
        },
        {
         "0": "Fiction",
         "1": "Historical",
         "2": "HistoricalFiction",
         "_deepnote_index_column": 833
        },
        {
         "0": "Fantasy",
         "1": "ScienceFiction",
         "2": "Fantasy",
         "_deepnote_index_column": 834
        },
        {
         "0": "Historical",
         "1": "HistoricalFiction",
         "2": "Fiction",
         "_deepnote_index_column": 835
        },
        {
         "0": "Fiction",
         "1": "Historical",
         "2": "HistoricalFiction",
         "_deepnote_index_column": 836
        },
        {
         "0": "Classics",
         "1": "Fiction",
         "2": "Childrens",
         "_deepnote_index_column": 837
        },
        {
         "0": "Fiction",
         "1": "Westerns",
         "2": "Literature",
         "_deepnote_index_column": 838
        },
        {
         "0": "Fiction",
         "1": "Historical",
         "2": "HistoricalFiction",
         "_deepnote_index_column": 839
        },
        {
         "0": "Nonfiction",
         "1": "Classics",
         "2": "Autobiography",
         "_deepnote_index_column": 840
        },
        {
         "0": "Fiction",
         "1": "Historical",
         "2": "HistoricalFiction",
         "_deepnote_index_column": 841
        },
        {
         "0": "Fantasy",
         "1": "Fiction",
         "2": "ScienceFictionFantasy",
         "_deepnote_index_column": 842
        },
        {
         "0": "Classics",
         "1": "Fiction",
         "2": "Literature",
         "_deepnote_index_column": 843
        },
        {
         "0": "Fiction",
         "1": "Classics",
         "2": "YoungAdult",
         "_deepnote_index_column": 844
        },
        {
         "0": "Classics",
         "1": "Historical",
         "2": "HistoricalFiction",
         "_deepnote_index_column": 845
        },
        {
         "0": "Fiction",
         "1": "Cultural",
         "2": "Russia",
         "_deepnote_index_column": 846
        },
        {
         "0": "Historical",
         "1": "HistoricalFiction",
         "2": "Fiction",
         "_deepnote_index_column": 847
        },
        {
         "0": "WomensFiction",
         "1": "ChickLit",
         "2": "Fiction",
         "_deepnote_index_column": 848
        },
        {
         "0": "Fiction",
         "1": "ScienceFiction",
         "2": "ScienceFiction",
         "_deepnote_index_column": 849
        },
        {
         "0": "Poetry",
         "1": "Classics",
         "2": "Literature",
         "_deepnote_index_column": 850
        },
        {
         "0": "Fiction",
         "1": "YoungAdult",
         "2": "Childrens",
         "_deepnote_index_column": 851
        },
        {
         "0": "Horror",
         "1": "Fiction",
         "2": "Thriller",
         "_deepnote_index_column": 852
        },
        {
         "0": "Fiction",
         "1": "Classics",
         "2": "Contemporary",
         "_deepnote_index_column": 853
        },
        {
         "0": "Fiction",
         "1": "MagicalRealism",
         "2": "Classics",
         "_deepnote_index_column": 854
        },
        {
         "0": "Fiction",
         "1": "ScienceFiction",
         "2": "Classics",
         "_deepnote_index_column": 855
        },
        {
         "0": "ScienceFiction",
         "1": "Fiction",
         "2": "ScienceFictionFantasy",
         "_deepnote_index_column": 856
        },
        {
         "0": "Mystery",
         "1": "Fiction",
         "2": "Classics",
         "_deepnote_index_column": 857
        },
        {
         "0": "Fiction",
         "1": "Childrens",
         "2": "RealisticFiction",
         "_deepnote_index_column": 858
        },
        {
         "0": "Fiction",
         "1": "Historical",
         "2": "HistoricalFiction",
         "_deepnote_index_column": 859
        },
        {
         "0": "ShortStories",
         "1": "Classics",
         "2": "Horror",
         "_deepnote_index_column": 860
        },
        {
         "0": "Childrens",
         "1": "PictureBooks",
         "2": "Childrens",
         "_deepnote_index_column": 861
        },
        {
         "0": "Fiction",
         "1": "Historical",
         "2": "HistoricalFiction",
         "_deepnote_index_column": 862
        },
        {
         "0": "Fiction",
         "1": "Classics",
         "2": "Literature",
         "_deepnote_index_column": 863
        },
        {
         "0": "Historical",
         "1": "HistoricalFiction",
         "2": "Fiction",
         "_deepnote_index_column": 864
        },
        {
         "0": "ShortStories",
         "1": "Fiction",
         "2": "Westerns",
         "_deepnote_index_column": 865
        },
        {
         "0": "Horror",
         "1": "Fiction",
         "2": "Fantasy",
         "_deepnote_index_column": 866
        },
        {
         "0": "Historical",
         "1": "HistoricalFiction",
         "2": "Fiction",
         "_deepnote_index_column": 867
        },
        {
         "0": "Psychology",
         "1": "Philosophy",
         "2": "Nonfiction",
         "_deepnote_index_column": 868
        },
        {
         "0": "Fiction",
         "1": "Contemporary",
         "2": "LiteraryFiction",
         "_deepnote_index_column": 869
        },
        {
         "0": "Fiction",
         "1": "Thriller",
         "2": "Mystery",
         "_deepnote_index_column": 870
        },
        {
         "0": "Fiction",
         "1": "Poetry",
         "2": "ShortStories",
         "_deepnote_index_column": 871
        },
        {
         "0": "SequentialArt",
         "1": "GraphicNovels",
         "2": "SequentialArt",
         "_deepnote_index_column": 872
        },
        {
         "0": "Historical",
         "1": "HistoricalFiction",
         "2": "Fiction",
         "_deepnote_index_column": 873
        },
        {
         "0": "Historical",
         "1": "HistoricalFiction",
         "2": "Fiction",
         "_deepnote_index_column": 874
        },
        {
         "0": "Classics",
         "1": "Fiction",
         "2": "Literature",
         "_deepnote_index_column": 875
        },
        {
         "0": "Nonfiction",
         "1": "Politics",
         "2": "Economics",
         "_deepnote_index_column": 876
        },
        {
         "0": "Horror",
         "1": "Fiction",
         "2": "Thriller",
         "_deepnote_index_column": 877
        },
        {
         "0": "Language",
         "1": "Writing",
         "2": "Nonfiction",
         "_deepnote_index_column": 878
        },
        {
         "0": "Fiction",
         "1": "Classics",
         "2": "Novels",
         "_deepnote_index_column": 879
        },
        {
         "0": "Mystery",
         "1": "Fiction",
         "2": "Classics",
         "_deepnote_index_column": 880
        },
        {
         "0": "History",
         "1": "Nonfiction",
         "2": "Biography",
         "_deepnote_index_column": 881
        },
        {
         "0": "Fiction",
         "1": "Historical",
         "2": "HistoricalFiction",
         "_deepnote_index_column": 882
        },
        {
         "0": "Classics",
         "1": "Fiction",
         "2": "Romance",
         "_deepnote_index_column": 883
        },
        {
         "0": "Nonfiction",
         "1": "Autobiography",
         "2": "Memoir",
         "_deepnote_index_column": 884
        },
        {
         "0": "Fiction",
         "1": "Classics",
         "2": "Historical",
         "_deepnote_index_column": 885
        },
        {
         "0": "History",
         "1": "Biography",
         "2": "Nonfiction",
         "_deepnote_index_column": 886
        },
        {
         "0": "Fiction",
         "1": "Classics",
         "2": "EuropeanLiterature",
         "_deepnote_index_column": 887
        },
        {
         "0": "Classics",
         "1": "Fiction",
         "2": "Childrens",
         "_deepnote_index_column": 888
        },
        {
         "0": "Fantasy",
         "1": "Romance",
         "2": "Fantasy",
         "_deepnote_index_column": 889
        },
        {
         "0": "Historical",
         "1": "HistoricalFiction",
         "2": "Fiction",
         "_deepnote_index_column": 890
        },
        {
         "0": "Historical",
         "1": "HistoricalFiction",
         "2": "Fiction",
         "_deepnote_index_column": 891
        },
        {
         "0": "Fiction",
         "1": "Classics",
         "2": "EuropeanLiterature",
         "_deepnote_index_column": 892
        },
        {
         "0": "Historical",
         "1": "HistoricalFiction",
         "2": "Fiction",
         "_deepnote_index_column": 893
        },
        {
         "0": "Fiction",
         "1": "Thriller",
         "2": "Historical",
         "_deepnote_index_column": 894
        },
        {
         "0": "Fiction",
         "1": "WomensFiction",
         "2": "ChickLit",
         "_deepnote_index_column": 895
        },
        {
         "0": "Fiction",
         "1": "Classics",
         "2": "Literature",
         "_deepnote_index_column": 896
        },
        {
         "0": "Nonfiction",
         "1": "History",
         "2": "Biography",
         "_deepnote_index_column": 897
        },
        {
         "0": "ScienceFiction",
         "1": "ScienceFiction",
         "2": "TimeTravel",
         "_deepnote_index_column": 898
        },
        {
         "0": "Classics",
         "1": "Fiction",
         "2": "YoungAdult",
         "_deepnote_index_column": 899
        },
        {
         "0": "Fiction",
         "1": "Classics",
         "2": "Historical",
         "_deepnote_index_column": 900
        },
        {
         "0": "Fiction",
         "1": "Cultural",
         "2": "France",
         "_deepnote_index_column": 901
        },
        {
         "0": "History",
         "1": "Nonfiction",
         "2": "Philosophy",
         "_deepnote_index_column": 902
        },
        {
         "0": "YoungAdult",
         "1": "Fiction",
         "2": "Adventure",
         "_deepnote_index_column": 903
        },
        {
         "0": "Fiction",
         "1": "Contemporary",
         "2": "Novels",
         "_deepnote_index_column": 904
        },
        {
         "0": "Fantasy",
         "1": "Fantasy",
         "2": "UrbanFantasy",
         "_deepnote_index_column": 905
        },
        {
         "0": "Fiction",
         "1": "Contemporary",
         "2": "Novels",
         "_deepnote_index_column": 906
        },
        {
         "0": "Autobiography",
         "1": "Memoir",
         "2": "Nonfiction",
         "_deepnote_index_column": 907
        },
        {
         "0": "Fiction",
         "1": "American",
         "2": "Southern",
         "_deepnote_index_column": 908
        },
        {
         "0": "Nonfiction",
         "1": "History",
         "2": "War",
         "_deepnote_index_column": 909
        },
        {
         "0": "Historical",
         "1": "HistoricalFiction",
         "2": "Fiction",
         "_deepnote_index_column": 910
        },
        {
         "0": "Historical",
         "1": "HistoricalFiction",
         "2": "Fiction",
         "_deepnote_index_column": 911
        },
        {
         "0": "Horror",
         "1": "Fiction",
         "2": "Thriller",
         "_deepnote_index_column": 912
        },
        {
         "0": "Nonfiction",
         "1": "Classics",
         "2": "Biography",
         "_deepnote_index_column": 913
        },
        {
         "0": "Fiction",
         "1": "ScienceFiction",
         "2": "Fantasy",
         "_deepnote_index_column": 914
        },
        {
         "0": "Fantasy",
         "1": "Fiction",
         "2": "Fantasy",
         "_deepnote_index_column": 915
        },
        {
         "0": "Classics",
         "1": "Fiction",
         "2": "YoungAdult",
         "_deepnote_index_column": 916
        },
        {
         "0": "Plays",
         "1": "Drama",
         "2": "Classics",
         "_deepnote_index_column": 917
        },
        {
         "0": "Fiction",
         "1": "Classics",
         "2": "Literature",
         "_deepnote_index_column": 918
        },
        {
         "0": "Fiction",
         "1": "Classics",
         "2": "Cultural",
         "_deepnote_index_column": 919
        },
        {
         "0": "Fantasy",
         "1": "Fiction",
         "2": "Fantasy",
         "_deepnote_index_column": 920
        },
        {
         "0": "Historical",
         "1": "HistoricalFiction",
         "2": "Fiction",
         "_deepnote_index_column": 921
        },
        {
         "0": "Fiction",
         "1": "Historical",
         "2": "HistoricalFiction",
         "_deepnote_index_column": 922
        },
        {
         "0": "Fiction",
         "1": "Classics",
         "2": "Literature",
         "_deepnote_index_column": 923
        },
        {
         "0": "Fiction",
         "1": "Classics",
         "2": "Literature",
         "_deepnote_index_column": 924
        },
        {
         "0": "Fiction",
         "1": "Classics",
         "2": "YoungAdult",
         "_deepnote_index_column": 925
        },
        {
         "0": "Fiction",
         "1": "Classics",
         "2": "Mystery",
         "_deepnote_index_column": 926
        },
        {
         "0": "ScienceFiction",
         "1": "Fiction",
         "2": "Fantasy",
         "_deepnote_index_column": 927
        },
        {
         "0": "Historical",
         "1": "HistoricalFiction",
         "2": "Fiction",
         "_deepnote_index_column": 928
        },
        {
         "0": "Fantasy",
         "1": "ScienceFiction",
         "2": "Fantasy",
         "_deepnote_index_column": 929
        },
        {
         "0": "Historical",
         "1": "HistoricalFiction",
         "2": "Fiction",
         "_deepnote_index_column": 930
        },
        {
         "0": "Classics",
         "1": "Fiction",
         "2": "EuropeanLiterature",
         "_deepnote_index_column": 931
        },
        {
         "0": "Fiction",
         "1": "EuropeanLiterature",
         "2": "GermanLiterature",
         "_deepnote_index_column": 932
        },
        {
         "0": "Fantasy",
         "1": "Fiction",
         "2": "MagicalRealism",
         "_deepnote_index_column": 933
        },
        {
         "0": "Fantasy",
         "1": "SequentialArt",
         "2": "GraphicNovels",
         "_deepnote_index_column": 934
        },
        {
         "0": "Holiday",
         "1": "Christmas",
         "2": "Childrens",
         "_deepnote_index_column": 935
        },
        {
         "0": "Fiction",
         "1": "Classics",
         "2": "Literature",
         "_deepnote_index_column": 936
        },
        {
         "0": "Fantasy",
         "1": "Fiction",
         "2": "Humor",
         "_deepnote_index_column": 937
        },
        {
         "0": "Fiction",
         "1": "ShortStories",
         "2": "LGBT",
         "_deepnote_index_column": 938
        },
        {
         "0": "Fiction",
         "1": "YoungAdult",
         "2": "Drama",
         "_deepnote_index_column": 939
        },
        {
         "0": "Plays",
         "1": "Drama",
         "2": "Cultural",
         "_deepnote_index_column": 940
        },
        {
         "0": "Fiction",
         "1": "Classics",
         "2": "Literature",
         "_deepnote_index_column": 941
        },
        {
         "0": "Fiction",
         "1": "Contemporary",
         "2": "Philosophy",
         "_deepnote_index_column": 942
        },
        {
         "0": "Fiction",
         "1": "Mystery",
         "2": "Mystery",
         "_deepnote_index_column": 943
        },
        {
         "0": "Fiction",
         "1": "Classics",
         "2": "Art",
         "_deepnote_index_column": 944
        },
        {
         "0": "Historical",
         "1": "HistoricalFiction",
         "2": "Fiction",
         "_deepnote_index_column": 945
        },
        {
         "0": "Fantasy",
         "1": "Fiction",
         "2": "Humor",
         "_deepnote_index_column": 946
        },
        {
         "0": "Fiction",
         "1": "Historical",
         "2": "HistoricalFiction",
         "_deepnote_index_column": 947
        },
        {
         "0": "Fiction",
         "1": "Cultural",
         "2": "Africa",
         "_deepnote_index_column": 948
        },
        {
         "0": "Fantasy",
         "1": "Childrens",
         "2": "Classics",
         "_deepnote_index_column": 949
        },
        {
         "0": "ScienceFiction",
         "1": "Fiction",
         "2": "ScienceFictionFantasy",
         "_deepnote_index_column": 950
        },
        {
         "0": "Historical",
         "1": "HistoricalFiction",
         "2": "Fiction",
         "_deepnote_index_column": 951
        },
        {
         "0": "Fiction",
         "1": "Historical",
         "2": "HistoricalFiction",
         "_deepnote_index_column": 952
        },
        {
         "0": "Classics",
         "1": "Fiction",
         "2": "YoungAdult",
         "_deepnote_index_column": 953
        },
        {
         "0": "Science",
         "1": "Nonfiction",
         "2": "Biology",
         "_deepnote_index_column": 954
        },
        {
         "0": "Childrens",
         "1": "PictureBooks",
         "2": "Childrens",
         "_deepnote_index_column": 955
        },
        {
         "0": "ScienceFiction",
         "1": "Fiction",
         "2": "ScienceFiction",
         "_deepnote_index_column": 956
        },
        {
         "0": "Classics",
         "1": "Fiction",
         "2": "Cultural",
         "_deepnote_index_column": 957
        },
        {
         "0": "Horror",
         "1": "Fiction",
         "2": "Thriller",
         "_deepnote_index_column": 958
        },
        {
         "0": "Poetry",
         "1": "Cultural",
         "2": "Russia",
         "_deepnote_index_column": 959
        },
        {
         "0": "Fantasy",
         "1": "Fiction",
         "2": "Historical",
         "_deepnote_index_column": 960
        },
        {
         "0": "Fiction",
         "1": "LGBT",
         "2": "GLBT",
         "_deepnote_index_column": 961
        },
        {
         "0": "Horror",
         "1": "Fantasy",
         "2": "Paranormal",
         "_deepnote_index_column": 962
        },
        {
         "0": "ScienceFiction",
         "1": "Fiction",
         "2": "Classics",
         "_deepnote_index_column": 963
        },
        {
         "0": "Nonfiction",
         "1": "Animals",
         "2": "Environment",
         "_deepnote_index_column": 964
        },
        {
         "0": "Historical",
         "1": "HistoricalFiction",
         "2": "Fiction",
         "_deepnote_index_column": 965
        },
        {
         "0": "Fiction",
         "1": "Historical",
         "2": "HistoricalFiction",
         "_deepnote_index_column": 966
        },
        {
         "0": "Nonfiction",
         "1": "History",
         "2": "Politics",
         "_deepnote_index_column": 967
        },
        {
         "0": "Fiction",
         "1": "Historical",
         "2": "HistoricalFiction",
         "_deepnote_index_column": 968
        },
        {
         "0": "ScienceFiction",
         "1": "Fiction",
         "2": "Space",
         "_deepnote_index_column": 969
        },
        {
         "0": "ChristianFiction",
         "1": "Christian",
         "2": "Fiction",
         "_deepnote_index_column": 970
        },
        {
         "0": "Nonfiction",
         "1": "Sociology",
         "2": "Science",
         "_deepnote_index_column": 971
        },
        {
         "0": "Classics",
         "1": "Fiction",
         "2": "YoungAdult",
         "_deepnote_index_column": 972
        },
        {
         "0": "Fiction",
         "1": "Classics",
         "2": "Literature",
         "_deepnote_index_column": 973
        },
        {
         "0": "Fiction",
         "1": "Classics",
         "2": "Historical",
         "_deepnote_index_column": 974
        },
        {
         "0": "Fiction",
         "1": "Cultural",
         "2": "France",
         "_deepnote_index_column": 975
        },
        {
         "0": "Fiction",
         "1": "Cultural",
         "2": "Japan",
         "_deepnote_index_column": 976
        },
        {
         "0": "Fiction",
         "1": "ShortStories",
         "2": "Classics",
         "_deepnote_index_column": 977
        },
        {
         "0": "Fiction",
         "1": "Historical",
         "2": "HistoricalFiction",
         "_deepnote_index_column": 978
        },
        {
         "0": "Mystery",
         "1": "Historical",
         "2": "HistoricalFiction",
         "_deepnote_index_column": 979
        },
        {
         "0": "ScienceFiction",
         "1": "Fiction",
         "2": "Religion",
         "_deepnote_index_column": 980
        },
        {
         "0": "Fiction",
         "1": "Cultural",
         "2": "Japan",
         "_deepnote_index_column": 981
        },
        {
         "0": "Historical",
         "1": "HistoricalFiction",
         "2": "Fiction",
         "_deepnote_index_column": 982
        },
        {
         "0": "Mystery",
         "1": "Fiction",
         "2": "Thriller",
         "_deepnote_index_column": 983
        },
        {
         "0": "SequentialArt",
         "1": "Comics",
         "2": "SequentialArt",
         "_deepnote_index_column": 984
        },
        {
         "0": "Fiction",
         "1": "Contemporary",
         "2": "LiteraryFiction",
         "_deepnote_index_column": 985
        },
        {
         "0": "YoungAdult",
         "1": "Fiction",
         "2": "Fantasy",
         "_deepnote_index_column": 986
        },
        {
         "0": "Fiction",
         "1": "Classics",
         "2": "Historical",
         "_deepnote_index_column": 987
        },
        {
         "0": "Fiction",
         "1": "MagicalRealism",
         "2": "Historical",
         "_deepnote_index_column": 988
        },
        {
         "0": "Fantasy",
         "1": "Fiction",
         "2": "Historical",
         "_deepnote_index_column": 989
        },
        {
         "0": "ShortStories",
         "1": "Fiction",
         "2": "Horror",
         "_deepnote_index_column": 990
        },
        {
         "0": "Fiction",
         "1": "ShortStories",
         "2": "Classics",
         "_deepnote_index_column": 991
        },
        {
         "0": "Fiction",
         "1": "ShortStories",
         "2": "EuropeanLiterature",
         "_deepnote_index_column": 992
        },
        {
         "0": "Fiction",
         "1": "ScienceFiction",
         "2": "Apocalyptic",
         "_deepnote_index_column": 993
        },
        {
         "0": "Fiction",
         "1": "Classics",
         "2": "Novels",
         "_deepnote_index_column": 994
        },
        {
         "0": "Fiction",
         "1": "EuropeanLiterature",
         "2": "GermanLiterature",
         "_deepnote_index_column": 995
        }
       ],
       "rows_top": [
        {
         "0": "Classics",
         "1": "Fiction",
         "2": "Historical",
         "_deepnote_index_column": 0
        },
        {
         "0": "Classics",
         "1": "Fiction",
         "2": "ScienceFiction",
         "_deepnote_index_column": 1
        },
        {
         "0": "Classics",
         "1": "Fiction",
         "2": "Academic",
         "_deepnote_index_column": 2
        },
        {
         "0": "Fantasy",
         "1": "Fiction",
         "2": "YoungAdult",
         "_deepnote_index_column": 3
        },
        {
         "0": "Fantasy",
         "1": "Classics",
         "2": "Fiction",
         "_deepnote_index_column": 4
        },
        {
         "0": "Classics",
         "1": "Fiction",
         "2": "ScienceFiction",
         "_deepnote_index_column": 5
        },
        {
         "0": "Nonfiction",
         "1": "Classics",
         "2": "History",
         "_deepnote_index_column": 6
        },
        {
         "0": "Classics",
         "1": "Fiction",
         "2": "Fantasy",
         "_deepnote_index_column": 7
        },
        {
         "0": "Classics",
         "1": "Fiction",
         "2": "ScienceFiction",
         "_deepnote_index_column": 8
        },
        {
         "0": "Classics",
         "1": "Fiction",
         "2": "YoungAdult",
         "_deepnote_index_column": 9
        },
        {
         "0": "Fantasy",
         "1": "Classics",
         "2": "Fiction",
         "_deepnote_index_column": 10
        },
        {
         "0": "Classics",
         "1": "Fiction",
         "2": "Historical",
         "_deepnote_index_column": 11
        },
        {
         "0": "Fiction",
         "1": "Classics",
         "2": "MagicalRealism",
         "_deepnote_index_column": 12
        },
        {
         "0": "Classics",
         "1": "Fiction",
         "2": "ScienceFiction",
         "_deepnote_index_column": 13
        },
        {
         "0": "Classics",
         "1": "Fiction",
         "2": "Academic",
         "_deepnote_index_column": 14
        },
        {
         "0": "Classics",
         "1": "Historical",
         "2": "HistoricalFiction",
         "_deepnote_index_column": 15
        },
        {
         "0": "YoungAdult",
         "1": "Fiction",
         "2": "Classics",
         "_deepnote_index_column": 16
        },
        {
         "0": "Fantasy",
         "1": "YoungAdult",
         "2": "Fiction",
         "_deepnote_index_column": 17
        },
        {
         "0": "Classics",
         "1": "Fiction",
         "2": "YoungAdult",
         "_deepnote_index_column": 18
        },
        {
         "0": "Classics",
         "1": "Fiction",
         "2": "ScienceFiction",
         "_deepnote_index_column": 19
        },
        {
         "0": "Classics",
         "1": "Fiction",
         "2": "Historical",
         "_deepnote_index_column": 20
        },
        {
         "0": "Classics",
         "1": "Fiction",
         "2": "Literature",
         "_deepnote_index_column": 21
        },
        {
         "0": "Fiction",
         "1": "Classics",
         "2": "ScienceFiction",
         "_deepnote_index_column": 22
        },
        {
         "0": "Classics",
         "1": "Fiction",
         "2": "Literature",
         "_deepnote_index_column": 23
        },
        {
         "0": "ScienceFiction",
         "1": "Fiction",
         "2": "Humor",
         "_deepnote_index_column": 24
        },
        {
         "0": "Fantasy",
         "1": "Classics",
         "2": "Fiction",
         "_deepnote_index_column": 25
        },
        {
         "0": "Fiction",
         "1": "Historical",
         "2": "HistoricalFiction",
         "_deepnote_index_column": 26
        },
        {
         "0": "Classics",
         "1": "Fiction",
         "2": "Philosophy",
         "_deepnote_index_column": 27
        },
        {
         "0": "Fantasy",
         "1": "YoungAdult",
         "2": "Fiction",
         "_deepnote_index_column": 28
        },
        {
         "0": "Classics",
         "1": "Childrens",
         "2": "Fiction",
         "_deepnote_index_column": 29
        },
        {
         "0": "Fantasy",
         "1": "Classics",
         "2": "Fiction",
         "_deepnote_index_column": 30
        },
        {
         "0": "Fantasy",
         "1": "Fiction",
         "2": "Classics",
         "_deepnote_index_column": 31
        },
        {
         "0": "ScienceFiction",
         "1": "Fiction",
         "2": "YoungAdult",
         "_deepnote_index_column": 32
        },
        {
         "0": "Classics",
         "1": "Fiction",
         "2": "Literature",
         "_deepnote_index_column": 33
        },
        {
         "0": "Childrens",
         "1": "Childrens",
         "2": "PictureBooks",
         "_deepnote_index_column": 34
        },
        {
         "0": "Fantasy",
         "1": "Fiction",
         "2": "Classics",
         "_deepnote_index_column": 35
        },
        {
         "0": "Fantasy",
         "1": "Fiction",
         "2": "Classics",
         "_deepnote_index_column": 36
        },
        {
         "0": "Classics",
         "1": "Fiction",
         "2": "Feminism",
         "_deepnote_index_column": 37
        },
        {
         "0": "Classics",
         "1": "Fiction",
         "2": "Historical",
         "_deepnote_index_column": 38
        },
        {
         "0": "Nonfiction",
         "1": "Classics",
         "2": "History",
         "_deepnote_index_column": 39
        },
        {
         "0": "Fiction",
         "1": "Classics",
         "2": "Fantasy",
         "_deepnote_index_column": 40
        },
        {
         "0": "Classics",
         "1": "Fiction",
         "2": "Fantasy",
         "_deepnote_index_column": 41
        },
        {
         "0": "Nonfiction",
         "1": "Classics",
         "2": "Crime",
         "_deepnote_index_column": 42
        },
        {
         "0": "Classics",
         "1": "Fiction",
         "2": "YoungAdult",
         "_deepnote_index_column": 43
        },
        {
         "0": "Childrens",
         "1": "Childrens",
         "2": "PictureBooks",
         "_deepnote_index_column": 44
        },
        {
         "0": "Classics",
         "1": "Fiction",
         "2": "Philosophy",
         "_deepnote_index_column": 45
        },
        {
         "0": "Classics",
         "1": "Fiction",
         "2": "Historical",
         "_deepnote_index_column": 46
        },
        {
         "0": "Classics",
         "1": "Philosophy",
         "2": "Literature",
         "_deepnote_index_column": 47
        },
        {
         "0": "Fiction",
         "1": "Classics",
         "2": "Historical",
         "_deepnote_index_column": 48
        },
        {
         "0": "Fiction",
         "1": "Historical",
         "2": "HistoricalFiction",
         "_deepnote_index_column": 49
        },
        {
         "0": "Classics",
         "1": "Mystery",
         "2": "Fiction",
         "_deepnote_index_column": 50
        },
        {
         "0": "Classics",
         "1": "Fiction",
         "2": "Fantasy",
         "_deepnote_index_column": 51
        },
        {
         "0": "Classics",
         "1": "Fiction",
         "2": "Childrens",
         "_deepnote_index_column": 52
        },
        {
         "0": "Fiction",
         "1": "Classics",
         "2": "Philosophy",
         "_deepnote_index_column": 53
        },
        {
         "0": "Horror",
         "1": "Fiction",
         "2": "Fantasy",
         "_deepnote_index_column": 54
        },
        {
         "0": "Fiction",
         "1": "Classics",
         "2": "Contemporary",
         "_deepnote_index_column": 55
        },
        {
         "0": "Fiction",
         "1": "Classics",
         "2": "Literature",
         "_deepnote_index_column": 56
        },
        {
         "0": "Classics",
         "1": "Fiction",
         "2": "Mystery",
         "_deepnote_index_column": 57
        },
        {
         "0": "Childrens",
         "1": "Childrens",
         "2": "PictureBooks",
         "_deepnote_index_column": 58
        },
        {
         "0": "Childrens",
         "1": "Childrens",
         "2": "PictureBooks",
         "_deepnote_index_column": 59
        },
        {
         "0": "ScienceFiction",
         "1": "Fiction",
         "2": "Fantasy",
         "_deepnote_index_column": 60
        },
        {
         "0": "Childrens",
         "1": "Fantasy",
         "2": "Fiction",
         "_deepnote_index_column": 61
        },
        {
         "0": "Historical",
         "1": "HistoricalFiction",
         "2": "Fiction",
         "_deepnote_index_column": 62
        },
        {
         "0": "Classics",
         "1": "Fiction",
         "2": "Cultural",
         "_deepnote_index_column": 63
        },
        {
         "0": "Classics",
         "1": "YoungAdult",
         "2": "Fiction",
         "_deepnote_index_column": 64
        },
        {
         "0": "Classics",
         "1": "Fiction",
         "2": "Travel",
         "_deepnote_index_column": 65
        },
        {
         "0": "ScienceFiction",
         "1": "Fiction",
         "2": "Humor",
         "_deepnote_index_column": 66
        },
        {
         "0": "Classics",
         "1": "Fiction",
         "2": "Literature",
         "_deepnote_index_column": 67
        },
        {
         "0": "Classics",
         "1": "Fiction",
         "2": "Literature",
         "_deepnote_index_column": 68
        },
        {
         "0": "Classics",
         "1": "Fiction",
         "2": "Historical",
         "_deepnote_index_column": 69
        },
        {
         "0": "Classics",
         "1": "Fiction",
         "2": "Historical",
         "_deepnote_index_column": 70
        },
        {
         "0": "Fiction",
         "1": "Classics",
         "2": "Historical",
         "_deepnote_index_column": 71
        },
        {
         "0": "Fiction",
         "1": "Classics",
         "2": "Humor",
         "_deepnote_index_column": 72
        },
        {
         "0": "Nonfiction",
         "1": "Autobiography",
         "2": "Memoir",
         "_deepnote_index_column": 73
        },
        {
         "0": "Classics",
         "1": "Fiction",
         "2": "Literature",
         "_deepnote_index_column": 74
        },
        {
         "0": "Fiction",
         "1": "Historical",
         "2": "HistoricalFiction",
         "_deepnote_index_column": 75
        },
        {
         "0": "Classics",
         "1": "Fiction",
         "2": "Literature",
         "_deepnote_index_column": 76
        },
        {
         "0": "Fiction",
         "1": "Classics",
         "2": "Philosophy",
         "_deepnote_index_column": 77
        },
        {
         "0": "Classics",
         "1": "Historical",
         "2": "HistoricalFiction",
         "_deepnote_index_column": 78
        },
        {
         "0": "Fiction",
         "1": "Classics",
         "2": "Contemporary",
         "_deepnote_index_column": 79
        },
        {
         "0": "Classics",
         "1": "Fiction",
         "2": "ScienceFiction",
         "_deepnote_index_column": 80
        },
        {
         "0": "Classics",
         "1": "Fiction",
         "2": "Historical",
         "_deepnote_index_column": 81
        },
        {
         "0": "Classics",
         "1": "Fiction",
         "2": "Literature",
         "_deepnote_index_column": 82
        },
        {
         "0": "Classics",
         "1": "Fiction",
         "2": "Historical",
         "_deepnote_index_column": 83
        },
        {
         "0": "Classics",
         "1": "Fiction",
         "2": "YoungAdult",
         "_deepnote_index_column": 84
        },
        {
         "0": "Fiction",
         "1": "Classics",
         "2": "ScienceFiction",
         "_deepnote_index_column": 85
        },
        {
         "0": "Plays",
         "1": "Classics",
         "2": "Drama",
         "_deepnote_index_column": 86
        },
        {
         "0": "Christian",
         "1": "Nonfiction",
         "2": "Religion",
         "_deepnote_index_column": 87
        },
        {
         "0": "Fiction",
         "1": "Historical",
         "2": "HistoricalFiction",
         "_deepnote_index_column": 88
        },
        {
         "0": "Fiction",
         "1": "Historical",
         "2": "HistoricalFiction",
         "_deepnote_index_column": 89
        },
        {
         "0": "Fiction",
         "1": "Classics",
         "2": "Historical",
         "_deepnote_index_column": 90
        },
        {
         "0": "Historical",
         "1": "HistoricalFiction",
         "2": "Fiction",
         "_deepnote_index_column": 91
        },
        {
         "0": "Fantasy",
         "1": "Fiction",
         "2": "Fantasy",
         "_deepnote_index_column": 92
        },
        {
         "0": "Fiction",
         "1": "Classics",
         "2": "Humor",
         "_deepnote_index_column": 93
        },
        {
         "0": "Classics",
         "1": "Fiction",
         "2": "Literature",
         "_deepnote_index_column": 94
        },
        {
         "0": "Fiction",
         "1": "Classics",
         "2": "ShortStories",
         "_deepnote_index_column": 95
        },
        {
         "0": "Classics",
         "1": "Fiction",
         "2": "Literature",
         "_deepnote_index_column": 96
        },
        {
         "0": "Fiction",
         "1": "ScienceFiction",
         "2": "Dystopia",
         "_deepnote_index_column": 97
        },
        {
         "0": "Fiction",
         "1": "Classics",
         "2": "ScienceFiction",
         "_deepnote_index_column": 98
        },
        {
         "0": "Classics",
         "1": "Childrens",
         "2": "Fiction",
         "_deepnote_index_column": 99
        },
        {
         "0": "Mystery",
         "1": "Classics",
         "2": "Fiction",
         "_deepnote_index_column": 100
        },
        {
         "0": "Fantasy",
         "1": "Fiction",
         "2": "Classics",
         "_deepnote_index_column": 101
        },
        {
         "0": "Fiction",
         "1": "Contemporary",
         "2": "WomensFiction",
         "_deepnote_index_column": 102
        },
        {
         "0": "Classics",
         "1": "Fiction",
         "2": "Literature",
         "_deepnote_index_column": 103
        },
        {
         "0": "Fiction",
         "1": "Classics",
         "2": "Historical",
         "_deepnote_index_column": 104
        },
        {
         "0": "Classics",
         "1": "Fiction",
         "2": "Adventure",
         "_deepnote_index_column": 105
        },
        {
         "0": "Poetry",
         "1": "Childrens",
         "2": "Classics",
         "_deepnote_index_column": 106
        },
        {
         "0": "Fiction",
         "1": "Contemporary",
         "2": "Classics",
         "_deepnote_index_column": 107
        },
        {
         "0": "Fiction",
         "1": "Classics",
         "2": "Philosophy",
         "_deepnote_index_column": 108
        },
        {
         "0": "Nonfiction",
         "1": "Biography",
         "2": "History",
         "_deepnote_index_column": 109
        },
        {
         "0": "SequentialArt",
         "1": "GraphicNovels",
         "2": "SequentialArt",
         "_deepnote_index_column": 110
        },
        {
         "0": "Classics",
         "1": "Fiction",
         "2": "Literature",
         "_deepnote_index_column": 111
        },
        {
         "0": "SequentialArt",
         "1": "Comics",
         "2": "Humor",
         "_deepnote_index_column": 112
        },
        {
         "0": "Classics",
         "1": "Plays",
         "2": "Fiction",
         "_deepnote_index_column": 113
        },
        {
         "0": "Classics",
         "1": "Fiction",
         "2": "Historical",
         "_deepnote_index_column": 114
        },
        {
         "0": "Fiction",
         "1": "Historical",
         "2": "HistoricalFiction",
         "_deepnote_index_column": 115
        },
        {
         "0": "Classics",
         "1": "Childrens",
         "2": "Fiction",
         "_deepnote_index_column": 116
        },
        {
         "0": "YoungAdult",
         "1": "Fiction",
         "2": "Contemporary",
         "_deepnote_index_column": 117
        },
        {
         "0": "Fiction",
         "1": "Classics",
         "2": "Historical",
         "_deepnote_index_column": 118
        },
        {
         "0": "Horror",
         "1": "Fantasy",
         "2": "Fiction",
         "_deepnote_index_column": 119
        },
        {
         "0": "Childrens",
         "1": "Childrens",
         "2": "PictureBooks",
         "_deepnote_index_column": 120
        },
        {
         "0": "Poetry",
         "1": "Philosophy",
         "2": "Classics",
         "_deepnote_index_column": 121
        },
        {
         "0": "Classics",
         "1": "Fiction",
         "2": "Literature",
         "_deepnote_index_column": 122
        },
        {
         "0": "Horror",
         "1": "Fiction",
         "2": "Thriller",
         "_deepnote_index_column": 123
        },
        {
         "0": "Childrens",
         "1": "Childrens",
         "2": "PictureBooks",
         "_deepnote_index_column": 124
        },
        {
         "0": "Poetry",
         "1": "Classics",
         "2": "Fiction",
         "_deepnote_index_column": 125
        },
        {
         "0": "Fiction",
         "1": "Classics",
         "2": "Philosophy",
         "_deepnote_index_column": 126
        },
        {
         "0": "Fiction",
         "1": "Historical",
         "2": "HistoricalFiction",
         "_deepnote_index_column": 127
        },
        {
         "0": "Historical",
         "1": "HistoricalFiction",
         "2": "Fiction",
         "_deepnote_index_column": 128
        },
        {
         "0": "Classics",
         "1": "Fantasy",
         "2": "Fiction",
         "_deepnote_index_column": 129
        },
        {
         "0": "Fiction",
         "1": "Classics",
         "2": "Cultural",
         "_deepnote_index_column": 130
        },
        {
         "0": "Historical",
         "1": "HistoricalFiction",
         "2": "Romance",
         "_deepnote_index_column": 131
        },
        {
         "0": "Childrens",
         "1": "Fiction",
         "2": "Classics",
         "_deepnote_index_column": 132
        },
        {
         "0": "Historical",
         "1": "HistoricalFiction",
         "2": "Fiction",
         "_deepnote_index_column": 133
        },
        {
         "0": "Nonfiction",
         "1": "Classics",
         "2": "Autobiography",
         "_deepnote_index_column": 134
        },
        {
         "0": "Fiction",
         "1": "Cultural",
         "2": "India",
         "_deepnote_index_column": 135
        },
        {
         "0": "ScienceFiction",
         "1": "Fiction",
         "2": "Classics",
         "_deepnote_index_column": 136
        },
        {
         "0": "Fiction",
         "1": "Cultural",
         "2": "India",
         "_deepnote_index_column": 137
        },
        {
         "0": "Fiction",
         "1": "Classics",
         "2": "Literature",
         "_deepnote_index_column": 138
        },
        {
         "0": "Fiction",
         "1": "MagicalRealism",
         "2": "Cultural",
         "_deepnote_index_column": 139
        },
        {
         "0": "Fantasy",
         "1": "YoungAdult",
         "2": "Fiction",
         "_deepnote_index_column": 140
        },
        {
         "0": "Fiction",
         "1": "Classics",
         "2": "Christian",
         "_deepnote_index_column": 141
        },
        {
         "0": "Fantasy",
         "1": "Fiction",
         "2": "Humor",
         "_deepnote_index_column": 142
        },
        {
         "0": "Plays",
         "1": "Classics",
         "2": "Drama",
         "_deepnote_index_column": 143
        },
        {
         "0": "Classics",
         "1": "Fiction",
         "2": "ShortStories",
         "_deepnote_index_column": 144
        },
        {
         "0": "Classics",
         "1": "Fiction",
         "2": "Literature",
         "_deepnote_index_column": 145
        },
        {
         "0": "Fiction",
         "1": "Classics",
         "2": "Historical",
         "_deepnote_index_column": 146
        },
        {
         "0": "Nonfiction",
         "1": "Psychology",
         "2": "Philosophy",
         "_deepnote_index_column": 147
        },
        {
         "0": "Fiction",
         "1": "MagicalRealism",
         "2": "Historical",
         "_deepnote_index_column": 148
        },
        {
         "0": "ScienceFiction",
         "1": "Fiction",
         "2": "Classics",
         "_deepnote_index_column": 149
        },
        {
         "0": "Fiction",
         "1": "Cultural",
         "2": "India",
         "_deepnote_index_column": 150
        },
        {
         "0": "Fantasy",
         "1": "Fiction",
         "2": "Historical",
         "_deepnote_index_column": 151
        },
        {
         "0": "Classics",
         "1": "Fiction",
         "2": "Historical",
         "_deepnote_index_column": 152
        },
        {
         "0": "Fiction",
         "1": "Classics",
         "2": "ScienceFiction",
         "_deepnote_index_column": 153
        },
        {
         "0": "ScienceFiction",
         "1": "Fiction",
         "2": "Classics",
         "_deepnote_index_column": 154
        },
        {
         "0": "Classics",
         "1": "Fiction",
         "2": "Historical",
         "_deepnote_index_column": 155
        },
        {
         "0": "Fiction",
         "1": "Mystery",
         "2": "Thriller",
         "_deepnote_index_column": 156
        },
        {
         "0": "Fiction",
         "1": "Classics",
         "2": "Philosophy",
         "_deepnote_index_column": 157
        },
        {
         "0": "Nonfiction",
         "1": "Autobiography",
         "2": "Memoir",
         "_deepnote_index_column": 158
        },
        {
         "0": "Fantasy",
         "1": "Fiction",
         "2": "Classics",
         "_deepnote_index_column": 159
        },
        {
         "0": "Mystery",
         "1": "Classics",
         "2": "Fiction",
         "_deepnote_index_column": 160
        },
        {
         "0": "Fantasy",
         "1": "Classics",
         "2": "Fiction",
         "_deepnote_index_column": 161
        },
        {
         "0": "Plays",
         "1": "Classics",
         "2": "Fiction",
         "_deepnote_index_column": 162
        },
        {
         "0": "History",
         "1": "Nonfiction",
         "2": "Science",
         "_deepnote_index_column": 163
        },
        {
         "0": "Nonfiction",
         "1": "Biography",
         "2": "History",
         "_deepnote_index_column": 164
        },
        {
         "0": "Horror",
         "1": "Fiction",
         "2": "Thriller",
         "_deepnote_index_column": 165
        }
       ]
      },
      "text/html": [
       "<div>\n",
       "<style scoped>\n",
       "    .dataframe tbody tr th:only-of-type {\n",
       "        vertical-align: middle;\n",
       "    }\n",
       "\n",
       "    .dataframe tbody tr th {\n",
       "        vertical-align: top;\n",
       "    }\n",
       "\n",
       "    .dataframe thead th {\n",
       "        text-align: right;\n",
       "    }\n",
       "</style>\n",
       "<table border=\"1\" class=\"dataframe\">\n",
       "  <thead>\n",
       "    <tr style=\"text-align: right;\">\n",
       "      <th></th>\n",
       "      <th>0</th>\n",
       "      <th>1</th>\n",
       "      <th>2</th>\n",
       "    </tr>\n",
       "  </thead>\n",
       "  <tbody>\n",
       "    <tr>\n",
       "      <th>0</th>\n",
       "      <td>Classics</td>\n",
       "      <td>Fiction</td>\n",
       "      <td>Historical</td>\n",
       "    </tr>\n",
       "    <tr>\n",
       "      <th>1</th>\n",
       "      <td>Classics</td>\n",
       "      <td>Fiction</td>\n",
       "      <td>ScienceFiction</td>\n",
       "    </tr>\n",
       "    <tr>\n",
       "      <th>2</th>\n",
       "      <td>Classics</td>\n",
       "      <td>Fiction</td>\n",
       "      <td>Academic</td>\n",
       "    </tr>\n",
       "    <tr>\n",
       "      <th>3</th>\n",
       "      <td>Fantasy</td>\n",
       "      <td>Fiction</td>\n",
       "      <td>YoungAdult</td>\n",
       "    </tr>\n",
       "    <tr>\n",
       "      <th>4</th>\n",
       "      <td>Fantasy</td>\n",
       "      <td>Classics</td>\n",
       "      <td>Fiction</td>\n",
       "    </tr>\n",
       "    <tr>\n",
       "      <th>...</th>\n",
       "      <td>...</td>\n",
       "      <td>...</td>\n",
       "      <td>...</td>\n",
       "    </tr>\n",
       "    <tr>\n",
       "      <th>991</th>\n",
       "      <td>Fiction</td>\n",
       "      <td>ShortStories</td>\n",
       "      <td>Classics</td>\n",
       "    </tr>\n",
       "    <tr>\n",
       "      <th>992</th>\n",
       "      <td>Fiction</td>\n",
       "      <td>ShortStories</td>\n",
       "      <td>EuropeanLiterature</td>\n",
       "    </tr>\n",
       "    <tr>\n",
       "      <th>993</th>\n",
       "      <td>Fiction</td>\n",
       "      <td>ScienceFiction</td>\n",
       "      <td>Apocalyptic</td>\n",
       "    </tr>\n",
       "    <tr>\n",
       "      <th>994</th>\n",
       "      <td>Fiction</td>\n",
       "      <td>Classics</td>\n",
       "      <td>Novels</td>\n",
       "    </tr>\n",
       "    <tr>\n",
       "      <th>995</th>\n",
       "      <td>Fiction</td>\n",
       "      <td>EuropeanLiterature</td>\n",
       "      <td>GermanLiterature</td>\n",
       "    </tr>\n",
       "  </tbody>\n",
       "</table>\n",
       "<p>996 rows × 3 columns</p>\n",
       "</div>"
      ],
      "text/plain": [
       "            0                   1                   2\n",
       "0    Classics             Fiction          Historical\n",
       "1    Classics             Fiction      ScienceFiction\n",
       "2    Classics             Fiction            Academic\n",
       "3     Fantasy             Fiction          YoungAdult\n",
       "4     Fantasy            Classics             Fiction\n",
       "..        ...                 ...                 ...\n",
       "991   Fiction        ShortStories            Classics\n",
       "992   Fiction        ShortStories  EuropeanLiterature\n",
       "993   Fiction      ScienceFiction         Apocalyptic\n",
       "994   Fiction            Classics              Novels\n",
       "995   Fiction  EuropeanLiterature    GermanLiterature\n",
       "\n",
       "[996 rows x 3 columns]"
      ]
     },
     "execution_count": 186,
     "metadata": {},
     "output_type": "execute_result"
    }
   ],
   "source": [
    "import pandas as pd\n",
    "\n",
    "genreamount = pd.DataFrame(T_genre)\n",
    "\n",
    "genreamount"
   ]
  },
  {
   "cell_type": "code",
   "execution_count": null,
   "metadata": {
    "cell_id": "00019-9bec4907-b045-420e-a106-b4684ff68b0d",
    "deepnote_cell_type": "code",
    "deepnote_to_be_reexecuted": false,
    "execution_millis": 52,
    "execution_start": 1610640388463,
    "source_hash": "1e201265",
    "tags": []
   },
   "outputs": [
    {
     "data": {
      "application/vnd.deepnote.dataframe.v2+json": {
       "column_count": 1,
       "columns": [
        {
         "dtype": "object",
         "name": "GenreType",
         "stats": {
          "categories": [
           {
            "count": 765,
            "name": "Fiction"
           },
           {
            "count": 445,
            "name": "Classics"
           },
           {
            "count": 1778,
            "name": "102 others"
           }
          ],
          "nan_count": 0,
          "unique_count": 104
         }
        },
        {
         "dtype": "int64",
         "name": "_deepnote_index_column"
        }
       ],
       "row_count": 2988,
       "rows_bottom": [
        {
         "GenreType": "Romance",
         "_deepnote_index_column": 2488
        },
        {
         "GenreType": "Animals",
         "_deepnote_index_column": 2489
        },
        {
         "GenreType": "Fiction",
         "_deepnote_index_column": 2490
        },
        {
         "GenreType": "Cultural",
         "_deepnote_index_column": 2491
        },
        {
         "GenreType": "Canada",
         "_deepnote_index_column": 2492
        },
        {
         "GenreType": "Autobiography",
         "_deepnote_index_column": 2493
        },
        {
         "GenreType": "Memoir",
         "_deepnote_index_column": 2494
        },
        {
         "GenreType": "Nonfiction",
         "_deepnote_index_column": 2495
        },
        {
         "GenreType": "Horror",
         "_deepnote_index_column": 2496
        },
        {
         "GenreType": "Fiction",
         "_deepnote_index_column": 2497
        },
        {
         "GenreType": "Fantasy",
         "_deepnote_index_column": 2498
        },
        {
         "GenreType": "Fiction",
         "_deepnote_index_column": 2499
        },
        {
         "GenreType": "Historical",
         "_deepnote_index_column": 2500
        },
        {
         "GenreType": "HistoricalFiction",
         "_deepnote_index_column": 2501
        },
        {
         "GenreType": "Fantasy",
         "_deepnote_index_column": 2502
        },
        {
         "GenreType": "ScienceFiction",
         "_deepnote_index_column": 2503
        },
        {
         "GenreType": "Fantasy",
         "_deepnote_index_column": 2504
        },
        {
         "GenreType": "Historical",
         "_deepnote_index_column": 2505
        },
        {
         "GenreType": "HistoricalFiction",
         "_deepnote_index_column": 2506
        },
        {
         "GenreType": "Fiction",
         "_deepnote_index_column": 2507
        },
        {
         "GenreType": "Fiction",
         "_deepnote_index_column": 2508
        },
        {
         "GenreType": "Historical",
         "_deepnote_index_column": 2509
        },
        {
         "GenreType": "HistoricalFiction",
         "_deepnote_index_column": 2510
        },
        {
         "GenreType": "Classics",
         "_deepnote_index_column": 2511
        },
        {
         "GenreType": "Fiction",
         "_deepnote_index_column": 2512
        },
        {
         "GenreType": "Childrens",
         "_deepnote_index_column": 2513
        },
        {
         "GenreType": "Fiction",
         "_deepnote_index_column": 2514
        },
        {
         "GenreType": "Westerns",
         "_deepnote_index_column": 2515
        },
        {
         "GenreType": "Literature",
         "_deepnote_index_column": 2516
        },
        {
         "GenreType": "Fiction",
         "_deepnote_index_column": 2517
        },
        {
         "GenreType": "Historical",
         "_deepnote_index_column": 2518
        },
        {
         "GenreType": "HistoricalFiction",
         "_deepnote_index_column": 2519
        },
        {
         "GenreType": "Nonfiction",
         "_deepnote_index_column": 2520
        },
        {
         "GenreType": "Classics",
         "_deepnote_index_column": 2521
        },
        {
         "GenreType": "Autobiography",
         "_deepnote_index_column": 2522
        },
        {
         "GenreType": "Fiction",
         "_deepnote_index_column": 2523
        },
        {
         "GenreType": "Historical",
         "_deepnote_index_column": 2524
        },
        {
         "GenreType": "HistoricalFiction",
         "_deepnote_index_column": 2525
        },
        {
         "GenreType": "Fantasy",
         "_deepnote_index_column": 2526
        },
        {
         "GenreType": "Fiction",
         "_deepnote_index_column": 2527
        },
        {
         "GenreType": "ScienceFictionFantasy",
         "_deepnote_index_column": 2528
        },
        {
         "GenreType": "Classics",
         "_deepnote_index_column": 2529
        },
        {
         "GenreType": "Fiction",
         "_deepnote_index_column": 2530
        },
        {
         "GenreType": "Literature",
         "_deepnote_index_column": 2531
        },
        {
         "GenreType": "Fiction",
         "_deepnote_index_column": 2532
        },
        {
         "GenreType": "Classics",
         "_deepnote_index_column": 2533
        },
        {
         "GenreType": "YoungAdult",
         "_deepnote_index_column": 2534
        },
        {
         "GenreType": "Classics",
         "_deepnote_index_column": 2535
        },
        {
         "GenreType": "Historical",
         "_deepnote_index_column": 2536
        },
        {
         "GenreType": "HistoricalFiction",
         "_deepnote_index_column": 2537
        },
        {
         "GenreType": "Fiction",
         "_deepnote_index_column": 2538
        },
        {
         "GenreType": "Cultural",
         "_deepnote_index_column": 2539
        },
        {
         "GenreType": "Russia",
         "_deepnote_index_column": 2540
        },
        {
         "GenreType": "Historical",
         "_deepnote_index_column": 2541
        },
        {
         "GenreType": "HistoricalFiction",
         "_deepnote_index_column": 2542
        },
        {
         "GenreType": "Fiction",
         "_deepnote_index_column": 2543
        },
        {
         "GenreType": "WomensFiction",
         "_deepnote_index_column": 2544
        },
        {
         "GenreType": "ChickLit",
         "_deepnote_index_column": 2545
        },
        {
         "GenreType": "Fiction",
         "_deepnote_index_column": 2546
        },
        {
         "GenreType": "Fiction",
         "_deepnote_index_column": 2547
        },
        {
         "GenreType": "ScienceFiction",
         "_deepnote_index_column": 2548
        },
        {
         "GenreType": "ScienceFiction",
         "_deepnote_index_column": 2549
        },
        {
         "GenreType": "Poetry",
         "_deepnote_index_column": 2550
        },
        {
         "GenreType": "Classics",
         "_deepnote_index_column": 2551
        },
        {
         "GenreType": "Literature",
         "_deepnote_index_column": 2552
        },
        {
         "GenreType": "Fiction",
         "_deepnote_index_column": 2553
        },
        {
         "GenreType": "YoungAdult",
         "_deepnote_index_column": 2554
        },
        {
         "GenreType": "Childrens",
         "_deepnote_index_column": 2555
        },
        {
         "GenreType": "Horror",
         "_deepnote_index_column": 2556
        },
        {
         "GenreType": "Fiction",
         "_deepnote_index_column": 2557
        },
        {
         "GenreType": "Thriller",
         "_deepnote_index_column": 2558
        },
        {
         "GenreType": "Fiction",
         "_deepnote_index_column": 2559
        },
        {
         "GenreType": "Classics",
         "_deepnote_index_column": 2560
        },
        {
         "GenreType": "Contemporary",
         "_deepnote_index_column": 2561
        },
        {
         "GenreType": "Fiction",
         "_deepnote_index_column": 2562
        },
        {
         "GenreType": "MagicalRealism",
         "_deepnote_index_column": 2563
        },
        {
         "GenreType": "Classics",
         "_deepnote_index_column": 2564
        },
        {
         "GenreType": "Fiction",
         "_deepnote_index_column": 2565
        },
        {
         "GenreType": "ScienceFiction",
         "_deepnote_index_column": 2566
        },
        {
         "GenreType": "Classics",
         "_deepnote_index_column": 2567
        },
        {
         "GenreType": "ScienceFiction",
         "_deepnote_index_column": 2568
        },
        {
         "GenreType": "Fiction",
         "_deepnote_index_column": 2569
        },
        {
         "GenreType": "ScienceFictionFantasy",
         "_deepnote_index_column": 2570
        },
        {
         "GenreType": "Mystery",
         "_deepnote_index_column": 2571
        },
        {
         "GenreType": "Fiction",
         "_deepnote_index_column": 2572
        },
        {
         "GenreType": "Classics",
         "_deepnote_index_column": 2573
        },
        {
         "GenreType": "Fiction",
         "_deepnote_index_column": 2574
        },
        {
         "GenreType": "Childrens",
         "_deepnote_index_column": 2575
        },
        {
         "GenreType": "RealisticFiction",
         "_deepnote_index_column": 2576
        },
        {
         "GenreType": "Fiction",
         "_deepnote_index_column": 2577
        },
        {
         "GenreType": "Historical",
         "_deepnote_index_column": 2578
        },
        {
         "GenreType": "HistoricalFiction",
         "_deepnote_index_column": 2579
        },
        {
         "GenreType": "ShortStories",
         "_deepnote_index_column": 2580
        },
        {
         "GenreType": "Classics",
         "_deepnote_index_column": 2581
        },
        {
         "GenreType": "Horror",
         "_deepnote_index_column": 2582
        },
        {
         "GenreType": "Childrens",
         "_deepnote_index_column": 2583
        },
        {
         "GenreType": "PictureBooks",
         "_deepnote_index_column": 2584
        },
        {
         "GenreType": "Childrens",
         "_deepnote_index_column": 2585
        },
        {
         "GenreType": "Fiction",
         "_deepnote_index_column": 2586
        },
        {
         "GenreType": "Historical",
         "_deepnote_index_column": 2587
        },
        {
         "GenreType": "HistoricalFiction",
         "_deepnote_index_column": 2588
        },
        {
         "GenreType": "Fiction",
         "_deepnote_index_column": 2589
        },
        {
         "GenreType": "Classics",
         "_deepnote_index_column": 2590
        },
        {
         "GenreType": "Literature",
         "_deepnote_index_column": 2591
        },
        {
         "GenreType": "Historical",
         "_deepnote_index_column": 2592
        },
        {
         "GenreType": "HistoricalFiction",
         "_deepnote_index_column": 2593
        },
        {
         "GenreType": "Fiction",
         "_deepnote_index_column": 2594
        },
        {
         "GenreType": "ShortStories",
         "_deepnote_index_column": 2595
        },
        {
         "GenreType": "Fiction",
         "_deepnote_index_column": 2596
        },
        {
         "GenreType": "Westerns",
         "_deepnote_index_column": 2597
        },
        {
         "GenreType": "Horror",
         "_deepnote_index_column": 2598
        },
        {
         "GenreType": "Fiction",
         "_deepnote_index_column": 2599
        },
        {
         "GenreType": "Fantasy",
         "_deepnote_index_column": 2600
        },
        {
         "GenreType": "Historical",
         "_deepnote_index_column": 2601
        },
        {
         "GenreType": "HistoricalFiction",
         "_deepnote_index_column": 2602
        },
        {
         "GenreType": "Fiction",
         "_deepnote_index_column": 2603
        },
        {
         "GenreType": "Psychology",
         "_deepnote_index_column": 2604
        },
        {
         "GenreType": "Philosophy",
         "_deepnote_index_column": 2605
        },
        {
         "GenreType": "Nonfiction",
         "_deepnote_index_column": 2606
        },
        {
         "GenreType": "Fiction",
         "_deepnote_index_column": 2607
        },
        {
         "GenreType": "Contemporary",
         "_deepnote_index_column": 2608
        },
        {
         "GenreType": "LiteraryFiction",
         "_deepnote_index_column": 2609
        },
        {
         "GenreType": "Fiction",
         "_deepnote_index_column": 2610
        },
        {
         "GenreType": "Thriller",
         "_deepnote_index_column": 2611
        },
        {
         "GenreType": "Mystery",
         "_deepnote_index_column": 2612
        },
        {
         "GenreType": "Fiction",
         "_deepnote_index_column": 2613
        },
        {
         "GenreType": "Poetry",
         "_deepnote_index_column": 2614
        },
        {
         "GenreType": "ShortStories",
         "_deepnote_index_column": 2615
        },
        {
         "GenreType": "SequentialArt",
         "_deepnote_index_column": 2616
        },
        {
         "GenreType": "GraphicNovels",
         "_deepnote_index_column": 2617
        },
        {
         "GenreType": "SequentialArt",
         "_deepnote_index_column": 2618
        },
        {
         "GenreType": "Historical",
         "_deepnote_index_column": 2619
        },
        {
         "GenreType": "HistoricalFiction",
         "_deepnote_index_column": 2620
        },
        {
         "GenreType": "Fiction",
         "_deepnote_index_column": 2621
        },
        {
         "GenreType": "Historical",
         "_deepnote_index_column": 2622
        },
        {
         "GenreType": "HistoricalFiction",
         "_deepnote_index_column": 2623
        },
        {
         "GenreType": "Fiction",
         "_deepnote_index_column": 2624
        },
        {
         "GenreType": "Classics",
         "_deepnote_index_column": 2625
        },
        {
         "GenreType": "Fiction",
         "_deepnote_index_column": 2626
        },
        {
         "GenreType": "Literature",
         "_deepnote_index_column": 2627
        },
        {
         "GenreType": "Nonfiction",
         "_deepnote_index_column": 2628
        },
        {
         "GenreType": "Politics",
         "_deepnote_index_column": 2629
        },
        {
         "GenreType": "Economics",
         "_deepnote_index_column": 2630
        },
        {
         "GenreType": "Horror",
         "_deepnote_index_column": 2631
        },
        {
         "GenreType": "Fiction",
         "_deepnote_index_column": 2632
        },
        {
         "GenreType": "Thriller",
         "_deepnote_index_column": 2633
        },
        {
         "GenreType": "Language",
         "_deepnote_index_column": 2634
        },
        {
         "GenreType": "Writing",
         "_deepnote_index_column": 2635
        },
        {
         "GenreType": "Nonfiction",
         "_deepnote_index_column": 2636
        },
        {
         "GenreType": "Fiction",
         "_deepnote_index_column": 2637
        },
        {
         "GenreType": "Classics",
         "_deepnote_index_column": 2638
        },
        {
         "GenreType": "Novels",
         "_deepnote_index_column": 2639
        },
        {
         "GenreType": "Mystery",
         "_deepnote_index_column": 2640
        },
        {
         "GenreType": "Fiction",
         "_deepnote_index_column": 2641
        },
        {
         "GenreType": "Classics",
         "_deepnote_index_column": 2642
        },
        {
         "GenreType": "History",
         "_deepnote_index_column": 2643
        },
        {
         "GenreType": "Nonfiction",
         "_deepnote_index_column": 2644
        },
        {
         "GenreType": "Biography",
         "_deepnote_index_column": 2645
        },
        {
         "GenreType": "Fiction",
         "_deepnote_index_column": 2646
        },
        {
         "GenreType": "Historical",
         "_deepnote_index_column": 2647
        },
        {
         "GenreType": "HistoricalFiction",
         "_deepnote_index_column": 2648
        },
        {
         "GenreType": "Classics",
         "_deepnote_index_column": 2649
        },
        {
         "GenreType": "Fiction",
         "_deepnote_index_column": 2650
        },
        {
         "GenreType": "Romance",
         "_deepnote_index_column": 2651
        },
        {
         "GenreType": "Nonfiction",
         "_deepnote_index_column": 2652
        },
        {
         "GenreType": "Autobiography",
         "_deepnote_index_column": 2653
        },
        {
         "GenreType": "Memoir",
         "_deepnote_index_column": 2654
        },
        {
         "GenreType": "Fiction",
         "_deepnote_index_column": 2655
        },
        {
         "GenreType": "Classics",
         "_deepnote_index_column": 2656
        },
        {
         "GenreType": "Historical",
         "_deepnote_index_column": 2657
        },
        {
         "GenreType": "History",
         "_deepnote_index_column": 2658
        },
        {
         "GenreType": "Biography",
         "_deepnote_index_column": 2659
        },
        {
         "GenreType": "Nonfiction",
         "_deepnote_index_column": 2660
        },
        {
         "GenreType": "Fiction",
         "_deepnote_index_column": 2661
        },
        {
         "GenreType": "Classics",
         "_deepnote_index_column": 2662
        },
        {
         "GenreType": "EuropeanLiterature",
         "_deepnote_index_column": 2663
        },
        {
         "GenreType": "Classics",
         "_deepnote_index_column": 2664
        },
        {
         "GenreType": "Fiction",
         "_deepnote_index_column": 2665
        },
        {
         "GenreType": "Childrens",
         "_deepnote_index_column": 2666
        },
        {
         "GenreType": "Fantasy",
         "_deepnote_index_column": 2667
        },
        {
         "GenreType": "Romance",
         "_deepnote_index_column": 2668
        },
        {
         "GenreType": "Fantasy",
         "_deepnote_index_column": 2669
        },
        {
         "GenreType": "Historical",
         "_deepnote_index_column": 2670
        },
        {
         "GenreType": "HistoricalFiction",
         "_deepnote_index_column": 2671
        },
        {
         "GenreType": "Fiction",
         "_deepnote_index_column": 2672
        },
        {
         "GenreType": "Historical",
         "_deepnote_index_column": 2673
        },
        {
         "GenreType": "HistoricalFiction",
         "_deepnote_index_column": 2674
        },
        {
         "GenreType": "Fiction",
         "_deepnote_index_column": 2675
        },
        {
         "GenreType": "Fiction",
         "_deepnote_index_column": 2676
        },
        {
         "GenreType": "Classics",
         "_deepnote_index_column": 2677
        },
        {
         "GenreType": "EuropeanLiterature",
         "_deepnote_index_column": 2678
        },
        {
         "GenreType": "Historical",
         "_deepnote_index_column": 2679
        },
        {
         "GenreType": "HistoricalFiction",
         "_deepnote_index_column": 2680
        },
        {
         "GenreType": "Fiction",
         "_deepnote_index_column": 2681
        },
        {
         "GenreType": "Fiction",
         "_deepnote_index_column": 2682
        },
        {
         "GenreType": "Thriller",
         "_deepnote_index_column": 2683
        },
        {
         "GenreType": "Historical",
         "_deepnote_index_column": 2684
        },
        {
         "GenreType": "Fiction",
         "_deepnote_index_column": 2685
        },
        {
         "GenreType": "WomensFiction",
         "_deepnote_index_column": 2686
        },
        {
         "GenreType": "ChickLit",
         "_deepnote_index_column": 2687
        },
        {
         "GenreType": "Fiction",
         "_deepnote_index_column": 2688
        },
        {
         "GenreType": "Classics",
         "_deepnote_index_column": 2689
        },
        {
         "GenreType": "Literature",
         "_deepnote_index_column": 2690
        },
        {
         "GenreType": "Nonfiction",
         "_deepnote_index_column": 2691
        },
        {
         "GenreType": "History",
         "_deepnote_index_column": 2692
        },
        {
         "GenreType": "Biography",
         "_deepnote_index_column": 2693
        },
        {
         "GenreType": "ScienceFiction",
         "_deepnote_index_column": 2694
        },
        {
         "GenreType": "ScienceFiction",
         "_deepnote_index_column": 2695
        },
        {
         "GenreType": "TimeTravel",
         "_deepnote_index_column": 2696
        },
        {
         "GenreType": "Classics",
         "_deepnote_index_column": 2697
        },
        {
         "GenreType": "Fiction",
         "_deepnote_index_column": 2698
        },
        {
         "GenreType": "YoungAdult",
         "_deepnote_index_column": 2699
        },
        {
         "GenreType": "Fiction",
         "_deepnote_index_column": 2700
        },
        {
         "GenreType": "Classics",
         "_deepnote_index_column": 2701
        },
        {
         "GenreType": "Historical",
         "_deepnote_index_column": 2702
        },
        {
         "GenreType": "Fiction",
         "_deepnote_index_column": 2703
        },
        {
         "GenreType": "Cultural",
         "_deepnote_index_column": 2704
        },
        {
         "GenreType": "France",
         "_deepnote_index_column": 2705
        },
        {
         "GenreType": "History",
         "_deepnote_index_column": 2706
        },
        {
         "GenreType": "Nonfiction",
         "_deepnote_index_column": 2707
        },
        {
         "GenreType": "Philosophy",
         "_deepnote_index_column": 2708
        },
        {
         "GenreType": "YoungAdult",
         "_deepnote_index_column": 2709
        },
        {
         "GenreType": "Fiction",
         "_deepnote_index_column": 2710
        },
        {
         "GenreType": "Adventure",
         "_deepnote_index_column": 2711
        },
        {
         "GenreType": "Fiction",
         "_deepnote_index_column": 2712
        },
        {
         "GenreType": "Contemporary",
         "_deepnote_index_column": 2713
        },
        {
         "GenreType": "Novels",
         "_deepnote_index_column": 2714
        },
        {
         "GenreType": "Fantasy",
         "_deepnote_index_column": 2715
        },
        {
         "GenreType": "Fantasy",
         "_deepnote_index_column": 2716
        },
        {
         "GenreType": "UrbanFantasy",
         "_deepnote_index_column": 2717
        },
        {
         "GenreType": "Fiction",
         "_deepnote_index_column": 2718
        },
        {
         "GenreType": "Contemporary",
         "_deepnote_index_column": 2719
        },
        {
         "GenreType": "Novels",
         "_deepnote_index_column": 2720
        },
        {
         "GenreType": "Autobiography",
         "_deepnote_index_column": 2721
        },
        {
         "GenreType": "Memoir",
         "_deepnote_index_column": 2722
        },
        {
         "GenreType": "Nonfiction",
         "_deepnote_index_column": 2723
        },
        {
         "GenreType": "Fiction",
         "_deepnote_index_column": 2724
        },
        {
         "GenreType": "American",
         "_deepnote_index_column": 2725
        },
        {
         "GenreType": "Southern",
         "_deepnote_index_column": 2726
        },
        {
         "GenreType": "Nonfiction",
         "_deepnote_index_column": 2727
        },
        {
         "GenreType": "History",
         "_deepnote_index_column": 2728
        },
        {
         "GenreType": "War",
         "_deepnote_index_column": 2729
        },
        {
         "GenreType": "Historical",
         "_deepnote_index_column": 2730
        },
        {
         "GenreType": "HistoricalFiction",
         "_deepnote_index_column": 2731
        },
        {
         "GenreType": "Fiction",
         "_deepnote_index_column": 2732
        },
        {
         "GenreType": "Historical",
         "_deepnote_index_column": 2733
        },
        {
         "GenreType": "HistoricalFiction",
         "_deepnote_index_column": 2734
        },
        {
         "GenreType": "Fiction",
         "_deepnote_index_column": 2735
        },
        {
         "GenreType": "Horror",
         "_deepnote_index_column": 2736
        },
        {
         "GenreType": "Fiction",
         "_deepnote_index_column": 2737
        },
        {
         "GenreType": "Thriller",
         "_deepnote_index_column": 2738
        },
        {
         "GenreType": "Nonfiction",
         "_deepnote_index_column": 2739
        },
        {
         "GenreType": "Classics",
         "_deepnote_index_column": 2740
        },
        {
         "GenreType": "Biography",
         "_deepnote_index_column": 2741
        },
        {
         "GenreType": "Fiction",
         "_deepnote_index_column": 2742
        },
        {
         "GenreType": "ScienceFiction",
         "_deepnote_index_column": 2743
        },
        {
         "GenreType": "Fantasy",
         "_deepnote_index_column": 2744
        },
        {
         "GenreType": "Fantasy",
         "_deepnote_index_column": 2745
        },
        {
         "GenreType": "Fiction",
         "_deepnote_index_column": 2746
        },
        {
         "GenreType": "Fantasy",
         "_deepnote_index_column": 2747
        },
        {
         "GenreType": "Classics",
         "_deepnote_index_column": 2748
        },
        {
         "GenreType": "Fiction",
         "_deepnote_index_column": 2749
        },
        {
         "GenreType": "YoungAdult",
         "_deepnote_index_column": 2750
        },
        {
         "GenreType": "Plays",
         "_deepnote_index_column": 2751
        },
        {
         "GenreType": "Drama",
         "_deepnote_index_column": 2752
        },
        {
         "GenreType": "Classics",
         "_deepnote_index_column": 2753
        },
        {
         "GenreType": "Fiction",
         "_deepnote_index_column": 2754
        },
        {
         "GenreType": "Classics",
         "_deepnote_index_column": 2755
        },
        {
         "GenreType": "Literature",
         "_deepnote_index_column": 2756
        },
        {
         "GenreType": "Fiction",
         "_deepnote_index_column": 2757
        },
        {
         "GenreType": "Classics",
         "_deepnote_index_column": 2758
        },
        {
         "GenreType": "Cultural",
         "_deepnote_index_column": 2759
        },
        {
         "GenreType": "Fantasy",
         "_deepnote_index_column": 2760
        },
        {
         "GenreType": "Fiction",
         "_deepnote_index_column": 2761
        },
        {
         "GenreType": "Fantasy",
         "_deepnote_index_column": 2762
        },
        {
         "GenreType": "Historical",
         "_deepnote_index_column": 2763
        },
        {
         "GenreType": "HistoricalFiction",
         "_deepnote_index_column": 2764
        },
        {
         "GenreType": "Fiction",
         "_deepnote_index_column": 2765
        },
        {
         "GenreType": "Fiction",
         "_deepnote_index_column": 2766
        },
        {
         "GenreType": "Historical",
         "_deepnote_index_column": 2767
        },
        {
         "GenreType": "HistoricalFiction",
         "_deepnote_index_column": 2768
        },
        {
         "GenreType": "Fiction",
         "_deepnote_index_column": 2769
        },
        {
         "GenreType": "Classics",
         "_deepnote_index_column": 2770
        },
        {
         "GenreType": "Literature",
         "_deepnote_index_column": 2771
        },
        {
         "GenreType": "Fiction",
         "_deepnote_index_column": 2772
        },
        {
         "GenreType": "Classics",
         "_deepnote_index_column": 2773
        },
        {
         "GenreType": "Literature",
         "_deepnote_index_column": 2774
        },
        {
         "GenreType": "Fiction",
         "_deepnote_index_column": 2775
        },
        {
         "GenreType": "Classics",
         "_deepnote_index_column": 2776
        },
        {
         "GenreType": "YoungAdult",
         "_deepnote_index_column": 2777
        },
        {
         "GenreType": "Fiction",
         "_deepnote_index_column": 2778
        },
        {
         "GenreType": "Classics",
         "_deepnote_index_column": 2779
        },
        {
         "GenreType": "Mystery",
         "_deepnote_index_column": 2780
        },
        {
         "GenreType": "ScienceFiction",
         "_deepnote_index_column": 2781
        },
        {
         "GenreType": "Fiction",
         "_deepnote_index_column": 2782
        },
        {
         "GenreType": "Fantasy",
         "_deepnote_index_column": 2783
        },
        {
         "GenreType": "Historical",
         "_deepnote_index_column": 2784
        },
        {
         "GenreType": "HistoricalFiction",
         "_deepnote_index_column": 2785
        },
        {
         "GenreType": "Fiction",
         "_deepnote_index_column": 2786
        },
        {
         "GenreType": "Fantasy",
         "_deepnote_index_column": 2787
        },
        {
         "GenreType": "ScienceFiction",
         "_deepnote_index_column": 2788
        },
        {
         "GenreType": "Fantasy",
         "_deepnote_index_column": 2789
        },
        {
         "GenreType": "Historical",
         "_deepnote_index_column": 2790
        },
        {
         "GenreType": "HistoricalFiction",
         "_deepnote_index_column": 2791
        },
        {
         "GenreType": "Fiction",
         "_deepnote_index_column": 2792
        },
        {
         "GenreType": "Classics",
         "_deepnote_index_column": 2793
        },
        {
         "GenreType": "Fiction",
         "_deepnote_index_column": 2794
        },
        {
         "GenreType": "EuropeanLiterature",
         "_deepnote_index_column": 2795
        },
        {
         "GenreType": "Fiction",
         "_deepnote_index_column": 2796
        },
        {
         "GenreType": "EuropeanLiterature",
         "_deepnote_index_column": 2797
        },
        {
         "GenreType": "GermanLiterature",
         "_deepnote_index_column": 2798
        },
        {
         "GenreType": "Fantasy",
         "_deepnote_index_column": 2799
        },
        {
         "GenreType": "Fiction",
         "_deepnote_index_column": 2800
        },
        {
         "GenreType": "MagicalRealism",
         "_deepnote_index_column": 2801
        },
        {
         "GenreType": "Fantasy",
         "_deepnote_index_column": 2802
        },
        {
         "GenreType": "SequentialArt",
         "_deepnote_index_column": 2803
        },
        {
         "GenreType": "GraphicNovels",
         "_deepnote_index_column": 2804
        },
        {
         "GenreType": "Holiday",
         "_deepnote_index_column": 2805
        },
        {
         "GenreType": "Christmas",
         "_deepnote_index_column": 2806
        },
        {
         "GenreType": "Childrens",
         "_deepnote_index_column": 2807
        },
        {
         "GenreType": "Fiction",
         "_deepnote_index_column": 2808
        },
        {
         "GenreType": "Classics",
         "_deepnote_index_column": 2809
        },
        {
         "GenreType": "Literature",
         "_deepnote_index_column": 2810
        },
        {
         "GenreType": "Fantasy",
         "_deepnote_index_column": 2811
        },
        {
         "GenreType": "Fiction",
         "_deepnote_index_column": 2812
        },
        {
         "GenreType": "Humor",
         "_deepnote_index_column": 2813
        },
        {
         "GenreType": "Fiction",
         "_deepnote_index_column": 2814
        },
        {
         "GenreType": "ShortStories",
         "_deepnote_index_column": 2815
        },
        {
         "GenreType": "LGBT",
         "_deepnote_index_column": 2816
        },
        {
         "GenreType": "Fiction",
         "_deepnote_index_column": 2817
        },
        {
         "GenreType": "YoungAdult",
         "_deepnote_index_column": 2818
        },
        {
         "GenreType": "Drama",
         "_deepnote_index_column": 2819
        },
        {
         "GenreType": "Plays",
         "_deepnote_index_column": 2820
        },
        {
         "GenreType": "Drama",
         "_deepnote_index_column": 2821
        },
        {
         "GenreType": "Cultural",
         "_deepnote_index_column": 2822
        },
        {
         "GenreType": "Fiction",
         "_deepnote_index_column": 2823
        },
        {
         "GenreType": "Classics",
         "_deepnote_index_column": 2824
        },
        {
         "GenreType": "Literature",
         "_deepnote_index_column": 2825
        },
        {
         "GenreType": "Fiction",
         "_deepnote_index_column": 2826
        },
        {
         "GenreType": "Contemporary",
         "_deepnote_index_column": 2827
        },
        {
         "GenreType": "Philosophy",
         "_deepnote_index_column": 2828
        },
        {
         "GenreType": "Fiction",
         "_deepnote_index_column": 2829
        },
        {
         "GenreType": "Mystery",
         "_deepnote_index_column": 2830
        },
        {
         "GenreType": "Mystery",
         "_deepnote_index_column": 2831
        },
        {
         "GenreType": "Fiction",
         "_deepnote_index_column": 2832
        },
        {
         "GenreType": "Classics",
         "_deepnote_index_column": 2833
        },
        {
         "GenreType": "Art",
         "_deepnote_index_column": 2834
        },
        {
         "GenreType": "Historical",
         "_deepnote_index_column": 2835
        },
        {
         "GenreType": "HistoricalFiction",
         "_deepnote_index_column": 2836
        },
        {
         "GenreType": "Fiction",
         "_deepnote_index_column": 2837
        },
        {
         "GenreType": "Fantasy",
         "_deepnote_index_column": 2838
        },
        {
         "GenreType": "Fiction",
         "_deepnote_index_column": 2839
        },
        {
         "GenreType": "Humor",
         "_deepnote_index_column": 2840
        },
        {
         "GenreType": "Fiction",
         "_deepnote_index_column": 2841
        },
        {
         "GenreType": "Historical",
         "_deepnote_index_column": 2842
        },
        {
         "GenreType": "HistoricalFiction",
         "_deepnote_index_column": 2843
        },
        {
         "GenreType": "Fiction",
         "_deepnote_index_column": 2844
        },
        {
         "GenreType": "Cultural",
         "_deepnote_index_column": 2845
        },
        {
         "GenreType": "Africa",
         "_deepnote_index_column": 2846
        },
        {
         "GenreType": "Fantasy",
         "_deepnote_index_column": 2847
        },
        {
         "GenreType": "Childrens",
         "_deepnote_index_column": 2848
        },
        {
         "GenreType": "Classics",
         "_deepnote_index_column": 2849
        },
        {
         "GenreType": "ScienceFiction",
         "_deepnote_index_column": 2850
        },
        {
         "GenreType": "Fiction",
         "_deepnote_index_column": 2851
        },
        {
         "GenreType": "ScienceFictionFantasy",
         "_deepnote_index_column": 2852
        },
        {
         "GenreType": "Historical",
         "_deepnote_index_column": 2853
        },
        {
         "GenreType": "HistoricalFiction",
         "_deepnote_index_column": 2854
        },
        {
         "GenreType": "Fiction",
         "_deepnote_index_column": 2855
        },
        {
         "GenreType": "Fiction",
         "_deepnote_index_column": 2856
        },
        {
         "GenreType": "Historical",
         "_deepnote_index_column": 2857
        },
        {
         "GenreType": "HistoricalFiction",
         "_deepnote_index_column": 2858
        },
        {
         "GenreType": "Classics",
         "_deepnote_index_column": 2859
        },
        {
         "GenreType": "Fiction",
         "_deepnote_index_column": 2860
        },
        {
         "GenreType": "YoungAdult",
         "_deepnote_index_column": 2861
        },
        {
         "GenreType": "Science",
         "_deepnote_index_column": 2862
        },
        {
         "GenreType": "Nonfiction",
         "_deepnote_index_column": 2863
        },
        {
         "GenreType": "Biology",
         "_deepnote_index_column": 2864
        },
        {
         "GenreType": "Childrens",
         "_deepnote_index_column": 2865
        },
        {
         "GenreType": "PictureBooks",
         "_deepnote_index_column": 2866
        },
        {
         "GenreType": "Childrens",
         "_deepnote_index_column": 2867
        },
        {
         "GenreType": "ScienceFiction",
         "_deepnote_index_column": 2868
        },
        {
         "GenreType": "Fiction",
         "_deepnote_index_column": 2869
        },
        {
         "GenreType": "ScienceFiction",
         "_deepnote_index_column": 2870
        },
        {
         "GenreType": "Classics",
         "_deepnote_index_column": 2871
        },
        {
         "GenreType": "Fiction",
         "_deepnote_index_column": 2872
        },
        {
         "GenreType": "Cultural",
         "_deepnote_index_column": 2873
        },
        {
         "GenreType": "Horror",
         "_deepnote_index_column": 2874
        },
        {
         "GenreType": "Fiction",
         "_deepnote_index_column": 2875
        },
        {
         "GenreType": "Thriller",
         "_deepnote_index_column": 2876
        },
        {
         "GenreType": "Poetry",
         "_deepnote_index_column": 2877
        },
        {
         "GenreType": "Cultural",
         "_deepnote_index_column": 2878
        },
        {
         "GenreType": "Russia",
         "_deepnote_index_column": 2879
        },
        {
         "GenreType": "Fantasy",
         "_deepnote_index_column": 2880
        },
        {
         "GenreType": "Fiction",
         "_deepnote_index_column": 2881
        },
        {
         "GenreType": "Historical",
         "_deepnote_index_column": 2882
        },
        {
         "GenreType": "Fiction",
         "_deepnote_index_column": 2883
        },
        {
         "GenreType": "LGBT",
         "_deepnote_index_column": 2884
        },
        {
         "GenreType": "GLBT",
         "_deepnote_index_column": 2885
        },
        {
         "GenreType": "Horror",
         "_deepnote_index_column": 2886
        },
        {
         "GenreType": "Fantasy",
         "_deepnote_index_column": 2887
        },
        {
         "GenreType": "Paranormal",
         "_deepnote_index_column": 2888
        },
        {
         "GenreType": "ScienceFiction",
         "_deepnote_index_column": 2889
        },
        {
         "GenreType": "Fiction",
         "_deepnote_index_column": 2890
        },
        {
         "GenreType": "Classics",
         "_deepnote_index_column": 2891
        },
        {
         "GenreType": "Nonfiction",
         "_deepnote_index_column": 2892
        },
        {
         "GenreType": "Animals",
         "_deepnote_index_column": 2893
        },
        {
         "GenreType": "Environment",
         "_deepnote_index_column": 2894
        },
        {
         "GenreType": "Historical",
         "_deepnote_index_column": 2895
        },
        {
         "GenreType": "HistoricalFiction",
         "_deepnote_index_column": 2896
        },
        {
         "GenreType": "Fiction",
         "_deepnote_index_column": 2897
        },
        {
         "GenreType": "Fiction",
         "_deepnote_index_column": 2898
        },
        {
         "GenreType": "Historical",
         "_deepnote_index_column": 2899
        },
        {
         "GenreType": "HistoricalFiction",
         "_deepnote_index_column": 2900
        },
        {
         "GenreType": "Nonfiction",
         "_deepnote_index_column": 2901
        },
        {
         "GenreType": "History",
         "_deepnote_index_column": 2902
        },
        {
         "GenreType": "Politics",
         "_deepnote_index_column": 2903
        },
        {
         "GenreType": "Fiction",
         "_deepnote_index_column": 2904
        },
        {
         "GenreType": "Historical",
         "_deepnote_index_column": 2905
        },
        {
         "GenreType": "HistoricalFiction",
         "_deepnote_index_column": 2906
        },
        {
         "GenreType": "ScienceFiction",
         "_deepnote_index_column": 2907
        },
        {
         "GenreType": "Fiction",
         "_deepnote_index_column": 2908
        },
        {
         "GenreType": "Space",
         "_deepnote_index_column": 2909
        },
        {
         "GenreType": "ChristianFiction",
         "_deepnote_index_column": 2910
        },
        {
         "GenreType": "Christian",
         "_deepnote_index_column": 2911
        },
        {
         "GenreType": "Fiction",
         "_deepnote_index_column": 2912
        },
        {
         "GenreType": "Nonfiction",
         "_deepnote_index_column": 2913
        },
        {
         "GenreType": "Sociology",
         "_deepnote_index_column": 2914
        },
        {
         "GenreType": "Science",
         "_deepnote_index_column": 2915
        },
        {
         "GenreType": "Classics",
         "_deepnote_index_column": 2916
        },
        {
         "GenreType": "Fiction",
         "_deepnote_index_column": 2917
        },
        {
         "GenreType": "YoungAdult",
         "_deepnote_index_column": 2918
        },
        {
         "GenreType": "Fiction",
         "_deepnote_index_column": 2919
        },
        {
         "GenreType": "Classics",
         "_deepnote_index_column": 2920
        },
        {
         "GenreType": "Literature",
         "_deepnote_index_column": 2921
        },
        {
         "GenreType": "Fiction",
         "_deepnote_index_column": 2922
        },
        {
         "GenreType": "Classics",
         "_deepnote_index_column": 2923
        },
        {
         "GenreType": "Historical",
         "_deepnote_index_column": 2924
        },
        {
         "GenreType": "Fiction",
         "_deepnote_index_column": 2925
        },
        {
         "GenreType": "Cultural",
         "_deepnote_index_column": 2926
        },
        {
         "GenreType": "France",
         "_deepnote_index_column": 2927
        },
        {
         "GenreType": "Fiction",
         "_deepnote_index_column": 2928
        },
        {
         "GenreType": "Cultural",
         "_deepnote_index_column": 2929
        },
        {
         "GenreType": "Japan",
         "_deepnote_index_column": 2930
        },
        {
         "GenreType": "Fiction",
         "_deepnote_index_column": 2931
        },
        {
         "GenreType": "ShortStories",
         "_deepnote_index_column": 2932
        },
        {
         "GenreType": "Classics",
         "_deepnote_index_column": 2933
        },
        {
         "GenreType": "Fiction",
         "_deepnote_index_column": 2934
        },
        {
         "GenreType": "Historical",
         "_deepnote_index_column": 2935
        },
        {
         "GenreType": "HistoricalFiction",
         "_deepnote_index_column": 2936
        },
        {
         "GenreType": "Mystery",
         "_deepnote_index_column": 2937
        },
        {
         "GenreType": "Historical",
         "_deepnote_index_column": 2938
        },
        {
         "GenreType": "HistoricalFiction",
         "_deepnote_index_column": 2939
        },
        {
         "GenreType": "ScienceFiction",
         "_deepnote_index_column": 2940
        },
        {
         "GenreType": "Fiction",
         "_deepnote_index_column": 2941
        },
        {
         "GenreType": "Religion",
         "_deepnote_index_column": 2942
        },
        {
         "GenreType": "Fiction",
         "_deepnote_index_column": 2943
        },
        {
         "GenreType": "Cultural",
         "_deepnote_index_column": 2944
        },
        {
         "GenreType": "Japan",
         "_deepnote_index_column": 2945
        },
        {
         "GenreType": "Historical",
         "_deepnote_index_column": 2946
        },
        {
         "GenreType": "HistoricalFiction",
         "_deepnote_index_column": 2947
        },
        {
         "GenreType": "Fiction",
         "_deepnote_index_column": 2948
        },
        {
         "GenreType": "Mystery",
         "_deepnote_index_column": 2949
        },
        {
         "GenreType": "Fiction",
         "_deepnote_index_column": 2950
        },
        {
         "GenreType": "Thriller",
         "_deepnote_index_column": 2951
        },
        {
         "GenreType": "SequentialArt",
         "_deepnote_index_column": 2952
        },
        {
         "GenreType": "Comics",
         "_deepnote_index_column": 2953
        },
        {
         "GenreType": "SequentialArt",
         "_deepnote_index_column": 2954
        },
        {
         "GenreType": "Fiction",
         "_deepnote_index_column": 2955
        },
        {
         "GenreType": "Contemporary",
         "_deepnote_index_column": 2956
        },
        {
         "GenreType": "LiteraryFiction",
         "_deepnote_index_column": 2957
        },
        {
         "GenreType": "YoungAdult",
         "_deepnote_index_column": 2958
        },
        {
         "GenreType": "Fiction",
         "_deepnote_index_column": 2959
        },
        {
         "GenreType": "Fantasy",
         "_deepnote_index_column": 2960
        },
        {
         "GenreType": "Fiction",
         "_deepnote_index_column": 2961
        },
        {
         "GenreType": "Classics",
         "_deepnote_index_column": 2962
        },
        {
         "GenreType": "Historical",
         "_deepnote_index_column": 2963
        },
        {
         "GenreType": "Fiction",
         "_deepnote_index_column": 2964
        },
        {
         "GenreType": "MagicalRealism",
         "_deepnote_index_column": 2965
        },
        {
         "GenreType": "Historical",
         "_deepnote_index_column": 2966
        },
        {
         "GenreType": "Fantasy",
         "_deepnote_index_column": 2967
        },
        {
         "GenreType": "Fiction",
         "_deepnote_index_column": 2968
        },
        {
         "GenreType": "Historical",
         "_deepnote_index_column": 2969
        },
        {
         "GenreType": "ShortStories",
         "_deepnote_index_column": 2970
        },
        {
         "GenreType": "Fiction",
         "_deepnote_index_column": 2971
        },
        {
         "GenreType": "Horror",
         "_deepnote_index_column": 2972
        },
        {
         "GenreType": "Fiction",
         "_deepnote_index_column": 2973
        },
        {
         "GenreType": "ShortStories",
         "_deepnote_index_column": 2974
        },
        {
         "GenreType": "Classics",
         "_deepnote_index_column": 2975
        },
        {
         "GenreType": "Fiction",
         "_deepnote_index_column": 2976
        },
        {
         "GenreType": "ShortStories",
         "_deepnote_index_column": 2977
        },
        {
         "GenreType": "EuropeanLiterature",
         "_deepnote_index_column": 2978
        },
        {
         "GenreType": "Fiction",
         "_deepnote_index_column": 2979
        },
        {
         "GenreType": "ScienceFiction",
         "_deepnote_index_column": 2980
        },
        {
         "GenreType": "Apocalyptic",
         "_deepnote_index_column": 2981
        },
        {
         "GenreType": "Fiction",
         "_deepnote_index_column": 2982
        },
        {
         "GenreType": "Classics",
         "_deepnote_index_column": 2983
        },
        {
         "GenreType": "Novels",
         "_deepnote_index_column": 2984
        },
        {
         "GenreType": "Fiction",
         "_deepnote_index_column": 2985
        },
        {
         "GenreType": "EuropeanLiterature",
         "_deepnote_index_column": 2986
        },
        {
         "GenreType": "GermanLiterature",
         "_deepnote_index_column": 2987
        }
       ],
       "rows_top": [
        {
         "GenreType": "Classics",
         "_deepnote_index_column": 0
        },
        {
         "GenreType": "Fiction",
         "_deepnote_index_column": 1
        },
        {
         "GenreType": "Historical",
         "_deepnote_index_column": 2
        },
        {
         "GenreType": "Classics",
         "_deepnote_index_column": 3
        },
        {
         "GenreType": "Fiction",
         "_deepnote_index_column": 4
        },
        {
         "GenreType": "ScienceFiction",
         "_deepnote_index_column": 5
        },
        {
         "GenreType": "Classics",
         "_deepnote_index_column": 6
        },
        {
         "GenreType": "Fiction",
         "_deepnote_index_column": 7
        },
        {
         "GenreType": "Academic",
         "_deepnote_index_column": 8
        },
        {
         "GenreType": "Fantasy",
         "_deepnote_index_column": 9
        },
        {
         "GenreType": "Fiction",
         "_deepnote_index_column": 10
        },
        {
         "GenreType": "YoungAdult",
         "_deepnote_index_column": 11
        },
        {
         "GenreType": "Fantasy",
         "_deepnote_index_column": 12
        },
        {
         "GenreType": "Classics",
         "_deepnote_index_column": 13
        },
        {
         "GenreType": "Fiction",
         "_deepnote_index_column": 14
        },
        {
         "GenreType": "Classics",
         "_deepnote_index_column": 15
        },
        {
         "GenreType": "Fiction",
         "_deepnote_index_column": 16
        },
        {
         "GenreType": "ScienceFiction",
         "_deepnote_index_column": 17
        },
        {
         "GenreType": "Nonfiction",
         "_deepnote_index_column": 18
        },
        {
         "GenreType": "Classics",
         "_deepnote_index_column": 19
        },
        {
         "GenreType": "History",
         "_deepnote_index_column": 20
        },
        {
         "GenreType": "Classics",
         "_deepnote_index_column": 21
        },
        {
         "GenreType": "Fiction",
         "_deepnote_index_column": 22
        },
        {
         "GenreType": "Fantasy",
         "_deepnote_index_column": 23
        },
        {
         "GenreType": "Classics",
         "_deepnote_index_column": 24
        },
        {
         "GenreType": "Fiction",
         "_deepnote_index_column": 25
        },
        {
         "GenreType": "ScienceFiction",
         "_deepnote_index_column": 26
        },
        {
         "GenreType": "Classics",
         "_deepnote_index_column": 27
        },
        {
         "GenreType": "Fiction",
         "_deepnote_index_column": 28
        },
        {
         "GenreType": "YoungAdult",
         "_deepnote_index_column": 29
        },
        {
         "GenreType": "Fantasy",
         "_deepnote_index_column": 30
        },
        {
         "GenreType": "Classics",
         "_deepnote_index_column": 31
        },
        {
         "GenreType": "Fiction",
         "_deepnote_index_column": 32
        },
        {
         "GenreType": "Classics",
         "_deepnote_index_column": 33
        },
        {
         "GenreType": "Fiction",
         "_deepnote_index_column": 34
        },
        {
         "GenreType": "Historical",
         "_deepnote_index_column": 35
        },
        {
         "GenreType": "Fiction",
         "_deepnote_index_column": 36
        },
        {
         "GenreType": "Classics",
         "_deepnote_index_column": 37
        },
        {
         "GenreType": "MagicalRealism",
         "_deepnote_index_column": 38
        },
        {
         "GenreType": "Classics",
         "_deepnote_index_column": 39
        },
        {
         "GenreType": "Fiction",
         "_deepnote_index_column": 40
        },
        {
         "GenreType": "ScienceFiction",
         "_deepnote_index_column": 41
        },
        {
         "GenreType": "Classics",
         "_deepnote_index_column": 42
        },
        {
         "GenreType": "Fiction",
         "_deepnote_index_column": 43
        },
        {
         "GenreType": "Academic",
         "_deepnote_index_column": 44
        },
        {
         "GenreType": "Classics",
         "_deepnote_index_column": 45
        },
        {
         "GenreType": "Historical",
         "_deepnote_index_column": 46
        },
        {
         "GenreType": "HistoricalFiction",
         "_deepnote_index_column": 47
        },
        {
         "GenreType": "YoungAdult",
         "_deepnote_index_column": 48
        },
        {
         "GenreType": "Fiction",
         "_deepnote_index_column": 49
        },
        {
         "GenreType": "Classics",
         "_deepnote_index_column": 50
        },
        {
         "GenreType": "Fantasy",
         "_deepnote_index_column": 51
        },
        {
         "GenreType": "YoungAdult",
         "_deepnote_index_column": 52
        },
        {
         "GenreType": "Fiction",
         "_deepnote_index_column": 53
        },
        {
         "GenreType": "Classics",
         "_deepnote_index_column": 54
        },
        {
         "GenreType": "Fiction",
         "_deepnote_index_column": 55
        },
        {
         "GenreType": "YoungAdult",
         "_deepnote_index_column": 56
        },
        {
         "GenreType": "Classics",
         "_deepnote_index_column": 57
        },
        {
         "GenreType": "Fiction",
         "_deepnote_index_column": 58
        },
        {
         "GenreType": "ScienceFiction",
         "_deepnote_index_column": 59
        },
        {
         "GenreType": "Classics",
         "_deepnote_index_column": 60
        },
        {
         "GenreType": "Fiction",
         "_deepnote_index_column": 61
        },
        {
         "GenreType": "Historical",
         "_deepnote_index_column": 62
        },
        {
         "GenreType": "Classics",
         "_deepnote_index_column": 63
        },
        {
         "GenreType": "Fiction",
         "_deepnote_index_column": 64
        },
        {
         "GenreType": "Literature",
         "_deepnote_index_column": 65
        },
        {
         "GenreType": "Fiction",
         "_deepnote_index_column": 66
        },
        {
         "GenreType": "Classics",
         "_deepnote_index_column": 67
        },
        {
         "GenreType": "ScienceFiction",
         "_deepnote_index_column": 68
        },
        {
         "GenreType": "Classics",
         "_deepnote_index_column": 69
        },
        {
         "GenreType": "Fiction",
         "_deepnote_index_column": 70
        },
        {
         "GenreType": "Literature",
         "_deepnote_index_column": 71
        },
        {
         "GenreType": "ScienceFiction",
         "_deepnote_index_column": 72
        },
        {
         "GenreType": "Fiction",
         "_deepnote_index_column": 73
        },
        {
         "GenreType": "Humor",
         "_deepnote_index_column": 74
        },
        {
         "GenreType": "Fantasy",
         "_deepnote_index_column": 75
        },
        {
         "GenreType": "Classics",
         "_deepnote_index_column": 76
        },
        {
         "GenreType": "Fiction",
         "_deepnote_index_column": 77
        },
        {
         "GenreType": "Fiction",
         "_deepnote_index_column": 78
        },
        {
         "GenreType": "Historical",
         "_deepnote_index_column": 79
        },
        {
         "GenreType": "HistoricalFiction",
         "_deepnote_index_column": 80
        },
        {
         "GenreType": "Classics",
         "_deepnote_index_column": 81
        },
        {
         "GenreType": "Fiction",
         "_deepnote_index_column": 82
        },
        {
         "GenreType": "Philosophy",
         "_deepnote_index_column": 83
        },
        {
         "GenreType": "Fantasy",
         "_deepnote_index_column": 84
        },
        {
         "GenreType": "YoungAdult",
         "_deepnote_index_column": 85
        },
        {
         "GenreType": "Fiction",
         "_deepnote_index_column": 86
        },
        {
         "GenreType": "Classics",
         "_deepnote_index_column": 87
        },
        {
         "GenreType": "Childrens",
         "_deepnote_index_column": 88
        },
        {
         "GenreType": "Fiction",
         "_deepnote_index_column": 89
        },
        {
         "GenreType": "Fantasy",
         "_deepnote_index_column": 90
        },
        {
         "GenreType": "Classics",
         "_deepnote_index_column": 91
        },
        {
         "GenreType": "Fiction",
         "_deepnote_index_column": 92
        },
        {
         "GenreType": "Fantasy",
         "_deepnote_index_column": 93
        },
        {
         "GenreType": "Fiction",
         "_deepnote_index_column": 94
        },
        {
         "GenreType": "Classics",
         "_deepnote_index_column": 95
        },
        {
         "GenreType": "ScienceFiction",
         "_deepnote_index_column": 96
        },
        {
         "GenreType": "Fiction",
         "_deepnote_index_column": 97
        },
        {
         "GenreType": "YoungAdult",
         "_deepnote_index_column": 98
        },
        {
         "GenreType": "Classics",
         "_deepnote_index_column": 99
        },
        {
         "GenreType": "Fiction",
         "_deepnote_index_column": 100
        },
        {
         "GenreType": "Literature",
         "_deepnote_index_column": 101
        },
        {
         "GenreType": "Childrens",
         "_deepnote_index_column": 102
        },
        {
         "GenreType": "Childrens",
         "_deepnote_index_column": 103
        },
        {
         "GenreType": "PictureBooks",
         "_deepnote_index_column": 104
        },
        {
         "GenreType": "Fantasy",
         "_deepnote_index_column": 105
        },
        {
         "GenreType": "Fiction",
         "_deepnote_index_column": 106
        },
        {
         "GenreType": "Classics",
         "_deepnote_index_column": 107
        },
        {
         "GenreType": "Fantasy",
         "_deepnote_index_column": 108
        },
        {
         "GenreType": "Fiction",
         "_deepnote_index_column": 109
        },
        {
         "GenreType": "Classics",
         "_deepnote_index_column": 110
        },
        {
         "GenreType": "Classics",
         "_deepnote_index_column": 111
        },
        {
         "GenreType": "Fiction",
         "_deepnote_index_column": 112
        },
        {
         "GenreType": "Feminism",
         "_deepnote_index_column": 113
        },
        {
         "GenreType": "Classics",
         "_deepnote_index_column": 114
        },
        {
         "GenreType": "Fiction",
         "_deepnote_index_column": 115
        },
        {
         "GenreType": "Historical",
         "_deepnote_index_column": 116
        },
        {
         "GenreType": "Nonfiction",
         "_deepnote_index_column": 117
        },
        {
         "GenreType": "Classics",
         "_deepnote_index_column": 118
        },
        {
         "GenreType": "History",
         "_deepnote_index_column": 119
        },
        {
         "GenreType": "Fiction",
         "_deepnote_index_column": 120
        },
        {
         "GenreType": "Classics",
         "_deepnote_index_column": 121
        },
        {
         "GenreType": "Fantasy",
         "_deepnote_index_column": 122
        },
        {
         "GenreType": "Classics",
         "_deepnote_index_column": 123
        },
        {
         "GenreType": "Fiction",
         "_deepnote_index_column": 124
        },
        {
         "GenreType": "Fantasy",
         "_deepnote_index_column": 125
        },
        {
         "GenreType": "Nonfiction",
         "_deepnote_index_column": 126
        },
        {
         "GenreType": "Classics",
         "_deepnote_index_column": 127
        },
        {
         "GenreType": "Crime",
         "_deepnote_index_column": 128
        },
        {
         "GenreType": "Classics",
         "_deepnote_index_column": 129
        },
        {
         "GenreType": "Fiction",
         "_deepnote_index_column": 130
        },
        {
         "GenreType": "YoungAdult",
         "_deepnote_index_column": 131
        },
        {
         "GenreType": "Childrens",
         "_deepnote_index_column": 132
        },
        {
         "GenreType": "Childrens",
         "_deepnote_index_column": 133
        },
        {
         "GenreType": "PictureBooks",
         "_deepnote_index_column": 134
        },
        {
         "GenreType": "Classics",
         "_deepnote_index_column": 135
        },
        {
         "GenreType": "Fiction",
         "_deepnote_index_column": 136
        },
        {
         "GenreType": "Philosophy",
         "_deepnote_index_column": 137
        },
        {
         "GenreType": "Classics",
         "_deepnote_index_column": 138
        },
        {
         "GenreType": "Fiction",
         "_deepnote_index_column": 139
        },
        {
         "GenreType": "Historical",
         "_deepnote_index_column": 140
        },
        {
         "GenreType": "Classics",
         "_deepnote_index_column": 141
        },
        {
         "GenreType": "Philosophy",
         "_deepnote_index_column": 142
        },
        {
         "GenreType": "Literature",
         "_deepnote_index_column": 143
        },
        {
         "GenreType": "Fiction",
         "_deepnote_index_column": 144
        },
        {
         "GenreType": "Classics",
         "_deepnote_index_column": 145
        },
        {
         "GenreType": "Historical",
         "_deepnote_index_column": 146
        },
        {
         "GenreType": "Fiction",
         "_deepnote_index_column": 147
        },
        {
         "GenreType": "Historical",
         "_deepnote_index_column": 148
        },
        {
         "GenreType": "HistoricalFiction",
         "_deepnote_index_column": 149
        },
        {
         "GenreType": "Classics",
         "_deepnote_index_column": 150
        },
        {
         "GenreType": "Mystery",
         "_deepnote_index_column": 151
        },
        {
         "GenreType": "Fiction",
         "_deepnote_index_column": 152
        },
        {
         "GenreType": "Classics",
         "_deepnote_index_column": 153
        },
        {
         "GenreType": "Fiction",
         "_deepnote_index_column": 154
        },
        {
         "GenreType": "Fantasy",
         "_deepnote_index_column": 155
        },
        {
         "GenreType": "Classics",
         "_deepnote_index_column": 156
        },
        {
         "GenreType": "Fiction",
         "_deepnote_index_column": 157
        },
        {
         "GenreType": "Childrens",
         "_deepnote_index_column": 158
        },
        {
         "GenreType": "Fiction",
         "_deepnote_index_column": 159
        },
        {
         "GenreType": "Classics",
         "_deepnote_index_column": 160
        },
        {
         "GenreType": "Philosophy",
         "_deepnote_index_column": 161
        },
        {
         "GenreType": "Horror",
         "_deepnote_index_column": 162
        },
        {
         "GenreType": "Fiction",
         "_deepnote_index_column": 163
        },
        {
         "GenreType": "Fantasy",
         "_deepnote_index_column": 164
        },
        {
         "GenreType": "Fiction",
         "_deepnote_index_column": 165
        },
        {
         "GenreType": "Classics",
         "_deepnote_index_column": 166
        },
        {
         "GenreType": "Contemporary",
         "_deepnote_index_column": 167
        },
        {
         "GenreType": "Fiction",
         "_deepnote_index_column": 168
        },
        {
         "GenreType": "Classics",
         "_deepnote_index_column": 169
        },
        {
         "GenreType": "Literature",
         "_deepnote_index_column": 170
        },
        {
         "GenreType": "Classics",
         "_deepnote_index_column": 171
        },
        {
         "GenreType": "Fiction",
         "_deepnote_index_column": 172
        },
        {
         "GenreType": "Mystery",
         "_deepnote_index_column": 173
        },
        {
         "GenreType": "Childrens",
         "_deepnote_index_column": 174
        },
        {
         "GenreType": "Childrens",
         "_deepnote_index_column": 175
        },
        {
         "GenreType": "PictureBooks",
         "_deepnote_index_column": 176
        },
        {
         "GenreType": "Childrens",
         "_deepnote_index_column": 177
        },
        {
         "GenreType": "Childrens",
         "_deepnote_index_column": 178
        },
        {
         "GenreType": "PictureBooks",
         "_deepnote_index_column": 179
        },
        {
         "GenreType": "ScienceFiction",
         "_deepnote_index_column": 180
        },
        {
         "GenreType": "Fiction",
         "_deepnote_index_column": 181
        },
        {
         "GenreType": "Fantasy",
         "_deepnote_index_column": 182
        },
        {
         "GenreType": "Childrens",
         "_deepnote_index_column": 183
        },
        {
         "GenreType": "Fantasy",
         "_deepnote_index_column": 184
        },
        {
         "GenreType": "Fiction",
         "_deepnote_index_column": 185
        },
        {
         "GenreType": "Historical",
         "_deepnote_index_column": 186
        },
        {
         "GenreType": "HistoricalFiction",
         "_deepnote_index_column": 187
        },
        {
         "GenreType": "Fiction",
         "_deepnote_index_column": 188
        },
        {
         "GenreType": "Classics",
         "_deepnote_index_column": 189
        },
        {
         "GenreType": "Fiction",
         "_deepnote_index_column": 190
        },
        {
         "GenreType": "Cultural",
         "_deepnote_index_column": 191
        },
        {
         "GenreType": "Classics",
         "_deepnote_index_column": 192
        },
        {
         "GenreType": "YoungAdult",
         "_deepnote_index_column": 193
        },
        {
         "GenreType": "Fiction",
         "_deepnote_index_column": 194
        },
        {
         "GenreType": "Classics",
         "_deepnote_index_column": 195
        },
        {
         "GenreType": "Fiction",
         "_deepnote_index_column": 196
        },
        {
         "GenreType": "Travel",
         "_deepnote_index_column": 197
        },
        {
         "GenreType": "ScienceFiction",
         "_deepnote_index_column": 198
        },
        {
         "GenreType": "Fiction",
         "_deepnote_index_column": 199
        },
        {
         "GenreType": "Humor",
         "_deepnote_index_column": 200
        },
        {
         "GenreType": "Classics",
         "_deepnote_index_column": 201
        },
        {
         "GenreType": "Fiction",
         "_deepnote_index_column": 202
        },
        {
         "GenreType": "Literature",
         "_deepnote_index_column": 203
        },
        {
         "GenreType": "Classics",
         "_deepnote_index_column": 204
        },
        {
         "GenreType": "Fiction",
         "_deepnote_index_column": 205
        },
        {
         "GenreType": "Literature",
         "_deepnote_index_column": 206
        },
        {
         "GenreType": "Classics",
         "_deepnote_index_column": 207
        },
        {
         "GenreType": "Fiction",
         "_deepnote_index_column": 208
        },
        {
         "GenreType": "Historical",
         "_deepnote_index_column": 209
        },
        {
         "GenreType": "Classics",
         "_deepnote_index_column": 210
        },
        {
         "GenreType": "Fiction",
         "_deepnote_index_column": 211
        },
        {
         "GenreType": "Historical",
         "_deepnote_index_column": 212
        },
        {
         "GenreType": "Fiction",
         "_deepnote_index_column": 213
        },
        {
         "GenreType": "Classics",
         "_deepnote_index_column": 214
        },
        {
         "GenreType": "Historical",
         "_deepnote_index_column": 215
        },
        {
         "GenreType": "Fiction",
         "_deepnote_index_column": 216
        },
        {
         "GenreType": "Classics",
         "_deepnote_index_column": 217
        },
        {
         "GenreType": "Humor",
         "_deepnote_index_column": 218
        },
        {
         "GenreType": "Nonfiction",
         "_deepnote_index_column": 219
        },
        {
         "GenreType": "Autobiography",
         "_deepnote_index_column": 220
        },
        {
         "GenreType": "Memoir",
         "_deepnote_index_column": 221
        },
        {
         "GenreType": "Classics",
         "_deepnote_index_column": 222
        },
        {
         "GenreType": "Fiction",
         "_deepnote_index_column": 223
        },
        {
         "GenreType": "Literature",
         "_deepnote_index_column": 224
        },
        {
         "GenreType": "Fiction",
         "_deepnote_index_column": 225
        },
        {
         "GenreType": "Historical",
         "_deepnote_index_column": 226
        },
        {
         "GenreType": "HistoricalFiction",
         "_deepnote_index_column": 227
        },
        {
         "GenreType": "Classics",
         "_deepnote_index_column": 228
        },
        {
         "GenreType": "Fiction",
         "_deepnote_index_column": 229
        },
        {
         "GenreType": "Literature",
         "_deepnote_index_column": 230
        },
        {
         "GenreType": "Fiction",
         "_deepnote_index_column": 231
        },
        {
         "GenreType": "Classics",
         "_deepnote_index_column": 232
        },
        {
         "GenreType": "Philosophy",
         "_deepnote_index_column": 233
        },
        {
         "GenreType": "Classics",
         "_deepnote_index_column": 234
        },
        {
         "GenreType": "Historical",
         "_deepnote_index_column": 235
        },
        {
         "GenreType": "HistoricalFiction",
         "_deepnote_index_column": 236
        },
        {
         "GenreType": "Fiction",
         "_deepnote_index_column": 237
        },
        {
         "GenreType": "Classics",
         "_deepnote_index_column": 238
        },
        {
         "GenreType": "Contemporary",
         "_deepnote_index_column": 239
        },
        {
         "GenreType": "Classics",
         "_deepnote_index_column": 240
        },
        {
         "GenreType": "Fiction",
         "_deepnote_index_column": 241
        },
        {
         "GenreType": "ScienceFiction",
         "_deepnote_index_column": 242
        },
        {
         "GenreType": "Classics",
         "_deepnote_index_column": 243
        },
        {
         "GenreType": "Fiction",
         "_deepnote_index_column": 244
        },
        {
         "GenreType": "Historical",
         "_deepnote_index_column": 245
        },
        {
         "GenreType": "Classics",
         "_deepnote_index_column": 246
        },
        {
         "GenreType": "Fiction",
         "_deepnote_index_column": 247
        },
        {
         "GenreType": "Literature",
         "_deepnote_index_column": 248
        },
        {
         "GenreType": "Classics",
         "_deepnote_index_column": 249
        },
        {
         "GenreType": "Fiction",
         "_deepnote_index_column": 250
        },
        {
         "GenreType": "Historical",
         "_deepnote_index_column": 251
        },
        {
         "GenreType": "Classics",
         "_deepnote_index_column": 252
        },
        {
         "GenreType": "Fiction",
         "_deepnote_index_column": 253
        },
        {
         "GenreType": "YoungAdult",
         "_deepnote_index_column": 254
        },
        {
         "GenreType": "Fiction",
         "_deepnote_index_column": 255
        },
        {
         "GenreType": "Classics",
         "_deepnote_index_column": 256
        },
        {
         "GenreType": "ScienceFiction",
         "_deepnote_index_column": 257
        },
        {
         "GenreType": "Plays",
         "_deepnote_index_column": 258
        },
        {
         "GenreType": "Classics",
         "_deepnote_index_column": 259
        },
        {
         "GenreType": "Drama",
         "_deepnote_index_column": 260
        },
        {
         "GenreType": "Christian",
         "_deepnote_index_column": 261
        },
        {
         "GenreType": "Nonfiction",
         "_deepnote_index_column": 262
        },
        {
         "GenreType": "Religion",
         "_deepnote_index_column": 263
        },
        {
         "GenreType": "Fiction",
         "_deepnote_index_column": 264
        },
        {
         "GenreType": "Historical",
         "_deepnote_index_column": 265
        },
        {
         "GenreType": "HistoricalFiction",
         "_deepnote_index_column": 266
        },
        {
         "GenreType": "Fiction",
         "_deepnote_index_column": 267
        },
        {
         "GenreType": "Historical",
         "_deepnote_index_column": 268
        },
        {
         "GenreType": "HistoricalFiction",
         "_deepnote_index_column": 269
        },
        {
         "GenreType": "Fiction",
         "_deepnote_index_column": 270
        },
        {
         "GenreType": "Classics",
         "_deepnote_index_column": 271
        },
        {
         "GenreType": "Historical",
         "_deepnote_index_column": 272
        },
        {
         "GenreType": "Historical",
         "_deepnote_index_column": 273
        },
        {
         "GenreType": "HistoricalFiction",
         "_deepnote_index_column": 274
        },
        {
         "GenreType": "Fiction",
         "_deepnote_index_column": 275
        },
        {
         "GenreType": "Fantasy",
         "_deepnote_index_column": 276
        },
        {
         "GenreType": "Fiction",
         "_deepnote_index_column": 277
        },
        {
         "GenreType": "Fantasy",
         "_deepnote_index_column": 278
        },
        {
         "GenreType": "Fiction",
         "_deepnote_index_column": 279
        },
        {
         "GenreType": "Classics",
         "_deepnote_index_column": 280
        },
        {
         "GenreType": "Humor",
         "_deepnote_index_column": 281
        },
        {
         "GenreType": "Classics",
         "_deepnote_index_column": 282
        },
        {
         "GenreType": "Fiction",
         "_deepnote_index_column": 283
        },
        {
         "GenreType": "Literature",
         "_deepnote_index_column": 284
        },
        {
         "GenreType": "Fiction",
         "_deepnote_index_column": 285
        },
        {
         "GenreType": "Classics",
         "_deepnote_index_column": 286
        },
        {
         "GenreType": "ShortStories",
         "_deepnote_index_column": 287
        },
        {
         "GenreType": "Classics",
         "_deepnote_index_column": 288
        },
        {
         "GenreType": "Fiction",
         "_deepnote_index_column": 289
        },
        {
         "GenreType": "Literature",
         "_deepnote_index_column": 290
        },
        {
         "GenreType": "Fiction",
         "_deepnote_index_column": 291
        },
        {
         "GenreType": "ScienceFiction",
         "_deepnote_index_column": 292
        },
        {
         "GenreType": "Dystopia",
         "_deepnote_index_column": 293
        },
        {
         "GenreType": "Fiction",
         "_deepnote_index_column": 294
        },
        {
         "GenreType": "Classics",
         "_deepnote_index_column": 295
        },
        {
         "GenreType": "ScienceFiction",
         "_deepnote_index_column": 296
        },
        {
         "GenreType": "Classics",
         "_deepnote_index_column": 297
        },
        {
         "GenreType": "Childrens",
         "_deepnote_index_column": 298
        },
        {
         "GenreType": "Fiction",
         "_deepnote_index_column": 299
        },
        {
         "GenreType": "Mystery",
         "_deepnote_index_column": 300
        },
        {
         "GenreType": "Classics",
         "_deepnote_index_column": 301
        },
        {
         "GenreType": "Fiction",
         "_deepnote_index_column": 302
        },
        {
         "GenreType": "Fantasy",
         "_deepnote_index_column": 303
        },
        {
         "GenreType": "Fiction",
         "_deepnote_index_column": 304
        },
        {
         "GenreType": "Classics",
         "_deepnote_index_column": 305
        },
        {
         "GenreType": "Fiction",
         "_deepnote_index_column": 306
        },
        {
         "GenreType": "Contemporary",
         "_deepnote_index_column": 307
        },
        {
         "GenreType": "WomensFiction",
         "_deepnote_index_column": 308
        },
        {
         "GenreType": "Classics",
         "_deepnote_index_column": 309
        },
        {
         "GenreType": "Fiction",
         "_deepnote_index_column": 310
        },
        {
         "GenreType": "Literature",
         "_deepnote_index_column": 311
        },
        {
         "GenreType": "Fiction",
         "_deepnote_index_column": 312
        },
        {
         "GenreType": "Classics",
         "_deepnote_index_column": 313
        },
        {
         "GenreType": "Historical",
         "_deepnote_index_column": 314
        },
        {
         "GenreType": "Classics",
         "_deepnote_index_column": 315
        },
        {
         "GenreType": "Fiction",
         "_deepnote_index_column": 316
        },
        {
         "GenreType": "Adventure",
         "_deepnote_index_column": 317
        },
        {
         "GenreType": "Poetry",
         "_deepnote_index_column": 318
        },
        {
         "GenreType": "Childrens",
         "_deepnote_index_column": 319
        },
        {
         "GenreType": "Classics",
         "_deepnote_index_column": 320
        },
        {
         "GenreType": "Fiction",
         "_deepnote_index_column": 321
        },
        {
         "GenreType": "Contemporary",
         "_deepnote_index_column": 322
        },
        {
         "GenreType": "Classics",
         "_deepnote_index_column": 323
        },
        {
         "GenreType": "Fiction",
         "_deepnote_index_column": 324
        },
        {
         "GenreType": "Classics",
         "_deepnote_index_column": 325
        },
        {
         "GenreType": "Philosophy",
         "_deepnote_index_column": 326
        },
        {
         "GenreType": "Nonfiction",
         "_deepnote_index_column": 327
        },
        {
         "GenreType": "Biography",
         "_deepnote_index_column": 328
        },
        {
         "GenreType": "History",
         "_deepnote_index_column": 329
        },
        {
         "GenreType": "SequentialArt",
         "_deepnote_index_column": 330
        },
        {
         "GenreType": "GraphicNovels",
         "_deepnote_index_column": 331
        },
        {
         "GenreType": "SequentialArt",
         "_deepnote_index_column": 332
        },
        {
         "GenreType": "Classics",
         "_deepnote_index_column": 333
        },
        {
         "GenreType": "Fiction",
         "_deepnote_index_column": 334
        },
        {
         "GenreType": "Literature",
         "_deepnote_index_column": 335
        },
        {
         "GenreType": "SequentialArt",
         "_deepnote_index_column": 336
        },
        {
         "GenreType": "Comics",
         "_deepnote_index_column": 337
        },
        {
         "GenreType": "Humor",
         "_deepnote_index_column": 338
        },
        {
         "GenreType": "Classics",
         "_deepnote_index_column": 339
        },
        {
         "GenreType": "Plays",
         "_deepnote_index_column": 340
        },
        {
         "GenreType": "Fiction",
         "_deepnote_index_column": 341
        },
        {
         "GenreType": "Classics",
         "_deepnote_index_column": 342
        },
        {
         "GenreType": "Fiction",
         "_deepnote_index_column": 343
        },
        {
         "GenreType": "Historical",
         "_deepnote_index_column": 344
        },
        {
         "GenreType": "Fiction",
         "_deepnote_index_column": 345
        },
        {
         "GenreType": "Historical",
         "_deepnote_index_column": 346
        },
        {
         "GenreType": "HistoricalFiction",
         "_deepnote_index_column": 347
        },
        {
         "GenreType": "Classics",
         "_deepnote_index_column": 348
        },
        {
         "GenreType": "Childrens",
         "_deepnote_index_column": 349
        },
        {
         "GenreType": "Fiction",
         "_deepnote_index_column": 350
        },
        {
         "GenreType": "YoungAdult",
         "_deepnote_index_column": 351
        },
        {
         "GenreType": "Fiction",
         "_deepnote_index_column": 352
        },
        {
         "GenreType": "Contemporary",
         "_deepnote_index_column": 353
        },
        {
         "GenreType": "Fiction",
         "_deepnote_index_column": 354
        },
        {
         "GenreType": "Classics",
         "_deepnote_index_column": 355
        },
        {
         "GenreType": "Historical",
         "_deepnote_index_column": 356
        },
        {
         "GenreType": "Horror",
         "_deepnote_index_column": 357
        },
        {
         "GenreType": "Fantasy",
         "_deepnote_index_column": 358
        },
        {
         "GenreType": "Fiction",
         "_deepnote_index_column": 359
        },
        {
         "GenreType": "Childrens",
         "_deepnote_index_column": 360
        },
        {
         "GenreType": "Childrens",
         "_deepnote_index_column": 361
        },
        {
         "GenreType": "PictureBooks",
         "_deepnote_index_column": 362
        },
        {
         "GenreType": "Poetry",
         "_deepnote_index_column": 363
        },
        {
         "GenreType": "Philosophy",
         "_deepnote_index_column": 364
        },
        {
         "GenreType": "Classics",
         "_deepnote_index_column": 365
        },
        {
         "GenreType": "Classics",
         "_deepnote_index_column": 366
        },
        {
         "GenreType": "Fiction",
         "_deepnote_index_column": 367
        },
        {
         "GenreType": "Literature",
         "_deepnote_index_column": 368
        },
        {
         "GenreType": "Horror",
         "_deepnote_index_column": 369
        },
        {
         "GenreType": "Fiction",
         "_deepnote_index_column": 370
        },
        {
         "GenreType": "Thriller",
         "_deepnote_index_column": 371
        },
        {
         "GenreType": "Childrens",
         "_deepnote_index_column": 372
        },
        {
         "GenreType": "Childrens",
         "_deepnote_index_column": 373
        },
        {
         "GenreType": "PictureBooks",
         "_deepnote_index_column": 374
        },
        {
         "GenreType": "Poetry",
         "_deepnote_index_column": 375
        },
        {
         "GenreType": "Classics",
         "_deepnote_index_column": 376
        },
        {
         "GenreType": "Fiction",
         "_deepnote_index_column": 377
        },
        {
         "GenreType": "Fiction",
         "_deepnote_index_column": 378
        },
        {
         "GenreType": "Classics",
         "_deepnote_index_column": 379
        },
        {
         "GenreType": "Philosophy",
         "_deepnote_index_column": 380
        },
        {
         "GenreType": "Fiction",
         "_deepnote_index_column": 381
        },
        {
         "GenreType": "Historical",
         "_deepnote_index_column": 382
        },
        {
         "GenreType": "HistoricalFiction",
         "_deepnote_index_column": 383
        },
        {
         "GenreType": "Historical",
         "_deepnote_index_column": 384
        },
        {
         "GenreType": "HistoricalFiction",
         "_deepnote_index_column": 385
        },
        {
         "GenreType": "Fiction",
         "_deepnote_index_column": 386
        },
        {
         "GenreType": "Classics",
         "_deepnote_index_column": 387
        },
        {
         "GenreType": "Fantasy",
         "_deepnote_index_column": 388
        },
        {
         "GenreType": "Fiction",
         "_deepnote_index_column": 389
        },
        {
         "GenreType": "Fiction",
         "_deepnote_index_column": 390
        },
        {
         "GenreType": "Classics",
         "_deepnote_index_column": 391
        },
        {
         "GenreType": "Cultural",
         "_deepnote_index_column": 392
        },
        {
         "GenreType": "Historical",
         "_deepnote_index_column": 393
        },
        {
         "GenreType": "HistoricalFiction",
         "_deepnote_index_column": 394
        },
        {
         "GenreType": "Romance",
         "_deepnote_index_column": 395
        },
        {
         "GenreType": "Childrens",
         "_deepnote_index_column": 396
        },
        {
         "GenreType": "Fiction",
         "_deepnote_index_column": 397
        },
        {
         "GenreType": "Classics",
         "_deepnote_index_column": 398
        },
        {
         "GenreType": "Historical",
         "_deepnote_index_column": 399
        },
        {
         "GenreType": "HistoricalFiction",
         "_deepnote_index_column": 400
        },
        {
         "GenreType": "Fiction",
         "_deepnote_index_column": 401
        },
        {
         "GenreType": "Nonfiction",
         "_deepnote_index_column": 402
        },
        {
         "GenreType": "Classics",
         "_deepnote_index_column": 403
        },
        {
         "GenreType": "Autobiography",
         "_deepnote_index_column": 404
        },
        {
         "GenreType": "Fiction",
         "_deepnote_index_column": 405
        },
        {
         "GenreType": "Cultural",
         "_deepnote_index_column": 406
        },
        {
         "GenreType": "India",
         "_deepnote_index_column": 407
        },
        {
         "GenreType": "ScienceFiction",
         "_deepnote_index_column": 408
        },
        {
         "GenreType": "Fiction",
         "_deepnote_index_column": 409
        },
        {
         "GenreType": "Classics",
         "_deepnote_index_column": 410
        },
        {
         "GenreType": "Fiction",
         "_deepnote_index_column": 411
        },
        {
         "GenreType": "Cultural",
         "_deepnote_index_column": 412
        },
        {
         "GenreType": "India",
         "_deepnote_index_column": 413
        },
        {
         "GenreType": "Fiction",
         "_deepnote_index_column": 414
        },
        {
         "GenreType": "Classics",
         "_deepnote_index_column": 415
        },
        {
         "GenreType": "Literature",
         "_deepnote_index_column": 416
        },
        {
         "GenreType": "Fiction",
         "_deepnote_index_column": 417
        },
        {
         "GenreType": "MagicalRealism",
         "_deepnote_index_column": 418
        },
        {
         "GenreType": "Cultural",
         "_deepnote_index_column": 419
        },
        {
         "GenreType": "Fantasy",
         "_deepnote_index_column": 420
        },
        {
         "GenreType": "YoungAdult",
         "_deepnote_index_column": 421
        },
        {
         "GenreType": "Fiction",
         "_deepnote_index_column": 422
        },
        {
         "GenreType": "Fiction",
         "_deepnote_index_column": 423
        },
        {
         "GenreType": "Classics",
         "_deepnote_index_column": 424
        },
        {
         "GenreType": "Christian",
         "_deepnote_index_column": 425
        },
        {
         "GenreType": "Fantasy",
         "_deepnote_index_column": 426
        },
        {
         "GenreType": "Fiction",
         "_deepnote_index_column": 427
        },
        {
         "GenreType": "Humor",
         "_deepnote_index_column": 428
        },
        {
         "GenreType": "Plays",
         "_deepnote_index_column": 429
        },
        {
         "GenreType": "Classics",
         "_deepnote_index_column": 430
        },
        {
         "GenreType": "Drama",
         "_deepnote_index_column": 431
        },
        {
         "GenreType": "Classics",
         "_deepnote_index_column": 432
        },
        {
         "GenreType": "Fiction",
         "_deepnote_index_column": 433
        },
        {
         "GenreType": "ShortStories",
         "_deepnote_index_column": 434
        },
        {
         "GenreType": "Classics",
         "_deepnote_index_column": 435
        },
        {
         "GenreType": "Fiction",
         "_deepnote_index_column": 436
        },
        {
         "GenreType": "Literature",
         "_deepnote_index_column": 437
        },
        {
         "GenreType": "Fiction",
         "_deepnote_index_column": 438
        },
        {
         "GenreType": "Classics",
         "_deepnote_index_column": 439
        },
        {
         "GenreType": "Historical",
         "_deepnote_index_column": 440
        },
        {
         "GenreType": "Nonfiction",
         "_deepnote_index_column": 441
        },
        {
         "GenreType": "Psychology",
         "_deepnote_index_column": 442
        },
        {
         "GenreType": "Philosophy",
         "_deepnote_index_column": 443
        },
        {
         "GenreType": "Fiction",
         "_deepnote_index_column": 444
        },
        {
         "GenreType": "MagicalRealism",
         "_deepnote_index_column": 445
        },
        {
         "GenreType": "Historical",
         "_deepnote_index_column": 446
        },
        {
         "GenreType": "ScienceFiction",
         "_deepnote_index_column": 447
        },
        {
         "GenreType": "Fiction",
         "_deepnote_index_column": 448
        },
        {
         "GenreType": "Classics",
         "_deepnote_index_column": 449
        },
        {
         "GenreType": "Fiction",
         "_deepnote_index_column": 450
        },
        {
         "GenreType": "Cultural",
         "_deepnote_index_column": 451
        },
        {
         "GenreType": "India",
         "_deepnote_index_column": 452
        },
        {
         "GenreType": "Fantasy",
         "_deepnote_index_column": 453
        },
        {
         "GenreType": "Fiction",
         "_deepnote_index_column": 454
        },
        {
         "GenreType": "Historical",
         "_deepnote_index_column": 455
        },
        {
         "GenreType": "Classics",
         "_deepnote_index_column": 456
        },
        {
         "GenreType": "Fiction",
         "_deepnote_index_column": 457
        },
        {
         "GenreType": "Historical",
         "_deepnote_index_column": 458
        },
        {
         "GenreType": "Fiction",
         "_deepnote_index_column": 459
        },
        {
         "GenreType": "Classics",
         "_deepnote_index_column": 460
        },
        {
         "GenreType": "ScienceFiction",
         "_deepnote_index_column": 461
        },
        {
         "GenreType": "ScienceFiction",
         "_deepnote_index_column": 462
        },
        {
         "GenreType": "Fiction",
         "_deepnote_index_column": 463
        },
        {
         "GenreType": "Classics",
         "_deepnote_index_column": 464
        },
        {
         "GenreType": "Classics",
         "_deepnote_index_column": 465
        },
        {
         "GenreType": "Fiction",
         "_deepnote_index_column": 466
        },
        {
         "GenreType": "Historical",
         "_deepnote_index_column": 467
        },
        {
         "GenreType": "Fiction",
         "_deepnote_index_column": 468
        },
        {
         "GenreType": "Mystery",
         "_deepnote_index_column": 469
        },
        {
         "GenreType": "Thriller",
         "_deepnote_index_column": 470
        },
        {
         "GenreType": "Fiction",
         "_deepnote_index_column": 471
        },
        {
         "GenreType": "Classics",
         "_deepnote_index_column": 472
        },
        {
         "GenreType": "Philosophy",
         "_deepnote_index_column": 473
        },
        {
         "GenreType": "Nonfiction",
         "_deepnote_index_column": 474
        },
        {
         "GenreType": "Autobiography",
         "_deepnote_index_column": 475
        },
        {
         "GenreType": "Memoir",
         "_deepnote_index_column": 476
        },
        {
         "GenreType": "Fantasy",
         "_deepnote_index_column": 477
        },
        {
         "GenreType": "Fiction",
         "_deepnote_index_column": 478
        },
        {
         "GenreType": "Classics",
         "_deepnote_index_column": 479
        },
        {
         "GenreType": "Mystery",
         "_deepnote_index_column": 480
        },
        {
         "GenreType": "Classics",
         "_deepnote_index_column": 481
        },
        {
         "GenreType": "Fiction",
         "_deepnote_index_column": 482
        },
        {
         "GenreType": "Fantasy",
         "_deepnote_index_column": 483
        },
        {
         "GenreType": "Classics",
         "_deepnote_index_column": 484
        },
        {
         "GenreType": "Fiction",
         "_deepnote_index_column": 485
        },
        {
         "GenreType": "Plays",
         "_deepnote_index_column": 486
        },
        {
         "GenreType": "Classics",
         "_deepnote_index_column": 487
        },
        {
         "GenreType": "Fiction",
         "_deepnote_index_column": 488
        },
        {
         "GenreType": "History",
         "_deepnote_index_column": 489
        },
        {
         "GenreType": "Nonfiction",
         "_deepnote_index_column": 490
        },
        {
         "GenreType": "Science",
         "_deepnote_index_column": 491
        },
        {
         "GenreType": "Nonfiction",
         "_deepnote_index_column": 492
        },
        {
         "GenreType": "Biography",
         "_deepnote_index_column": 493
        },
        {
         "GenreType": "History",
         "_deepnote_index_column": 494
        },
        {
         "GenreType": "Horror",
         "_deepnote_index_column": 495
        },
        {
         "GenreType": "Fiction",
         "_deepnote_index_column": 496
        },
        {
         "GenreType": "Thriller",
         "_deepnote_index_column": 497
        },
        {
         "GenreType": "Historical",
         "_deepnote_index_column": 498
        },
        {
         "GenreType": "HistoricalFiction",
         "_deepnote_index_column": 499
        }
       ]
      },
      "text/html": [
       "<div>\n",
       "<style scoped>\n",
       "    .dataframe tbody tr th:only-of-type {\n",
       "        vertical-align: middle;\n",
       "    }\n",
       "\n",
       "    .dataframe tbody tr th {\n",
       "        vertical-align: top;\n",
       "    }\n",
       "\n",
       "    .dataframe thead th {\n",
       "        text-align: right;\n",
       "    }\n",
       "</style>\n",
       "<table border=\"1\" class=\"dataframe\">\n",
       "  <thead>\n",
       "    <tr style=\"text-align: right;\">\n",
       "      <th></th>\n",
       "      <th>GenreType</th>\n",
       "    </tr>\n",
       "  </thead>\n",
       "  <tbody>\n",
       "    <tr>\n",
       "      <th>0</th>\n",
       "      <td>Classics</td>\n",
       "    </tr>\n",
       "    <tr>\n",
       "      <th>1</th>\n",
       "      <td>Fiction</td>\n",
       "    </tr>\n",
       "    <tr>\n",
       "      <th>2</th>\n",
       "      <td>Historical</td>\n",
       "    </tr>\n",
       "    <tr>\n",
       "      <th>3</th>\n",
       "      <td>Classics</td>\n",
       "    </tr>\n",
       "    <tr>\n",
       "      <th>4</th>\n",
       "      <td>Fiction</td>\n",
       "    </tr>\n",
       "    <tr>\n",
       "      <th>...</th>\n",
       "      <td>...</td>\n",
       "    </tr>\n",
       "    <tr>\n",
       "      <th>2983</th>\n",
       "      <td>Classics</td>\n",
       "    </tr>\n",
       "    <tr>\n",
       "      <th>2984</th>\n",
       "      <td>Novels</td>\n",
       "    </tr>\n",
       "    <tr>\n",
       "      <th>2985</th>\n",
       "      <td>Fiction</td>\n",
       "    </tr>\n",
       "    <tr>\n",
       "      <th>2986</th>\n",
       "      <td>EuropeanLiterature</td>\n",
       "    </tr>\n",
       "    <tr>\n",
       "      <th>2987</th>\n",
       "      <td>GermanLiterature</td>\n",
       "    </tr>\n",
       "  </tbody>\n",
       "</table>\n",
       "<p>2988 rows × 1 columns</p>\n",
       "</div>"
      ],
      "text/plain": [
       "               GenreType\n",
       "0               Classics\n",
       "1                Fiction\n",
       "2             Historical\n",
       "3               Classics\n",
       "4                Fiction\n",
       "...                  ...\n",
       "2983            Classics\n",
       "2984              Novels\n",
       "2985             Fiction\n",
       "2986  EuropeanLiterature\n",
       "2987    GermanLiterature\n",
       "\n",
       "[2988 rows x 1 columns]"
      ]
     },
     "execution_count": 202,
     "metadata": {},
     "output_type": "execute_result"
    }
   ],
   "source": [
    "genretypeamount = pd.DataFrame(flat_list)\n",
    "\n",
    "genretypeamount.columns = [\"GenreType\"]\n",
    "\n",
    "genretypeamount"
   ]
  },
  {
   "cell_type": "code",
   "execution_count": null,
   "metadata": {
    "cell_id": "00020-726273d6-598d-4fd0-b6f8-987f323db08d",
    "deepnote_cell_type": "code",
    "deepnote_to_be_reexecuted": false,
    "execution_millis": 42,
    "execution_start": 1610642004896,
    "source_hash": "6f43d3bc",
    "tags": []
   },
   "outputs": [
    {
     "data": {
      "application/vnd.deepnote.dataframe.v2+json": {
       "column_count": 2,
       "columns": [
        {
         "dtype": "int64",
         "name": "Amount of books in genre",
         "stats": {
          "histogram": [
           {
            "bin_end": 77.4,
            "bin_start": 1,
            "count": 96
           },
           {
            "bin_end": 153.8,
            "bin_start": 77.4,
            "count": 5
           },
           {
            "bin_end": 230.20000000000002,
            "bin_start": 153.8,
            "count": 1
           },
           {
            "bin_end": 306.6,
            "bin_start": 230.20000000000002,
            "count": 0
           },
           {
            "bin_end": 383,
            "bin_start": 306.6,
            "count": 0
           },
           {
            "bin_end": 459.40000000000003,
            "bin_start": 383,
            "count": 1
           },
           {
            "bin_end": 535.8000000000001,
            "bin_start": 459.40000000000003,
            "count": 0
           },
           {
            "bin_end": 612.2,
            "bin_start": 535.8000000000001,
            "count": 0
           },
           {
            "bin_end": 688.6,
            "bin_start": 612.2,
            "count": 0
           },
           {
            "bin_end": 765,
            "bin_start": 688.6,
            "count": 1
           }
          ],
          "max": 765,
          "min": 1,
          "nan_count": 0,
          "unique_count": 38
         }
        },
        {
         "dtype": "object",
         "name": "Genres",
         "stats": {
          "categories": [
           {
            "count": 1,
            "name": "Academic"
           },
           {
            "count": 1,
            "name": "Adventure"
           },
           {
            "count": 102,
            "name": "102 others"
           }
          ],
          "nan_count": 0,
          "unique_count": 104
         }
        },
        {
         "dtype": "object",
         "name": "_deepnote_index_column"
        }
       ],
       "row_count": 104,
       "rows_bottom": null,
       "rows_top": [
        {
         "Amount of books in genre": 2,
         "Genres": "Academic",
         "_deepnote_index_column": "Academic"
        },
        {
         "Amount of books in genre": 8,
         "Genres": "Adventure",
         "_deepnote_index_column": "Adventure"
        },
        {
         "Amount of books in genre": 4,
         "Genres": "Africa",
         "_deepnote_index_column": "Africa"
        },
        {
         "Amount of books in genre": 3,
         "Genres": "American",
         "_deepnote_index_column": "American"
        },
        {
         "Amount of books in genre": 3,
         "Genres": "Animals",
         "_deepnote_index_column": "Animals"
        },
        {
         "Amount of books in genre": 5,
         "Genres": "Apocalyptic",
         "_deepnote_index_column": "Apocalyptic"
        },
        {
         "Amount of books in genre": 1,
         "Genres": "Art",
         "_deepnote_index_column": "Art"
        },
        {
         "Amount of books in genre": 25,
         "Genres": "Autobiography",
         "_deepnote_index_column": "Autobiography"
        },
        {
         "Amount of books in genre": 1,
         "Genres": "Baseball",
         "_deepnote_index_column": "Baseball"
        },
        {
         "Amount of books in genre": 15,
         "Genres": "Biography",
         "_deepnote_index_column": "Biography"
        },
        {
         "Amount of books in genre": 1,
         "Genres": "Biology",
         "_deepnote_index_column": "Biology"
        },
        {
         "Amount of books in genre": 1,
         "Genres": "BookClub",
         "_deepnote_index_column": "BookClub"
        },
        {
         "Amount of books in genre": 1,
         "Genres": "BooksAboutBooks",
         "_deepnote_index_column": "BooksAboutBooks"
        },
        {
         "Amount of books in genre": 2,
         "Genres": "Business",
         "_deepnote_index_column": "Business"
        },
        {
         "Amount of books in genre": 3,
         "Genres": "Canada",
         "_deepnote_index_column": "Canada"
        },
        {
         "Amount of books in genre": 4,
         "Genres": "ChickLit",
         "_deepnote_index_column": "ChickLit"
        },
        {
         "Amount of books in genre": 74,
         "Genres": "Childrens",
         "_deepnote_index_column": "Childrens"
        },
        {
         "Amount of books in genre": 5,
         "Genres": "Christian",
         "_deepnote_index_column": "Christian"
        },
        {
         "Amount of books in genre": 1,
         "Genres": "ChristianFiction",
         "_deepnote_index_column": "ChristianFiction"
        },
        {
         "Amount of books in genre": 1,
         "Genres": "Christmas",
         "_deepnote_index_column": "Christmas"
        },
        {
         "Amount of books in genre": 445,
         "Genres": "Classics",
         "_deepnote_index_column": "Classics"
        },
        {
         "Amount of books in genre": 3,
         "Genres": "Comics",
         "_deepnote_index_column": "Comics"
        },
        {
         "Amount of books in genre": 35,
         "Genres": "Contemporary",
         "_deepnote_index_column": "Contemporary"
        },
        {
         "Amount of books in genre": 1,
         "Genres": "Cookbooks",
         "_deepnote_index_column": "Cookbooks"
        },
        {
         "Amount of books in genre": 4,
         "Genres": "Crime",
         "_deepnote_index_column": "Crime"
        },
        {
         "Amount of books in genre": 48,
         "Genres": "Cultural",
         "_deepnote_index_column": "Cultural"
        },
        {
         "Amount of books in genre": 2,
         "Genres": "CzechLiterature",
         "_deepnote_index_column": "CzechLiterature"
        },
        {
         "Amount of books in genre": 16,
         "Genres": "Drama",
         "_deepnote_index_column": "Drama"
        },
        {
         "Amount of books in genre": 1,
         "Genres": "Dystopia",
         "_deepnote_index_column": "Dystopia"
        },
        {
         "Amount of books in genre": 2,
         "Genres": "Economics",
         "_deepnote_index_column": "Economics"
        },
        {
         "Amount of books in genre": 2,
         "Genres": "Education",
         "_deepnote_index_column": "Education"
        },
        {
         "Amount of books in genre": 6,
         "Genres": "Environment",
         "_deepnote_index_column": "Environment"
        },
        {
         "Amount of books in genre": 1,
         "Genres": "Espionage",
         "_deepnote_index_column": "Espionage"
        },
        {
         "Amount of books in genre": 2,
         "Genres": "Essays",
         "_deepnote_index_column": "Essays"
        },
        {
         "Amount of books in genre": 31,
         "Genres": "EuropeanLiterature",
         "_deepnote_index_column": "EuropeanLiterature"
        },
        {
         "Amount of books in genre": 144,
         "Genres": "Fantasy",
         "_deepnote_index_column": "Fantasy"
        },
        {
         "Amount of books in genre": 7,
         "Genres": "Feminism",
         "_deepnote_index_column": "Feminism"
        },
        {
         "Amount of books in genre": 765,
         "Genres": "Fiction",
         "_deepnote_index_column": "Fiction"
        },
        {
         "Amount of books in genre": 2,
         "Genres": "FoodandDrink",
         "_deepnote_index_column": "FoodandDrink"
        },
        {
         "Amount of books in genre": 4,
         "Genres": "France",
         "_deepnote_index_column": "France"
        },
        {
         "Amount of books in genre": 1,
         "Genres": "GLBT",
         "_deepnote_index_column": "GLBT"
        },
        {
         "Amount of books in genre": 4,
         "Genres": "GermanLiterature",
         "_deepnote_index_column": "GermanLiterature"
        },
        {
         "Amount of books in genre": 2,
         "Genres": "Gothic",
         "_deepnote_index_column": "Gothic"
        },
        {
         "Amount of books in genre": 8,
         "Genres": "GraphicNovels",
         "_deepnote_index_column": "GraphicNovels"
        },
        {
         "Amount of books in genre": 188,
         "Genres": "Historical",
         "_deepnote_index_column": "Historical"
        },
        {
         "Amount of books in genre": 122,
         "Genres": "HistoricalFiction",
         "_deepnote_index_column": "HistoricalFiction"
        },
        {
         "Amount of books in genre": 42,
         "Genres": "History",
         "_deepnote_index_column": "History"
        },
        {
         "Amount of books in genre": 1,
         "Genres": "Holiday",
         "_deepnote_index_column": "Holiday"
        },
        {
         "Amount of books in genre": 47,
         "Genres": "Horror",
         "_deepnote_index_column": "Horror"
        },
        {
         "Amount of books in genre": 28,
         "Genres": "Humor",
         "_deepnote_index_column": "Humor"
        },
        {
         "Amount of books in genre": 5,
         "Genres": "India",
         "_deepnote_index_column": "India"
        },
        {
         "Amount of books in genre": 1,
         "Genres": "IrishLiterature",
         "_deepnote_index_column": "IrishLiterature"
        },
        {
         "Amount of books in genre": 5,
         "Genres": "Japan",
         "_deepnote_index_column": "Japan"
        },
        {
         "Amount of books in genre": 1,
         "Genres": "Jewish",
         "_deepnote_index_column": "Jewish"
        },
        {
         "Amount of books in genre": 3,
         "Genres": "LGBT",
         "_deepnote_index_column": "LGBT"
        },
        {
         "Amount of books in genre": 2,
         "Genres": "Language",
         "_deepnote_index_column": "Language"
        },
        {
         "Amount of books in genre": 9,
         "Genres": "LiteraryFiction",
         "_deepnote_index_column": "LiteraryFiction"
        },
        {
         "Amount of books in genre": 88,
         "Genres": "Literature",
         "_deepnote_index_column": "Literature"
        },
        {
         "Amount of books in genre": 12,
         "Genres": "MagicalRealism",
         "_deepnote_index_column": "MagicalRealism"
        },
        {
         "Amount of books in genre": 14,
         "Genres": "Memoir",
         "_deepnote_index_column": "Memoir"
        },
        {
         "Amount of books in genre": 1,
         "Genres": "Music",
         "_deepnote_index_column": "Music"
        },
        {
         "Amount of books in genre": 58,
         "Genres": "Mystery",
         "_deepnote_index_column": "Mystery"
        },
        {
         "Amount of books in genre": 3,
         "Genres": "Mythology",
         "_deepnote_index_column": "Mythology"
        },
        {
         "Amount of books in genre": 3,
         "Genres": "Nature",
         "_deepnote_index_column": "Nature"
        },
        {
         "Amount of books in genre": 126,
         "Genres": "Nonfiction",
         "_deepnote_index_column": "Nonfiction"
        },
        {
         "Amount of books in genre": 1,
         "Genres": "NorthAmericanHi...",
         "_deepnote_index_column": "NorthAmericanHi..."
        },
        {
         "Amount of books in genre": 19,
         "Genres": "Novels",
         "_deepnote_index_column": "Novels"
        },
        {
         "Amount of books in genre": 4,
         "Genres": "Paranormal",
         "_deepnote_index_column": "Paranormal"
        },
        {
         "Amount of books in genre": 54,
         "Genres": "Philosophy",
         "_deepnote_index_column": "Philosophy"
        },
        {
         "Amount of books in genre": 18,
         "Genres": "PictureBooks",
         "_deepnote_index_column": "PictureBooks"
        },
        {
         "Amount of books in genre": 19,
         "Genres": "Plays",
         "_deepnote_index_column": "Plays"
        },
        {
         "Amount of books in genre": 30,
         "Genres": "Poetry",
         "_deepnote_index_column": "Poetry"
        },
        {
         "Amount of books in genre": 1,
         "Genres": "PolishLiterature",
         "_deepnote_index_column": "PolishLiterature"
        },
        {
         "Amount of books in genre": 8,
         "Genres": "Politics",
         "_deepnote_index_column": "Politics"
        },
        {
         "Amount of books in genre": 8,
         "Genres": "Psychology",
         "_deepnote_index_column": "Psychology"
        },
        {
         "Amount of books in genre": 1,
         "Genres": "RealisticFiction",
         "_deepnote_index_column": "RealisticFiction"
        },
        {
         "Amount of books in genre": 9,
         "Genres": "Religion",
         "_deepnote_index_column": "Religion"
        },
        {
         "Amount of books in genre": 21,
         "Genres": "Romance",
         "_deepnote_index_column": "Romance"
        },
        {
         "Amount of books in genre": 4,
         "Genres": "Russia",
         "_deepnote_index_column": "Russia"
        },
        {
         "Amount of books in genre": 18,
         "Genres": "Science",
         "_deepnote_index_column": "Science"
        },
        {
         "Amount of books in genre": 92,
         "Genres": "ScienceFiction",
         "_deepnote_index_column": "ScienceFiction"
        },
        {
         "Amount of books in genre": 5,
         "Genres": "ScienceFictionFantasy",
         "_deepnote_index_column": "ScienceFictionFantasy"
        },
        {
         "Amount of books in genre": 3,
         "Genres": "SelfHelp",
         "_deepnote_index_column": "SelfHelp"
        },
        {
         "Amount of books in genre": 19,
         "Genres": "SequentialArt",
         "_deepnote_index_column": "SequentialArt"
        },
        {
         "Amount of books in genre": 38,
         "Genres": "ShortStories",
         "_deepnote_index_column": "ShortStories"
        },
        {
         "Amount of books in genre": 3,
         "Genres": "Sociology",
         "_deepnote_index_column": "Sociology"
        },
        {
         "Amount of books in genre": 2,
         "Genres": "Southern",
         "_deepnote_index_column": "Southern"
        },
        {
         "Amount of books in genre": 1,
         "Genres": "Space",
         "_deepnote_index_column": "Space"
        },
        {
         "Amount of books in genre": 4,
         "Genres": "Spirituality",
         "_deepnote_index_column": "Spirituality"
        },
        {
         "Amount of books in genre": 1,
         "Genres": "Sports",
         "_deepnote_index_column": "Sports"
        },
        {
         "Amount of books in genre": 2,
         "Genres": "SpyThriller",
         "_deepnote_index_column": "SpyThriller"
        },
        {
         "Amount of books in genre": 1,
         "Genres": "Theology",
         "_deepnote_index_column": "Theology"
        },
        {
         "Amount of books in genre": 44,
         "Genres": "Thriller",
         "_deepnote_index_column": "Thriller"
        },
        {
         "Amount of books in genre": 2,
         "Genres": "TimeTravel",
         "_deepnote_index_column": "TimeTravel"
        },
        {
         "Amount of books in genre": 7,
         "Genres": "Travel",
         "_deepnote_index_column": "Travel"
        },
        {
         "Amount of books in genre": 3,
         "Genres": "TrueCrime",
         "_deepnote_index_column": "TrueCrime"
        },
        {
         "Amount of books in genre": 1,
         "Genres": "UrbanFantasy",
         "_deepnote_index_column": "UrbanFantasy"
        },
        {
         "Amount of books in genre": 10,
         "Genres": "War",
         "_deepnote_index_column": "War"
        },
        {
         "Amount of books in genre": 3,
         "Genres": "Westerns",
         "_deepnote_index_column": "Westerns"
        },
        {
         "Amount of books in genre": 1,
         "Genres": "Womens",
         "_deepnote_index_column": "Womens"
        },
        {
         "Amount of books in genre": 10,
         "Genres": "WomensFiction",
         "_deepnote_index_column": "WomensFiction"
        },
        {
         "Amount of books in genre": 1,
         "Genres": "WorldWarII",
         "_deepnote_index_column": "WorldWarII"
        },
        {
         "Amount of books in genre": 7,
         "Genres": "Writing",
         "_deepnote_index_column": "Writing"
        },
        {
         "Amount of books in genre": 58,
         "Genres": "YoungAdult",
         "_deepnote_index_column": "YoungAdult"
        }
       ]
      },
      "text/html": [
       "<div>\n",
       "<style scoped>\n",
       "    .dataframe tbody tr th:only-of-type {\n",
       "        vertical-align: middle;\n",
       "    }\n",
       "\n",
       "    .dataframe tbody tr th {\n",
       "        vertical-align: top;\n",
       "    }\n",
       "\n",
       "    .dataframe thead th {\n",
       "        text-align: right;\n",
       "    }\n",
       "</style>\n",
       "<table border=\"1\" class=\"dataframe\">\n",
       "  <thead>\n",
       "    <tr style=\"text-align: right;\">\n",
       "      <th></th>\n",
       "      <th>Amount of books in genre</th>\n",
       "      <th>Genres</th>\n",
       "    </tr>\n",
       "    <tr>\n",
       "      <th>GenreType</th>\n",
       "      <th></th>\n",
       "      <th></th>\n",
       "    </tr>\n",
       "  </thead>\n",
       "  <tbody>\n",
       "    <tr>\n",
       "      <th>Academic</th>\n",
       "      <td>2</td>\n",
       "      <td>Academic</td>\n",
       "    </tr>\n",
       "    <tr>\n",
       "      <th>Adventure</th>\n",
       "      <td>8</td>\n",
       "      <td>Adventure</td>\n",
       "    </tr>\n",
       "    <tr>\n",
       "      <th>Africa</th>\n",
       "      <td>4</td>\n",
       "      <td>Africa</td>\n",
       "    </tr>\n",
       "    <tr>\n",
       "      <th>American</th>\n",
       "      <td>3</td>\n",
       "      <td>American</td>\n",
       "    </tr>\n",
       "    <tr>\n",
       "      <th>Animals</th>\n",
       "      <td>3</td>\n",
       "      <td>Animals</td>\n",
       "    </tr>\n",
       "    <tr>\n",
       "      <th>...</th>\n",
       "      <td>...</td>\n",
       "      <td>...</td>\n",
       "    </tr>\n",
       "    <tr>\n",
       "      <th>Womens</th>\n",
       "      <td>1</td>\n",
       "      <td>Womens</td>\n",
       "    </tr>\n",
       "    <tr>\n",
       "      <th>WomensFiction</th>\n",
       "      <td>10</td>\n",
       "      <td>WomensFiction</td>\n",
       "    </tr>\n",
       "    <tr>\n",
       "      <th>WorldWarII</th>\n",
       "      <td>1</td>\n",
       "      <td>WorldWarII</td>\n",
       "    </tr>\n",
       "    <tr>\n",
       "      <th>Writing</th>\n",
       "      <td>7</td>\n",
       "      <td>Writing</td>\n",
       "    </tr>\n",
       "    <tr>\n",
       "      <th>YoungAdult</th>\n",
       "      <td>58</td>\n",
       "      <td>YoungAdult</td>\n",
       "    </tr>\n",
       "  </tbody>\n",
       "</table>\n",
       "<p>104 rows × 2 columns</p>\n",
       "</div>"
      ],
      "text/plain": [
       "               Amount of books in genre         Genres\n",
       "GenreType                                             \n",
       "Academic                              2       Academic\n",
       "Adventure                             8      Adventure\n",
       "Africa                                4         Africa\n",
       "American                              3       American\n",
       "Animals                               3        Animals\n",
       "...                                 ...            ...\n",
       "Womens                                1         Womens\n",
       "WomensFiction                        10  WomensFiction\n",
       "WorldWarII                            1     WorldWarII\n",
       "Writing                               7        Writing\n",
       "YoungAdult                           58     YoungAdult\n",
       "\n",
       "[104 rows x 2 columns]"
      ]
     },
     "execution_count": 207,
     "metadata": {},
     "output_type": "execute_result"
    }
   ],
   "source": [
    "dg = genretypeamount.groupby(\"GenreType\").agg({\"GenreType\": [lambda x: np.size(x)]})\n",
    "dg.columns = [\"Amount of books in genre\"]\n",
    "dg['Genres'] = dg.index\n",
    "\n",
    "dg"
   ]
  },
  {
   "cell_type": "code",
   "execution_count": null,
   "metadata": {
    "cell_id": "00021-4a93a8a7-5212-42c9-9bce-e3c3e259aa4a",
    "deepnote_cell_type": "code",
    "deepnote_to_be_reexecuted": false,
    "execution_millis": 3809,
    "execution_start": 1610642285179,
    "source_hash": "77396e14",
    "tags": []
   },
   "outputs": [
    {
     "data": {
      "image/png": "[encoded data removed]",
      "text/plain": [
       "<Figure size 1080x1440 with 1 Axes>"
      ]
     },
     "metadata": {
      "needs_background": "light"
     },
     "output_type": "display_data"
    }
   ],
   "source": [
    "\n",
    "gt = dg[\"Amount of books in genre\"].tolist()\n",
    "gg = dg[\"Genres\"].tolist()\n",
    "\n",
    "\n",
    "plt.figure(figsize = (15,20))\n",
    "plt.scatter(gt, gg, label = \"Amount\")\n",
    "plt.xlabel('Amount')\n",
    "plt.ylabel('Genre types')\n",
    "plt.legend(loc='lower right')\n",
    "plt.title('Genre types occurence')\n",
    "plt.grid(True, linewidth= 1, linestyle=\"--\")\n",
    "\n",
    "#plt.xticks(np.arange(1900, 2010, step=5))\n",
    "\n",
    "\n",
    "plt.savefig('genreoccurence.jpg')\n",
    "\n",
    "plt.show()"
   ]
  },
  {
   "cell_type": "code",
   "execution_count": null,
   "metadata": {
    "cell_id": "00020-66b5bcd8-2855-4b48-b211-0c2c6453fe04",
    "deepnote_cell_type": "code",
    "deepnote_to_be_reexecuted": false,
    "execution_millis": 67,
    "execution_start": 1610639870554,
    "source_hash": "37d56728",
    "tags": []
   },
   "outputs": [
    {
     "data": {
      "application/vnd.deepnote.dataframe.v2+json": {
       "column_count": 5,
       "columns": [
        {
         "dtype": "object",
         "name": "Title",
         "stats": {
          "categories": [
           {
            "count": 6,
            "name": "The Complete Stories"
           },
           {
            "count": 6,
            "name": "Collected Poems"
           },
           {
            "count": 2976,
            "name": "992 others"
           }
          ],
          "nan_count": 0,
          "unique_count": 994
         }
        },
        {
         "dtype": "object",
         "name": "Genres",
         "stats": {
          "categories": [
           {
            "count": 765,
            "name": "Fiction"
           },
           {
            "count": 445,
            "name": "Classics"
           },
           {
            "count": 1778,
            "name": "102 others"
           }
          ],
          "nan_count": 0,
          "unique_count": 104
         }
        },
        {
         "dtype": "float64",
         "name": "Year",
         "stats": {
          "histogram": [
           {
            "bin_end": 1910.3,
            "bin_start": 1900,
            "count": 96
           },
           {
            "bin_end": 1920.6,
            "bin_start": 1910.3,
            "count": 96
           },
           {
            "bin_end": 1930.9,
            "bin_start": 1920.6,
            "count": 177
           },
           {
            "bin_end": 1941.2,
            "bin_start": 1930.9,
            "count": 225
           },
           {
            "bin_end": 1951.5,
            "bin_start": 1941.2,
            "count": 264
           },
           {
            "bin_end": 1961.8,
            "bin_start": 1951.5,
            "count": 378
           },
           {
            "bin_end": 1972.1,
            "bin_start": 1961.8,
            "count": 384
           },
           {
            "bin_end": 1982.4,
            "bin_start": 1972.1,
            "count": 429
           },
           {
            "bin_end": 1992.7,
            "bin_start": 1982.4,
            "count": 450
           },
           {
            "bin_end": 2003,
            "bin_start": 1992.7,
            "count": 426
           }
          ],
          "max": 2003,
          "min": 1900,
          "nan_count": 63,
          "unique_count": 102
         }
        },
        {
         "dtype": "float64",
         "name": "Awards",
         "stats": {
          "histogram": [
           {
            "bin_end": 3.7,
            "bin_start": 1,
            "count": 1245
           },
           {
            "bin_end": 6.4,
            "bin_start": 3.7,
            "count": 276
           },
           {
            "bin_end": 9.100000000000001,
            "bin_start": 6.4,
            "count": 81
           },
           {
            "bin_end": 11.8,
            "bin_start": 9.100000000000001,
            "count": 15
           },
           {
            "bin_end": 14.5,
            "bin_start": 11.8,
            "count": 12
           },
           {
            "bin_end": 17.200000000000003,
            "bin_start": 14.5,
            "count": 9
           },
           {
            "bin_end": 19.900000000000002,
            "bin_start": 17.200000000000003,
            "count": 0
           },
           {
            "bin_end": 22.6,
            "bin_start": 19.900000000000002,
            "count": 9
           },
           {
            "bin_end": 25.3,
            "bin_start": 22.6,
            "count": 0
           },
           {
            "bin_end": 28,
            "bin_start": 25.3,
            "count": 3
           }
          ],
          "max": 28,
          "min": 1,
          "nan_count": 1338,
          "unique_count": 17
         }
        },
        {
         "dtype": "float64",
         "name": "Rating",
         "stats": {
          "histogram": [
           {
            "bin_end": 1.9,
            "bin_start": 1,
            "count": 3
           },
           {
            "bin_end": 2.8,
            "bin_start": 1.9,
            "count": 6
           },
           {
            "bin_end": 3.7,
            "bin_start": 2.8,
            "count": 36
           },
           {
            "bin_end": 4.6,
            "bin_start": 3.7,
            "count": 195
           },
           {
            "bin_end": 5.5,
            "bin_start": 4.6,
            "count": 462
           },
           {
            "bin_end": 6.4,
            "bin_start": 5.5,
            "count": 771
           },
           {
            "bin_end": 7.3,
            "bin_start": 6.4,
            "count": 816
           },
           {
            "bin_end": 8.2,
            "bin_start": 7.3,
            "count": 534
           },
           {
            "bin_end": 9.1,
            "bin_start": 8.2,
            "count": 141
           },
           {
            "bin_end": 10,
            "bin_start": 9.1,
            "count": 24
           }
          ],
          "max": 10,
          "min": 1,
          "nan_count": 0,
          "unique_count": 106
         }
        },
        {
         "dtype": "int64",
         "name": "_deepnote_index_column"
        }
       ],
       "row_count": 2988,
       "rows_bottom": [
        {
         "Awards": "nan",
         "Genres": "Paranormal",
         "Rating": 4.503,
         "Title": "Memnoch the Devil",
         "Year": "1995.0",
         "_deepnote_index_column": 2888
        },
        {
         "Awards": "1.0",
         "Genres": "ScienceFiction",
         "Rating": 6.497000000000001,
         "Title": "The City and the Stars",
         "Year": "1956.0",
         "_deepnote_index_column": 2889
        },
        {
         "Awards": "1.0",
         "Genres": "Fiction",
         "Rating": 6.497000000000001,
         "Title": "The City and the Stars",
         "Year": "1956.0",
         "_deepnote_index_column": 2890
        },
        {
         "Awards": "1.0",
         "Genres": "Classics",
         "Rating": 6.497000000000001,
         "Title": "The City and the Stars",
         "Year": "1956.0",
         "_deepnote_index_column": 2891
        },
        {
         "Awards": "nan",
         "Genres": "Nonfiction",
         "Rating": 7.221,
         "Title": "Never Cry Wolf: The Amazing True Story of Life Among Arctic Wolves",
         "Year": "1963.0",
         "_deepnote_index_column": 2892
        },
        {
         "Awards": "nan",
         "Genres": "Animals",
         "Rating": 7.221,
         "Title": "Never Cry Wolf: The Amazing True Story of Life Among Arctic Wolves",
         "Year": "1963.0",
         "_deepnote_index_column": 2893
        },
        {
         "Awards": "nan",
         "Genres": "Environment",
         "Rating": 7.221,
         "Title": "Never Cry Wolf: The Amazing True Story of Life Among Arctic Wolves",
         "Year": "1963.0",
         "_deepnote_index_column": 2894
        },
        {
         "Awards": "nan",
         "Genres": "Historical",
         "Rating": 4.805,
         "Title": "The Plains of Passage",
         "Year": "1990.0",
         "_deepnote_index_column": 2895
        },
        {
         "Awards": "nan",
         "Genres": "HistoricalFiction",
         "Rating": 4.805,
         "Title": "The Plains of Passage",
         "Year": "1990.0",
         "_deepnote_index_column": 2896
        },
        {
         "Awards": "nan",
         "Genres": "Fiction",
         "Rating": 4.805,
         "Title": "The Plains of Passage",
         "Year": "1990.0",
         "_deepnote_index_column": 2897
        },
        {
         "Awards": "7.0",
         "Genres": "Fiction",
         "Rating": 5.651,
         "Title": "Fugitive Pieces",
         "Year": "1996.0",
         "_deepnote_index_column": 2898
        },
        {
         "Awards": "7.0",
         "Genres": "Historical",
         "Rating": 5.651,
         "Title": "Fugitive Pieces",
         "Year": "1996.0",
         "_deepnote_index_column": 2899
        },
        {
         "Awards": "7.0",
         "Genres": "HistoricalFiction",
         "Rating": 5.651,
         "Title": "Fugitive Pieces",
         "Year": "1996.0",
         "_deepnote_index_column": 2900
        },
        {
         "Awards": "nan",
         "Genres": "Nonfiction",
         "Rating": 7.462999999999999,
         "Title": "The Wretched of the Earth",
         "Year": "1961.0",
         "_deepnote_index_column": 2901
        },
        {
         "Awards": "nan",
         "Genres": "History",
         "Rating": 7.462999999999999,
         "Title": "The Wretched of the Earth",
         "Year": "1961.0",
         "_deepnote_index_column": 2902
        },
        {
         "Awards": "nan",
         "Genres": "Politics",
         "Rating": 7.462999999999999,
         "Title": "The Wretched of the Earth",
         "Year": "1961.0",
         "_deepnote_index_column": 2903
        },
        {
         "Awards": "1.0",
         "Genres": "Fiction",
         "Rating": 6.557,
         "Title": "Silence",
         "Year": "1966.0",
         "_deepnote_index_column": 2904
        },
        {
         "Awards": "1.0",
         "Genres": "Historical",
         "Rating": 6.557,
         "Title": "Silence",
         "Year": "1966.0",
         "_deepnote_index_column": 2905
        },
        {
         "Awards": "1.0",
         "Genres": "HistoricalFiction",
         "Rating": 6.557,
         "Title": "Silence",
         "Year": "1966.0",
         "_deepnote_index_column": 2906
        },
        {
         "Awards": "6.0",
         "Genres": "ScienceFiction",
         "Rating": 6.436,
         "Title": "Gateway",
         "Year": "1977.0",
         "_deepnote_index_column": 2907
        },
        {
         "Awards": "6.0",
         "Genres": "Fiction",
         "Rating": 6.436,
         "Title": "Gateway",
         "Year": "1977.0",
         "_deepnote_index_column": 2908
        },
        {
         "Awards": "6.0",
         "Genres": "Space",
         "Rating": 6.436,
         "Title": "Gateway",
         "Year": "1977.0",
         "_deepnote_index_column": 2909
        },
        {
         "Awards": "nan",
         "Genres": "ChristianFiction",
         "Rating": 9.034,
         "Title": "Redeeming Love",
         "Year": "1991.0",
         "_deepnote_index_column": 2910
        },
        {
         "Awards": "nan",
         "Genres": "Christian",
         "Rating": 9.034,
         "Title": "Redeeming Love",
         "Year": "1991.0",
         "_deepnote_index_column": 2911
        },
        {
         "Awards": "nan",
         "Genres": "Fiction",
         "Rating": 9.034,
         "Title": "Redeeming Love",
         "Year": "1991.0",
         "_deepnote_index_column": 2912
        },
        {
         "Awards": "nan",
         "Genres": "Nonfiction",
         "Rating": 4.805,
         "Title": "Future Shock",
         "Year": "1970.0",
         "_deepnote_index_column": 2913
        },
        {
         "Awards": "nan",
         "Genres": "Sociology",
         "Rating": 4.805,
         "Title": "Future Shock",
         "Year": "1970.0",
         "_deepnote_index_column": 2914
        },
        {
         "Awards": "nan",
         "Genres": "Science",
         "Rating": 4.805,
         "Title": "Future Shock",
         "Year": "1970.0",
         "_deepnote_index_column": 2915
        },
        {
         "Awards": "nan",
         "Genres": "Classics",
         "Rating": 6.919,
         "Title": "Daddy-Long-Legs",
         "Year": "nan",
         "_deepnote_index_column": 2916
        },
        {
         "Awards": "nan",
         "Genres": "Fiction",
         "Rating": 6.919,
         "Title": "Daddy-Long-Legs",
         "Year": "nan",
         "_deepnote_index_column": 2917
        },
        {
         "Awards": "nan",
         "Genres": "YoungAdult",
         "Rating": 6.919,
         "Title": "Daddy-Long-Legs",
         "Year": "nan",
         "_deepnote_index_column": 2918
        },
        {
         "Awards": "nan",
         "Genres": "Fiction",
         "Rating": 4.02,
         "Title": "The Pearl/The Red Pony",
         "Year": "1947.0",
         "_deepnote_index_column": 2919
        },
        {
         "Awards": "nan",
         "Genres": "Classics",
         "Rating": 4.02,
         "Title": "The Pearl/The Red Pony",
         "Year": "1947.0",
         "_deepnote_index_column": 2920
        },
        {
         "Awards": "nan",
         "Genres": "Literature",
         "Rating": 4.02,
         "Title": "The Pearl/The Red Pony",
         "Year": "1947.0",
         "_deepnote_index_column": 2921
        },
        {
         "Awards": "1.0",
         "Genres": "Fiction",
         "Rating": 6.557,
         "Title": "From Here to Eternity",
         "Year": "1951.0",
         "_deepnote_index_column": 2922
        },
        {
         "Awards": "1.0",
         "Genres": "Classics",
         "Rating": 6.557,
         "Title": "From Here to Eternity",
         "Year": "1951.0",
         "_deepnote_index_column": 2923
        },
        {
         "Awards": "1.0",
         "Genres": "Historical",
         "Rating": 6.557,
         "Title": "From Here to Eternity",
         "Year": "1951.0",
         "_deepnote_index_column": 2924
        },
        {
         "Awards": "1.0",
         "Genres": "Fiction",
         "Rating": 6.134,
         "Title": "Our Lady of the Flowers",
         "Year": "1943.0",
         "_deepnote_index_column": 2925
        },
        {
         "Awards": "1.0",
         "Genres": "Cultural",
         "Rating": 6.134,
         "Title": "Our Lady of the Flowers",
         "Year": "1943.0",
         "_deepnote_index_column": 2926
        },
        {
         "Awards": "1.0",
         "Genres": "France",
         "Rating": 6.134,
         "Title": "Our Lady of the Flowers",
         "Year": "1943.0",
         "_deepnote_index_column": 2927
        },
        {
         "Awards": "3.0",
         "Genres": "Fiction",
         "Rating": 5.167999999999998,
         "Title": "Kitchen",
         "Year": "1988.0",
         "_deepnote_index_column": 2928
        },
        {
         "Awards": "3.0",
         "Genres": "Cultural",
         "Rating": 5.167999999999998,
         "Title": "Kitchen",
         "Year": "1988.0",
         "_deepnote_index_column": 2929
        },
        {
         "Awards": "3.0",
         "Genres": "Japan",
         "Rating": 5.167999999999998,
         "Title": "Kitchen",
         "Year": "1988.0",
         "_deepnote_index_column": 2930
        },
        {
         "Awards": "nan",
         "Genres": "Fiction",
         "Rating": 7.462999999999999,
         "Title": "The Man Who Planted Trees",
         "Year": "1953.0",
         "_deepnote_index_column": 2931
        },
        {
         "Awards": "nan",
         "Genres": "ShortStories",
         "Rating": 7.462999999999999,
         "Title": "The Man Who Planted Trees",
         "Year": "1953.0",
         "_deepnote_index_column": 2932
        },
        {
         "Awards": "nan",
         "Genres": "Classics",
         "Rating": 7.462999999999999,
         "Title": "The Man Who Planted Trees",
         "Year": "1953.0",
         "_deepnote_index_column": 2933
        },
        {
         "Awards": "nan",
         "Genres": "Fiction",
         "Rating": 8.972999999999997,
         "Title": "Rain of Gold",
         "Year": "1991.0",
         "_deepnote_index_column": 2934
        },
        {
         "Awards": "nan",
         "Genres": "Historical",
         "Rating": 8.972999999999997,
         "Title": "Rain of Gold",
         "Year": "1991.0",
         "_deepnote_index_column": 2935
        },
        {
         "Awards": "nan",
         "Genres": "HistoricalFiction",
         "Rating": 8.972999999999997,
         "Title": "Rain of Gold",
         "Year": "1991.0",
         "_deepnote_index_column": 2936
        },
        {
         "Awards": "1.0",
         "Genres": "Mystery",
         "Rating": 5.53,
         "Title": "The Daughter of Time",
         "Year": "1951.0",
         "_deepnote_index_column": 2937
        },
        {
         "Awards": "1.0",
         "Genres": "Historical",
         "Rating": 5.53,
         "Title": "The Daughter of Time",
         "Year": "1951.0",
         "_deepnote_index_column": 2938
        },
        {
         "Awards": "1.0",
         "Genres": "HistoricalFiction",
         "Rating": 5.53,
         "Title": "The Daughter of Time",
         "Year": "1951.0",
         "_deepnote_index_column": 2939
        },
        {
         "Awards": "2.0",
         "Genres": "ScienceFiction",
         "Rating": 6.436,
         "Title": "Children of God",
         "Year": "1998.0",
         "_deepnote_index_column": 2940
        },
        {
         "Awards": "2.0",
         "Genres": "Fiction",
         "Rating": 6.436,
         "Title": "Children of God",
         "Year": "1998.0",
         "_deepnote_index_column": 2941
        },
        {
         "Awards": "2.0",
         "Genres": "Religion",
         "Rating": 6.436,
         "Title": "Children of God",
         "Year": "1998.0",
         "_deepnote_index_column": 2942
        },
        {
         "Awards": "1.0",
         "Genres": "Fiction",
         "Rating": 6.919,
         "Title": "Spring Snow",
         "Year": "1968.0",
         "_deepnote_index_column": 2943
        },
        {
         "Awards": "1.0",
         "Genres": "Cultural",
         "Rating": 6.919,
         "Title": "Spring Snow",
         "Year": "1968.0",
         "_deepnote_index_column": 2944
        },
        {
         "Awards": "1.0",
         "Genres": "Japan",
         "Rating": 6.919,
         "Title": "Spring Snow",
         "Year": "1968.0",
         "_deepnote_index_column": 2945
        },
        {
         "Awards": "nan",
         "Genres": "Historical",
         "Rating": 8.309,
         "Title": "The Sunne in Splendour",
         "Year": "1982.0",
         "_deepnote_index_column": 2946
        },
        {
         "Awards": "nan",
         "Genres": "HistoricalFiction",
         "Rating": 8.309,
         "Title": "The Sunne in Splendour",
         "Year": "1982.0",
         "_deepnote_index_column": 2947
        },
        {
         "Awards": "nan",
         "Genres": "Fiction",
         "Rating": 8.309,
         "Title": "The Sunne in Splendour",
         "Year": "1982.0",
         "_deepnote_index_column": 2948
        },
        {
         "Awards": "2.0",
         "Genres": "Mystery",
         "Rating": 6.617000000000001,
         "Title": "Presumed Innocent",
         "Year": "1986.0",
         "_deepnote_index_column": 2949
        },
        {
         "Awards": "2.0",
         "Genres": "Fiction",
         "Rating": 6.617000000000001,
         "Title": "Presumed Innocent",
         "Year": "1986.0",
         "_deepnote_index_column": 2950
        },
        {
         "Awards": "2.0",
         "Genres": "Thriller",
         "Rating": 6.617000000000001,
         "Title": "Presumed Innocent",
         "Year": "1986.0",
         "_deepnote_index_column": 2951
        },
        {
         "Awards": "nan",
         "Genres": "SequentialArt",
         "Rating": 7.101,
         "Title": "Asterix the Gaul",
         "Year": "1961.0",
         "_deepnote_index_column": 2952
        },
        {
         "Awards": "nan",
         "Genres": "Comics",
         "Rating": 7.101,
         "Title": "Asterix the Gaul",
         "Year": "1961.0",
         "_deepnote_index_column": 2953
        },
        {
         "Awards": "nan",
         "Genres": "SequentialArt",
         "Rating": 7.101,
         "Title": "Asterix the Gaul",
         "Year": "1961.0",
         "_deepnote_index_column": 2954
        },
        {
         "Awards": "5.0",
         "Genres": "Fiction",
         "Rating": 4.8660000000000005,
         "Title": "Dinner at the Homesick Restaurant",
         "Year": "1982.0",
         "_deepnote_index_column": 2955
        },
        {
         "Awards": "5.0",
         "Genres": "Contemporary",
         "Rating": 4.8660000000000005,
         "Title": "Dinner at the Homesick Restaurant",
         "Year": "1982.0",
         "_deepnote_index_column": 2956
        },
        {
         "Awards": "5.0",
         "Genres": "LiteraryFiction",
         "Rating": 4.8660000000000005,
         "Title": "Dinner at the Homesick Restaurant",
         "Year": "1982.0",
         "_deepnote_index_column": 2957
        },
        {
         "Awards": "4.0",
         "Genres": "YoungAdult",
         "Rating": 6.98,
         "Title": "A Ring of Endless Light",
         "Year": "1980.0",
         "_deepnote_index_column": 2958
        },
        {
         "Awards": "4.0",
         "Genres": "Fiction",
         "Rating": 6.98,
         "Title": "A Ring of Endless Light",
         "Year": "1980.0",
         "_deepnote_index_column": 2959
        },
        {
         "Awards": "4.0",
         "Genres": "Fantasy",
         "Rating": 6.98,
         "Title": "A Ring of Endless Light",
         "Year": "1980.0",
         "_deepnote_index_column": 2960
        },
        {
         "Awards": "nan",
         "Genres": "Fiction",
         "Rating": 4.926,
         "Title": "The 42nd Parallel",
         "Year": "1930.0",
         "_deepnote_index_column": 2961
        },
        {
         "Awards": "nan",
         "Genres": "Classics",
         "Rating": 4.926,
         "Title": "The 42nd Parallel",
         "Year": "1930.0",
         "_deepnote_index_column": 2962
        },
        {
         "Awards": "nan",
         "Genres": "Historical",
         "Rating": 4.926,
         "Title": "The 42nd Parallel",
         "Year": "1930.0",
         "_deepnote_index_column": 2963
        },
        {
         "Awards": "1.0",
         "Genres": "Fiction",
         "Rating": 6.557,
         "Title": "The Milagro Beanfield War",
         "Year": "1974.0",
         "_deepnote_index_column": 2964
        },
        {
         "Awards": "1.0",
         "Genres": "MagicalRealism",
         "Rating": 6.557,
         "Title": "The Milagro Beanfield War",
         "Year": "1974.0",
         "_deepnote_index_column": 2965
        },
        {
         "Awards": "1.0",
         "Genres": "Historical",
         "Rating": 6.557,
         "Title": "The Milagro Beanfield War",
         "Year": "1974.0",
         "_deepnote_index_column": 2966
        },
        {
         "Awards": "1.0",
         "Genres": "Fantasy",
         "Rating": 7.04,
         "Title": "The Last Enchantment",
         "Year": "1979.0",
         "_deepnote_index_column": 2967
        },
        {
         "Awards": "1.0",
         "Genres": "Fiction",
         "Rating": 7.04,
         "Title": "The Last Enchantment",
         "Year": "1979.0",
         "_deepnote_index_column": 2968
        },
        {
         "Awards": "1.0",
         "Genres": "Historical",
         "Rating": 7.04,
         "Title": "The Last Enchantment",
         "Year": "1979.0",
         "_deepnote_index_column": 2969
        },
        {
         "Awards": "nan",
         "Genres": "ShortStories",
         "Rating": 6.376,
         "Title": "The Lottery and Other Stories",
         "Year": "1949.0",
         "_deepnote_index_column": 2970
        },
        {
         "Awards": "nan",
         "Genres": "Fiction",
         "Rating": 6.376,
         "Title": "The Lottery and Other Stories",
         "Year": "1949.0",
         "_deepnote_index_column": 2971
        },
        {
         "Awards": "nan",
         "Genres": "Horror",
         "Rating": 6.376,
         "Title": "The Lottery and Other Stories",
         "Year": "1949.0",
         "_deepnote_index_column": 2972
        },
        {
         "Awards": "nan",
         "Genres": "Fiction",
         "Rating": 5.228,
         "Title": "The Snows of Kilimanjaro and Other Stories",
         "Year": "1961.0",
         "_deepnote_index_column": 2973
        },
        {
         "Awards": "nan",
         "Genres": "ShortStories",
         "Rating": 5.228,
         "Title": "The Snows of Kilimanjaro and Other Stories",
         "Year": "1961.0",
         "_deepnote_index_column": 2974
        },
        {
         "Awards": "nan",
         "Genres": "Classics",
         "Rating": 5.228,
         "Title": "The Snows of Kilimanjaro and Other Stories",
         "Year": "1961.0",
         "_deepnote_index_column": 2975
        },
        {
         "Awards": "2.0",
         "Genres": "Fiction",
         "Rating": 6.799,
         "Title": "The Street of Crocodiles",
         "Year": "1933.0",
         "_deepnote_index_column": 2976
        },
        {
         "Awards": "2.0",
         "Genres": "ShortStories",
         "Rating": 6.799,
         "Title": "The Street of Crocodiles",
         "Year": "1933.0",
         "_deepnote_index_column": 2977
        },
        {
         "Awards": "2.0",
         "Genres": "EuropeanLiterature",
         "Rating": 6.799,
         "Title": "The Street of Crocodiles",
         "Year": "1933.0",
         "_deepnote_index_column": 2978
        },
        {
         "Awards": "3.0",
         "Genres": "Fiction",
         "Rating": 6.134,
         "Title": "Riddley Walker",
         "Year": "1980.0",
         "_deepnote_index_column": 2979
        },
        {
         "Awards": "3.0",
         "Genres": "ScienceFiction",
         "Rating": 6.134,
         "Title": "Riddley Walker",
         "Year": "1980.0",
         "_deepnote_index_column": 2980
        },
        {
         "Awards": "3.0",
         "Genres": "Apocalyptic",
         "Rating": 6.134,
         "Title": "Riddley Walker",
         "Year": "1980.0",
         "_deepnote_index_column": 2981
        },
        {
         "Awards": "nan",
         "Genres": "Fiction",
         "Rating": 5.289,
         "Title": "Play It As It Lays",
         "Year": "1970.0",
         "_deepnote_index_column": 2982
        },
        {
         "Awards": "nan",
         "Genres": "Classics",
         "Rating": 5.289,
         "Title": "Play It As It Lays",
         "Year": "1970.0",
         "_deepnote_index_column": 2983
        },
        {
         "Awards": "nan",
         "Genres": "Novels",
         "Rating": 5.289,
         "Title": "Play It As It Lays",
         "Year": "1970.0",
         "_deepnote_index_column": 2984
        },
        {
         "Awards": "nan",
         "Genres": "Fiction",
         "Rating": 6.376,
         "Title": "I'm Not Stiller",
         "Year": "1954.0",
         "_deepnote_index_column": 2985
        },
        {
         "Awards": "nan",
         "Genres": "EuropeanLiterature",
         "Rating": 6.376,
         "Title": "I'm Not Stiller",
         "Year": "1954.0",
         "_deepnote_index_column": 2986
        },
        {
         "Awards": "nan",
         "Genres": "GermanLiterature",
         "Rating": 6.376,
         "Title": "I'm Not Stiller",
         "Year": "1954.0",
         "_deepnote_index_column": 2987
        }
       ],
       "rows_top": [
        {
         "Awards": "4.0",
         "Genres": "Classics",
         "Rating": 7.705,
         "Title": "To Kill a Mockingbird",
         "Year": 1960,
         "_deepnote_index_column": 0
        },
        {
         "Awards": "4.0",
         "Genres": "Fiction",
         "Rating": 7.705,
         "Title": "To Kill a Mockingbird",
         "Year": 1960,
         "_deepnote_index_column": 1
        },
        {
         "Awards": "4.0",
         "Genres": "Historical",
         "Rating": 7.705,
         "Title": "To Kill a Mockingbird",
         "Year": 1960,
         "_deepnote_index_column": 2
        },
        {
         "Awards": "2.0",
         "Genres": "Classics",
         "Rating": 7.1610000000000005,
         "Title": "1984",
         "Year": 1949,
         "_deepnote_index_column": 3
        },
        {
         "Awards": "2.0",
         "Genres": "Fiction",
         "Rating": 7.1610000000000005,
         "Title": "1984",
         "Year": 1949,
         "_deepnote_index_column": 4
        },
        {
         "Awards": "2.0",
         "Genres": "ScienceFiction",
         "Rating": 7.1610000000000005,
         "Title": "1984",
         "Year": 1949,
         "_deepnote_index_column": 5
        },
        {
         "Awards": "1.0",
         "Genres": "Classics",
         "Rating": 5.591,
         "Title": "The Great Gatsby",
         "Year": 1925,
         "_deepnote_index_column": 6
        },
        {
         "Awards": "1.0",
         "Genres": "Fiction",
         "Rating": 5.591,
         "Title": "The Great Gatsby",
         "Year": 1925,
         "_deepnote_index_column": 7
        },
        {
         "Awards": "1.0",
         "Genres": "Academic",
         "Rating": 5.591,
         "Title": "The Great Gatsby",
         "Year": 1925,
         "_deepnote_index_column": 8
        },
        {
         "Awards": "28.0",
         "Genres": "Fantasy",
         "Rating": 8.913,
         "Title": "Harry Potter and the Sorcerer's Stone",
         "Year": 1997,
         "_deepnote_index_column": 9
        },
        {
         "Awards": "28.0",
         "Genres": "Fiction",
         "Rating": 8.913,
         "Title": "Harry Potter and the Sorcerer's Stone",
         "Year": 1997,
         "_deepnote_index_column": 10
        },
        {
         "Awards": "28.0",
         "Genres": "YoungAdult",
         "Rating": 8.913,
         "Title": "Harry Potter and the Sorcerer's Stone",
         "Year": 1997,
         "_deepnote_index_column": 11
        },
        {
         "Awards": "3.0",
         "Genres": "Fantasy",
         "Rating": 7.705,
         "Title": "The Hobbit, or There and Back Again",
         "Year": 1937,
         "_deepnote_index_column": 12
        },
        {
         "Awards": "3.0",
         "Genres": "Classics",
         "Rating": 7.705,
         "Title": "The Hobbit, or There and Back Again",
         "Year": 1937,
         "_deepnote_index_column": 13
        },
        {
         "Awards": "3.0",
         "Genres": "Fiction",
         "Rating": 7.705,
         "Title": "The Hobbit, or There and Back Again",
         "Year": 1937,
         "_deepnote_index_column": 14
        },
        {
         "Awards": "2.0",
         "Genres": "Classics",
         "Rating": 5.711,
         "Title": "Animal Farm",
         "Year": 1945,
         "_deepnote_index_column": 15
        },
        {
         "Awards": "2.0",
         "Genres": "Fiction",
         "Rating": 5.711,
         "Title": "Animal Farm",
         "Year": 1945,
         "_deepnote_index_column": 16
        },
        {
         "Awards": "2.0",
         "Genres": "ScienceFiction",
         "Rating": 5.711,
         "Title": "Animal Farm",
         "Year": 1945,
         "_deepnote_index_column": 17
        },
        {
         "Awards": "1.0",
         "Genres": "Nonfiction",
         "Rating": 6.98,
         "Title": "The Diary of a Young Girl",
         "Year": 1947,
         "_deepnote_index_column": 18
        },
        {
         "Awards": "1.0",
         "Genres": "Classics",
         "Rating": 6.98,
         "Title": "The Diary of a Young Girl",
         "Year": 1947,
         "_deepnote_index_column": 19
        },
        {
         "Awards": "1.0",
         "Genres": "History",
         "Rating": 6.98,
         "Title": "The Diary of a Young Girl",
         "Year": 1947,
         "_deepnote_index_column": 20
        },
        {
         "Awards": "1.0",
         "Genres": "Classics",
         "Rating": 7.886,
         "Title": "The Little Prince",
         "Year": 1943,
         "_deepnote_index_column": 21
        },
        {
         "Awards": "1.0",
         "Genres": "Fiction",
         "Rating": 7.886,
         "Title": "The Little Prince",
         "Year": 1943,
         "_deepnote_index_column": 22
        },
        {
         "Awards": "1.0",
         "Genres": "Fantasy",
         "Rating": 7.886,
         "Title": "The Little Prince",
         "Year": 1943,
         "_deepnote_index_column": 23
        },
        {
         "Awards": "4.0",
         "Genres": "Classics",
         "Rating": 5.9529999999999985,
         "Title": "Fahrenheit 451",
         "Year": 1953,
         "_deepnote_index_column": 24
        },
        {
         "Awards": "4.0",
         "Genres": "Fiction",
         "Rating": 5.9529999999999985,
         "Title": "Fahrenheit 451",
         "Year": 1953,
         "_deepnote_index_column": 25
        },
        {
         "Awards": "4.0",
         "Genres": "ScienceFiction",
         "Rating": 5.9529999999999985,
         "Title": "Fahrenheit 451",
         "Year": 1953,
         "_deepnote_index_column": 26
        },
        {
         "Awards": "2.0",
         "Genres": "Classics",
         "Rating": 4.8660000000000005,
         "Title": "The Catcher in the Rye",
         "Year": 1951,
         "_deepnote_index_column": 27
        },
        {
         "Awards": "2.0",
         "Genres": "Fiction",
         "Rating": 4.8660000000000005,
         "Title": "The Catcher in the Rye",
         "Year": 1951,
         "_deepnote_index_column": 28
        },
        {
         "Awards": "2.0",
         "Genres": "YoungAdult",
         "Rating": 4.8660000000000005,
         "Title": "The Catcher in the Rye",
         "Year": 1951,
         "_deepnote_index_column": 29
        },
        {
         "Awards": "3.0",
         "Genres": "Fantasy",
         "Rating": 7.342,
         "Title": "The Lion, the Witch and the Wardrobe",
         "Year": 1950,
         "_deepnote_index_column": 30
        },
        {
         "Awards": "3.0",
         "Genres": "Classics",
         "Rating": 7.342,
         "Title": "The Lion, the Witch and the Wardrobe",
         "Year": 1950,
         "_deepnote_index_column": 31
        },
        {
         "Awards": "3.0",
         "Genres": "Fiction",
         "Rating": 7.342,
         "Title": "The Lion, the Witch and the Wardrobe",
         "Year": 1950,
         "_deepnote_index_column": 32
        },
        {
         "Awards": "4.0",
         "Genres": "Classics",
         "Rating": 5.832000000000002,
         "Title": "The Grapes of Wrath",
         "Year": 1939,
         "_deepnote_index_column": 33
        },
        {
         "Awards": "4.0",
         "Genres": "Fiction",
         "Rating": 5.832000000000002,
         "Title": "The Grapes of Wrath",
         "Year": 1939,
         "_deepnote_index_column": 34
        },
        {
         "Awards": "4.0",
         "Genres": "Historical",
         "Rating": 5.832000000000002,
         "Title": "The Grapes of Wrath",
         "Year": 1939,
         "_deepnote_index_column": 35
        },
        {
         "Awards": "2.0",
         "Genres": "Fiction",
         "Rating": 6.497000000000001,
         "Title": "One Hundred Years of Solitude",
         "Year": 1967,
         "_deepnote_index_column": 36
        },
        {
         "Awards": "2.0",
         "Genres": "Classics",
         "Rating": 6.497000000000001,
         "Title": "One Hundred Years of Solitude",
         "Year": 1967,
         "_deepnote_index_column": 37
        },
        {
         "Awards": "2.0",
         "Genres": "MagicalRealism",
         "Rating": 6.497000000000001,
         "Title": "One Hundred Years of Solitude",
         "Year": 1967,
         "_deepnote_index_column": 38
        },
        {
         "Awards": "nan",
         "Genres": "Classics",
         "Rating": 5.9529999999999985,
         "Title": "Brave New World",
         "Year": 1932,
         "_deepnote_index_column": 39
        },
        {
         "Awards": "nan",
         "Genres": "Fiction",
         "Rating": 5.9529999999999985,
         "Title": "Brave New World",
         "Year": 1932,
         "_deepnote_index_column": 40
        },
        {
         "Awards": "nan",
         "Genres": "ScienceFiction",
         "Rating": 5.9529999999999985,
         "Title": "Brave New World",
         "Year": 1932,
         "_deepnote_index_column": 41
        },
        {
         "Awards": "1.0",
         "Genres": "Classics",
         "Rating": 5.289,
         "Title": "Of Mice and Men",
         "Year": 1937,
         "_deepnote_index_column": 42
        },
        {
         "Awards": "1.0",
         "Genres": "Fiction",
         "Rating": 5.289,
         "Title": "Of Mice and Men",
         "Year": 1937,
         "_deepnote_index_column": 43
        },
        {
         "Awards": "1.0",
         "Genres": "Academic",
         "Rating": 5.289,
         "Title": "Of Mice and Men",
         "Year": 1937,
         "_deepnote_index_column": 44
        },
        {
         "Awards": "2.0",
         "Genres": "Classics",
         "Rating": 7.826,
         "Title": "Gone with the Wind",
         "Year": 1936,
         "_deepnote_index_column": 45
        },
        {
         "Awards": "2.0",
         "Genres": "Historical",
         "Rating": 7.826,
         "Title": "Gone with the Wind",
         "Year": 1936,
         "_deepnote_index_column": 46
        },
        {
         "Awards": "2.0",
         "Genres": "HistoricalFiction",
         "Rating": 7.826,
         "Title": "Gone with the Wind",
         "Year": 1936,
         "_deepnote_index_column": 47
        },
        {
         "Awards": "22.0",
         "Genres": "YoungAdult",
         "Rating": 6.799,
         "Title": "The Giver",
         "Year": 1993,
         "_deepnote_index_column": 48
        },
        {
         "Awards": "22.0",
         "Genres": "Fiction",
         "Rating": 6.799,
         "Title": "The Giver",
         "Year": 1993,
         "_deepnote_index_column": 49
        },
        {
         "Awards": "22.0",
         "Genres": "Classics",
         "Rating": 6.799,
         "Title": "The Giver",
         "Year": 1993,
         "_deepnote_index_column": 50
        },
        {
         "Awards": "13.0",
         "Genres": "Fantasy",
         "Rating": 9.456,
         "Title": "Harry Potter and the Prisoner of Azkaban",
         "Year": 1999,
         "_deepnote_index_column": 51
        },
        {
         "Awards": "13.0",
         "Genres": "YoungAdult",
         "Rating": 9.456,
         "Title": "Harry Potter and the Prisoner of Azkaban",
         "Year": 1999,
         "_deepnote_index_column": 52
        },
        {
         "Awards": "13.0",
         "Genres": "Fiction",
         "Rating": 9.456,
         "Title": "Harry Potter and the Prisoner of Azkaban",
         "Year": 1999,
         "_deepnote_index_column": 53
        },
        {
         "Awards": "nan",
         "Genres": "Classics",
         "Rating": 4.141,
         "Title": "Lord of the Flies",
         "Year": 1954,
         "_deepnote_index_column": 54
        },
        {
         "Awards": "nan",
         "Genres": "Fiction",
         "Rating": 4.141,
         "Title": "Lord of the Flies",
         "Year": 1954,
         "_deepnote_index_column": 55
        },
        {
         "Awards": "nan",
         "Genres": "YoungAdult",
         "Rating": 4.141,
         "Title": "Lord of the Flies",
         "Year": 1954,
         "_deepnote_index_column": 56
        },
        {
         "Awards": "4.0",
         "Genres": "Classics",
         "Rating": 6.497000000000001,
         "Title": "Slaughterhouse-Five",
         "Year": 1969,
         "_deepnote_index_column": 57
        },
        {
         "Awards": "4.0",
         "Genres": "Fiction",
         "Rating": 6.497000000000001,
         "Title": "Slaughterhouse-Five",
         "Year": 1969,
         "_deepnote_index_column": 58
        },
        {
         "Awards": "4.0",
         "Genres": "ScienceFiction",
         "Rating": 6.497000000000001,
         "Title": "Slaughterhouse-Five",
         "Year": 1969,
         "_deepnote_index_column": 59
        },
        {
         "Awards": "2.0",
         "Genres": "Classics",
         "Rating": 8.309,
         "Title": "East of Eden",
         "Year": 1952,
         "_deepnote_index_column": 60
        },
        {
         "Awards": "2.0",
         "Genres": "Fiction",
         "Rating": 8.309,
         "Title": "East of Eden",
         "Year": 1952,
         "_deepnote_index_column": 61
        },
        {
         "Awards": "2.0",
         "Genres": "Historical",
         "Rating": 8.309,
         "Title": "East of Eden",
         "Year": 1952,
         "_deepnote_index_column": 62
        },
        {
         "Awards": "1.0",
         "Genres": "Classics",
         "Rating": 5.349,
         "Title": "Lolita",
         "Year": 1955,
         "_deepnote_index_column": 63
        },
        {
         "Awards": "1.0",
         "Genres": "Fiction",
         "Rating": 5.349,
         "Title": "Lolita",
         "Year": 1955,
         "_deepnote_index_column": 64
        },
        {
         "Awards": "1.0",
         "Genres": "Literature",
         "Rating": 5.349,
         "Title": "Lolita",
         "Year": 1955,
         "_deepnote_index_column": 65
        },
        {
         "Awards": "13.0",
         "Genres": "Fiction",
         "Rating": 6.678,
         "Title": "The Handmaid's Tale",
         "Year": 1985,
         "_deepnote_index_column": 66
        },
        {
         "Awards": "13.0",
         "Genres": "Classics",
         "Rating": 6.678,
         "Title": "The Handmaid's Tale",
         "Year": 1985,
         "_deepnote_index_column": 67
        },
        {
         "Awards": "13.0",
         "Genres": "ScienceFiction",
         "Rating": 6.678,
         "Title": "The Handmaid's Tale",
         "Year": 1985,
         "_deepnote_index_column": 68
        },
        {
         "Awards": "nan",
         "Genres": "Classics",
         "Rating": 7.1610000000000005,
         "Title": "One Flew Over the Cuckoo's Nest",
         "Year": 1962,
         "_deepnote_index_column": 69
        },
        {
         "Awards": "nan",
         "Genres": "Fiction",
         "Rating": 7.1610000000000005,
         "Title": "One Flew Over the Cuckoo's Nest",
         "Year": 1962,
         "_deepnote_index_column": 70
        },
        {
         "Awards": "nan",
         "Genres": "Literature",
         "Rating": 7.1610000000000005,
         "Title": "One Flew Over the Cuckoo's Nest",
         "Year": 1962,
         "_deepnote_index_column": 71
        },
        {
         "Awards": "nan",
         "Genres": "ScienceFiction",
         "Rating": 8.187999999999999,
         "Title": "The Ultimate Hitchhiker's Guide to the Galaxy",
         "Year": 1996,
         "_deepnote_index_column": 72
        },
        {
         "Awards": "nan",
         "Genres": "Fiction",
         "Rating": 8.187999999999999,
         "Title": "The Ultimate Hitchhiker's Guide to the Galaxy",
         "Year": 1996,
         "_deepnote_index_column": 73
        },
        {
         "Awards": "nan",
         "Genres": "Humor",
         "Rating": 8.187999999999999,
         "Title": "The Ultimate Hitchhiker's Guide to the Galaxy",
         "Year": 1996,
         "_deepnote_index_column": 74
        },
        {
         "Awards": "1.0",
         "Genres": "Fantasy",
         "Rating": 8.187999999999999,
         "Title": "The Fellowship of the Ring",
         "Year": 1954,
         "_deepnote_index_column": 75
        },
        {
         "Awards": "1.0",
         "Genres": "Classics",
         "Rating": 8.187999999999999,
         "Title": "The Fellowship of the Ring",
         "Year": 1954,
         "_deepnote_index_column": 76
        },
        {
         "Awards": "1.0",
         "Genres": "Fiction",
         "Rating": 8.187999999999999,
         "Title": "The Fellowship of the Ring",
         "Year": 1954,
         "_deepnote_index_column": 77
        },
        {
         "Awards": "nan",
         "Genres": "Fiction",
         "Rating": 6.738,
         "Title": "Memoirs of a Geisha",
         "Year": 1997,
         "_deepnote_index_column": 78
        },
        {
         "Awards": "nan",
         "Genres": "Historical",
         "Rating": 6.738,
         "Title": "Memoirs of a Geisha",
         "Year": 1997,
         "_deepnote_index_column": 79
        },
        {
         "Awards": "nan",
         "Genres": "HistoricalFiction",
         "Rating": 6.738,
         "Title": "Memoirs of a Geisha",
         "Year": 1997,
         "_deepnote_index_column": 80
        },
        {
         "Awards": "1.0",
         "Genres": "Classics",
         "Rating": 5.9529999999999985,
         "Title": "The Stranger",
         "Year": 1942,
         "_deepnote_index_column": 81
        },
        {
         "Awards": "1.0",
         "Genres": "Fiction",
         "Rating": 5.9529999999999985,
         "Title": "The Stranger",
         "Year": 1942,
         "_deepnote_index_column": 82
        },
        {
         "Awards": "1.0",
         "Genres": "Philosophy",
         "Rating": 5.9529999999999985,
         "Title": "The Stranger",
         "Year": 1942,
         "_deepnote_index_column": 83
        },
        {
         "Awards": "7.0",
         "Genres": "Fantasy",
         "Rating": 8.611,
         "Title": "Harry Potter and the Chamber of Secrets",
         "Year": 1998,
         "_deepnote_index_column": 84
        },
        {
         "Awards": "7.0",
         "Genres": "YoungAdult",
         "Rating": 8.611,
         "Title": "Harry Potter and the Chamber of Secrets",
         "Year": 1998,
         "_deepnote_index_column": 85
        },
        {
         "Awards": "7.0",
         "Genres": "Fiction",
         "Rating": 8.611,
         "Title": "Harry Potter and the Chamber of Secrets",
         "Year": 1998,
         "_deepnote_index_column": 86
        },
        {
         "Awards": "5.0",
         "Genres": "Classics",
         "Rating": 7.101,
         "Title": "Charlotte's Web",
         "Year": 1952,
         "_deepnote_index_column": 87
        },
        {
         "Awards": "5.0",
         "Genres": "Childrens",
         "Rating": 7.101,
         "Title": "Charlotte's Web",
         "Year": 1952,
         "_deepnote_index_column": 88
        },
        {
         "Awards": "5.0",
         "Genres": "Fiction",
         "Rating": 7.101,
         "Title": "Charlotte's Web",
         "Year": 1952,
         "_deepnote_index_column": 89
        },
        {
         "Awards": "nan",
         "Genres": "Fantasy",
         "Rating": 7.584,
         "Title": "The Chronicles of Narnia",
         "Year": 1956,
         "_deepnote_index_column": 90
        },
        {
         "Awards": "nan",
         "Genres": "Classics",
         "Rating": 7.584,
         "Title": "The Chronicles of Narnia",
         "Year": 1956,
         "_deepnote_index_column": 91
        },
        {
         "Awards": "nan",
         "Genres": "Fiction",
         "Rating": 7.584,
         "Title": "The Chronicles of Narnia",
         "Year": 1956,
         "_deepnote_index_column": 92
        },
        {
         "Awards": "4.0",
         "Genres": "Fantasy",
         "Rating": 5.9529999999999985,
         "Title": "A Wrinkle in Time",
         "Year": 1962,
         "_deepnote_index_column": 93
        },
        {
         "Awards": "4.0",
         "Genres": "Fiction",
         "Rating": 5.9529999999999985,
         "Title": "A Wrinkle in Time",
         "Year": 1962,
         "_deepnote_index_column": 94
        },
        {
         "Awards": "4.0",
         "Genres": "Classics",
         "Rating": 5.9529999999999985,
         "Title": "A Wrinkle in Time",
         "Year": 1962,
         "_deepnote_index_column": 95
        },
        {
         "Awards": "5.0",
         "Genres": "ScienceFiction",
         "Rating": 7.826,
         "Title": "Ender's Game",
         "Year": 1985,
         "_deepnote_index_column": 96
        },
        {
         "Awards": "5.0",
         "Genres": "Fiction",
         "Rating": 7.826,
         "Title": "Ender's Game",
         "Year": 1985,
         "_deepnote_index_column": 97
        },
        {
         "Awards": "5.0",
         "Genres": "YoungAdult",
         "Rating": 7.826,
         "Title": "Ender's Game",
         "Year": 1985,
         "_deepnote_index_column": 98
        },
        {
         "Awards": "3.0",
         "Genres": "Classics",
         "Rating": 4.745,
         "Title": "The Old Man and the Sea",
         "Year": 1952,
         "_deepnote_index_column": 99
        }
       ]
      },
      "text/html": [
       "<div>\n",
       "<style scoped>\n",
       "    .dataframe tbody tr th:only-of-type {\n",
       "        vertical-align: middle;\n",
       "    }\n",
       "\n",
       "    .dataframe tbody tr th {\n",
       "        vertical-align: top;\n",
       "    }\n",
       "\n",
       "    .dataframe thead th {\n",
       "        text-align: right;\n",
       "    }\n",
       "</style>\n",
       "<table border=\"1\" class=\"dataframe\">\n",
       "  <thead>\n",
       "    <tr style=\"text-align: right;\">\n",
       "      <th></th>\n",
       "      <th>Title</th>\n",
       "      <th>Genres</th>\n",
       "      <th>Year</th>\n",
       "      <th>Awards</th>\n",
       "      <th>Rating</th>\n",
       "    </tr>\n",
       "  </thead>\n",
       "  <tbody>\n",
       "    <tr>\n",
       "      <th>0</th>\n",
       "      <td>To Kill a Mockingbird</td>\n",
       "      <td>Classics</td>\n",
       "      <td>1960.0</td>\n",
       "      <td>4.0</td>\n",
       "      <td>7.705</td>\n",
       "    </tr>\n",
       "    <tr>\n",
       "      <th>1</th>\n",
       "      <td>To Kill a Mockingbird</td>\n",
       "      <td>Fiction</td>\n",
       "      <td>1960.0</td>\n",
       "      <td>4.0</td>\n",
       "      <td>7.705</td>\n",
       "    </tr>\n",
       "    <tr>\n",
       "      <th>2</th>\n",
       "      <td>To Kill a Mockingbird</td>\n",
       "      <td>Historical</td>\n",
       "      <td>1960.0</td>\n",
       "      <td>4.0</td>\n",
       "      <td>7.705</td>\n",
       "    </tr>\n",
       "    <tr>\n",
       "      <th>3</th>\n",
       "      <td>1984</td>\n",
       "      <td>Classics</td>\n",
       "      <td>1949.0</td>\n",
       "      <td>2.0</td>\n",
       "      <td>7.161</td>\n",
       "    </tr>\n",
       "    <tr>\n",
       "      <th>4</th>\n",
       "      <td>1984</td>\n",
       "      <td>Fiction</td>\n",
       "      <td>1949.0</td>\n",
       "      <td>2.0</td>\n",
       "      <td>7.161</td>\n",
       "    </tr>\n",
       "    <tr>\n",
       "      <th>...</th>\n",
       "      <td>...</td>\n",
       "      <td>...</td>\n",
       "      <td>...</td>\n",
       "      <td>...</td>\n",
       "      <td>...</td>\n",
       "    </tr>\n",
       "    <tr>\n",
       "      <th>2983</th>\n",
       "      <td>Play It As It Lays</td>\n",
       "      <td>Classics</td>\n",
       "      <td>1970.0</td>\n",
       "      <td>NaN</td>\n",
       "      <td>5.289</td>\n",
       "    </tr>\n",
       "    <tr>\n",
       "      <th>2984</th>\n",
       "      <td>Play It As It Lays</td>\n",
       "      <td>Novels</td>\n",
       "      <td>1970.0</td>\n",
       "      <td>NaN</td>\n",
       "      <td>5.289</td>\n",
       "    </tr>\n",
       "    <tr>\n",
       "      <th>2985</th>\n",
       "      <td>I'm Not Stiller</td>\n",
       "      <td>Fiction</td>\n",
       "      <td>1954.0</td>\n",
       "      <td>NaN</td>\n",
       "      <td>6.376</td>\n",
       "    </tr>\n",
       "    <tr>\n",
       "      <th>2986</th>\n",
       "      <td>I'm Not Stiller</td>\n",
       "      <td>EuropeanLiterature</td>\n",
       "      <td>1954.0</td>\n",
       "      <td>NaN</td>\n",
       "      <td>6.376</td>\n",
       "    </tr>\n",
       "    <tr>\n",
       "      <th>2987</th>\n",
       "      <td>I'm Not Stiller</td>\n",
       "      <td>GermanLiterature</td>\n",
       "      <td>1954.0</td>\n",
       "      <td>NaN</td>\n",
       "      <td>6.376</td>\n",
       "    </tr>\n",
       "  </tbody>\n",
       "</table>\n",
       "<p>2988 rows × 5 columns</p>\n",
       "</div>"
      ],
      "text/plain": [
       "                      Title              Genres    Year  Awards  Rating\n",
       "0     To Kill a Mockingbird            Classics  1960.0     4.0   7.705\n",
       "1     To Kill a Mockingbird             Fiction  1960.0     4.0   7.705\n",
       "2     To Kill a Mockingbird          Historical  1960.0     4.0   7.705\n",
       "3                      1984            Classics  1949.0     2.0   7.161\n",
       "4                      1984             Fiction  1949.0     2.0   7.161\n",
       "...                     ...                 ...     ...     ...     ...\n",
       "2983     Play It As It Lays            Classics  1970.0     NaN   5.289\n",
       "2984     Play It As It Lays              Novels  1970.0     NaN   5.289\n",
       "2985        I'm Not Stiller             Fiction  1954.0     NaN   6.376\n",
       "2986        I'm Not Stiller  EuropeanLiterature  1954.0     NaN   6.376\n",
       "2987        I'm Not Stiller    GermanLiterature  1954.0     NaN   6.376\n",
       "\n",
       "[2988 rows x 5 columns]"
      ]
     },
     "execution_count": 199,
     "metadata": {},
     "output_type": "execute_result"
    }
   ],
   "source": [
    "title_repeated = books.Title.repeat(3).tolist()\n",
    "year_repeated = books['1st Pub'].repeat(3).tolist()\n",
    "award_repeated = books.Awards.repeat(3).tolist()\n",
    "minmax_repeated = books.minmax_norm_ratings.repeat(3).tolist()\n",
    "\n",
    "bigashell_df = pd.DataFrame({'Title': title_repeated ,'Genres': flat_list, 'Year': year_repeated, 'Awards': award_repeated, 'Rating': minmax_repeated})\n",
    "bigashell_df"
   ]
  }
 ],
 "metadata": {
  "deepnote_execution_queue": [],
  "deepnote_notebook_id": "397b0e2e-534a-495e-81a2-786af8540719",
  "kernelspec": {
   "display_name": "Python 3",
   "language": "python",
   "name": "python3"
  },
  "language_info": {
   "codemirror_mode": {
    "name": "ipython",
    "version": 3
   },
   "file_extension": ".py",
   "mimetype": "text/x-python",
   "name": "python",
   "nbconvert_exporter": "python",
   "pygments_lexer": "ipython3",
   "version": "3.8.5"
  }
 },
 "nbformat": 4,
 "nbformat_minor": 2
}

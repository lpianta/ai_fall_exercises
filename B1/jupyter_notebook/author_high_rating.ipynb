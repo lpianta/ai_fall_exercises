{
 "metadata": {
  "language_info": {
   "codemirror_mode": {
    "name": "ipython",
    "version": 3
   },
   "file_extension": ".py",
   "mimetype": "text/x-python",
   "name": "python",
   "nbconvert_exporter": "python",
   "pygments_lexer": "ipython3",
   "version": "3.7.9-final"
  },
  "orig_nbformat": 2,
  "kernelspec": {
   "name": "python37964bitwebscrapingconda5dd7cefa095141818a3d3177a3640648",
   "display_name": "Python 3.7.9 64-bit ('web_scraping': conda)",
   "language": "python"
  }
 },
 "nbformat": 4,
 "nbformat_minor": 2,
 "cells": [
  {
   "cell_type": "code",
   "execution_count": 1,
   "metadata": {},
   "outputs": [],
   "source": [
    "import pandas as pd"
   ]
  },
  {
   "cell_type": "code",
   "execution_count": 4,
   "metadata": {},
   "outputs": [],
   "source": [
    "df = pd.read_csv('./resources/books.csv')"
   ]
  },
  {
   "cell_type": "code",
   "execution_count": 5,
   "metadata": {},
   "outputs": [
    {
     "output_type": "stream",
     "name": "stdout",
     "text": [
      "Harry Potter and the Prisoner of Azkaban\n9.456\n"
     ]
    }
   ],
   "source": [
    "def author_high_rating(author):\n",
    "    highest_rating = (df[(df == author).any(axis=1)]['minmax_norm_ratings'].max())\n",
    "    title = df.loc[(df.Author == author) & (df['minmax_norm_ratings'] == highest_rating), 'Title']\n",
    "    print(title.item())\n",
    "    print(highest_rating)\n",
    "    \n",
    "author_high_rating('J.K. Rowling')"
   ]
  }
 ]
}

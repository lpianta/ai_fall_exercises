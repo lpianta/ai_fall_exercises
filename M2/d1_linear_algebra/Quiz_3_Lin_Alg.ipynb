{
 "cells": [
  {
   "cell_type": "markdown",
   "metadata": {},
   "source": [
    "## Linear Algebra Quiz #3\n",
    "\n",
    "![title](./img/3_0.jpeg)\n",
    "\n",
    "We strongly suggest working with numpy :)"
   ]
  },
  {
   "cell_type": "code",
   "execution_count": 1,
   "metadata": {},
   "outputs": [],
   "source": [
    "#Do your imports here\n",
    "import numpy as np\n",
    "import math"
   ]
  },
  {
   "cell_type": "markdown",
   "metadata": {},
   "source": [
    "![title](./img/3_2.png)\n",
    "![title](./img/3_3.png)\n",
    "Create a program that can output\n",
    "\n",
    "- What is the value of element c23​ of Matrix C where C=A x B ?\n",
    "- What is the value of element c23​ of Matrix C where C=B x A ?"
   ]
  },
  {
   "cell_type": "code",
   "execution_count": 2,
   "metadata": {},
   "outputs": [],
   "source": [
    "# okay numpy is great but... how would you inverse a matrix by hand?\n",
    "\n",
    "def inverse_matrix(A):\n",
    "    m_inverse = np.linalg.inv(A)\n",
    "    return m_inverse"
   ]
  },
  {
   "cell_type": "code",
   "execution_count": 3,
   "metadata": {},
   "outputs": [
    {
     "output_type": "execute_result",
     "data": {
      "text/plain": [
       "-1.0"
      ]
     },
     "metadata": {},
     "execution_count": 3
    }
   ],
   "source": [
    "a = np.matrix([[3, 1, 2], [-5, 4, 1], [0, 3, 8]])\n",
    "b = np.matrix([[0, 5, -1], [3, 2, -1], [10, 0.5, 4]])\n",
    "\n",
    "c1 = np.multiply(a, b)\n",
    "c1.item(1, 2)\n",
    "\n",
    "c2 = np.multiply(b, a)\n",
    "c2.item(1, 2)"
   ]
  },
  {
   "cell_type": "markdown",
   "metadata": {},
   "source": [
    "![title](./img/3_1.png)\n",
    "Create a program that can output\n",
    "\n",
    "- What is the value of the ijth element if i = 2 and j=3?\n",
    "- What is the value of the ijth element if i = 3 and j=1?"
   ]
  },
  {
   "cell_type": "code",
   "execution_count": 4,
   "metadata": {},
   "outputs": [
    {
     "output_type": "execute_result",
     "data": {
      "text/plain": [
       "5.7"
      ]
     },
     "metadata": {},
     "execution_count": 4
    }
   ],
   "source": [
    "# Just answer using code --> easy stuff!\n",
    "a = np.matrix([[3, 0.6, 4, -3], [-1.3, 4, 0, 8.6], [7, 0, -8, 0.006]])\n",
    "b = np.matrix([[3, -5.76, 45, 0], [2, -2, 1.3, 9], [-9, 0, 0, 0]])\n",
    "c = np.matrix([[0, 1009, -66.7849, 90], [0, 5, 4, -0.07], [-7.7, 0, 0, 0]])\n",
    "ab = np.add(a,b)\n",
    "d = np.subtract(ab, c)\n",
    "d.item(1, 2)\n",
    "d.item(2, 0)\n",
    "# Harder\n",
    "# Can you build a matrix solver that can do output the result given n matrices and a sequence of operations such as [add subtract multiply transpose?]\n",
    "#Some ideas on valid operations: Multiplication Addition Subtraction Inverstion Transposed. "
   ]
  },
  {
   "cell_type": "markdown",
   "metadata": {},
   "source": [
    "![title](./img/3_3.png)\n",
    "Create a program that can output\n",
    "- How many rows will C have?\n",
    "- How many columns will C have?\n",
    "- What will be the value of c13​?"
   ]
  },
  {
   "cell_type": "code",
   "execution_count": 10,
   "metadata": {},
   "outputs": [
    {
     "output_type": "stream",
     "name": "stdout",
     "text": [
      "[-102.8  255.2  595.6]\nNumber of rows: 3\nValue of c13: 595.6\n"
     ]
    }
   ],
   "source": [
    "a = np.array([0.6, -15, 2, 5, 98])\n",
    "b = np.array([[2, 2, -4], [9, -14, 0], [13, -0.5, 44], [1, 9, 4], [0, 0, 5]])\n",
    "c = np.dot(a.T, b)\n",
    "print(c)\n",
    "print('Number of rows: ' + str(c.shape[0]))\n",
    "print('Value of c13: ' + str(c.item(2)))"
   ]
  }
 ],
 "metadata": {
  "kernelspec": {
   "display_name": "Python 3",
   "language": "python",
   "name": "python3"
  },
  "language_info": {
   "codemirror_mode": {
    "name": "ipython",
    "version": 3
   },
   "file_extension": ".py",
   "mimetype": "text/x-python",
   "name": "python",
   "nbconvert_exporter": "python",
   "pygments_lexer": "ipython3",
   "version": "3.8.6-final"
  }
 },
 "nbformat": 4,
 "nbformat_minor": 2
}
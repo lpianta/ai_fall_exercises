{
 "cells": [
  {
   "cell_type": "markdown",
   "metadata": {},
   "source": [
    "## Linear Algebra Quiz #2\n",
    "\n",
    "![title](./img/2_1.jpeg)\n",
    "\n",
    "We strongly suggest working with numpy :)"
   ]
  },
  {
   "cell_type": "code",
   "execution_count": 2,
   "metadata": {},
   "outputs": [],
   "source": [
    "#Do your imports here\n",
    "import numpy as np\n",
    "import math"
   ]
  },
  {
   "cell_type": "markdown",
   "metadata": {},
   "source": [
    "![title](./img/2_2.png)\n",
    "- Which vectors below define a plane spanned by a linear combination?"
   ]
  },
  {
   "cell_type": "code",
   "execution_count": 31,
   "metadata": {},
   "outputs": [
    {
     "output_type": "stream",
     "name": "stdout",
     "text": [
      "[array([1, 2, 3]), array([2, 2, 2])]\n"
     ]
    }
   ],
   "source": [
    "def plane(a,b,c):\n",
    "    #returns false if the vectors do define a plane and returns which are those vectors if true\n",
    "    a = np.array(a)\n",
    "    b = np.array(b)\n",
    "    c = np.array(c)\n",
    "    ab = np.cross(a, b)\n",
    "    ac = np.cross(a, c)\n",
    "    bc = np.cross(b, c)\n",
    "    if ab.all() == 0:\n",
    "        print(f\"vector {a} and vector {b} are linearly dependent and don't span a plane\")\n",
    "    else:\n",
    "        print(f\"vector {a} and vector {b} span a plane\")\n",
    "    if ac.all() == 0:\n",
    "        print(f\"vector {a} and vector {c} are linearly dependent and don't span a plane\")\n",
    "    else:\n",
    "        print(f\"vector {a} and vector {c} span a plane\")\n",
    "    if bc.all() == 0:\n",
    "        print(f\"vector {b} and vector {c} are linearly dependent and don't span a plane\")\n",
    "    else:\n",
    "        print(f\"vector {b} and vector {c} span a plane\")\n",
    "    \n",
    "a = np.array([1, 2, 3])\n",
    "b = np.array([2, 2, 2])\n",
    "c = np.array([8, 8, 8])\n",
    "\n",
    "#plane([1, 2, 3], [2, 2, 2],[8, 8, 8])\n",
    "    \n",
    "    \n",
    "    # Harder exercise\n",
    "\n",
    "def complete_plane(*inputs):\n",
    "    vectors_array = []\n",
    "    for element in inputs:\n",
    "        vectors_array.append(element)\n",
    "    matrix = np.stack(vectors_array)\n",
    "    lin_ind_vectors = []\n",
    "    for i in matrix:\n",
    "        for j in matrix:\n",
    "            if np.cross(i, j).all() != 0:\n",
    "                lin_ind_vectors.append(i)\n",
    "                lin_ind_vectors.append(j)\n",
    "    print(lin_ind_vectors[0:2])\n",
    "            \n",
    "#returns the first set of vectors to complete a plane, false otherwise\n",
    "complete_plane(a, b, c)"
   ]
  },
  {
   "cell_type": "markdown",
   "metadata": {},
   "source": [
    "![title](./img/2_3.png)\n",
    "- What is the solution for a and b?"
   ]
  },
  {
   "cell_type": "code",
   "execution_count": 4,
   "metadata": {},
   "outputs": [
    {
     "output_type": "stream",
     "name": "stdout",
     "text": [
      "[-2.77555756e-17 -3.33333333e-01]\n"
     ]
    }
   ],
   "source": [
    "# do you need a function for this? What is the most efficient way to solve it?\n",
    "\n",
    "# There is an infinite amount of solution"
   ]
  },
  {
   "cell_type": "markdown",
   "metadata": {},
   "source": [
    "![title](./img/2_4.png)\n",
    "- What is the solution for a and b?"
   ]
  },
  {
   "cell_type": "code",
   "execution_count": 8,
   "metadata": {},
   "outputs": [],
   "source": [
    "# Idem. Do you need a function for this? What is the most efficient way to solve it?\n",
    "\n",
    "\n",
    "# it cannot be solved because there are no values for A and B that satisfy the equation."
   ]
  }
 ],
 "metadata": {
  "kernelspec": {
   "display_name": "Python 3",
   "language": "python",
   "name": "python3"
  },
  "language_info": {
   "codemirror_mode": {
    "name": "ipython",
    "version": 3
   },
   "file_extension": ".py",
   "mimetype": "text/x-python",
   "name": "python",
   "nbconvert_exporter": "python",
   "pygments_lexer": "ipython3",
   "version": "3.8.6-final"
  }
 },
 "nbformat": 4,
 "nbformat_minor": 2
}
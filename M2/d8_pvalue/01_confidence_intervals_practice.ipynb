{
 "cells": [
  {
   "cell_type": "markdown",
   "metadata": {},
   "source": [
    "# Practice notebook for confidence intervals using NHANES data\n",
    "\n",
    "This notebook will give you the opportunity to practice working with confidence intervals using the NHANES data.\n",
    "\n",
    "You can enter your code into the cells that say \"enter your code here\", and you can type responses to the questions into the cells that say \"Type Markdown and Latex\".\n",
    "\n",
    "Note that most of the code that you will need to write below is very similar to code that appears in the case study notebook.  You will need to edit code from that notebook in small ways to adapt it to the prompts below.\n",
    "\n",
    "To get started, we will use the same module imports and read the data in the same way as we did in the case study:"
   ]
  },
  {
   "cell_type": "code",
   "execution_count": 2,
   "metadata": {},
   "outputs": [],
   "source": [
    "%matplotlib inline\n",
    "import matplotlib.pyplot as plt\n",
    "import pandas as pd\n",
    "import numpy as np\n",
    "import seaborn as sns\n",
    "import statsmodels.api as sm\n",
    "\n",
    "da = pd.read_csv(\"nhanes_2015_2016.csv\")"
   ]
  },
  {
   "cell_type": "markdown",
   "metadata": {},
   "source": [
    "## Question 1\n",
    "\n",
    "Restrict the sample to women between 35 and 50, then use the marital status variable [DMDMARTL](https://wwwn.cdc.gov/Nchs/Nhanes/2015-2016/DEMO_I.htm#DMDMARTL) to partition this sample into two groups - women who are currently married, and women who are not currently married.  Within each of these groups, calculate the proportion of women who have completed college.  Calculate 95% confidence intervals for each of these proportions."
   ]
  },
  {
   "cell_type": "code",
   "execution_count": 60,
   "metadata": {
    "tags": []
   },
   "outputs": [
    {
     "output_type": "stream",
     "name": "stdout",
     "text": [
      "DMDMARTL       Married  Not_Married\nDMDEDUC2                           \nGraduated          154           67\nNot_Graduated      265          254\n"
     ]
    }
   ],
   "source": [
    "# enter your code here\n",
    "\n",
    "# making data human readable\n",
    "da[\"RIAGENDRx\"] = da.RIAGENDR.replace({1: \"Male\", 2: \"Female\"})\n",
    "\n",
    "# extrapoliting female\n",
    "dfemale = da[da['RIAGENDRx'] == 'Female']\n",
    "\n",
    "# extrapolating age range between 35 and 50\n",
    "dfemale['agerange'] = pd.cut(dfemale['RIDAGEYR'], (35,50))\n",
    "dfemale_age = dfemale[dfemale['agerange'].notna()]\n",
    "\n",
    "# making data human readable again (have to go over this again to know why regex doesn't work)\n",
    "dfemale_age['DMDMARTL'] = dfemale_age['DMDMARTL'].replace({1: 'Married', 2: 'Not_Married', 3: 'Not_Married', 4: 'Not_Married', 5: 'Not_Married', 6: 'Not_Married', 77: np.nan, 99: np.nan})\n",
    "dfemale_age['DMDEDUC2'] = dfemale_age['DMDEDUC2'].replace({5: 'Graduated', 1: 'Not_Graduated', 2: 'Not_Graduated', 3: 'Not_Graduated', 4: 'Not_Graduated', 9: np.nan})\n",
    "\n",
    "# dropping nan values\n",
    "data_clean = dfemale_age[['DMDMARTL', 'DMDEDUC2', 'RIAGENDRx']].dropna()\n",
    "\n",
    "# creating crosstab\n",
    "crosstab = pd.crosstab(data_clean.DMDEDUC2, data_clean.DMDMARTL)\n",
    "print(crosstab)"
   ]
  },
  {
   "cell_type": "code",
   "execution_count": 4,
   "metadata": {},
   "outputs": [
    {
     "output_type": "stream",
     "name": "stdout",
     "text": [
      "             Proportion  Total_n\nDMDMARTL                        \nMarried        0.367542      419\nNot_Married    0.208723      321\n"
     ]
    }
   ],
   "source": [
    "# calculating sample proportion of graduated and sample size\n",
    "prop_total = data_clean.groupby(data_clean.DMDMARTL).agg({\"DMDEDUC2\": [lambda x: np.mean(x==\"Graduated\"), np.size]})\n",
    "prop_total.columns = [\"Proportion\", \"Total_n\"]\n",
    "print(prop_total)"
   ]
  },
  {
   "cell_type": "code",
   "execution_count": 63,
   "metadata": {},
   "outputs": [
    {
     "output_type": "stream",
     "name": "stdout",
     "text": [
      "Married standard error: 0.02355386941414772\nNot married standard error: 0.022682802482912778\nConfidence interval for married is between: (0.3213770303614961, 0.41370650185807434)\nConfidence interval for not married is between: (0.16426526549807702, 0.2531802173679666)\n"
     ]
    }
   ],
   "source": [
    "p1 = prop_total.Proportion.Married # Married proportion\n",
    "n1 = prop_total.Total_n.Married # Total number of married\n",
    "se_married = np.sqrt(p1 * (1 - p1) / n1)\n",
    "print(f'Married standard error: {se_married}')\n",
    "\n",
    "p2 = prop_total.Proportion.Not_Married # Not married proportion\n",
    "n2 = prop_total[\"Total_n\"].Not_Married # Total number of not married\n",
    "se_not_married = np.sqrt(p2 * (1 - p2) / n2)\n",
    "print(f'Not married standard error: {se_not_married}')\n",
    "\n",
    "# calculating confidence interval for married (double calculation, just in case)\n",
    "ci_married = sm.stats.proportion_confint(154, 154+265)\n",
    "low_cil_married = p1 - 1.96 * np.sqrt(p1 * (1 - p1) / n1)\n",
    "upp_cil_married = p1 + 1.96 * np.sqrt(p1 * (1 - p1) / n1)\n",
    "\n",
    "# calculating confidence interval for unmarried\n",
    "ci_not_married = sm.stats.proportion_confint(67, 67+254)\n",
    "low_cil_notmarried = p2 - 1.96 * np.sqrt(p2 * (1 - p2) / n2)\n",
    "upp_cil_notmarried = p2 + 1.96 * np.sqrt(p2 * (1 - p2) / n2)\n",
    "\n",
    "\n",
    "print(f'Confidence interval for married is between: {ci_married}')\n",
    "# print(low_cil_married, upp_cil_married) to check if the calculation is correct\n",
    "print(f'Confidence interval for not married is between: {ci_not_married}')\n",
    "# print(low_cil_notmarried, upp_cil_notmarried)"
   ]
  },
  {
   "cell_type": "markdown",
   "metadata": {},
   "source": [
    "__Q1a.__ Identify which of the two confidence intervals is wider, and explain why this is the case. "
   ]
  },
  {
   "source": [
    "Not married has a wider confidence interval because the sample is smaller"
   ],
   "cell_type": "markdown",
   "metadata": {}
  },
  {
   "cell_type": "markdown",
   "metadata": {},
   "source": [
    "__Q1b.__ Write 1-2 sentences summarizing these findings for an audience that does not know what a confidence interval is (the goal here is to report the substance of what you learned about how marital status and educational attainment are related, not to teach a person what a confidence interval is)."
   ]
  },
  {
   "source": [
    "We can see that the proportion of graduated married woman is around 36%, bigger than the proportion of unmarried graduated woman, which is around 20%. This can leads us to think that a married woman has more chance of getting a college degree than a not married one. Anyway, we have to consider that we choose to look at wether the women were married at the time of the survey, not at the time of their graduation, and this can lead to some biases in the calculation."
   ],
   "cell_type": "markdown",
   "metadata": {}
  },
  {
   "cell_type": "markdown",
   "metadata": {},
   "source": []
  },
  {
   "cell_type": "markdown",
   "metadata": {},
   "source": [
    "## Question 2\n",
    "\n",
    "Construct 95% confidence intervals for the proportion of smokers who are female, and for the proportion of smokers who are male.  Then construct a 95% confidence interval for the difference between these proportions."
   ]
  },
  {
   "cell_type": "code",
   "execution_count": 93,
   "metadata": {
    "tags": []
   },
   "outputs": [
    {
     "output_type": "stream",
     "name": "stdout",
     "text": [
      "           Proportion  Size\nRIAGENDRx                  \nFemale       0.304845  2972\nMale         0.513258  2753\n\n SMQ020x      No   Yes\nRIAGENDRx            \nFemale     2066   906\nMale       1340  1413 \n\nStandard error for male smokers is 0.009526078653689868\nStandard error for female smokers is :0.008444152146214435\nMale confidence interval: (0.49458749263718593, 0.5319290347874418)\nFemale confidence interval: (0.2882949879861214, 0.32139545615923526)\nConfidence interval for the difference is between -0.2338728044024504 and -0.18295327887682067\n"
     ]
    }
   ],
   "source": [
    "# enter your code here\n",
    "\n",
    "# making data human readable\n",
    "da[\"SMQ020x\"] = da.SMQ020.replace({1: \"Yes\", 2: \"No\", 7: np.nan, 9: np.nan})  # np.nan represents a missing value\n",
    "\n",
    "# creating parsed dataframe and proportion\n",
    "smoke = da[['RIAGENDRx', 'SMQ020x']].dropna()\n",
    "smoker = smoke.groupby('RIAGENDRx')['SMQ020x'].agg([lambda x: np.mean(x == 'Yes'), 'size'])\n",
    "smoker.columns = ['Proportion', 'Size']\n",
    "print(smoker)\n",
    "\n",
    "# creating crosstab\n",
    "smoker_crosstab = pd.crosstab(smoke['RIAGENDRx'], smoke['SMQ020x'])\n",
    "print('\\n', smoker_crosstab, '\\n')\n",
    "\n",
    "# calculating standard errors\n",
    "p_male = smoker.Proportion.Male\n",
    "n_male = smoker.Size.Male\n",
    "se_male = np.sqrt(p_male * (1 - p_male) / n_male)\n",
    "print(f'Standard error for male smokers is {se_male}')\n",
    "\n",
    "p_female = smoker.Proportion.Female\n",
    "n_female = smoker.Size.Female\n",
    "se_female = np.sqrt(p_female * (1 - p_female) / n_female)\n",
    "print(f'Standard error for female smokers is :{se_female}')\n",
    "\n",
    "# calculating confidence interval\n",
    "ci_male = sm.stats.proportion_confint(1413, 1340+1413)\n",
    "ci_female = sm.stats.proportion_confint(906, 2066+906)\n",
    "print(f'Male confidence interval: {ci_male}')\n",
    "print(f'Female confidence interval: {ci_female}')\n",
    "\n",
    "se_diff = np.sqrt(se_female**2 + se_male**2)\n",
    "prop_diff = smoker.Proportion.Female - smoker.Proportion.Male\n",
    "lcb = prop_diff - 2*se_diff\n",
    "ucb = prop_diff + 2*se_diff\n",
    "print(f'Confidence interval for the difference is between {lcb} and {ucb}')"
   ]
  },
  {
   "cell_type": "markdown",
   "metadata": {},
   "source": [
    "__Q2a.__ Discuss why it may be relevant to report the proportions of smokers who are female and male, and contrast this to reporting the proportions of males and females who smoke."
   ]
  },
  {
   "cell_type": "markdown",
   "metadata": {},
   "source": [
    "This will allow us to look at the same data from two different perspective: considering only a smoking sample, we can look at the proportions between males and females, and considering the proportions of male and females who smokes can give us insight about which gender smokes the most."
   ]
  },
  {
   "cell_type": "markdown",
   "metadata": {},
   "source": [
    "__Q2b.__ How does the width of the confidence interval for the difference of the two proportions compare to the widths of the confidence intervals for each proportion separately?"
   ]
  },
  {
   "cell_type": "markdown",
   "metadata": {},
   "source": [
    "The width of the confidence interval for the difference is slightly bigger than each of the separates ones. This is probabilly because we have to account two different proportions, anyway our mean falls again into the confidence interval."
   ]
  },
  {
   "cell_type": "markdown",
   "metadata": {},
   "source": [
    "## Question 3\n",
    "\n",
    "Construct a 95% interval for height ([BMXHT](https://wwwn.cdc.gov/Nchs/Nhanes/2015-2016/BMX_I.htm#BMXHT)) in centimeters.  Then convert height from centimeters to inches by dividing by 2.54, and construct a 95% confidence interval for height in inches.  Finally, convert the endpoints (the lower and upper confidence limits) of the confidence interval from inches to back to centimeters   "
   ]
  },
  {
   "cell_type": "code",
   "execution_count": 100,
   "metadata": {},
   "outputs": [
    {
     "output_type": "stream",
     "name": "stdout",
     "text": [
      "165.88\n166.41\n"
     ]
    }
   ],
   "source": [
    "# enter your code here\n",
    "\n",
    "# calculating mean, sample size and standard deviation\n",
    "height_mean = da['BMXHT'].mean()\n",
    "height_n = da['BMXHT'].count()\n",
    "height_std = np.std(da['BMXHT'])\n",
    "\n",
    "# calculating standard error of the mean\n",
    "se = height_std / np.sqrt(height_n)\n",
    "\n",
    "# calculating lower and upper confidence interval points\n",
    "low_cil = height_mean - 1.96 * se\n",
    "print(round(low_cil, 2))\n",
    "upp_cil = height_mean + 1.96 * se\n",
    "print(round(upp_cil, 2))\n",
    "\n"
   ]
  },
  {
   "cell_type": "code",
   "execution_count": 101,
   "metadata": {},
   "outputs": [
    {
     "output_type": "stream",
     "name": "stdout",
     "text": [
      "65.15\n65.67\n165.4766815778847\n166.8089873803376\n"
     ]
    }
   ],
   "source": [
    "# converting cm to inches\n",
    "height_inches = da['BMXHT'] / 2.54\n",
    "\n",
    "#calculating mean, standard deviation and sample size (should be the same as before)\n",
    "inches_mean = height_inches.mean()\n",
    "inches_std = np.std(da['BMXHT'])\n",
    "inches_n = da['BMXHT'].count()\n",
    "\n",
    "# calculating standard error\n",
    "se_inches = inches_std / np.sqrt(inches_n)\n",
    "\n",
    "# calculating lower and upper confidence interval points\n",
    "low_cil_inches = inches_mean - 1.96 * se_inches\n",
    "print(round(low_cil_inches, 2))\n",
    "upp_cil_inches = inches_mean + 1.96 * se_inches\n",
    "print(round(upp_cil_inches, 2))\n",
    "\n",
    "# converting back to cm\n",
    "print(low_cil_inches * 2.54)\n",
    "print(upp_cil_inches * 2.54)"
   ]
  },
  {
   "cell_type": "markdown",
   "metadata": {},
   "source": [
    "__Q3a.__ Describe how the confidence interval constructed in centimeters relates to the confidence interval constructed in inches."
   ]
  },
  {
   "cell_type": "markdown",
   "metadata": {},
   "source": [
    "There is a small difference between the two, I guess it's because of rounding during the calculation."
   ]
  },
  {
   "cell_type": "markdown",
   "metadata": {},
   "source": [
    "## Question 4\n",
    "\n",
    "Partition the sample based on 10-year age bands, i.e. the resulting groups will consist of people with ages from 18-28, 29-38, etc. Construct 95% confidence intervals for the difference between the mean BMI for females and for males within each age band."
   ]
  },
  {
   "cell_type": "code",
   "execution_count": 10,
   "metadata": {},
   "outputs": [
    {
     "output_type": "execute_result",
     "data": {
      "text/plain": [
       "Text(0, 0.5, 'Female - male BMI difference')"
      ]
     },
     "metadata": {},
     "execution_count": 10
    },
    {
     "output_type": "display_data",
     "data": {
      "text/plain": "<Figure size 432x288 with 1 Axes>",
      "image/svg+xml": "<?xml version=\"1.0\" encoding=\"utf-8\" standalone=\"no\"?>\n<!DOCTYPE svg PUBLIC \"-//W3C//DTD SVG 1.1//EN\"\n  \"http://www.w3.org/Graphics/SVG/1.1/DTD/svg11.dtd\">\n<!-- Created with matplotlib (https://matplotlib.org/) -->\n<svg height=\"262.19625pt\" version=\"1.1\" viewBox=\"0 0 394.160937 262.19625\" width=\"394.160937pt\" xmlns=\"http://www.w3.org/2000/svg\" xmlns:xlink=\"http://www.w3.org/1999/xlink\">\n <defs>\n  <style type=\"text/css\">\n*{stroke-linecap:butt;stroke-linejoin:round;}\n  </style>\n </defs>\n <g id=\"figure_1\">\n  <g id=\"patch_1\">\n   <path d=\"M -0 262.19625 \nL 394.160937 262.19625 \nL 394.160937 0 \nL -0 0 \nz\n\" style=\"fill:none;\"/>\n  </g>\n  <g id=\"axes_1\">\n   <g id=\"patch_2\">\n    <path d=\"M 52.160938 224.64 \nL 386.960938 224.64 \nL 386.960938 7.2 \nL 52.160938 7.2 \nz\n\" style=\"fill:#ffffff;\"/>\n   </g>\n   <g id=\"PathCollection_1\">\n    <defs>\n     <path d=\"M 0 3.383948 \nC 0.897434 3.383948 1.758231 3.027394 2.392813 2.392813 \nC 3.027394 1.758231 3.383948 0.897434 3.383948 0 \nC 3.383948 -0.897434 3.027394 -1.758231 2.392813 -2.392813 \nC 1.758231 -3.027394 0.897434 -3.383948 0 -3.383948 \nC -0.897434 -3.383948 -1.758231 -3.027394 -2.392813 -2.392813 \nC -3.027394 -1.758231 -3.383948 -0.897434 -3.383948 0 \nC -3.383948 0.897434 -3.027394 1.758231 -2.392813 2.392813 \nC -1.758231 3.027394 -0.897434 3.383948 0 3.383948 \nz\n\" id=\"C0_0_aff439fb25\"/>\n    </defs>\n    <g clip-path=\"url(#p2f9c6a39a6)\">\n     <use style=\"stroke:#000000;stroke-width:2.025;\" x=\"80.060938\" xlink:href=\"#C0_0_aff439fb25\" y=\"115.641823\"/>\n    </g>\n    <g clip-path=\"url(#p2f9c6a39a6)\">\n     <use style=\"stroke:#000000;stroke-width:2.025;\" x=\"135.860938\" xlink:href=\"#C0_0_aff439fb25\" y=\"154.348198\"/>\n    </g>\n    <g clip-path=\"url(#p2f9c6a39a6)\">\n     <use style=\"stroke:#000000;stroke-width:2.025;\" x=\"191.660937\" xlink:href=\"#C0_0_aff439fb25\" y=\"87.973825\"/>\n    </g>\n    <g clip-path=\"url(#p2f9c6a39a6)\">\n     <use style=\"stroke:#000000;stroke-width:2.025;\" x=\"247.460938\" xlink:href=\"#C0_0_aff439fb25\" y=\"84.864318\"/>\n    </g>\n    <g clip-path=\"url(#p2f9c6a39a6)\">\n     <use style=\"stroke:#000000;stroke-width:2.025;\" x=\"303.260938\" xlink:href=\"#C0_0_aff439fb25\" y=\"75.040926\"/>\n    </g>\n    <g clip-path=\"url(#p2f9c6a39a6)\">\n     <use style=\"stroke:#000000;stroke-width:2.025;\" x=\"359.060938\" xlink:href=\"#C0_0_aff439fb25\" y=\"109.336766\"/>\n    </g>\n   </g>\n   <g id=\"PathCollection_2\">\n    <defs>\n     <path d=\"M 0 3.383948 \nC 0.897434 3.383948 1.758231 3.027394 2.392813 2.392813 \nC 3.027394 1.758231 3.383948 0.897434 3.383948 0 \nC 3.383948 -0.897434 3.027394 -1.758231 2.392813 -2.392813 \nC 1.758231 -3.027394 0.897434 -3.383948 0 -3.383948 \nC -0.897434 -3.383948 -1.758231 -3.027394 -2.392813 -2.392813 \nC -3.027394 -1.758231 -3.383948 -0.897434 -3.383948 0 \nC -3.383948 0.897434 -3.027394 1.758231 -2.392813 2.392813 \nC -1.758231 3.027394 -0.897434 3.383948 0 3.383948 \nz\n\" id=\"C1_0_88e81efc07\"/>\n    </defs>\n    <g clip-path=\"url(#p2f9c6a39a6)\">\n     <use style=\"fill:#0000ff;stroke:#0000ff;stroke-width:2.025;\" x=\"80.060938\" xlink:href=\"#C1_0_88e81efc07\" y=\"169.636102\"/>\n    </g>\n    <g clip-path=\"url(#p2f9c6a39a6)\">\n     <use style=\"fill:#0000ff;stroke:#0000ff;stroke-width:2.025;\" x=\"135.860938\" xlink:href=\"#C1_0_88e81efc07\" y=\"212.381988\"/>\n    </g>\n    <g clip-path=\"url(#p2f9c6a39a6)\">\n     <use style=\"fill:#0000ff;stroke:#0000ff;stroke-width:2.025;\" x=\"191.660937\" xlink:href=\"#C1_0_88e81efc07\" y=\"142.982042\"/>\n    </g>\n    <g clip-path=\"url(#p2f9c6a39a6)\">\n     <use style=\"fill:#0000ff;stroke:#0000ff;stroke-width:2.025;\" x=\"247.460938\" xlink:href=\"#C1_0_88e81efc07\" y=\"140.183341\"/>\n    </g>\n    <g clip-path=\"url(#p2f9c6a39a6)\">\n     <use style=\"fill:#0000ff;stroke:#0000ff;stroke-width:2.025;\" x=\"303.260938\" xlink:href=\"#C1_0_88e81efc07\" y=\"129.671222\"/>\n    </g>\n    <g clip-path=\"url(#p2f9c6a39a6)\">\n     <use style=\"fill:#0000ff;stroke:#0000ff;stroke-width:2.025;\" x=\"359.060938\" xlink:href=\"#C1_0_88e81efc07\" y=\"153.556849\"/>\n    </g>\n   </g>\n   <g id=\"PathCollection_3\">\n    <defs>\n     <path d=\"M 0 3.383948 \nC 0.897434 3.383948 1.758231 3.027394 2.392813 2.392813 \nC 3.027394 1.758231 3.383948 0.897434 3.383948 0 \nC 3.383948 -0.897434 3.027394 -1.758231 2.392813 -2.392813 \nC 1.758231 -3.027394 0.897434 -3.383948 0 -3.383948 \nC -0.897434 -3.383948 -1.758231 -3.027394 -2.392813 -2.392813 \nC -3.027394 -1.758231 -3.383948 -0.897434 -3.383948 0 \nC -3.383948 0.897434 -3.027394 1.758231 -2.392813 2.392813 \nC -1.758231 3.027394 -0.897434 3.383948 0 3.383948 \nz\n\" id=\"C2_0_6e55bb9cfb\"/>\n    </defs>\n    <g clip-path=\"url(#p2f9c6a39a6)\">\n     <use style=\"fill:#0000ff;stroke:#0000ff;stroke-width:2.025;\" x=\"80.060938\" xlink:href=\"#C2_0_6e55bb9cfb\" y=\"61.647544\"/>\n    </g>\n    <g clip-path=\"url(#p2f9c6a39a6)\">\n     <use style=\"fill:#0000ff;stroke:#0000ff;stroke-width:2.025;\" x=\"135.860938\" xlink:href=\"#C2_0_6e55bb9cfb\" y=\"96.314409\"/>\n    </g>\n    <g clip-path=\"url(#p2f9c6a39a6)\">\n     <use style=\"fill:#0000ff;stroke:#0000ff;stroke-width:2.025;\" x=\"191.660937\" xlink:href=\"#C2_0_6e55bb9cfb\" y=\"32.965607\"/>\n    </g>\n    <g clip-path=\"url(#p2f9c6a39a6)\">\n     <use style=\"fill:#0000ff;stroke:#0000ff;stroke-width:2.025;\" x=\"247.460938\" xlink:href=\"#C2_0_6e55bb9cfb\" y=\"29.545295\"/>\n    </g>\n    <g clip-path=\"url(#p2f9c6a39a6)\">\n     <use style=\"fill:#0000ff;stroke:#0000ff;stroke-width:2.025;\" x=\"303.260938\" xlink:href=\"#C2_0_6e55bb9cfb\" y=\"20.41063\"/>\n    </g>\n    <g clip-path=\"url(#p2f9c6a39a6)\">\n     <use style=\"fill:#0000ff;stroke:#0000ff;stroke-width:2.025;\" x=\"359.060938\" xlink:href=\"#C2_0_6e55bb9cfb\" y=\"65.116684\"/>\n    </g>\n   </g>\n   <g id=\"matplotlib.axis_1\">\n    <g id=\"xtick_1\">\n     <g id=\"line2d_1\">\n      <defs>\n       <path d=\"M 0 0 \nL 0 3.5 \n\" id=\"m26a6738542\" style=\"stroke:#000000;stroke-width:0.8;\"/>\n      </defs>\n      <g>\n       <use style=\"stroke:#000000;stroke-width:0.8;\" x=\"80.060938\" xlink:href=\"#m26a6738542\" y=\"224.64\"/>\n      </g>\n     </g>\n     <g id=\"text_1\">\n      <!-- (18, 28] -->\n      <defs>\n       <path d=\"M 31 75.875 \nQ 24.46875 64.65625 21.28125 53.65625 \nQ 18.109375 42.671875 18.109375 31.390625 \nQ 18.109375 20.125 21.3125 9.0625 \nQ 24.515625 -2 31 -13.1875 \nL 23.1875 -13.1875 \nQ 15.875 -1.703125 12.234375 9.375 \nQ 8.59375 20.453125 8.59375 31.390625 \nQ 8.59375 42.28125 12.203125 53.3125 \nQ 15.828125 64.359375 23.1875 75.875 \nz\n\" id=\"DejaVuSans-40\"/>\n       <path d=\"M 12.40625 8.296875 \nL 28.515625 8.296875 \nL 28.515625 63.921875 \nL 10.984375 60.40625 \nL 10.984375 69.390625 \nL 28.421875 72.90625 \nL 38.28125 72.90625 \nL 38.28125 8.296875 \nL 54.390625 8.296875 \nL 54.390625 0 \nL 12.40625 0 \nz\n\" id=\"DejaVuSans-49\"/>\n       <path d=\"M 31.78125 34.625 \nQ 24.75 34.625 20.71875 30.859375 \nQ 16.703125 27.09375 16.703125 20.515625 \nQ 16.703125 13.921875 20.71875 10.15625 \nQ 24.75 6.390625 31.78125 6.390625 \nQ 38.8125 6.390625 42.859375 10.171875 \nQ 46.921875 13.96875 46.921875 20.515625 \nQ 46.921875 27.09375 42.890625 30.859375 \nQ 38.875 34.625 31.78125 34.625 \nz\nM 21.921875 38.8125 \nQ 15.578125 40.375 12.03125 44.71875 \nQ 8.5 49.078125 8.5 55.328125 \nQ 8.5 64.0625 14.71875 69.140625 \nQ 20.953125 74.21875 31.78125 74.21875 \nQ 42.671875 74.21875 48.875 69.140625 \nQ 55.078125 64.0625 55.078125 55.328125 \nQ 55.078125 49.078125 51.53125 44.71875 \nQ 48 40.375 41.703125 38.8125 \nQ 48.828125 37.15625 52.796875 32.3125 \nQ 56.78125 27.484375 56.78125 20.515625 \nQ 56.78125 9.90625 50.3125 4.234375 \nQ 43.84375 -1.421875 31.78125 -1.421875 \nQ 19.734375 -1.421875 13.25 4.234375 \nQ 6.78125 9.90625 6.78125 20.515625 \nQ 6.78125 27.484375 10.78125 32.3125 \nQ 14.796875 37.15625 21.921875 38.8125 \nz\nM 18.3125 54.390625 \nQ 18.3125 48.734375 21.84375 45.5625 \nQ 25.390625 42.390625 31.78125 42.390625 \nQ 38.140625 42.390625 41.71875 45.5625 \nQ 45.3125 48.734375 45.3125 54.390625 \nQ 45.3125 60.0625 41.71875 63.234375 \nQ 38.140625 66.40625 31.78125 66.40625 \nQ 25.390625 66.40625 21.84375 63.234375 \nQ 18.3125 60.0625 18.3125 54.390625 \nz\n\" id=\"DejaVuSans-56\"/>\n       <path d=\"M 11.71875 12.40625 \nL 22.015625 12.40625 \nL 22.015625 4 \nL 14.015625 -11.625 \nL 7.71875 -11.625 \nL 11.71875 4 \nz\n\" id=\"DejaVuSans-44\"/>\n       <path id=\"DejaVuSans-32\"/>\n       <path d=\"M 19.1875 8.296875 \nL 53.609375 8.296875 \nL 53.609375 0 \nL 7.328125 0 \nL 7.328125 8.296875 \nQ 12.9375 14.109375 22.625 23.890625 \nQ 32.328125 33.6875 34.8125 36.53125 \nQ 39.546875 41.84375 41.421875 45.53125 \nQ 43.3125 49.21875 43.3125 52.78125 \nQ 43.3125 58.59375 39.234375 62.25 \nQ 35.15625 65.921875 28.609375 65.921875 \nQ 23.96875 65.921875 18.8125 64.3125 \nQ 13.671875 62.703125 7.8125 59.421875 \nL 7.8125 69.390625 \nQ 13.765625 71.78125 18.9375 73 \nQ 24.125 74.21875 28.421875 74.21875 \nQ 39.75 74.21875 46.484375 68.546875 \nQ 53.21875 62.890625 53.21875 53.421875 \nQ 53.21875 48.921875 51.53125 44.890625 \nQ 49.859375 40.875 45.40625 35.40625 \nQ 44.1875 33.984375 37.640625 27.21875 \nQ 31.109375 20.453125 19.1875 8.296875 \nz\n\" id=\"DejaVuSans-50\"/>\n       <path d=\"M 30.421875 75.984375 \nL 30.421875 -13.1875 \nL 9.71875 -13.1875 \nL 9.71875 -6.203125 \nL 21.390625 -6.203125 \nL 21.390625 69 \nL 9.71875 69 \nL 9.71875 75.984375 \nz\n\" id=\"DejaVuSans-93\"/>\n      </defs>\n      <g transform=\"translate(60.25625 239.238437)scale(0.1 -0.1)\">\n       <use xlink:href=\"#DejaVuSans-40\"/>\n       <use x=\"39.013672\" xlink:href=\"#DejaVuSans-49\"/>\n       <use x=\"102.636719\" xlink:href=\"#DejaVuSans-56\"/>\n       <use x=\"166.259766\" xlink:href=\"#DejaVuSans-44\"/>\n       <use x=\"198.046875\" xlink:href=\"#DejaVuSans-32\"/>\n       <use x=\"229.833984\" xlink:href=\"#DejaVuSans-50\"/>\n       <use x=\"293.457031\" xlink:href=\"#DejaVuSans-56\"/>\n       <use x=\"357.080078\" xlink:href=\"#DejaVuSans-93\"/>\n      </g>\n     </g>\n    </g>\n    <g id=\"xtick_2\">\n     <g id=\"line2d_2\">\n      <g>\n       <use style=\"stroke:#000000;stroke-width:0.8;\" x=\"135.860938\" xlink:href=\"#m26a6738542\" y=\"224.64\"/>\n      </g>\n     </g>\n     <g id=\"text_2\">\n      <!-- (29, 38] -->\n      <defs>\n       <path d=\"M 10.984375 1.515625 \nL 10.984375 10.5 \nQ 14.703125 8.734375 18.5 7.8125 \nQ 22.3125 6.890625 25.984375 6.890625 \nQ 35.75 6.890625 40.890625 13.453125 \nQ 46.046875 20.015625 46.78125 33.40625 \nQ 43.953125 29.203125 39.59375 26.953125 \nQ 35.25 24.703125 29.984375 24.703125 \nQ 19.046875 24.703125 12.671875 31.3125 \nQ 6.296875 37.9375 6.296875 49.421875 \nQ 6.296875 60.640625 12.9375 67.421875 \nQ 19.578125 74.21875 30.609375 74.21875 \nQ 43.265625 74.21875 49.921875 64.515625 \nQ 56.59375 54.828125 56.59375 36.375 \nQ 56.59375 19.140625 48.40625 8.859375 \nQ 40.234375 -1.421875 26.421875 -1.421875 \nQ 22.703125 -1.421875 18.890625 -0.6875 \nQ 15.09375 0.046875 10.984375 1.515625 \nz\nM 30.609375 32.421875 \nQ 37.25 32.421875 41.125 36.953125 \nQ 45.015625 41.5 45.015625 49.421875 \nQ 45.015625 57.28125 41.125 61.84375 \nQ 37.25 66.40625 30.609375 66.40625 \nQ 23.96875 66.40625 20.09375 61.84375 \nQ 16.21875 57.28125 16.21875 49.421875 \nQ 16.21875 41.5 20.09375 36.953125 \nQ 23.96875 32.421875 30.609375 32.421875 \nz\n\" id=\"DejaVuSans-57\"/>\n       <path d=\"M 40.578125 39.3125 \nQ 47.65625 37.796875 51.625 33 \nQ 55.609375 28.21875 55.609375 21.1875 \nQ 55.609375 10.40625 48.1875 4.484375 \nQ 40.765625 -1.421875 27.09375 -1.421875 \nQ 22.515625 -1.421875 17.65625 -0.515625 \nQ 12.796875 0.390625 7.625 2.203125 \nL 7.625 11.71875 \nQ 11.71875 9.328125 16.59375 8.109375 \nQ 21.484375 6.890625 26.8125 6.890625 \nQ 36.078125 6.890625 40.9375 10.546875 \nQ 45.796875 14.203125 45.796875 21.1875 \nQ 45.796875 27.640625 41.28125 31.265625 \nQ 36.765625 34.90625 28.71875 34.90625 \nL 20.21875 34.90625 \nL 20.21875 43.015625 \nL 29.109375 43.015625 \nQ 36.375 43.015625 40.234375 45.921875 \nQ 44.09375 48.828125 44.09375 54.296875 \nQ 44.09375 59.90625 40.109375 62.90625 \nQ 36.140625 65.921875 28.71875 65.921875 \nQ 24.65625 65.921875 20.015625 65.03125 \nQ 15.375 64.15625 9.8125 62.3125 \nL 9.8125 71.09375 \nQ 15.4375 72.65625 20.34375 73.4375 \nQ 25.25 74.21875 29.59375 74.21875 \nQ 40.828125 74.21875 47.359375 69.109375 \nQ 53.90625 64.015625 53.90625 55.328125 \nQ 53.90625 49.265625 50.4375 45.09375 \nQ 46.96875 40.921875 40.578125 39.3125 \nz\n\" id=\"DejaVuSans-51\"/>\n      </defs>\n      <g transform=\"translate(116.05625 239.238437)scale(0.1 -0.1)\">\n       <use xlink:href=\"#DejaVuSans-40\"/>\n       <use x=\"39.013672\" xlink:href=\"#DejaVuSans-50\"/>\n       <use x=\"102.636719\" xlink:href=\"#DejaVuSans-57\"/>\n       <use x=\"166.259766\" xlink:href=\"#DejaVuSans-44\"/>\n       <use x=\"198.046875\" xlink:href=\"#DejaVuSans-32\"/>\n       <use x=\"229.833984\" xlink:href=\"#DejaVuSans-51\"/>\n       <use x=\"293.457031\" xlink:href=\"#DejaVuSans-56\"/>\n       <use x=\"357.080078\" xlink:href=\"#DejaVuSans-93\"/>\n      </g>\n     </g>\n    </g>\n    <g id=\"xtick_3\">\n     <g id=\"line2d_3\">\n      <g>\n       <use style=\"stroke:#000000;stroke-width:0.8;\" x=\"191.660937\" xlink:href=\"#m26a6738542\" y=\"224.64\"/>\n      </g>\n     </g>\n     <g id=\"text_3\">\n      <!-- (39, 48] -->\n      <defs>\n       <path d=\"M 37.796875 64.3125 \nL 12.890625 25.390625 \nL 37.796875 25.390625 \nz\nM 35.203125 72.90625 \nL 47.609375 72.90625 \nL 47.609375 25.390625 \nL 58.015625 25.390625 \nL 58.015625 17.1875 \nL 47.609375 17.1875 \nL 47.609375 0 \nL 37.796875 0 \nL 37.796875 17.1875 \nL 4.890625 17.1875 \nL 4.890625 26.703125 \nz\n\" id=\"DejaVuSans-52\"/>\n      </defs>\n      <g transform=\"translate(171.85625 239.238437)scale(0.1 -0.1)\">\n       <use xlink:href=\"#DejaVuSans-40\"/>\n       <use x=\"39.013672\" xlink:href=\"#DejaVuSans-51\"/>\n       <use x=\"102.636719\" xlink:href=\"#DejaVuSans-57\"/>\n       <use x=\"166.259766\" xlink:href=\"#DejaVuSans-44\"/>\n       <use x=\"198.046875\" xlink:href=\"#DejaVuSans-32\"/>\n       <use x=\"229.833984\" xlink:href=\"#DejaVuSans-52\"/>\n       <use x=\"293.457031\" xlink:href=\"#DejaVuSans-56\"/>\n       <use x=\"357.080078\" xlink:href=\"#DejaVuSans-93\"/>\n      </g>\n     </g>\n    </g>\n    <g id=\"xtick_4\">\n     <g id=\"line2d_4\">\n      <g>\n       <use style=\"stroke:#000000;stroke-width:0.8;\" x=\"247.460938\" xlink:href=\"#m26a6738542\" y=\"224.64\"/>\n      </g>\n     </g>\n     <g id=\"text_4\">\n      <!-- (49, 58] -->\n      <defs>\n       <path d=\"M 10.796875 72.90625 \nL 49.515625 72.90625 \nL 49.515625 64.59375 \nL 19.828125 64.59375 \nL 19.828125 46.734375 \nQ 21.96875 47.46875 24.109375 47.828125 \nQ 26.265625 48.1875 28.421875 48.1875 \nQ 40.625 48.1875 47.75 41.5 \nQ 54.890625 34.8125 54.890625 23.390625 \nQ 54.890625 11.625 47.5625 5.09375 \nQ 40.234375 -1.421875 26.90625 -1.421875 \nQ 22.3125 -1.421875 17.546875 -0.640625 \nQ 12.796875 0.140625 7.71875 1.703125 \nL 7.71875 11.625 \nQ 12.109375 9.234375 16.796875 8.0625 \nQ 21.484375 6.890625 26.703125 6.890625 \nQ 35.15625 6.890625 40.078125 11.328125 \nQ 45.015625 15.765625 45.015625 23.390625 \nQ 45.015625 31 40.078125 35.4375 \nQ 35.15625 39.890625 26.703125 39.890625 \nQ 22.75 39.890625 18.8125 39.015625 \nQ 14.890625 38.140625 10.796875 36.28125 \nz\n\" id=\"DejaVuSans-53\"/>\n      </defs>\n      <g transform=\"translate(227.65625 239.238437)scale(0.1 -0.1)\">\n       <use xlink:href=\"#DejaVuSans-40\"/>\n       <use x=\"39.013672\" xlink:href=\"#DejaVuSans-52\"/>\n       <use x=\"102.636719\" xlink:href=\"#DejaVuSans-57\"/>\n       <use x=\"166.259766\" xlink:href=\"#DejaVuSans-44\"/>\n       <use x=\"198.046875\" xlink:href=\"#DejaVuSans-32\"/>\n       <use x=\"229.833984\" xlink:href=\"#DejaVuSans-53\"/>\n       <use x=\"293.457031\" xlink:href=\"#DejaVuSans-56\"/>\n       <use x=\"357.080078\" xlink:href=\"#DejaVuSans-93\"/>\n      </g>\n     </g>\n    </g>\n    <g id=\"xtick_5\">\n     <g id=\"line2d_5\">\n      <g>\n       <use style=\"stroke:#000000;stroke-width:0.8;\" x=\"303.260938\" xlink:href=\"#m26a6738542\" y=\"224.64\"/>\n      </g>\n     </g>\n     <g id=\"text_5\">\n      <!-- (59, 68] -->\n      <defs>\n       <path d=\"M 33.015625 40.375 \nQ 26.375 40.375 22.484375 35.828125 \nQ 18.609375 31.296875 18.609375 23.390625 \nQ 18.609375 15.53125 22.484375 10.953125 \nQ 26.375 6.390625 33.015625 6.390625 \nQ 39.65625 6.390625 43.53125 10.953125 \nQ 47.40625 15.53125 47.40625 23.390625 \nQ 47.40625 31.296875 43.53125 35.828125 \nQ 39.65625 40.375 33.015625 40.375 \nz\nM 52.59375 71.296875 \nL 52.59375 62.3125 \nQ 48.875 64.0625 45.09375 64.984375 \nQ 41.3125 65.921875 37.59375 65.921875 \nQ 27.828125 65.921875 22.671875 59.328125 \nQ 17.53125 52.734375 16.796875 39.40625 \nQ 19.671875 43.65625 24.015625 45.921875 \nQ 28.375 48.1875 33.59375 48.1875 \nQ 44.578125 48.1875 50.953125 41.515625 \nQ 57.328125 34.859375 57.328125 23.390625 \nQ 57.328125 12.15625 50.6875 5.359375 \nQ 44.046875 -1.421875 33.015625 -1.421875 \nQ 20.359375 -1.421875 13.671875 8.265625 \nQ 6.984375 17.96875 6.984375 36.375 \nQ 6.984375 53.65625 15.1875 63.9375 \nQ 23.390625 74.21875 37.203125 74.21875 \nQ 40.921875 74.21875 44.703125 73.484375 \nQ 48.484375 72.75 52.59375 71.296875 \nz\n\" id=\"DejaVuSans-54\"/>\n      </defs>\n      <g transform=\"translate(283.45625 239.238437)scale(0.1 -0.1)\">\n       <use xlink:href=\"#DejaVuSans-40\"/>\n       <use x=\"39.013672\" xlink:href=\"#DejaVuSans-53\"/>\n       <use x=\"102.636719\" xlink:href=\"#DejaVuSans-57\"/>\n       <use x=\"166.259766\" xlink:href=\"#DejaVuSans-44\"/>\n       <use x=\"198.046875\" xlink:href=\"#DejaVuSans-32\"/>\n       <use x=\"229.833984\" xlink:href=\"#DejaVuSans-54\"/>\n       <use x=\"293.457031\" xlink:href=\"#DejaVuSans-56\"/>\n       <use x=\"357.080078\" xlink:href=\"#DejaVuSans-93\"/>\n      </g>\n     </g>\n    </g>\n    <g id=\"xtick_6\">\n     <g id=\"line2d_6\">\n      <g>\n       <use style=\"stroke:#000000;stroke-width:0.8;\" x=\"359.060938\" xlink:href=\"#m26a6738542\" y=\"224.64\"/>\n      </g>\n     </g>\n     <g id=\"text_6\">\n      <!-- (69, 80] -->\n      <defs>\n       <path d=\"M 31.78125 66.40625 \nQ 24.171875 66.40625 20.328125 58.90625 \nQ 16.5 51.421875 16.5 36.375 \nQ 16.5 21.390625 20.328125 13.890625 \nQ 24.171875 6.390625 31.78125 6.390625 \nQ 39.453125 6.390625 43.28125 13.890625 \nQ 47.125 21.390625 47.125 36.375 \nQ 47.125 51.421875 43.28125 58.90625 \nQ 39.453125 66.40625 31.78125 66.40625 \nz\nM 31.78125 74.21875 \nQ 44.046875 74.21875 50.515625 64.515625 \nQ 56.984375 54.828125 56.984375 36.375 \nQ 56.984375 17.96875 50.515625 8.265625 \nQ 44.046875 -1.421875 31.78125 -1.421875 \nQ 19.53125 -1.421875 13.0625 8.265625 \nQ 6.59375 17.96875 6.59375 36.375 \nQ 6.59375 54.828125 13.0625 64.515625 \nQ 19.53125 74.21875 31.78125 74.21875 \nz\n\" id=\"DejaVuSans-48\"/>\n      </defs>\n      <g transform=\"translate(339.25625 239.238437)scale(0.1 -0.1)\">\n       <use xlink:href=\"#DejaVuSans-40\"/>\n       <use x=\"39.013672\" xlink:href=\"#DejaVuSans-54\"/>\n       <use x=\"102.636719\" xlink:href=\"#DejaVuSans-57\"/>\n       <use x=\"166.259766\" xlink:href=\"#DejaVuSans-44\"/>\n       <use x=\"198.046875\" xlink:href=\"#DejaVuSans-32\"/>\n       <use x=\"229.833984\" xlink:href=\"#DejaVuSans-56\"/>\n       <use x=\"293.457031\" xlink:href=\"#DejaVuSans-48\"/>\n       <use x=\"357.080078\" xlink:href=\"#DejaVuSans-93\"/>\n      </g>\n     </g>\n    </g>\n    <g id=\"text_7\">\n     <!-- Age group -->\n     <defs>\n      <path d=\"M 34.1875 63.1875 \nL 20.796875 26.90625 \nL 47.609375 26.90625 \nz\nM 28.609375 72.90625 \nL 39.796875 72.90625 \nL 67.578125 0 \nL 57.328125 0 \nL 50.6875 18.703125 \nL 17.828125 18.703125 \nL 11.1875 0 \nL 0.78125 0 \nz\n\" id=\"DejaVuSans-65\"/>\n      <path d=\"M 45.40625 27.984375 \nQ 45.40625 37.75 41.375 43.109375 \nQ 37.359375 48.484375 30.078125 48.484375 \nQ 22.859375 48.484375 18.828125 43.109375 \nQ 14.796875 37.75 14.796875 27.984375 \nQ 14.796875 18.265625 18.828125 12.890625 \nQ 22.859375 7.515625 30.078125 7.515625 \nQ 37.359375 7.515625 41.375 12.890625 \nQ 45.40625 18.265625 45.40625 27.984375 \nz\nM 54.390625 6.78125 \nQ 54.390625 -7.171875 48.1875 -13.984375 \nQ 42 -20.796875 29.203125 -20.796875 \nQ 24.46875 -20.796875 20.265625 -20.09375 \nQ 16.0625 -19.390625 12.109375 -17.921875 \nL 12.109375 -9.1875 \nQ 16.0625 -11.328125 19.921875 -12.34375 \nQ 23.78125 -13.375 27.78125 -13.375 \nQ 36.625 -13.375 41.015625 -8.765625 \nQ 45.40625 -4.15625 45.40625 5.171875 \nL 45.40625 9.625 \nQ 42.625 4.78125 38.28125 2.390625 \nQ 33.9375 0 27.875 0 \nQ 17.828125 0 11.671875 7.65625 \nQ 5.515625 15.328125 5.515625 27.984375 \nQ 5.515625 40.671875 11.671875 48.328125 \nQ 17.828125 56 27.875 56 \nQ 33.9375 56 38.28125 53.609375 \nQ 42.625 51.21875 45.40625 46.390625 \nL 45.40625 54.6875 \nL 54.390625 54.6875 \nz\n\" id=\"DejaVuSans-103\"/>\n      <path d=\"M 56.203125 29.59375 \nL 56.203125 25.203125 \nL 14.890625 25.203125 \nQ 15.484375 15.921875 20.484375 11.0625 \nQ 25.484375 6.203125 34.421875 6.203125 \nQ 39.59375 6.203125 44.453125 7.46875 \nQ 49.3125 8.734375 54.109375 11.28125 \nL 54.109375 2.78125 \nQ 49.265625 0.734375 44.1875 -0.34375 \nQ 39.109375 -1.421875 33.890625 -1.421875 \nQ 20.796875 -1.421875 13.15625 6.1875 \nQ 5.515625 13.8125 5.515625 26.8125 \nQ 5.515625 40.234375 12.765625 48.109375 \nQ 20.015625 56 32.328125 56 \nQ 43.359375 56 49.78125 48.890625 \nQ 56.203125 41.796875 56.203125 29.59375 \nz\nM 47.21875 32.234375 \nQ 47.125 39.59375 43.09375 43.984375 \nQ 39.0625 48.390625 32.421875 48.390625 \nQ 24.90625 48.390625 20.390625 44.140625 \nQ 15.875 39.890625 15.1875 32.171875 \nz\n\" id=\"DejaVuSans-101\"/>\n      <path d=\"M 41.109375 46.296875 \nQ 39.59375 47.171875 37.8125 47.578125 \nQ 36.03125 48 33.890625 48 \nQ 26.265625 48 22.1875 43.046875 \nQ 18.109375 38.09375 18.109375 28.8125 \nL 18.109375 0 \nL 9.078125 0 \nL 9.078125 54.6875 \nL 18.109375 54.6875 \nL 18.109375 46.1875 \nQ 20.953125 51.171875 25.484375 53.578125 \nQ 30.03125 56 36.53125 56 \nQ 37.453125 56 38.578125 55.875 \nQ 39.703125 55.765625 41.0625 55.515625 \nz\n\" id=\"DejaVuSans-114\"/>\n      <path d=\"M 30.609375 48.390625 \nQ 23.390625 48.390625 19.1875 42.75 \nQ 14.984375 37.109375 14.984375 27.296875 \nQ 14.984375 17.484375 19.15625 11.84375 \nQ 23.34375 6.203125 30.609375 6.203125 \nQ 37.796875 6.203125 41.984375 11.859375 \nQ 46.1875 17.53125 46.1875 27.296875 \nQ 46.1875 37.015625 41.984375 42.703125 \nQ 37.796875 48.390625 30.609375 48.390625 \nz\nM 30.609375 56 \nQ 42.328125 56 49.015625 48.375 \nQ 55.71875 40.765625 55.71875 27.296875 \nQ 55.71875 13.875 49.015625 6.21875 \nQ 42.328125 -1.421875 30.609375 -1.421875 \nQ 18.84375 -1.421875 12.171875 6.21875 \nQ 5.515625 13.875 5.515625 27.296875 \nQ 5.515625 40.765625 12.171875 48.375 \nQ 18.84375 56 30.609375 56 \nz\n\" id=\"DejaVuSans-111\"/>\n      <path d=\"M 8.5 21.578125 \nL 8.5 54.6875 \nL 17.484375 54.6875 \nL 17.484375 21.921875 \nQ 17.484375 14.15625 20.5 10.265625 \nQ 23.53125 6.390625 29.59375 6.390625 \nQ 36.859375 6.390625 41.078125 11.03125 \nQ 45.3125 15.671875 45.3125 23.6875 \nL 45.3125 54.6875 \nL 54.296875 54.6875 \nL 54.296875 0 \nL 45.3125 0 \nL 45.3125 8.40625 \nQ 42.046875 3.421875 37.71875 1 \nQ 33.40625 -1.421875 27.6875 -1.421875 \nQ 18.265625 -1.421875 13.375 4.4375 \nQ 8.5 10.296875 8.5 21.578125 \nz\nM 31.109375 56 \nz\n\" id=\"DejaVuSans-117\"/>\n      <path d=\"M 18.109375 8.203125 \nL 18.109375 -20.796875 \nL 9.078125 -20.796875 \nL 9.078125 54.6875 \nL 18.109375 54.6875 \nL 18.109375 46.390625 \nQ 20.953125 51.265625 25.265625 53.625 \nQ 29.59375 56 35.59375 56 \nQ 45.5625 56 51.78125 48.09375 \nQ 58.015625 40.1875 58.015625 27.296875 \nQ 58.015625 14.40625 51.78125 6.484375 \nQ 45.5625 -1.421875 35.59375 -1.421875 \nQ 29.59375 -1.421875 25.265625 0.953125 \nQ 20.953125 3.328125 18.109375 8.203125 \nz\nM 48.6875 27.296875 \nQ 48.6875 37.203125 44.609375 42.84375 \nQ 40.53125 48.484375 33.40625 48.484375 \nQ 26.265625 48.484375 22.1875 42.84375 \nQ 18.109375 37.203125 18.109375 27.296875 \nQ 18.109375 17.390625 22.1875 11.75 \nQ 26.265625 6.109375 33.40625 6.109375 \nQ 40.53125 6.109375 44.609375 11.75 \nQ 48.6875 17.390625 48.6875 27.296875 \nz\n\" id=\"DejaVuSans-112\"/>\n     </defs>\n     <g transform=\"translate(193.670313 252.916562)scale(0.1 -0.1)\">\n      <use xlink:href=\"#DejaVuSans-65\"/>\n      <use x=\"68.408203\" xlink:href=\"#DejaVuSans-103\"/>\n      <use x=\"131.884766\" xlink:href=\"#DejaVuSans-101\"/>\n      <use x=\"193.408203\" xlink:href=\"#DejaVuSans-32\"/>\n      <use x=\"225.195312\" xlink:href=\"#DejaVuSans-103\"/>\n      <use x=\"288.671875\" xlink:href=\"#DejaVuSans-114\"/>\n      <use x=\"329.753906\" xlink:href=\"#DejaVuSans-111\"/>\n      <use x=\"390.935547\" xlink:href=\"#DejaVuSans-117\"/>\n      <use x=\"454.314453\" xlink:href=\"#DejaVuSans-112\"/>\n     </g>\n    </g>\n   </g>\n   <g id=\"matplotlib.axis_2\">\n    <g id=\"ytick_1\">\n     <g id=\"line2d_7\">\n      <defs>\n       <path d=\"M 0 0 \nL -3.5 0 \n\" id=\"m548feac387\" style=\"stroke:#000000;stroke-width:0.8;\"/>\n      </defs>\n      <g>\n       <use style=\"stroke:#000000;stroke-width:0.8;\" x=\"52.160938\" xlink:href=\"#m548feac387\" y=\"200.0378\"/>\n      </g>\n     </g>\n     <g id=\"text_8\">\n      <!-- −0.5 -->\n      <defs>\n       <path d=\"M 10.59375 35.5 \nL 73.1875 35.5 \nL 73.1875 27.203125 \nL 10.59375 27.203125 \nz\n\" id=\"DejaVuSans-8722\"/>\n       <path d=\"M 10.6875 12.40625 \nL 21 12.40625 \nL 21 0 \nL 10.6875 0 \nz\n\" id=\"DejaVuSans-46\"/>\n      </defs>\n      <g transform=\"translate(20.878125 203.837019)scale(0.1 -0.1)\">\n       <use xlink:href=\"#DejaVuSans-8722\"/>\n       <use x=\"83.789062\" xlink:href=\"#DejaVuSans-48\"/>\n       <use x=\"147.412109\" xlink:href=\"#DejaVuSans-46\"/>\n       <use x=\"179.199219\" xlink:href=\"#DejaVuSans-53\"/>\n      </g>\n     </g>\n    </g>\n    <g id=\"ytick_2\">\n     <g id=\"line2d_8\">\n      <g>\n       <use style=\"stroke:#000000;stroke-width:0.8;\" x=\"52.160938\" xlink:href=\"#m548feac387\" y=\"171.15974\"/>\n      </g>\n     </g>\n     <g id=\"text_9\">\n      <!-- 0.0 -->\n      <g transform=\"translate(29.257813 174.958959)scale(0.1 -0.1)\">\n       <use xlink:href=\"#DejaVuSans-48\"/>\n       <use x=\"63.623047\" xlink:href=\"#DejaVuSans-46\"/>\n       <use x=\"95.410156\" xlink:href=\"#DejaVuSans-48\"/>\n      </g>\n     </g>\n    </g>\n    <g id=\"ytick_3\">\n     <g id=\"line2d_9\">\n      <g>\n       <use style=\"stroke:#000000;stroke-width:0.8;\" x=\"52.160938\" xlink:href=\"#m548feac387\" y=\"142.281681\"/>\n      </g>\n     </g>\n     <g id=\"text_10\">\n      <!-- 0.5 -->\n      <g transform=\"translate(29.257813 146.0809)scale(0.1 -0.1)\">\n       <use xlink:href=\"#DejaVuSans-48\"/>\n       <use x=\"63.623047\" xlink:href=\"#DejaVuSans-46\"/>\n       <use x=\"95.410156\" xlink:href=\"#DejaVuSans-53\"/>\n      </g>\n     </g>\n    </g>\n    <g id=\"ytick_4\">\n     <g id=\"line2d_10\">\n      <g>\n       <use style=\"stroke:#000000;stroke-width:0.8;\" x=\"52.160938\" xlink:href=\"#m548feac387\" y=\"113.403621\"/>\n      </g>\n     </g>\n     <g id=\"text_11\">\n      <!-- 1.0 -->\n      <g transform=\"translate(29.257813 117.20284)scale(0.1 -0.1)\">\n       <use xlink:href=\"#DejaVuSans-49\"/>\n       <use x=\"63.623047\" xlink:href=\"#DejaVuSans-46\"/>\n       <use x=\"95.410156\" xlink:href=\"#DejaVuSans-48\"/>\n      </g>\n     </g>\n    </g>\n    <g id=\"ytick_5\">\n     <g id=\"line2d_11\">\n      <g>\n       <use style=\"stroke:#000000;stroke-width:0.8;\" x=\"52.160938\" xlink:href=\"#m548feac387\" y=\"84.525562\"/>\n      </g>\n     </g>\n     <g id=\"text_12\">\n      <!-- 1.5 -->\n      <g transform=\"translate(29.257813 88.32478)scale(0.1 -0.1)\">\n       <use xlink:href=\"#DejaVuSans-49\"/>\n       <use x=\"63.623047\" xlink:href=\"#DejaVuSans-46\"/>\n       <use x=\"95.410156\" xlink:href=\"#DejaVuSans-53\"/>\n      </g>\n     </g>\n    </g>\n    <g id=\"ytick_6\">\n     <g id=\"line2d_12\">\n      <g>\n       <use style=\"stroke:#000000;stroke-width:0.8;\" x=\"52.160938\" xlink:href=\"#m548feac387\" y=\"55.647502\"/>\n      </g>\n     </g>\n     <g id=\"text_13\">\n      <!-- 2.0 -->\n      <g transform=\"translate(29.257813 59.446721)scale(0.1 -0.1)\">\n       <use xlink:href=\"#DejaVuSans-50\"/>\n       <use x=\"63.623047\" xlink:href=\"#DejaVuSans-46\"/>\n       <use x=\"95.410156\" xlink:href=\"#DejaVuSans-48\"/>\n      </g>\n     </g>\n    </g>\n    <g id=\"ytick_7\">\n     <g id=\"line2d_13\">\n      <g>\n       <use style=\"stroke:#000000;stroke-width:0.8;\" x=\"52.160938\" xlink:href=\"#m548feac387\" y=\"26.769442\"/>\n      </g>\n     </g>\n     <g id=\"text_14\">\n      <!-- 2.5 -->\n      <g transform=\"translate(29.257813 30.568661)scale(0.1 -0.1)\">\n       <use xlink:href=\"#DejaVuSans-50\"/>\n       <use x=\"63.623047\" xlink:href=\"#DejaVuSans-46\"/>\n       <use x=\"95.410156\" xlink:href=\"#DejaVuSans-53\"/>\n      </g>\n     </g>\n    </g>\n    <g id=\"text_15\">\n     <!-- Female - male BMI difference -->\n     <defs>\n      <path d=\"M 9.8125 72.90625 \nL 51.703125 72.90625 \nL 51.703125 64.59375 \nL 19.671875 64.59375 \nL 19.671875 43.109375 \nL 48.578125 43.109375 \nL 48.578125 34.8125 \nL 19.671875 34.8125 \nL 19.671875 0 \nL 9.8125 0 \nz\n\" id=\"DejaVuSans-70\"/>\n      <path d=\"M 52 44.1875 \nQ 55.375 50.25 60.0625 53.125 \nQ 64.75 56 71.09375 56 \nQ 79.640625 56 84.28125 50.015625 \nQ 88.921875 44.046875 88.921875 33.015625 \nL 88.921875 0 \nL 79.890625 0 \nL 79.890625 32.71875 \nQ 79.890625 40.578125 77.09375 44.375 \nQ 74.3125 48.1875 68.609375 48.1875 \nQ 61.625 48.1875 57.5625 43.546875 \nQ 53.515625 38.921875 53.515625 30.90625 \nL 53.515625 0 \nL 44.484375 0 \nL 44.484375 32.71875 \nQ 44.484375 40.625 41.703125 44.40625 \nQ 38.921875 48.1875 33.109375 48.1875 \nQ 26.21875 48.1875 22.15625 43.53125 \nQ 18.109375 38.875 18.109375 30.90625 \nL 18.109375 0 \nL 9.078125 0 \nL 9.078125 54.6875 \nL 18.109375 54.6875 \nL 18.109375 46.1875 \nQ 21.1875 51.21875 25.484375 53.609375 \nQ 29.78125 56 35.6875 56 \nQ 41.65625 56 45.828125 52.96875 \nQ 50 49.953125 52 44.1875 \nz\n\" id=\"DejaVuSans-109\"/>\n      <path d=\"M 34.28125 27.484375 \nQ 23.390625 27.484375 19.1875 25 \nQ 14.984375 22.515625 14.984375 16.5 \nQ 14.984375 11.71875 18.140625 8.90625 \nQ 21.296875 6.109375 26.703125 6.109375 \nQ 34.1875 6.109375 38.703125 11.40625 \nQ 43.21875 16.703125 43.21875 25.484375 \nL 43.21875 27.484375 \nz\nM 52.203125 31.203125 \nL 52.203125 0 \nL 43.21875 0 \nL 43.21875 8.296875 \nQ 40.140625 3.328125 35.546875 0.953125 \nQ 30.953125 -1.421875 24.3125 -1.421875 \nQ 15.921875 -1.421875 10.953125 3.296875 \nQ 6 8.015625 6 15.921875 \nQ 6 25.140625 12.171875 29.828125 \nQ 18.359375 34.515625 30.609375 34.515625 \nL 43.21875 34.515625 \nL 43.21875 35.40625 \nQ 43.21875 41.609375 39.140625 45 \nQ 35.0625 48.390625 27.6875 48.390625 \nQ 23 48.390625 18.546875 47.265625 \nQ 14.109375 46.140625 10.015625 43.890625 \nL 10.015625 52.203125 \nQ 14.9375 54.109375 19.578125 55.046875 \nQ 24.21875 56 28.609375 56 \nQ 40.484375 56 46.34375 49.84375 \nQ 52.203125 43.703125 52.203125 31.203125 \nz\n\" id=\"DejaVuSans-97\"/>\n      <path d=\"M 9.421875 75.984375 \nL 18.40625 75.984375 \nL 18.40625 0 \nL 9.421875 0 \nz\n\" id=\"DejaVuSans-108\"/>\n      <path d=\"M 4.890625 31.390625 \nL 31.203125 31.390625 \nL 31.203125 23.390625 \nL 4.890625 23.390625 \nz\n\" id=\"DejaVuSans-45\"/>\n      <path d=\"M 19.671875 34.8125 \nL 19.671875 8.109375 \nL 35.5 8.109375 \nQ 43.453125 8.109375 47.28125 11.40625 \nQ 51.125 14.703125 51.125 21.484375 \nQ 51.125 28.328125 47.28125 31.5625 \nQ 43.453125 34.8125 35.5 34.8125 \nz\nM 19.671875 64.796875 \nL 19.671875 42.828125 \nL 34.28125 42.828125 \nQ 41.5 42.828125 45.03125 45.53125 \nQ 48.578125 48.25 48.578125 53.8125 \nQ 48.578125 59.328125 45.03125 62.0625 \nQ 41.5 64.796875 34.28125 64.796875 \nz\nM 9.8125 72.90625 \nL 35.015625 72.90625 \nQ 46.296875 72.90625 52.390625 68.21875 \nQ 58.5 63.53125 58.5 54.890625 \nQ 58.5 48.1875 55.375 44.234375 \nQ 52.25 40.28125 46.1875 39.3125 \nQ 53.46875 37.75 57.5 32.78125 \nQ 61.53125 27.828125 61.53125 20.40625 \nQ 61.53125 10.640625 54.890625 5.3125 \nQ 48.25 0 35.984375 0 \nL 9.8125 0 \nz\n\" id=\"DejaVuSans-66\"/>\n      <path d=\"M 9.8125 72.90625 \nL 24.515625 72.90625 \nL 43.109375 23.296875 \nL 61.8125 72.90625 \nL 76.515625 72.90625 \nL 76.515625 0 \nL 66.890625 0 \nL 66.890625 64.015625 \nL 48.09375 14.015625 \nL 38.1875 14.015625 \nL 19.390625 64.015625 \nL 19.390625 0 \nL 9.8125 0 \nz\n\" id=\"DejaVuSans-77\"/>\n      <path d=\"M 9.8125 72.90625 \nL 19.671875 72.90625 \nL 19.671875 0 \nL 9.8125 0 \nz\n\" id=\"DejaVuSans-73\"/>\n      <path d=\"M 45.40625 46.390625 \nL 45.40625 75.984375 \nL 54.390625 75.984375 \nL 54.390625 0 \nL 45.40625 0 \nL 45.40625 8.203125 \nQ 42.578125 3.328125 38.25 0.953125 \nQ 33.9375 -1.421875 27.875 -1.421875 \nQ 17.96875 -1.421875 11.734375 6.484375 \nQ 5.515625 14.40625 5.515625 27.296875 \nQ 5.515625 40.1875 11.734375 48.09375 \nQ 17.96875 56 27.875 56 \nQ 33.9375 56 38.25 53.625 \nQ 42.578125 51.265625 45.40625 46.390625 \nz\nM 14.796875 27.296875 \nQ 14.796875 17.390625 18.875 11.75 \nQ 22.953125 6.109375 30.078125 6.109375 \nQ 37.203125 6.109375 41.296875 11.75 \nQ 45.40625 17.390625 45.40625 27.296875 \nQ 45.40625 37.203125 41.296875 42.84375 \nQ 37.203125 48.484375 30.078125 48.484375 \nQ 22.953125 48.484375 18.875 42.84375 \nQ 14.796875 37.203125 14.796875 27.296875 \nz\n\" id=\"DejaVuSans-100\"/>\n      <path d=\"M 9.421875 54.6875 \nL 18.40625 54.6875 \nL 18.40625 0 \nL 9.421875 0 \nz\nM 9.421875 75.984375 \nL 18.40625 75.984375 \nL 18.40625 64.59375 \nL 9.421875 64.59375 \nz\n\" id=\"DejaVuSans-105\"/>\n      <path d=\"M 37.109375 75.984375 \nL 37.109375 68.5 \nL 28.515625 68.5 \nQ 23.6875 68.5 21.796875 66.546875 \nQ 19.921875 64.59375 19.921875 59.515625 \nL 19.921875 54.6875 \nL 34.71875 54.6875 \nL 34.71875 47.703125 \nL 19.921875 47.703125 \nL 19.921875 0 \nL 10.890625 0 \nL 10.890625 47.703125 \nL 2.296875 47.703125 \nL 2.296875 54.6875 \nL 10.890625 54.6875 \nL 10.890625 58.5 \nQ 10.890625 67.625 15.140625 71.796875 \nQ 19.390625 75.984375 28.609375 75.984375 \nz\n\" id=\"DejaVuSans-102\"/>\n      <path d=\"M 54.890625 33.015625 \nL 54.890625 0 \nL 45.90625 0 \nL 45.90625 32.71875 \nQ 45.90625 40.484375 42.875 44.328125 \nQ 39.84375 48.1875 33.796875 48.1875 \nQ 26.515625 48.1875 22.3125 43.546875 \nQ 18.109375 38.921875 18.109375 30.90625 \nL 18.109375 0 \nL 9.078125 0 \nL 9.078125 54.6875 \nL 18.109375 54.6875 \nL 18.109375 46.1875 \nQ 21.34375 51.125 25.703125 53.5625 \nQ 30.078125 56 35.796875 56 \nQ 45.21875 56 50.046875 50.171875 \nQ 54.890625 44.34375 54.890625 33.015625 \nz\n\" id=\"DejaVuSans-110\"/>\n      <path d=\"M 48.78125 52.59375 \nL 48.78125 44.1875 \nQ 44.96875 46.296875 41.140625 47.34375 \nQ 37.3125 48.390625 33.40625 48.390625 \nQ 24.65625 48.390625 19.8125 42.84375 \nQ 14.984375 37.3125 14.984375 27.296875 \nQ 14.984375 17.28125 19.8125 11.734375 \nQ 24.65625 6.203125 33.40625 6.203125 \nQ 37.3125 6.203125 41.140625 7.25 \nQ 44.96875 8.296875 48.78125 10.40625 \nL 48.78125 2.09375 \nQ 45.015625 0.34375 40.984375 -0.53125 \nQ 36.96875 -1.421875 32.421875 -1.421875 \nQ 20.0625 -1.421875 12.78125 6.34375 \nQ 5.515625 14.109375 5.515625 27.296875 \nQ 5.515625 40.671875 12.859375 48.328125 \nQ 20.21875 56 33.015625 56 \nQ 37.15625 56 41.109375 55.140625 \nQ 45.0625 54.296875 48.78125 52.59375 \nz\n\" id=\"DejaVuSans-99\"/>\n     </defs>\n     <g transform=\"translate(14.798438 189.333281)rotate(-90)scale(0.1 -0.1)\">\n      <use xlink:href=\"#DejaVuSans-70\"/>\n      <use x=\"57.441406\" xlink:href=\"#DejaVuSans-101\"/>\n      <use x=\"118.964844\" xlink:href=\"#DejaVuSans-109\"/>\n      <use x=\"216.376953\" xlink:href=\"#DejaVuSans-97\"/>\n      <use x=\"277.65625\" xlink:href=\"#DejaVuSans-108\"/>\n      <use x=\"305.439453\" xlink:href=\"#DejaVuSans-101\"/>\n      <use x=\"366.962891\" xlink:href=\"#DejaVuSans-32\"/>\n      <use x=\"398.75\" xlink:href=\"#DejaVuSans-45\"/>\n      <use x=\"434.833984\" xlink:href=\"#DejaVuSans-32\"/>\n      <use x=\"466.621094\" xlink:href=\"#DejaVuSans-109\"/>\n      <use x=\"564.033203\" xlink:href=\"#DejaVuSans-97\"/>\n      <use x=\"625.3125\" xlink:href=\"#DejaVuSans-108\"/>\n      <use x=\"653.095703\" xlink:href=\"#DejaVuSans-101\"/>\n      <use x=\"714.619141\" xlink:href=\"#DejaVuSans-32\"/>\n      <use x=\"746.40625\" xlink:href=\"#DejaVuSans-66\"/>\n      <use x=\"815.009766\" xlink:href=\"#DejaVuSans-77\"/>\n      <use x=\"901.289062\" xlink:href=\"#DejaVuSans-73\"/>\n      <use x=\"930.78125\" xlink:href=\"#DejaVuSans-32\"/>\n      <use x=\"962.568359\" xlink:href=\"#DejaVuSans-100\"/>\n      <use x=\"1026.044922\" xlink:href=\"#DejaVuSans-105\"/>\n      <use x=\"1053.828125\" xlink:href=\"#DejaVuSans-102\"/>\n      <use x=\"1089.033203\" xlink:href=\"#DejaVuSans-102\"/>\n      <use x=\"1124.238281\" xlink:href=\"#DejaVuSans-101\"/>\n      <use x=\"1185.761719\" xlink:href=\"#DejaVuSans-114\"/>\n      <use x=\"1226.84375\" xlink:href=\"#DejaVuSans-101\"/>\n      <use x=\"1288.367188\" xlink:href=\"#DejaVuSans-110\"/>\n      <use x=\"1351.746094\" xlink:href=\"#DejaVuSans-99\"/>\n      <use x=\"1406.726562\" xlink:href=\"#DejaVuSans-101\"/>\n     </g>\n    </g>\n   </g>\n   <g id=\"line2d_14\">\n    <path clip-path=\"url(#p2f9c6a39a6)\" d=\"M 80.060938 115.641823 \nL 135.860938 154.348198 \nL 191.660937 87.973825 \nL 247.460938 84.864318 \nL 303.260938 75.040926 \nL 359.060938 109.336766 \n\" style=\"fill:none;stroke:#000000;stroke-linecap:square;stroke-width:2.7;\"/>\n   </g>\n   <g id=\"line2d_15\">\n    <path clip-path=\"url(#p2f9c6a39a6)\" d=\"M 0 0 \n\" style=\"fill:none;stroke:#000000;stroke-linecap:square;stroke-width:2.7;\"/>\n   </g>\n   <g id=\"line2d_16\">\n    <path clip-path=\"url(#p2f9c6a39a6)\" d=\"M 0 0 \n\" style=\"fill:none;stroke:#000000;stroke-linecap:square;stroke-width:2.7;\"/>\n   </g>\n   <g id=\"line2d_17\">\n    <path clip-path=\"url(#p2f9c6a39a6)\" d=\"M 0 0 \n\" style=\"fill:none;stroke:#000000;stroke-linecap:square;stroke-width:2.7;\"/>\n   </g>\n   <g id=\"line2d_18\">\n    <path clip-path=\"url(#p2f9c6a39a6)\" d=\"M 0 0 \n\" style=\"fill:none;stroke:#000000;stroke-linecap:square;stroke-width:2.7;\"/>\n   </g>\n   <g id=\"line2d_19\">\n    <path clip-path=\"url(#p2f9c6a39a6)\" d=\"M 0 0 \n\" style=\"fill:none;stroke:#000000;stroke-linecap:square;stroke-width:2.7;\"/>\n   </g>\n   <g id=\"line2d_20\">\n    <path clip-path=\"url(#p2f9c6a39a6)\" d=\"M 0 0 \n\" style=\"fill:none;stroke:#000000;stroke-linecap:square;stroke-width:2.7;\"/>\n   </g>\n   <g id=\"line2d_21\">\n    <path clip-path=\"url(#p2f9c6a39a6)\" d=\"M 80.060938 169.636102 \nL 135.860938 212.381988 \nL 191.660937 142.982042 \nL 247.460938 140.183341 \nL 303.260938 129.671222 \nL 359.060938 153.556849 \n\" style=\"fill:none;stroke:#0000ff;stroke-linecap:square;stroke-width:2.7;\"/>\n   </g>\n   <g id=\"line2d_22\">\n    <path clip-path=\"url(#p2f9c6a39a6)\" d=\"M 0 0 \n\" style=\"fill:none;stroke:#0000ff;stroke-linecap:square;stroke-width:2.7;\"/>\n   </g>\n   <g id=\"line2d_23\">\n    <path clip-path=\"url(#p2f9c6a39a6)\" d=\"M 0 0 \n\" style=\"fill:none;stroke:#0000ff;stroke-linecap:square;stroke-width:2.7;\"/>\n   </g>\n   <g id=\"line2d_24\">\n    <path clip-path=\"url(#p2f9c6a39a6)\" d=\"M 0 0 \n\" style=\"fill:none;stroke:#0000ff;stroke-linecap:square;stroke-width:2.7;\"/>\n   </g>\n   <g id=\"line2d_25\">\n    <path clip-path=\"url(#p2f9c6a39a6)\" d=\"M 0 0 \n\" style=\"fill:none;stroke:#0000ff;stroke-linecap:square;stroke-width:2.7;\"/>\n   </g>\n   <g id=\"line2d_26\">\n    <path clip-path=\"url(#p2f9c6a39a6)\" d=\"M 0 0 \n\" style=\"fill:none;stroke:#0000ff;stroke-linecap:square;stroke-width:2.7;\"/>\n   </g>\n   <g id=\"line2d_27\">\n    <path clip-path=\"url(#p2f9c6a39a6)\" d=\"M 0 0 \n\" style=\"fill:none;stroke:#0000ff;stroke-linecap:square;stroke-width:2.7;\"/>\n   </g>\n   <g id=\"line2d_28\">\n    <path clip-path=\"url(#p2f9c6a39a6)\" d=\"M 80.060938 61.647544 \nL 135.860938 96.314409 \nL 191.660937 32.965607 \nL 247.460938 29.545295 \nL 303.260938 20.41063 \nL 359.060938 65.116684 \n\" style=\"fill:none;stroke:#0000ff;stroke-linecap:square;stroke-width:2.7;\"/>\n   </g>\n   <g id=\"line2d_29\">\n    <path clip-path=\"url(#p2f9c6a39a6)\" d=\"M 0 0 \n\" style=\"fill:none;stroke:#0000ff;stroke-linecap:square;stroke-width:2.7;\"/>\n   </g>\n   <g id=\"line2d_30\">\n    <path clip-path=\"url(#p2f9c6a39a6)\" d=\"M 0 0 \n\" style=\"fill:none;stroke:#0000ff;stroke-linecap:square;stroke-width:2.7;\"/>\n   </g>\n   <g id=\"line2d_31\">\n    <path clip-path=\"url(#p2f9c6a39a6)\" d=\"M 0 0 \n\" style=\"fill:none;stroke:#0000ff;stroke-linecap:square;stroke-width:2.7;\"/>\n   </g>\n   <g id=\"line2d_32\">\n    <path clip-path=\"url(#p2f9c6a39a6)\" d=\"M 0 0 \n\" style=\"fill:none;stroke:#0000ff;stroke-linecap:square;stroke-width:2.7;\"/>\n   </g>\n   <g id=\"line2d_33\">\n    <path clip-path=\"url(#p2f9c6a39a6)\" d=\"M 0 0 \n\" style=\"fill:none;stroke:#0000ff;stroke-linecap:square;stroke-width:2.7;\"/>\n   </g>\n   <g id=\"line2d_34\">\n    <path clip-path=\"url(#p2f9c6a39a6)\" d=\"M 0 0 \n\" style=\"fill:none;stroke:#0000ff;stroke-linecap:square;stroke-width:2.7;\"/>\n   </g>\n   <g id=\"patch_3\">\n    <path d=\"M 52.160938 224.64 \nL 52.160938 7.2 \n\" style=\"fill:none;stroke:#000000;stroke-linecap:square;stroke-linejoin:miter;stroke-width:0.8;\"/>\n   </g>\n   <g id=\"patch_4\">\n    <path d=\"M 386.960938 224.64 \nL 386.960938 7.2 \n\" style=\"fill:none;stroke:#000000;stroke-linecap:square;stroke-linejoin:miter;stroke-width:0.8;\"/>\n   </g>\n   <g id=\"patch_5\">\n    <path d=\"M 52.160938 224.64 \nL 386.960938 224.64 \n\" style=\"fill:none;stroke:#000000;stroke-linecap:square;stroke-linejoin:miter;stroke-width:0.8;\"/>\n   </g>\n   <g id=\"patch_6\">\n    <path d=\"M 52.160938 7.2 \nL 386.960938 7.2 \n\" style=\"fill:none;stroke:#000000;stroke-linecap:square;stroke-linejoin:miter;stroke-width:0.8;\"/>\n   </g>\n  </g>\n </g>\n <defs>\n  <clipPath id=\"p2f9c6a39a6\">\n   <rect height=\"217.44\" width=\"334.8\" x=\"52.160938\" y=\"7.2\"/>\n  </clipPath>\n </defs>\n</svg>\n",
      "image/png": "[encoded data removed]"
     },
     "metadata": {
      "needs_background": "light"
     }
    }
   ],
   "source": [
    "# enter your code here\n",
    "\n",
    "# setting bins\n",
    "bins = pd.IntervalIndex.from_tuples([(18, 28), (29, 38), (39, 48), (49, 58), (59, 68), (69, 80)])\n",
    "\n",
    "# creating age groups\n",
    "da[\"agegrp\"] = pd.cut(da.RIDAGEYR, bins)\n",
    "\n",
    "# creating dataframe to work on\n",
    "pr = da.groupby([\"agegrp\", \"RIAGENDRx\"]).agg({\"BMXBMI\": [np.mean, np.std, np.size]}).unstack()\n",
    "\n",
    "# Calculate the SEM for females and for males within each age band\n",
    "pr[\"BMXBMI\", \"sem\", \"Female\"] = pr[\"BMXBMI\", \"std\", \"Female\"] / np.sqrt(pr[\"BMXBMI\", \"size\", \"Female\"]) \n",
    "pr[\"BMXBMI\", \"sem\", \"Male\"] = pr[\"BMXBMI\", \"std\", \"Male\"] / np.sqrt(pr[\"BMXBMI\", \"size\", \"Male\"]) \n",
    "\n",
    "# Calculate the mean difference of BMI between females and males within each age band, also  calculate\n",
    "# its SE and the lower and upper limits of its 95% CI.\n",
    "pr[\"BMXBMI\", \"mean_diff\", \"\"] = pr[\"BMXBMI\", \"mean\", \"Female\"] - pr[\"BMXBMI\", \"mean\", \"Male\"]\n",
    "pr[\"BMXBMI\", \"sem_diff\", \"\"] = np.sqrt(pr[\"BMXBMI\", \"sem\", \"Female\"]**2 + pr[\"BMXBMI\", \"sem\", \"Male\"]**2) \n",
    "pr[\"BMXBMI\", \"lcb_diff\", \"\"] = pr[\"BMXBMI\", \"mean_diff\", \"\"] - 1.96 * pr[\"BMXBMI\", \"sem_diff\", \"\"] \n",
    "pr[\"BMXBMI\", \"ucb_diff\", \"\"] = pr[\"BMXBMI\", \"mean_diff\", \"\"] + 1.96 * pr[\"BMXBMI\", \"sem_diff\", \"\"]\n",
    "\n",
    "# Plot the mean difference in black and the confidence limits in blue\n",
    "x = np.arange(pr.shape[0])\n",
    "pp = sns.pointplot(x, pr[\"BMXBMI\", \"mean_diff\", \"\"], color='black')\n",
    "sns.pointplot(x, pr[\"BMXBMI\", \"lcb_diff\", \"\"], color='blue')\n",
    "sns.pointplot(x, pr[\"BMXBMI\", \"ucb_diff\", \"\"], color='blue')\n",
    "pp.set_xticklabels(pr.index)\n",
    "pp.set_xlabel(\"Age group\")\n",
    "pp.set_ylabel(\"Female - male BMI difference\")"
   ]
  },
  {
   "cell_type": "markdown",
   "metadata": {},
   "source": [
    "__Q4a.__ How do the widths of these confidence intervals differ?  Provide an explanation for any substantial diferences in the confidence interval widths that you see."
   ]
  },
  {
   "cell_type": "markdown",
   "metadata": {},
   "source": []
  },
  {
   "cell_type": "markdown",
   "metadata": {},
   "source": [
    "## Question 5\n",
    "\n",
    "Construct a 95% confidence interval for the first and second systolic blood pressure measures, and for the difference between the first and second systolic blood pressure measurements within a subject."
   ]
  },
  {
   "cell_type": "code",
   "execution_count": 109,
   "metadata": {},
   "outputs": [
    {
     "output_type": "stream",
     "name": "stdout",
     "text": [
      "Confidence interval for the first measure is between 154.42060715976427 and 158.4793928402357\nConfidence interval for the second measure is between 148.8322265441842 and 153.88444012248243\n"
     ]
    }
   ],
   "source": [
    "# enter code here\n",
    "\n",
    "# loading the data\n",
    "blood_df = pd.read_csv(\"blood_pressure.csv\")\n",
    "\n",
    "# calculating mean, sample size and standard deviation for the first blood pressure measure\n",
    "first_mean = blood_df['bp_before'].mean()\n",
    "first_n = blood_df['bp_before'].count()\n",
    "first_std = np.std(blood_df['bp_before'])\n",
    "\n",
    "# calculating standard error\n",
    "se_first = first_std / np.sqrt(first_n)\n",
    "\n",
    "# calculating lower and upper confidence interval points\n",
    "low_cil_first = first_mean - 1.96 * se_first\n",
    "upp_cil_first = first_mean + 1.96 * se_first\n",
    "print(f'Confidence interval for the first measure is between {low_cil_first} and {upp_cil_first}')\n",
    "\n",
    "# calculating mean, sample size and standard deviation for the second blood pressure measure\n",
    "second_mean = blood_df['bp_after'].mean()\n",
    "second_n = blood_df['bp_after'].count()\n",
    "second_std = np.std(blood_df['bp_after'])\n",
    "\n",
    "# calculating standard error\n",
    "se_second = second_std / np.sqrt(second_n)\n",
    "\n",
    "# calculating lower and upper confidence interval points\n",
    "low_cil_second = second_mean - 1.96 * se_second\n",
    "upp_cil_second = second_mean + 1.96 * se_second\n",
    "print(f'Confidence interval for the second measure is between {low_cil_second} and {upp_cil_second}')\n"
   ]
  },
  {
   "cell_type": "code",
   "execution_count": 110,
   "metadata": {},
   "outputs": [
    {
     "output_type": "stream",
     "name": "stdout",
     "text": [
      "Confidence interval for the difference between the two measures for every subject is between 2.113710208667198 and 8.069623124666135\n"
     ]
    }
   ],
   "source": [
    "# creating a new column with the difference between the two measures for every patient\n",
    "blood_df['bp_difference'] = blood_df['bp_before'] - blood_df['bp_after']\n",
    "\n",
    "# calculating mean, sample size and standard deviation for difference\n",
    "difference_mean = blood_df['bp_difference'].mean()\n",
    "difference_n = blood_df['bp_difference'].count()\n",
    "difference_std = np.std(blood_df['bp_difference'])\n",
    "\n",
    "# calculating standard error\n",
    "se_difference = difference_std / np.sqrt(difference_n)\n",
    "\n",
    "# calculating lower and upper confidence interval points\n",
    "low_cil_difference = difference_mean - 1.96 * se_difference\n",
    "upp_cil_difference = difference_mean + 1.96 * se_difference\n",
    "print(f'Confidence interval for the difference between the two measures for every subject is between {low_cil_difference} and {upp_cil_difference}')\n"
   ]
  },
  {
   "cell_type": "markdown",
   "metadata": {},
   "source": [
    "__Q5a.__ Based on these confidence intervals, would you say that a difference of zero between the population mean values of the first and second systolic blood pressure measures is consistent with the data?"
   ]
  },
  {
   "cell_type": "markdown",
   "metadata": {},
   "source": [
    "Our confidence interval for the difference is between 2 and 8 (rounded), so a difference of 0 wouldn't be consistent with the data we have."
   ]
  },
  {
   "cell_type": "markdown",
   "metadata": {},
   "source": [
    "\n",
    "__Q5b.__ Discuss how the width of the confidence interval for the within-subject difference compares to the widths of the confidence intervals for the first and second measures."
   ]
  },
  {
   "cell_type": "markdown",
   "metadata": {},
   "source": [
    "The width of the confidence interval for the difference is around 6, for the first measures is around 4 and for the second measures around 5"
   ]
  },
  {
   "cell_type": "markdown",
   "metadata": {},
   "source": [
    "## Question 6\n",
    "\n",
    "Construct a 95% confidence interval for the mean difference between the average age of a smoker, and the average age of a non-smoker."
   ]
  },
  {
   "cell_type": "code",
   "execution_count": 118,
   "metadata": {},
   "outputs": [
    {
     "output_type": "stream",
     "name": "stdout",
     "text": [
      "Smoker confidence interval is between 51.644375942587935 and 52.54881077582517\nNon smoker confidence interval is between 44.779559164871564 and 45.740112003654566\n"
     ]
    }
   ],
   "source": [
    "# insert your code here\n",
    "\n",
    "# creating the dataframe\n",
    "smoke_age = da[['RIDAGEYR', 'SMQ020x']].dropna()\n",
    "\n",
    "# calculating mean age of smokers, sample size, standard deviation and standard error\n",
    "smoker_mean = smoke_age[smoke_age['SMQ020x'] == 'Yes'].mean()[0]\n",
    "smoker_n = smoke_age.count()[0]\n",
    "smoker_std = np.std(smoke_age[smoke_age['SMQ020x'] == 'Yes'])[0]\n",
    "smoker_se = smoker_std / np.sqrt(smoker_n)\n",
    "\n",
    "# calculating mean age of non smokers, sample size, standard deviation and standard error\n",
    "nosmoker_mean = smoke_age[smoke_age['SMQ020x'] == 'No'].mean()[0]\n",
    "nosmoker_n = smoke_age.count()[0]\n",
    "nosmoker_std = np.std(smoke_age[smoke_age['SMQ020x'] == 'No'])[0]\n",
    "nosmoker_se = nosmoker_std / np.sqrt(nosmoker_n)\n",
    "\n",
    "# calculating lower and upper confidence interval points for smokers\n",
    "low_cil_smoker = smoker_mean - 1.96 * smoker_se\n",
    "upp_cil_smoker = smoker_mean + 1.96 * smoker_se\n",
    "print(f'Smoker confidence interval is between {low_cil_smoker} and {upp_cil_smoker}')\n",
    "\n",
    "# calculating lower and upper confidence interval points for non smokers\n",
    "low_cil_nosmoker = nosmoker_mean - 1.96 * nosmoker_se\n",
    "upp_cil_nosmoker = nosmoker_mean + 1.96 * nosmoker_se\n",
    "print(f'Non smoker confidence interval is between {low_cil_nosmoker} and {upp_cil_nosmoker}')\n"
   ]
  },
  {
   "cell_type": "markdown",
   "metadata": {},
   "source": [
    "__Q6a.__ Use graphical and numerical techniques to compare the variation in the ages of smokers to the variation in the ages of non-smokers.  "
   ]
  },
  {
   "cell_type": "code",
   "execution_count": 120,
   "metadata": {},
   "outputs": [],
   "source": [
    "# insert your code here"
   ]
  },
  {
   "cell_type": "markdown",
   "metadata": {},
   "source": [
    "__Q6b.__ Does it appear that uncertainty about the mean age of smokers, or uncertainty about the mean age of non-smokers contributed more to the uncertainty for the mean difference that we are focusing on here?"
   ]
  },
  {
   "cell_type": "markdown",
   "metadata": {},
   "source": []
  }
 ],
 "metadata": {
  "kernelspec": {
   "display_name": "Python 3",
   "language": "python",
   "name": "python3"
  },
  "language_info": {
   "codemirror_mode": {
    "name": "ipython",
    "version": 3
   },
   "file_extension": ".py",
   "mimetype": "text/x-python",
   "name": "python",
   "nbconvert_exporter": "python",
   "pygments_lexer": "ipython3",
   "version": "3.8.6-final"
  }
 },
 "nbformat": 4,
 "nbformat_minor": 2
}
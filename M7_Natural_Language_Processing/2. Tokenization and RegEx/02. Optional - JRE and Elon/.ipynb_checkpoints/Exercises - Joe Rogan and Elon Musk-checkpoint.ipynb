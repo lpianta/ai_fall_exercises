{
 "cells": [
  {
   "cell_type": "code",
   "execution_count": 232,
   "id": "broad-working",
   "metadata": {
    "ExecuteTime": {
     "end_time": "2021-03-29T22:31:33.722276Z",
     "start_time": "2021-03-29T22:31:33.372070Z"
    }
   },
   "outputs": [],
   "source": [
    "import pandas as pd"
   ]
  },
  {
   "cell_type": "code",
   "execution_count": 233,
   "id": "accepting-profit",
   "metadata": {
    "ExecuteTime": {
     "end_time": "2021-03-29T22:31:33.737038Z",
     "start_time": "2021-03-29T22:31:33.723718Z"
    }
   },
   "outputs": [
    {
     "data": {
      "text/html": [
       "<div>\n",
       "<style scoped>\n",
       "    .dataframe tbody tr th:only-of-type {\n",
       "        vertical-align: middle;\n",
       "    }\n",
       "\n",
       "    .dataframe tbody tr th {\n",
       "        vertical-align: top;\n",
       "    }\n",
       "\n",
       "    .dataframe thead th {\n",
       "        text-align: right;\n",
       "    }\n",
       "</style>\n",
       "<table border=\"1\" class=\"dataframe\">\n",
       "  <thead>\n",
       "    <tr style=\"text-align: right;\">\n",
       "      <th></th>\n",
       "      <th>Timestamp</th>\n",
       "      <th>Speaker</th>\n",
       "      <th>Text</th>\n",
       "    </tr>\n",
       "  </thead>\n",
       "  <tbody>\n",
       "    <tr>\n",
       "      <th>0</th>\n",
       "      <td>[00:00:00]</td>\n",
       "      <td>Joe Rogan</td>\n",
       "      <td>Ah, ha, ha, ha. Four, three, two, one, boom. T...</td>\n",
       "    </tr>\n",
       "    <tr>\n",
       "      <th>1</th>\n",
       "      <td>[00:00:09]</td>\n",
       "      <td>Elon Musk</td>\n",
       "      <td>You're welcome.</td>\n",
       "    </tr>\n",
       "    <tr>\n",
       "      <th>2</th>\n",
       "      <td>[00:00:10]</td>\n",
       "      <td>Joe Rogan</td>\n",
       "      <td>It's very good to meet you.</td>\n",
       "    </tr>\n",
       "    <tr>\n",
       "      <th>3</th>\n",
       "      <td>[00:00:11]</td>\n",
       "      <td>Elon Musk</td>\n",
       "      <td>Nice to meet you too.</td>\n",
       "    </tr>\n",
       "    <tr>\n",
       "      <th>4</th>\n",
       "      <td>[00:00:12]</td>\n",
       "      <td>Joe Rogan</td>\n",
       "      <td>And thanks for not lighting this place on fire.</td>\n",
       "    </tr>\n",
       "  </tbody>\n",
       "</table>\n",
       "</div>"
      ],
      "text/plain": [
       "    Timestamp    Speaker                                               Text\n",
       "0  [00:00:00]  Joe Rogan  Ah, ha, ha, ha. Four, three, two, one, boom. T...\n",
       "1  [00:00:09]  Elon Musk                                    You're welcome.\n",
       "2  [00:00:10]  Joe Rogan                        It's very good to meet you.\n",
       "3  [00:00:11]  Elon Musk                              Nice to meet you too.\n",
       "4  [00:00:12]  Joe Rogan    And thanks for not lighting this place on fire."
      ]
     },
     "execution_count": 233,
     "metadata": {},
     "output_type": "execute_result"
    }
   ],
   "source": [
    "df = pd.read_csv(\"data/jre_elon_musk.csv\")\n",
    "df.head()"
   ]
  },
  {
   "cell_type": "code",
   "execution_count": 234,
   "id": "pacific-proportion",
   "metadata": {
    "ExecuteTime": {
     "end_time": "2021-03-29T22:31:33.740828Z",
     "start_time": "2021-03-29T22:31:33.738483Z"
    },
    "scrolled": false
   },
   "outputs": [
    {
     "name": "stdout",
     "output_type": "stream",
     "text": [
      "['Ah, ha, ha, ha. Four, three, two, one, boom. Thank you. Thanks for doing this, man. Really appreciate it.'\n",
      " \"You're welcome.\" \"It's very good to meet you.\" 'Nice to meet you too.'\n",
      " 'And thanks for not lighting this place on fire.'\n",
      " \"You're welcome. That's coming later.\"\n",
      " \"How does one, just in the middle of doing all the things you do, create cars, rockets, all the stuff you're doing,constantly innovating, decide to just make a flamethrower? Where do you have the time for that?\"\n",
      " \"Well, the flame, we didn't put a lot of time into the flamethrower. This was an off-the-cuff thing. It's sort of a hobbycompany called the Boring Company, which started out as a joke, and we decided to make a real, and dig a tunnelunder LA. And then, other people asked us to dig tunnels. And so, we said yes in a few cases.\"\n",
      " 'Now, who-'\n",
      " 'And then, we have a merchandise section that only has one piece of merchandise at a time. And we started off witha cap. And there was only one thing on, which is BoringCompany.com/hat. That\\'s it. And then, we sold the hats,limited edition. It just said, \"The Boring Company.\"']\n"
     ]
    }
   ],
   "source": [
    "# Print the first ten lines of text\n",
    "print(df['Text'][0:10].values)"
   ]
  },
  {
   "cell_type": "code",
   "execution_count": 235,
   "id": "split-binary",
   "metadata": {
    "ExecuteTime": {
     "end_time": "2021-03-29T22:31:33.744723Z",
     "start_time": "2021-03-29T22:31:33.742128Z"
    }
   },
   "outputs": [],
   "source": [
    "# Create a function to convert timestamp into seconds\n",
    "import re\n",
    "def convert_timestamp_into_seconds(timestamp):\n",
    "    total_seconds = 0\n",
    "    \n",
    "    seconds = int(re.findall(pattern, timestamp)[2])\n",
    "    minutes = int(re.findall(pattern, timestamp)[1]) * 60\n",
    "    hours = int(re.findall(pattern, timestamp)[0]) *3600\n",
    "    \n",
    "    total_seconds = seconds + minutes + hours\n",
    "    \n",
    "    return total_seconds"
   ]
  },
  {
   "cell_type": "code",
   "execution_count": 236,
   "id": "described-sussex",
   "metadata": {
    "ExecuteTime": {
     "end_time": "2021-03-29T22:31:33.752441Z",
     "start_time": "2021-03-29T22:31:33.745762Z"
    }
   },
   "outputs": [],
   "source": [
    "# Convert the Timestamp column using the function defined above\n",
    "\n",
    "df[\"Timestamp\"] = df['Timestamp'].apply(convert_timestamp_into_seconds)"
   ]
  },
  {
   "cell_type": "code",
   "execution_count": 237,
   "id": "exotic-wireless",
   "metadata": {
    "ExecuteTime": {
     "end_time": "2021-03-29T22:31:33.761163Z",
     "start_time": "2021-03-29T22:31:33.754043Z"
    },
    "scrolled": false
   },
   "outputs": [
    {
     "data": {
      "text/html": [
       "<div>\n",
       "<style scoped>\n",
       "    .dataframe tbody tr th:only-of-type {\n",
       "        vertical-align: middle;\n",
       "    }\n",
       "\n",
       "    .dataframe tbody tr th {\n",
       "        vertical-align: top;\n",
       "    }\n",
       "\n",
       "    .dataframe thead th {\n",
       "        text-align: right;\n",
       "    }\n",
       "</style>\n",
       "<table border=\"1\" class=\"dataframe\">\n",
       "  <thead>\n",
       "    <tr style=\"text-align: right;\">\n",
       "      <th></th>\n",
       "      <th>Timestamp</th>\n",
       "      <th>Speaker</th>\n",
       "      <th>Text</th>\n",
       "    </tr>\n",
       "  </thead>\n",
       "  <tbody>\n",
       "    <tr>\n",
       "      <th>0</th>\n",
       "      <td>0</td>\n",
       "      <td>Joe Rogan</td>\n",
       "      <td>Ah, ha, ha, ha. Four, three, two, one, boom. T...</td>\n",
       "    </tr>\n",
       "    <tr>\n",
       "      <th>1</th>\n",
       "      <td>9</td>\n",
       "      <td>Elon Musk</td>\n",
       "      <td>You're welcome.</td>\n",
       "    </tr>\n",
       "    <tr>\n",
       "      <th>2</th>\n",
       "      <td>10</td>\n",
       "      <td>Joe Rogan</td>\n",
       "      <td>It's very good to meet you.</td>\n",
       "    </tr>\n",
       "    <tr>\n",
       "      <th>3</th>\n",
       "      <td>11</td>\n",
       "      <td>Elon Musk</td>\n",
       "      <td>Nice to meet you too.</td>\n",
       "    </tr>\n",
       "    <tr>\n",
       "      <th>4</th>\n",
       "      <td>12</td>\n",
       "      <td>Joe Rogan</td>\n",
       "      <td>And thanks for not lighting this place on fire.</td>\n",
       "    </tr>\n",
       "    <tr>\n",
       "      <th>...</th>\n",
       "      <td>...</td>\n",
       "      <td>...</td>\n",
       "      <td>...</td>\n",
       "    </tr>\n",
       "    <tr>\n",
       "      <th>1826</th>\n",
       "      <td>9401</td>\n",
       "      <td>Joe Rogan</td>\n",
       "      <td>I believe it's true too. So, thank you.</td>\n",
       "    </tr>\n",
       "    <tr>\n",
       "      <th>1827</th>\n",
       "      <td>9403</td>\n",
       "      <td>Elon Musk</td>\n",
       "      <td>You're welcome.</td>\n",
       "    </tr>\n",
       "    <tr>\n",
       "      <th>1828</th>\n",
       "      <td>9404</td>\n",
       "      <td>Joe Rogan</td>\n",
       "      <td>All you assholes out there, be nice. Be nice, ...</td>\n",
       "    </tr>\n",
       "    <tr>\n",
       "      <th>1829</th>\n",
       "      <td>9410</td>\n",
       "      <td>Elon Musk</td>\n",
       "      <td>All right, thank you.</td>\n",
       "    </tr>\n",
       "    <tr>\n",
       "      <th>1830</th>\n",
       "      <td>9410</td>\n",
       "      <td>Joe Rogan</td>\n",
       "      <td>Good night, everybody. END OF TRANSCRIPTAutoma...</td>\n",
       "    </tr>\n",
       "  </tbody>\n",
       "</table>\n",
       "<p>1831 rows × 3 columns</p>\n",
       "</div>"
      ],
      "text/plain": [
       "      Timestamp    Speaker                                               Text\n",
       "0             0  Joe Rogan  Ah, ha, ha, ha. Four, three, two, one, boom. T...\n",
       "1             9  Elon Musk                                    You're welcome.\n",
       "2            10  Joe Rogan                        It's very good to meet you.\n",
       "3            11  Elon Musk                              Nice to meet you too.\n",
       "4            12  Joe Rogan    And thanks for not lighting this place on fire.\n",
       "...         ...        ...                                                ...\n",
       "1826       9401  Joe Rogan            I believe it's true too. So, thank you.\n",
       "1827       9403  Elon Musk                                    You're welcome.\n",
       "1828       9404  Joe Rogan  All you assholes out there, be nice. Be nice, ...\n",
       "1829       9410  Elon Musk                              All right, thank you.\n",
       "1830       9410  Joe Rogan  Good night, everybody. END OF TRANSCRIPTAutoma...\n",
       "\n",
       "[1831 rows x 3 columns]"
      ]
     },
     "execution_count": 237,
     "metadata": {},
     "output_type": "execute_result"
    }
   ],
   "source": [
    "df"
   ]
  },
  {
   "cell_type": "code",
   "execution_count": 238,
   "id": "regulated-reduction",
   "metadata": {},
   "outputs": [
    {
     "data": {
      "text/html": [
       "<div>\n",
       "<style scoped>\n",
       "    .dataframe tbody tr th:only-of-type {\n",
       "        vertical-align: middle;\n",
       "    }\n",
       "\n",
       "    .dataframe tbody tr th {\n",
       "        vertical-align: top;\n",
       "    }\n",
       "\n",
       "    .dataframe thead th {\n",
       "        text-align: right;\n",
       "    }\n",
       "</style>\n",
       "<table border=\"1\" class=\"dataframe\">\n",
       "  <thead>\n",
       "    <tr style=\"text-align: right;\">\n",
       "      <th></th>\n",
       "      <th>Timestamp</th>\n",
       "      <th>Speaker</th>\n",
       "      <th>Text</th>\n",
       "      <th>Interval1</th>\n",
       "      <th>Interval</th>\n",
       "    </tr>\n",
       "  </thead>\n",
       "  <tbody>\n",
       "    <tr>\n",
       "      <th>0</th>\n",
       "      <td>0</td>\n",
       "      <td>Joe Rogan</td>\n",
       "      <td>Ah, ha, ha, ha. Four, three, two, one, boom. T...</td>\n",
       "      <td>9.0</td>\n",
       "      <td>9.0</td>\n",
       "    </tr>\n",
       "    <tr>\n",
       "      <th>1</th>\n",
       "      <td>9</td>\n",
       "      <td>Elon Musk</td>\n",
       "      <td>You're welcome.</td>\n",
       "      <td>10.0</td>\n",
       "      <td>1.0</td>\n",
       "    </tr>\n",
       "    <tr>\n",
       "      <th>2</th>\n",
       "      <td>10</td>\n",
       "      <td>Joe Rogan</td>\n",
       "      <td>It's very good to meet you.</td>\n",
       "      <td>11.0</td>\n",
       "      <td>1.0</td>\n",
       "    </tr>\n",
       "    <tr>\n",
       "      <th>3</th>\n",
       "      <td>11</td>\n",
       "      <td>Elon Musk</td>\n",
       "      <td>Nice to meet you too.</td>\n",
       "      <td>12.0</td>\n",
       "      <td>1.0</td>\n",
       "    </tr>\n",
       "    <tr>\n",
       "      <th>4</th>\n",
       "      <td>12</td>\n",
       "      <td>Joe Rogan</td>\n",
       "      <td>And thanks for not lighting this place on fire.</td>\n",
       "      <td>13.0</td>\n",
       "      <td>1.0</td>\n",
       "    </tr>\n",
       "    <tr>\n",
       "      <th>...</th>\n",
       "      <td>...</td>\n",
       "      <td>...</td>\n",
       "      <td>...</td>\n",
       "      <td>...</td>\n",
       "      <td>...</td>\n",
       "    </tr>\n",
       "    <tr>\n",
       "      <th>1826</th>\n",
       "      <td>9401</td>\n",
       "      <td>Joe Rogan</td>\n",
       "      <td>I believe it's true too. So, thank you.</td>\n",
       "      <td>9403.0</td>\n",
       "      <td>2.0</td>\n",
       "    </tr>\n",
       "    <tr>\n",
       "      <th>1827</th>\n",
       "      <td>9403</td>\n",
       "      <td>Elon Musk</td>\n",
       "      <td>You're welcome.</td>\n",
       "      <td>9404.0</td>\n",
       "      <td>1.0</td>\n",
       "    </tr>\n",
       "    <tr>\n",
       "      <th>1828</th>\n",
       "      <td>9404</td>\n",
       "      <td>Joe Rogan</td>\n",
       "      <td>All you assholes out there, be nice. Be nice, ...</td>\n",
       "      <td>9410.0</td>\n",
       "      <td>6.0</td>\n",
       "    </tr>\n",
       "    <tr>\n",
       "      <th>1829</th>\n",
       "      <td>9410</td>\n",
       "      <td>Elon Musk</td>\n",
       "      <td>All right, thank you.</td>\n",
       "      <td>9410.0</td>\n",
       "      <td>0.0</td>\n",
       "    </tr>\n",
       "    <tr>\n",
       "      <th>1830</th>\n",
       "      <td>9410</td>\n",
       "      <td>Joe Rogan</td>\n",
       "      <td>Good night, everybody. END OF TRANSCRIPTAutoma...</td>\n",
       "      <td>NaN</td>\n",
       "      <td>NaN</td>\n",
       "    </tr>\n",
       "  </tbody>\n",
       "</table>\n",
       "<p>1831 rows × 5 columns</p>\n",
       "</div>"
      ],
      "text/plain": [
       "      Timestamp    Speaker                                               Text  \\\n",
       "0             0  Joe Rogan  Ah, ha, ha, ha. Four, three, two, one, boom. T...   \n",
       "1             9  Elon Musk                                    You're welcome.   \n",
       "2            10  Joe Rogan                        It's very good to meet you.   \n",
       "3            11  Elon Musk                              Nice to meet you too.   \n",
       "4            12  Joe Rogan    And thanks for not lighting this place on fire.   \n",
       "...         ...        ...                                                ...   \n",
       "1826       9401  Joe Rogan            I believe it's true too. So, thank you.   \n",
       "1827       9403  Elon Musk                                    You're welcome.   \n",
       "1828       9404  Joe Rogan  All you assholes out there, be nice. Be nice, ...   \n",
       "1829       9410  Elon Musk                              All right, thank you.   \n",
       "1830       9410  Joe Rogan  Good night, everybody. END OF TRANSCRIPTAutoma...   \n",
       "\n",
       "      Interval1  Interval  \n",
       "0           9.0       9.0  \n",
       "1          10.0       1.0  \n",
       "2          11.0       1.0  \n",
       "3          12.0       1.0  \n",
       "4          13.0       1.0  \n",
       "...         ...       ...  \n",
       "1826     9403.0       2.0  \n",
       "1827     9404.0       1.0  \n",
       "1828     9410.0       6.0  \n",
       "1829     9410.0       0.0  \n",
       "1830        NaN       NaN  \n",
       "\n",
       "[1831 rows x 5 columns]"
      ]
     },
     "execution_count": 238,
     "metadata": {},
     "output_type": "execute_result"
    }
   ],
   "source": [
    "df['Interval1'] = df['Timestamp'].shift(-1)\n",
    "df['Interval'] = df['Interval1'] - df['Timestamp']\n",
    "df"
   ]
  },
  {
   "cell_type": "code",
   "execution_count": 239,
   "id": "automated-washington",
   "metadata": {
    "ExecuteTime": {
     "end_time": "2021-03-29T22:31:33.771471Z",
     "start_time": "2021-03-29T22:31:33.764137Z"
    }
   },
   "outputs": [
    {
     "data": {
      "text/html": [
       "<div>\n",
       "<style scoped>\n",
       "    .dataframe tbody tr th:only-of-type {\n",
       "        vertical-align: middle;\n",
       "    }\n",
       "\n",
       "    .dataframe tbody tr th {\n",
       "        vertical-align: top;\n",
       "    }\n",
       "\n",
       "    .dataframe thead th {\n",
       "        text-align: right;\n",
       "    }\n",
       "</style>\n",
       "<table border=\"1\" class=\"dataframe\">\n",
       "  <thead>\n",
       "    <tr style=\"text-align: right;\">\n",
       "      <th></th>\n",
       "      <th>Timestamp</th>\n",
       "      <th>Speaker</th>\n",
       "      <th>Text</th>\n",
       "      <th>Interval</th>\n",
       "    </tr>\n",
       "  </thead>\n",
       "  <tbody>\n",
       "    <tr>\n",
       "      <th>0</th>\n",
       "      <td>0</td>\n",
       "      <td>Joe Rogan</td>\n",
       "      <td>Ah, ha, ha, ha. Four, three, two, one, boom. T...</td>\n",
       "      <td>9.0</td>\n",
       "    </tr>\n",
       "    <tr>\n",
       "      <th>1</th>\n",
       "      <td>9</td>\n",
       "      <td>Elon Musk</td>\n",
       "      <td>You're welcome.</td>\n",
       "      <td>1.0</td>\n",
       "    </tr>\n",
       "    <tr>\n",
       "      <th>2</th>\n",
       "      <td>10</td>\n",
       "      <td>Joe Rogan</td>\n",
       "      <td>It's very good to meet you.</td>\n",
       "      <td>1.0</td>\n",
       "    </tr>\n",
       "    <tr>\n",
       "      <th>3</th>\n",
       "      <td>11</td>\n",
       "      <td>Elon Musk</td>\n",
       "      <td>Nice to meet you too.</td>\n",
       "      <td>1.0</td>\n",
       "    </tr>\n",
       "    <tr>\n",
       "      <th>4</th>\n",
       "      <td>12</td>\n",
       "      <td>Joe Rogan</td>\n",
       "      <td>And thanks for not lighting this place on fire.</td>\n",
       "      <td>1.0</td>\n",
       "    </tr>\n",
       "    <tr>\n",
       "      <th>...</th>\n",
       "      <td>...</td>\n",
       "      <td>...</td>\n",
       "      <td>...</td>\n",
       "      <td>...</td>\n",
       "    </tr>\n",
       "    <tr>\n",
       "      <th>1826</th>\n",
       "      <td>9401</td>\n",
       "      <td>Joe Rogan</td>\n",
       "      <td>I believe it's true too. So, thank you.</td>\n",
       "      <td>2.0</td>\n",
       "    </tr>\n",
       "    <tr>\n",
       "      <th>1827</th>\n",
       "      <td>9403</td>\n",
       "      <td>Elon Musk</td>\n",
       "      <td>You're welcome.</td>\n",
       "      <td>1.0</td>\n",
       "    </tr>\n",
       "    <tr>\n",
       "      <th>1828</th>\n",
       "      <td>9404</td>\n",
       "      <td>Joe Rogan</td>\n",
       "      <td>All you assholes out there, be nice. Be nice, ...</td>\n",
       "      <td>6.0</td>\n",
       "    </tr>\n",
       "    <tr>\n",
       "      <th>1829</th>\n",
       "      <td>9410</td>\n",
       "      <td>Elon Musk</td>\n",
       "      <td>All right, thank you.</td>\n",
       "      <td>1.0</td>\n",
       "    </tr>\n",
       "    <tr>\n",
       "      <th>1830</th>\n",
       "      <td>9410</td>\n",
       "      <td>Joe Rogan</td>\n",
       "      <td>Good night, everybody. END OF TRANSCRIPTAutoma...</td>\n",
       "      <td>1.0</td>\n",
       "    </tr>\n",
       "  </tbody>\n",
       "</table>\n",
       "<p>1831 rows × 4 columns</p>\n",
       "</div>"
      ],
      "text/plain": [
       "      Timestamp    Speaker                                               Text  \\\n",
       "0             0  Joe Rogan  Ah, ha, ha, ha. Four, three, two, one, boom. T...   \n",
       "1             9  Elon Musk                                    You're welcome.   \n",
       "2            10  Joe Rogan                        It's very good to meet you.   \n",
       "3            11  Elon Musk                              Nice to meet you too.   \n",
       "4            12  Joe Rogan    And thanks for not lighting this place on fire.   \n",
       "...         ...        ...                                                ...   \n",
       "1826       9401  Joe Rogan            I believe it's true too. So, thank you.   \n",
       "1827       9403  Elon Musk                                    You're welcome.   \n",
       "1828       9404  Joe Rogan  All you assholes out there, be nice. Be nice, ...   \n",
       "1829       9410  Elon Musk                              All right, thank you.   \n",
       "1830       9410  Joe Rogan  Good night, everybody. END OF TRANSCRIPTAutoma...   \n",
       "\n",
       "      Interval  \n",
       "0          9.0  \n",
       "1          1.0  \n",
       "2          1.0  \n",
       "3          1.0  \n",
       "4          1.0  \n",
       "...        ...  \n",
       "1826       2.0  \n",
       "1827       1.0  \n",
       "1828       6.0  \n",
       "1829       1.0  \n",
       "1830       1.0  \n",
       "\n",
       "[1831 rows x 4 columns]"
      ]
     },
     "execution_count": 239,
     "metadata": {},
     "output_type": "execute_result"
    }
   ],
   "source": [
    "# Add a column with the seconds lasted by the text in the row\n",
    "# for example: the first row lasts 9 seconds, since Elon Musk\n",
    "# answer at the second 9 (Hint: use shift with period - 1).\n",
    "# In case of negative numbers, just make them 1 (minimum interval lenght is 1 second)\n",
    "\n",
    "df['Interval1'] = df['Timestamp'].shift(-1)\n",
    "df['Interval'] = df['Interval1'] - df['Timestamp']\n",
    "df.fillna(1, inplace=True)\n",
    "df.drop('Interval1', axis=1, inplace=True)\n",
    "df['Interval'].replace(0,1, inplace=True)\n",
    "df"
   ]
  },
  {
   "cell_type": "code",
   "execution_count": 240,
   "id": "flush-rating",
   "metadata": {
    "ExecuteTime": {
     "end_time": "2021-03-29T22:31:33.779836Z",
     "start_time": "2021-03-29T22:31:33.776781Z"
    }
   },
   "outputs": [
    {
     "data": {
      "text/plain": [
       "array(['Joe Rogan', 'Elon Musk', 'Jaime'], dtype=object)"
      ]
     },
     "execution_count": 240,
     "metadata": {},
     "output_type": "execute_result"
    }
   ],
   "source": [
    "df.Speaker.unique()"
   ]
  },
  {
   "cell_type": "code",
   "execution_count": 241,
   "id": "impressive-montana",
   "metadata": {
    "ExecuteTime": {
     "end_time": "2021-03-29T22:31:33.786629Z",
     "start_time": "2021-03-29T22:31:33.781182Z"
    }
   },
   "outputs": [
    {
     "data": {
      "text/plain": [
       "4637.0"
      ]
     },
     "execution_count": 241,
     "metadata": {},
     "output_type": "execute_result"
    }
   ],
   "source": [
    "# Total seconds spoken by Joe Rogan\n",
    "\n",
    "df.loc[df['Speaker'] == 'Joe Rogan']['Interval'].cumsum().max()"
   ]
  },
  {
   "cell_type": "code",
   "execution_count": 242,
   "id": "sized-locking",
   "metadata": {
    "ExecuteTime": {
     "end_time": "2021-03-29T22:31:33.792682Z",
     "start_time": "2021-03-29T22:31:33.787665Z"
    }
   },
   "outputs": [
    {
     "data": {
      "text/plain": [
       "5075.0"
      ]
     },
     "execution_count": 242,
     "metadata": {},
     "output_type": "execute_result"
    }
   ],
   "source": [
    "# Total seconds spoken by Elon Musk\n",
    "\n",
    "df.loc[df['Speaker'] == 'Elon Musk']['Interval'].cumsum().max()"
   ]
  },
  {
   "cell_type": "code",
   "execution_count": 243,
   "id": "regular-lithuania",
   "metadata": {
    "ExecuteTime": {
     "end_time": "2021-03-29T22:31:33.797733Z",
     "start_time": "2021-03-29T22:31:33.793794Z"
    }
   },
   "outputs": [
    {
     "data": {
      "text/plain": [
       "45.0"
      ]
     },
     "execution_count": 243,
     "metadata": {},
     "output_type": "execute_result"
    }
   ],
   "source": [
    "# Total seconds spoken by Jaime\n",
    "\n",
    "df.loc[df['Speaker'] == 'Jaime']['Interval'].cumsum().max()"
   ]
  },
  {
   "cell_type": "code",
   "execution_count": 252,
   "id": "powerful-detail",
   "metadata": {
    "ExecuteTime": {
     "end_time": "2021-03-29T22:31:33.804917Z",
     "start_time": "2021-03-29T22:31:33.798845Z"
    }
   },
   "outputs": [
    {
     "name": "stdout",
     "output_type": "stream",
     "text": [
      "Average speaking for Joe: 5.12 \n",
      "Average speaking for Elon: 5.58\n",
      " Average speaking for Jaime: 2.65\n"
     ]
    }
   ],
   "source": [
    "# Average speaking interval for each person\n",
    "\n",
    "jr =df.loc[df['Speaker'] == 'Joe Rogan']['Interval'].mean()\n",
    "em = df.loc[df['Speaker'] == 'Elon Musk']['Interval'].mean()\n",
    "ja = df.loc[df['Speaker'] == 'Jaime']['Interval'].mean()\n",
    "\n",
    "print(f'Average speaking for Joe: {jr.round(2)} \\nAverage speaking for Elon: {em.round(2)}\\n Average speaking for Jaime: {ja.round(2)}')"
   ]
  },
  {
   "cell_type": "markdown",
   "id": "suburban-shipping",
   "metadata": {},
   "source": [
    "Who speaks faster?\n",
    "\n",
    "Tokenize the text, preprocess the tokens so that you have only words (excluding punctuation) and compute the velocity of each speaker as: number of words per interval / length of interval . Store the result in a column named Velocity and compute the average for each speaker."
   ]
  },
  {
   "cell_type": "code",
   "execution_count": 245,
   "id": "facial-living",
   "metadata": {
    "ExecuteTime": {
     "end_time": "2021-03-29T22:31:44.193591Z",
     "start_time": "2021-03-29T22:31:33.806035Z"
    }
   },
   "outputs": [],
   "source": [
    "# Preprocess the data\n",
    "import spacy\n",
    "import string\n",
    "nlp = spacy.load(\"en_core_web_sm\")\n",
    "\n",
    "# Create a function to remove punctuation from text\n",
    "\n",
    "def remove_punctuation(text):\n",
    "    text_no_punct = \"\".join([char for char in text if char not in string.punctuation])\n",
    "    return text_no_punct\n",
    "    \n",
    "# Create a function to count the non punctuation token of a text\n",
    "\n",
    "def count_tokens(text):\n",
    "    # your code here\n",
    "    text = nlp(text)\n",
    "    return len(text)\n",
    "    \n",
    "# Create a function to remove stop words from text\n",
    "    \n",
    "def remove_stopwords(text):\n",
    "    # your code here\n",
    "    spacy_stopwords = spacy.lang.en.stop_words.STOP_WORDS\n",
    "    text = nlp(text)\n",
    "    tokens = [token.text for token in doc if not token.is_stop]\n",
    "    return tokens\n",
    "\n",
    "df[\"TextNoPunct\"] = df['Text'].apply(remove_punctuation)"
   ]
  },
  {
   "cell_type": "code",
   "execution_count": 246,
   "id": "constant-shakespeare",
   "metadata": {
    "ExecuteTime": {
     "end_time": "2021-03-29T22:31:53.437500Z",
     "start_time": "2021-03-29T22:31:44.194518Z"
    }
   },
   "outputs": [],
   "source": [
    "# Put the number of tokens of each row in a new column\n",
    "df[\"n_tokens\"] = df['TextNoPunct'].apply(count_tokens)"
   ]
  },
  {
   "cell_type": "code",
   "execution_count": 247,
   "id": "saved-drama",
   "metadata": {
    "ExecuteTime": {
     "end_time": "2021-03-29T22:31:53.447357Z",
     "start_time": "2021-03-29T22:31:53.438403Z"
    }
   },
   "outputs": [
    {
     "data": {
      "text/html": [
       "<div>\n",
       "<style scoped>\n",
       "    .dataframe tbody tr th:only-of-type {\n",
       "        vertical-align: middle;\n",
       "    }\n",
       "\n",
       "    .dataframe tbody tr th {\n",
       "        vertical-align: top;\n",
       "    }\n",
       "\n",
       "    .dataframe thead th {\n",
       "        text-align: right;\n",
       "    }\n",
       "</style>\n",
       "<table border=\"1\" class=\"dataframe\">\n",
       "  <thead>\n",
       "    <tr style=\"text-align: right;\">\n",
       "      <th></th>\n",
       "      <th>Timestamp</th>\n",
       "      <th>Speaker</th>\n",
       "      <th>Text</th>\n",
       "      <th>Interval</th>\n",
       "      <th>TextNoPunct</th>\n",
       "      <th>n_tokens</th>\n",
       "    </tr>\n",
       "  </thead>\n",
       "  <tbody>\n",
       "    <tr>\n",
       "      <th>0</th>\n",
       "      <td>0</td>\n",
       "      <td>Joe Rogan</td>\n",
       "      <td>Ah, ha, ha, ha. Four, three, two, one, boom. T...</td>\n",
       "      <td>9.0</td>\n",
       "      <td>Ah ha ha ha Four three two one boom Thank you ...</td>\n",
       "      <td>19</td>\n",
       "    </tr>\n",
       "    <tr>\n",
       "      <th>1</th>\n",
       "      <td>9</td>\n",
       "      <td>Elon Musk</td>\n",
       "      <td>You're welcome.</td>\n",
       "      <td>1.0</td>\n",
       "      <td>Youre welcome</td>\n",
       "      <td>3</td>\n",
       "    </tr>\n",
       "    <tr>\n",
       "      <th>2</th>\n",
       "      <td>10</td>\n",
       "      <td>Joe Rogan</td>\n",
       "      <td>It's very good to meet you.</td>\n",
       "      <td>1.0</td>\n",
       "      <td>Its very good to meet you</td>\n",
       "      <td>6</td>\n",
       "    </tr>\n",
       "    <tr>\n",
       "      <th>3</th>\n",
       "      <td>11</td>\n",
       "      <td>Elon Musk</td>\n",
       "      <td>Nice to meet you too.</td>\n",
       "      <td>1.0</td>\n",
       "      <td>Nice to meet you too</td>\n",
       "      <td>5</td>\n",
       "    </tr>\n",
       "    <tr>\n",
       "      <th>4</th>\n",
       "      <td>12</td>\n",
       "      <td>Joe Rogan</td>\n",
       "      <td>And thanks for not lighting this place on fire.</td>\n",
       "      <td>1.0</td>\n",
       "      <td>And thanks for not lighting this place on fire</td>\n",
       "      <td>9</td>\n",
       "    </tr>\n",
       "    <tr>\n",
       "      <th>...</th>\n",
       "      <td>...</td>\n",
       "      <td>...</td>\n",
       "      <td>...</td>\n",
       "      <td>...</td>\n",
       "      <td>...</td>\n",
       "      <td>...</td>\n",
       "    </tr>\n",
       "    <tr>\n",
       "      <th>1826</th>\n",
       "      <td>9401</td>\n",
       "      <td>Joe Rogan</td>\n",
       "      <td>I believe it's true too. So, thank you.</td>\n",
       "      <td>2.0</td>\n",
       "      <td>I believe its true too So thank you</td>\n",
       "      <td>8</td>\n",
       "    </tr>\n",
       "    <tr>\n",
       "      <th>1827</th>\n",
       "      <td>9403</td>\n",
       "      <td>Elon Musk</td>\n",
       "      <td>You're welcome.</td>\n",
       "      <td>1.0</td>\n",
       "      <td>Youre welcome</td>\n",
       "      <td>3</td>\n",
       "    </tr>\n",
       "    <tr>\n",
       "      <th>1828</th>\n",
       "      <td>9404</td>\n",
       "      <td>Joe Rogan</td>\n",
       "      <td>All you assholes out there, be nice. Be nice, ...</td>\n",
       "      <td>6.0</td>\n",
       "      <td>All you assholes out there be nice Be nice bit...</td>\n",
       "      <td>18</td>\n",
       "    </tr>\n",
       "    <tr>\n",
       "      <th>1829</th>\n",
       "      <td>9410</td>\n",
       "      <td>Elon Musk</td>\n",
       "      <td>All right, thank you.</td>\n",
       "      <td>1.0</td>\n",
       "      <td>All right thank you</td>\n",
       "      <td>4</td>\n",
       "    </tr>\n",
       "    <tr>\n",
       "      <th>1830</th>\n",
       "      <td>9410</td>\n",
       "      <td>Joe Rogan</td>\n",
       "      <td>Good night, everybody. END OF TRANSCRIPTAutoma...</td>\n",
       "      <td>1.0</td>\n",
       "      <td>Good night everybody END OF TRANSCRIPTAutomate...</td>\n",
       "      <td>18</td>\n",
       "    </tr>\n",
       "  </tbody>\n",
       "</table>\n",
       "<p>1831 rows × 6 columns</p>\n",
       "</div>"
      ],
      "text/plain": [
       "      Timestamp    Speaker                                               Text  \\\n",
       "0             0  Joe Rogan  Ah, ha, ha, ha. Four, three, two, one, boom. T...   \n",
       "1             9  Elon Musk                                    You're welcome.   \n",
       "2            10  Joe Rogan                        It's very good to meet you.   \n",
       "3            11  Elon Musk                              Nice to meet you too.   \n",
       "4            12  Joe Rogan    And thanks for not lighting this place on fire.   \n",
       "...         ...        ...                                                ...   \n",
       "1826       9401  Joe Rogan            I believe it's true too. So, thank you.   \n",
       "1827       9403  Elon Musk                                    You're welcome.   \n",
       "1828       9404  Joe Rogan  All you assholes out there, be nice. Be nice, ...   \n",
       "1829       9410  Elon Musk                              All right, thank you.   \n",
       "1830       9410  Joe Rogan  Good night, everybody. END OF TRANSCRIPTAutoma...   \n",
       "\n",
       "      Interval                                        TextNoPunct  n_tokens  \n",
       "0          9.0  Ah ha ha ha Four three two one boom Thank you ...        19  \n",
       "1          1.0                                      Youre welcome         3  \n",
       "2          1.0                          Its very good to meet you         6  \n",
       "3          1.0                               Nice to meet you too         5  \n",
       "4          1.0     And thanks for not lighting this place on fire         9  \n",
       "...        ...                                                ...       ...  \n",
       "1826       2.0                I believe its true too So thank you         8  \n",
       "1827       1.0                                      Youre welcome         3  \n",
       "1828       6.0  All you assholes out there be nice Be nice bit...        18  \n",
       "1829       1.0                                All right thank you         4  \n",
       "1830       1.0  Good night everybody END OF TRANSCRIPTAutomate...        18  \n",
       "\n",
       "[1831 rows x 6 columns]"
      ]
     },
     "execution_count": 247,
     "metadata": {},
     "output_type": "execute_result"
    }
   ],
   "source": [
    "df"
   ]
  },
  {
   "cell_type": "code",
   "execution_count": 248,
   "id": "daily-newton",
   "metadata": {
    "ExecuteTime": {
     "end_time": "2021-03-29T22:31:53.450694Z",
     "start_time": "2021-03-29T22:31:53.448360Z"
    }
   },
   "outputs": [],
   "source": [
    "# Compute the velocity and store it in a new column\n",
    "\n",
    "df[\"Velocity\"] = df['n_tokens'] // df['Interval']"
   ]
  },
  {
   "cell_type": "code",
   "execution_count": 249,
   "id": "worthy-tanzania",
   "metadata": {
    "scrolled": true
   },
   "outputs": [
    {
     "data": {
      "text/html": [
       "<div>\n",
       "<style scoped>\n",
       "    .dataframe tbody tr th:only-of-type {\n",
       "        vertical-align: middle;\n",
       "    }\n",
       "\n",
       "    .dataframe tbody tr th {\n",
       "        vertical-align: top;\n",
       "    }\n",
       "\n",
       "    .dataframe thead th {\n",
       "        text-align: right;\n",
       "    }\n",
       "</style>\n",
       "<table border=\"1\" class=\"dataframe\">\n",
       "  <thead>\n",
       "    <tr style=\"text-align: right;\">\n",
       "      <th></th>\n",
       "      <th>Timestamp</th>\n",
       "      <th>Speaker</th>\n",
       "      <th>Text</th>\n",
       "      <th>Interval</th>\n",
       "      <th>TextNoPunct</th>\n",
       "      <th>n_tokens</th>\n",
       "      <th>Velocity</th>\n",
       "    </tr>\n",
       "  </thead>\n",
       "  <tbody>\n",
       "    <tr>\n",
       "      <th>0</th>\n",
       "      <td>0</td>\n",
       "      <td>Joe Rogan</td>\n",
       "      <td>Ah, ha, ha, ha. Four, three, two, one, boom. T...</td>\n",
       "      <td>9.0</td>\n",
       "      <td>Ah ha ha ha Four three two one boom Thank you ...</td>\n",
       "      <td>19</td>\n",
       "      <td>2.0</td>\n",
       "    </tr>\n",
       "    <tr>\n",
       "      <th>1</th>\n",
       "      <td>9</td>\n",
       "      <td>Elon Musk</td>\n",
       "      <td>You're welcome.</td>\n",
       "      <td>1.0</td>\n",
       "      <td>Youre welcome</td>\n",
       "      <td>3</td>\n",
       "      <td>3.0</td>\n",
       "    </tr>\n",
       "    <tr>\n",
       "      <th>2</th>\n",
       "      <td>10</td>\n",
       "      <td>Joe Rogan</td>\n",
       "      <td>It's very good to meet you.</td>\n",
       "      <td>1.0</td>\n",
       "      <td>Its very good to meet you</td>\n",
       "      <td>6</td>\n",
       "      <td>6.0</td>\n",
       "    </tr>\n",
       "    <tr>\n",
       "      <th>3</th>\n",
       "      <td>11</td>\n",
       "      <td>Elon Musk</td>\n",
       "      <td>Nice to meet you too.</td>\n",
       "      <td>1.0</td>\n",
       "      <td>Nice to meet you too</td>\n",
       "      <td>5</td>\n",
       "      <td>5.0</td>\n",
       "    </tr>\n",
       "    <tr>\n",
       "      <th>4</th>\n",
       "      <td>12</td>\n",
       "      <td>Joe Rogan</td>\n",
       "      <td>And thanks for not lighting this place on fire.</td>\n",
       "      <td>1.0</td>\n",
       "      <td>And thanks for not lighting this place on fire</td>\n",
       "      <td>9</td>\n",
       "      <td>9.0</td>\n",
       "    </tr>\n",
       "    <tr>\n",
       "      <th>...</th>\n",
       "      <td>...</td>\n",
       "      <td>...</td>\n",
       "      <td>...</td>\n",
       "      <td>...</td>\n",
       "      <td>...</td>\n",
       "      <td>...</td>\n",
       "      <td>...</td>\n",
       "    </tr>\n",
       "    <tr>\n",
       "      <th>1826</th>\n",
       "      <td>9401</td>\n",
       "      <td>Joe Rogan</td>\n",
       "      <td>I believe it's true too. So, thank you.</td>\n",
       "      <td>2.0</td>\n",
       "      <td>I believe its true too So thank you</td>\n",
       "      <td>8</td>\n",
       "      <td>4.0</td>\n",
       "    </tr>\n",
       "    <tr>\n",
       "      <th>1827</th>\n",
       "      <td>9403</td>\n",
       "      <td>Elon Musk</td>\n",
       "      <td>You're welcome.</td>\n",
       "      <td>1.0</td>\n",
       "      <td>Youre welcome</td>\n",
       "      <td>3</td>\n",
       "      <td>3.0</td>\n",
       "    </tr>\n",
       "    <tr>\n",
       "      <th>1828</th>\n",
       "      <td>9404</td>\n",
       "      <td>Joe Rogan</td>\n",
       "      <td>All you assholes out there, be nice. Be nice, ...</td>\n",
       "      <td>6.0</td>\n",
       "      <td>All you assholes out there be nice Be nice bit...</td>\n",
       "      <td>18</td>\n",
       "      <td>3.0</td>\n",
       "    </tr>\n",
       "    <tr>\n",
       "      <th>1829</th>\n",
       "      <td>9410</td>\n",
       "      <td>Elon Musk</td>\n",
       "      <td>All right, thank you.</td>\n",
       "      <td>1.0</td>\n",
       "      <td>All right thank you</td>\n",
       "      <td>4</td>\n",
       "      <td>4.0</td>\n",
       "    </tr>\n",
       "    <tr>\n",
       "      <th>1830</th>\n",
       "      <td>9410</td>\n",
       "      <td>Joe Rogan</td>\n",
       "      <td>Good night, everybody. END OF TRANSCRIPTAutoma...</td>\n",
       "      <td>1.0</td>\n",
       "      <td>Good night everybody END OF TRANSCRIPTAutomate...</td>\n",
       "      <td>18</td>\n",
       "      <td>18.0</td>\n",
       "    </tr>\n",
       "  </tbody>\n",
       "</table>\n",
       "<p>1831 rows × 7 columns</p>\n",
       "</div>"
      ],
      "text/plain": [
       "      Timestamp    Speaker                                               Text  \\\n",
       "0             0  Joe Rogan  Ah, ha, ha, ha. Four, three, two, one, boom. T...   \n",
       "1             9  Elon Musk                                    You're welcome.   \n",
       "2            10  Joe Rogan                        It's very good to meet you.   \n",
       "3            11  Elon Musk                              Nice to meet you too.   \n",
       "4            12  Joe Rogan    And thanks for not lighting this place on fire.   \n",
       "...         ...        ...                                                ...   \n",
       "1826       9401  Joe Rogan            I believe it's true too. So, thank you.   \n",
       "1827       9403  Elon Musk                                    You're welcome.   \n",
       "1828       9404  Joe Rogan  All you assholes out there, be nice. Be nice, ...   \n",
       "1829       9410  Elon Musk                              All right, thank you.   \n",
       "1830       9410  Joe Rogan  Good night, everybody. END OF TRANSCRIPTAutoma...   \n",
       "\n",
       "      Interval                                        TextNoPunct  n_tokens  \\\n",
       "0          9.0  Ah ha ha ha Four three two one boom Thank you ...        19   \n",
       "1          1.0                                      Youre welcome         3   \n",
       "2          1.0                          Its very good to meet you         6   \n",
       "3          1.0                               Nice to meet you too         5   \n",
       "4          1.0     And thanks for not lighting this place on fire         9   \n",
       "...        ...                                                ...       ...   \n",
       "1826       2.0                I believe its true too So thank you         8   \n",
       "1827       1.0                                      Youre welcome         3   \n",
       "1828       6.0  All you assholes out there be nice Be nice bit...        18   \n",
       "1829       1.0                                All right thank you         4   \n",
       "1830       1.0  Good night everybody END OF TRANSCRIPTAutomate...        18   \n",
       "\n",
       "      Velocity  \n",
       "0          2.0  \n",
       "1          3.0  \n",
       "2          6.0  \n",
       "3          5.0  \n",
       "4          9.0  \n",
       "...        ...  \n",
       "1826       4.0  \n",
       "1827       3.0  \n",
       "1828       3.0  \n",
       "1829       4.0  \n",
       "1830      18.0  \n",
       "\n",
       "[1831 rows x 7 columns]"
      ]
     },
     "execution_count": 249,
     "metadata": {},
     "output_type": "execute_result"
    }
   ],
   "source": [
    "df"
   ]
  },
  {
   "cell_type": "code",
   "execution_count": 250,
   "id": "explicit-climb",
   "metadata": {
    "ExecuteTime": {
     "end_time": "2021-03-29T22:31:53.466751Z",
     "start_time": "2021-03-29T22:31:53.462928Z"
    }
   },
   "outputs": [
    {
     "name": "stdout",
     "output_type": "stream",
     "text": [
      "Speaker:\n",
      "Elon Musk:\t 2.611661166116612\n",
      "Jaime \t3.2941176470588234\n",
      "Joe Rogan\t 2.7569060773480665\n"
     ]
    }
   ],
   "source": [
    "# Inspect the avg velocity of each speaker\n",
    "\n",
    "jr =df.loc[df['Speaker'] == 'Joe Rogan']['Velocity'].mean()\n",
    "em = df.loc[df['Speaker'] == 'Elon Musk']['Velocity'].mean()\n",
    "ja = df.loc[df['Speaker'] == 'Jaime']['Velocity'].mean()\n",
    "\n",
    "print(f'Speaker:\\nElon Musk:\\t {em}\\nJaime \\t{ja}\\nJoe Rogan\\t {jr}')"
   ]
  },
  {
   "cell_type": "markdown",
   "id": "structured-asian",
   "metadata": {},
   "source": [
    "After all, Elon was high...\n",
    "\n",
    "![image](https://bsmedia.business-standard.com/_media/bs/img/article/2018-09/09/full/1536463138-6668.jpg)"
   ]
  },
  {
   "cell_type": "code",
   "execution_count": 251,
   "id": "green-samba",
   "metadata": {},
   "outputs": [],
   "source": [
    "# "
   ]
  }
 ],
 "metadata": {
  "kernelspec": {
   "display_name": "Python 3",
   "language": "python",
   "name": "python3"
  },
  "language_info": {
   "codemirror_mode": {
    "name": "ipython",
    "version": 3
   },
   "file_extension": ".py",
   "mimetype": "text/x-python",
   "name": "python",
   "nbconvert_exporter": "python",
   "pygments_lexer": "ipython3",
   "version": "3.8.8"
  },
  "varInspector": {
   "cols": {
    "lenName": 16,
    "lenType": 16,
    "lenVar": 40
   },
   "kernels_config": {
    "python": {
     "delete_cmd_postfix": "",
     "delete_cmd_prefix": "del ",
     "library": "var_list.py",
     "varRefreshCmd": "print(var_dic_list())"
    },
    "r": {
     "delete_cmd_postfix": ") ",
     "delete_cmd_prefix": "rm(",
     "library": "var_list.r",
     "varRefreshCmd": "cat(var_dic_list()) "
    }
   },
   "types_to_exclude": [
    "module",
    "function",
    "builtin_function_or_method",
    "instance",
    "_Feature"
   ],
   "window_display": false
  }
 },
 "nbformat": 4,
 "nbformat_minor": 5
}

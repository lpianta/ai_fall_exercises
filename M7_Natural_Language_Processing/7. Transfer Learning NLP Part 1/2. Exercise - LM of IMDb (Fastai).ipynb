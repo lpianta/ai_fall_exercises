{
 "cells": [
  {
   "cell_type": "markdown",
   "metadata": {},
   "source": [
    "# Finetune a Langage Model with Fast.ai\n",
    "Notebook based on:\n",
    "- https://github.com/fastai/fastbook/blob/master/10_nlp.ipynb\n",
    "- https://github.com/fastai/course-nlp/blob/master/5-nn-imdb.ipynb\n",
    "\n",
    "Video:\n",
    "- https://www.youtube.com/watch?v=WjnwWeGjZcM (From 0:00 to 55:00)"
   ]
  },
  {
   "cell_type": "markdown",
   "metadata": {},
   "source": [
    "#### Get latest Fast.ai version (without installing the Pytorch dependency)"
   ]
  },
  {
   "cell_type": "code",
   "execution_count": 1,
   "metadata": {},
   "outputs": [
    {
     "name": "stdout",
     "output_type": "stream",
     "text": [
      "Defaulting to user installation because normal site-packages is not writeable\n",
      "Requirement already satisfied: fastai in /home/javi/.local/lib/python3.9/site-packages (2.3.0)\n",
      "Defaulting to user installation because normal site-packages is not writeable\n",
      "Requirement already satisfied: fastcore in /home/javi/.local/lib/python3.9/site-packages (1.3.19)\n"
     ]
    }
   ],
   "source": [
    "!pip install --upgrade --no-deps fastai\n",
    "!pip install --upgrade --no-deps fastcore"
   ]
  },
  {
   "cell_type": "markdown",
   "metadata": {},
   "source": [
    "#### Imports"
   ]
  },
  {
   "cell_type": "code",
   "execution_count": 1,
   "metadata": {},
   "outputs": [],
   "source": [
    "from fastai.text.all import * # We need fastai version 2 for this\n",
    "from pathlib import Path"
   ]
  },
  {
   "cell_type": "markdown",
   "metadata": {},
   "source": [
    "#### Check GPU usage"
   ]
  },
  {
   "cell_type": "code",
   "execution_count": 2,
   "metadata": {},
   "outputs": [
    {
     "name": "stdout",
     "output_type": "stream",
     "text": [
      "Using GPU: GeForce GTX 1080 Ti\n"
     ]
    }
   ],
   "source": [
    "if torch.cuda.is_available():\n",
    "    print(\"Using GPU:\", torch.cuda.get_device_name(0))\n",
    "else:\n",
    "    print(\"WARNING: Not GPU detected\")"
   ]
  },
  {
   "cell_type": "markdown",
   "metadata": {},
   "source": [
    "# Get data"
   ]
  },
  {
   "cell_type": "code",
   "execution_count": 3,
   "metadata": {},
   "outputs": [],
   "source": [
    "CLOUD = False"
   ]
  },
  {
   "cell_type": "code",
   "execution_count": 4,
   "metadata": {},
   "outputs": [
    {
     "name": "stdout",
     "output_type": "stream",
     "text": [
      "Dataset is loacted at: ../../Datasets/NLP/IMBd\n"
     ]
    }
   ],
   "source": [
    "if CLOUD:\n",
    "    # Download the data from internet\n",
    "    # If you are using cloud platforms\n",
    "    # like Google Colab or Kaggle kernels\n",
    "    data_path = untar_data(URLs.IMDB)\n",
    "else:\n",
    "    # Point to the path where the data is\n",
    "    # located at your local machine\n",
    "    data_path = Path(\"../../Datasets/NLP/IMBd\")\n",
    "    \n",
    "print(\"Dataset is loacted at:\", data_path)"
   ]
  },
  {
   "cell_type": "code",
   "execution_count": 5,
   "metadata": {},
   "outputs": [
    {
     "name": "stdout",
     "output_type": "stream",
     "text": [
      "Train: 25000 reviews\n",
      "Test:  25000 reviews\n",
      "Unsup: 50000 reviews\n"
     ]
    }
   ],
   "source": [
    "print(\"Train:\", len(list( (data_path/\"train\").glob('**/*.txt') )), \"reviews\")\n",
    "print(\"Test: \", len(list( (data_path/\"test\").glob('**/*.txt')  )), \"reviews\")\n",
    "print(\"Unsup:\", len(list( (data_path/\"unsup\").glob('**/*.txt') )), \"reviews\")"
   ]
  },
  {
   "cell_type": "markdown",
   "metadata": {},
   "source": [
    "# Dataset"
   ]
  },
  {
   "cell_type": "code",
   "execution_count": 6,
   "metadata": {},
   "outputs": [
    {
     "data": {
      "text/plain": [
       "(#100000) [Path('../../Datasets/NLP/IMBd/test/pos/5249_9.txt'),Path('../../Datasets/NLP/IMBd/test/pos/10762_9.txt'),Path('../../Datasets/NLP/IMBd/test/pos/7600_8.txt'),Path('../../Datasets/NLP/IMBd/test/pos/8226_9.txt'),Path('../../Datasets/NLP/IMBd/test/pos/6211_8.txt'),Path('../../Datasets/NLP/IMBd/test/pos/3056_9.txt'),Path('../../Datasets/NLP/IMBd/test/pos/20_9.txt'),Path('../../Datasets/NLP/IMBd/test/pos/1368_8.txt'),Path('../../Datasets/NLP/IMBd/test/pos/4866_7.txt'),Path('../../Datasets/NLP/IMBd/test/pos/3370_7.txt')...]"
      ]
     },
     "execution_count": 6,
     "metadata": {},
     "output_type": "execute_result"
    }
   ],
   "source": [
    "files = get_text_files(data_path, folders = ['train', 'test', 'unsup'])\n",
    "files"
   ]
  },
  {
   "cell_type": "code",
   "execution_count": 7,
   "metadata": {},
   "outputs": [
    {
     "data": {
      "text/plain": [
       "'This is an extraordinary film musically. It made me feel awful that Rodrigu'"
      ]
     },
     "execution_count": 7,
     "metadata": {},
     "output_type": "execute_result"
    }
   ],
   "source": [
    "txt = files[0].open().read()\n",
    "txt[:75]"
   ]
  },
  {
   "cell_type": "markdown",
   "metadata": {},
   "source": [
    "## Dataloader\n",
    "\n",
    "At every epoch:\n",
    "\n",
    "1. **Shuffle** (sort randomly) our collection of texts.\n",
    "2. **Concatenate** the individual texts together into a big stream. \n",
    "3. **Cut** this stream into a certain number of batches (which is our batch size).\n",
    "   - For instance, if the stream has 50,000 tokens and we set a batch size of 10, this will give us 10 mini-streams of 5,000 tokens.\n",
    "   \n",
    "So to recap, at every epoch we shuffle our collection of documents and concatenate them into a stream of tokens. We then cut that stream into a batch of fixed-size consecutive mini-streams. Our model will then read the mini-streams in order, and thanks to an inner state, it will produce the same activation whatever sequence length we picked."
   ]
  },
  {
   "cell_type": "markdown",
   "metadata": {},
   "source": [
    "- takes 5 mins for tokenization in Kaggle\n",
    "- takes 1 mins for tokenization in local machine"
   ]
  },
  {
   "cell_type": "code",
   "execution_count": 15,
   "metadata": {},
   "outputs": [],
   "source": [
    "get_imdb = partial(get_text_files, folders=['train', 'test', 'unsup'])\n",
    "\n",
    "imdb_dls_lm = DataBlock(\n",
    "    blocks    = TextBlock.from_folder(data_path, is_lm=True),\n",
    "    get_items = get_imdb,\n",
    "    splitter  = RandomSplitter(0.1)\n",
    ").dataloaders(data_path, path=data_path, bs=128, seq_len=80)"
   ]
  },
  {
   "cell_type": "code",
   "execution_count": 16,
   "metadata": {},
   "outputs": [
    {
     "data": {
      "text/html": [
       "<table border=\"1\" class=\"dataframe\">\n",
       "  <thead>\n",
       "    <tr style=\"text-align: right;\">\n",
       "      <th></th>\n",
       "      <th>text</th>\n",
       "      <th>text_</th>\n",
       "    </tr>\n",
       "  </thead>\n",
       "  <tbody>\n",
       "    <tr>\n",
       "      <th>0</th>\n",
       "      <td>xxbos i was true to my regard for xxmaj mr . xxmaj glover and xxmaj ms . xxmaj goldberg . i watched the entire film with my family and some friends . i have no idea what the movie was about . xxmaj after much discussion , we all agreed that this was not one of their better efforts . \\n\\n xxmaj it does n't hang together very well . xxmaj it is too choppy , and there is little</td>\n",
       "      <td>i was true to my regard for xxmaj mr . xxmaj glover and xxmaj ms . xxmaj goldberg . i watched the entire film with my family and some friends . i have no idea what the movie was about . xxmaj after much discussion , we all agreed that this was not one of their better efforts . \\n\\n xxmaj it does n't hang together very well . xxmaj it is too choppy , and there is little comedy</td>\n",
       "    </tr>\n",
       "    <tr>\n",
       "      <th>1</th>\n",
       "      <td>to the second question ; what is with all the personal objects ( mobile phones , cars , clothes ) of the dead people ? xxmaj using their third brother as a connection with the exterior , it 's pretty much arguable that the xxmaj sinclair twins should obtain the money necessary to buy the wax , in a wwii - type fashion . \\n\\n xxmaj so , that aside , i think the movie deserves a lot more than</td>\n",
       "      <td>the second question ; what is with all the personal objects ( mobile phones , cars , clothes ) of the dead people ? xxmaj using their third brother as a connection with the exterior , it 's pretty much arguable that the xxmaj sinclair twins should obtain the money necessary to buy the wax , in a wwii - type fashion . \\n\\n xxmaj so , that aside , i think the movie deserves a lot more than it</td>\n",
       "    </tr>\n",
       "  </tbody>\n",
       "</table>"
      ],
      "text/plain": [
       "<IPython.core.display.HTML object>"
      ]
     },
     "metadata": {},
     "output_type": "display_data"
    }
   ],
   "source": [
    "imdb_dls_lm.show_batch(max_n=2)"
   ]
  },
  {
   "cell_type": "code",
   "execution_count": 17,
   "metadata": {},
   "outputs": [
    {
     "name": "stdout",
     "output_type": "stream",
     "text": [
      "['xxunk', 'xxpad', 'xxbos', 'xxeos', 'xxfld', 'xxrep', 'xxwrep', 'xxup', 'xxmaj', 'the', '.', ',', 'and', 'a', 'of', 'to', 'is', 'it', 'in', 'i', 'this', 'that', '\"', \"'s\", '-', 'was', '\\n\\n', 'as', 'with', 'for', 'movie', 'but', 'film', 'you', ')', 'on', \"n't\", '(', 'not', 'are', 'he', 'his', 'have', 'be', 'one', 'all', 'at', 'they', 'by', 'an', 'who', 'from', 'so', 'like', '!', 'there', 'or', 'just', 'her', 'do', 'about', 'has', 'out', \"'\", 'if', 'what', 'some', '?', 'good', 'when', 'more', 'very', 'she', 'up', 'would', 'no', '…', 'time', 'even', 'my', 'can', 'their', 'which', 'only', 'story', 'really', 'see', 'had', 'were', 'did', 'me', 'well', 'we', 'does', 'than', 'much', ':', 'could', 'bad', 'get']\n"
     ]
    }
   ],
   "source": [
    "print(imdb_dls_lm.vocab[:100])"
   ]
  },
  {
   "cell_type": "code",
   "execution_count": 18,
   "metadata": {},
   "outputs": [
    {
     "data": {
      "text/plain": [
       "60008"
      ]
     },
     "execution_count": 18,
     "metadata": {},
     "output_type": "execute_result"
    }
   ],
   "source": [
    "len(imdb_dls_lm.vocab)"
   ]
  },
  {
   "cell_type": "markdown",
   "metadata": {},
   "source": [
    "# Create the Fastai learner (dataloader + model + loss)"
   ]
  },
  {
   "cell_type": "code",
   "execution_count": 19,
   "metadata": {},
   "outputs": [],
   "source": [
    "learn = language_model_learner(\n",
    "    dls       = imdb_dls_lm,\n",
    "    arch      = AWD_LSTM,\n",
    "    drop_mult = 0.3, \n",
    "    metrics   = [accuracy, Perplexity()],\n",
    "    cbs       = [ShowGraphCallback]\n",
    ").to_fp16()"
   ]
  },
  {
   "cell_type": "markdown",
   "metadata": {},
   "source": [
    "### Text Generation BEFORE FINETUNNNG WITH IMDB (Just for fun :D)"
   ]
  },
  {
   "cell_type": "code",
   "execution_count": 20,
   "metadata": {},
   "outputs": [
    {
     "data": {
      "text/html": [],
      "text/plain": [
       "<IPython.core.display.HTML object>"
      ]
     },
     "metadata": {},
     "output_type": "display_data"
    },
    {
     "data": {
      "text/html": [],
      "text/plain": [
       "<IPython.core.display.HTML object>"
      ]
     },
     "metadata": {},
     "output_type": "display_data"
    },
    {
     "data": {
      "text/html": [],
      "text/plain": [
       "<IPython.core.display.HTML object>"
      ]
     },
     "metadata": {},
     "output_type": "display_data"
    },
    {
     "data": {
      "text/html": [],
      "text/plain": [
       "<IPython.core.display.HTML object>"
      ]
     },
     "metadata": {},
     "output_type": "display_data"
    },
    {
     "data": {
      "text/html": [],
      "text/plain": [
       "<IPython.core.display.HTML object>"
      ]
     },
     "metadata": {},
     "output_type": "display_data"
    },
    {
     "name": "stdout",
     "output_type": "stream",
     "text": [
      "The American Civil War = of a Civil War , NATO - occupied , NATO territory between France and Spain , Spain and Spain , was fought during the\n",
      "\n",
      "The Take Over ( Martin Luther King Award show ) 1963 , New York , New York , USA , bogs , TV , and TV ,\n",
      "\n",
      "The String Quartet Quartet ( 2007 – 08 ) = , also known as the Trio , is a small orchestral concert series by Trio that includes the jazz - inspired works of Richard\n",
      "\n",
      "The Magnus Reloaded ( 2008 ) album = = = The Greatest Hits Vol . 2 ( 2009 ) . The Swedish Armed Forces and Swedish Forces Germany\n",
      "\n",
      "The Ford Blues = = a Blues Blues , formally named Ford Blues , was founded in 1951 . The Ford Club , the oldest \" folk club of Ford 's\n"
     ]
    }
   ],
   "source": [
    "TEXT        = \"The\"\n",
    "N_WORDS     = 40\n",
    "N_SENTENCES = 5\n",
    "\n",
    "preds = [learn.predict(TEXT, N_WORDS, temperature=0.75) for _ in range(N_SENTENCES)]\n",
    "\n",
    "print(\"\\n\\n\".join(preds))"
   ]
  },
  {
   "cell_type": "markdown",
   "metadata": {},
   "source": [
    "## Fine-Tuning the Language Model with IMDB\n",
    "- This takes 24:46 mins on GTX 1080ti 11GB\n",
    "- This takes 27:48 mins on Tesla P100 16GB (Kaggle GPU)\n",
    "- This takes ~22mins mins on Tesla T4 (Colab GPU)\n",
    "- This takes >30mins mins on Tesla K80 (Colab GPU)"
   ]
  },
  {
   "cell_type": "code",
   "execution_count": 21,
   "metadata": {},
   "outputs": [
    {
     "data": {
      "text/html": [
       "<table border=\"1\" class=\"dataframe\">\n",
       "  <thead>\n",
       "    <tr style=\"text-align: left;\">\n",
       "      <th>epoch</th>\n",
       "      <th>train_loss</th>\n",
       "      <th>valid_loss</th>\n",
       "      <th>accuracy</th>\n",
       "      <th>perplexity</th>\n",
       "      <th>time</th>\n",
       "    </tr>\n",
       "  </thead>\n",
       "  <tbody>\n",
       "    <tr>\n",
       "      <td>0</td>\n",
       "      <td>4.016691</td>\n",
       "      <td>3.910882</td>\n",
       "      <td>0.299828</td>\n",
       "      <td>49.942993</td>\n",
       "      <td>24:46</td>\n",
       "    </tr>\n",
       "  </tbody>\n",
       "</table>"
      ],
      "text/plain": [
       "<IPython.core.display.HTML object>"
      ]
     },
     "metadata": {},
     "output_type": "display_data"
    },
    {
     "data": {
      "image/png": "[encoded data removed]",
      "text/plain": [
       "<Figure size 432x288 with 1 Axes>"
      ]
     },
     "metadata": {},
     "output_type": "display_data"
    }
   ],
   "source": [
    "learn.fit_one_cycle(1, 2e-2)"
   ]
  },
  {
   "cell_type": "markdown",
   "metadata": {},
   "source": [
    "### Saving and Loading Models\n",
    "You can easily save the state of your model like so:"
   ]
  },
  {
   "cell_type": "code",
   "execution_count": 23,
   "metadata": {},
   "outputs": [],
   "source": [
    "learn.save('IMDb_LM_1epoch_frozen')"
   ]
  },
  {
   "cell_type": "code",
   "execution_count": 15,
   "metadata": {},
   "outputs": [
    {
     "data": {
      "text/plain": [
       "Path('../../Datasets/NLP/IMBd')"
      ]
     },
     "execution_count": 15,
     "metadata": {},
     "output_type": "execute_result"
    }
   ],
   "source": [
    "learn.path"
   ]
  },
  {
   "cell_type": "markdown",
   "metadata": {},
   "source": [
    "This will create a file in `learn.path/models/` named *IMDb_LM_1epoch_frozen.pth*. If you want to load your model in another machine after creating your `Learner` the same way, or resume training later, you can load the content of this file with:"
   ]
  },
  {
   "cell_type": "code",
   "execution_count": null,
   "metadata": {},
   "outputs": [],
   "source": [
    "learn = learn.load('IMDb_LM_1epoch_frozen')"
   ]
  },
  {
   "cell_type": "markdown",
   "metadata": {},
   "source": [
    "Once the initial training has completed, we can continue fine-tuning the model after unfreezing:"
   ]
  },
  {
   "cell_type": "code",
   "execution_count": null,
   "metadata": {},
   "outputs": [],
   "source": [
    "learn.unfreeze()\n",
    "learn.fit_one_cycle(10, 2e-3)"
   ]
  },
  {
   "cell_type": "markdown",
   "metadata": {},
   "source": [
    "Once this is done, we save all of our model except the final layer that converts activations to probabilities of picking each token in our vocabulary. The model not including the final layer is called the *encoder*. We can save it with `save_encoder`:"
   ]
  },
  {
   "cell_type": "code",
   "execution_count": null,
   "metadata": {},
   "outputs": [],
   "source": [
    "learn.save_encoder('finetuned_IMDb_LM')"
   ]
  },
  {
   "cell_type": "markdown",
   "metadata": {},
   "source": [
    "> jargon: Encoder: The model not including the task-specific final layer(s). This term means much the same thing as _body_ when applied to vision CNNs, but \"encoder\" tends to be more used for NLP and generative models.\n",
    "\n",
    "This completes the second stage of the text classification process: fine-tuning the language model. We can now use it to fine-tune a classifier using the IMDb sentiment labels."
   ]
  },
  {
   "cell_type": "markdown",
   "metadata": {},
   "source": [
    "### Text Generation AFTER FINETUNNNG WITH IMDB (Just for fun :D)\n",
    "Before we move on to fine-tuning the classifier, let's quickly try something different: using our model to generate random reviews. Since it's trained to guess what the next word of the sentence is, we can use the model to write new reviews:"
   ]
  },
  {
   "cell_type": "code",
   "execution_count": null,
   "metadata": {},
   "outputs": [],
   "source": [
    "TEXT        = \"The\"\n",
    "N_WORDS     = 40\n",
    "N_SENTENCES = 5\n",
    "\n",
    "preds = [learn.predict(TEXT, N_WORDS, temperature=0.75) for _ in range(N_SENTENCES)]\n",
    "\n",
    "print(\"\\n\\n\".join(preds))"
   ]
  },
  {
   "cell_type": "code",
   "execution_count": 13,
   "metadata": {},
   "outputs": [
    {
     "data": {
      "text/html": [],
      "text/plain": [
       "<IPython.core.display.HTML object>"
      ]
     },
     "metadata": {},
     "output_type": "display_data"
    },
    {
     "data": {
      "text/html": [],
      "text/plain": [
       "<IPython.core.display.HTML object>"
      ]
     },
     "metadata": {},
     "output_type": "display_data"
    },
    {
     "data": {
      "text/html": [],
      "text/plain": [
       "<IPython.core.display.HTML object>"
      ]
     },
     "metadata": {},
     "output_type": "display_data"
    },
    {
     "data": {
      "text/html": [],
      "text/plain": [
       "<IPython.core.display.HTML object>"
      ]
     },
     "metadata": {},
     "output_type": "display_data"
    },
    {
     "data": {
      "text/html": [],
      "text/plain": [
       "<IPython.core.display.HTML object>"
      ]
     },
     "metadata": {},
     "output_type": "display_data"
    },
    {
     "name": "stdout",
     "output_type": "stream",
     "text": [
      "i liked this movie because of its similarity to the Emmy Award - winning film , The Godfather . The film 's two main characters , Elliot ( Dennis Medal ) and Benjamin ( George\n",
      "\n",
      "i liked this movie because it was \" a small , funny , open - air show , \" and \" like a movie that 's really funny \" , Succinct noted : \" To what 's going on , i needed a\n",
      "\n",
      "i liked this movie because it was a \" huge film \" . Although he made a good deal of treehouse films , he did not like the idea that the movie was going to be a big success . In an interview\n",
      "\n",
      "i liked this movie because of the \" a [ sic ] well [ depicted ] story \" . The film received positive reviews from critics , who praised the production of the film as well as the acting , though Brian\n",
      "\n",
      "i liked this movie because it was a movie , and he took it on a \" detailed \" basis . He described the film as a \" tremendous steel video \" of a character he had \" never seen before \" .\n"
     ]
    }
   ],
   "source": [
    "TEXT        = \"I liked this movie because\"\n",
    "N_WORDS     = 40\n",
    "N_SENTENCES = 5\n",
    "\n",
    "preds = [learn.predict(TEXT, N_WORDS, temperature=0.75) for _ in range(N_SENTENCES)]\n",
    "\n",
    "print(\"\\n\\n\".join(preds))"
   ]
  },
  {
   "cell_type": "markdown",
   "metadata": {},
   "source": [
    "As you can see, we add some randomness (we pick a random word based on the probabilities returned by the model) so we don't get exactly the same review twice. Our model doesn't have any programmed knowledge of the structure of a sentence or grammar rules, yet it has clearly learned a lot about English sentences: we can see it capitalizes properly (*I* is just transformed to *i* because our rules require two characters or more to consider a word as capitalized, so it's normal to see it lowercased) and is using consistent tense. The general review makes sense at first glance, and it's only if you read carefully that you can notice something is a bit off. Not bad for a model trained in a couple of hours! \n",
    "\n",
    "But our end goal wasn't to train a model to generate reviews, but to classify them... so let's use this model to do just that."
   ]
  },
  {
   "cell_type": "markdown",
   "metadata": {},
   "source": [
    "# <center> END\n",
    "<center> We have fintuned the Language Model with the IMDb dataset.\n",
    "<center> The next step is using that model to train a classifier."
   ]
  }
 ],
 "metadata": {
  "kernelspec": {
   "display_name": "Python 3",
   "language": "python",
   "name": "python3"
  },
  "language_info": {
   "codemirror_mode": {
    "name": "ipython",
    "version": 3
   },
   "file_extension": ".py",
   "mimetype": "text/x-python",
   "name": "python",
   "nbconvert_exporter": "python",
   "pygments_lexer": "ipython3",
   "version": "3.9.2"
  }
 },
 "nbformat": 4,
 "nbformat_minor": 4
}
